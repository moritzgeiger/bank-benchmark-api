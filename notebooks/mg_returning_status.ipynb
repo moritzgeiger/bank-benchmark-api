{
 "cells": [
  {
   "cell_type": "markdown",
   "metadata": {},
   "source": [
    "# Imports"
   ]
  },
  {
   "cell_type": "code",
   "execution_count": 49,
   "metadata": {
    "ExecuteTime": {
     "end_time": "2021-04-05T06:45:55.758698Z",
     "start_time": "2021-04-05T06:45:55.748001Z"
    }
   },
   "outputs": [],
   "source": [
    "import pandas as pd\n",
    "import numpy as np\n",
    "import requests\n",
    "from PyPDF2 import PdfFileReader, PdfFileMerger, PdfFileWriter\n",
    "import PyPDF2\n",
    "from bs4 import BeautifulSoup\n",
    "import os\n",
    "import shutil\n",
    "from urllib.parse import urljoin\n",
    "from urllib.request import Request, urlopen\n",
    "from io import StringIO, BytesIO\n",
    "import cloudinary.uploader\n",
    "import json\n",
    "from datetime import date\n",
    "import sys"
   ]
  },
  {
   "cell_type": "markdown",
   "metadata": {},
   "source": [
    "# Testing own api"
   ]
  },
  {
   "cell_type": "code",
   "execution_count": 32,
   "metadata": {
    "ExecuteTime": {
     "end_time": "2021-04-05T06:34:48.591220Z",
     "start_time": "2021-04-05T06:34:48.585278Z"
    }
   },
   "outputs": [],
   "source": [
    "url = 'http://bank-price-api.herokuapp.com/'\n",
    "post = {\"1\":{\"url\":\"https://www.abanca.pt\", \n",
    "                    \"name\":\"ABANCA Corporación Bancaria, S.A.\", \n",
    "                    \"num_pdfs\":\"3\", \n",
    "                    \"last_updated\":\"210401\", \n",
    "                    \"sum_sizes\":\"40\", \n",
    "                    \"bp_bank_id\":\"0170\"}\n",
    "             ,\n",
    "              \"2\":{\"url\":\"https://www.bankinter.pt\", \n",
    "                    \"name\":\"Bankinter, S.A.\", \n",
    "                    \"num_pdfs\":\"3\", \n",
    "                    \"last_updated\":\"210401\", \n",
    "                    \"sum_sizes\":\"40\", \n",
    "                    \"bp_bank_id\":\"0269\"}\n",
    "              ,\n",
    "              \"3\":{\"url\":\"https://www.bancobic.ao\", \n",
    "                    \"name\":\"Banco BIC, SA\", \n",
    "                    \"num_pdfs\":\"3\", \n",
    "                    \"last_updated\":\"210401\", \n",
    "                    \"sum_sizes\":\"40\", \n",
    "                    \"bp_bank_id\":\"0079\"}\n",
    "              }\n"
   ]
  },
  {
   "cell_type": "code",
   "execution_count": 30,
   "metadata": {
    "ExecuteTime": {
     "end_time": "2021-04-05T06:34:32.973852Z",
     "start_time": "2021-04-05T06:34:32.966876Z"
    }
   },
   "outputs": [
    {
     "data": {
      "text/plain": [
       "{'1': {'url': 'https://www.abanca.pt',\n",
       "  'name': 'ABANCA Corporación Bancaria, S.A.',\n",
       "  'num_pdfs': '3',\n",
       "  'last_updated': '210401',\n",
       "  'sum_sizes': '40',\n",
       "  'bp_bank_id': '0170'},\n",
       " '2': {'url': 'https://www.bankinter.pt',\n",
       "  'name': 'Bankinter, S.A.',\n",
       "  'num_pdfs': '3',\n",
       "  'last_updated': '210401',\n",
       "  'sum_sizes': '40',\n",
       "  'bp_bank_id': '0269'}}"
      ]
     },
     "execution_count": 30,
     "metadata": {},
     "output_type": "execute_result"
    }
   ],
   "source": [
    "post"
   ]
  },
  {
   "cell_type": "code",
   "execution_count": 31,
   "metadata": {
    "ExecuteTime": {
     "end_time": "2021-04-05T06:34:34.368655Z",
     "start_time": "2021-04-05T06:34:34.242915Z"
    }
   },
   "outputs": [
    {
     "data": {
      "text/plain": [
       "<Response [405]>"
      ]
     },
     "execution_count": 31,
     "metadata": {},
     "output_type": "execute_result"
    }
   ],
   "source": [
    "r = requests.post(url, data=post)\n",
    "r"
   ]
  },
  {
   "cell_type": "code",
   "execution_count": 63,
   "metadata": {
    "ExecuteTime": {
     "end_time": "2021-04-05T06:51:47.484503Z",
     "start_time": "2021-04-05T06:51:47.469534Z"
    }
   },
   "outputs": [],
   "source": [
    "## expected result\n",
    "result = {\n",
    "    \"1\": {\n",
    "        \"bp_bank_id\": \"0170\",\n",
    "        \"bp_pdf_url\": \"https://clientebancario.bportugal.pt/sites/default/files/precario/0170_/0170_PRE.pdf\",\n",
    "        \"last_updated\": \"210401\",\n",
    "        \"list_pdfs\": [\n",
    "            \"https://www.abanca.pt/files/documents/precario-folheto-comissoes-823a7663.pdf\",\n",
    "            \"https://www.abanca.pt/files/documents/folheto-taxa-juro-precario-5890906f.pdf\",\n",
    "            \"https://www.abanca.pt/files/documents/precariodevaloresmobiliarios-23c714a2.pdf\",\n",
    "            \"https://www.abanca.pt/files/documents/glossario-6479e89f.pdf\",\n",
    "            \"https://www.abanca.pt/files/docs/leaflet-your-rights-payments-eu.pdf\"\n",
    "        ],\n",
    "        \"name\": \"ABANCA Corporación Bancaria, S.A.\",\n",
    "        \"num_pdfs\": 5,\n",
    "        \"price_page\": \"https://www.abanca.pt/pt/precario/\",\n",
    "        \"sum_sizes\": \"40\",\n",
    "        \"url\": \"https://www.abanca.pt\"\n",
    "    },\n",
    "    \"2\": {\n",
    "        \"bp_bank_id\": \"0269\",\n",
    "        \"bp_pdf_url\": \"https://clientebancario.bportugal.pt/sites/default/files/precario/0269_/0269_PRE.pdf\",\n",
    "        \"last_updated\": \"210401\",\n",
    "        \"list_pdfs\": [\n",
    "            \"https://www.bankinter.pt/documents/20182/115991/Pre%C3%A7%C3%A1rio+Completo+TFSI++20210401.pdf/c489f0cd-3831-4441-812e-f351741d2b22\",\n",
    "            \"https://banco.bankinter.pt/particulares/pdfs/precario/folha_rosto.pdf\",\n",
    "            \"https://banco.bankinter.pt/particulares/pdfs/precario/informacao_geral.pdf\",\n",
    "            \"https://banco.bankinter.pt/particulares/pdfs/precario/informacao_complementar.pdf\",\n",
    "            \"https://banco.bankinter.pt/particulares/pdfs/precario/p_fcd_contas_deposito.pdf\",\n",
    "            \"https://banco.bankinter.pt/particulares/pdfs/precario/p_fcd_operacoes_credito.pdf\",\n",
    "            \"https://banco.bankinter.pt/particulares/pdfs/precario/p_fcd_cartoes_credito_debito.pdf\",\n",
    "            \"https://banco.bankinter.pt/particulares/pdfs/precario/p_fcd_cheques.pdf\",\n",
    "            \"https://banco.bankinter.pt/particulares/pdfs/precario/p_fcd_transferencias.pdf\",\n",
    "            \"https://banco.bankinter.pt/particulares/pdfs/precario/p_fcd_cobrancas.pdf\",\n",
    "            \"https://banco.bankinter.pt/particulares/pdfs/precario/p_fcd_prestacao_servicos.pdf\",\n",
    "            \"https://banco.bankinter.pt/particulares/pdfs/precario/o_fcd_contas_deposito.pdf\",\n",
    "            \"https://banco.bankinter.pt/particulares/pdfs/precario/o_fcd_operacoes_credito.pdf\",\n",
    "            \"https://banco.bankinter.pt/particulares/pdfs/precario/o_fcd_cartoes_credito_debito.pdf\",\n",
    "            \"https://banco.bankinter.pt/particulares/pdfs/precario/o_fcd_cheques.pdf\",\n",
    "            \"https://banco.bankinter.pt/particulares/pdfs/precario/o_fcd_transferencias.pdf\",\n",
    "            \"https://banco.bankinter.pt/particulares/pdfs/precario/o_fcd_cobrancas.pdf\",\n",
    "            \"https://banco.bankinter.pt/particulares/pdfs/precario/o_fcd_prestacao_servicos.pdf\",\n",
    "            \"https://banco.bankinter.pt/particulares/pdfs/precario/o_fcd_operacoes_estrangeiro.pdf\",\n",
    "            \"https://banco.bankinter.pt/particulares/pdfs/precario/p_ftj_contas_deposito.pdf\",\n",
    "            \"https://banco.bankinter.pt/particulares/pdfs/precario/p_ftj_operacoes_credito.pdf\",\n",
    "            \"https://banco.bankinter.pt/particulares/pdfs/precario/o_ftj_contas_deposito.pdf\",\n",
    "            \"https://banco.bankinter.pt/particulares/pdfs/precario/o_ftj_operacoes_credito.pdf\",\n",
    "            \"https://banco.bankinter.pt/particulares/pdfs/precario/ptfs_a.pdf\",\n",
    "            \"https://banco.bankinter.pt/particulares/pdfs/precario/ptfs_b.pdf\",\n",
    "            \"https://banco.bankinter.pt/particulares/pdfs/precario/ptfs_c.pdf\",\n",
    "            \"https://banco.bankinter.pt/particulares/pdfs/precario/ptfs_d.pdf\"\n",
    "        ],\n",
    "        \"name\": \"Bankinter, S.A.\",\n",
    "        \"num_pdfs\": 27,\n",
    "        \"price_page\": \"https://www.bankinter.pt/precario1\",\n",
    "        \"sum_sizes\": \"40\",\n",
    "        \"url\": \"https://www.bankinter.pt\"\n",
    "    },\n",
    "    \"3\": {\n",
    "        \"bp_bank_id\": \"0079\",\n",
    "        \"bp_pdf_url\": \"https://clientebancario.bportugal.pt/sites/default/files/precario/0079_/0079_PRE.pdf\",\n",
    "        \"last_updated\": \"210401\",\n",
    "        \"list_pdfs\": [],\n",
    "        \"name\": \"Banco BIC, SA\",\n",
    "        \"num_pdfs\": 0,\n",
    "        \"price_page\": {\n",
    "            \"error\": \"page not reachable\"\n",
    "        },\n",
    "        \"sum_sizes\": \"40\",\n",
    "        \"url\": \"https://www.bancobic.ao\"\n",
    "    }\n",
    "}"
   ]
  },
  {
   "cell_type": "markdown",
   "metadata": {},
   "source": [
    "# last_updated return"
   ]
  },
  {
   "cell_type": "code",
   "execution_count": 34,
   "metadata": {
    "ExecuteTime": {
     "end_time": "2021-04-05T06:36:08.374275Z",
     "start_time": "2021-04-05T06:36:07.105818Z"
    }
   },
   "outputs": [],
   "source": [
    "pdf = \"https://banco.bankinter.pt/particulares/pdfs/precario/p_fcd_contas_deposito.pdf\"\n",
    "remoteFile = urlopen(Request(pdf)).read()"
   ]
  },
  {
   "cell_type": "code",
   "execution_count": 35,
   "metadata": {
    "ExecuteTime": {
     "end_time": "2021-04-05T06:36:38.094973Z",
     "start_time": "2021-04-05T06:36:38.090253Z"
    }
   },
   "outputs": [],
   "source": [
    "memoryFile = BytesIO(remoteFile)\n",
    "pdfFile = PdfFileReader(memoryFile)"
   ]
  },
  {
   "cell_type": "code",
   "execution_count": 39,
   "metadata": {
    "ExecuteTime": {
     "end_time": "2021-04-05T06:37:35.019075Z",
     "start_time": "2021-04-05T06:37:35.008989Z"
    }
   },
   "outputs": [
    {
     "name": "stderr",
     "output_type": "stream",
     "text": [
      "PdfReadWarning: Superfluous whitespace found in object header b'54' b'0' [pdf.py:1665]\n"
     ]
    },
    {
     "data": {
      "text/plain": [
       "{'/Author': 'BK10813',\n",
       " '/CreationDate': \"D:20210331170537+01'00'\",\n",
       " '/ModDate': \"D:20210331170537+01'00'\",\n",
       " '/Producer': 'Microsoft: Print To PDF',\n",
       " '/Title': '01. Contas de DepÃ³sito - FCD - Particulares - 20210401.pdf'}"
      ]
     },
     "execution_count": 39,
     "metadata": {},
     "output_type": "execute_result"
    }
   ],
   "source": [
    "pdfFile.getDocumentInfo()"
   ]
  },
  {
   "cell_type": "code",
   "execution_count": 61,
   "metadata": {
    "ExecuteTime": {
     "end_time": "2021-04-05T06:46:53.260808Z",
     "start_time": "2021-04-05T06:46:53.253384Z"
    }
   },
   "outputs": [
    {
     "data": {
      "text/plain": [
       "721022"
      ]
     },
     "execution_count": 61,
     "metadata": {},
     "output_type": "execute_result"
    }
   ],
   "source": [
    "sys.getsizeof(remoteFile)"
   ]
  },
  {
   "cell_type": "code",
   "execution_count": 67,
   "metadata": {
    "ExecuteTime": {
     "end_time": "2021-04-05T06:57:23.411508Z",
     "start_time": "2021-04-05T06:55:34.463446Z"
    }
   },
   "outputs": [
    {
     "name": "stdout",
     "output_type": "stream",
     "text": [
      "cannot reach: https://www.abanca.pt/files/documents/glossario-6479e89f.pdf\n"
     ]
    },
    {
     "name": "stderr",
     "output_type": "stream",
     "text": [
      "PdfReadWarning: Xref table not zero-indexed. ID numbers for objects will be corrected. [pdf.py:1736]\n"
     ]
    }
   ],
   "source": [
    "for bank_id, vals in result.items():\n",
    "    pdfs = vals.get('list_pdfs')\n",
    "    if pdfs == []:\n",
    "        break\n",
    "    else:\n",
    "        filesizes = []\n",
    "        for pdf in pdfs:\n",
    "            try:\n",
    "                remote = urlopen(Request(pdf)).read()\n",
    "                memory = BytesIO(remote)\n",
    "                file = PdfFileReader(memory)\n",
    "                filesizes.append(sys.getsizeof(memory))\n",
    "            except:\n",
    "                print(f'cannot reach: {pdf}')\n",
    "\n",
    "        vals['sum_sizes'] = sum(filesizes)\n"
   ]
  },
  {
   "cell_type": "code",
   "execution_count": 68,
   "metadata": {
    "ExecuteTime": {
     "end_time": "2021-04-05T07:00:53.899071Z",
     "start_time": "2021-04-05T07:00:53.888773Z"
    }
   },
   "outputs": [
    {
     "data": {
      "text/plain": [
       "{'1': {'bp_bank_id': '0170',\n",
       "  'bp_pdf_url': 'https://clientebancario.bportugal.pt/sites/default/files/precario/0170_/0170_PRE.pdf',\n",
       "  'last_updated': '210401',\n",
       "  'list_pdfs': ['https://www.abanca.pt/files/documents/precario-folheto-comissoes-823a7663.pdf',\n",
       "   'https://www.abanca.pt/files/documents/folheto-taxa-juro-precario-5890906f.pdf',\n",
       "   'https://www.abanca.pt/files/documents/precariodevaloresmobiliarios-23c714a2.pdf',\n",
       "   'https://www.abanca.pt/files/documents/glossario-6479e89f.pdf',\n",
       "   'https://www.abanca.pt/files/docs/leaflet-your-rights-payments-eu.pdf'],\n",
       "  'name': 'ABANCA Corporación Bancaria, S.A.',\n",
       "  'num_pdfs': 5,\n",
       "  'price_page': 'https://www.abanca.pt/pt/precario/',\n",
       "  'sum_sizes': 320,\n",
       "  'url': 'https://www.abanca.pt'},\n",
       " '2': {'bp_bank_id': '0269',\n",
       "  'bp_pdf_url': 'https://clientebancario.bportugal.pt/sites/default/files/precario/0269_/0269_PRE.pdf',\n",
       "  'last_updated': '210401',\n",
       "  'list_pdfs': ['https://www.bankinter.pt/documents/20182/115991/Pre%C3%A7%C3%A1rio+Completo+TFSI++20210401.pdf/c489f0cd-3831-4441-812e-f351741d2b22',\n",
       "   'https://banco.bankinter.pt/particulares/pdfs/precario/folha_rosto.pdf',\n",
       "   'https://banco.bankinter.pt/particulares/pdfs/precario/informacao_geral.pdf',\n",
       "   'https://banco.bankinter.pt/particulares/pdfs/precario/informacao_complementar.pdf',\n",
       "   'https://banco.bankinter.pt/particulares/pdfs/precario/p_fcd_contas_deposito.pdf',\n",
       "   'https://banco.bankinter.pt/particulares/pdfs/precario/p_fcd_operacoes_credito.pdf',\n",
       "   'https://banco.bankinter.pt/particulares/pdfs/precario/p_fcd_cartoes_credito_debito.pdf',\n",
       "   'https://banco.bankinter.pt/particulares/pdfs/precario/p_fcd_cheques.pdf',\n",
       "   'https://banco.bankinter.pt/particulares/pdfs/precario/p_fcd_transferencias.pdf',\n",
       "   'https://banco.bankinter.pt/particulares/pdfs/precario/p_fcd_cobrancas.pdf',\n",
       "   'https://banco.bankinter.pt/particulares/pdfs/precario/p_fcd_prestacao_servicos.pdf',\n",
       "   'https://banco.bankinter.pt/particulares/pdfs/precario/o_fcd_contas_deposito.pdf',\n",
       "   'https://banco.bankinter.pt/particulares/pdfs/precario/o_fcd_operacoes_credito.pdf',\n",
       "   'https://banco.bankinter.pt/particulares/pdfs/precario/o_fcd_cartoes_credito_debito.pdf',\n",
       "   'https://banco.bankinter.pt/particulares/pdfs/precario/o_fcd_cheques.pdf',\n",
       "   'https://banco.bankinter.pt/particulares/pdfs/precario/o_fcd_transferencias.pdf',\n",
       "   'https://banco.bankinter.pt/particulares/pdfs/precario/o_fcd_cobrancas.pdf',\n",
       "   'https://banco.bankinter.pt/particulares/pdfs/precario/o_fcd_prestacao_servicos.pdf',\n",
       "   'https://banco.bankinter.pt/particulares/pdfs/precario/o_fcd_operacoes_estrangeiro.pdf',\n",
       "   'https://banco.bankinter.pt/particulares/pdfs/precario/p_ftj_contas_deposito.pdf',\n",
       "   'https://banco.bankinter.pt/particulares/pdfs/precario/p_ftj_operacoes_credito.pdf',\n",
       "   'https://banco.bankinter.pt/particulares/pdfs/precario/o_ftj_contas_deposito.pdf',\n",
       "   'https://banco.bankinter.pt/particulares/pdfs/precario/o_ftj_operacoes_credito.pdf',\n",
       "   'https://banco.bankinter.pt/particulares/pdfs/precario/ptfs_a.pdf',\n",
       "   'https://banco.bankinter.pt/particulares/pdfs/precario/ptfs_b.pdf',\n",
       "   'https://banco.bankinter.pt/particulares/pdfs/precario/ptfs_c.pdf',\n",
       "   'https://banco.bankinter.pt/particulares/pdfs/precario/ptfs_d.pdf'],\n",
       "  'name': 'Bankinter, S.A.',\n",
       "  'num_pdfs': 27,\n",
       "  'price_page': 'https://www.bankinter.pt/precario1',\n",
       "  'sum_sizes': 2160,\n",
       "  'url': 'https://www.bankinter.pt'},\n",
       " '3': {'bp_bank_id': '0079',\n",
       "  'bp_pdf_url': 'https://clientebancario.bportugal.pt/sites/default/files/precario/0079_/0079_PRE.pdf',\n",
       "  'last_updated': '210401',\n",
       "  'list_pdfs': [],\n",
       "  'name': 'Banco BIC, SA',\n",
       "  'num_pdfs': 0,\n",
       "  'price_page': {'error': 'page not reachable'},\n",
       "  'sum_sizes': '40',\n",
       "  'url': 'https://www.bancobic.ao'}}"
      ]
     },
     "execution_count": 68,
     "metadata": {},
     "output_type": "execute_result"
    }
   ],
   "source": [
    "result"
   ]
  }
 ],
 "metadata": {
  "kernelspec": {
   "display_name": "Python 3",
   "language": "python",
   "name": "python3"
  },
  "language_info": {
   "codemirror_mode": {
    "name": "ipython",
    "version": 3
   },
   "file_extension": ".py",
   "mimetype": "text/x-python",
   "name": "python",
   "nbconvert_exporter": "python",
   "pygments_lexer": "ipython3",
   "version": "3.8.6"
  },
  "toc": {
   "base_numbering": 1,
   "nav_menu": {},
   "number_sections": true,
   "sideBar": true,
   "skip_h1_title": false,
   "title_cell": "Table of Contents",
   "title_sidebar": "Contents",
   "toc_cell": false,
   "toc_position": {},
   "toc_section_display": true,
   "toc_window_display": false
  }
 },
 "nbformat": 4,
 "nbformat_minor": 4
}
