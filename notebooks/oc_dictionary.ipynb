{
 "cells": [
  {
   "cell_type": "code",
   "execution_count": 1,
   "metadata": {},
   "outputs": [
    {
     "name": "stderr",
     "output_type": "stream",
     "text": [
      "/Users/olgacravesana/.pyenv/versions/3.8.6/envs/lewagon/lib/python3.8/site-packages/pandas/compat/__init__.py:97: UserWarning: Could not import the lzma module. Your installed Python is incomplete. Attempting to use lzma compression will result in a RuntimeError.\n",
      "  warnings.warn(msg)\n"
     ]
    }
   ],
   "source": [
    "import pandas as pd\n",
    "import numpy as np\n",
    "import pdfplumber\n",
    "import re\n",
    "import nltk"
   ]
  },
  {
   "cell_type": "markdown",
   "metadata": {},
   "source": [
    "# dictionary from excel file"
   ]
  },
  {
   "cell_type": "code",
   "execution_count": 2,
   "metadata": {},
   "outputs": [],
   "source": [
    "excell = pd.read_excel('PWC.xlsx', sheet_name = 'Resume' )"
   ]
  },
  {
   "cell_type": "code",
   "execution_count": 3,
   "metadata": {},
   "outputs": [],
   "source": [
    "# excell.head(59)"
   ]
  },
  {
   "cell_type": "code",
   "execution_count": 4,
   "metadata": {},
   "outputs": [],
   "source": [
    "# excell.iloc[28,:]"
   ]
  },
  {
   "cell_type": "code",
   "execution_count": 5,
   "metadata": {},
   "outputs": [],
   "source": [
    "commission = {'abanca': {'1':'Emissão de extrato','2':'Fotocópias de segundas vias de talões de depósito',\\\n",
    "                        '3': 'Manutenção de conta', '4': {'Levantamento de numerário':{'4.1':'Ao balcão, com apresentação de cheque',\\\n",
    "                                                                                      '4.2': 'Ao balcão, sem apresentação de cheque'},\\\n",
    "                                                         }, '5': 'Adesão ao serviço de banca à distância', '6':'Depósito de moedas metálicas',\\\n",
    "                        '7':'Alteração de titulares'}, \\\n",
    "              'ctt':{'1':'Extrato Integrado mensal', '2':'Consulta de Saldo de conta DO com comprovativo',\\\n",
    "                     '3':'Consulta de Movimentos de conta DO com comprovativo', '4': 'Emissão 2as Vias de Avisos e Outros Documentos',\\\n",
    "                     '5':'Alteração de titularidade'},\n",
    "              'bic':{'1':'Manutenção de conta','2':'Levantamento de numerário','3':'Levantamento USD em contas USD',\\\n",
    "                    '4': 'Extracto integrado','5':'Extracto avulso'}}"
   ]
  },
  {
   "cell_type": "markdown",
   "metadata": {},
   "source": [
    "# extract pdf"
   ]
  },
  {
   "cell_type": "code",
   "execution_count": 6,
   "metadata": {},
   "outputs": [],
   "source": [
    "def len_sentences(x):\n",
    "    if len(nltk.sent_tokenize(x))== 1:\n",
    "        return x.replace('\\n','. ')\n",
    "    return x.replace('\\n','')"
   ]
  },
  {
   "cell_type": "code",
   "execution_count": 7,
   "metadata": {},
   "outputs": [],
   "source": [
    "def extract_clean(pdf,n_page):\n",
    "    file = pdfplumber.open(pdf)\n",
    "    page = file.pages[n_page]\n",
    "    text = page.extract_text().lower()\n",
    "    text = re.sub('isento', '0,00', text)\n",
    "    text = re.sub('n/a', str(np.nan), text)\n",
    "    text = re.sub('--', str(np.nan), text)\n",
    "    text=text.replace('\\n','')\n",
    "    text = len_sentences(text)\n",
    "    text = nltk.sent_tokenize(text)\n",
    "    return text"
   ]
  },
  {
   "cell_type": "code",
   "execution_count": 8,
   "metadata": {},
   "outputs": [],
   "source": [
    "abanca = extract_clean('data/ABANCA2021com.pdf', 4)\n",
    "ctt = extract_clean('data/BancoCTT2021.pdf', 4)\n",
    "bai = extract_clean('data/bancoBAIeurope2021com.pdf', 4)\n",
    "bankinter = extract_clean('data/bankinter.pdf', 4)"
   ]
  },
  {
   "cell_type": "markdown",
   "metadata": {},
   "source": [
    "# search for commisions "
   ]
  },
  {
   "cell_type": "code",
   "execution_count": 9,
   "metadata": {},
   "outputs": [
    {
     "data": {
      "text/plain": [
       "['entrada em vigor: 20-nov-2020  1.  contas de depósito (particulares)                                                                                   índice  1.1 depósitos à ordem  comissões  acresce  outras   euros (mín/máx)  valor anual  imposto  condições produtos: fora de comercialização: conta d.o.',\n",
       " 'particulares; conta ordenado; conta standard; conta future; conta kids; conta global em comercialização: conta base; conta private; conta value; conta smart; conta futuro; conta serviços mínimos bancários, conta moeda estrangeira e conta abanca internacional.',\n",
       " 'as comissões abaixo indicadas ocorrem no momento em que se verifica a operação e aplicam-se às contas acima identificadas, salvo nos casos em que expressamente se exclui.']"
      ]
     },
     "execution_count": 9,
     "metadata": {},
     "output_type": "execute_result"
    }
   ],
   "source": [
    "abanca[:3]\n",
    "# ctt\n",
    "# bai\n",
    "# bankinter"
   ]
  },
  {
   "cell_type": "code",
   "execution_count": 20,
   "metadata": {},
   "outputs": [],
   "source": [
    "def search_com(x, pdf, page):\n",
    "    decod = {}\n",
    "    if x not in commission:\n",
    "        return 'not in the dictionary'\n",
    "    decod = commission[x]\n",
    "    file = extract_clean(pdf, page)\n",
    "    return file"
   ]
  },
  {
   "cell_type": "code",
   "execution_count": null,
   "metadata": {},
   "outputs": [],
   "source": []
  }
 ],
 "metadata": {
  "kernelspec": {
   "display_name": "Python 3",
   "language": "python",
   "name": "python3"
  },
  "language_info": {
   "codemirror_mode": {
    "name": "ipython",
    "version": 3
   },
   "file_extension": ".py",
   "mimetype": "text/x-python",
   "name": "python",
   "nbconvert_exporter": "python",
   "pygments_lexer": "ipython3",
   "version": "3.8.6"
  },
  "toc": {
   "base_numbering": 1,
   "nav_menu": {},
   "number_sections": true,
   "sideBar": true,
   "skip_h1_title": false,
   "title_cell": "Table of Contents",
   "title_sidebar": "Contents",
   "toc_cell": false,
   "toc_position": {},
   "toc_section_display": true,
   "toc_window_display": false
  }
 },
 "nbformat": 4,
 "nbformat_minor": 4
}
