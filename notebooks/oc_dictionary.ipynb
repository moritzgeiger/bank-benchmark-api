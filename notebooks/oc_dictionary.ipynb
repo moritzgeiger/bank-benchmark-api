{
 "cells": [
  {
   "cell_type": "code",
   "execution_count": 78,
   "metadata": {},
   "outputs": [
    {
     "name": "stdout",
     "output_type": "stream",
     "text": [
      "The autoreload extension is already loaded. To reload it, use:\n",
      "  %reload_ext autoreload\n"
     ]
    }
   ],
   "source": [
    "import pandas as pd\n",
    "import numpy as np\n",
    "import pdfplumber\n",
    "import re\n",
    "import nltk\n",
    "%load_ext autoreload\n",
    "%autoreload 2"
   ]
  },
  {
   "cell_type": "markdown",
   "metadata": {},
   "source": [
    "# dictionary from excel file"
   ]
  },
  {
   "cell_type": "code",
   "execution_count": 2,
   "metadata": {},
   "outputs": [],
   "source": [
    "excell = pd.read_excel('PWC.xlsx', sheet_name = 'Resume' )"
   ]
  },
  {
   "cell_type": "code",
   "execution_count": 3,
   "metadata": {},
   "outputs": [],
   "source": [
    "# excell.head(59)"
   ]
  },
  {
   "cell_type": "code",
   "execution_count": 4,
   "metadata": {},
   "outputs": [],
   "source": [
    "# excell.iloc[28,:]"
   ]
  },
  {
   "cell_type": "code",
   "execution_count": 5,
   "metadata": {},
   "outputs": [],
   "source": [
    "# commission = {'abanca': {'1':{'Emissão de extrato':{'1.1':'Mensal','1.2':')utros, para além do indicado em 1.1'}},'2':'Fotocópias de segundas vias de talões de depósito',\\\n",
    "#                         '3': 'Manutenção de conta', '4': {'Levantamento de numerário':{'4.1':'Ao balcão, com apresentação de cheque',\\\n",
    "#                                                                                       '4.2': 'Ao balcão, sem apresentação de cheque'},\\\n",
    "#                                                          }, '5': 'Adesão ao serviço de banca à distância', '6':'Depósito de moedas metálicas',\\\n",
    "#                         '7':'Alteração de titulares'}, \\\n",
    "#               'ctt':{'1':'Extrato integrado mensal', '2':'Consulta de saldo de conta DO com comprovativo',\\\n",
    "#                      '3':'consulta de movimentos de conta do com comprovativo', '4': 'Emissão 2as Vias de Avisos e Outros Documentos',\\\n",
    "#                      '5':'Alteração de titularidade'},\n",
    "#               'bic':{'1':'Manutenção de conta','2':'Levantamento de numerário','3':'Levantamento usd em contas usd',\\\n",
    "#                     '4': 'Extracto integrado','5':'Extracto avulso'}}"
   ]
  },
  {
   "cell_type": "code",
   "execution_count": 6,
   "metadata": {},
   "outputs": [],
   "source": [
    "commission = {'abanca': {'1':'Emissão de extrato','2':'Fotocópias de segundas vias de talões de depósito',\\\n",
    "                        '3': 'Manutenção de conta', '4': 'Levantamento de numerário', '5': 'Adesão ao serviço de banca à distância', '6':'Depósito de moedas metálicas',\\\n",
    "                        '7':'Alteração de titulares'}, \\\n",
    "              'ctt':{'1':'Extrato Integrado mensal', '2':'Emissão 2ªs Vias de Avisos e Outros Documentos',\\\n",
    "                     '3':'Comissão de manutenção de conta','4':'Levantamento de Numerário ao Balcão',\n",
    "                     '5':'Comissões por descoberto bancário','6':'Consulta de Movimentos de conta do com comprovativo', '7': 'Consulta de Saldo de conta DO com comprovativo',\\\n",
    "                     '8':'Alteração de titularidade'},\n",
    "              'bic':{'1':'Manutenção de conta','2':'Levantamento de numerário','3':'Levantamento usd em contas usd',\\\n",
    "                    '4': 'Extracto integrado','5':'Extracto avulso'}}"
   ]
  },
  {
   "cell_type": "markdown",
   "metadata": {},
   "source": [
    "# extract pdf"
   ]
  },
  {
   "cell_type": "code",
   "execution_count": 13,
   "metadata": {},
   "outputs": [],
   "source": [
    "def len_sentences(x):\n",
    "    if len(nltk.sent_tokenize(x))== 1:\n",
    "        return x.replace('\\n','. ')\n",
    "    return x.replace('\\n','')"
   ]
  },
  {
   "cell_type": "code",
   "execution_count": 14,
   "metadata": {},
   "outputs": [],
   "source": [
    "def extract_clean(pdf,n_page, splitting_right=False):\n",
    "    file = pdfplumber.open(pdf)\n",
    "    page = file.pages[n_page]\n",
    "    text = page.extract_text()\n",
    "    text = text.replace('Isento', '0,00')\n",
    "    text = text.replace('n/a', str(np.nan))\n",
    "    text = re.sub('--', str(np.nan), text)\n",
    "    if splitting_right == True:\n",
    "        text = text.replace('\\n','. ')\n",
    "#         text = len_sentences(text)\n",
    "        text = nltk.sent_tokenize(text)\n",
    "        return text\n",
    "    text = text.replace('\\n',' ')\n",
    "#     text = len_sentences(text)\n",
    "    text = nltk.sent_tokenize(text)\n",
    "    return text"
   ]
  },
  {
   "cell_type": "code",
   "execution_count": 15,
   "metadata": {},
   "outputs": [],
   "source": [
    "abanca = extract_clean('data/ABANCA2021com.pdf', 4)\n",
    "ctt = extract_clean('data/BancoCTT2021.pdf', 4, splitting_right=True)\n",
    "bai = extract_clean('data/bancoBAIeurope2021com.pdf', 4)\n",
    "bankinter = extract_clean('data/bankinter.pdf', 4)"
   ]
  },
  {
   "cell_type": "markdown",
   "metadata": {},
   "source": [
    "# getting file clean and corrispondent part in dictionary"
   ]
  },
  {
   "cell_type": "code",
   "execution_count": 16,
   "metadata": {},
   "outputs": [
    {
     "data": {
      "text/plain": [
       "['Entrada em Vigor: 01-Jan-2021.',\n",
       " '1.',\n",
       " 'CONTAS DE DEPÓSITO (PARTICULARES) (ÍNDICE).',\n",
       " '1.1.',\n",
       " 'Depósitos à ordem.',\n",
       " 'Comissões.',\n",
       " 'Acresce .',\n",
       " 'Euros  Outras condições.',\n",
       " 'Valor Anual Imposto.',\n",
       " '(Mín/Máx).',\n",
       " 'Contas de Depósito à Ordem (Comissões aplicáveis a todas as Contas).',\n",
       " 'Comissões durante a vigência do contrato.',\n",
       " '1.Extrato Integrado mensal 0,00 0,00 nan nan.',\n",
       " '2.Consulta de Saldo de conta DO com comprovativo 0,50 nan IS - 4% Comissão por emissão ao balcão (1).',\n",
       " '3.Consulta de Movimentos de conta DO com.',\n",
       " '2,00 nan IS - 4% Comissão por emissão ao balcão.',\n",
       " 'comprovativo.',\n",
       " '4.Emissão 2ªs Vias de Avisos e Outros Documentos 5,00 nan IVA - 23% Comissão por emissão ao balcão.',\n",
       " '5.Emissão 2ª Via - Extrato Integrado 10,00 nan IVA - 23% Comissão por emissão ao balcão.',\n",
       " 'Conta Banco CTT .',\n",
       " 'Comissões durante a vigência do contrato.',\n",
       " '1.Comissões por descoberto bancário vide Secção 2.5.',\n",
       " 'Descobertos bancários.',\n",
       " '2.Levantamento de Numerário ao Balcão Comissão por levantamento ao .',\n",
       " '4,50 nan IS - 4%.',\n",
       " 'A partir de 2 levantamentos ao Balcão, inclusivé balcão, Nota (2).',\n",
       " 'Comissão por transação ao depositante, .',\n",
       " '3.Depósito em moeda metálica (>= 100 moedas) 5,00 nan IS - 4%.',\n",
       " 'Nota (3).',\n",
       " '4.Comissão de manutenção de conta 0,00 0,00 IS - 4%.',\n",
       " '5.Alteração de titularidade (titular/ representante) 7,00 nan IS - 4% Comissão por conta, Nota (4).',\n",
       " 'Conta Júnior (Montante Mínimo de Abertura 25,00€).',\n",
       " 'Comissões durante a vigência do contrato.',\n",
       " '1.Levantamento de Numerário ao Balcão 4,50 nan IS - 4% Comissão por levantamento ao balcão.',\n",
       " 'Comissão por transação ao .',\n",
       " '2.Depósito em moeda metálica (>= 100 moedas) 5,00 nan IS - 4%.',\n",
       " 'depositante, Nota (3).',\n",
       " '3.Comissão de manutenção de conta 0,00 0,00 nan.',\n",
       " '4.Alteração de titularidade (titular/ representante) 7,00 nan IS - 4% Comissão por conta, Nota (4).',\n",
       " 'Conta Base (Montante Mínimo de Abertura 100,00€).',\n",
       " 'Comissões durante a vigência do contrato.',\n",
       " '1.Levantamento de Numerário ao Balcão Comissão por levantamento ao .',\n",
       " '4,50 nan IS - 4%.',\n",
       " 'A partir de 4 levantamentos ao Balcão, inclusivé balcão, Nota (5).',\n",
       " 'Comissão por transação ao .',\n",
       " '2.Depósito em moeda metálica (>= 100 moedas) 5,00 nan IS - 4%.',\n",
       " 'depositante, Nota (3).',\n",
       " '3.Comissão de manutenção de conta 4,50 54,00 IS - 4% Nota (6).',\n",
       " '4.Alteração de titularidade (titular/ representante) 7,00 nan IS - 4% Comissão por conta, Nota (4).',\n",
       " 'Conta de Serviços Mínimos Bancários .',\n",
       " 'Comissões durante a vigência do contrato.',\n",
       " '1.Levantamento de Numerário ao Balcão 0,00 nan nan Nota (7).',\n",
       " '2.Depósito em moeda metálica (>= 100 moedas) 0,00.',\n",
       " '3.Comissão de manutenção de conta 0,00 0,00 nan Nota (7).',\n",
       " '4.Transferências através de aplicações de pagamento.',\n",
       " '0,00 0,00 nan Nota (7).',\n",
       " 'operadas por terceiros.',\n",
       " 'Outras despesas associadas.',\n",
       " 'nan.',\n",
       " 'Banco CTT, S.A. Contas de Depósito-Particulares - Pág.1/2']"
      ]
     },
     "execution_count": 16,
     "metadata": {},
     "output_type": "execute_result"
    }
   ],
   "source": [
    "# abanca\n",
    "# bai\n",
    "ctt\n",
    "# bankinter"
   ]
  },
  {
   "cell_type": "code",
   "execution_count": 17,
   "metadata": {},
   "outputs": [],
   "source": [
    "def search_com(x, pdf, page,splitting_right=False):\n",
    "    decod = {}\n",
    "    if x not in commission:\n",
    "        return 'not in the dictionary'\n",
    "    decod = commission[x]\n",
    "    file = extract_clean(pdf, page,splitting_right=False)\n",
    "    return decod, file"
   ]
  },
  {
   "cell_type": "code",
   "execution_count": 199,
   "metadata": {},
   "outputs": [
    {
     "data": {
      "text/plain": [
       "'o'"
      ]
     },
     "execution_count": 199,
     "metadata": {},
     "output_type": "execute_result"
    }
   ],
   "source": [
    "ctt_here = search_com('ctt', 'data/BancoCTT2021.pdf', 4,splitting_right=True)\n",
    "ctt_here[1]"
   ]
  },
  {
   "cell_type": "code",
   "execution_count": 144,
   "metadata": {},
   "outputs": [],
   "source": [
    "abanca_here = search_com('abanca', 'data/ABANCA2021com.pdf', 4)\n",
    "bai_here = search_com('bai','data/bancoBAIeurope2021com.pdf', 4)"
   ]
  },
  {
   "cell_type": "markdown",
   "metadata": {},
   "source": [
    "- **try with module from scraping.py**"
   ]
  },
  {
   "cell_type": "code",
   "execution_count": 20,
   "metadata": {},
   "outputs": [],
   "source": [
    "from scraping import Scraping"
   ]
  },
  {
   "cell_type": "code",
   "execution_count": 184,
   "metadata": {},
   "outputs": [
    {
     "data": {
      "text/plain": [
       "['Entrada em vigor: 20-Nov-2020    1.',\n",
       " 'CONTAS DE DEPÓSITO (PARTICULARES)                                                                                   ÍNDICE   1.1 Depósitos à ordem  Comissões  Acresce  Outras    Euros (Mín/Máx)  Valor anual  Imposto  condições  Produtos: Fora de comercialização: Conta D.O.',\n",
       " 'Particulares; Conta Ordenado; Conta Standard; Conta Future; Conta  Kids; Conta Global  Em comercialização: Conta Base; Conta Private; Conta Value; Conta Smart; Conta Futuro; Conta Serviços Mínimos  Bancários, Conta Moeda Estrangeira e Conta ABANCA Internacional.',\n",
       " 'As comissões abaixo indicadas ocorrem no momento em que se verifica a operação e aplicam-se às contas acima identificadas, salvo  nos casos em que expressamente se exclui.',\n",
       " '1.',\n",
       " 'Emissão de extrato      1.1  Mensal (enviado ao domicílio)  0,00  nan  IVA – 23%  1.2  Outros, para além do indicado em 1.1  2,00 por extrato  1.3  2ª Via      7,50    2.',\n",
       " 'Fotocópias de segundas vias de talões de depósito   5,00 por documento  nan  IVA – 23%    3.',\n",
       " 'Manutenção de conta      3.1 Conta D.O.',\n",
       " 'Particulares (Nota 2)      - Saldo médio até 1.000€  15,00 Trimestral  60,00  - Saldo médio entre 1.001€ e 2.500€  10,00 Trimestral  40,00  - Saldo médio superior a 2.500€  0,00  nan  3.2 Conta Ordenado (Nota 1 e Nota 16)  0,00  nan  3.3 Conta Standard (não admite novas contratações)  0,00  nan  3.4 Conta Future (Nota 3)  0,00  nan  3.5 Conta Kids (Nota 4)  0,00  nan  IS – 4%    3.6 Conta Global (Nota 5)  6,53 / 7,23 Mensal  85,14  3.7 Conta Base (Nota 6)  10,00 Mensal  120,00   3.8 Conta Private (Nota 7)   8,00 Mensal  96,00  3.9 Conta Value (Nota 8)  5,00 Mensal  60,00  3.10 Conta Smart (Nota 9)  5,00 Mensal  60,00  3.11 Conta Futuro (Nota 10)  0,00  nan  3.12 Conta Serviços Mínimos Bancários (Nota 11)  2,00 Semestral  4,00  3.13 Conta Moeda Estrangeira (Nota 12)  5,00 Mensal  60,00  3.14 Conta ABANCA Internacional (Nota 17)  0,00  nan  4.',\n",
       " 'Levantamento de numerário          4.1 Ao balcão, com apresentação de cheque  0,00  nan  IS – 4%  Nota (13)   4.2 Ao balcão, sem apresentação de cheque  3,50   5.',\n",
       " 'Adesão ao serviço de banca à distância  0,00  nan  nan    6.',\n",
       " 'Depósito de moedas metálicas (igual ou superior a 100  Notas (13)  3,50  nan  IS – 4%  moedas por dia e por conta)  (14)  Notas (13)  7.',\n",
       " 'Alteração de titulares  5,00  nan  IS – 4%  (15)  8.',\n",
       " 'Comissão por descoberto bancário  Vide Secção 2.5 Descobertos bancários  Nota (1) Não admite novas contratações.',\n",
       " 'Requisitos para manutenção: Trabalhadores por conta de outrem ou reformados que domiciliem o  ordenado/pensão com um valor mínimo de 500€; tenham cartão de débito Visa Electron ativo; mantenham domiciliação de pelo menos 2  pagamentos regulares e adesão ao serviço de banca à distância;   Nota (2) Não admite novas contratações.',\n",
       " 'Incide unicamente nas contas com antiguidade superior a 6 meses e cuja soma do saldo médio  trimestral do património financeiro (conta à ordem + depósitos a prazo + poupanças) seja igual ou inferior a 2.500,00 euros.',\n",
       " 'O débito desta  comissão é efetuado nos meses de janeiro, abril, julho e outubro, referente ao trimestre anterior.',\n",
       " 'Estão isentas as contas de menores e as  contas associadas a operações de crédito vigentes no ABANCA no momento do débito da comissão;  Nota (3) Não admite novas contratações.',\n",
       " 'Conta para clientes dos 18 aos 28 anos.',\n",
       " 'Produtos e serviços associados à conta: Disponibilização  de cartão de débito para o 1º titular;  Nota (4) Não admite novas contratações.',\n",
       " 'Conta para clientes dos 0 aos 17 anos.',\n",
       " 'O menor é titular único com participação dos Pais ou Tutores  Legais como Representantes Legais na conta.',\n",
       " 'Esta conta não suporta cheques nem cartões de crédito.',\n",
       " 'O cartão de débito pode ser atribuído  a partir dos 12 anos com expressa autorização dos Representantes Legais.',\n",
       " 'Nota (5) Não admite novas contratações.',\n",
       " 'Produtos e serviços associados à conta, mediante o pagamento de uma comissão mensal:  Disponibilização de cartão de débito (1º e 2º titular): Disponibilização de cartão de crédito classic (1º titular) ou cartão gold (1º titular) para  clientes com limite de crédito igual ou superior a €2.500; comissão de guarda de títulos e seguro de assistência médica.',\n",
       " 'Comissão calculada  tendo por base 0,23€ por cada dia.',\n",
       " 'Valor mínimo apresentado para meses de 28 dias e máximo para meses de 31 dias.',\n",
       " 'Valor anual calculado  para um ano de 365 dias;   Nota (6) Montante mínimo de abertura: 250 EUR.',\n",
       " 'Conta que permite aceder aos seguintes produtos e serviços, mediante o pagamento de  uma comissão mensal fixa: Constituição, manutenção, gestão e titularidade da conta de depósito à ordem; disponibilização de dois cartões de  débito; 3 levantamentos em numerário ao balcão; transferências a crédito intrabancárias nacionais; transferências a crédito SEPA+ efetuadas  por Homebanking e depósitos de moedas metálicas.',\n",
       " 'A comissão é cobrada no 1º dia do mês seguinte;  Nota (7) Montante mínimo de abertura: 250 EUR.',\n",
       " 'Abertura sujeita a prévia aprovação do banco.',\n",
       " 'Esta conta permite aceder aos seguintes  produtos e serviços, mediante o pagamento de uma comissão mensal fixa: Constituição, manutenção, gestão e titularidade da conta de depósito  à ordem; disponibilização de um cartão de débito para cada titular; disponibilização de um cartão de crédito para o 1º e 2º titular; transferências  a crédito intrabancárias nacionais e transferências a crédito SEPA+ efetuadas por Homebanking; Comissão de guarda de títulos trimestral;  Seguro de assistência médica 1º titular.',\n",
       " 'A comissão é cobrada no 1º dia do mês seguinte;    ABANCA                                                                                             Contas de Depósito / Particulares – Pág.',\n",
       " '1 /2']"
      ]
     },
     "execution_count": 184,
     "metadata": {},
     "output_type": "execute_result"
    }
   ],
   "source": [
    "abanca = Scraping('data/ABANCA2021com.pdf', 4).search_com('abanca')\n",
    "abanca[1]"
   ]
  },
  {
   "cell_type": "code",
   "execution_count": 230,
   "metadata": {},
   "outputs": [],
   "source": [
    "def n_account(text, splitting_right = False):\n",
    "    accounts = []\n",
    "    finals = []\n",
    "    if splitting_right == True:\n",
    "        for sentence in text:\n",
    "            if 'Conta' in sentence:\n",
    "                finals.append(sentence)\n",
    "        return finals\n",
    "    for sentence in text:\n",
    "        contas = re.split('Conta',sentence)\n",
    "        accounts.append(contas)\n",
    "    for account in accounts:\n",
    "        if len(account)>1:\n",
    "            account = ['Conta'+ x for x in account]\n",
    "            finals.append(account)\n",
    "            \n",
    "            \n",
    "    return finals"
   ]
  },
  {
   "cell_type": "code",
   "execution_count": 221,
   "metadata": {},
   "outputs": [
    {
     "data": {
      "text/plain": [
       "[]"
      ]
     },
     "execution_count": 221,
     "metadata": {},
     "output_type": "execute_result"
    }
   ],
   "source": [
    "# n_account(ctt_here)"
   ]
  },
  {
   "cell_type": "markdown",
   "metadata": {},
   "source": [
    "# Searching for lines with values of dictionary inside"
   ]
  },
  {
   "cell_type": "code",
   "execution_count": 68,
   "metadata": {},
   "outputs": [],
   "source": [
    "def values(x):\n",
    "    file = x[1]\n",
    "    names = x[0]\n",
    "    lista = {}\n",
    "    keys = [x for x in names.keys()]\n",
    "    for key in keys:\n",
    "            for ind,sentence in enumerate(file):\n",
    "                if names[key] in sentence:\n",
    "                    if key in lista:\n",
    "                        if '[0-9]{1-2},[0-9]{2}' in sentence:\n",
    "                            lista[names[key]]= lista[key].append(sentence)\n",
    "                        else:\n",
    "                            lista[names[key]]= lista[key].append(' '.join([sentence,file[ind+1]]))\n",
    "                    else:\n",
    "                        if '[0-9]{1-2},[0-9]{2}' in sentence:\n",
    "                            lista[names[key]]= [sentence]\n",
    "                        else:\n",
    "                            lista[names[key]]= [' '.join([sentence,file[ind+1]])]\n",
    "    return lista"
   ]
  },
  {
   "cell_type": "code",
   "execution_count": 149,
   "metadata": {},
   "outputs": [],
   "source": [
    "# ctt_here[0]\n",
    "# values(bai_here)"
   ]
  },
  {
   "cell_type": "code",
   "execution_count": 150,
   "metadata": {},
   "outputs": [],
   "source": [
    "# values(ctt_here)"
   ]
  },
  {
   "cell_type": "code",
   "execution_count": 89,
   "metadata": {},
   "outputs": [],
   "source": [
    "commission = {'abanca': {'1':'Emissão de extrato','2':'Fotocópias de segundas vias de talões de depósito',\\\n",
    "                        '3': 'Manutenção de conta', '4': 'Levantamento de numerário', '5': 'Adesão ao serviço de banca à distância', '6':'Depósito de moedas metálicas',\\\n",
    "                        '7':'Alteração de titulares'}, \\\n",
    "              'ctt':{'1':'Extrato Integrado', '2':'Emissão 2ªs Vias de Avisos e Outros Documentos',\\\n",
    "                     '3':'Comissão de manutenção de conta','4':'Levantamento de Numerário ao Balcão',\n",
    "                     '5':'Comissões por descoberto bancário','6':'Consulta de Movimentos de conta DO com', '7': 'Consulta de Saldo de conta DO com comprovativo',\\\n",
    "                     '8':'Alteração de titularidade'},\n",
    "              'bai':{'1':'Manutenção de conta','2':'Levantamento de numerário','3':'Levantamento usd em contas usd',\\\n",
    "                    '4': 'Extracto integrado','5':'Extracto avulso'}}"
   ]
  },
  {
   "cell_type": "code",
   "execution_count": 92,
   "metadata": {},
   "outputs": [],
   "source": [
    "from scraping import Scraping"
   ]
  },
  {
   "cell_type": "code",
   "execution_count": 146,
   "metadata": {},
   "outputs": [],
   "source": [
    "bai = Scraping('data/bancoBAIeurope2021com.pdf', 4).values('bai')\n",
    "abanca = Scraping('data/ABANCA2021com.pdf', 4).values('abanca')"
   ]
  },
  {
   "cell_type": "code",
   "execution_count": 148,
   "metadata": {},
   "outputs": [
    {
     "data": {
      "text/plain": [
       "{'Manutenção de conta': ['Manutenção de conta 4,10 €/por Ano 4,10 € I.S. - 4% Nota (2) Comissões Descoberto Bancário  vide Secção 2.5 Descobertos bancários Outras despesas associadas nan.'],\n",
       " 'Levantamento de numerário': ['Levantamento de numerário 20,00 € 0,5% Incide sobre o montante do  3. Levantamento USD em contas USD I.S.'],\n",
       " 'Extracto integrado': ['Extracto integrado 0,00 Periodicidade: Mensal  5,00 €/ Moeda Estrangeira  5. Extracto avulso I.S.'],\n",
       " 'Extracto avulso': ['Extracto avulso I.S. - 4% A pedido do cliente.']}"
      ]
     },
     "execution_count": 148,
     "metadata": {},
     "output_type": "execute_result"
    }
   ],
   "source": [
    "bai"
   ]
  },
  {
   "cell_type": "code",
   "execution_count": 127,
   "metadata": {},
   "outputs": [],
   "source": []
  },
  {
   "cell_type": "code",
   "execution_count": 138,
   "metadata": {},
   "outputs": [
    {
     "data": {
      "text/plain": [
       "['Emissão de extrato      1.1  Mensal (enviado ao domicílio)  0,00  nan  IVA – 23%  1.2  Outros, para além do indicado em 1.1  2,00 por extrato  1.3  2ª Via      7,50    2. Fotocópias de segundas vias de talões de depósito   5,00 por documento  nan  IVA – 23%    3.']"
      ]
     },
     "execution_count": 138,
     "metadata": {},
     "output_type": "execute_result"
    }
   ],
   "source": [
    "# abanca['Emissão de extrato'][0].split(r\"(\\d),(\\d) | (\\d)\")"
   ]
  },
  {
   "cell_type": "code",
   "execution_count": 228,
   "metadata": {},
   "outputs": [],
   "source": [
    "ctt_new = Scraping('data/BancoCTT2021.pdf', 4,splitting_right=True).search_com('ctt')[1]\n",
    "bai_new = Scraping('data/bancoBAIeurope2021com.pdf', 4).search_com('bai')[1]\n",
    "abanca_new = Scraping('data/ABANCA2021com.pdf', 4).search_com('abanca')[1]"
   ]
  },
  {
   "cell_type": "code",
   "execution_count": 232,
   "metadata": {},
   "outputs": [
    {
     "data": {
      "text/plain": [
       "[['ContaDepósitos à ordem Comissões Acresce  Outras condições  (Mín/Máx) Valor Anual Imposto ',\n",
       "  'Conta Depósito à Ordem (EUR/ Moeda Estrangeira) Comissões vigência contrato  5,00 €/ Moeda Estrangeira  60,00 €/ Moeda  1.'],\n",
       " ['Contapor cada Comissões Descoberto Bancário  vide Secção 2.5 Descobertos bancários ',\n",
       "  'Conta de Serviços Mínimos Bancários Comissões vigência contrato 1.'],\n",
       " ['ContaNota (2) ',\n",
       "  'Conta de Serviços Minímos Bancários: Condições de acesso: Particulares residentes num Estado Membro da União Europeia que reúnam qualquer uma das seguintes condições: I. Não sejam titulares de qualquer conta de depósito à ordem junto do Banco BAI Europa, S.A. (BAIE) ou de qualquer outra Instituição de Crédito; ou  II.Sejamtitularesdeumaúnicacontadedepósitoàordemnosistemabancárioetenhamsidonotificadosdequeamesmaserá encerrada; ou III.'],\n",
       " ['ContaO acesso à ',\n",
       "  'Conta de Serviços Mínimos Bancários não depende da aquisição de outros produtos ou serviços.'],\n",
       " ['ContaBanco BAI Europa, S.A. ', 'Contas de Depósito / Particulares - Pág.']]"
      ]
     },
     "execution_count": 232,
     "metadata": {},
     "output_type": "execute_result"
    }
   ],
   "source": [
    "n_account(ctt_new, splitting_right = True) \n",
    "n_account(abanca_new)\n",
    "n_account(bai_new)"
   ]
  },
  {
   "cell_type": "code",
   "execution_count": 235,
   "metadata": {},
   "outputs": [
    {
     "data": {
      "text/plain": [
       "['Contas de Depósito à Ordem (Comissões aplicáveis a todas as Contas).',\n",
       " 'Conta Banco CTT .',\n",
       " 'Conta Júnior (Montante Mínimo de Abertura 25,00€).',\n",
       " 'Conta Base (Montante Mínimo de Abertura 100,00€).',\n",
       " 'Conta de Serviços Mínimos Bancários .',\n",
       " 'Banco CTT, S.A. Contas de Depósito-Particulares - Pág.1/2']"
      ]
     },
     "execution_count": 235,
     "metadata": {},
     "output_type": "execute_result"
    }
   ],
   "source": [
    "Scraping('data/ABANCA2021com.pdf', 4, 'abanca').n_account()\n",
    "Scraping('data/BancoCTT2021.pdf', 4,'ctt',splitting_right=True).n_account()"
   ]
  },
  {
   "cell_type": "code",
   "execution_count": null,
   "metadata": {},
   "outputs": [],
   "source": []
  }
 ],
 "metadata": {
  "kernelspec": {
   "display_name": "Python 3",
   "language": "python",
   "name": "python3"
  },
  "language_info": {
   "codemirror_mode": {
    "name": "ipython",
    "version": 3
   },
   "file_extension": ".py",
   "mimetype": "text/x-python",
   "name": "python",
   "nbconvert_exporter": "python",
   "pygments_lexer": "ipython3",
   "version": "3.8.6"
  },
  "toc": {
   "base_numbering": 1,
   "nav_menu": {},
   "number_sections": true,
   "sideBar": true,
   "skip_h1_title": false,
   "title_cell": "Table of Contents",
   "title_sidebar": "Contents",
   "toc_cell": false,
   "toc_position": {},
   "toc_section_display": true,
   "toc_window_display": false
  }
 },
 "nbformat": 4,
 "nbformat_minor": 4
}
