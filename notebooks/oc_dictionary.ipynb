{
 "cells": [
  {
   "cell_type": "code",
   "execution_count": 1,
   "metadata": {},
   "outputs": [
    {
     "name": "stderr",
     "output_type": "stream",
     "text": [
      "/Users/olgacravesana/.pyenv/versions/3.8.6/envs/lewagon/lib/python3.8/site-packages/pandas/compat/__init__.py:97: UserWarning: Could not import the lzma module. Your installed Python is incomplete. Attempting to use lzma compression will result in a RuntimeError.\n",
      "  warnings.warn(msg)\n"
     ]
    }
   ],
   "source": [
    "import pandas as pd\n",
    "import numpy as np\n",
    "import pdfplumber\n",
    "import re\n",
    "import nltk"
   ]
  },
  {
   "cell_type": "markdown",
   "metadata": {},
   "source": [
    "# dictionary from excel file"
   ]
  },
  {
   "cell_type": "code",
   "execution_count": 2,
   "metadata": {},
   "outputs": [],
   "source": [
    "excell = pd.read_excel('PWC.xlsx', sheet_name = 'Resume' )"
   ]
  },
  {
   "cell_type": "code",
   "execution_count": 3,
   "metadata": {},
   "outputs": [],
   "source": [
    "# excell.head(59)"
   ]
  },
  {
   "cell_type": "code",
   "execution_count": 4,
   "metadata": {},
   "outputs": [],
   "source": [
    "# excell.iloc[28,:]"
   ]
  },
  {
   "cell_type": "code",
   "execution_count": 5,
   "metadata": {},
   "outputs": [],
   "source": [
    "commission = {'abanca': {'1':{'Emissão de extrato':['Mensal','Outros, para além do indicado em 1.1']},'2':'Fotocópias de segundas vias de talões de depósito',\\\n",
    "                        '3': 'Manutenção de conta', '4': {'Levantamento de numerário':{'4.1':'Ao balcão, com apresentação de cheque',\\\n",
    "                                                                                      '4.2': 'Ao balcão, sem apresentação de cheque'},\\\n",
    "                                                         }, '5': 'Adesão ao serviço de banca à distância', '6':'Depósito de moedas metálicas',\\\n",
    "                        '7':'Alteração de titulares'}, \\\n",
    "              'ctt':{'1':'Extrato Integrado mensal', '2':'Consulta de Saldo de conta DO com comprovativo',\\\n",
    "                     '3':'Consulta de Movimentos de conta DO com comprovativo', '4': 'Emissão 2as Vias de Avisos e Outros Documentos',\\\n",
    "                     '5':'Alteração de titularidade'},\n",
    "              'bic':{'1':'Manutenção de conta','2':'Levantamento de numerário','3':'Levantamento USD em contas USD',\\\n",
    "                    '4': 'Extracto integrado','5':'Extracto avulso'}}"
   ]
  },
  {
   "cell_type": "markdown",
   "metadata": {},
   "source": [
    "# extract pdf"
   ]
  },
  {
   "cell_type": "code",
   "execution_count": 6,
   "metadata": {},
   "outputs": [],
   "source": [
    "def len_sentences(x):\n",
    "    if len(nltk.sent_tokenize(x))== 1:\n",
    "        return x.replace('\\n','. ')\n",
    "    return x.replace('\\n','')"
   ]
  },
  {
   "cell_type": "code",
   "execution_count": 44,
   "metadata": {},
   "outputs": [],
   "source": [
    "def extract_clean(pdf,n_page):\n",
    "    file = pdfplumber.open(pdf)\n",
    "    page = file.pages[n_page]\n",
    "    text = page.extract_text()\n",
    "    text = re.sub('isento', '0,00', text)\n",
    "    text = re.sub('n/a', str(np.nan), text)\n",
    "    text = re.sub('--', str(np.nan), text)\n",
    "    text=text.replace('\\n','')\n",
    "    text = len_sentences(text)\n",
    "    text = nltk.sent_tokenize(text)\n",
    "    return text"
   ]
  },
  {
   "cell_type": "code",
   "execution_count": 45,
   "metadata": {},
   "outputs": [],
   "source": [
    "abanca = extract_clean('data/ABANCA2021com.pdf', 4)\n",
    "ctt = extract_clean('data/BancoCTT2021.pdf', 4)\n",
    "bai = extract_clean('data/bancoBAIeurope2021com.pdf', 4)\n",
    "bankinter = extract_clean('data/bankinter.pdf', 4)"
   ]
  },
  {
   "cell_type": "markdown",
   "metadata": {},
   "source": [
    "# getting file clean and corrispondent part in dictionary"
   ]
  },
  {
   "cell_type": "code",
   "execution_count": 46,
   "metadata": {},
   "outputs": [
    {
     "data": {
      "text/plain": [
       "['Entrada em vigor: 20-Nov-2020  1.',\n",
       " 'CONTAS DE DEPÓSITO (PARTICULARES)                                                                                   ÍNDICE  1.1 Depósitos à ordem  Comissões  Acresce  Outras   Euros (Mín/Máx)  Valor anual  Imposto  condições Produtos: Fora de comercialização: Conta D.O.',\n",
       " 'Particulares; Conta Ordenado; Conta Standard; Conta Future; Conta Kids; Conta Global Em comercialização: Conta Base; Conta Private; Conta Value; Conta Smart; Conta Futuro; Conta Serviços Mínimos Bancários, Conta Moeda Estrangeira e Conta ABANCA Internacional.']"
      ]
     },
     "execution_count": 46,
     "metadata": {},
     "output_type": "execute_result"
    }
   ],
   "source": [
    "abanca[:3]\n",
    "# ctt\n",
    "# bai\n",
    "# bankinter"
   ]
  },
  {
   "cell_type": "code",
   "execution_count": 47,
   "metadata": {},
   "outputs": [],
   "source": [
    "def search_com(x, pdf, page):\n",
    "    decod = {}\n",
    "    if x not in commission:\n",
    "        return 'not in the dictionary'\n",
    "    decod = commission[x]\n",
    "    file = extract_clean(pdf, page)\n",
    "    return decod, file"
   ]
  },
  {
   "cell_type": "code",
   "execution_count": 48,
   "metadata": {},
   "outputs": [],
   "source": [
    "abanca_here = search_com('abanca', 'data/ABANCA2021com.pdf', 4)"
   ]
  },
  {
   "cell_type": "markdown",
   "metadata": {},
   "source": [
    "- **try with module from scraping.py**"
   ]
  },
  {
   "cell_type": "code",
   "execution_count": 49,
   "metadata": {},
   "outputs": [],
   "source": [
    "from scraping import Scraping"
   ]
  },
  {
   "cell_type": "code",
   "execution_count": 50,
   "metadata": {},
   "outputs": [],
   "source": [
    "abanca = Scraping('data/ABANCA2021com.pdf', 4).search_com('abanca')"
   ]
  },
  {
   "cell_type": "markdown",
   "metadata": {},
   "source": [
    "# Searching for lines with values of dictionary inside"
   ]
  },
  {
   "cell_type": "code",
   "execution_count": 62,
   "metadata": {},
   "outputs": [],
   "source": [
    "def values(x):\n",
    "    file = x[1]\n",
    "    dictionary = x[0]\n",
    "    lista = {}\n",
    "    keys = [x for x in dictionary.keys()]\n",
    "    for sentence in file:\n",
    "        for key in keys:\n",
    "            if isinstance(dictionary[key], str)== True:\n",
    "                if dictionary[key] in sentence:\n",
    "                    if key in lista:\n",
    "                        lista[key]= lista[key].append(sentence)\n",
    "                    else:\n",
    "                        lista[key]=[sentence]\n",
    "    return lista"
   ]
  },
  {
   "cell_type": "code",
   "execution_count": 63,
   "metadata": {},
   "outputs": [
    {
     "data": {
      "text/plain": [
       "{'1': ['Emissão de extrato     1.1  Mensal (enviado ao domicílio)  Isento nan  IVA – 23% 1.2  Outros, para além do indicado em 1.1  2,00 por extrato 1.3  2ª Via      7,50   2.'],\n",
       " '2': ['Fotocópias de segundas vias de talões de depósito   5,00 por documento  nan  IVA – 23%   3.'],\n",
       " '3': ['Manutenção de conta     3.1 Conta D.O.'],\n",
       " '5': ['Adesão ao serviço de banca à distância  Isento  nan  nan   6.'],\n",
       " '6': ['Depósito de moedas metálicas (igual ou superior a 100  Notas (13) 3,50  nan  IS – 4% moedas por dia e por conta)  (14) Notas (13) 7.'],\n",
       " '7': ['Alteração de titulares  5,00  nan  IS – 4% (15) 8.']}"
      ]
     },
     "execution_count": 63,
     "metadata": {},
     "output_type": "execute_result"
    }
   ],
   "source": [
    "values(abanca_here)\n"
   ]
  },
  {
   "cell_type": "code",
   "execution_count": 38,
   "metadata": {},
   "outputs": [
    {
     "data": {
      "text/plain": [
       "['entrada em vigor: 20-nov-2020  1.  contas de depósito (particulares)                                                                                   índice  1.1 depósitos à ordem  comissões  acresce  outras   euros (mín/máx)  valor anual  imposto  condições produtos: fora de comercialização: conta d.o.',\n",
       " 'particulares; conta ordenado; conta standard; conta future; conta kids; conta global em comercialização: conta base; conta private; conta value; conta smart; conta futuro; conta serviços mínimos bancários, conta moeda estrangeira e conta abanca internacional.',\n",
       " 'as comissões abaixo indicadas ocorrem no momento em que se verifica a operação e aplicam-se às contas acima identificadas, salvo nos casos em que expressamente se exclui.',\n",
       " '1.  emissão de extrato     1.1  mensal (enviado ao domicílio)  0,00 nan  iva – 23% 1.2  outros, para além do indicado em 1.1  2,00 por extrato 1.3  2ª via      7,50   2.   fotocópias de segundas vias de talões de depósito   5,00 por documento  nan  iva – 23%   3.   manutenção de conta     3.1 conta d.o.',\n",
       " 'particulares (nota 2)     - saldo médio até 1.000€  15,00 trimestral  60,00 - saldo médio entre 1.001€ e 2.500€  10,00 trimestral  40,00 - saldo médio superior a 2.500€  0,00  nan 3.2 conta ordenado (nota 1 e nota 16)  0,00  nan 3.3 conta standard (não admite novas contratações)  0,00  nan 3.4 conta future (nota 3)  0,00  nan 3.5 conta kids (nota 4)  0,00  nan is – 4%   3.6 conta global (nota 5)  6,53 / 7,23 mensal  85,14 3.7 conta base (nota 6)  10,00 mensal  120,00  3.8 conta private (nota 7)   8,00 mensal  96,00 3.9 conta value (nota 8)  5,00 mensal  60,00 3.10 conta smart (nota 9)  5,00 mensal  60,00 3.11 conta futuro (nota 10)  0,00  nan 3.12 conta serviços mínimos bancários (nota 11)  2,00 semestral  4,00 3.13 conta moeda estrangeira (nota 12)  5,00 mensal  60,00 3.14 conta abanca internacional (nota 17)  0,00  nan 4.   levantamento de numerário         4.1 ao balcão, com apresentação de cheque  0,00  nan  is – 4%  nota (13)  4.2 ao balcão, sem apresentação de cheque  3,50  5.   adesão ao serviço de banca à distância  0,00  nan  nan   6.  depósito de moedas metálicas (igual ou superior a 100  notas (13) 3,50  nan  is – 4% moedas por dia e por conta)  (14) notas (13) 7.  alteração de titulares  5,00  nan  is – 4% (15) 8.  comissão por descoberto bancário  vide secção 2.5 descobertos bancários nota (1) não admite novas contratações.',\n",
       " 'requisitos para manutenção: trabalhadores por conta de outrem ou reformados que domiciliem o ordenado/pensão com um valor mínimo de 500€; tenham cartão de débito visa electron ativo; mantenham domiciliação de pelo menos 2 pagamentos regulares e adesão ao serviço de banca à distância;  nota (2) não admite novas contratações.',\n",
       " 'incide unicamente nas contas com antiguidade superior a 6 meses e cuja soma do saldo médio trimestral do património financeiro (conta à ordem + depósitos a prazo + poupanças) seja igual ou inferior a 2.500,00 euros.',\n",
       " 'o débito desta comissão é efetuado nos meses de janeiro, abril, julho e outubro, referente ao trimestre anterior.',\n",
       " 'estão isentas as contas de menores e as contas associadas a operações de crédito vigentes no abanca no momento do débito da comissão; nota (3) não admite novas contratações.',\n",
       " 'conta para clientes dos 18 aos 28 anos.',\n",
       " 'produtos e serviços associados à conta: disponibilização de cartão de débito para o 1º titular; nota (4) não admite novas contratações.',\n",
       " 'conta para clientes dos 0 aos 17 anos.',\n",
       " 'o menor é titular único com participação dos pais ou tutores legais como representantes legais na conta.',\n",
       " 'esta conta não suporta cheques nem cartões de crédito.',\n",
       " 'o cartão de débito pode ser atribuído a partir dos 12 anos com expressa autorização dos representantes legais.',\n",
       " 'nota (5) não admite novas contratações.',\n",
       " 'produtos e serviços associados à conta, mediante o pagamento de uma comissão mensal: disponibilização de cartão de débito (1º e 2º titular): disponibilização de cartão de crédito classic (1º titular) ou cartão gold (1º titular) para clientes com limite de crédito igual ou superior a €2.500; comissão de guarda de títulos e seguro de assistência médica.',\n",
       " 'comissão calculada tendo por base 0,23€ por cada dia.',\n",
       " 'valor mínimo apresentado para meses de 28 dias e máximo para meses de 31 dias.',\n",
       " 'valor anual calculado para um ano de 365 dias;  nota (6) montante mínimo de abertura: 250 eur.',\n",
       " 'conta que permite aceder aos seguintes produtos e serviços, mediante o pagamento de uma comissão mensal fixa: constituição, manutenção, gestão e titularidade da conta de depósito à ordem; disponibilização de dois cartões de débito; 3 levantamentos em numerário ao balcão; transferências a crédito intrabancárias nacionais; transferências a crédito sepa+ efetuadas por homebanking e depósitos de moedas metálicas.',\n",
       " 'a comissão é cobrada no 1º dia do mês seguinte; nota (7) montante mínimo de abertura: 250 eur.',\n",
       " 'abertura sujeita a prévia aprovação do banco.',\n",
       " 'esta conta permite aceder aos seguintes produtos e serviços, mediante o pagamento de uma comissão mensal fixa: constituição, manutenção, gestão e titularidade da conta de depósito à ordem; disponibilização de um cartão de débito para cada titular; disponibilização de um cartão de crédito para o 1º e 2º titular; transferências a crédito intrabancárias nacionais e transferências a crédito sepa+ efetuadas por homebanking; comissão de guarda de títulos trimestral; seguro de assistência médica 1º titular.',\n",
       " 'a comissão é cobrada no 1º dia do mês seguinte;  abanca                                                                                             contas de depósito / particulares – pág.',\n",
       " '1 /2']"
      ]
     },
     "execution_count": 38,
     "metadata": {},
     "output_type": "execute_result"
    }
   ],
   "source": [
    "abanca_here[0]['1'] ; abanca_here[1]"
   ]
  },
  {
   "cell_type": "code",
   "execution_count": null,
   "metadata": {},
   "outputs": [],
   "source": []
  }
 ],
 "metadata": {
  "kernelspec": {
   "display_name": "Python 3",
   "language": "python",
   "name": "python3"
  },
  "language_info": {
   "codemirror_mode": {
    "name": "ipython",
    "version": 3
   },
   "file_extension": ".py",
   "mimetype": "text/x-python",
   "name": "python",
   "nbconvert_exporter": "python",
   "pygments_lexer": "ipython3",
   "version": "3.8.6"
  },
  "toc": {
   "base_numbering": 1,
   "nav_menu": {},
   "number_sections": true,
   "sideBar": true,
   "skip_h1_title": false,
   "title_cell": "Table of Contents",
   "title_sidebar": "Contents",
   "toc_cell": false,
   "toc_position": {},
   "toc_section_display": true,
   "toc_window_display": false
  }
 },
 "nbformat": 4,
 "nbformat_minor": 4
}
