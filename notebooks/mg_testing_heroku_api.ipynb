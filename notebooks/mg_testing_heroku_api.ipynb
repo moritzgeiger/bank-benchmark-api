{
 "cells": [
  {
   "cell_type": "code",
   "execution_count": 1,
   "metadata": {
    "ExecuteTime": {
     "end_time": "2021-04-01T21:50:11.946027Z",
     "start_time": "2021-04-01T21:50:11.736406Z"
    }
   },
   "outputs": [],
   "source": [
    "import requests\n"
   ]
  },
  {
   "cell_type": "code",
   "execution_count": 8,
   "metadata": {
    "ExecuteTime": {
     "end_time": "2021-04-01T21:52:49.693037Z",
     "start_time": "2021-04-01T21:52:42.741265Z"
    }
   },
   "outputs": [],
   "source": [
    "url = 'https://bank-price-api.herokuapp.com/getpdfs'\n",
    "dic ={\"1\":{\"url\":\"https://www.abanca.pt\", \n",
    "                    \"name\":\"ABANCA Corporación Bancaria, S.A.\", \n",
    "                    \"num_pdfs\":\"3\", \n",
    "                    \"last_updated\":\"210401\", \n",
    "                    \"sum_sizes\":\"40\", \n",
    "                    \"bp_bank_id\":\"0170\"}\n",
    "             ,\n",
    "              \"2\":{\"url\":\"https://www.bankinter.pt\", \n",
    "                    \"name\":\"Bankinter, S.A.\", \n",
    "                    \"num_pdfs\":\"3\", \n",
    "                    \"last_updated\":\"210401\", \n",
    "                    \"sum_sizes\":\"40\", \n",
    "                    \"bp_bank_id\":\"0269\"}\n",
    "              ,\n",
    "              \"3\":{\"url\":\"https://www.bancobic.ao\", \n",
    "                    \"name\":\"Banco BIC, SA\", \n",
    "                    \"num_pdfs\":\"3\", \n",
    "                    \"last_updated\":\"210401\", \n",
    "                    \"sum_sizes\":\"40\", \n",
    "                    \"bp_bank_id\":\"0079\"}\n",
    "              }\n",
    "r = requests.post(url=url , json=dic)"
   ]
  },
  {
   "cell_type": "code",
   "execution_count": 9,
   "metadata": {
    "ExecuteTime": {
     "end_time": "2021-04-01T21:52:49.713810Z",
     "start_time": "2021-04-01T21:52:49.697623Z"
    }
   },
   "outputs": [
    {
     "data": {
      "text/plain": [
       "{'1': {'bp_bank_id': '0170',\n",
       "  'bp_pdf_url': 'https://clientebancario.bportugal.pt/sites/default/files/precario/0170_/0170_PRE.pdf',\n",
       "  'last_updated': '210401',\n",
       "  'list_pdfs': ['https://www.abanca.pt/files/documents/precario-folheto-comissoes-823a7663.pdf',\n",
       "   'https://www.abanca.pt/files/documents/folheto-taxa-juro-precario-5890906f.pdf',\n",
       "   'https://www.abanca.pt/files/documents/precariodevaloresmobiliarios-23c714a2.pdf',\n",
       "   'https://www.abanca.pt/files/documents/glossario-6479e89f.pdf',\n",
       "   'https://www.abanca.pt/files/docs/leaflet-your-rights-payments-eu.pdf'],\n",
       "  'name': 'ABANCA Corporación Bancaria, S.A.',\n",
       "  'num_pdfs': 5,\n",
       "  'price_page': 'https://www.abanca.pt/pt/precario/',\n",
       "  'sum_sizes': '40',\n",
       "  'url': 'https://www.abanca.pt'},\n",
       " '2': {'bp_bank_id': '0269',\n",
       "  'bp_pdf_url': 'https://clientebancario.bportugal.pt/sites/default/files/precario/0269_/0269_PRE.pdf',\n",
       "  'last_updated': '210401',\n",
       "  'list_pdfs': ['https://www.bankinter.pt/documents/20182/115991/Pre%C3%A7%C3%A1rio+Completo+TFSI++20210401.pdf/c489f0cd-3831-4441-812e-f351741d2b22',\n",
       "   'https://banco.bankinter.pt/particulares/pdfs/precario/folha_rosto.pdf',\n",
       "   'https://banco.bankinter.pt/particulares/pdfs/precario/informacao_geral.pdf',\n",
       "   'https://banco.bankinter.pt/particulares/pdfs/precario/informacao_complementar.pdf',\n",
       "   'https://banco.bankinter.pt/particulares/pdfs/precario/p_fcd_contas_deposito.pdf',\n",
       "   'https://banco.bankinter.pt/particulares/pdfs/precario/p_fcd_operacoes_credito.pdf',\n",
       "   'https://banco.bankinter.pt/particulares/pdfs/precario/p_fcd_cartoes_credito_debito.pdf',\n",
       "   'https://banco.bankinter.pt/particulares/pdfs/precario/p_fcd_cheques.pdf',\n",
       "   'https://banco.bankinter.pt/particulares/pdfs/precario/p_fcd_transferencias.pdf',\n",
       "   'https://banco.bankinter.pt/particulares/pdfs/precario/p_fcd_cobrancas.pdf',\n",
       "   'https://banco.bankinter.pt/particulares/pdfs/precario/p_fcd_prestacao_servicos.pdf',\n",
       "   'https://banco.bankinter.pt/particulares/pdfs/precario/o_fcd_contas_deposito.pdf',\n",
       "   'https://banco.bankinter.pt/particulares/pdfs/precario/o_fcd_operacoes_credito.pdf',\n",
       "   'https://banco.bankinter.pt/particulares/pdfs/precario/o_fcd_cartoes_credito_debito.pdf',\n",
       "   'https://banco.bankinter.pt/particulares/pdfs/precario/o_fcd_cheques.pdf',\n",
       "   'https://banco.bankinter.pt/particulares/pdfs/precario/o_fcd_transferencias.pdf',\n",
       "   'https://banco.bankinter.pt/particulares/pdfs/precario/o_fcd_cobrancas.pdf',\n",
       "   'https://banco.bankinter.pt/particulares/pdfs/precario/o_fcd_prestacao_servicos.pdf',\n",
       "   'https://banco.bankinter.pt/particulares/pdfs/precario/o_fcd_operacoes_estrangeiro.pdf',\n",
       "   'https://banco.bankinter.pt/particulares/pdfs/precario/p_ftj_contas_deposito.pdf',\n",
       "   'https://banco.bankinter.pt/particulares/pdfs/precario/p_ftj_operacoes_credito.pdf',\n",
       "   'https://banco.bankinter.pt/particulares/pdfs/precario/o_ftj_contas_deposito.pdf',\n",
       "   'https://banco.bankinter.pt/particulares/pdfs/precario/o_ftj_operacoes_credito.pdf',\n",
       "   'https://banco.bankinter.pt/particulares/pdfs/precario/ptfs_a.pdf',\n",
       "   'https://banco.bankinter.pt/particulares/pdfs/precario/ptfs_b.pdf',\n",
       "   'https://banco.bankinter.pt/particulares/pdfs/precario/ptfs_c.pdf',\n",
       "   'https://banco.bankinter.pt/particulares/pdfs/precario/ptfs_d.pdf'],\n",
       "  'name': 'Bankinter, S.A.',\n",
       "  'num_pdfs': 27,\n",
       "  'price_page': 'https://www.bankinter.pt/precario1',\n",
       "  'sum_sizes': '40',\n",
       "  'url': 'https://www.bankinter.pt'},\n",
       " '3': {'bp_bank_id': '0079',\n",
       "  'bp_pdf_url': 'https://clientebancario.bportugal.pt/sites/default/files/precario/0079_/0079_PRE.pdf',\n",
       "  'last_updated': '210401',\n",
       "  'list_pdfs': ['https://www.bancobic.ao/dotAsset/0f07d8a4-4ec3-4111-a453-c4ee14d5c66c.pdf',\n",
       "   'https://www.bancobic.ao/dotAsset/7e1e6dd2-9d56-43ef-b398-ac3bac3cc70e.pdf'],\n",
       "  'name': 'Banco BIC, SA',\n",
       "  'num_pdfs': 2,\n",
       "  'price_page': 'https://www.bancobic.ao/inicio/precario',\n",
       "  'sum_sizes': '40',\n",
       "  'url': 'https://www.bancobic.ao'}}"
      ]
     },
     "execution_count": 9,
     "metadata": {},
     "output_type": "execute_result"
    }
   ],
   "source": [
    "r.json()"
   ]
  },
  {
   "cell_type": "markdown",
   "metadata": {},
   "source": [
    "# RQ background jobs"
   ]
  },
  {
   "cell_type": "code",
   "execution_count": 1,
   "metadata": {},
   "outputs": [],
   "source": [
    "import requests\n",
    "\n",
    "def count_words_at_url(url):\n",
    "    resp = requests.get(url)\n",
    "    return len(resp.text.split())"
   ]
  },
  {
   "cell_type": "code",
   "execution_count": 2,
   "metadata": {},
   "outputs": [],
   "source": [
    "from redis import Redis\n",
    "from rq import Queue\n",
    "\n",
    "q = Queue(connection=Redis())"
   ]
  },
  {
   "cell_type": "code",
   "execution_count": 3,
   "metadata": {},
   "outputs": [
    {
     "ename": "ValueError",
     "evalue": "Functions from the __main__ module cannot be processed by workers",
     "output_type": "error",
     "traceback": [
      "\u001b[0;31m---------------------------------------------------------------------------\u001b[0m",
      "\u001b[0;31mValueError\u001b[0m                                Traceback (most recent call last)",
      "\u001b[0;32m<ipython-input-3-94af6b1c6341>\u001b[0m in \u001b[0;36m<module>\u001b[0;34m\u001b[0m\n\u001b[0;32m----> 1\u001b[0;31m \u001b[0mresult\u001b[0m \u001b[0;34m=\u001b[0m \u001b[0mq\u001b[0m\u001b[0;34m.\u001b[0m\u001b[0menqueue\u001b[0m\u001b[0;34m(\u001b[0m\u001b[0mcount_words_at_url\u001b[0m\u001b[0;34m,\u001b[0m \u001b[0;34m'http://nvie.com'\u001b[0m\u001b[0;34m)\u001b[0m\u001b[0;34m\u001b[0m\u001b[0;34m\u001b[0m\u001b[0m\n\u001b[0m",
      "\u001b[0;32m~/.pyenv/versions/3.9.1/envs/pwc/lib/python3.9/site-packages/rq/queue.py\u001b[0m in \u001b[0;36menqueue\u001b[0;34m(self, f, *args, **kwargs)\u001b[0m\n\u001b[1;32m    415\u001b[0m \u001b[0;34m\u001b[0m\u001b[0m\n\u001b[1;32m    416\u001b[0m         (f, timeout, description, result_ttl, ttl, failure_ttl,\n\u001b[0;32m--> 417\u001b[0;31m          depends_on, job_id, at_front, meta, retry, args, kwargs) = Queue.parse_args(f, *args, **kwargs)\n\u001b[0m\u001b[1;32m    418\u001b[0m \u001b[0;34m\u001b[0m\u001b[0m\n\u001b[1;32m    419\u001b[0m         return self.enqueue_call(\n",
      "\u001b[0;32m~/.pyenv/versions/3.9.1/envs/pwc/lib/python3.9/site-packages/rq/queue.py\u001b[0m in \u001b[0;36mparse_args\u001b[0;34m(cls, f, *args, **kwargs)\u001b[0m\n\u001b[1;32m    387\u001b[0m         \"\"\"\n\u001b[1;32m    388\u001b[0m         \u001b[0;32mif\u001b[0m \u001b[0;32mnot\u001b[0m \u001b[0misinstance\u001b[0m\u001b[0;34m(\u001b[0m\u001b[0mf\u001b[0m\u001b[0;34m,\u001b[0m \u001b[0mstring_types\u001b[0m\u001b[0;34m)\u001b[0m \u001b[0;32mand\u001b[0m \u001b[0mf\u001b[0m\u001b[0;34m.\u001b[0m\u001b[0m__module__\u001b[0m \u001b[0;34m==\u001b[0m \u001b[0;34m'__main__'\u001b[0m\u001b[0;34m:\u001b[0m\u001b[0;34m\u001b[0m\u001b[0;34m\u001b[0m\u001b[0m\n\u001b[0;32m--> 389\u001b[0;31m             raise ValueError('Functions from the __main__ module cannot be processed '\n\u001b[0m\u001b[1;32m    390\u001b[0m                              'by workers')\n\u001b[1;32m    391\u001b[0m \u001b[0;34m\u001b[0m\u001b[0m\n",
      "\u001b[0;31mValueError\u001b[0m: Functions from the __main__ module cannot be processed by workers"
     ]
    }
   ],
   "source": [
    "result = q.enqueue(count_words_at_url, 'http://nvie.com')"
   ]
  },
  {
   "cell_type": "code",
   "execution_count": null,
   "metadata": {},
   "outputs": [],
   "source": []
  },
  {
   "cell_type": "code",
   "execution_count": null,
   "metadata": {},
   "outputs": [],
   "source": []
  }
 ],
 "metadata": {
  "kernelspec": {
   "display_name": "Python 3",
   "language": "python",
   "name": "python3"
  },
  "language_info": {
   "codemirror_mode": {
    "name": "ipython",
    "version": 3
   },
   "file_extension": ".py",
   "mimetype": "text/x-python",
   "name": "python",
   "nbconvert_exporter": "python",
   "pygments_lexer": "ipython3",
   "version": "3.9.1"
  },
  "toc": {
   "base_numbering": 1,
   "nav_menu": {},
   "number_sections": true,
   "sideBar": true,
   "skip_h1_title": false,
   "title_cell": "Table of Contents",
   "title_sidebar": "Contents",
   "toc_cell": false,
   "toc_position": {},
   "toc_section_display": true,
   "toc_window_display": false
  }
 },
 "nbformat": 4,
 "nbformat_minor": 4
}
