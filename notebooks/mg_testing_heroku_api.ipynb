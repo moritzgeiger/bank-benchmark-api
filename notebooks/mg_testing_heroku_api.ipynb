{
 "cells": [
  {
   "cell_type": "code",
   "execution_count": 1,
   "metadata": {
    "ExecuteTime": {
     "end_time": "2021-04-01T21:50:11.946027Z",
     "start_time": "2021-04-01T21:50:11.736406Z"
    }
   },
   "outputs": [],
   "source": [
    "import requests\n"
   ]
  },
  {
   "cell_type": "code",
   "execution_count": 8,
   "metadata": {
    "ExecuteTime": {
     "end_time": "2021-04-01T21:52:49.693037Z",
     "start_time": "2021-04-01T21:52:42.741265Z"
    }
   },
   "outputs": [],
   "source": [
    "url = 'https://bank-price-api.herokuapp.com/getpdfs'\n",
    "dic ={\"1\":{\"url\":\"https://www.abanca.pt\", \n",
    "                    \"name\":\"ABANCA Corporación Bancaria, S.A.\", \n",
    "                    \"num_pdfs\":\"3\", \n",
    "                    \"last_updated\":\"210401\", \n",
    "                    \"sum_sizes\":\"40\", \n",
    "                    \"bp_bank_id\":\"0170\"}\n",
    "             ,\n",
    "              \"2\":{\"url\":\"https://www.bankinter.pt\", \n",
    "                    \"name\":\"Bankinter, S.A.\", \n",
    "                    \"num_pdfs\":\"3\", \n",
    "                    \"last_updated\":\"210401\", \n",
    "                    \"sum_sizes\":\"40\", \n",
    "                    \"bp_bank_id\":\"0269\"}\n",
    "              ,\n",
    "              \"3\":{\"url\":\"https://www.bancobic.ao\", \n",
    "                    \"name\":\"Banco BIC, SA\", \n",
    "                    \"num_pdfs\":\"3\", \n",
    "                    \"last_updated\":\"210401\", \n",
    "                    \"sum_sizes\":\"40\", \n",
    "                    \"bp_bank_id\":\"0079\"}\n",
    "              }\n",
    "r = requests.post(url=url , json=dic)"
   ]
  },
  {
   "cell_type": "code",
   "execution_count": 9,
   "metadata": {
    "ExecuteTime": {
     "end_time": "2021-04-01T21:52:49.713810Z",
     "start_time": "2021-04-01T21:52:49.697623Z"
    }
   },
   "outputs": [
    {
     "data": {
      "text/plain": [
       "{'1': {'bp_bank_id': '0170',\n",
       "  'bp_pdf_url': 'https://clientebancario.bportugal.pt/sites/default/files/precario/0170_/0170_PRE.pdf',\n",
       "  'last_updated': '210401',\n",
       "  'list_pdfs': ['https://www.abanca.pt/files/documents/precario-folheto-comissoes-823a7663.pdf',\n",
       "   'https://www.abanca.pt/files/documents/folheto-taxa-juro-precario-5890906f.pdf',\n",
       "   'https://www.abanca.pt/files/documents/precariodevaloresmobiliarios-23c714a2.pdf',\n",
       "   'https://www.abanca.pt/files/documents/glossario-6479e89f.pdf',\n",
       "   'https://www.abanca.pt/files/docs/leaflet-your-rights-payments-eu.pdf'],\n",
       "  'name': 'ABANCA Corporación Bancaria, S.A.',\n",
       "  'num_pdfs': 5,\n",
       "  'price_page': 'https://www.abanca.pt/pt/precario/',\n",
       "  'sum_sizes': '40',\n",
       "  'url': 'https://www.abanca.pt'},\n",
       " '2': {'bp_bank_id': '0269',\n",
       "  'bp_pdf_url': 'https://clientebancario.bportugal.pt/sites/default/files/precario/0269_/0269_PRE.pdf',\n",
       "  'last_updated': '210401',\n",
       "  'list_pdfs': ['https://www.bankinter.pt/documents/20182/115991/Pre%C3%A7%C3%A1rio+Completo+TFSI++20210401.pdf/c489f0cd-3831-4441-812e-f351741d2b22',\n",
       "   'https://banco.bankinter.pt/particulares/pdfs/precario/folha_rosto.pdf',\n",
       "   'https://banco.bankinter.pt/particulares/pdfs/precario/informacao_geral.pdf',\n",
       "   'https://banco.bankinter.pt/particulares/pdfs/precario/informacao_complementar.pdf',\n",
       "   'https://banco.bankinter.pt/particulares/pdfs/precario/p_fcd_contas_deposito.pdf',\n",
       "   'https://banco.bankinter.pt/particulares/pdfs/precario/p_fcd_operacoes_credito.pdf',\n",
       "   'https://banco.bankinter.pt/particulares/pdfs/precario/p_fcd_cartoes_credito_debito.pdf',\n",
       "   'https://banco.bankinter.pt/particulares/pdfs/precario/p_fcd_cheques.pdf',\n",
       "   'https://banco.bankinter.pt/particulares/pdfs/precario/p_fcd_transferencias.pdf',\n",
       "   'https://banco.bankinter.pt/particulares/pdfs/precario/p_fcd_cobrancas.pdf',\n",
       "   'https://banco.bankinter.pt/particulares/pdfs/precario/p_fcd_prestacao_servicos.pdf',\n",
       "   'https://banco.bankinter.pt/particulares/pdfs/precario/o_fcd_contas_deposito.pdf',\n",
       "   'https://banco.bankinter.pt/particulares/pdfs/precario/o_fcd_operacoes_credito.pdf',\n",
       "   'https://banco.bankinter.pt/particulares/pdfs/precario/o_fcd_cartoes_credito_debito.pdf',\n",
       "   'https://banco.bankinter.pt/particulares/pdfs/precario/o_fcd_cheques.pdf',\n",
       "   'https://banco.bankinter.pt/particulares/pdfs/precario/o_fcd_transferencias.pdf',\n",
       "   'https://banco.bankinter.pt/particulares/pdfs/precario/o_fcd_cobrancas.pdf',\n",
       "   'https://banco.bankinter.pt/particulares/pdfs/precario/o_fcd_prestacao_servicos.pdf',\n",
       "   'https://banco.bankinter.pt/particulares/pdfs/precario/o_fcd_operacoes_estrangeiro.pdf',\n",
       "   'https://banco.bankinter.pt/particulares/pdfs/precario/p_ftj_contas_deposito.pdf',\n",
       "   'https://banco.bankinter.pt/particulares/pdfs/precario/p_ftj_operacoes_credito.pdf',\n",
       "   'https://banco.bankinter.pt/particulares/pdfs/precario/o_ftj_contas_deposito.pdf',\n",
       "   'https://banco.bankinter.pt/particulares/pdfs/precario/o_ftj_operacoes_credito.pdf',\n",
       "   'https://banco.bankinter.pt/particulares/pdfs/precario/ptfs_a.pdf',\n",
       "   'https://banco.bankinter.pt/particulares/pdfs/precario/ptfs_b.pdf',\n",
       "   'https://banco.bankinter.pt/particulares/pdfs/precario/ptfs_c.pdf',\n",
       "   'https://banco.bankinter.pt/particulares/pdfs/precario/ptfs_d.pdf'],\n",
       "  'name': 'Bankinter, S.A.',\n",
       "  'num_pdfs': 27,\n",
       "  'price_page': 'https://www.bankinter.pt/precario1',\n",
       "  'sum_sizes': '40',\n",
       "  'url': 'https://www.bankinter.pt'},\n",
       " '3': {'bp_bank_id': '0079',\n",
       "  'bp_pdf_url': 'https://clientebancario.bportugal.pt/sites/default/files/precario/0079_/0079_PRE.pdf',\n",
       "  'last_updated': '210401',\n",
       "  'list_pdfs': ['https://www.bancobic.ao/dotAsset/0f07d8a4-4ec3-4111-a453-c4ee14d5c66c.pdf',\n",
       "   'https://www.bancobic.ao/dotAsset/7e1e6dd2-9d56-43ef-b398-ac3bac3cc70e.pdf'],\n",
       "  'name': 'Banco BIC, SA',\n",
       "  'num_pdfs': 2,\n",
       "  'price_page': 'https://www.bancobic.ao/inicio/precario',\n",
       "  'sum_sizes': '40',\n",
       "  'url': 'https://www.bancobic.ao'}}"
      ]
     },
     "execution_count": 9,
     "metadata": {},
     "output_type": "execute_result"
    }
   ],
   "source": [
    "r.json()"
   ]
  },
  {
   "cell_type": "code",
   "execution_count": null,
   "metadata": {},
   "outputs": [],
   "source": []
  }
 ],
 "metadata": {
  "kernelspec": {
   "display_name": "Python 3",
   "language": "python",
   "name": "python3"
  },
  "language_info": {
   "codemirror_mode": {
    "name": "ipython",
    "version": 3
   },
   "file_extension": ".py",
   "mimetype": "text/x-python",
   "name": "python",
   "nbconvert_exporter": "python",
   "pygments_lexer": "ipython3",
   "version": "3.8.6"
  },
  "toc": {
   "base_numbering": 1,
   "nav_menu": {},
   "number_sections": true,
   "sideBar": true,
   "skip_h1_title": false,
   "title_cell": "Table of Contents",
   "title_sidebar": "Contents",
   "toc_cell": false,
   "toc_position": {},
   "toc_section_display": true,
   "toc_window_display": false
  }
 },
 "nbformat": 4,
 "nbformat_minor": 4
}
