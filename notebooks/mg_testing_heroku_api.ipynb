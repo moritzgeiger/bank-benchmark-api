{
 "cells": [
  {
   "cell_type": "markdown",
   "metadata": {},
   "source": [
    "# Imports"
   ]
  },
  {
   "cell_type": "code",
   "execution_count": 11,
   "metadata": {},
   "outputs": [],
   "source": [
    "import requests\n",
    "from flask import jsonify\n",
    "import json\n",
    "from datetime import date, time, datetime"
   ]
  },
  {
   "cell_type": "markdown",
   "metadata": {},
   "source": [
    "# Testing POST /merge_pdfs endpoint"
   ]
  },
  {
   "cell_type": "code",
   "execution_count": 12,
   "metadata": {},
   "outputs": [],
   "source": [
    "body_all = {\"1\": {\"bp_bank_id\": \"0170\",\n",
    "             \"last_updated\": \"2021-04-06\",\n",
    "             \"url\": \"https://www.abanca.pt\"\n",
    "             },\n",
    "             \"2\": {\"bp_bank_id\": \"0269\",\n",
    "             \"last_updated\": \"2021-04-06\",\n",
    "             \"url\": \"https://www.bankinter.pt\"\n",
    "             },\n",
    "             \"3\": {\"bp_bank_id\": \"0079\",\n",
    "             \"last_updated\": \"2021-04-06\",\n",
    "             \"url\": \"https://www.bancobic.ao\"\n",
    "             },\n",
    "             \"4\": {\"bp_bank_id\": \"0008\",\n",
    "             \"last_updated\": \"2021-04-06\",\n",
    "             \"url\": \"https://www.bancobai.ao\"\n",
    "             },\n",
    "             \"5\": {\"bp_bank_id\": \"0193\",\n",
    "             \"last_updated\": \"2021-04-06\",\n",
    "             \"url\": \"https://www.bancoctt.pt/\"\n",
    "             }\n",
    "            }"
   ]
  },
  {
   "cell_type": "code",
   "execution_count": 13,
   "metadata": {},
   "outputs": [],
   "source": [
    "# requires this request body\n",
    "body = {\"1\": {\"bp_bank_id\": \"0170\",\n",
    "  \"last_updated\": \"2021-04-06\",\n",
    "  \"url\": \"https://www.abanca.pt\"\n",
    "  }\n",
    "}"
   ]
  },
  {
   "cell_type": "code",
   "execution_count": 14,
   "metadata": {},
   "outputs": [],
   "source": [
    "# setting urls for localhost and heroku\n",
    "url = \"http://127.0.0.1:5000/merge_pdfs\"\n",
    "url_h = 'https://bank-price-api.herokuapp.com/merge_pdfs'"
   ]
  },
  {
   "cell_type": "code",
   "execution_count": 15,
   "metadata": {},
   "outputs": [],
   "source": [
    "response = requests.post(url, data = None, json = body).json()"
   ]
  },
  {
   "cell_type": "code",
   "execution_count": 16,
   "metadata": {},
   "outputs": [],
   "source": [
    "ident = response.get('ident')"
   ]
  },
  {
   "cell_type": "code",
   "execution_count": 17,
   "metadata": {},
   "outputs": [
    {
     "data": {
      "text/plain": [
       "488"
      ]
     },
     "execution_count": 17,
     "metadata": {},
     "output_type": "execute_result"
    }
   ],
   "source": [
    "ident"
   ]
  },
  {
   "cell_type": "markdown",
   "metadata": {},
   "source": [
    "## Testing GET /retrievepdfs"
   ]
  },
  {
   "cell_type": "markdown",
   "metadata": {},
   "source": [
    "Since the ```/merge_pdfs``` job can take some time and we want to avoid heroku timeout issues the job is done in the background. To pick up the requested file, the rails app can go to this endpoint after some waiting time. \n",
    "There will be only one required argument ```ident``` to be passed to the GET request which was given before by the response of ```/merge_pdfs```."
   ]
  },
  {
   "cell_type": "code",
   "execution_count": 18,
   "metadata": {},
   "outputs": [],
   "source": [
    "# setting urls for localhost and heroku\n",
    "url = \"http://127.0.0.1:5000/retrievepdfs\"\n",
    "url_h = 'https://bank-price-api.herokuapp.com/retrievepdfs'"
   ]
  },
  {
   "cell_type": "code",
   "execution_count": 19,
   "metadata": {},
   "outputs": [],
   "source": [
    "params = {'ident':ident}"
   ]
  },
  {
   "cell_type": "code",
   "execution_count": 20,
   "metadata": {},
   "outputs": [],
   "source": [
    "# call this after logs say: 'updated bank.json ready for pickup with ident: <ident>'\n",
    "response = requests.get(url, params=params).json()"
   ]
  },
  {
   "cell_type": "code",
   "execution_count": 21,
   "metadata": {
    "scrolled": true
   },
   "outputs": [
    {
     "data": {
      "text/plain": [
       "{'1': {'bp_bank_id': '0170',\n",
       "  'bp_pdf_url': 'https://clientebancario.bportugal.pt/sites/default/files/precario/0170_/0170_PRE.pdf',\n",
       "  'last_updated': '2021-04-14',\n",
       "  'list_pdfs': {'cloud_merged_url': 'https://storage.googleapis.com/bank_price_pdfs/1_all_products_210414110502.pdf',\n",
       "   'cloud_url_size': '2548956',\n",
       "   'urls': ['https://www.abanca.pt/files/documents/precario-folheto-comissoes-60ba13f9.pdf',\n",
       "    'https://www.abanca.pt/files/documents/folheto-taxa-juro-precario-5890906f.pdf',\n",
       "    'https://www.abanca.pt/files/documents/precariodevaloresmobiliarios-23c714a2.pdf',\n",
       "    'https://www.abanca.pt/files/docs/precario-contasempresa-aviso8-2009.pdf',\n",
       "    'https://www.abanca.pt/files/documents/glossario-6479e89f.pdf',\n",
       "    'https://www.abanca.pt/files/docs/leaflet-your-rights-payments-eu.pdf']},\n",
       "  'num_pdfs': 6,\n",
       "  'price_page': 'https://www.abanca.pt/pt/precario/',\n",
       "  'status': 'ok',\n",
       "  'url': 'https://www.abanca.pt'}}"
      ]
     },
     "execution_count": 21,
     "metadata": {},
     "output_type": "execute_result"
    }
   ],
   "source": [
    "response"
   ]
  },
  {
   "cell_type": "code",
   "execution_count": 23,
   "metadata": {},
   "outputs": [],
   "source": [
    "# saving infos for the other endpoints\n",
    "bp_pdf_url = response.get('1').get('bp_pdf_url')\n",
    "bp_bank_id = response.get('1').get('bp_bank_id')"
   ]
  },
  {
   "cell_type": "code",
   "execution_count": null,
   "metadata": {},
   "outputs": [],
   "source": []
  },
  {
   "cell_type": "code",
   "execution_count": null,
   "metadata": {},
   "outputs": [],
   "source": []
  },
  {
   "cell_type": "markdown",
   "metadata": {},
   "source": [
    "# Testing POST /get_stats"
   ]
  },
  {
   "cell_type": "code",
   "execution_count": 24,
   "metadata": {},
   "outputs": [],
   "source": [
    "# requires this request body\n",
    "body = {\n",
    "    \"1\": {\n",
    "        \"url\": \"www.abanca.pt\",\n",
    "        \"bp_pdf_url\": bp_pdf_url,\n",
    "        \"bp_bank_id\": bp_bank_id,\n",
    "        \"cloud_merged_url\": \"https://storage.googleapis.com/bank_price_pdfs/1_all_products_210412130040.pdf\",\n",
    "        \"products\": {\"demand_deposit\":\n",
    "                {\n",
    "                    \"statement\": [\n",
    "                    \"Emissão de extrato\",\n",
    "                    \"Extrato Integrado\",\n",
    "                    \"Extrato Mensal\",\n",
    "                    \"Extrato integrado\",\n",
    "                    \"Extrato avulso\"\n",
    "                ],\n",
    "                \"documents_copy\": [\n",
    "                    \"Fotocópias de segundas vias de talões de depósito\",\n",
    "                    \"Emissão 2ªs Vias de Avisos e Outros Documentos\",\n",
    "                    \"Extracto avulso\",\n",
    "                    \"Segundas vias (pedido na agência)\"\n",
    "                ],\n",
    "                \"acc_manteinance\": [\n",
    "                    \"Manutenção de conta\",\n",
    "                    \"Comissão de manutenção de conta\",\n",
    "                    \"Comissão de Manutenção de Conta\",\n",
    "                    \"Manutenção de Conta Pacote\",\n",
    "                    \"Manutenção de Conta Base\",\n",
    "                    \"Manutenção de Conta Serviços Mínimos Bancários\"\n",
    "                ],\n",
    "                \"withdraw\": [\n",
    "                    \"Levantamento de numerário\",\n",
    "                    \"Levantamento de numerário ao balcão\",\n",
    "                    \"Comissão de Levantamento\",\n",
    "                    \"Levantamento de Numerário ao Balcão\",\n",
    "                    \"Levantamento de Numerário ao Balcão\"\n",
    "                ],\n",
    "                \"online_service\": [\n",
    "                    \"Adesão ao serviço de banca à distância\",\n",
    "                    \"Adesão ao serviço online\"\n",
    "                ],\n",
    "                \"cash_deposit\": [\n",
    "                    \"Depósito de moedas metálicas\",\n",
    "                    \"Depósito de moedas\",\n",
    "                    \" Depósito em moeda metálica (>= 100 moedas)\",\n",
    "                    \"Depósito de moedas ao balcão\",\n",
    "                    \"Depósito de dinheiro ao balcão\",\n",
    "                    \"Depósito em moeda metálica (>= 100 moedas)\"\n",
    "                ],\n",
    "                \"change_holder\": [\n",
    "                    \"Alteração de titulares\",\n",
    "                    \"Alteração de titularidade\",\n",
    "                    \"Comissão de Alteração de Titularidade\",\n",
    "                    \"Alteração de titularidade / intervenientes\",\n",
    "                    \"Alteração de titularidade (titular/ representante)\"\n",
    "                ],\n",
    "                \"bank_overdraft\": [\n",
    "                    \"Comissões por descoberto bancário\",\n",
    "                    \"Descoberto bancário\",\n",
    "                    \"Comissões por Descoberto Bancário\"\n",
    "                ],\n",
    "                \"movement_consultation\": [\n",
    "                    \"Consulta de Movimentos de conta DO com\",\n",
    "                    \"Consulta de movimentos ao balcão\"\n",
    "                ],\n",
    "                \"balance_inquiry\": [\n",
    "                    \"Pedido de saldo ao balcão\",\n",
    "                    \"Consulta de Saldo de conta DO com comprovativo\"\n",
    "                ],\n",
    "                \"portuguese\": \"Contas de Depósito\"\n",
    "            }\n",
    "        }\n",
    "    }\n",
    "}"
   ]
  },
  {
   "cell_type": "code",
   "execution_count": 25,
   "metadata": {},
   "outputs": [],
   "source": [
    "# setting urls for localhost and heroku\n",
    "url = \"http://127.0.0.1:5000/get_stats\"\n",
    "url_h = 'https://bank-price-api.herokuapp.com/get_stats'"
   ]
  },
  {
   "cell_type": "code",
   "execution_count": 26,
   "metadata": {},
   "outputs": [],
   "source": [
    "response = requests.post(url, data = None, json = body).json()"
   ]
  },
  {
   "cell_type": "code",
   "execution_count": 29,
   "metadata": {},
   "outputs": [],
   "source": [
    "ident_s = response.get('ident')"
   ]
  },
  {
   "cell_type": "code",
   "execution_count": 30,
   "metadata": {},
   "outputs": [
    {
     "data": {
      "text/plain": [
       "8334"
      ]
     },
     "execution_count": 30,
     "metadata": {},
     "output_type": "execute_result"
    }
   ],
   "source": [
    "ident_s"
   ]
  },
  {
   "cell_type": "markdown",
   "metadata": {},
   "source": [
    "## Testing GET /retrievestats"
   ]
  },
  {
   "cell_type": "markdown",
   "metadata": {},
   "source": [
    "Since the ```/get_stats``` job can take some time and we want to avoid heroku timeout issues the job is done in the background. To pick up the requested file, the rails app can go to this endpoint after some waiting time. \n",
    "There will be only one required argument ```ident``` to be passed to the GET request which was given before by the response of ```/get_stats```."
   ]
  },
  {
   "cell_type": "code",
   "execution_count": 9,
   "metadata": {},
   "outputs": [],
   "source": [
    "# setting urls for localhost and heroku\n",
    "url = \"http://127.0.0.1:5000/retrievestats\"\n",
    "url_h = 'https://bank-price-api.herokuapp.com/retrievestats'"
   ]
  },
  {
   "cell_type": "code",
   "execution_count": 31,
   "metadata": {},
   "outputs": [],
   "source": [
    "params = {'ident':ident_s}"
   ]
  },
  {
   "cell_type": "code",
   "execution_count": null,
   "metadata": {},
   "outputs": [],
   "source": [
    "# call this after logs say: 'bank price json with <ident> loaded, supplied and removed from server'\n",
    "response = requests.get(url, params=params).json()"
   ]
  },
  {
   "cell_type": "code",
   "execution_count": null,
   "metadata": {},
   "outputs": [],
   "source": [
    "response"
   ]
  },
  {
   "cell_type": "code",
   "execution_count": null,
   "metadata": {},
   "outputs": [],
   "source": []
  }
 ],
 "metadata": {
  "kernelspec": {
   "display_name": "Python 3",
   "language": "python",
   "name": "python3"
  },
  "language_info": {
   "codemirror_mode": {
    "name": "ipython",
    "version": 3
   },
   "file_extension": ".py",
   "mimetype": "text/x-python",
   "name": "python",
   "nbconvert_exporter": "python",
   "pygments_lexer": "ipython3",
   "version": "3.9.1"
  },
  "toc": {
   "base_numbering": 1,
   "nav_menu": {},
   "number_sections": true,
   "sideBar": true,
   "skip_h1_title": false,
   "title_cell": "Table of Contents",
   "title_sidebar": "Contents",
   "toc_cell": false,
   "toc_position": {},
   "toc_section_display": true,
   "toc_window_display": false
  }
 },
 "nbformat": 4,
 "nbformat_minor": 4
}
