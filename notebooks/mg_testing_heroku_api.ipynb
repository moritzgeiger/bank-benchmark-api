{
 "cells": [
  {
   "cell_type": "markdown",
   "metadata": {},
   "source": [
    "# Imports"
   ]
  },
  {
   "cell_type": "code",
   "execution_count": 53,
   "metadata": {},
   "outputs": [],
   "source": [
    "import requests\n",
    "from flask import jsonify\n",
    "import json\n",
    "from datetime import date, time, datetime\n",
    "from seleniumrequests import Firefox, PhantomJS\n",
    "from bs4 import BeautifulSoup\n",
    "from selenium import webdriver\n",
    "from urllib.parse import urljoin\n",
    "from urllib.request import Request, urlopen\n",
    "from io import StringIO, BytesIO\n",
    "import pdfminer.layout\n",
    "import pdfminer.high_level\n",
    "import pdfplumber\n",
    "import pdfminer.pdftypes\n",
    "from pdfminer.high_level import extract_pages\n",
    "from pdfminer.layout import LTTextContainer, LTChar, LTTextBox\n",
    "from pdfminer.pdfpage import PDFPage\n",
    "import ssl\n",
    "import certifi\n",
    "from PyPDF2 import PdfFileReader, PdfFileMerger, PdfFileWriter\n",
    "import os\n",
    "import requests\n"
   ]
  },
  {
   "cell_type": "markdown",
   "metadata": {},
   "source": [
    "# Testing POST /merge_pdfs endpoint"
   ]
  },
  {
   "cell_type": "code",
   "execution_count": 5,
   "metadata": {},
   "outputs": [],
   "source": [
    "body_all = {\"1\": {\"bp_bank_id\": \"0170\",\n",
    "             \"last_updated\": \"2021-04-06\",\n",
    "             \"url\": \"https://www.abanca.pt\"\n",
    "             },\n",
    "             \"2\": {\"bp_bank_id\": \"0269\",\n",
    "             \"last_updated\": \"2021-04-06\",\n",
    "             \"url\": \"https://www.bankinter.pt\"\n",
    "             },\n",
    "             \"3\": {\"bp_bank_id\": \"0079\",\n",
    "             \"last_updated\": \"2021-04-06\",\n",
    "             \"url\": \"https://www.bancobic.ao\"\n",
    "             },\n",
    "             \"4\": {\"bp_bank_id\": \"0008\",\n",
    "             \"last_updated\": \"2021-04-06\",\n",
    "             \"url\": \"https://www.bancobai.ao\"\n",
    "             },\n",
    "             \"5\": {\"bp_bank_id\": \"0193\",\n",
    "             \"last_updated\": \"2021-04-06\",\n",
    "             \"url\": \"https://www.bancoctt.pt/\"\n",
    "             }\n",
    "            }"
   ]
  },
  {
   "cell_type": "code",
   "execution_count": 23,
   "metadata": {},
   "outputs": [],
   "source": [
    "# requires this request body\n",
    "body = {\"3\": {\"bp_bank_id\": \"0079\",\n",
    "\"last_updated\": \"2021-04-06\",\n",
    "\"url\": \"https://www.eurobic.pt/\"\n",
    "}\n",
    "}\n",
    "headers = {'User-Agent':'Chrome/50.0.2661.102'}"
   ]
  },
  {
   "cell_type": "code",
   "execution_count": 28,
   "metadata": {},
   "outputs": [],
   "source": [
    "# setting urls for localhost and heroku\n",
    "url = \"http://127.0.0.1:5000/merge_pdfs\"\n",
    "url_h = 'https://bank-price-api.herokuapp.com/merge_pdfs'"
   ]
  },
  {
   "cell_type": "code",
   "execution_count": 29,
   "metadata": {},
   "outputs": [],
   "source": [
    "response = requests.post(url, data = None, json = body, headers=headers, verify = False).json()"
   ]
  },
  {
   "cell_type": "code",
   "execution_count": 18,
   "metadata": {},
   "outputs": [],
   "source": [
    "ident = response.get('ident')"
   ]
  },
  {
   "cell_type": "code",
   "execution_count": 7,
   "metadata": {},
   "outputs": [
    {
     "data": {
      "text/plain": [
       "636"
      ]
     },
     "execution_count": 7,
     "metadata": {},
     "output_type": "execute_result"
    }
   ],
   "source": [
    "ident"
   ]
  },
  {
   "cell_type": "markdown",
   "metadata": {},
   "source": [
    "## Testing GET /retrievepdfs"
   ]
  },
  {
   "cell_type": "markdown",
   "metadata": {},
   "source": [
    "Since the ```/merge_pdfs``` job can take some time and we want to avoid heroku timeout issues the job is done in the background. To pick up the requested file, the rails app can go to this endpoint after some waiting time. \n",
    "There will be only one required argument ```ident``` to be passed to the GET request which was given before by the response of ```/merge_pdfs```."
   ]
  },
  {
   "cell_type": "code",
   "execution_count": 8,
   "metadata": {},
   "outputs": [],
   "source": [
    "# setting urls for localhost and heroku\n",
    "url = \"http://127.0.0.1:5000/retrievepdfs\"\n",
    "url_h = 'https://bank-price-api.herokuapp.com/retrievepdfs'"
   ]
  },
  {
   "cell_type": "code",
   "execution_count": 15,
   "metadata": {},
   "outputs": [
    {
     "ename": "NameError",
     "evalue": "name 'ident' is not defined",
     "output_type": "error",
     "traceback": [
      "\u001b[0;31m---------------------------------------------------------------------------\u001b[0m",
      "\u001b[0;31mNameError\u001b[0m                                 Traceback (most recent call last)",
      "\u001b[0;32m<ipython-input-15-d19fa9c8009a>\u001b[0m in \u001b[0;36m<module>\u001b[0;34m\u001b[0m\n\u001b[0;32m----> 1\u001b[0;31m \u001b[0mparams\u001b[0m \u001b[0;34m=\u001b[0m \u001b[0;34m{\u001b[0m\u001b[0;34m'ident'\u001b[0m\u001b[0;34m:\u001b[0m\u001b[0mident\u001b[0m\u001b[0;34m}\u001b[0m\u001b[0;34m\u001b[0m\u001b[0;34m\u001b[0m\u001b[0m\n\u001b[0m\u001b[1;32m      2\u001b[0m \u001b[0mheaders\u001b[0m \u001b[0;34m=\u001b[0m \u001b[0;34m{\u001b[0m\u001b[0;34m'Accept-Language'\u001b[0m\u001b[0;34m:\u001b[0m \u001b[0;34m'pt-PT'\u001b[0m\u001b[0;34m}\u001b[0m\u001b[0;34m\u001b[0m\u001b[0;34m\u001b[0m\u001b[0m\n",
      "\u001b[0;31mNameError\u001b[0m: name 'ident' is not defined"
     ]
    }
   ],
   "source": [
    "params = {'ident':ident}\n"
   ]
  },
  {
   "cell_type": "code",
   "execution_count": 10,
   "metadata": {},
   "outputs": [],
   "source": [
    "# call this after logs say: 'updated bank.json ready for pickup with ident: <ident>'\n",
    "response = requests.get(url, params=params).json()"
   ]
  },
  {
   "cell_type": "code",
   "execution_count": 11,
   "metadata": {
    "scrolled": true
   },
   "outputs": [
    {
     "data": {
      "text/plain": [
       "{'message': \"sourcing job not finished or initialized or ident: 636 is not available. first call /merge_pdfs and wait for backgroundjob to finish. Error msg: [Errno 2] No such file or directory: 'bank_benchmark_api/data/banks_636.json'\",\n",
       " 'status': 'error'}"
      ]
     },
     "execution_count": 11,
     "metadata": {},
     "output_type": "execute_result"
    }
   ],
   "source": [
    "response"
   ]
  },
  {
   "cell_type": "code",
   "execution_count": 12,
   "metadata": {},
   "outputs": [
    {
     "ename": "AttributeError",
     "evalue": "'NoneType' object has no attribute 'get'",
     "output_type": "error",
     "traceback": [
      "\u001b[0;31m---------------------------------------------------------------------------\u001b[0m",
      "\u001b[0;31mAttributeError\u001b[0m                            Traceback (most recent call last)",
      "\u001b[0;32m<ipython-input-12-365dda66b03a>\u001b[0m in \u001b[0;36m<module>\u001b[0;34m\u001b[0m\n\u001b[1;32m      1\u001b[0m \u001b[0;31m# saving infos for the other endpoints\u001b[0m\u001b[0;34m\u001b[0m\u001b[0;34m\u001b[0m\u001b[0;34m\u001b[0m\u001b[0m\n\u001b[0;32m----> 2\u001b[0;31m \u001b[0mbp_pdf_url\u001b[0m \u001b[0;34m=\u001b[0m \u001b[0mresponse\u001b[0m\u001b[0;34m.\u001b[0m\u001b[0mget\u001b[0m\u001b[0;34m(\u001b[0m\u001b[0;34m'1'\u001b[0m\u001b[0;34m)\u001b[0m\u001b[0;34m.\u001b[0m\u001b[0mget\u001b[0m\u001b[0;34m(\u001b[0m\u001b[0;34m'bp_pdf_url'\u001b[0m\u001b[0;34m)\u001b[0m\u001b[0;34m\u001b[0m\u001b[0;34m\u001b[0m\u001b[0m\n\u001b[0m\u001b[1;32m      3\u001b[0m \u001b[0mbp_bank_id\u001b[0m \u001b[0;34m=\u001b[0m \u001b[0mresponse\u001b[0m\u001b[0;34m.\u001b[0m\u001b[0mget\u001b[0m\u001b[0;34m(\u001b[0m\u001b[0;34m'1'\u001b[0m\u001b[0;34m)\u001b[0m\u001b[0;34m.\u001b[0m\u001b[0mget\u001b[0m\u001b[0;34m(\u001b[0m\u001b[0;34m'bp_bank_id'\u001b[0m\u001b[0;34m)\u001b[0m\u001b[0;34m\u001b[0m\u001b[0;34m\u001b[0m\u001b[0m\n",
      "\u001b[0;31mAttributeError\u001b[0m: 'NoneType' object has no attribute 'get'"
     ]
    }
   ],
   "source": [
    "# saving infos for the other endpoints\n",
    "bp_pdf_url = response.get('1').get('bp_pdf_url')\n",
    "bp_bank_id = response.get('1').get('bp_bank_id')"
   ]
  },
  {
   "cell_type": "code",
   "execution_count": null,
   "metadata": {},
   "outputs": [],
   "source": []
  },
  {
   "cell_type": "code",
   "execution_count": null,
   "metadata": {},
   "outputs": [],
   "source": []
  },
  {
   "cell_type": "markdown",
   "metadata": {},
   "source": [
    "# Testing POST /get_stats"
   ]
  },
  {
   "cell_type": "code",
   "execution_count": 67,
   "metadata": {},
   "outputs": [],
   "source": [
    "# requires this request body\n",
    "body = {\n",
    "  \"1\": {\n",
    "    \"url\": \"https://www.abanca.pt\",\n",
    "    \"bp_pdf_url\": \"https://clientebancario.bportugal.pt/sites/default/files/precario/0193_/0193_PRE.pdf\",\n",
    "    \"bp_bank_id\": \"0193\",\n",
    "    \"cloud_merged_url\": \"https://storage.googleapis.com/bank_price_pdfs/1_all_products_210412130040.pdf\",\n",
    "    \"products\": {\n",
    "      \"demand_deposit\": {\n",
    "        \"commissions\": {\n",
    "          \"statement\": [\n",
    "            \"Emissão de extrato\",\n",
    "            \"Extrato Integrado\",\n",
    "            \"Extrato Mensal\",\n",
    "            \"Extrato integrado\",\n",
    "            \"Extrato avulso\"\n",
    "          ],\n",
    "          \"documents_copy\": [\n",
    "            \"Fotocópias de segundas vias de talões de depósito\",\n",
    "            \"Emissão 2ªs Vias de Avisos e Outros Documentos\",\n",
    "            \"Extracto avulso\",\n",
    "            \"Segundas vias (pedido na agência)\"\n",
    "          ],\n",
    "          \"acc_manteinance\": [\n",
    "            \"Manutenção de conta\",\n",
    "            \"Comissão de manutenção de conta\",\n",
    "            \"Comissão de Manutenção de Conta\",\n",
    "            \"Manutenção de Conta Pacote\",\n",
    "            \"Manutenção de Conta Base\",\n",
    "            \"Manutenção de Conta Serviços Mínimos Bancários\"\n",
    "          ],\n",
    "          \"withdraw\": [\n",
    "            \"Levantamento de numerário\",\n",
    "            \"Levantamento de numerário ao balcão\",\n",
    "            \"Comissão de Levantamento\",\n",
    "            \"Levantamento de Numerário ao Balcão\",\n",
    "            \"Levantamento de Numerário ao Balcão\"\n",
    "          ],\n",
    "          \"online_service\": [\n",
    "            \"Adesão ao serviço de banca à distância\",\n",
    "            \"Adesão ao serviço online\"\n",
    "          ],\n",
    "          \"cash_deposit\": [\n",
    "            \"Depósito de moedas metálicas\",\n",
    "            \"Depósito de moedas\",\n",
    "            \" Depósito em moeda metálica (>= 100 moedas)\",\n",
    "            \"Depósito de moedas ao balcão\",\n",
    "            \"Depósito de dinheiro ao balcão\",\n",
    "            \"Depósito em moeda metálica (>= 100 moedas)\"\n",
    "          ],\n",
    "          \"change_holder\": [\n",
    "            \"Alteração de titulares\",\n",
    "            \"Alteração de titularidade\",\n",
    "            \"Comissão de Alteração de Titularidade\",\n",
    "            \"Alteração de titularidade / intervenientes\",\n",
    "            \"Alteração de titularidade (titular/ representante)\"\n",
    "          ],\n",
    "          \"bank_overdraft\": [\n",
    "            \"Comissões por descoberto bancário\",\n",
    "            \"Descoberto bancário\",\n",
    "            \"Comissões por Descoberto Bancário\"\n",
    "          ],\n",
    "          \"movement_consultation\": [\n",
    "            \"Consulta de Movimentos de conta DO com\",\n",
    "            \"Consulta de movimentos ao balcão\"\n",
    "          ],\n",
    "          \"balance_inquiry\": [\n",
    "            \"Pedido de saldo ao balcão\",\n",
    "            \"Consulta de Saldo de conta DO com comprovativo\"\n",
    "          ]\n",
    "        },\n",
    "        \"portuguese\": \"Contas de Depósito\"\n",
    "      },\n",
    "      \"housing_credit\": {\n",
    "        \"commissions\": {\n",
    "          \"admin\": [\n",
    "            \"Comissões associadas a atos administrativos 4.1 Não realização da escritura\",\n",
    "            \"Alteração do local da escritura\",\n",
    "            \"Declarações de dívida\",\n",
    "            \"Mudança de regime de crédito\",\n",
    "            \"Declarações de dívida\",\n",
    "            \"Pedido de 2ª via de Caderneta Predial\",\n",
    "            \"Emissão de declarações não obrigatórias por lei\",\n",
    "            \"Emissão de 2ª vias de Declaração para efeitos de IRS – Urgente\",\n",
    "            \"Emissão de 2º vias de Declaração para efeitos de IRS\",\n",
    "            \"Emissão de 2ª vias de faturas\",\n",
    "            \"Declaração de Dívida para Fins Diversos\",\n",
    "            \"Declaração de Encargos com Prestações\"\n",
    "          ],\n",
    "          \"certificates\": [\n",
    "            \"Emolumentos do registo predial\",\n",
    "            \"registo predial\",\n",
    "            \"Certidão permanente on-line\"\n",
    "          ],\n",
    "          \"debt_recovery\": [\n",
    "            \"Comissão de recuperação de valores em dívida\",\n",
    "            \"Prestação até 50.000 €\",\n",
    "            \"Prestação > 50.000 €\",\n",
    "            \"Comissão de recuperação de valores em dívida\",\n",
    "            \"Prestação > 50.000,00€\",\n",
    "            \"Prestação ≤ 50.000,00€\"\n",
    "          ],\n",
    "          \"displacement\": [\n",
    "            \"Comissão de deslocação\",\n",
    "            \"Até 100 Kms\",\n",
    "            \"101 a 250 Kms\",\n",
    "            \"> 250 Kms \"\n",
    "          ],\n",
    "          \"early_payment\": [\n",
    "            \"Comissão de reembolso antecipado parcial\",\n",
    "            \"Taxa fixa\",\n",
    "            \"Taxa variável\",\n",
    "            \"Taxa fixa\",\n",
    "            \"Comissão de reembolso antecipado total\",\n",
    "            \"Comissão de antecipação\",\n",
    "            \"(pré.aviso 7 dias)\",\n",
    "            \"Comissão de compra antecipada\",\n",
    "            \"(pré-aviso 10 dias)\",\n",
    "            \"Comissão de Reembolso Antecipado Parcial\",\n",
    "            \"Comissão de reembolso antecipado total\"\n",
    "          ],\n",
    "          \"evaluation\": [\n",
    "            \"Avaliação\",\n",
    "            \"Imóvel residencial\",\n",
    "            \"Garagens e arrecadações não anexas ao imóvel residencial\",\n",
    "            \"Avaliação do Imóvel\"\n",
    "          ],\n",
    "          \"formalization\": [\n",
    "            \"Comissão de formalização\",\n",
    "            \"Formalização\"\n",
    "          ],\n",
    "          \"process\": [\n",
    "            \"Processo\",\n",
    "            \"Abertura de Processo\",\n",
    "            \"Desistência ou não conclusão do processo por motivos imputáveis ao cliente\"\n",
    "          ],\n",
    "          \"inspections\": [\n",
    "            \"Vistorias\",\n",
    "            \"em caso de construção ou realização de obras\"\n",
    "          ],\n",
    "          \"reanalysis\": [\n",
    "            \"Reanálise\"\n",
    "          ],\n",
    "          \"settlement\": [\n",
    "            \"Comissão de Liquidação de Prestação\",\n",
    "            \"Liquidação de Prestação\"\n",
    "          ],\n",
    "          \"solicitors_notary\": [\n",
    "            \"Emolumentos notariais\",\n",
    "            \"Solicitadoria\",\n",
    "            \"Notiário\"\n",
    "          ],\n",
    "          \"statements\": [\n",
    "            \"Emissão de extratos de conta de empréstimos liquidados\",\n",
    "            \"extrato\",\n",
    "            \"extratos\",\n",
    "            \"extrato de conta\",\n",
    "            \"extrato mensal\"\n",
    "          ],\n",
    "          \"taxes\": [\n",
    "            \"Imposto do Selo sobre concessão de crédito\",\n",
    "            \"imposto\",\n",
    "            \"imposto de selo\",\n",
    "            \"impostos\"\n",
    "          ],\n",
    "          \"termination\": [\n",
    "            \"Cessação da posição contratual\",\n",
    "            \"cessação\",\n",
    "            \"rescisão\",\n",
    "            \"encerramento\"\n",
    "          ]\n",
    "        },\n",
    "        \"portuguese\": \"Crédito à habitação e outros créditos hipotecários\"\n",
    "      }\n",
    "    }\n",
    "  }\n",
    "}\n"
   ]
  },
  {
   "cell_type": "code",
   "execution_count": 68,
   "metadata": {},
   "outputs": [],
   "source": [
    "# setting urls for localhost and heroku\n",
    "url = \"http://127.0.0.1:5000/get_stats\"\n",
    "url_h = 'https://bank-price-api.herokuapp.com/get_stats'"
   ]
  },
  {
   "cell_type": "code",
   "execution_count": 75,
   "metadata": {},
   "outputs": [
    {
     "data": {
      "text/plain": [
       "{'ident': 9731, 'started': True, 'status': 'ok', 'thread_name': 'Thread-3'}"
      ]
     },
     "execution_count": 75,
     "metadata": {},
     "output_type": "execute_result"
    }
   ],
   "source": [
    "response = requests.post(url, data = None, json = body).json()\n",
    "response"
   ]
  },
  {
   "cell_type": "code",
   "execution_count": null,
   "metadata": {},
   "outputs": [],
   "source": [
    "ident_s = response.get('ident')"
   ]
  },
  {
   "cell_type": "code",
   "execution_count": null,
   "metadata": {},
   "outputs": [],
   "source": [
    "ident_s"
   ]
  },
  {
   "cell_type": "markdown",
   "metadata": {},
   "source": [
    "## Testing GET /retrievestats"
   ]
  },
  {
   "cell_type": "markdown",
   "metadata": {},
   "source": [
    "Since the ```/get_stats``` job can take some time and we want to avoid heroku timeout issues the job is done in the background. To pick up the requested file, the rails app can go to this endpoint after some waiting time. \n",
    "There will be only one required argument ```ident``` to be passed to the GET request which was given before by the response of ```/get_stats```."
   ]
  },
  {
   "cell_type": "code",
   "execution_count": null,
   "metadata": {},
   "outputs": [],
   "source": [
    "# setting urls for localhost and heroku\n",
    "url = \"http://127.0.0.1:5000/retrievestats\"\n",
    "url_h = 'https://bank-price-api.herokuapp.com/retrievestats'"
   ]
  },
  {
   "cell_type": "code",
   "execution_count": null,
   "metadata": {},
   "outputs": [],
   "source": [
    "params = {'ident':ident_s}"
   ]
  },
  {
   "cell_type": "code",
   "execution_count": null,
   "metadata": {},
   "outputs": [],
   "source": [
    "# call this after logs say: 'bank price json with <ident> loaded, supplied and removed from server'\n",
    "response = requests.get(url, params=params).json()"
   ]
  },
  {
   "cell_type": "code",
   "execution_count": null,
   "metadata": {},
   "outputs": [],
   "source": [
    "response"
   ]
  },
  {
   "cell_type": "code",
   "execution_count": null,
   "metadata": {},
   "outputs": [],
   "source": []
  },
  {
   "cell_type": "markdown",
   "metadata": {},
   "source": [
    "# Special cases selenium"
   ]
  },
  {
   "cell_type": "code",
   "execution_count": 21,
   "metadata": {},
   "outputs": [],
   "source": [
    "proxies = {\n",
    " \"http\": \"http://185.51.92.108:51327\",\n",
    " \"https\": \"http://185.51.92.108:51327\",\n",
    "}\n",
    "headers = {'Accept-Language': 'pt-PT'}"
   ]
  },
  {
   "cell_type": "code",
   "execution_count": null,
   "metadata": {},
   "outputs": [],
   "source": [
    "## Bancobai doesnt allow automatized parsing: \n",
    "url = 'https://www.bancobaieuropa.pt'\n",
    "# response = requests.get(url, headers=headers, verify=False)"
   ]
  },
  {
   "cell_type": "code",
   "execution_count": null,
   "metadata": {},
   "outputs": [],
   "source": [
    "PHANTOMJS_PATH = '/opt/homebrew/bin/geckodriver'\n",
    "driver = webdriver.Firefox()\n",
    "driver.get(url)\n",
    "driver.implicitly_wait(8)\n",
    "body = driver.page_source"
   ]
  },
  {
   "cell_type": "code",
   "execution_count": 22,
   "metadata": {},
   "outputs": [
    {
     "ename": "NameError",
     "evalue": "name 'driver' is not defined",
     "output_type": "error",
     "traceback": [
      "\u001b[0;31m---------------------------------------------------------------------------\u001b[0m",
      "\u001b[0;31mNameError\u001b[0m                                 Traceback (most recent call last)",
      "\u001b[0;32m<ipython-input-22-4f422398a920>\u001b[0m in \u001b[0;36m<module>\u001b[0;34m\u001b[0m\n\u001b[1;32m      1\u001b[0m \u001b[0;31m# let's parse our html\u001b[0m\u001b[0;34m\u001b[0m\u001b[0;34m\u001b[0m\u001b[0;34m\u001b[0m\u001b[0m\n\u001b[1;32m      2\u001b[0m \u001b[0;34m\u001b[0m\u001b[0m\n\u001b[0;32m----> 3\u001b[0;31m \u001b[0msoup\u001b[0m\u001b[0;34m=\u001b[0m\u001b[0mBeautifulSoup\u001b[0m\u001b[0;34m(\u001b[0m\u001b[0mdriver\u001b[0m\u001b[0;34m.\u001b[0m\u001b[0mpage_source\u001b[0m\u001b[0;34m)\u001b[0m\u001b[0;34m\u001b[0m\u001b[0;34m\u001b[0m\u001b[0m\n\u001b[0m",
      "\u001b[0;31mNameError\u001b[0m: name 'driver' is not defined"
     ]
    }
   ],
   "source": [
    "# let's parse our html\n",
    "\n",
    "soup=BeautifulSoup(driver.page_source)"
   ]
  },
  {
   "cell_type": "code",
   "execution_count": 23,
   "metadata": {},
   "outputs": [
    {
     "ename": "NameError",
     "evalue": "name 'soup' is not defined",
     "output_type": "error",
     "traceback": [
      "\u001b[0;31m---------------------------------------------------------------------------\u001b[0m",
      "\u001b[0;31mNameError\u001b[0m                                 Traceback (most recent call last)",
      "\u001b[0;32m<ipython-input-23-37a44fc466d6>\u001b[0m in \u001b[0;36m<module>\u001b[0;34m\u001b[0m\n\u001b[1;32m      1\u001b[0m \u001b[0msearch\u001b[0m \u001b[0;34m=\u001b[0m \u001b[0;34m[\u001b[0m\u001b[0;34m'preçário'\u001b[0m\u001b[0;34m,\u001b[0m \u001b[0;34m'pricelist'\u001b[0m\u001b[0;34m,\u001b[0m \u001b[0;34m'precario'\u001b[0m\u001b[0;34m]\u001b[0m\u001b[0;34m\u001b[0m\u001b[0;34m\u001b[0m\u001b[0m\n\u001b[0;32m----> 2\u001b[0;31m \u001b[0;32mfor\u001b[0m \u001b[0mlink\u001b[0m \u001b[0;32min\u001b[0m \u001b[0msoup\u001b[0m\u001b[0;34m.\u001b[0m\u001b[0mfind_all\u001b[0m\u001b[0;34m(\u001b[0m\u001b[0;34m'a'\u001b[0m\u001b[0;34m,\u001b[0m \u001b[0mhref\u001b[0m\u001b[0;34m=\u001b[0m\u001b[0;32mTrue\u001b[0m\u001b[0;34m)\u001b[0m\u001b[0;34m:\u001b[0m\u001b[0;34m\u001b[0m\u001b[0;34m\u001b[0m\u001b[0m\n\u001b[0m\u001b[1;32m      3\u001b[0m     \u001b[0murl_prices\u001b[0m \u001b[0;34m=\u001b[0m \u001b[0mstr\u001b[0m\u001b[0;34m(\u001b[0m\u001b[0mlink\u001b[0m\u001b[0;34m.\u001b[0m\u001b[0mget\u001b[0m\u001b[0;34m(\u001b[0m\u001b[0;34m'href'\u001b[0m\u001b[0;34m)\u001b[0m\u001b[0;34m.\u001b[0m\u001b[0mlower\u001b[0m\u001b[0;34m(\u001b[0m\u001b[0;34m)\u001b[0m\u001b[0;34m.\u001b[0m\u001b[0mstrip\u001b[0m\u001b[0;34m(\u001b[0m\u001b[0;34m)\u001b[0m\u001b[0;34m)\u001b[0m\u001b[0;34m\u001b[0m\u001b[0;34m\u001b[0m\u001b[0m\n\u001b[1;32m      4\u001b[0m     \u001b[0mlower\u001b[0m \u001b[0;34m=\u001b[0m \u001b[0mstr\u001b[0m\u001b[0;34m(\u001b[0m\u001b[0mlink\u001b[0m\u001b[0;34m.\u001b[0m\u001b[0mstring\u001b[0m\u001b[0;34m)\u001b[0m\u001b[0;34m.\u001b[0m\u001b[0mlower\u001b[0m\u001b[0;34m(\u001b[0m\u001b[0;34m)\u001b[0m\u001b[0;34m.\u001b[0m\u001b[0mstrip\u001b[0m\u001b[0;34m(\u001b[0m\u001b[0;34m)\u001b[0m\u001b[0;34m\u001b[0m\u001b[0;34m\u001b[0m\u001b[0m\n\u001b[1;32m      5\u001b[0m     \u001b[0mtitle\u001b[0m \u001b[0;34m=\u001b[0m \u001b[0mstr\u001b[0m\u001b[0;34m(\u001b[0m\u001b[0mlink\u001b[0m\u001b[0;34m.\u001b[0m\u001b[0mget\u001b[0m\u001b[0;34m(\u001b[0m\u001b[0;34m'title'\u001b[0m\u001b[0;34m)\u001b[0m\u001b[0;34m)\u001b[0m\u001b[0;34m.\u001b[0m\u001b[0mstrip\u001b[0m\u001b[0;34m(\u001b[0m\u001b[0;34m)\u001b[0m\u001b[0;34m.\u001b[0m\u001b[0mlower\u001b[0m\u001b[0;34m(\u001b[0m\u001b[0;34m)\u001b[0m\u001b[0;34m\u001b[0m\u001b[0;34m\u001b[0m\u001b[0m\n",
      "\u001b[0;31mNameError\u001b[0m: name 'soup' is not defined"
     ]
    }
   ],
   "source": [
    "search = ['preçário', 'pricelist', 'precario']\n",
    "for link in soup.find_all('a', href=True):\n",
    "    url_prices = str(link.get('href').lower().strip())\n",
    "    lower = str(link.string).lower().strip()\n",
    "    title = str(link.get('title')).strip().lower()\n",
    "    searchstring = ' '.join([url_prices, lower, title])\n",
    "    if any([x in searchstring for x in search]):\n",
    "        print(f'found terms of {search} in string {searchstring}')"
   ]
  },
  {
   "cell_type": "code",
   "execution_count": 24,
   "metadata": {},
   "outputs": [
    {
     "ename": "NameError",
     "evalue": "name 'soup' is not defined",
     "output_type": "error",
     "traceback": [
      "\u001b[0;31m---------------------------------------------------------------------------\u001b[0m",
      "\u001b[0;31mNameError\u001b[0m                                 Traceback (most recent call last)",
      "\u001b[0;32m<ipython-input-24-468935a8f34d>\u001b[0m in \u001b[0;36m<module>\u001b[0;34m\u001b[0m\n\u001b[0;32m----> 1\u001b[0;31m \u001b[0msoup\u001b[0m\u001b[0;34m\u001b[0m\u001b[0;34m\u001b[0m\u001b[0m\n\u001b[0m",
      "\u001b[0;31mNameError\u001b[0m: name 'soup' is not defined"
     ]
    }
   ],
   "source": [
    "soup"
   ]
  },
  {
   "cell_type": "code",
   "execution_count": 25,
   "metadata": {},
   "outputs": [
    {
     "name": "stderr",
     "output_type": "stream",
     "text": [
      "InsecureRequestWarning: Unverified HTTPS request is being made to host 'www.bancobaieuropa.pt'. Adding certificate verification is strongly advised. See: https://urllib3.readthedocs.io/en/latest/advanced-usage.html#ssl-warnings [connectionpool.py:1013]\n"
     ]
    }
   ],
   "source": [
    "## now pdfs...\n",
    "pdfs = ['https://www.bancobaieuropa.pt/sites/default/files/2020-11/Servico_de_Mudanca_de_Conta_Bancaria_PT.pdf', 'https://www.bancobaieuropa.pt/sites/default/files/2020-11/Documento%2520de%2520Informa%25C3%25A7%25C3%25A3o%2520Sobre%2520Comiss%25C3%25B5es_PRT_com%2520declara%25C3%25A7%25C3%25A3o_v01102020.pdf', 'https://www.bancobaieuropa.pt/sites/default/files/2021-01/PRE-FC-20210125.pdf', 'https://www.bancobaieuropa.pt/sites/default/files/2021-04/PRE-FT-20210407.pdf', 'https://www.bancobaieuropa.pt/sites/default/files/2020-11/Gloss%25C3%25A1rio_Doc.%2520informa%25C3%25A7%25C3%25A3o%2520sobre%2520comiss%25C3%25B5es_PT%2520e%2520ENG.pdf', 'https://www.bancobaieuropa.pt/sites/default/files/2018-07/Servico_Mudanca_Conta_Bancaria.pdf', 'http://www.bancobaieuropa.pt/sites/default/files/2019-12/direitos-pagamentos-europa.pdf', 'https://www.bancobaieuropa.pt/sites/default/files/2018-03/direitos_e_deveres_dos_consumidores_credito.pdf', 'https://www.bancobaieuropa.pt/sites/default/files/2018-03/depositos_bancarios_direitos_deveres.pdf', 'https://www.bancobaieuropa.pt/sites/default/files/2021-03/ficha_%2520de_informacao_depositante.pdf']\n",
    "response = requests.get(pdfs[2], headers=headers, verify=False)"
   ]
  },
  {
   "cell_type": "code",
   "execution_count": 26,
   "metadata": {},
   "outputs": [],
   "source": [
    "def file_decrypt(pdf_url, filename=\"tempe.pdf\"):\n",
    "    \"\"\"Accepts pdf urls. Returns PyPDF2 FileReader Objects\"\"\"\n",
    "    print(f'file_decrypt was called for {pdf_url}')\n",
    "    response = requests.get(pdf_url, verify=False)\n",
    "    if response.status_code == 200:\n",
    "        temp = open(filename, \"wb\")\n",
    "        temp.write(response.content)\n",
    "        ## important: have to close again\n",
    "        temp.close()\n",
    "        # copies the file in temp.pdf / decrypts it and replaces the old file\n",
    "        command=\"cp \"+filename+\" temp.pdf; qpdf --password='' --decrypt temp.pdf \"+filename+ \"; rm temp.pdf\"\n",
    "        os.system(command)\n",
    "        print('file decrypted (with qpdf)')\n",
    "        #re-open the decrypted file\n",
    "        pdfFile = PdfFileReader(filename)\n",
    "        # removing tempe file\n",
    "        os.remove(filename)\n",
    "        return pdfFile\n",
    "    else:\n",
    "        print(f'{url} could not be reached with file_decrypt. Response: {response}')\n",
    "        return None"
   ]
  },
  {
   "cell_type": "code",
   "execution_count": 30,
   "metadata": {
    "scrolled": true
   },
   "outputs": [
    {
     "name": "stderr",
     "output_type": "stream",
     "text": [
      "InsecureRequestWarning: Unverified HTTPS request is being made to host 'www.bancobaieuropa.pt'. Adding certificate verification is strongly advised. See: https://urllib3.readthedocs.io/en/latest/advanced-usage.html#ssl-warnings [connectionpool.py:1013]\n",
      "InsecureRequestWarning: Unverified HTTPS request is being made to host 'www.bancobaieuropa.pt'. Adding certificate verification is strongly advised. See: https://urllib3.readthedocs.io/en/latest/advanced-usage.html#ssl-warnings [connectionpool.py:1013]\n"
     ]
    },
    {
     "name": "stdout",
     "output_type": "stream",
     "text": [
      "skipping: https://www.bancobaieuropa.pt/sites/default/files/2020-11/Documento%2520de%2520Informa%25C3%25A7%25C3%25A3o%2520Sobre%2520Comiss%25C3%25B5es_PRT_com%2520declara%25C3%25A7%25C3%25A3o_v01102020.pdf, error: EOF marker not found\n"
     ]
    },
    {
     "name": "stderr",
     "output_type": "stream",
     "text": [
      "InsecureRequestWarning: Unverified HTTPS request is being made to host 'www.bancobaieuropa.pt'. Adding certificate verification is strongly advised. See: https://urllib3.readthedocs.io/en/latest/advanced-usage.html#ssl-warnings [connectionpool.py:1013]\n"
     ]
    },
    {
     "name": "stdout",
     "output_type": "stream",
     "text": [
      "file is encrypted\n",
      "file_decrypt was called for https://www.bancobaieuropa.pt/sites/default/files/2021-01/PRE-FC-20210125.pdf\n"
     ]
    },
    {
     "name": "stderr",
     "output_type": "stream",
     "text": [
      "InsecureRequestWarning: Unverified HTTPS request is being made to host 'www.bancobaieuropa.pt'. Adding certificate verification is strongly advised. See: https://urllib3.readthedocs.io/en/latest/advanced-usage.html#ssl-warnings [connectionpool.py:1013]\n"
     ]
    },
    {
     "name": "stdout",
     "output_type": "stream",
     "text": [
      "file decrypted (with qpdf)\n"
     ]
    },
    {
     "name": "stderr",
     "output_type": "stream",
     "text": [
      "InsecureRequestWarning: Unverified HTTPS request is being made to host 'www.bancobaieuropa.pt'. Adding certificate verification is strongly advised. See: https://urllib3.readthedocs.io/en/latest/advanced-usage.html#ssl-warnings [connectionpool.py:1013]\n"
     ]
    },
    {
     "name": "stdout",
     "output_type": "stream",
     "text": [
      "file is encrypted\n",
      "file_decrypt was called for https://www.bancobaieuropa.pt/sites/default/files/2021-04/PRE-FT-20210407.pdf\n"
     ]
    },
    {
     "name": "stderr",
     "output_type": "stream",
     "text": [
      "InsecureRequestWarning: Unverified HTTPS request is being made to host 'www.bancobaieuropa.pt'. Adding certificate verification is strongly advised. See: https://urllib3.readthedocs.io/en/latest/advanced-usage.html#ssl-warnings [connectionpool.py:1013]\n"
     ]
    },
    {
     "name": "stdout",
     "output_type": "stream",
     "text": [
      "file decrypted (with qpdf)\n"
     ]
    },
    {
     "name": "stderr",
     "output_type": "stream",
     "text": [
      "InsecureRequestWarning: Unverified HTTPS request is being made to host 'www.bancobaieuropa.pt'. Adding certificate verification is strongly advised. See: https://urllib3.readthedocs.io/en/latest/advanced-usage.html#ssl-warnings [connectionpool.py:1013]\n"
     ]
    },
    {
     "name": "stdout",
     "output_type": "stream",
     "text": [
      "skipping: https://www.bancobaieuropa.pt/sites/default/files/2020-11/Gloss%25C3%25A1rio_Doc.%2520informa%25C3%25A7%25C3%25A3o%2520sobre%2520comiss%25C3%25B5es_PT%2520e%2520ENG.pdf, error: EOF marker not found\n"
     ]
    },
    {
     "name": "stderr",
     "output_type": "stream",
     "text": [
      "InsecureRequestWarning: Unverified HTTPS request is being made to host 'www.bancobaieuropa.pt'. Adding certificate verification is strongly advised. See: https://urllib3.readthedocs.io/en/latest/advanced-usage.html#ssl-warnings [connectionpool.py:1013]\n",
      "InsecureRequestWarning: Unverified HTTPS request is being made to host 'www.bancobaieuropa.pt'. Adding certificate verification is strongly advised. See: https://urllib3.readthedocs.io/en/latest/advanced-usage.html#ssl-warnings [connectionpool.py:1013]\n",
      "InsecureRequestWarning: Unverified HTTPS request is being made to host 'www.bancobaieuropa.pt'. Adding certificate verification is strongly advised. See: https://urllib3.readthedocs.io/en/latest/advanced-usage.html#ssl-warnings [connectionpool.py:1013]\n",
      "InsecureRequestWarning: Unverified HTTPS request is being made to host 'www.bancobaieuropa.pt'. Adding certificate verification is strongly advised. See: https://urllib3.readthedocs.io/en/latest/advanced-usage.html#ssl-warnings [connectionpool.py:1013]\n"
     ]
    },
    {
     "name": "stdout",
     "output_type": "stream",
     "text": [
      "file is encrypted\n",
      "file_decrypt was called for https://www.bancobaieuropa.pt/sites/default/files/2018-03/depositos_bancarios_direitos_deveres.pdf\n"
     ]
    },
    {
     "name": "stderr",
     "output_type": "stream",
     "text": [
      "InsecureRequestWarning: Unverified HTTPS request is being made to host 'www.bancobaieuropa.pt'. Adding certificate verification is strongly advised. See: https://urllib3.readthedocs.io/en/latest/advanced-usage.html#ssl-warnings [connectionpool.py:1013]\n"
     ]
    },
    {
     "name": "stdout",
     "output_type": "stream",
     "text": [
      "file decrypted (with qpdf)\n"
     ]
    },
    {
     "name": "stderr",
     "output_type": "stream",
     "text": [
      "InsecureRequestWarning: Unverified HTTPS request is being made to host 'www.bancobaieuropa.pt'. Adding certificate verification is strongly advised. See: https://urllib3.readthedocs.io/en/latest/advanced-usage.html#ssl-warnings [connectionpool.py:1013]\n"
     ]
    },
    {
     "name": "stdout",
     "output_type": "stream",
     "text": [
      "skipping: https://www.bancobaieuropa.pt/sites/default/files/2021-03/ficha_%2520de_informacao_depositante.pdf, error: EOF marker not found\n"
     ]
    }
   ],
   "source": [
    "gcontext = ssl.SSLContext()  # Only for gangstars\n",
    "# urlopen('https://example.com/bar/baz.html', cafile=certifi.where())\n",
    "\n",
    "count = []\n",
    "merger = PdfFileMerger()\n",
    "for n, pdf in enumerate(pdfs):   \n",
    "    try: \n",
    "        remote = requests.get(pdf, verify=False).content\n",
    "        memory = BytesIO(remote)\n",
    "        pdf_file = PdfFileReader(memory)\n",
    "        if pdf_file.isEncrypted:\n",
    "            print('file is encrypted')\n",
    "            pdf_file = file_decrypt(pdf)\n",
    "        count.append(n)\n",
    "        merger.append(pdf_file)\n",
    "        \n",
    "        \n",
    "    except Exception as e: \n",
    "        print(f'skipping: {pdf}, error: {e}')\n",
    "        \n",
    "# path = , 'w')\n",
    "merger.write('testpdf.pdf')\n",
    "        "
   ]
  },
  {
   "cell_type": "code",
   "execution_count": 31,
   "metadata": {},
   "outputs": [
    {
     "data": {
      "text/plain": [
       "[0, 2, 3, 5, 6, 7, 8]"
      ]
     },
     "execution_count": 31,
     "metadata": {},
     "output_type": "execute_result"
    }
   ],
   "source": [
    "count"
   ]
  },
  {
   "cell_type": "code",
   "execution_count": null,
   "metadata": {},
   "outputs": [],
   "source": []
  },
  {
   "cell_type": "code",
   "execution_count": null,
   "metadata": {},
   "outputs": [],
   "source": []
  }
 ],
 "metadata": {
  "kernelspec": {
   "display_name": "Python 3",
   "language": "python",
   "name": "python3"
  },
  "language_info": {
   "codemirror_mode": {
    "name": "ipython",
    "version": 3
   },
   "file_extension": ".py",
   "mimetype": "text/x-python",
   "name": "python",
   "nbconvert_exporter": "python",
   "pygments_lexer": "ipython3",
   "version": "3.9.1"
  },
  "toc": {
   "base_numbering": 1,
   "nav_menu": {},
   "number_sections": true,
   "sideBar": true,
   "skip_h1_title": false,
   "title_cell": "Table of Contents",
   "title_sidebar": "Contents",
   "toc_cell": false,
   "toc_position": {},
   "toc_section_display": true,
   "toc_window_display": false
  }
 },
 "nbformat": 4,
 "nbformat_minor": 4
}
