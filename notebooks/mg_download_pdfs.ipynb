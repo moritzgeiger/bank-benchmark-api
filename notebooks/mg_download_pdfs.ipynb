{
 "cells": [
  {
   "cell_type": "markdown",
   "metadata": {},
   "source": [
    "# Imports"
   ]
  },
  {
   "cell_type": "code",
   "execution_count": 1,
   "metadata": {
    "ExecuteTime": {
     "end_time": "2021-03-31T10:26:14.760760Z",
     "start_time": "2021-03-31T10:26:12.146753Z"
    }
   },
   "outputs": [],
   "source": [
    "import pandas as pd\n",
    "import numpy as np\n",
    "import requests\n",
    "from PyPDF2 import PdfFileReader, PdfFileMerger\n",
    "import PyPDF2\n",
    "from bs4 import BeautifulSoup\n",
    "import os\n",
    "import shutil"
   ]
  },
  {
   "cell_type": "markdown",
   "metadata": {},
   "source": [
    "# Finding the right document(s) on the websites"
   ]
  },
  {
   "cell_type": "markdown",
   "metadata": {},
   "source": [
    "Since the Sources Website ```https://clientebancario.bportugal.pt/precarios``` doesn't provide enough information on the interest rates on the banks (Parte II of the document), there is another approach to get the prices directly from the bank's homepages. "
   ]
  },
  {
   "cell_type": "markdown",
   "metadata": {},
   "source": [
    "## setting up Bank dictionary with manual input"
   ]
  },
  {
   "cell_type": "code",
   "execution_count": 2,
   "metadata": {
    "ExecuteTime": {
     "end_time": "2021-03-30T19:50:27.190903Z",
     "start_time": "2021-03-30T19:50:27.187362Z"
    }
   },
   "outputs": [],
   "source": [
    "# init banks\n",
    "banks = {}"
   ]
  },
  {
   "cell_type": "code",
   "execution_count": 3,
   "metadata": {
    "ExecuteTime": {
     "end_time": "2021-03-30T19:50:27.205850Z",
     "start_time": "2021-03-30T19:50:27.195457Z"
    }
   },
   "outputs": [],
   "source": [
    "## Building an initial dictionary which is maintained in the backoffice of the app via input field.\n",
    "def input_urls(banks, name_bank, url):\n",
    "    if 'http' in url:\n",
    "        pass\n",
    "    else:\n",
    "        url = 'https://' + url\n",
    "    url = url.strip(\"/\")\n",
    "    banks[name_bank] = {'url':url}\n",
    "    return banks"
   ]
  },
  {
   "cell_type": "code",
   "execution_count": 4,
   "metadata": {
    "ExecuteTime": {
     "end_time": "2021-03-30T19:50:27.223735Z",
     "start_time": "2021-03-30T19:50:27.209467Z"
    }
   },
   "outputs": [],
   "source": [
    "# saving bank urls\n",
    "bankdict = {'abanca':'https://www.abanca.pt',\n",
    "'bic':'https://www.bancobic.ao',\n",
    "'ctt': 'www.bancoctt.pt',\n",
    "'bankinter':'https://www.bankinter.pt',\n",
    "'bai':'https://www.bancobai.ao'\n",
    "    }\n",
    "## quickly filling up the banks // later it will be done by user input\n",
    "for k, v in bankdict.items():\n",
    "    input_urls(banks, k, v)\n"
   ]
  },
  {
   "cell_type": "code",
   "execution_count": 5,
   "metadata": {
    "ExecuteTime": {
     "end_time": "2021-03-30T19:50:27.254055Z",
     "start_time": "2021-03-30T19:50:27.227324Z"
    }
   },
   "outputs": [
    {
     "data": {
      "text/plain": [
       "{'abanca': {'url': 'https://www.abanca.pt'},\n",
       " 'bic': {'url': 'https://www.bancobic.ao'},\n",
       " 'ctt': {'url': 'https://www.bancoctt.pt'},\n",
       " 'bankinter': {'url': 'https://www.bankinter.pt'},\n",
       " 'bai': {'url': 'https://www.bancobai.ao'}}"
      ]
     },
     "execution_count": 5,
     "metadata": {},
     "output_type": "execute_result"
    }
   ],
   "source": [
    "banks"
   ]
  },
  {
   "cell_type": "markdown",
   "metadata": {},
   "source": [
    "## Finding the 'prices' page on the website"
   ]
  },
  {
   "cell_type": "markdown",
   "metadata": {},
   "source": [
    "Once the rails app has provided our API with the website of the bank, we can start looking for the pricelists of the bank on their website."
   ]
  },
  {
   "cell_type": "code",
   "execution_count": 6,
   "metadata": {
    "ExecuteTime": {
     "end_time": "2021-03-30T19:50:27.268812Z",
     "start_time": "2021-03-30T19:50:27.257864Z"
    }
   },
   "outputs": [],
   "source": [
    "## todo = define more words for precario into a list\n",
    "def find_price_pages(banks=banks, search='preçário'):    \n",
    "    search = search.lower()\n",
    "    for k, v in banks.items():\n",
    "        url = v.get('url')\n",
    "        print(f'parsing url: {url}')\n",
    "#         # add extra headers for language ... check syntax\n",
    "#         >>> headers = {'Accept-Language': 'pt-PT'}\n",
    "# >>> r = requests.get(url, headers=headers)\n",
    "        r = requests.get(url)\n",
    "        soup = BeautifulSoup(r.content, 'html.parser')\n",
    "        if r.status_code == 200:\n",
    "            # going through every link on the page to see if 'precarios' is in the link\n",
    "            for link in soup.find_all('a', href=True):\n",
    "                lower = str(link.string).lower().strip()\n",
    "                title = str(link.get('title')).strip().lower()\n",
    "                if search in lower or search in title:\n",
    "                    print(f'found search in link name: {lower}')\n",
    "                    print(f'found search in title: {title}')\n",
    "                    # some links in the source code are relative, some are absolute\n",
    "                    if 'http' in str(link.get(\"href\")):\n",
    "                        print(f'adding link to banks: {link.get(\"href\")}')\n",
    "                        v['pricelist_url'] = f'{link.get(\"href\")}'\n",
    "                    else:\n",
    "                        print(f'adding link to banks: {url}{link.get(\"href\")}')\n",
    "                        v['pricelist_url'] = f'{url}{link.get(\"href\")}'\n",
    "        else:\n",
    "            print(f'could not reach page: {url}')\n",
    "    return banks"
   ]
  },
  {
   "cell_type": "code",
   "execution_count": 7,
   "metadata": {
    "ExecuteTime": {
     "end_time": "2021-03-30T19:50:34.285293Z",
     "start_time": "2021-03-30T19:50:27.272719Z"
    },
    "scrolled": true
   },
   "outputs": [
    {
     "name": "stdout",
     "output_type": "stream",
     "text": [
      "parsing url: https://www.abanca.pt\n",
      "found search in link name: preçário\n",
      "found search in title: none\n",
      "adding link to banks: https://www.abanca.pt/pt/precario/\n",
      "parsing url: https://www.bancobic.ao\n",
      "found search in link name: preçário\n",
      "found search in title: none\n",
      "adding link to banks: https://www.bancobic.ao/inicio/precario\n",
      "parsing url: https://www.bancoctt.pt\n",
      "found search in link name: preçário\n",
      "found search in title: none\n",
      "adding link to banks: https://www.bancoctt.pt/application/themes/pdfs/precario.pdf?language_id=1555597541833\n",
      "parsing url: https://www.bankinter.pt\n",
      "found search in link name: none\n",
      "found search in title: preçário\n",
      "adding link to banks: https://www.bankinter.pt/precario1\n",
      "parsing url: https://www.bancobai.ao\n",
      "found search in link name: preçário\n",
      "found search in title: none\n",
      "adding link to banks: https://www.bancobai.ao/pt/preçário\n"
     ]
    }
   ],
   "source": [
    "banks = find_price_pages()\n",
    "# ubdates the banks dict with the pricelist urls of the banks"
   ]
  },
  {
   "cell_type": "markdown",
   "metadata": {},
   "source": [
    "## Downloading all pdfs from the source"
   ]
  },
  {
   "cell_type": "markdown",
   "metadata": {},
   "source": [
    "To download all PDFs we need to find their urls on the prices page on the websites"
   ]
  },
  {
   "cell_type": "code",
   "execution_count": 8,
   "metadata": {
    "ExecuteTime": {
     "end_time": "2021-03-30T19:50:34.297104Z",
     "start_time": "2021-03-30T19:50:34.290206Z"
    }
   },
   "outputs": [],
   "source": [
    "## todo: checkout PDF miner\n",
    "## URL parser\n",
    "## https://docs.python.org/3/library/urllib.parse.html\n",
    "\n",
    "def get_pdf_urls(banks=banks):\n",
    "    for val in banks.values():\n",
    "        url = val.get('pricelist_url')\n",
    "        val['pdfs'] = list()\n",
    "        # some banks direclty link to a pdf address\n",
    "        if '.pdf' in url:\n",
    "            print(f'url is already pdf for: {url}')\n",
    "            val['pdfs'].append(f'{url}')\n",
    "        # for other landing pages look for every pdf on page\n",
    "        else:\n",
    "            r = requests.get(url)\n",
    "#             print(type(val['pdfs']))\n",
    "            if r.status_code == 200:\n",
    "                soup = BeautifulSoup(r.content, 'html.parser')\n",
    "                print(f'looking for pdfs in: {url}')\n",
    "                for link in soup.find_all('a', href=True):\n",
    "                    if '.pdf' in link.get('href'):\n",
    "                        # some pdf links are absolute links\n",
    "                        ## tru out r.url\n",
    "                        if 'http' in link.get('href'):\n",
    "                            pdf = link.get('href')\n",
    "                        else:\n",
    "                            pdf = f\"{val.get('url')}{link.get('href')}\"\n",
    "                        print(f'found and added pdf: {pdf}')\n",
    "                        val['pdfs'].append(f'{pdf}')\n",
    "            else:\n",
    "                print(f'could not execute parsing for: {url}')\n",
    "    return banks"
   ]
  },
  {
   "cell_type": "code",
   "execution_count": 8,
   "metadata": {
    "ExecuteTime": {
     "end_time": "2021-03-31T10:47:50.734834Z",
     "start_time": "2021-03-31T10:47:50.731580Z"
    }
   },
   "outputs": [],
   "source": [
    "# url = 'https://www.abanca.pt/pt/precario/'\n",
    "# r = requests.get(url)\n",
    "# dir(r)\n",
    "\n",
    "# amazon s3"
   ]
  },
  {
   "cell_type": "code",
   "execution_count": 9,
   "metadata": {
    "ExecuteTime": {
     "end_time": "2021-03-30T19:50:49.795201Z",
     "start_time": "2021-03-30T19:50:34.301067Z"
    }
   },
   "outputs": [
    {
     "name": "stdout",
     "output_type": "stream",
     "text": [
      "looking for pdfs in: https://www.abanca.pt/pt/precario/\n",
      "found and added pdf: https://www.abanca.pt/files/documents/precario-folheto-comissoes-823a7663.pdf\n",
      "found and added pdf: https://www.abanca.pt/files/documents/folheto-taxa-juro-precario-23836e90.pdf\n",
      "found and added pdf: https://www.abanca.pt/files/documents/precariodevaloresmobiliarios-23c714a2.pdf\n",
      "found and added pdf: https://www.abanca.pt/files/documents/glossario-6479e89f.pdf\n",
      "found and added pdf: https://www.abanca.pt/files/docs/leaflet-your-rights-payments-eu.pdf\n",
      "looking for pdfs in: https://www.bancobic.ao/inicio/precario\n",
      "found and added pdf: https://www.bancobic.ao/dotAsset/0f07d8a4-4ec3-4111-a453-c4ee14d5c66c.pdf\n",
      "found and added pdf: https://www.bancobic.ao/dotAsset/7e1e6dd2-9d56-43ef-b398-ac3bac3cc70e.pdf\n",
      "url is already pdf for: https://www.bancoctt.pt/application/themes/pdfs/precario.pdf?language_id=1555597541833\n",
      "looking for pdfs in: https://www.bankinter.pt/precario1\n",
      "found and added pdf: https://www.bankinter.pt/documents/20182/115991/Pre%C3%A7%C3%A1rio+Completo+TFSI++20210401.pdf/c489f0cd-3831-4441-812e-f351741d2b22\n",
      "found and added pdf: https://banco.bankinter.pt/particulares/pdfs/precario/folha_rosto.pdf\n",
      "found and added pdf: https://banco.bankinter.pt/particulares/pdfs/precario/informacao_geral.pdf\n",
      "found and added pdf: https://banco.bankinter.pt/particulares/pdfs/precario/informacao_complementar.pdf\n",
      "found and added pdf: https://banco.bankinter.pt/particulares/pdfs/precario/p_fcd_contas_deposito.pdf\n",
      "found and added pdf: https://banco.bankinter.pt/particulares/pdfs/precario/p_fcd_operacoes_credito.pdf\n",
      "found and added pdf: https://banco.bankinter.pt/particulares/pdfs/precario/p_fcd_cartoes_credito_debito.pdf\n",
      "found and added pdf: https://banco.bankinter.pt/particulares/pdfs/precario/p_fcd_cheques.pdf\n",
      "found and added pdf: https://banco.bankinter.pt/particulares/pdfs/precario/p_fcd_transferencias.pdf\n",
      "found and added pdf: https://banco.bankinter.pt/particulares/pdfs/precario/p_fcd_cobrancas.pdf\n",
      "found and added pdf: https://banco.bankinter.pt/particulares/pdfs/precario/p_fcd_prestacao_servicos.pdf\n",
      "found and added pdf: https://banco.bankinter.pt/particulares/pdfs/precario/o_fcd_contas_deposito.pdf\n",
      "found and added pdf: https://banco.bankinter.pt/particulares/pdfs/precario/o_fcd_operacoes_credito.pdf\n",
      "found and added pdf: https://banco.bankinter.pt/particulares/pdfs/precario/o_fcd_cartoes_credito_debito.pdf\n",
      "found and added pdf: https://banco.bankinter.pt/particulares/pdfs/precario/o_fcd_cheques.pdf\n",
      "found and added pdf: https://banco.bankinter.pt/particulares/pdfs/precario/o_fcd_transferencias.pdf\n",
      "found and added pdf: https://banco.bankinter.pt/particulares/pdfs/precario/o_fcd_cobrancas.pdf\n",
      "found and added pdf: https://banco.bankinter.pt/particulares/pdfs/precario/o_fcd_prestacao_servicos.pdf\n",
      "found and added pdf: https://banco.bankinter.pt/particulares/pdfs/precario/o_fcd_operacoes_estrangeiro.pdf\n",
      "found and added pdf: https://banco.bankinter.pt/particulares/pdfs/precario/p_ftj_contas_deposito.pdf\n",
      "found and added pdf: https://banco.bankinter.pt/particulares/pdfs/precario/p_ftj_operacoes_credito.pdf\n",
      "found and added pdf: https://banco.bankinter.pt/particulares/pdfs/precario/o_ftj_contas_deposito.pdf\n",
      "found and added pdf: https://banco.bankinter.pt/particulares/pdfs/precario/o_ftj_operacoes_credito.pdf\n",
      "found and added pdf: https://banco.bankinter.pt/particulares/pdfs/precario/ptfs_a.pdf\n",
      "found and added pdf: https://banco.bankinter.pt/particulares/pdfs/precario/ptfs_b.pdf\n",
      "found and added pdf: https://banco.bankinter.pt/particulares/pdfs/precario/ptfs_c.pdf\n",
      "found and added pdf: https://banco.bankinter.pt/particulares/pdfs/precario/ptfs_d.pdf\n",
      "looking for pdfs in: https://www.bancobai.ao/pt/preçário\n",
      "found and added pdf: https://www.bancobai.ao/media/2870/precario_clientes-particulares_08_02_2021.pdf\n",
      "found and added pdf: https://www.bancobai.ao/media/2871/precario_outros-clientes_08_02_2021.pdf\n",
      "found and added pdf: https://www.bancobai.ao/media/2823/bai_resumo-das-alteracoes-do-precario-bna-8-02-2021-cleaned.pdf\n",
      "found and added pdf: https://www.bancobai.ao/media/2278/termos-e-condições.pdf\n"
     ]
    }
   ],
   "source": [
    "banks = get_pdf_urls()\n",
    "# adds all pdf urls to the banks dict"
   ]
  },
  {
   "cell_type": "code",
   "execution_count": 10,
   "metadata": {
    "ExecuteTime": {
     "end_time": "2021-03-30T19:50:49.802393Z",
     "start_time": "2021-03-30T19:50:49.798436Z"
    }
   },
   "outputs": [],
   "source": [
    "# banks"
   ]
  },
  {
   "cell_type": "markdown",
   "metadata": {},
   "source": [
    "Now we can download all the pdfs, merge them and save them in one file. Later they will be handed over to the scraping script. If you run this scrpit, make sure, you have a ```raw_data``` folder in the package."
   ]
  },
  {
   "cell_type": "code",
   "execution_count": 9,
   "metadata": {
    "ExecuteTime": {
     "end_time": "2021-03-31T10:48:07.851438Z",
     "start_time": "2021-03-31T10:48:07.844071Z"
    }
   },
   "outputs": [],
   "source": [
    "import urllib"
   ]
  },
  {
   "cell_type": "code",
   "execution_count": 11,
   "metadata": {
    "ExecuteTime": {
     "end_time": "2021-03-30T19:50:49.819147Z",
     "start_time": "2021-03-30T19:50:49.807670Z"
    }
   },
   "outputs": [],
   "source": [
    "def download_pdfs(banks=banks, output_folder='../raw_data/'):\n",
    "    for key, val in banks.items():\n",
    "        print(f'handling pdfs from {key}')\n",
    "        pdfs = val.get('pdfs')\n",
    "        len_pdfs = len(pdfs)\n",
    "        temp_dir = f'{output_folder}{key}_temp'\n",
    "        print(f'opening temp folder {temp_dir}')\n",
    "        shutil.rmtree(temp_dir, ignore_errors=True)\n",
    "        os.mkdir(f'{temp_dir}')\n",
    "        print(f'downloading all pdfs from list {pdfs}')\n",
    "        for count, url in enumerate(pdfs):\n",
    "            r = requests.get(url)\n",
    "            if r.status_code == 200:\n",
    "                with open(f'{temp_dir}/{key}{count:02d}.pdf', 'wb') as f:\n",
    "                    f.write(r.content) # saving\n",
    "            else:\n",
    "                print(f'could not download pdf: {url}')\n",
    "        print(f'starting the pdf merger for {key}')\n",
    "        merger = PdfFileMerger()\n",
    "        # checking which files were downloaded\n",
    "        pdf_files = sorted([f\"{temp_dir}/{x}\" for x in os.listdir(f'{temp_dir}')])\n",
    "        print(f'found these downloaded files: {pdf_files}')\n",
    "        \n",
    "        # decrypting all files in case they are encryped\n",
    "        for file in pdf_files:\n",
    "            pdfFile = PdfFileReader(file)\n",
    "            if pdfFile.isEncrypted:\n",
    "                try:\n",
    "                    pdfFile = pdfFile.decrypt('')\n",
    "                    print(f'{file} - File Decrypted (with PyPDF2)')\n",
    "                except:\n",
    "                    command = (\"cp \"+ file +\n",
    "                        \" temp.pdf; qpdf --password='' --decrypt temp.pdf \" + file\n",
    "                        + \"; rm temp.pdf\")\n",
    "                    os.system(command)\n",
    "                    print(f'{file} - File Decrypted (with qpdf)')\n",
    "        print(f'merging all files for {key}')\n",
    "        # loop through all files as opened objects\n",
    "        for pdf in [open(x, 'rb') for x in pdf_files]:\n",
    "            merger.append(pdf)\n",
    "        filename = f\"{output_folder}{key}_pricelists.pdf\"\n",
    "        merger.write(filename)\n",
    "        print(f'saved concat pdf to {filename}')\n",
    "        merger.close()"
   ]
  },
  {
   "cell_type": "code",
   "execution_count": 11,
   "metadata": {
    "ExecuteTime": {
     "end_time": "2021-03-31T10:49:03.626775Z",
     "start_time": "2021-03-31T10:49:03.027195Z"
    },
    "scrolled": false
   },
   "outputs": [
    {
     "ename": "UnsupportedOperation",
     "evalue": "seek",
     "output_type": "error",
     "traceback": [
      "\u001b[0;31m---------------------------------------------------------------------------\u001b[0m",
      "\u001b[0;31mUnsupportedOperation\u001b[0m                      Traceback (most recent call last)",
      "\u001b[0;32m<ipython-input-11-fe905eecb6aa>\u001b[0m in \u001b[0;36m<module>\u001b[0;34m\u001b[0m\n\u001b[0;32m----> 1\u001b[0;31m \u001b[0mpdfFile\u001b[0m \u001b[0;34m=\u001b[0m \u001b[0mPdfFileReader\u001b[0m\u001b[0;34m(\u001b[0m\u001b[0murllib\u001b[0m\u001b[0;34m.\u001b[0m\u001b[0mrequest\u001b[0m\u001b[0;34m.\u001b[0m\u001b[0murlopen\u001b[0m\u001b[0;34m(\u001b[0m\u001b[0;34m\"https://banco.bankinter.pt/particulares/pdfs/precario/ptfs_d.pdf\"\u001b[0m\u001b[0;34m)\u001b[0m\u001b[0;34m)\u001b[0m\u001b[0;34m\u001b[0m\u001b[0;34m\u001b[0m\u001b[0m\n\u001b[0m",
      "\u001b[0;32m~/.pyenv/versions/3.8.6/envs/lewagon/lib/python3.8/site-packages/PyPDF2/pdf.py\u001b[0m in \u001b[0;36m__init__\u001b[0;34m(self, stream, strict, warndest, overwriteWarnings)\u001b[0m\n\u001b[1;32m   1082\u001b[0m             \u001b[0mstream\u001b[0m \u001b[0;34m=\u001b[0m \u001b[0mBytesIO\u001b[0m\u001b[0;34m(\u001b[0m\u001b[0mb_\u001b[0m\u001b[0;34m(\u001b[0m\u001b[0mfileobj\u001b[0m\u001b[0;34m.\u001b[0m\u001b[0mread\u001b[0m\u001b[0;34m(\u001b[0m\u001b[0;34m)\u001b[0m\u001b[0;34m)\u001b[0m\u001b[0;34m)\u001b[0m\u001b[0;34m\u001b[0m\u001b[0;34m\u001b[0m\u001b[0m\n\u001b[1;32m   1083\u001b[0m             \u001b[0mfileobj\u001b[0m\u001b[0;34m.\u001b[0m\u001b[0mclose\u001b[0m\u001b[0;34m(\u001b[0m\u001b[0;34m)\u001b[0m\u001b[0;34m\u001b[0m\u001b[0;34m\u001b[0m\u001b[0m\n\u001b[0;32m-> 1084\u001b[0;31m         \u001b[0mself\u001b[0m\u001b[0;34m.\u001b[0m\u001b[0mread\u001b[0m\u001b[0;34m(\u001b[0m\u001b[0mstream\u001b[0m\u001b[0;34m)\u001b[0m\u001b[0;34m\u001b[0m\u001b[0;34m\u001b[0m\u001b[0m\n\u001b[0m\u001b[1;32m   1085\u001b[0m         \u001b[0mself\u001b[0m\u001b[0;34m.\u001b[0m\u001b[0mstream\u001b[0m \u001b[0;34m=\u001b[0m \u001b[0mstream\u001b[0m\u001b[0;34m\u001b[0m\u001b[0;34m\u001b[0m\u001b[0m\n\u001b[1;32m   1086\u001b[0m \u001b[0;34m\u001b[0m\u001b[0m\n",
      "\u001b[0;32m~/.pyenv/versions/3.8.6/envs/lewagon/lib/python3.8/site-packages/PyPDF2/pdf.py\u001b[0m in \u001b[0;36mread\u001b[0;34m(self, stream)\u001b[0m\n\u001b[1;32m   1687\u001b[0m         \u001b[0;32mif\u001b[0m \u001b[0mdebug\u001b[0m\u001b[0;34m:\u001b[0m \u001b[0mprint\u001b[0m\u001b[0;34m(\u001b[0m\u001b[0;34m\">>read\"\u001b[0m\u001b[0;34m,\u001b[0m \u001b[0mstream\u001b[0m\u001b[0;34m)\u001b[0m\u001b[0;34m\u001b[0m\u001b[0;34m\u001b[0m\u001b[0m\n\u001b[1;32m   1688\u001b[0m         \u001b[0;31m# start at the end:\u001b[0m\u001b[0;34m\u001b[0m\u001b[0;34m\u001b[0m\u001b[0;34m\u001b[0m\u001b[0m\n\u001b[0;32m-> 1689\u001b[0;31m         \u001b[0mstream\u001b[0m\u001b[0;34m.\u001b[0m\u001b[0mseek\u001b[0m\u001b[0;34m(\u001b[0m\u001b[0;34m-\u001b[0m\u001b[0;36m1\u001b[0m\u001b[0;34m,\u001b[0m \u001b[0;36m2\u001b[0m\u001b[0;34m)\u001b[0m\u001b[0;34m\u001b[0m\u001b[0;34m\u001b[0m\u001b[0m\n\u001b[0m\u001b[1;32m   1690\u001b[0m         \u001b[0;32mif\u001b[0m \u001b[0;32mnot\u001b[0m \u001b[0mstream\u001b[0m\u001b[0;34m.\u001b[0m\u001b[0mtell\u001b[0m\u001b[0;34m(\u001b[0m\u001b[0;34m)\u001b[0m\u001b[0;34m:\u001b[0m\u001b[0;34m\u001b[0m\u001b[0;34m\u001b[0m\u001b[0m\n\u001b[1;32m   1691\u001b[0m             \u001b[0;32mraise\u001b[0m \u001b[0mutils\u001b[0m\u001b[0;34m.\u001b[0m\u001b[0mPdfReadError\u001b[0m\u001b[0;34m(\u001b[0m\u001b[0;34m'Cannot read an empty file'\u001b[0m\u001b[0;34m)\u001b[0m\u001b[0;34m\u001b[0m\u001b[0;34m\u001b[0m\u001b[0m\n",
      "\u001b[0;31mUnsupportedOperation\u001b[0m: seek"
     ]
    }
   ],
   "source": [
    "# pdfFile = PdfFileReader(urllib.request.urlopen(\"https://banco.bankinter.pt/particulares/pdfs/precario/ptfs_d.pdf\"))\n",
    "# concatenate\n",
    "# upload to a bucket\n",
    "# number or size of pdf on api endpoint"
   ]
  },
  {
   "cell_type": "markdown",
   "metadata": {},
   "source": [
    "***The following part is not needed at the moment***"
   ]
  },
  {
   "cell_type": "markdown",
   "metadata": {
    "heading_collapsed": true
   },
   "source": [
    "# Downloading Files manually"
   ]
  },
  {
   "cell_type": "code",
   "execution_count": 13,
   "metadata": {
    "ExecuteTime": {
     "end_time": "2021-03-30T19:55:28.280705Z",
     "start_time": "2021-03-30T19:55:28.268931Z"
    },
    "hidden": true
   },
   "outputs": [],
   "source": [
    "bank_pdfs = {'BAI':{'id_pb':'0008',\n",
    "                'url':'https://www.bancobaieuropa.pt/',\n",
    "                'prices':['https://www.bancobai.ao/media/2870/precario_clientes-particulares_08_02_2021.pdf',\n",
    "                         'https://www.bancobai.ao/media/2871/precario_outros-clientes_08_02_2021.pdf']\n",
    "               },\n",
    "       'ABANCA':{'id_pb':'0170',\n",
    "                'url':'https://www.abanca.pt',\n",
    "                'prices':['https://www.abanca.pt/files/documents/precario-folheto-comissoes-a6b9545f.pdf',\n",
    "                         'https://www.abanca.pt/files/documents/folheto-taxa-juro-precario-23836e90.pdf'\n",
    "                         ]\n",
    "                },\n",
    "       'BIC':{'id_pb':'0079',\n",
    "                'url':'https://www.bancobic.ao',\n",
    "                'prices':['https://www.bancobic.ao/dotAsset/0f07d8a4-4ec3-4111-a453-c4ee14d5c66c.pdf',\n",
    "                         'https://www.bancobic.ao/dotAsset/7e1e6dd2-9d56-43ef-b398-ac3bac3cc70e.pdf'\n",
    "                         ]\n",
    "             },\n",
    "       'CTT':{'id_pb':'0193',\n",
    "                'url':'https://www.bancoctt.pt',\n",
    "                'prices':['https://www.bancoctt.pt/application/themes/pdfs/precario.pdf'\n",
    "                         ]\n",
    "             },\n",
    "       'BANKINTER':{'id_pb':'0269',\n",
    "                'url':'https://www.bankinter.pt',\n",
    "                'prices':[# Parte I\n",
    "                         'https://banco.bankinter.pt/particulares/pdfs/precario/p_fcd_contas_deposito.pdf',\n",
    "                         'https://banco.bankinter.pt/particulares/pdfs/precario/p_fcd_operacoes_credito.pdf',\n",
    "                         'https://banco.bankinter.pt/particulares/pdfs/precario/p_fcd_cartoes_credito_debito.pdf',\n",
    "                         'https://banco.bankinter.pt/particulares/pdfs/precario/p_fcd_cheques.pdf',\n",
    "                         'https://banco.bankinter.pt/particulares/pdfs/precario/p_fcd_transferencias.pdf',\n",
    "                         'https://banco.bankinter.pt/particulares/pdfs/precario/p_fcd_cobrancas.pdf',\n",
    "                         'https://banco.bankinter.pt/particulares/pdfs/precario/p_fcd_prestacao_servicos.pdf',\n",
    "                         ## Parte II\n",
    "                         'https://banco.bankinter.pt/particulares/pdfs/precario/o_fcd_contas_deposito.pdf',\n",
    "                         'https://banco.bankinter.pt/particulares/pdfs/precario/o_fcd_operacoes_credito.pdf',\n",
    "                         'https://banco.bankinter.pt/particulares/pdfs/precario/o_fcd_cartoes_credito_debito.pdf',\n",
    "                         'https://banco.bankinter.pt/particulares/pdfs/precario/o_fcd_cheques.pdf',\n",
    "                         'https://banco.bankinter.pt/particulares/pdfs/precario/o_fcd_transferencias.pdf',\n",
    "                         'https://banco.bankinter.pt/particulares/pdfs/precario/o_fcd_cobrancas.pdf',\n",
    "                         'https://banco.bankinter.pt/particulares/pdfs/precario/o_fcd_prestacao_servicos.pdf',\n",
    "                         'https://banco.bankinter.pt/particulares/pdfs/precario/o_fcd_operacoes_estrangeiro.pdf',\n",
    "                         'https://banco.bankinter.pt/particulares/pdfs/precario/o_ftj_contas_deposito.pdf',\n",
    "                         'https://banco.bankinter.pt/particulares/pdfs/precario/o_ftj_operacoes_credito.pdf',\n",
    "                        ]\n",
    "                   }\n",
    "        }"
   ]
  },
  {
   "cell_type": "code",
   "execution_count": 14,
   "metadata": {
    "ExecuteTime": {
     "end_time": "2021-03-30T19:55:28.347010Z",
     "start_time": "2021-03-30T19:55:28.287298Z"
    },
    "hidden": true
   },
   "outputs": [],
   "source": [
    "## not further investigated"
   ]
  },
  {
   "cell_type": "code",
   "execution_count": null,
   "metadata": {
    "hidden": true
   },
   "outputs": [],
   "source": []
  },
  {
   "cell_type": "markdown",
   "metadata": {},
   "source": [
    "# old scraping form banco de portugal"
   ]
  },
  {
   "cell_type": "markdown",
   "metadata": {},
   "source": [
    "Every PDF file has the same name structure ```'https://clientebancario.bportugal.pt/sites/default/files/precario/[BANK_ID]_/[BANK_ID]_PRE.pdf'```\n",
    "We can use requests to load and save the pdf files locally.\n",
    "Banks have a unique ID which are stored in the ```banks``` dictionary."
   ]
  },
  {
   "cell_type": "code",
   "execution_count": 15,
   "metadata": {
    "ExecuteTime": {
     "end_time": "2021-03-30T19:55:28.371088Z",
     "start_time": "2021-03-30T19:55:28.349883Z"
    }
   },
   "outputs": [],
   "source": [
    "## Defining url prefix and suffix\n",
    "url_pre = 'https://clientebancario.bportugal.pt/sites/default/files/precario/'\n",
    "url_suff = '_PRE.pdf'"
   ]
  },
  {
   "cell_type": "code",
   "execution_count": 16,
   "metadata": {
    "ExecuteTime": {
     "end_time": "2021-03-30T19:55:31.982126Z",
     "start_time": "2021-03-30T19:55:28.375160Z"
    }
   },
   "outputs": [
    {
     "ename": "NameError",
     "evalue": "name 'response' is not defined",
     "output_type": "error",
     "traceback": [
      "\u001b[0;31m----------------------------------------------------------------------\u001b[0m",
      "\u001b[0;31mNameError\u001b[0m                            Traceback (most recent call last)",
      "\u001b[0;32m<ipython-input-16-657dfbc4964d>\u001b[0m in \u001b[0;36m<module>\u001b[0;34m\u001b[0m\n\u001b[1;32m      3\u001b[0m     \u001b[0mr\u001b[0m \u001b[0;34m=\u001b[0m \u001b[0mrequests\u001b[0m\u001b[0;34m.\u001b[0m\u001b[0mget\u001b[0m\u001b[0;34m(\u001b[0m\u001b[0;34mf'{url_pre}{v}_/{v}{url_suff}'\u001b[0m\u001b[0;34m)\u001b[0m\u001b[0;34m\u001b[0m\u001b[0;34m\u001b[0m\u001b[0m\n\u001b[1;32m      4\u001b[0m     \u001b[0;32mwith\u001b[0m \u001b[0mopen\u001b[0m\u001b[0;34m(\u001b[0m\u001b[0;34mf'../raw_data/{k}.pdf'\u001b[0m\u001b[0;34m,\u001b[0m \u001b[0;34m'wb'\u001b[0m\u001b[0;34m)\u001b[0m \u001b[0;32mas\u001b[0m \u001b[0mf\u001b[0m\u001b[0;34m:\u001b[0m\u001b[0;34m\u001b[0m\u001b[0;34m\u001b[0m\u001b[0m\n\u001b[0;32m----> 5\u001b[0;31m         \u001b[0mf\u001b[0m\u001b[0;34m.\u001b[0m\u001b[0mwrite\u001b[0m\u001b[0;34m(\u001b[0m\u001b[0mresponse\u001b[0m\u001b[0;34m.\u001b[0m\u001b[0mcontent\u001b[0m\u001b[0;34m)\u001b[0m\u001b[0;34m\u001b[0m\u001b[0;34m\u001b[0m\u001b[0m\n\u001b[0m\u001b[1;32m      6\u001b[0m \u001b[0;34m\u001b[0m\u001b[0m\n",
      "\u001b[0;31mNameError\u001b[0m: name 'response' is not defined"
     ]
    }
   ],
   "source": [
    "# scraping the latest files from the bankpage and saving it to ```raw_data```\n",
    "for k, v in banks.items():\n",
    "    r = requests.get(f'{url_pre}{v}_/{v}{url_suff}')\n",
    "    with open(f'../raw_data/{k}.pdf', 'wb') as f:\n",
    "        f.write(response.content)\n",
    "    "
   ]
  },
  {
   "cell_type": "markdown",
   "metadata": {},
   "source": [
    "The files can be inspected by the PyPDF2 library."
   ]
  },
  {
   "cell_type": "code",
   "execution_count": null,
   "metadata": {
    "ExecuteTime": {
     "end_time": "2021-03-30T19:55:31.984728Z",
     "start_time": "2021-03-30T19:50:27.375Z"
    }
   },
   "outputs": [],
   "source": [
    "# example path\n",
    "path = '../raw_data/CTT.pdf'"
   ]
  },
  {
   "cell_type": "code",
   "execution_count": null,
   "metadata": {
    "ExecuteTime": {
     "end_time": "2021-03-30T19:55:31.986321Z",
     "start_time": "2021-03-30T19:50:27.381Z"
    }
   },
   "outputs": [],
   "source": [
    "def text_extractor(path):\n",
    "    fp = open(path, 'rb')\n",
    "    pdfFile = PdfFileReader(fp)\n",
    "    if pdfFile.isEncrypted:\n",
    "        try:\n",
    "            pdfFile = pdfFile.decrypt('')\n",
    "            print('File Decrypted (PyPDF2)')\n",
    "        except:\n",
    "            command = (\"cp \"+ path +\n",
    "                \" temp.pdf; qpdf --password='' --decrypt temp.pdf \" + path\n",
    "                + \"; rm temp.pdf\")\n",
    "            os.system(command)\n",
    "            print('File Decrypted (qpdf)')\n",
    "            fp = open(path)\n",
    "            print(fp)\n",
    "            pdfFile = PdfFileReader(fp)\n",
    "    else:\n",
    "        print('File Not Encrypted')\n",
    "    \n",
    "    pdfFile = PdfFileReader(fp)\n",
    "#     meta = pdfFile.getXmpMetadata()\n",
    "#     print(meta)\n",
    "#     mode = pdfFile.getFields()\n",
    "#     print(mode)\n",
    "    page = pdfFile.getPage(4)\n",
    "    text = page.extractText()\n",
    "    return text.split(\"\\n\")\n"
   ]
  },
  {
   "cell_type": "code",
   "execution_count": null,
   "metadata": {
    "ExecuteTime": {
     "end_time": "2021-03-30T19:55:31.988420Z",
     "start_time": "2021-03-30T19:50:27.386Z"
    }
   },
   "outputs": [],
   "source": [
    "df = pd.read_html('https://en.wikipedia.org/wiki/Minnesota')"
   ]
  },
  {
   "cell_type": "code",
   "execution_count": null,
   "metadata": {
    "ExecuteTime": {
     "end_time": "2021-03-30T19:55:31.989925Z",
     "start_time": "2021-03-30T19:50:27.390Z"
    }
   },
   "outputs": [],
   "source": [
    "PDFFile = open(path,'rb')\n",
    "\n",
    "PDF = PyPDF2.PdfFileReader(PDFFile)\n",
    "pages = PDF.getNumPages()\n",
    "key = '/Annots'\n",
    "uri = '/URI'\n",
    "ank = '/A'\n",
    "\n",
    "for page in range(pages):\n",
    "    pageSliced = PDF.getPage(page)\n",
    "    pageObject = pageSliced.getObject()\n",
    "\n",
    "    if pageObject.has_key(key):\n",
    "        ann = pageObject[key]\n",
    "        for a in ann:\n",
    "            u = a.getObject()\n",
    "            if u[ank].has_key(uri):\n",
    "                print(u[ank][uri])"
   ]
  },
  {
   "cell_type": "code",
   "execution_count": null,
   "metadata": {},
   "outputs": [],
   "source": []
  },
  {
   "cell_type": "code",
   "execution_count": null,
   "metadata": {},
   "outputs": [],
   "source": []
  },
  {
   "cell_type": "code",
   "execution_count": null,
   "metadata": {},
   "outputs": [],
   "source": []
  },
  {
   "cell_type": "code",
   "execution_count": null,
   "metadata": {},
   "outputs": [],
   "source": []
  }
 ],
 "metadata": {
  "kernelspec": {
   "display_name": "Python 3",
   "language": "python",
   "name": "python3"
  },
  "language_info": {
   "codemirror_mode": {
    "name": "ipython",
    "version": 3
   },
   "file_extension": ".py",
   "mimetype": "text/x-python",
   "name": "python",
   "nbconvert_exporter": "python",
   "pygments_lexer": "ipython3",
   "version": "3.8.6"
  },
  "toc": {
   "base_numbering": 1,
   "nav_menu": {},
   "number_sections": true,
   "sideBar": true,
   "skip_h1_title": false,
   "title_cell": "Table of Contents",
   "title_sidebar": "Contents",
   "toc_cell": false,
   "toc_position": {},
   "toc_section_display": true,
   "toc_window_display": false
  }
 },
 "nbformat": 4,
 "nbformat_minor": 4
}
