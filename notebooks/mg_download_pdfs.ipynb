{
 "cells": [
  {
   "cell_type": "markdown",
   "metadata": {},
   "source": [
    "# Imports"
   ]
  },
  {
   "cell_type": "code",
   "execution_count": 1,
   "metadata": {
    "ExecuteTime": {
     "end_time": "2021-04-01T08:21:54.627800Z",
     "start_time": "2021-04-01T08:21:54.059126Z"
    }
   },
   "outputs": [],
   "source": [
    "import pandas as pd\n",
    "import numpy as np\n",
    "import requests\n",
    "from PyPDF2 import PdfFileReader, PdfFileMerger, PdfFileWriter\n",
    "import PyPDF2\n",
    "from bs4 import BeautifulSoup\n",
    "import os\n",
    "import shutil\n",
    "from urllib.parse import urljoin\n",
    "from urllib.request import Request, urlopen\n",
    "from io import StringIO, BytesIO\n",
    "import cloudinary.uploader\n",
    "import json"
   ]
  },
  {
   "cell_type": "markdown",
   "metadata": {},
   "source": [
    "# Finding the right document(s) on the websites"
   ]
  },
  {
   "cell_type": "markdown",
   "metadata": {},
   "source": [
    "Since the Sources Website ```https://clientebancario.bportugal.pt/precarios``` doesn't provide enough information on the interest rates on the banks (Parte II of the document), there is another approach to get the prices directly from the bank's homepages. "
   ]
  },
  {
   "cell_type": "markdown",
   "metadata": {},
   "source": [
    "## setting up Bank dictionary with manual input"
   ]
  },
  {
   "cell_type": "code",
   "execution_count": 10,
   "metadata": {
    "ExecuteTime": {
     "end_time": "2021-04-01T08:50:39.337491Z",
     "start_time": "2021-04-01T08:50:39.333091Z"
    }
   },
   "outputs": [],
   "source": [
    "# init banks\n",
    "banks = {}"
   ]
  },
  {
   "cell_type": "code",
   "execution_count": 11,
   "metadata": {
    "ExecuteTime": {
     "end_time": "2021-04-01T08:50:39.474787Z",
     "start_time": "2021-04-01T08:50:39.466491Z"
    }
   },
   "outputs": [],
   "source": [
    "## Building an initial dictionary which is maintained in the backoffice of the app via input field.\n",
    "def input_urls(banks, name_bank, url):\n",
    "    if 'http' in url:\n",
    "        pass\n",
    "    else:\n",
    "        url = 'https://' + url\n",
    "    url = url.strip(\"/\")\n",
    "    banks[name_bank] = {'url':url}\n",
    "    return banks"
   ]
  },
  {
   "cell_type": "code",
   "execution_count": 12,
   "metadata": {
    "ExecuteTime": {
     "end_time": "2021-04-01T08:50:39.752618Z",
     "start_time": "2021-04-01T08:50:39.746992Z"
    }
   },
   "outputs": [],
   "source": [
    "# saving bank urls\n",
    "bankdict = {'abanca':'https://www.abanca.pt',\n",
    "'bic':'https://www.bancobic.ao',\n",
    "'ctt': 'www.bancoctt.pt',\n",
    "'bankinter':'https://www.bankinter.pt',\n",
    "# 'bai':'https://www.bancobai.ao'\n",
    "    }\n",
    "## quickly filling up the banks // later it will be done by user input\n",
    "for k, v in bankdict.items():\n",
    "    input_urls(banks, k, v)\n"
   ]
  },
  {
   "cell_type": "code",
   "execution_count": 13,
   "metadata": {
    "ExecuteTime": {
     "end_time": "2021-04-01T08:50:43.019931Z",
     "start_time": "2021-04-01T08:50:43.011947Z"
    }
   },
   "outputs": [
    {
     "data": {
      "text/plain": [
       "{'abanca': {'url': 'https://www.abanca.pt'},\n",
       " 'bic': {'url': 'https://www.bancobic.ao'},\n",
       " 'ctt': {'url': 'https://www.bancoctt.pt'},\n",
       " 'bankinter': {'url': 'https://www.bankinter.pt'}}"
      ]
     },
     "execution_count": 13,
     "metadata": {},
     "output_type": "execute_result"
    }
   ],
   "source": [
    "banks"
   ]
  },
  {
   "cell_type": "markdown",
   "metadata": {},
   "source": [
    "## Finding the 'prices' page on the website"
   ]
  },
  {
   "cell_type": "markdown",
   "metadata": {},
   "source": [
    "Once the rails app has provided our API with the website of the bank, we can start looking for the pricelists of the bank on their website."
   ]
  },
  {
   "cell_type": "code",
   "execution_count": 6,
   "metadata": {
    "ExecuteTime": {
     "end_time": "2021-04-01T08:21:57.923928Z",
     "start_time": "2021-04-01T08:21:57.916136Z"
    }
   },
   "outputs": [],
   "source": [
    "def find_price_pages(banks=banks, search=['preçário', 'pricelist', 'precario']):    \n",
    "    search = [x.lower() for x in search]\n",
    "    for k, v in banks.items():\n",
    "        url = v.get('url')\n",
    "        print(f'parsing url: {url}')\n",
    "        # only look for the pt page\n",
    "        headers = {'Accept-Language': 'pt-PT'}\n",
    "        r = requests.get(url, headers=headers)\n",
    "        soup = BeautifulSoup(r.content, 'html.parser')\n",
    "        if r.status_code == 200:\n",
    "            # going through every link on the page to see if 'precarios' is in the link\n",
    "            for link in soup.find_all('a', href=True):\n",
    "                url_prices = str(link.get('href').lower().strip())\n",
    "                lower = str(link.string).lower().strip()\n",
    "                title = str(link.get('title')).strip().lower()\n",
    "                searchstring = ' '.join([url_prices, lower, title])\n",
    "                if any([x in searchstring for x in search]):\n",
    "                    print(f'found terms of {search} in string {searchstring}')\n",
    "                    # some links in the source code are relative, some are absolute -- using urljoin\n",
    "                    v['pricelist_url'] = urljoin(url,url_prices)\n",
    "                    print(f'added link to banks: {urljoin(url,url_prices)}')\n",
    "        else:\n",
    "            print(f'could not reach page: {url}')\n",
    "    return banks"
   ]
  },
  {
   "cell_type": "code",
   "execution_count": 7,
   "metadata": {
    "ExecuteTime": {
     "end_time": "2021-04-01T08:22:06.969735Z",
     "start_time": "2021-04-01T08:21:58.692170Z"
    },
    "scrolled": true
   },
   "outputs": [
    {
     "name": "stdout",
     "output_type": "stream",
     "text": [
      "parsing url: https://www.abanca.pt\n",
      "found terms of ['preçário', 'pricelist', 'precario'] in string /pt/precario/ preçário none\n",
      "added link to banks: https://www.abanca.pt/pt/precario/\n",
      "parsing url: https://www.bancobic.ao\n",
      "found terms of ['preçário', 'pricelist', 'precario'] in string /inicio/precario preçário none\n",
      "added link to banks: https://www.bancobic.ao/inicio/precario\n",
      "parsing url: https://www.bancoctt.pt\n",
      "found terms of ['preçário', 'pricelist', 'precario'] in string https://www.bancoctt.pt/application/themes/pdfs/precario.pdf?language_id=1555597541833 preçário none\n",
      "added link to banks: https://www.bancoctt.pt/application/themes/pdfs/precario.pdf?language_id=1555597541833\n",
      "parsing url: https://www.bankinter.pt\n",
      "found terms of ['preçário', 'pricelist', 'precario'] in string https://www.bankinter.pt/precario1 none preçário\n",
      "added link to banks: https://www.bankinter.pt/precario1\n",
      "parsing url: https://www.bancobai.ao\n",
      "found terms of ['preçário', 'pricelist', 'precario'] in string /pt/preçário? saiba mais none\n",
      "added link to banks: https://www.bancobai.ao/pt/preçário\n",
      "found terms of ['preçário', 'pricelist', 'precario'] in string /pt/preçário preçário none\n",
      "added link to banks: https://www.bancobai.ao/pt/preçário\n"
     ]
    }
   ],
   "source": [
    "banks = find_price_pages()\n",
    "# ubdates the banks dict with the pricelist urls of the banks"
   ]
  },
  {
   "cell_type": "code",
   "execution_count": 8,
   "metadata": {
    "ExecuteTime": {
     "end_time": "2021-03-31T16:06:58.877587Z",
     "start_time": "2021-03-31T16:06:58.872681Z"
    }
   },
   "outputs": [],
   "source": [
    "# banks"
   ]
  },
  {
   "cell_type": "code",
   "execution_count": null,
   "metadata": {},
   "outputs": [],
   "source": []
  },
  {
   "cell_type": "markdown",
   "metadata": {},
   "source": [
    "## doing stuff with the sources"
   ]
  },
  {
   "cell_type": "code",
   "execution_count": null,
   "metadata": {},
   "outputs": [],
   "source": []
  },
  {
   "cell_type": "markdown",
   "metadata": {},
   "source": [
    "To download all PDFs we need to find their urls on the prices page on the websites"
   ]
  },
  {
   "cell_type": "code",
   "execution_count": 8,
   "metadata": {
    "ExecuteTime": {
     "end_time": "2021-04-01T08:22:11.862277Z",
     "start_time": "2021-04-01T08:22:11.854827Z"
    }
   },
   "outputs": [],
   "source": [
    "## todo: checkout PDF miner\n",
    "\n",
    "def get_pdf_urls(banks=banks):\n",
    "    for val in banks.values():\n",
    "        url = val.get('pricelist_url')\n",
    "        val['pdfs'] = list()\n",
    "        # some banks direclty link to a pdf address\n",
    "        if '.pdf' in url:\n",
    "            print(f'url is already pdf for: {url}')\n",
    "            val['pdfs'].append(f'{url}')\n",
    "        # for other landing pages look for every pdf on page\n",
    "        else:\n",
    "            r = requests.get(url)\n",
    "#             print(type(val['pdfs']))\n",
    "            if r.status_code == 200:\n",
    "                soup = BeautifulSoup(r.content, 'html.parser')\n",
    "                print(f'looking for pdfs in: {url}')\n",
    "                for link in soup.find_all('a', href=True):\n",
    "                    if '.pdf' in link.get('href'):\n",
    "                        # some pdf links are absolute links\n",
    "                        ## tru out r.url\n",
    "                        pdf = urljoin(val.get('url'),link.get('href'))\n",
    "                        print(f'found and added pdf: {pdf}')\n",
    "                        val['pdfs'].append(f'{pdf}')\n",
    "            else:\n",
    "                print(f'could not execute parsing for: {url}')\n",
    "    return banks"
   ]
  },
  {
   "cell_type": "code",
   "execution_count": 9,
   "metadata": {
    "ExecuteTime": {
     "end_time": "2021-04-01T08:22:20.105941Z",
     "start_time": "2021-04-01T08:22:12.520581Z"
    }
   },
   "outputs": [
    {
     "name": "stdout",
     "output_type": "stream",
     "text": [
      "looking for pdfs in: https://www.abanca.pt/pt/precario/\n",
      "found and added pdf: https://www.abanca.pt/files/documents/precario-folheto-comissoes-823a7663.pdf\n",
      "found and added pdf: https://www.abanca.pt/files/documents/folheto-taxa-juro-precario-23836e90.pdf\n",
      "found and added pdf: https://www.abanca.pt/files/documents/precariodevaloresmobiliarios-23c714a2.pdf\n",
      "found and added pdf: https://www.abanca.pt/files/documents/glossario-6479e89f.pdf\n",
      "found and added pdf: https://www.abanca.pt/files/docs/leaflet-your-rights-payments-eu.pdf\n",
      "looking for pdfs in: https://www.bancobic.ao/inicio/precario\n",
      "found and added pdf: https://www.bancobic.ao/dotAsset/0f07d8a4-4ec3-4111-a453-c4ee14d5c66c.pdf\n",
      "found and added pdf: https://www.bancobic.ao/dotAsset/7e1e6dd2-9d56-43ef-b398-ac3bac3cc70e.pdf\n",
      "url is already pdf for: https://www.bancoctt.pt/application/themes/pdfs/precario.pdf?language_id=1555597541833\n",
      "looking for pdfs in: https://www.bankinter.pt/precario1\n",
      "found and added pdf: https://www.bankinter.pt/documents/20182/115991/Pre%C3%A7%C3%A1rio+Completo+TFSI++20210401.pdf/c489f0cd-3831-4441-812e-f351741d2b22\n",
      "found and added pdf: https://banco.bankinter.pt/particulares/pdfs/precario/folha_rosto.pdf\n",
      "found and added pdf: https://banco.bankinter.pt/particulares/pdfs/precario/informacao_geral.pdf\n",
      "found and added pdf: https://banco.bankinter.pt/particulares/pdfs/precario/informacao_complementar.pdf\n",
      "found and added pdf: https://banco.bankinter.pt/particulares/pdfs/precario/p_fcd_contas_deposito.pdf\n",
      "found and added pdf: https://banco.bankinter.pt/particulares/pdfs/precario/p_fcd_operacoes_credito.pdf\n",
      "found and added pdf: https://banco.bankinter.pt/particulares/pdfs/precario/p_fcd_cartoes_credito_debito.pdf\n",
      "found and added pdf: https://banco.bankinter.pt/particulares/pdfs/precario/p_fcd_cheques.pdf\n",
      "found and added pdf: https://banco.bankinter.pt/particulares/pdfs/precario/p_fcd_transferencias.pdf\n",
      "found and added pdf: https://banco.bankinter.pt/particulares/pdfs/precario/p_fcd_cobrancas.pdf\n",
      "found and added pdf: https://banco.bankinter.pt/particulares/pdfs/precario/p_fcd_prestacao_servicos.pdf\n",
      "found and added pdf: https://banco.bankinter.pt/particulares/pdfs/precario/o_fcd_contas_deposito.pdf\n",
      "found and added pdf: https://banco.bankinter.pt/particulares/pdfs/precario/o_fcd_operacoes_credito.pdf\n",
      "found and added pdf: https://banco.bankinter.pt/particulares/pdfs/precario/o_fcd_cartoes_credito_debito.pdf\n",
      "found and added pdf: https://banco.bankinter.pt/particulares/pdfs/precario/o_fcd_cheques.pdf\n",
      "found and added pdf: https://banco.bankinter.pt/particulares/pdfs/precario/o_fcd_transferencias.pdf\n",
      "found and added pdf: https://banco.bankinter.pt/particulares/pdfs/precario/o_fcd_cobrancas.pdf\n",
      "found and added pdf: https://banco.bankinter.pt/particulares/pdfs/precario/o_fcd_prestacao_servicos.pdf\n",
      "found and added pdf: https://banco.bankinter.pt/particulares/pdfs/precario/o_fcd_operacoes_estrangeiro.pdf\n",
      "found and added pdf: https://banco.bankinter.pt/particulares/pdfs/precario/p_ftj_contas_deposito.pdf\n",
      "found and added pdf: https://banco.bankinter.pt/particulares/pdfs/precario/p_ftj_operacoes_credito.pdf\n",
      "found and added pdf: https://banco.bankinter.pt/particulares/pdfs/precario/o_ftj_contas_deposito.pdf\n",
      "found and added pdf: https://banco.bankinter.pt/particulares/pdfs/precario/o_ftj_operacoes_credito.pdf\n",
      "found and added pdf: https://banco.bankinter.pt/particulares/pdfs/precario/ptfs_a.pdf\n",
      "found and added pdf: https://banco.bankinter.pt/particulares/pdfs/precario/ptfs_b.pdf\n",
      "found and added pdf: https://banco.bankinter.pt/particulares/pdfs/precario/ptfs_c.pdf\n",
      "found and added pdf: https://banco.bankinter.pt/particulares/pdfs/precario/ptfs_d.pdf\n",
      "looking for pdfs in: https://www.bancobai.ao/pt/preçário\n",
      "found and added pdf: https://www.bancobai.ao/media/2988/bai_pre_clientes-particulares_31-03-2021.pdf\n",
      "found and added pdf: https://www.bancobai.ao/media/2989/bai_pre_outros-clientes_31-03-2021.pdf\n",
      "found and added pdf: https://www.bancobai.ao/media/2823/bai_resumo-das-alteracoes-do-precario-bna-8-02-2021-cleaned.pdf\n",
      "found and added pdf: https://www.bancobai.ao/media/2278/termos-e-condições.pdf\n"
     ]
    }
   ],
   "source": [
    "banks = get_pdf_urls()\n",
    "# adds all pdf urls to the banks dict"
   ]
  },
  {
   "cell_type": "code",
   "execution_count": 11,
   "metadata": {
    "ExecuteTime": {
     "end_time": "2021-03-31T16:07:04.965566Z",
     "start_time": "2021-03-31T16:07:04.961005Z"
    }
   },
   "outputs": [],
   "source": [
    "# banks"
   ]
  },
  {
   "cell_type": "markdown",
   "metadata": {},
   "source": [
    "Now we can download all the pdfs, merge them and save them in one file. Later they will be handed over to the scraping script. If you run this scrpit, make sure, you have a ```raw_data``` folder in the package."
   ]
  },
  {
   "cell_type": "code",
   "execution_count": 12,
   "metadata": {
    "ExecuteTime": {
     "end_time": "2021-03-31T16:07:05.000418Z",
     "start_time": "2021-03-31T16:07:04.970668Z"
    }
   },
   "outputs": [],
   "source": [
    "def store_pdfs(banks=banks, #secrets missing):\n",
    "    for key, val in banks.items():\n",
    "            print(f'handling pdfs from {key}')\n",
    "            pdfs = val.get('pdfs')\n",
    "            len_pdfs = len(pdfs)\n",
    "            merger = PdfFileMerger()\n",
    "            for pdf in pdfs:\n",
    "                print(f'looking for: {pdf}')\n",
    "                # some files are not available => throws a 404\n",
    "                try:\n",
    "                    remoteFile = urlopen(Request(pdf)).read()\n",
    "                except:\n",
    "                    break\n",
    "                # storing pdf in virtual memory as an object\n",
    "                memoryFile = BytesIO(remoteFile)\n",
    "                pdfFile = PdfFileReader(memoryFile)\n",
    "\n",
    "                # checking for encryption\n",
    "                if pdfFile.isEncrypted:\n",
    "                    try:\n",
    "                        pdfFile = pdfFile.decrypt('')\n",
    "                        print(f'{pdf} - File Decrypted (with PyPDF2)')\n",
    "                        merger.append(pdfFile)\n",
    "                        print(f'appended file to merger with decrypt: {pdf}') \n",
    "                        \n",
    "                    except:\n",
    "                        print(f'no method found to deccrypt: {pdf}')\n",
    "#     #                 except:\n",
    "    #                     command = (\"cp \"+ pdf +\n",
    "    #                         \" temp.pdf; qpdf --password='' --decrypt temp.pdf \" + pdf\n",
    "    #                         + \"; rm temp.pdf\")\n",
    "    #                     os.system(command)\n",
    "    #                     print(f'{pdf} - File Decrypted (with qpdf)')\n",
    "    #                     merger.append(memoryFile)\n",
    "    #                     print(f'appended file to merger with qpdf decrypt: {pdf}')\n",
    "                    \n",
    "                else:\n",
    "                    merger.append(pdfFile)\n",
    "                    print(f'appended non encrypted file to merger: {pdf}') \n",
    "                        \n",
    "\n",
    "            # saving file on cloudinary\n",
    "            filename = f'../raw_data/{key}_all_prices.pdf'\n",
    "            merger.write(filename)\n",
    "            \n",
    "            try:\n",
    "                cloudinary.uploader.upload(filename, \n",
    "                  use_filename = 1, \n",
    "                  unique_filename = 0, \n",
    "                  folder = \"pdfs\", \n",
    "                  public_id = f'{key}_all_prices.pdf', \n",
    "                  api_key = api,\n",
    "                  api_secret = secret,\n",
    "                  cloud_name = cloud_name)\n",
    "\n",
    "    #             filename = f'{key}_all_prices.pdf'\n",
    "    #             merger.write(filename)\n",
    "                cloud_dir = f'https://res.cloudinary.com/do59ghg7e/image/upload/v1615834323/pdfs/{key}_all_prices.pdf'\n",
    "                print(f'saved merged file to: {cloud_dir}')\n",
    "            except:\n",
    "                print(f'could not upload file to cloudinary: {filename}')\n",
    "\n",
    "            # adding address to banks\n",
    "            val['cloud_pdf'] = cloud_dir\n",
    "\n",
    "    return banks "
   ]
  },
  {
   "cell_type": "code",
   "execution_count": 13,
   "metadata": {
    "ExecuteTime": {
     "end_time": "2021-03-31T16:12:32.081661Z",
     "start_time": "2021-03-31T16:07:05.004102Z"
    },
    "scrolled": true
   },
   "outputs": [
    {
     "name": "stdout",
     "output_type": "stream",
     "text": [
      "handling pdfs from abanca\n",
      "looking for: https://www.abanca.pt/files/documents/precario-folheto-comissoes-823a7663.pdf\n",
      "no method found to deccrypt: https://www.abanca.pt/files/documents/precario-folheto-comissoes-823a7663.pdf\n",
      "looking for: https://www.abanca.pt/files/documents/folheto-taxa-juro-precario-23836e90.pdf\n",
      "no method found to deccrypt: https://www.abanca.pt/files/documents/folheto-taxa-juro-precario-23836e90.pdf\n",
      "looking for: https://www.abanca.pt/files/documents/precariodevaloresmobiliarios-23c714a2.pdf\n",
      "looking for: https://www.abanca.pt/files/documents/glossario-6479e89f.pdf\n",
      "saved merged file to: couldinary\n",
      "handling pdfs from bic\n",
      "looking for: https://www.bancobic.ao/dotAsset/0f07d8a4-4ec3-4111-a453-c4ee14d5c66c.pdf\n",
      "looking for: https://www.bancobic.ao/dotAsset/7e1e6dd2-9d56-43ef-b398-ac3bac3cc70e.pdf\n",
      "saved merged file to: couldinary\n",
      "handling pdfs from ctt\n",
      "looking for: https://www.bancoctt.pt/application/themes/pdfs/precario.pdf?language_id=1555597541833\n",
      "saved merged file to: couldinary\n",
      "handling pdfs from bankinter\n",
      "looking for: https://www.bankinter.pt/documents/20182/115991/Pre%C3%A7%C3%A1rio+Completo+TFSI++20210401.pdf/c489f0cd-3831-4441-812e-f351741d2b22\n",
      "looking for: https://banco.bankinter.pt/particulares/pdfs/precario/folha_rosto.pdf\n"
     ]
    },
    {
     "name": "stderr",
     "output_type": "stream",
     "text": [
      "PdfReadWarning: Superfluous whitespace found in object header b'1' b'0' [pdf.py:1665]\n",
      "PdfReadWarning: Superfluous whitespace found in object header b'2' b'0' [pdf.py:1665]\n",
      "PdfReadWarning: Superfluous whitespace found in object header b'3' b'0' [pdf.py:1665]\n"
     ]
    },
    {
     "name": "stdout",
     "output_type": "stream",
     "text": [
      "looking for: https://banco.bankinter.pt/particulares/pdfs/precario/informacao_geral.pdf\n",
      "looking for: https://banco.bankinter.pt/particulares/pdfs/precario/informacao_complementar.pdf\n",
      "looking for: https://banco.bankinter.pt/particulares/pdfs/precario/p_fcd_contas_deposito.pdf\n",
      "looking for: https://banco.bankinter.pt/particulares/pdfs/precario/p_fcd_operacoes_credito.pdf\n"
     ]
    },
    {
     "name": "stderr",
     "output_type": "stream",
     "text": [
      "PdfReadWarning: Superfluous whitespace found in object header b'22' b'0' [pdf.py:1665]\n",
      "PdfReadWarning: Superfluous whitespace found in object header b'40' b'0' [pdf.py:1665]\n",
      "PdfReadWarning: Superfluous whitespace found in object header b'54' b'0' [pdf.py:1665]\n",
      "PdfReadWarning: Superfluous whitespace found in object header b'71' b'0' [pdf.py:1665]\n",
      "PdfReadWarning: Superfluous whitespace found in object header b'88' b'0' [pdf.py:1665]\n",
      "PdfReadWarning: Superfluous whitespace found in object header b'105' b'0' [pdf.py:1665]\n",
      "PdfReadWarning: Superfluous whitespace found in object header b'119' b'0' [pdf.py:1665]\n",
      "PdfReadWarning: Superfluous whitespace found in object header b'132' b'0' [pdf.py:1665]\n",
      "PdfReadWarning: Superfluous whitespace found in object header b'145' b'0' [pdf.py:1665]\n",
      "PdfReadWarning: Superfluous whitespace found in object header b'160' b'0' [pdf.py:1665]\n",
      "PdfReadWarning: Superfluous whitespace found in object header b'167' b'0' [pdf.py:1665]\n",
      "PdfReadWarning: Superfluous whitespace found in object header b'190' b'0' [pdf.py:1665]\n",
      "PdfReadWarning: Superfluous whitespace found in object header b'211' b'0' [pdf.py:1665]\n",
      "PdfReadWarning: Superfluous whitespace found in object header b'231' b'0' [pdf.py:1665]\n",
      "PdfReadWarning: Superfluous whitespace found in object header b'248' b'0' [pdf.py:1665]\n",
      "PdfReadWarning: Superfluous whitespace found in object header b'268' b'0' [pdf.py:1665]\n",
      "PdfReadWarning: Superfluous whitespace found in object header b'288' b'0' [pdf.py:1665]\n",
      "PdfReadWarning: Superfluous whitespace found in object header b'306' b'0' [pdf.py:1665]\n",
      "PdfReadWarning: Superfluous whitespace found in object header b'319' b'0' [pdf.py:1665]\n",
      "PdfReadWarning: Superfluous whitespace found in object header b'335' b'0' [pdf.py:1665]\n",
      "PdfReadWarning: Superfluous whitespace found in object header b'348' b'0' [pdf.py:1665]\n",
      "PdfReadWarning: Superfluous whitespace found in object header b'363' b'0' [pdf.py:1665]\n",
      "PdfReadWarning: Superfluous whitespace found in object header b'368' b'0' [pdf.py:1665]\n",
      "PdfReadWarning: Superfluous whitespace found in object header b'376' b'0' [pdf.py:1665]\n",
      "PdfReadWarning: Superfluous whitespace found in object header b'392' b'0' [pdf.py:1665]\n",
      "PdfReadWarning: Superfluous whitespace found in object header b'410' b'0' [pdf.py:1665]\n",
      "PdfReadWarning: Superfluous whitespace found in object header b'427' b'0' [pdf.py:1665]\n",
      "PdfReadWarning: Superfluous whitespace found in object header b'442' b'0' [pdf.py:1665]\n",
      "PdfReadWarning: Superfluous whitespace found in object header b'456' b'0' [pdf.py:1665]\n",
      "PdfReadWarning: Superfluous whitespace found in object header b'471' b'0' [pdf.py:1665]\n",
      "PdfReadWarning: Superfluous whitespace found in object header b'479' b'0' [pdf.py:1665]\n"
     ]
    },
    {
     "name": "stdout",
     "output_type": "stream",
     "text": [
      "looking for: https://banco.bankinter.pt/particulares/pdfs/precario/p_fcd_cartoes_credito_debito.pdf\n",
      "looking for: https://banco.bankinter.pt/particulares/pdfs/precario/p_fcd_cheques.pdf\n"
     ]
    },
    {
     "name": "stderr",
     "output_type": "stream",
     "text": [
      "PdfReadWarning: Superfluous whitespace found in object header b'18' b'0' [pdf.py:1665]\n",
      "PdfReadWarning: Superfluous whitespace found in object header b'35' b'0' [pdf.py:1665]\n"
     ]
    },
    {
     "name": "stdout",
     "output_type": "stream",
     "text": [
      "looking for: https://banco.bankinter.pt/particulares/pdfs/precario/p_fcd_transferencias.pdf\n"
     ]
    },
    {
     "name": "stderr",
     "output_type": "stream",
     "text": [
      "PdfReadWarning: Superfluous whitespace found in object header b'27' b'0' [pdf.py:1665]\n",
      "PdfReadWarning: Superfluous whitespace found in object header b'52' b'0' [pdf.py:1665]\n",
      "PdfReadWarning: Superfluous whitespace found in object header b'68' b'0' [pdf.py:1665]\n"
     ]
    },
    {
     "name": "stdout",
     "output_type": "stream",
     "text": [
      "looking for: https://banco.bankinter.pt/particulares/pdfs/precario/p_fcd_cobrancas.pdf\n",
      "looking for: https://banco.bankinter.pt/particulares/pdfs/precario/p_fcd_prestacao_servicos.pdf\n"
     ]
    },
    {
     "name": "stderr",
     "output_type": "stream",
     "text": [
      "PdfReadWarning: Superfluous whitespace found in object header b'14' b'0' [pdf.py:1665]\n",
      "PdfReadWarning: Superfluous whitespace found in object header b'24' b'0' [pdf.py:1665]\n",
      "PdfReadWarning: Superfluous whitespace found in object header b'41' b'0' [pdf.py:1665]\n",
      "PdfReadWarning: Superfluous whitespace found in object header b'51' b'0' [pdf.py:1665]\n",
      "PdfReadWarning: Superfluous whitespace found in object header b'96' b'0' [pdf.py:1665]\n"
     ]
    },
    {
     "name": "stdout",
     "output_type": "stream",
     "text": [
      "looking for: https://banco.bankinter.pt/particulares/pdfs/precario/o_fcd_contas_deposito.pdf\n",
      "looking for: https://banco.bankinter.pt/particulares/pdfs/precario/o_fcd_operacoes_credito.pdf\n"
     ]
    },
    {
     "name": "stderr",
     "output_type": "stream",
     "text": [
      "PdfReadWarning: Superfluous whitespace found in object header b'20' b'0' [pdf.py:1665]\n",
      "PdfReadWarning: Superfluous whitespace found in object header b'31' b'0' [pdf.py:1665]\n",
      "PdfReadWarning: Superfluous whitespace found in object header b'45' b'0' [pdf.py:1665]\n",
      "PdfReadWarning: Superfluous whitespace found in object header b'56' b'0' [pdf.py:1665]\n",
      "PdfReadWarning: Superfluous whitespace found in object header b'75' b'0' [pdf.py:1665]\n",
      "PdfReadWarning: Superfluous whitespace found in object header b'92' b'0' [pdf.py:1665]\n",
      "PdfReadWarning: Superfluous whitespace found in object header b'107' b'0' [pdf.py:1665]\n",
      "PdfReadWarning: Superfluous whitespace found in object header b'120' b'0' [pdf.py:1665]\n",
      "PdfReadWarning: Superfluous whitespace found in object header b'136' b'0' [pdf.py:1665]\n",
      "PdfReadWarning: Superfluous whitespace found in object header b'148' b'0' [pdf.py:1665]\n",
      "PdfReadWarning: Superfluous whitespace found in object header b'163' b'0' [pdf.py:1665]\n",
      "PdfReadWarning: Superfluous whitespace found in object header b'180' b'0' [pdf.py:1665]\n",
      "PdfReadWarning: Superfluous whitespace found in object header b'192' b'0' [pdf.py:1665]\n",
      "PdfReadWarning: Superfluous whitespace found in object header b'209' b'0' [pdf.py:1665]\n",
      "PdfReadWarning: Superfluous whitespace found in object header b'225' b'0' [pdf.py:1665]\n",
      "PdfReadWarning: Superfluous whitespace found in object header b'238' b'0' [pdf.py:1665]\n",
      "PdfReadWarning: Superfluous whitespace found in object header b'253' b'0' [pdf.py:1665]\n",
      "PdfReadWarning: Superfluous whitespace found in object header b'266' b'0' [pdf.py:1665]\n"
     ]
    },
    {
     "name": "stdout",
     "output_type": "stream",
     "text": [
      "looking for: https://banco.bankinter.pt/particulares/pdfs/precario/o_fcd_cartoes_credito_debito.pdf\n",
      "looking for: https://banco.bankinter.pt/particulares/pdfs/precario/o_fcd_cheques.pdf\n"
     ]
    },
    {
     "name": "stderr",
     "output_type": "stream",
     "text": [
      "PdfReadWarning: Superfluous whitespace found in object header b'17' b'0' [pdf.py:1665]\n",
      "PdfReadWarning: Superfluous whitespace found in object header b'25' b'0' [pdf.py:1665]\n",
      "PdfReadWarning: Superfluous whitespace found in object header b'39' b'0' [pdf.py:1665]\n"
     ]
    },
    {
     "name": "stdout",
     "output_type": "stream",
     "text": [
      "looking for: https://banco.bankinter.pt/particulares/pdfs/precario/o_fcd_transferencias.pdf\n"
     ]
    },
    {
     "name": "stderr",
     "output_type": "stream",
     "text": [
      "PdfReadWarning: Superfluous whitespace found in object header b'59' b'0' [pdf.py:1665]\n"
     ]
    },
    {
     "name": "stdout",
     "output_type": "stream",
     "text": [
      "looking for: https://banco.bankinter.pt/particulares/pdfs/precario/o_fcd_cobrancas.pdf\n",
      "looking for: https://banco.bankinter.pt/particulares/pdfs/precario/o_fcd_prestacao_servicos.pdf\n",
      "looking for: https://banco.bankinter.pt/particulares/pdfs/precario/o_fcd_operacoes_estrangeiro.pdf\n",
      "looking for: https://banco.bankinter.pt/particulares/pdfs/precario/p_ftj_contas_deposito.pdf\n"
     ]
    },
    {
     "name": "stderr",
     "output_type": "stream",
     "text": [
      "PdfReadWarning: Superfluous whitespace found in object header b'72' b'0' [pdf.py:1665]\n",
      "PdfReadWarning: Superfluous whitespace found in object header b'89' b'0' [pdf.py:1665]\n",
      "PdfReadWarning: Superfluous whitespace found in object header b'99' b'0' [pdf.py:1665]\n"
     ]
    },
    {
     "name": "stdout",
     "output_type": "stream",
     "text": [
      "looking for: https://banco.bankinter.pt/particulares/pdfs/precario/p_ftj_operacoes_credito.pdf\n"
     ]
    },
    {
     "name": "stderr",
     "output_type": "stream",
     "text": [
      "PdfReadWarning: Superfluous whitespace found in object header b'66' b'0' [pdf.py:1665]\n",
      "PdfReadWarning: Superfluous whitespace found in object header b'95' b'0' [pdf.py:1665]\n",
      "PdfReadWarning: Superfluous whitespace found in object header b'113' b'0' [pdf.py:1665]\n",
      "PdfReadWarning: Superfluous whitespace found in object header b'127' b'0' [pdf.py:1665]\n",
      "PdfReadWarning: Superfluous whitespace found in object header b'143' b'0' [pdf.py:1665]\n",
      "PdfReadWarning: Superfluous whitespace found in object header b'154' b'0' [pdf.py:1665]\n",
      "PdfReadWarning: Superfluous whitespace found in object header b'169' b'0' [pdf.py:1665]\n",
      "PdfReadWarning: Superfluous whitespace found in object header b'186' b'0' [pdf.py:1665]\n",
      "PdfReadWarning: Superfluous whitespace found in object header b'199' b'0' [pdf.py:1665]\n",
      "PdfReadWarning: Superfluous whitespace found in object header b'219' b'0' [pdf.py:1665]\n",
      "PdfReadWarning: Superfluous whitespace found in object header b'232' b'0' [pdf.py:1665]\n",
      "PdfReadWarning: Superfluous whitespace found in object header b'245' b'0' [pdf.py:1665]\n",
      "PdfReadWarning: Superfluous whitespace found in object header b'267' b'0' [pdf.py:1665]\n"
     ]
    },
    {
     "name": "stdout",
     "output_type": "stream",
     "text": [
      "looking for: https://banco.bankinter.pt/particulares/pdfs/precario/o_ftj_contas_deposito.pdf\n",
      "looking for: https://banco.bankinter.pt/particulares/pdfs/precario/o_ftj_operacoes_credito.pdf\n"
     ]
    },
    {
     "name": "stderr",
     "output_type": "stream",
     "text": [
      "PdfReadWarning: Superfluous whitespace found in object header b'34' b'0' [pdf.py:1665]\n",
      "PdfReadWarning: Superfluous whitespace found in object header b'43' b'0' [pdf.py:1665]\n",
      "PdfReadWarning: Superfluous whitespace found in object header b'55' b'0' [pdf.py:1665]\n"
     ]
    },
    {
     "name": "stdout",
     "output_type": "stream",
     "text": [
      "looking for: https://banco.bankinter.pt/particulares/pdfs/precario/ptfs_a.pdf\n"
     ]
    },
    {
     "name": "stderr",
     "output_type": "stream",
     "text": [
      "PdfReadWarning: Superfluous whitespace found in object header b'230' b'0' [pdf.py:1665]\n",
      "PdfReadWarning: Superfluous whitespace found in object header b'309' b'0' [pdf.py:1665]\n",
      "PdfReadWarning: Superfluous whitespace found in object header b'372' b'0' [pdf.py:1665]\n"
     ]
    },
    {
     "name": "stdout",
     "output_type": "stream",
     "text": [
      "looking for: https://banco.bankinter.pt/particulares/pdfs/precario/ptfs_b.pdf\n",
      "looking for: https://banco.bankinter.pt/particulares/pdfs/precario/ptfs_c.pdf\n"
     ]
    },
    {
     "name": "stderr",
     "output_type": "stream",
     "text": [
      "PdfReadWarning: Superfluous whitespace found in object header b'19' b'0' [pdf.py:1665]\n",
      "PdfReadWarning: Superfluous whitespace found in object header b'377' b'0' [pdf.py:1665]\n",
      "PdfReadWarning: Superfluous whitespace found in object header b'509' b'0' [pdf.py:1665]\n"
     ]
    },
    {
     "name": "stdout",
     "output_type": "stream",
     "text": [
      "looking for: https://banco.bankinter.pt/particulares/pdfs/precario/ptfs_d.pdf\n"
     ]
    },
    {
     "name": "stderr",
     "output_type": "stream",
     "text": [
      "PdfReadWarning: Superfluous whitespace found in object header b'4' b'0' [pdf.py:1665]\n",
      "PdfReadWarning: Superfluous whitespace found in object header b'5' b'0' [pdf.py:1665]\n",
      "PdfReadWarning: Superfluous whitespace found in object header b'6' b'0' [pdf.py:1665]\n",
      "PdfReadWarning: Superfluous whitespace found in object header b'7' b'0' [pdf.py:1665]\n",
      "PdfReadWarning: Superfluous whitespace found in object header b'9' b'0' [pdf.py:1665]\n",
      "PdfReadWarning: Superfluous whitespace found in object header b'10' b'0' [pdf.py:1665]\n",
      "PdfReadWarning: Superfluous whitespace found in object header b'8' b'0' [pdf.py:1665]\n",
      "PdfReadWarning: Superfluous whitespace found in object header b'11' b'0' [pdf.py:1665]\n",
      "PdfReadWarning: Superfluous whitespace found in object header b'12' b'0' [pdf.py:1665]\n",
      "PdfReadWarning: Superfluous whitespace found in object header b'13' b'0' [pdf.py:1665]\n",
      "PdfReadWarning: Superfluous whitespace found in object header b'15' b'0' [pdf.py:1665]\n",
      "PdfReadWarning: Superfluous whitespace found in object header b'16' b'0' [pdf.py:1665]\n",
      "PdfReadWarning: Superfluous whitespace found in object header b'21' b'0' [pdf.py:1665]\n",
      "PdfReadWarning: Superfluous whitespace found in object header b'23' b'0' [pdf.py:1665]\n",
      "PdfReadWarning: Superfluous whitespace found in object header b'26' b'0' [pdf.py:1665]\n",
      "PdfReadWarning: Superfluous whitespace found in object header b'28' b'0' [pdf.py:1665]\n",
      "PdfReadWarning: Superfluous whitespace found in object header b'29' b'0' [pdf.py:1665]\n",
      "PdfReadWarning: Superfluous whitespace found in object header b'30' b'0' [pdf.py:1665]\n",
      "PdfReadWarning: Superfluous whitespace found in object header b'32' b'0' [pdf.py:1665]\n",
      "PdfReadWarning: Superfluous whitespace found in object header b'33' b'0' [pdf.py:1665]\n",
      "PdfReadWarning: Superfluous whitespace found in object header b'36' b'0' [pdf.py:1665]\n",
      "PdfReadWarning: Superfluous whitespace found in object header b'37' b'0' [pdf.py:1665]\n",
      "PdfReadWarning: Superfluous whitespace found in object header b'38' b'0' [pdf.py:1665]\n",
      "PdfReadWarning: Superfluous whitespace found in object header b'42' b'0' [pdf.py:1665]\n",
      "PdfReadWarning: Superfluous whitespace found in object header b'44' b'0' [pdf.py:1665]\n",
      "PdfReadWarning: Superfluous whitespace found in object header b'46' b'0' [pdf.py:1665]\n",
      "PdfReadWarning: Superfluous whitespace found in object header b'47' b'0' [pdf.py:1665]\n",
      "PdfReadWarning: Superfluous whitespace found in object header b'48' b'0' [pdf.py:1665]\n",
      "PdfReadWarning: Superfluous whitespace found in object header b'49' b'0' [pdf.py:1665]\n",
      "PdfReadWarning: Superfluous whitespace found in object header b'50' b'0' [pdf.py:1665]\n",
      "PdfReadWarning: Superfluous whitespace found in object header b'53' b'0' [pdf.py:1665]\n",
      "PdfReadWarning: Superfluous whitespace found in object header b'57' b'0' [pdf.py:1665]\n",
      "PdfReadWarning: Superfluous whitespace found in object header b'58' b'0' [pdf.py:1665]\n",
      "PdfReadWarning: Superfluous whitespace found in object header b'60' b'0' [pdf.py:1665]\n",
      "PdfReadWarning: Superfluous whitespace found in object header b'61' b'0' [pdf.py:1665]\n",
      "PdfReadWarning: Superfluous whitespace found in object header b'62' b'0' [pdf.py:1665]\n",
      "PdfReadWarning: Superfluous whitespace found in object header b'63' b'0' [pdf.py:1665]\n",
      "PdfReadWarning: Superfluous whitespace found in object header b'64' b'0' [pdf.py:1665]\n",
      "PdfReadWarning: Superfluous whitespace found in object header b'65' b'0' [pdf.py:1665]\n",
      "PdfReadWarning: Superfluous whitespace found in object header b'67' b'0' [pdf.py:1665]\n",
      "PdfReadWarning: Superfluous whitespace found in object header b'69' b'0' [pdf.py:1665]\n",
      "PdfReadWarning: Superfluous whitespace found in object header b'70' b'0' [pdf.py:1665]\n",
      "PdfReadWarning: Superfluous whitespace found in object header b'73' b'0' [pdf.py:1665]\n",
      "PdfReadWarning: Superfluous whitespace found in object header b'74' b'0' [pdf.py:1665]\n",
      "PdfReadWarning: Superfluous whitespace found in object header b'76' b'0' [pdf.py:1665]\n",
      "PdfReadWarning: Superfluous whitespace found in object header b'77' b'0' [pdf.py:1665]\n",
      "PdfReadWarning: Superfluous whitespace found in object header b'78' b'0' [pdf.py:1665]\n",
      "PdfReadWarning: Superfluous whitespace found in object header b'79' b'0' [pdf.py:1665]\n",
      "PdfReadWarning: Superfluous whitespace found in object header b'80' b'0' [pdf.py:1665]\n",
      "PdfReadWarning: Superfluous whitespace found in object header b'81' b'0' [pdf.py:1665]\n",
      "PdfReadWarning: Superfluous whitespace found in object header b'82' b'0' [pdf.py:1665]\n",
      "PdfReadWarning: Superfluous whitespace found in object header b'83' b'0' [pdf.py:1665]\n",
      "PdfReadWarning: Superfluous whitespace found in object header b'84' b'0' [pdf.py:1665]\n",
      "PdfReadWarning: Superfluous whitespace found in object header b'85' b'0' [pdf.py:1665]\n",
      "PdfReadWarning: Superfluous whitespace found in object header b'86' b'0' [pdf.py:1665]\n",
      "PdfReadWarning: Superfluous whitespace found in object header b'87' b'0' [pdf.py:1665]\n",
      "PdfReadWarning: Superfluous whitespace found in object header b'90' b'0' [pdf.py:1665]\n",
      "PdfReadWarning: Superfluous whitespace found in object header b'91' b'0' [pdf.py:1665]\n",
      "PdfReadWarning: Superfluous whitespace found in object header b'93' b'0' [pdf.py:1665]\n",
      "PdfReadWarning: Superfluous whitespace found in object header b'94' b'0' [pdf.py:1665]\n",
      "PdfReadWarning: Superfluous whitespace found in object header b'97' b'0' [pdf.py:1665]\n",
      "PdfReadWarning: Superfluous whitespace found in object header b'98' b'0' [pdf.py:1665]\n",
      "PdfReadWarning: Superfluous whitespace found in object header b'100' b'0' [pdf.py:1665]\n",
      "PdfReadWarning: Superfluous whitespace found in object header b'101' b'0' [pdf.py:1665]\n",
      "PdfReadWarning: Superfluous whitespace found in object header b'102' b'0' [pdf.py:1665]\n",
      "PdfReadWarning: Superfluous whitespace found in object header b'103' b'0' [pdf.py:1665]\n",
      "PdfReadWarning: Superfluous whitespace found in object header b'104' b'0' [pdf.py:1665]\n",
      "PdfReadWarning: Superfluous whitespace found in object header b'106' b'0' [pdf.py:1665]\n",
      "PdfReadWarning: Superfluous whitespace found in object header b'108' b'0' [pdf.py:1665]\n",
      "PdfReadWarning: Superfluous whitespace found in object header b'109' b'0' [pdf.py:1665]\n",
      "PdfReadWarning: Superfluous whitespace found in object header b'110' b'0' [pdf.py:1665]\n",
      "PdfReadWarning: Superfluous whitespace found in object header b'111' b'0' [pdf.py:1665]\n",
      "PdfReadWarning: Superfluous whitespace found in object header b'112' b'0' [pdf.py:1665]\n",
      "PdfReadWarning: Superfluous whitespace found in object header b'114' b'0' [pdf.py:1665]\n",
      "PdfReadWarning: Superfluous whitespace found in object header b'115' b'0' [pdf.py:1665]\n",
      "PdfReadWarning: Superfluous whitespace found in object header b'116' b'0' [pdf.py:1665]\n",
      "PdfReadWarning: Superfluous whitespace found in object header b'117' b'0' [pdf.py:1665]\n",
      "PdfReadWarning: Superfluous whitespace found in object header b'118' b'0' [pdf.py:1665]\n",
      "PdfReadWarning: Superfluous whitespace found in object header b'121' b'0' [pdf.py:1665]\n",
      "PdfReadWarning: Superfluous whitespace found in object header b'122' b'0' [pdf.py:1665]\n",
      "PdfReadWarning: Superfluous whitespace found in object header b'123' b'0' [pdf.py:1665]\n",
      "PdfReadWarning: Superfluous whitespace found in object header b'124' b'0' [pdf.py:1665]\n",
      "PdfReadWarning: Superfluous whitespace found in object header b'125' b'0' [pdf.py:1665]\n",
      "PdfReadWarning: Superfluous whitespace found in object header b'126' b'0' [pdf.py:1665]\n",
      "PdfReadWarning: Superfluous whitespace found in object header b'128' b'0' [pdf.py:1665]\n",
      "PdfReadWarning: Superfluous whitespace found in object header b'129' b'0' [pdf.py:1665]\n",
      "PdfReadWarning: Superfluous whitespace found in object header b'130' b'0' [pdf.py:1665]\n",
      "PdfReadWarning: Superfluous whitespace found in object header b'131' b'0' [pdf.py:1665]\n",
      "PdfReadWarning: Superfluous whitespace found in object header b'133' b'0' [pdf.py:1665]\n",
      "PdfReadWarning: Superfluous whitespace found in object header b'134' b'0' [pdf.py:1665]\n",
      "PdfReadWarning: Superfluous whitespace found in object header b'135' b'0' [pdf.py:1665]\n",
      "PdfReadWarning: Superfluous whitespace found in object header b'137' b'0' [pdf.py:1665]\n",
      "PdfReadWarning: Superfluous whitespace found in object header b'138' b'0' [pdf.py:1665]\n",
      "PdfReadWarning: Superfluous whitespace found in object header b'139' b'0' [pdf.py:1665]\n",
      "PdfReadWarning: Superfluous whitespace found in object header b'140' b'0' [pdf.py:1665]\n",
      "PdfReadWarning: Superfluous whitespace found in object header b'141' b'0' [pdf.py:1665]\n",
      "PdfReadWarning: Superfluous whitespace found in object header b'142' b'0' [pdf.py:1665]\n",
      "PdfReadWarning: Superfluous whitespace found in object header b'144' b'0' [pdf.py:1665]\n",
      "PdfReadWarning: Superfluous whitespace found in object header b'146' b'0' [pdf.py:1665]\n",
      "PdfReadWarning: Superfluous whitespace found in object header b'147' b'0' [pdf.py:1665]\n",
      "PdfReadWarning: Superfluous whitespace found in object header b'149' b'0' [pdf.py:1665]\n",
      "PdfReadWarning: Superfluous whitespace found in object header b'150' b'0' [pdf.py:1665]\n",
      "PdfReadWarning: Superfluous whitespace found in object header b'151' b'0' [pdf.py:1665]\n",
      "PdfReadWarning: Superfluous whitespace found in object header b'152' b'0' [pdf.py:1665]\n",
      "PdfReadWarning: Superfluous whitespace found in object header b'153' b'0' [pdf.py:1665]\n",
      "PdfReadWarning: Superfluous whitespace found in object header b'155' b'0' [pdf.py:1665]\n",
      "PdfReadWarning: Superfluous whitespace found in object header b'156' b'0' [pdf.py:1665]\n",
      "PdfReadWarning: Superfluous whitespace found in object header b'157' b'0' [pdf.py:1665]\n",
      "PdfReadWarning: Superfluous whitespace found in object header b'158' b'0' [pdf.py:1665]\n",
      "PdfReadWarning: Superfluous whitespace found in object header b'159' b'0' [pdf.py:1665]\n",
      "PdfReadWarning: Superfluous whitespace found in object header b'161' b'0' [pdf.py:1665]\n",
      "PdfReadWarning: Superfluous whitespace found in object header b'162' b'0' [pdf.py:1665]\n",
      "PdfReadWarning: Superfluous whitespace found in object header b'164' b'0' [pdf.py:1665]\n",
      "PdfReadWarning: Superfluous whitespace found in object header b'165' b'0' [pdf.py:1665]\n",
      "PdfReadWarning: Superfluous whitespace found in object header b'166' b'0' [pdf.py:1665]\n",
      "PdfReadWarning: Superfluous whitespace found in object header b'168' b'0' [pdf.py:1665]\n",
      "PdfReadWarning: Superfluous whitespace found in object header b'170' b'0' [pdf.py:1665]\n",
      "PdfReadWarning: Superfluous whitespace found in object header b'171' b'0' [pdf.py:1665]\n",
      "PdfReadWarning: Superfluous whitespace found in object header b'172' b'0' [pdf.py:1665]\n",
      "PdfReadWarning: Superfluous whitespace found in object header b'173' b'0' [pdf.py:1665]\n",
      "PdfReadWarning: Superfluous whitespace found in object header b'174' b'0' [pdf.py:1665]\n",
      "PdfReadWarning: Superfluous whitespace found in object header b'175' b'0' [pdf.py:1665]\n",
      "PdfReadWarning: Superfluous whitespace found in object header b'176' b'0' [pdf.py:1665]\n",
      "PdfReadWarning: Superfluous whitespace found in object header b'177' b'0' [pdf.py:1665]\n",
      "PdfReadWarning: Superfluous whitespace found in object header b'178' b'0' [pdf.py:1665]\n",
      "PdfReadWarning: Superfluous whitespace found in object header b'179' b'0' [pdf.py:1665]\n",
      "PdfReadWarning: Superfluous whitespace found in object header b'181' b'0' [pdf.py:1665]\n",
      "PdfReadWarning: Superfluous whitespace found in object header b'182' b'0' [pdf.py:1665]\n",
      "PdfReadWarning: Superfluous whitespace found in object header b'183' b'0' [pdf.py:1665]\n",
      "PdfReadWarning: Superfluous whitespace found in object header b'184' b'0' [pdf.py:1665]\n",
      "PdfReadWarning: Superfluous whitespace found in object header b'185' b'0' [pdf.py:1665]\n",
      "PdfReadWarning: Superfluous whitespace found in object header b'187' b'0' [pdf.py:1665]\n",
      "PdfReadWarning: Superfluous whitespace found in object header b'188' b'0' [pdf.py:1665]\n",
      "PdfReadWarning: Superfluous whitespace found in object header b'189' b'0' [pdf.py:1665]\n",
      "PdfReadWarning: Superfluous whitespace found in object header b'191' b'0' [pdf.py:1665]\n",
      "PdfReadWarning: Superfluous whitespace found in object header b'193' b'0' [pdf.py:1665]\n",
      "PdfReadWarning: Superfluous whitespace found in object header b'194' b'0' [pdf.py:1665]\n",
      "PdfReadWarning: Superfluous whitespace found in object header b'195' b'0' [pdf.py:1665]\n",
      "PdfReadWarning: Superfluous whitespace found in object header b'196' b'0' [pdf.py:1665]\n",
      "PdfReadWarning: Superfluous whitespace found in object header b'197' b'0' [pdf.py:1665]\n",
      "PdfReadWarning: Superfluous whitespace found in object header b'198' b'0' [pdf.py:1665]\n",
      "PdfReadWarning: Superfluous whitespace found in object header b'200' b'0' [pdf.py:1665]\n",
      "PdfReadWarning: Superfluous whitespace found in object header b'201' b'0' [pdf.py:1665]\n",
      "PdfReadWarning: Superfluous whitespace found in object header b'202' b'0' [pdf.py:1665]\n",
      "PdfReadWarning: Superfluous whitespace found in object header b'203' b'0' [pdf.py:1665]\n",
      "PdfReadWarning: Superfluous whitespace found in object header b'204' b'0' [pdf.py:1665]\n",
      "PdfReadWarning: Superfluous whitespace found in object header b'205' b'0' [pdf.py:1665]\n",
      "PdfReadWarning: Superfluous whitespace found in object header b'206' b'0' [pdf.py:1665]\n",
      "PdfReadWarning: Superfluous whitespace found in object header b'207' b'0' [pdf.py:1665]\n",
      "PdfReadWarning: Superfluous whitespace found in object header b'208' b'0' [pdf.py:1665]\n",
      "PdfReadWarning: Superfluous whitespace found in object header b'210' b'0' [pdf.py:1665]\n",
      "PdfReadWarning: Superfluous whitespace found in object header b'212' b'0' [pdf.py:1665]\n",
      "PdfReadWarning: Superfluous whitespace found in object header b'213' b'0' [pdf.py:1665]\n",
      "PdfReadWarning: Superfluous whitespace found in object header b'214' b'0' [pdf.py:1665]\n",
      "PdfReadWarning: Superfluous whitespace found in object header b'215' b'0' [pdf.py:1665]\n",
      "PdfReadWarning: Superfluous whitespace found in object header b'216' b'0' [pdf.py:1665]\n",
      "PdfReadWarning: Superfluous whitespace found in object header b'217' b'0' [pdf.py:1665]\n",
      "PdfReadWarning: Superfluous whitespace found in object header b'218' b'0' [pdf.py:1665]\n",
      "PdfReadWarning: Superfluous whitespace found in object header b'220' b'0' [pdf.py:1665]\n",
      "PdfReadWarning: Superfluous whitespace found in object header b'221' b'0' [pdf.py:1665]\n",
      "PdfReadWarning: Superfluous whitespace found in object header b'222' b'0' [pdf.py:1665]\n",
      "PdfReadWarning: Superfluous whitespace found in object header b'223' b'0' [pdf.py:1665]\n",
      "PdfReadWarning: Superfluous whitespace found in object header b'224' b'0' [pdf.py:1665]\n",
      "PdfReadWarning: Superfluous whitespace found in object header b'226' b'0' [pdf.py:1665]\n",
      "PdfReadWarning: Superfluous whitespace found in object header b'227' b'0' [pdf.py:1665]\n",
      "PdfReadWarning: Superfluous whitespace found in object header b'228' b'0' [pdf.py:1665]\n",
      "PdfReadWarning: Superfluous whitespace found in object header b'229' b'0' [pdf.py:1665]\n",
      "PdfReadWarning: Superfluous whitespace found in object header b'233' b'0' [pdf.py:1665]\n",
      "PdfReadWarning: Superfluous whitespace found in object header b'234' b'0' [pdf.py:1665]\n",
      "PdfReadWarning: Superfluous whitespace found in object header b'235' b'0' [pdf.py:1665]\n",
      "PdfReadWarning: Superfluous whitespace found in object header b'236' b'0' [pdf.py:1665]\n",
      "PdfReadWarning: Superfluous whitespace found in object header b'237' b'0' [pdf.py:1665]\n",
      "PdfReadWarning: Superfluous whitespace found in object header b'239' b'0' [pdf.py:1665]\n",
      "PdfReadWarning: Superfluous whitespace found in object header b'240' b'0' [pdf.py:1665]\n",
      "PdfReadWarning: Superfluous whitespace found in object header b'241' b'0' [pdf.py:1665]\n",
      "PdfReadWarning: Superfluous whitespace found in object header b'242' b'0' [pdf.py:1665]\n",
      "PdfReadWarning: Superfluous whitespace found in object header b'243' b'0' [pdf.py:1665]\n",
      "PdfReadWarning: Superfluous whitespace found in object header b'244' b'0' [pdf.py:1665]\n",
      "PdfReadWarning: Superfluous whitespace found in object header b'246' b'0' [pdf.py:1665]\n",
      "PdfReadWarning: Superfluous whitespace found in object header b'247' b'0' [pdf.py:1665]\n",
      "PdfReadWarning: Superfluous whitespace found in object header b'249' b'0' [pdf.py:1665]\n",
      "PdfReadWarning: Superfluous whitespace found in object header b'250' b'0' [pdf.py:1665]\n",
      "PdfReadWarning: Superfluous whitespace found in object header b'251' b'0' [pdf.py:1665]\n",
      "PdfReadWarning: Superfluous whitespace found in object header b'252' b'0' [pdf.py:1665]\n",
      "PdfReadWarning: Superfluous whitespace found in object header b'254' b'0' [pdf.py:1665]\n",
      "PdfReadWarning: Superfluous whitespace found in object header b'255' b'0' [pdf.py:1665]\n",
      "PdfReadWarning: Superfluous whitespace found in object header b'256' b'0' [pdf.py:1665]\n",
      "PdfReadWarning: Superfluous whitespace found in object header b'257' b'0' [pdf.py:1665]\n",
      "PdfReadWarning: Superfluous whitespace found in object header b'258' b'0' [pdf.py:1665]\n",
      "PdfReadWarning: Superfluous whitespace found in object header b'259' b'0' [pdf.py:1665]\n",
      "PdfReadWarning: Superfluous whitespace found in object header b'260' b'0' [pdf.py:1665]\n",
      "PdfReadWarning: Superfluous whitespace found in object header b'261' b'0' [pdf.py:1665]\n",
      "PdfReadWarning: Superfluous whitespace found in object header b'262' b'0' [pdf.py:1665]\n",
      "PdfReadWarning: Superfluous whitespace found in object header b'263' b'0' [pdf.py:1665]\n",
      "PdfReadWarning: Superfluous whitespace found in object header b'264' b'0' [pdf.py:1665]\n",
      "PdfReadWarning: Superfluous whitespace found in object header b'265' b'0' [pdf.py:1665]\n",
      "PdfReadWarning: Superfluous whitespace found in object header b'269' b'0' [pdf.py:1665]\n",
      "PdfReadWarning: Superfluous whitespace found in object header b'270' b'0' [pdf.py:1665]\n",
      "PdfReadWarning: Superfluous whitespace found in object header b'271' b'0' [pdf.py:1665]\n",
      "PdfReadWarning: Superfluous whitespace found in object header b'272' b'0' [pdf.py:1665]\n",
      "PdfReadWarning: Superfluous whitespace found in object header b'273' b'0' [pdf.py:1665]\n",
      "PdfReadWarning: Superfluous whitespace found in object header b'274' b'0' [pdf.py:1665]\n",
      "PdfReadWarning: Superfluous whitespace found in object header b'275' b'0' [pdf.py:1665]\n",
      "PdfReadWarning: Superfluous whitespace found in object header b'276' b'0' [pdf.py:1665]\n",
      "PdfReadWarning: Superfluous whitespace found in object header b'277' b'0' [pdf.py:1665]\n",
      "PdfReadWarning: Superfluous whitespace found in object header b'278' b'0' [pdf.py:1665]\n",
      "PdfReadWarning: Superfluous whitespace found in object header b'279' b'0' [pdf.py:1665]\n",
      "PdfReadWarning: Superfluous whitespace found in object header b'280' b'0' [pdf.py:1665]\n",
      "PdfReadWarning: Superfluous whitespace found in object header b'281' b'0' [pdf.py:1665]\n",
      "PdfReadWarning: Superfluous whitespace found in object header b'282' b'0' [pdf.py:1665]\n",
      "PdfReadWarning: Superfluous whitespace found in object header b'283' b'0' [pdf.py:1665]\n",
      "PdfReadWarning: Superfluous whitespace found in object header b'284' b'0' [pdf.py:1665]\n",
      "PdfReadWarning: Superfluous whitespace found in object header b'285' b'0' [pdf.py:1665]\n",
      "PdfReadWarning: Superfluous whitespace found in object header b'286' b'0' [pdf.py:1665]\n",
      "PdfReadWarning: Superfluous whitespace found in object header b'287' b'0' [pdf.py:1665]\n",
      "PdfReadWarning: Superfluous whitespace found in object header b'289' b'0' [pdf.py:1665]\n",
      "PdfReadWarning: Superfluous whitespace found in object header b'290' b'0' [pdf.py:1665]\n",
      "PdfReadWarning: Superfluous whitespace found in object header b'291' b'0' [pdf.py:1665]\n",
      "PdfReadWarning: Superfluous whitespace found in object header b'292' b'0' [pdf.py:1665]\n",
      "PdfReadWarning: Superfluous whitespace found in object header b'293' b'0' [pdf.py:1665]\n",
      "PdfReadWarning: Superfluous whitespace found in object header b'294' b'0' [pdf.py:1665]\n",
      "PdfReadWarning: Superfluous whitespace found in object header b'295' b'0' [pdf.py:1665]\n",
      "PdfReadWarning: Superfluous whitespace found in object header b'296' b'0' [pdf.py:1665]\n",
      "PdfReadWarning: Superfluous whitespace found in object header b'297' b'0' [pdf.py:1665]\n",
      "PdfReadWarning: Superfluous whitespace found in object header b'298' b'0' [pdf.py:1665]\n",
      "PdfReadWarning: Superfluous whitespace found in object header b'299' b'0' [pdf.py:1665]\n",
      "PdfReadWarning: Superfluous whitespace found in object header b'300' b'0' [pdf.py:1665]\n",
      "PdfReadWarning: Superfluous whitespace found in object header b'301' b'0' [pdf.py:1665]\n",
      "PdfReadWarning: Superfluous whitespace found in object header b'302' b'0' [pdf.py:1665]\n",
      "PdfReadWarning: Superfluous whitespace found in object header b'303' b'0' [pdf.py:1665]\n",
      "PdfReadWarning: Superfluous whitespace found in object header b'304' b'0' [pdf.py:1665]\n",
      "PdfReadWarning: Superfluous whitespace found in object header b'305' b'0' [pdf.py:1665]\n",
      "PdfReadWarning: Superfluous whitespace found in object header b'307' b'0' [pdf.py:1665]\n",
      "PdfReadWarning: Superfluous whitespace found in object header b'308' b'0' [pdf.py:1665]\n",
      "PdfReadWarning: Superfluous whitespace found in object header b'310' b'0' [pdf.py:1665]\n",
      "PdfReadWarning: Superfluous whitespace found in object header b'311' b'0' [pdf.py:1665]\n",
      "PdfReadWarning: Superfluous whitespace found in object header b'312' b'0' [pdf.py:1665]\n",
      "PdfReadWarning: Superfluous whitespace found in object header b'313' b'0' [pdf.py:1665]\n",
      "PdfReadWarning: Superfluous whitespace found in object header b'314' b'0' [pdf.py:1665]\n",
      "PdfReadWarning: Superfluous whitespace found in object header b'315' b'0' [pdf.py:1665]\n",
      "PdfReadWarning: Superfluous whitespace found in object header b'316' b'0' [pdf.py:1665]\n",
      "PdfReadWarning: Superfluous whitespace found in object header b'317' b'0' [pdf.py:1665]\n",
      "PdfReadWarning: Superfluous whitespace found in object header b'318' b'0' [pdf.py:1665]\n",
      "PdfReadWarning: Superfluous whitespace found in object header b'320' b'0' [pdf.py:1665]\n",
      "PdfReadWarning: Superfluous whitespace found in object header b'321' b'0' [pdf.py:1665]\n",
      "PdfReadWarning: Superfluous whitespace found in object header b'322' b'0' [pdf.py:1665]\n",
      "PdfReadWarning: Superfluous whitespace found in object header b'323' b'0' [pdf.py:1665]\n",
      "PdfReadWarning: Superfluous whitespace found in object header b'324' b'0' [pdf.py:1665]\n",
      "PdfReadWarning: Superfluous whitespace found in object header b'325' b'0' [pdf.py:1665]\n",
      "PdfReadWarning: Superfluous whitespace found in object header b'326' b'0' [pdf.py:1665]\n",
      "PdfReadWarning: Superfluous whitespace found in object header b'327' b'0' [pdf.py:1665]\n",
      "PdfReadWarning: Superfluous whitespace found in object header b'328' b'0' [pdf.py:1665]\n",
      "PdfReadWarning: Superfluous whitespace found in object header b'329' b'0' [pdf.py:1665]\n",
      "PdfReadWarning: Superfluous whitespace found in object header b'330' b'0' [pdf.py:1665]\n",
      "PdfReadWarning: Superfluous whitespace found in object header b'331' b'0' [pdf.py:1665]\n",
      "PdfReadWarning: Superfluous whitespace found in object header b'332' b'0' [pdf.py:1665]\n",
      "PdfReadWarning: Superfluous whitespace found in object header b'333' b'0' [pdf.py:1665]\n",
      "PdfReadWarning: Superfluous whitespace found in object header b'334' b'0' [pdf.py:1665]\n",
      "PdfReadWarning: Superfluous whitespace found in object header b'336' b'0' [pdf.py:1665]\n",
      "PdfReadWarning: Superfluous whitespace found in object header b'337' b'0' [pdf.py:1665]\n",
      "PdfReadWarning: Superfluous whitespace found in object header b'338' b'0' [pdf.py:1665]\n",
      "PdfReadWarning: Superfluous whitespace found in object header b'339' b'0' [pdf.py:1665]\n",
      "PdfReadWarning: Superfluous whitespace found in object header b'340' b'0' [pdf.py:1665]\n",
      "PdfReadWarning: Superfluous whitespace found in object header b'341' b'0' [pdf.py:1665]\n",
      "PdfReadWarning: Superfluous whitespace found in object header b'342' b'0' [pdf.py:1665]\n",
      "PdfReadWarning: Superfluous whitespace found in object header b'343' b'0' [pdf.py:1665]\n",
      "PdfReadWarning: Superfluous whitespace found in object header b'344' b'0' [pdf.py:1665]\n",
      "PdfReadWarning: Superfluous whitespace found in object header b'345' b'0' [pdf.py:1665]\n",
      "PdfReadWarning: Superfluous whitespace found in object header b'346' b'0' [pdf.py:1665]\n",
      "PdfReadWarning: Superfluous whitespace found in object header b'347' b'0' [pdf.py:1665]\n",
      "PdfReadWarning: Superfluous whitespace found in object header b'349' b'0' [pdf.py:1665]\n",
      "PdfReadWarning: Superfluous whitespace found in object header b'350' b'0' [pdf.py:1665]\n",
      "PdfReadWarning: Superfluous whitespace found in object header b'351' b'0' [pdf.py:1665]\n",
      "PdfReadWarning: Superfluous whitespace found in object header b'352' b'0' [pdf.py:1665]\n",
      "PdfReadWarning: Superfluous whitespace found in object header b'353' b'0' [pdf.py:1665]\n",
      "PdfReadWarning: Superfluous whitespace found in object header b'354' b'0' [pdf.py:1665]\n",
      "PdfReadWarning: Superfluous whitespace found in object header b'355' b'0' [pdf.py:1665]\n",
      "PdfReadWarning: Superfluous whitespace found in object header b'356' b'0' [pdf.py:1665]\n",
      "PdfReadWarning: Superfluous whitespace found in object header b'357' b'0' [pdf.py:1665]\n",
      "PdfReadWarning: Superfluous whitespace found in object header b'358' b'0' [pdf.py:1665]\n",
      "PdfReadWarning: Superfluous whitespace found in object header b'359' b'0' [pdf.py:1665]\n",
      "PdfReadWarning: Superfluous whitespace found in object header b'360' b'0' [pdf.py:1665]\n",
      "PdfReadWarning: Superfluous whitespace found in object header b'361' b'0' [pdf.py:1665]\n",
      "PdfReadWarning: Superfluous whitespace found in object header b'362' b'0' [pdf.py:1665]\n",
      "PdfReadWarning: Superfluous whitespace found in object header b'364' b'0' [pdf.py:1665]\n",
      "PdfReadWarning: Superfluous whitespace found in object header b'365' b'0' [pdf.py:1665]\n",
      "PdfReadWarning: Superfluous whitespace found in object header b'366' b'0' [pdf.py:1665]\n",
      "PdfReadWarning: Superfluous whitespace found in object header b'367' b'0' [pdf.py:1665]\n",
      "PdfReadWarning: Superfluous whitespace found in object header b'369' b'0' [pdf.py:1665]\n",
      "PdfReadWarning: Superfluous whitespace found in object header b'370' b'0' [pdf.py:1665]\n",
      "PdfReadWarning: Superfluous whitespace found in object header b'371' b'0' [pdf.py:1665]\n",
      "PdfReadWarning: Superfluous whitespace found in object header b'373' b'0' [pdf.py:1665]\n",
      "PdfReadWarning: Superfluous whitespace found in object header b'374' b'0' [pdf.py:1665]\n",
      "PdfReadWarning: Superfluous whitespace found in object header b'375' b'0' [pdf.py:1665]\n",
      "PdfReadWarning: Superfluous whitespace found in object header b'378' b'0' [pdf.py:1665]\n",
      "PdfReadWarning: Superfluous whitespace found in object header b'379' b'0' [pdf.py:1665]\n",
      "PdfReadWarning: Superfluous whitespace found in object header b'380' b'0' [pdf.py:1665]\n",
      "PdfReadWarning: Superfluous whitespace found in object header b'381' b'0' [pdf.py:1665]\n",
      "PdfReadWarning: Superfluous whitespace found in object header b'382' b'0' [pdf.py:1665]\n",
      "PdfReadWarning: Superfluous whitespace found in object header b'383' b'0' [pdf.py:1665]\n",
      "PdfReadWarning: Superfluous whitespace found in object header b'384' b'0' [pdf.py:1665]\n",
      "PdfReadWarning: Superfluous whitespace found in object header b'385' b'0' [pdf.py:1665]\n",
      "PdfReadWarning: Superfluous whitespace found in object header b'386' b'0' [pdf.py:1665]\n",
      "PdfReadWarning: Superfluous whitespace found in object header b'387' b'0' [pdf.py:1665]\n",
      "PdfReadWarning: Superfluous whitespace found in object header b'388' b'0' [pdf.py:1665]\n",
      "PdfReadWarning: Superfluous whitespace found in object header b'389' b'0' [pdf.py:1665]\n",
      "PdfReadWarning: Superfluous whitespace found in object header b'390' b'0' [pdf.py:1665]\n",
      "PdfReadWarning: Superfluous whitespace found in object header b'391' b'0' [pdf.py:1665]\n",
      "PdfReadWarning: Superfluous whitespace found in object header b'393' b'0' [pdf.py:1665]\n",
      "PdfReadWarning: Superfluous whitespace found in object header b'394' b'0' [pdf.py:1665]\n",
      "PdfReadWarning: Superfluous whitespace found in object header b'395' b'0' [pdf.py:1665]\n",
      "PdfReadWarning: Superfluous whitespace found in object header b'396' b'0' [pdf.py:1665]\n",
      "PdfReadWarning: Superfluous whitespace found in object header b'397' b'0' [pdf.py:1665]\n",
      "PdfReadWarning: Superfluous whitespace found in object header b'398' b'0' [pdf.py:1665]\n",
      "PdfReadWarning: Superfluous whitespace found in object header b'399' b'0' [pdf.py:1665]\n",
      "PdfReadWarning: Superfluous whitespace found in object header b'400' b'0' [pdf.py:1665]\n",
      "PdfReadWarning: Superfluous whitespace found in object header b'401' b'0' [pdf.py:1665]\n",
      "PdfReadWarning: Superfluous whitespace found in object header b'402' b'0' [pdf.py:1665]\n",
      "PdfReadWarning: Superfluous whitespace found in object header b'403' b'0' [pdf.py:1665]\n",
      "PdfReadWarning: Superfluous whitespace found in object header b'404' b'0' [pdf.py:1665]\n",
      "PdfReadWarning: Superfluous whitespace found in object header b'405' b'0' [pdf.py:1665]\n",
      "PdfReadWarning: Superfluous whitespace found in object header b'406' b'0' [pdf.py:1665]\n",
      "PdfReadWarning: Superfluous whitespace found in object header b'407' b'0' [pdf.py:1665]\n",
      "PdfReadWarning: Superfluous whitespace found in object header b'408' b'0' [pdf.py:1665]\n",
      "PdfReadWarning: Superfluous whitespace found in object header b'409' b'0' [pdf.py:1665]\n",
      "PdfReadWarning: Superfluous whitespace found in object header b'411' b'0' [pdf.py:1665]\n",
      "PdfReadWarning: Superfluous whitespace found in object header b'412' b'0' [pdf.py:1665]\n",
      "PdfReadWarning: Superfluous whitespace found in object header b'413' b'0' [pdf.py:1665]\n",
      "PdfReadWarning: Superfluous whitespace found in object header b'414' b'0' [pdf.py:1665]\n",
      "PdfReadWarning: Superfluous whitespace found in object header b'415' b'0' [pdf.py:1665]\n",
      "PdfReadWarning: Superfluous whitespace found in object header b'416' b'0' [pdf.py:1665]\n",
      "PdfReadWarning: Superfluous whitespace found in object header b'417' b'0' [pdf.py:1665]\n",
      "PdfReadWarning: Superfluous whitespace found in object header b'418' b'0' [pdf.py:1665]\n",
      "PdfReadWarning: Superfluous whitespace found in object header b'419' b'0' [pdf.py:1665]\n",
      "PdfReadWarning: Superfluous whitespace found in object header b'420' b'0' [pdf.py:1665]\n",
      "PdfReadWarning: Superfluous whitespace found in object header b'421' b'0' [pdf.py:1665]\n",
      "PdfReadWarning: Superfluous whitespace found in object header b'422' b'0' [pdf.py:1665]\n",
      "PdfReadWarning: Superfluous whitespace found in object header b'423' b'0' [pdf.py:1665]\n",
      "PdfReadWarning: Superfluous whitespace found in object header b'424' b'0' [pdf.py:1665]\n",
      "PdfReadWarning: Superfluous whitespace found in object header b'425' b'0' [pdf.py:1665]\n",
      "PdfReadWarning: Superfluous whitespace found in object header b'426' b'0' [pdf.py:1665]\n",
      "PdfReadWarning: Superfluous whitespace found in object header b'428' b'0' [pdf.py:1665]\n",
      "PdfReadWarning: Superfluous whitespace found in object header b'429' b'0' [pdf.py:1665]\n",
      "PdfReadWarning: Superfluous whitespace found in object header b'430' b'0' [pdf.py:1665]\n",
      "PdfReadWarning: Superfluous whitespace found in object header b'431' b'0' [pdf.py:1665]\n",
      "PdfReadWarning: Superfluous whitespace found in object header b'432' b'0' [pdf.py:1665]\n",
      "PdfReadWarning: Superfluous whitespace found in object header b'433' b'0' [pdf.py:1665]\n",
      "PdfReadWarning: Superfluous whitespace found in object header b'434' b'0' [pdf.py:1665]\n",
      "PdfReadWarning: Superfluous whitespace found in object header b'435' b'0' [pdf.py:1665]\n",
      "PdfReadWarning: Superfluous whitespace found in object header b'436' b'0' [pdf.py:1665]\n",
      "PdfReadWarning: Superfluous whitespace found in object header b'437' b'0' [pdf.py:1665]\n",
      "PdfReadWarning: Superfluous whitespace found in object header b'438' b'0' [pdf.py:1665]\n",
      "PdfReadWarning: Superfluous whitespace found in object header b'439' b'0' [pdf.py:1665]\n",
      "PdfReadWarning: Superfluous whitespace found in object header b'440' b'0' [pdf.py:1665]\n",
      "PdfReadWarning: Superfluous whitespace found in object header b'441' b'0' [pdf.py:1665]\n",
      "PdfReadWarning: Superfluous whitespace found in object header b'443' b'0' [pdf.py:1665]\n",
      "PdfReadWarning: Superfluous whitespace found in object header b'444' b'0' [pdf.py:1665]\n",
      "PdfReadWarning: Superfluous whitespace found in object header b'445' b'0' [pdf.py:1665]\n",
      "PdfReadWarning: Superfluous whitespace found in object header b'446' b'0' [pdf.py:1665]\n",
      "PdfReadWarning: Superfluous whitespace found in object header b'447' b'0' [pdf.py:1665]\n",
      "PdfReadWarning: Superfluous whitespace found in object header b'448' b'0' [pdf.py:1665]\n",
      "PdfReadWarning: Superfluous whitespace found in object header b'449' b'0' [pdf.py:1665]\n",
      "PdfReadWarning: Superfluous whitespace found in object header b'450' b'0' [pdf.py:1665]\n",
      "PdfReadWarning: Superfluous whitespace found in object header b'451' b'0' [pdf.py:1665]\n",
      "PdfReadWarning: Superfluous whitespace found in object header b'452' b'0' [pdf.py:1665]\n",
      "PdfReadWarning: Superfluous whitespace found in object header b'453' b'0' [pdf.py:1665]\n",
      "PdfReadWarning: Superfluous whitespace found in object header b'454' b'0' [pdf.py:1665]\n",
      "PdfReadWarning: Superfluous whitespace found in object header b'455' b'0' [pdf.py:1665]\n",
      "PdfReadWarning: Superfluous whitespace found in object header b'457' b'0' [pdf.py:1665]\n",
      "PdfReadWarning: Superfluous whitespace found in object header b'458' b'0' [pdf.py:1665]\n",
      "PdfReadWarning: Superfluous whitespace found in object header b'459' b'0' [pdf.py:1665]\n",
      "PdfReadWarning: Superfluous whitespace found in object header b'460' b'0' [pdf.py:1665]\n",
      "PdfReadWarning: Superfluous whitespace found in object header b'461' b'0' [pdf.py:1665]\n",
      "PdfReadWarning: Superfluous whitespace found in object header b'462' b'0' [pdf.py:1665]\n",
      "PdfReadWarning: Superfluous whitespace found in object header b'463' b'0' [pdf.py:1665]\n",
      "PdfReadWarning: Superfluous whitespace found in object header b'464' b'0' [pdf.py:1665]\n",
      "PdfReadWarning: Superfluous whitespace found in object header b'465' b'0' [pdf.py:1665]\n",
      "PdfReadWarning: Superfluous whitespace found in object header b'466' b'0' [pdf.py:1665]\n",
      "PdfReadWarning: Superfluous whitespace found in object header b'467' b'0' [pdf.py:1665]\n",
      "PdfReadWarning: Superfluous whitespace found in object header b'468' b'0' [pdf.py:1665]\n",
      "PdfReadWarning: Superfluous whitespace found in object header b'469' b'0' [pdf.py:1665]\n",
      "PdfReadWarning: Superfluous whitespace found in object header b'470' b'0' [pdf.py:1665]\n",
      "PdfReadWarning: Superfluous whitespace found in object header b'472' b'0' [pdf.py:1665]\n",
      "PdfReadWarning: Superfluous whitespace found in object header b'473' b'0' [pdf.py:1665]\n",
      "PdfReadWarning: Superfluous whitespace found in object header b'474' b'0' [pdf.py:1665]\n",
      "PdfReadWarning: Superfluous whitespace found in object header b'475' b'0' [pdf.py:1665]\n",
      "PdfReadWarning: Superfluous whitespace found in object header b'476' b'0' [pdf.py:1665]\n",
      "PdfReadWarning: Superfluous whitespace found in object header b'477' b'0' [pdf.py:1665]\n",
      "PdfReadWarning: Superfluous whitespace found in object header b'478' b'0' [pdf.py:1665]\n",
      "PdfReadWarning: Superfluous whitespace found in object header b'480' b'0' [pdf.py:1665]\n",
      "PdfReadWarning: Superfluous whitespace found in object header b'481' b'0' [pdf.py:1665]\n",
      "PdfReadWarning: Superfluous whitespace found in object header b'482' b'0' [pdf.py:1665]\n",
      "PdfReadWarning: Superfluous whitespace found in object header b'483' b'0' [pdf.py:1665]\n",
      "PdfReadWarning: Superfluous whitespace found in object header b'484' b'0' [pdf.py:1665]\n",
      "PdfReadWarning: Superfluous whitespace found in object header b'485' b'0' [pdf.py:1665]\n",
      "PdfReadWarning: Superfluous whitespace found in object header b'486' b'0' [pdf.py:1665]\n",
      "PdfReadWarning: Superfluous whitespace found in object header b'487' b'0' [pdf.py:1665]\n",
      "PdfReadWarning: Superfluous whitespace found in object header b'488' b'0' [pdf.py:1665]\n",
      "PdfReadWarning: Superfluous whitespace found in object header b'489' b'0' [pdf.py:1665]\n"
     ]
    },
    {
     "name": "stderr",
     "output_type": "stream",
     "text": [
      "PdfReadWarning: Superfluous whitespace found in object header b'502' b'0' [pdf.py:1665]\n",
      "PdfReadWarning: Superfluous whitespace found in object header b'507' b'0' [pdf.py:1665]\n",
      "PdfReadWarning: Superfluous whitespace found in object header b'508' b'0' [pdf.py:1665]\n",
      "PdfReadWarning: Superfluous whitespace found in object header b'491' b'0' [pdf.py:1665]\n",
      "PdfReadWarning: Superfluous whitespace found in object header b'490' b'0' [pdf.py:1665]\n",
      "PdfReadWarning: Superfluous whitespace found in object header b'493' b'0' [pdf.py:1665]\n",
      "PdfReadWarning: Superfluous whitespace found in object header b'492' b'0' [pdf.py:1665]\n",
      "PdfReadWarning: Superfluous whitespace found in object header b'495' b'0' [pdf.py:1665]\n",
      "PdfReadWarning: Superfluous whitespace found in object header b'494' b'0' [pdf.py:1665]\n",
      "PdfReadWarning: Superfluous whitespace found in object header b'497' b'0' [pdf.py:1665]\n",
      "PdfReadWarning: Superfluous whitespace found in object header b'496' b'0' [pdf.py:1665]\n",
      "PdfReadWarning: Superfluous whitespace found in object header b'499' b'0' [pdf.py:1665]\n",
      "PdfReadWarning: Superfluous whitespace found in object header b'498' b'0' [pdf.py:1665]\n",
      "PdfReadWarning: Superfluous whitespace found in object header b'501' b'0' [pdf.py:1665]\n",
      "PdfReadWarning: Superfluous whitespace found in object header b'500' b'0' [pdf.py:1665]\n",
      "PdfReadWarning: Superfluous whitespace found in object header b'504' b'0' [pdf.py:1665]\n",
      "PdfReadWarning: Superfluous whitespace found in object header b'503' b'0' [pdf.py:1665]\n",
      "PdfReadWarning: Superfluous whitespace found in object header b'506' b'0' [pdf.py:1665]\n",
      "PdfReadWarning: Superfluous whitespace found in object header b'505' b'0' [pdf.py:1665]\n",
      "PdfReadWarning: Superfluous whitespace found in object header b'510' b'0' [pdf.py:1665]\n",
      "PdfReadWarning: Superfluous whitespace found in object header b'511' b'0' [pdf.py:1665]\n",
      "PdfReadWarning: Superfluous whitespace found in object header b'512' b'0' [pdf.py:1665]\n",
      "PdfReadWarning: Superfluous whitespace found in object header b'513' b'0' [pdf.py:1665]\n",
      "PdfReadWarning: Superfluous whitespace found in object header b'514' b'0' [pdf.py:1665]\n",
      "PdfReadWarning: Superfluous whitespace found in object header b'515' b'0' [pdf.py:1665]\n",
      "PdfReadWarning: Superfluous whitespace found in object header b'516' b'0' [pdf.py:1665]\n",
      "PdfReadWarning: Superfluous whitespace found in object header b'517' b'0' [pdf.py:1665]\n",
      "PdfReadWarning: Superfluous whitespace found in object header b'518' b'0' [pdf.py:1665]\n",
      "PdfReadWarning: Superfluous whitespace found in object header b'519' b'0' [pdf.py:1665]\n",
      "PdfReadWarning: Superfluous whitespace found in object header b'520' b'0' [pdf.py:1665]\n",
      "PdfReadWarning: Superfluous whitespace found in object header b'521' b'0' [pdf.py:1665]\n",
      "PdfReadWarning: Superfluous whitespace found in object header b'522' b'0' [pdf.py:1665]\n",
      "PdfReadWarning: Superfluous whitespace found in object header b'523' b'0' [pdf.py:1665]\n",
      "PdfReadWarning: Superfluous whitespace found in object header b'524' b'0' [pdf.py:1665]\n"
     ]
    },
    {
     "name": "stdout",
     "output_type": "stream",
     "text": [
      "could not upload file to cloudinary: ../raw_data/bankinter_all_prices.pdf\n",
      "handling pdfs from bai\n",
      "looking for: https://www.bancobai.ao/media/2988/bai_pre_clientes-particulares_31-03-2021.pdf\n",
      "looking for: https://www.bancobai.ao/media/2989/bai_pre_outros-clientes_31-03-2021.pdf\n",
      "looking for: https://www.bancobai.ao/media/2823/bai_resumo-das-alteracoes-do-precario-bna-8-02-2021-cleaned.pdf\n",
      "looking for: https://www.bancobai.ao/media/2278/termos-e-condições.pdf\n",
      "saved merged file to: couldinary\n"
     ]
    }
   ],
   "source": [
    "banks = store_pdfs()"
   ]
  },
  {
   "cell_type": "code",
   "execution_count": 14,
   "metadata": {
    "ExecuteTime": {
     "end_time": "2021-03-31T16:12:32.118025Z",
     "start_time": "2021-03-31T16:12:32.095424Z"
    }
   },
   "outputs": [],
   "source": [
    "with open('../raw_data/banks.json', 'w') as fp:\n",
    "    json.dump(banks, fp)"
   ]
  },
  {
   "cell_type": "code",
   "execution_count": 19,
   "metadata": {
    "ExecuteTime": {
     "end_time": "2021-03-31T16:15:14.722530Z",
     "start_time": "2021-03-31T16:15:14.715692Z"
    }
   },
   "outputs": [
    {
     "data": {
      "text/plain": [
       "{'abanca': {'url': 'https://www.abanca.pt',\n",
       "  'pricelist_url': 'https://www.abanca.pt/pt/precario/',\n",
       "  'pdfs': ['https://www.abanca.pt/files/documents/precario-folheto-comissoes-823a7663.pdf',\n",
       "   'https://www.abanca.pt/files/documents/folheto-taxa-juro-precario-23836e90.pdf',\n",
       "   'https://www.abanca.pt/files/documents/precariodevaloresmobiliarios-23c714a2.pdf',\n",
       "   'https://www.abanca.pt/files/documents/glossario-6479e89f.pdf',\n",
       "   'https://www.abanca.pt/files/docs/leaflet-your-rights-payments-eu.pdf'],\n",
       "  'cloud_pdf': 'https://res.cloudinary.com/do59ghg7e/image/upload/v1615834323/pdfs/abanca_all_prices.pdf'},\n",
       " 'bic': {'url': 'https://www.bancobic.ao',\n",
       "  'pricelist_url': 'https://www.bancobic.ao/inicio/precario',\n",
       "  'pdfs': ['https://www.bancobic.ao/dotAsset/0f07d8a4-4ec3-4111-a453-c4ee14d5c66c.pdf',\n",
       "   'https://www.bancobic.ao/dotAsset/7e1e6dd2-9d56-43ef-b398-ac3bac3cc70e.pdf'],\n",
       "  'cloud_pdf': 'https://res.cloudinary.com/do59ghg7e/image/upload/v1615834323/pdfs/bic_all_prices.pdf'},\n",
       " 'ctt': {'url': 'https://www.bancoctt.pt',\n",
       "  'pricelist_url': 'https://www.bancoctt.pt/application/themes/pdfs/precario.pdf?language_id=1555597541833',\n",
       "  'pdfs': ['https://www.bancoctt.pt/application/themes/pdfs/precario.pdf?language_id=1555597541833'],\n",
       "  'cloud_pdf': 'https://res.cloudinary.com/do59ghg7e/image/upload/v1615834323/pdfs/ctt_all_prices.pdf'},\n",
       " 'bankinter': {'url': 'https://www.bankinter.pt',\n",
       "  'pricelist_url': 'https://www.bankinter.pt/precario1',\n",
       "  'pdfs': ['https://www.bankinter.pt/documents/20182/115991/Pre%C3%A7%C3%A1rio+Completo+TFSI++20210401.pdf/c489f0cd-3831-4441-812e-f351741d2b22',\n",
       "   'https://banco.bankinter.pt/particulares/pdfs/precario/folha_rosto.pdf',\n",
       "   'https://banco.bankinter.pt/particulares/pdfs/precario/informacao_geral.pdf',\n",
       "   'https://banco.bankinter.pt/particulares/pdfs/precario/informacao_complementar.pdf',\n",
       "   'https://banco.bankinter.pt/particulares/pdfs/precario/p_fcd_contas_deposito.pdf',\n",
       "   'https://banco.bankinter.pt/particulares/pdfs/precario/p_fcd_operacoes_credito.pdf',\n",
       "   'https://banco.bankinter.pt/particulares/pdfs/precario/p_fcd_cartoes_credito_debito.pdf',\n",
       "   'https://banco.bankinter.pt/particulares/pdfs/precario/p_fcd_cheques.pdf',\n",
       "   'https://banco.bankinter.pt/particulares/pdfs/precario/p_fcd_transferencias.pdf',\n",
       "   'https://banco.bankinter.pt/particulares/pdfs/precario/p_fcd_cobrancas.pdf',\n",
       "   'https://banco.bankinter.pt/particulares/pdfs/precario/p_fcd_prestacao_servicos.pdf',\n",
       "   'https://banco.bankinter.pt/particulares/pdfs/precario/o_fcd_contas_deposito.pdf',\n",
       "   'https://banco.bankinter.pt/particulares/pdfs/precario/o_fcd_operacoes_credito.pdf',\n",
       "   'https://banco.bankinter.pt/particulares/pdfs/precario/o_fcd_cartoes_credito_debito.pdf',\n",
       "   'https://banco.bankinter.pt/particulares/pdfs/precario/o_fcd_cheques.pdf',\n",
       "   'https://banco.bankinter.pt/particulares/pdfs/precario/o_fcd_transferencias.pdf',\n",
       "   'https://banco.bankinter.pt/particulares/pdfs/precario/o_fcd_cobrancas.pdf',\n",
       "   'https://banco.bankinter.pt/particulares/pdfs/precario/o_fcd_prestacao_servicos.pdf',\n",
       "   'https://banco.bankinter.pt/particulares/pdfs/precario/o_fcd_operacoes_estrangeiro.pdf',\n",
       "   'https://banco.bankinter.pt/particulares/pdfs/precario/p_ftj_contas_deposito.pdf',\n",
       "   'https://banco.bankinter.pt/particulares/pdfs/precario/p_ftj_operacoes_credito.pdf',\n",
       "   'https://banco.bankinter.pt/particulares/pdfs/precario/o_ftj_contas_deposito.pdf',\n",
       "   'https://banco.bankinter.pt/particulares/pdfs/precario/o_ftj_operacoes_credito.pdf',\n",
       "   'https://banco.bankinter.pt/particulares/pdfs/precario/ptfs_a.pdf',\n",
       "   'https://banco.bankinter.pt/particulares/pdfs/precario/ptfs_b.pdf',\n",
       "   'https://banco.bankinter.pt/particulares/pdfs/precario/ptfs_c.pdf',\n",
       "   'https://banco.bankinter.pt/particulares/pdfs/precario/ptfs_d.pdf'],\n",
       "  'cloud_pdf': 'https://res.cloudinary.com/do59ghg7e/image/upload/v1615834323/pdfs/bankinter_all_prices.pdf'},\n",
       " 'bai': {'url': 'https://www.bancobai.ao',\n",
       "  'pricelist_url': 'https://www.bancobai.ao/pt/preçário',\n",
       "  'pdfs': ['https://www.bancobai.ao/media/2988/bai_pre_clientes-particulares_31-03-2021.pdf',\n",
       "   'https://www.bancobai.ao/media/2989/bai_pre_outros-clientes_31-03-2021.pdf',\n",
       "   'https://www.bancobai.ao/media/2823/bai_resumo-das-alteracoes-do-precario-bna-8-02-2021-cleaned.pdf',\n",
       "   'https://www.bancobai.ao/media/2278/termos-e-condições.pdf'],\n",
       "  'cloud_pdf': 'https://res.cloudinary.com/do59ghg7e/image/upload/v1615834323/pdfs/bai_all_prices.pdf'}}"
      ]
     },
     "execution_count": 19,
     "metadata": {},
     "output_type": "execute_result"
    }
   ],
   "source": [
    "banks"
   ]
  },
  {
   "cell_type": "markdown",
   "metadata": {},
   "source": [
    "***The following part is not needed at the moment***"
   ]
  },
  {
   "cell_type": "markdown",
   "metadata": {},
   "source": [
    "# reacting to requests"
   ]
  },
  {
   "cell_type": "code",
   "execution_count": 16,
   "metadata": {
    "ExecuteTime": {
     "end_time": "2021-04-01T17:09:01.571034Z",
     "start_time": "2021-04-01T17:09:01.511821Z"
    }
   },
   "outputs": [],
   "source": [
    "# key is bank id\n",
    "    banks = {'1':{'url':\"https://www.abanca.pt\", \n",
    "                    \"name\":\"ABANCA Corporación Bancaria, S.A.\", \n",
    "                    \"num_pdfs\":\"3\", \n",
    "                    \"last_updated\":\"210401\", \n",
    "                    \"sum_sizes\":\"40\", \n",
    "                    \"bp_bank_id\":\"0170\"}\n",
    "             ,\n",
    "              '2':{'url':\"https://www.abanca.pt\", \n",
    "                    \"name\":\"ABANCA Corporación Bancaria, S.A.\", \n",
    "                    \"num_pdfs\":\"3\", \n",
    "                    \"last_updated\":\"210401\", \n",
    "                    \"sum_sizes\":\"40\", \n",
    "                    \"bp_bank_id\":\"0170\"}\n",
    "              ,\n",
    "              '3':{'url':\"https://www.abanca.pt\", \n",
    "                    \"name\":\"ABANCA Corporación Bancaria, S.A.\", \n",
    "                    \"num_pdfs\":\"3\", \n",
    "                    \"last_updated\":\"210401\", \n",
    "                    \"sum_sizes\":\"40\", \n",
    "                    \"bp_bank_id\":\"0170\"}\n",
    "              }"
   ]
  },
  {
   "cell_type": "code",
   "execution_count": 17,
   "metadata": {
    "ExecuteTime": {
     "end_time": "2021-04-01T17:09:43.201937Z",
     "start_time": "2021-04-01T17:09:43.164223Z"
    }
   },
   "outputs": [
    {
     "name": "stdout",
     "output_type": "stream",
     "text": [
      "1\n",
      "2\n",
      "3\n"
     ]
    }
   ],
   "source": [
    "for bank_id, vals in banks.items():\n",
    "    print(bank_id)"
   ]
  },
  {
   "cell_type": "code",
   "execution_count": null,
   "metadata": {},
   "outputs": [],
   "source": []
  },
  {
   "cell_type": "markdown",
   "metadata": {
    "heading_collapsed": true
   },
   "source": [
    "# Downloading Files manually"
   ]
  },
  {
   "cell_type": "code",
   "execution_count": 15,
   "metadata": {
    "ExecuteTime": {
     "end_time": "2021-03-31T16:12:32.133061Z",
     "start_time": "2021-03-31T16:12:32.125892Z"
    },
    "hidden": true
   },
   "outputs": [],
   "source": [
    "bank_pdfs = {'BAI':{'id_pb':'0008',\n",
    "                'url':'https://www.bancobaieuropa.pt/',\n",
    "                'prices':['https://www.bancobai.ao/media/2870/precario_clientes-particulares_08_02_2021.pdf',\n",
    "                         'https://www.bancobai.ao/media/2871/precario_outros-clientes_08_02_2021.pdf']\n",
    "               },\n",
    "       'ABANCA':{'id_pb':'0170',\n",
    "                'url':'https://www.abanca.pt',\n",
    "                'prices':['https://www.abanca.pt/files/documents/precario-folheto-comissoes-a6b9545f.pdf',\n",
    "                         'https://www.abanca.pt/files/documents/folheto-taxa-juro-precario-23836e90.pdf'\n",
    "                         ]\n",
    "                },\n",
    "       'BIC':{'id_pb':'0079',\n",
    "                'url':'https://www.bancobic.ao',\n",
    "                'prices':['https://www.bancobic.ao/dotAsset/0f07d8a4-4ec3-4111-a453-c4ee14d5c66c.pdf',\n",
    "                         'https://www.bancobic.ao/dotAsset/7e1e6dd2-9d56-43ef-b398-ac3bac3cc70e.pdf'\n",
    "                         ]\n",
    "             },\n",
    "       'CTT':{'id_pb':'0193',\n",
    "                'url':'https://www.bancoctt.pt',\n",
    "                'prices':['https://www.bancoctt.pt/application/themes/pdfs/precario.pdf'\n",
    "                         ]\n",
    "             },\n",
    "       'BANKINTER':{'id_pb':'0269',\n",
    "                'url':'https://www.bankinter.pt',\n",
    "                'prices':[# Parte I\n",
    "                         'https://banco.bankinter.pt/particulares/pdfs/precario/p_fcd_contas_deposito.pdf',\n",
    "                         'https://banco.bankinter.pt/particulares/pdfs/precario/p_fcd_operacoes_credito.pdf',\n",
    "                         'https://banco.bankinter.pt/particulares/pdfs/precario/p_fcd_cartoes_credito_debito.pdf',\n",
    "                         'https://banco.bankinter.pt/particulares/pdfs/precario/p_fcd_cheques.pdf',\n",
    "                         'https://banco.bankinter.pt/particulares/pdfs/precario/p_fcd_transferencias.pdf',\n",
    "                         'https://banco.bankinter.pt/particulares/pdfs/precario/p_fcd_cobrancas.pdf',\n",
    "                         'https://banco.bankinter.pt/particulares/pdfs/precario/p_fcd_prestacao_servicos.pdf',\n",
    "                         ## Parte II\n",
    "                         'https://banco.bankinter.pt/particulares/pdfs/precario/o_fcd_contas_deposito.pdf',\n",
    "                         'https://banco.bankinter.pt/particulares/pdfs/precario/o_fcd_operacoes_credito.pdf',\n",
    "                         'https://banco.bankinter.pt/particulares/pdfs/precario/o_fcd_cartoes_credito_debito.pdf',\n",
    "                         'https://banco.bankinter.pt/particulares/pdfs/precario/o_fcd_cheques.pdf',\n",
    "                         'https://banco.bankinter.pt/particulares/pdfs/precario/o_fcd_transferencias.pdf',\n",
    "                         'https://banco.bankinter.pt/particulares/pdfs/precario/o_fcd_cobrancas.pdf',\n",
    "                         'https://banco.bankinter.pt/particulares/pdfs/precario/o_fcd_prestacao_servicos.pdf',\n",
    "                         'https://banco.bankinter.pt/particulares/pdfs/precario/o_fcd_operacoes_estrangeiro.pdf',\n",
    "                         'https://banco.bankinter.pt/particulares/pdfs/precario/o_ftj_contas_deposito.pdf',\n",
    "                         'https://banco.bankinter.pt/particulares/pdfs/precario/o_ftj_operacoes_credito.pdf',\n",
    "                        ]\n",
    "                   }\n",
    "        }"
   ]
  },
  {
   "cell_type": "code",
   "execution_count": 16,
   "metadata": {
    "ExecuteTime": {
     "end_time": "2021-03-31T16:12:32.157523Z",
     "start_time": "2021-03-31T16:12:32.136396Z"
    },
    "hidden": true
   },
   "outputs": [],
   "source": [
    "## not further investigated"
   ]
  },
  {
   "cell_type": "code",
   "execution_count": null,
   "metadata": {
    "hidden": true
   },
   "outputs": [],
   "source": []
  },
  {
   "cell_type": "markdown",
   "metadata": {
    "heading_collapsed": true
   },
   "source": [
    "# old scraping form banco de portugal"
   ]
  },
  {
   "cell_type": "markdown",
   "metadata": {
    "hidden": true
   },
   "source": [
    "Every PDF file has the same name structure ```'https://clientebancario.bportugal.pt/sites/default/files/precario/[BANK_ID]_/[BANK_ID]_PRE.pdf'```\n",
    "We can use requests to load and save the pdf files locally.\n",
    "Banks have a unique ID which are stored in the ```banks``` dictionary."
   ]
  },
  {
   "cell_type": "code",
   "execution_count": 17,
   "metadata": {
    "ExecuteTime": {
     "end_time": "2021-03-31T16:12:32.166737Z",
     "start_time": "2021-03-31T16:12:32.161589Z"
    },
    "hidden": true
   },
   "outputs": [],
   "source": [
    "## Defining url prefix and suffix\n",
    "url_pre = 'https://clientebancario.bportugal.pt/sites/default/files/precario/'\n",
    "url_suff = '_PRE.pdf'"
   ]
  },
  {
   "cell_type": "code",
   "execution_count": 18,
   "metadata": {
    "ExecuteTime": {
     "end_time": "2021-03-31T16:12:35.867594Z",
     "start_time": "2021-03-31T16:12:32.172368Z"
    },
    "hidden": true
   },
   "outputs": [
    {
     "ename": "NameError",
     "evalue": "name 'response' is not defined",
     "output_type": "error",
     "traceback": [
      "\u001b[0;31m---------------------------------------------------------------------------\u001b[0m",
      "\u001b[0;31mNameError\u001b[0m                                 Traceback (most recent call last)",
      "\u001b[0;32m<ipython-input-18-657dfbc4964d>\u001b[0m in \u001b[0;36m<module>\u001b[0;34m\u001b[0m\n\u001b[1;32m      3\u001b[0m     \u001b[0mr\u001b[0m \u001b[0;34m=\u001b[0m \u001b[0mrequests\u001b[0m\u001b[0;34m.\u001b[0m\u001b[0mget\u001b[0m\u001b[0;34m(\u001b[0m\u001b[0;34mf'{url_pre}{v}_/{v}{url_suff}'\u001b[0m\u001b[0;34m)\u001b[0m\u001b[0;34m\u001b[0m\u001b[0;34m\u001b[0m\u001b[0m\n\u001b[1;32m      4\u001b[0m     \u001b[0;32mwith\u001b[0m \u001b[0mopen\u001b[0m\u001b[0;34m(\u001b[0m\u001b[0;34mf'../raw_data/{k}.pdf'\u001b[0m\u001b[0;34m,\u001b[0m \u001b[0;34m'wb'\u001b[0m\u001b[0;34m)\u001b[0m \u001b[0;32mas\u001b[0m \u001b[0mf\u001b[0m\u001b[0;34m:\u001b[0m\u001b[0;34m\u001b[0m\u001b[0;34m\u001b[0m\u001b[0m\n\u001b[0;32m----> 5\u001b[0;31m         \u001b[0mf\u001b[0m\u001b[0;34m.\u001b[0m\u001b[0mwrite\u001b[0m\u001b[0;34m(\u001b[0m\u001b[0mresponse\u001b[0m\u001b[0;34m.\u001b[0m\u001b[0mcontent\u001b[0m\u001b[0;34m)\u001b[0m\u001b[0;34m\u001b[0m\u001b[0;34m\u001b[0m\u001b[0m\n\u001b[0m\u001b[1;32m      6\u001b[0m \u001b[0;34m\u001b[0m\u001b[0m\n",
      "\u001b[0;31mNameError\u001b[0m: name 'response' is not defined"
     ]
    }
   ],
   "source": [
    "# scraping the latest files from the bankpage and saving it to ```raw_data```\n",
    "for k, v in banks.items():\n",
    "    r = requests.get(f'{url_pre}{v}_/{v}{url_suff}')\n",
    "    with open(f'../raw_data/{k}.pdf', 'wb') as f:\n",
    "        f.write(response.content)\n",
    "    "
   ]
  },
  {
   "cell_type": "markdown",
   "metadata": {
    "hidden": true
   },
   "source": [
    "The files can be inspected by the PyPDF2 library."
   ]
  },
  {
   "cell_type": "code",
   "execution_count": null,
   "metadata": {
    "ExecuteTime": {
     "end_time": "2021-03-31T16:12:35.871364Z",
     "start_time": "2021-03-31T16:06:51.298Z"
    },
    "hidden": true
   },
   "outputs": [],
   "source": [
    "# example path\n",
    "path = '../raw_data/CTT.pdf'"
   ]
  },
  {
   "cell_type": "code",
   "execution_count": null,
   "metadata": {
    "ExecuteTime": {
     "end_time": "2021-03-31T16:12:35.873362Z",
     "start_time": "2021-03-31T16:06:51.304Z"
    },
    "hidden": true
   },
   "outputs": [],
   "source": [
    "def text_extractor(path):\n",
    "    fp = open(path, 'rb')\n",
    "    pdfFile = PdfFileReader(fp)\n",
    "    if pdfFile.isEncrypted:\n",
    "        try:\n",
    "            pdfFile = pdfFile.decrypt('')\n",
    "            print('File Decrypted (PyPDF2)')\n",
    "        except:\n",
    "            command = (\"cp \"+ path +\n",
    "                \" temp.pdf; qpdf --password='' --decrypt temp.pdf \" + path\n",
    "                + \"; rm temp.pdf\")\n",
    "            os.system(command)\n",
    "            print('File Decrypted (qpdf)')\n",
    "            fp = open(path)\n",
    "            print(fp)\n",
    "            pdfFile = PdfFileReader(fp)\n",
    "    else:\n",
    "        print('File Not Encrypted')\n",
    "    \n",
    "    pdfFile = PdfFileReader(fp)\n",
    "#     meta = pdfFile.getXmpMetadata()\n",
    "#     print(meta)\n",
    "#     mode = pdfFile.getFields()\n",
    "#     print(mode)\n",
    "    page = pdfFile.getPage(4)\n",
    "    text = page.extractText()\n",
    "    return text.split(\"\\n\")\n"
   ]
  },
  {
   "cell_type": "code",
   "execution_count": null,
   "metadata": {
    "ExecuteTime": {
     "end_time": "2021-03-31T16:12:35.875423Z",
     "start_time": "2021-03-31T16:06:51.308Z"
    },
    "hidden": true
   },
   "outputs": [],
   "source": [
    "df = pd.read_html('https://en.wikipedia.org/wiki/Minnesota')"
   ]
  },
  {
   "cell_type": "code",
   "execution_count": null,
   "metadata": {
    "ExecuteTime": {
     "end_time": "2021-03-31T16:12:35.877735Z",
     "start_time": "2021-03-31T16:06:51.311Z"
    },
    "hidden": true
   },
   "outputs": [],
   "source": [
    "PDFFile = open(path,'rb')\n",
    "\n",
    "PDF = PyPDF2.PdfFileReader(PDFFile)\n",
    "pages = PDF.getNumPages()\n",
    "key = '/Annots'\n",
    "uri = '/URI'\n",
    "ank = '/A'\n",
    "\n",
    "for page in range(pages):\n",
    "    pageSliced = PDF.getPage(page)\n",
    "    pageObject = pageSliced.getObject()\n",
    "\n",
    "    if pageObject.has_key(key):\n",
    "        ann = pageObject[key]\n",
    "        for a in ann:\n",
    "            u = a.getObject()\n",
    "            if u[ank].has_key(uri):\n",
    "                print(u[ank][uri])"
   ]
  },
  {
   "cell_type": "code",
   "execution_count": null,
   "metadata": {
    "hidden": true
   },
   "outputs": [],
   "source": []
  },
  {
   "cell_type": "code",
   "execution_count": null,
   "metadata": {
    "hidden": true
   },
   "outputs": [],
   "source": []
  },
  {
   "cell_type": "code",
   "execution_count": null,
   "metadata": {
    "hidden": true
   },
   "outputs": [],
   "source": []
  },
  {
   "cell_type": "code",
   "execution_count": null,
   "metadata": {
    "hidden": true
   },
   "outputs": [],
   "source": []
  }
 ],
 "metadata": {
  "kernelspec": {
   "display_name": "Python 3",
   "language": "python",
   "name": "python3"
  },
  "language_info": {
   "codemirror_mode": {
    "name": "ipython",
    "version": 3
   },
   "file_extension": ".py",
   "mimetype": "text/x-python",
   "name": "python",
   "nbconvert_exporter": "python",
   "pygments_lexer": "ipython3",
   "version": "3.8.6"
  },
  "toc": {
   "base_numbering": 1,
   "nav_menu": {},
   "number_sections": true,
   "sideBar": true,
   "skip_h1_title": false,
   "title_cell": "Table of Contents",
   "title_sidebar": "Contents",
   "toc_cell": false,
   "toc_position": {},
   "toc_section_display": true,
   "toc_window_display": false
  }
 },
 "nbformat": 4,
 "nbformat_minor": 4
}
