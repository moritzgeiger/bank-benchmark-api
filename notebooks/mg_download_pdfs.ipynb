{
 "cells": [
  {
   "cell_type": "markdown",
   "metadata": {},
   "source": [
    "# Imports"
   ]
  },
  {
   "cell_type": "code",
   "execution_count": 1,
   "metadata": {
    "ExecuteTime": {
     "end_time": "2021-03-31T14:32:49.615245Z",
     "start_time": "2021-03-31T14:32:48.553458Z"
    }
   },
   "outputs": [],
   "source": [
    "import pandas as pd\n",
    "import numpy as np\n",
    "import requests\n",
    "from PyPDF2 import PdfFileReader, PdfFileMerger, PdfFileWriter\n",
    "import PyPDF2\n",
    "from bs4 import BeautifulSoup\n",
    "import os\n",
    "import shutil\n",
    "from urllib.parse import urljoin\n",
    "from urllib.request import Request, urlopen\n",
    "from io import StringIO, BytesIO\n",
    "import cloudinary.uploader"
   ]
  },
  {
   "cell_type": "markdown",
   "metadata": {},
   "source": [
    "# Finding the right document(s) on the websites"
   ]
  },
  {
   "cell_type": "markdown",
   "metadata": {},
   "source": [
    "Since the Sources Website ```https://clientebancario.bportugal.pt/precarios``` doesn't provide enough information on the interest rates on the banks (Parte II of the document), there is another approach to get the prices directly from the bank's homepages. "
   ]
  },
  {
   "cell_type": "markdown",
   "metadata": {
    "heading_collapsed": true
   },
   "source": [
    "## setting up Bank dictionary with manual input"
   ]
  },
  {
   "cell_type": "code",
   "execution_count": 2,
   "metadata": {
    "ExecuteTime": {
     "end_time": "2021-03-31T14:32:49.622187Z",
     "start_time": "2021-03-31T14:32:49.618195Z"
    },
    "hidden": true
   },
   "outputs": [],
   "source": [
    "# init banks\n",
    "banks = {}"
   ]
  },
  {
   "cell_type": "code",
   "execution_count": 3,
   "metadata": {
    "ExecuteTime": {
     "end_time": "2021-03-31T14:32:49.639193Z",
     "start_time": "2021-03-31T14:32:49.627531Z"
    },
    "hidden": true
   },
   "outputs": [],
   "source": [
    "## Building an initial dictionary which is maintained in the backoffice of the app via input field.\n",
    "def input_urls(banks, name_bank, url):\n",
    "    if 'http' in url:\n",
    "        pass\n",
    "    else:\n",
    "        url = 'https://' + url\n",
    "    url = url.strip(\"/\")\n",
    "    banks[name_bank] = {'url':url}\n",
    "    return banks"
   ]
  },
  {
   "cell_type": "code",
   "execution_count": 4,
   "metadata": {
    "ExecuteTime": {
     "end_time": "2021-03-31T14:32:49.666325Z",
     "start_time": "2021-03-31T14:32:49.643506Z"
    },
    "hidden": true
   },
   "outputs": [],
   "source": [
    "# saving bank urls\n",
    "bankdict = {'abanca':'https://www.abanca.pt',\n",
    "'bic':'https://www.bancobic.ao',\n",
    "'ctt': 'www.bancoctt.pt',\n",
    "'bankinter':'https://www.bankinter.pt',\n",
    "'bai':'https://www.bancobai.ao'\n",
    "    }\n",
    "## quickly filling up the banks // later it will be done by user input\n",
    "for k, v in bankdict.items():\n",
    "    input_urls(banks, k, v)\n"
   ]
  },
  {
   "cell_type": "code",
   "execution_count": 5,
   "metadata": {
    "ExecuteTime": {
     "end_time": "2021-03-31T14:32:49.710077Z",
     "start_time": "2021-03-31T14:32:49.669776Z"
    },
    "hidden": true
   },
   "outputs": [
    {
     "data": {
      "text/plain": [
       "{'abanca': {'url': 'https://www.abanca.pt'},\n",
       " 'bic': {'url': 'https://www.bancobic.ao'},\n",
       " 'ctt': {'url': 'https://www.bancoctt.pt'},\n",
       " 'bankinter': {'url': 'https://www.bankinter.pt'},\n",
       " 'bai': {'url': 'https://www.bancobai.ao'}}"
      ]
     },
     "execution_count": 5,
     "metadata": {},
     "output_type": "execute_result"
    }
   ],
   "source": [
    "banks"
   ]
  },
  {
   "cell_type": "markdown",
   "metadata": {
    "heading_collapsed": true
   },
   "source": [
    "## Finding the 'prices' page on the website"
   ]
  },
  {
   "cell_type": "markdown",
   "metadata": {
    "hidden": true
   },
   "source": [
    "Once the rails app has provided our API with the website of the bank, we can start looking for the pricelists of the bank on their website."
   ]
  },
  {
   "cell_type": "code",
   "execution_count": 6,
   "metadata": {
    "ExecuteTime": {
     "end_time": "2021-03-31T14:32:49.733100Z",
     "start_time": "2021-03-31T14:32:49.713745Z"
    },
    "hidden": true
   },
   "outputs": [],
   "source": [
    "def find_price_pages(banks=banks, search=['preçário', 'pricelist', 'precario']):    \n",
    "    search = [x.lower() for x in search]\n",
    "    for k, v in banks.items():\n",
    "        url = v.get('url')\n",
    "        print(f'parsing url: {url}')\n",
    "        # only look for the pt page\n",
    "        headers = {'Accept-Language': 'pt-PT'}\n",
    "        r = requests.get(url, headers=headers)\n",
    "        soup = BeautifulSoup(r.content, 'html.parser')\n",
    "        if r.status_code == 200:\n",
    "            # going through every link on the page to see if 'precarios' is in the link\n",
    "            for link in soup.find_all('a', href=True):\n",
    "                url_prices = str(link.get('href').lower().strip())\n",
    "                lower = str(link.string).lower().strip()\n",
    "                title = str(link.get('title')).strip().lower()\n",
    "                searchstring = ' '.join([url_prices, lower, title])\n",
    "                if any([x in searchstring for x in search]):\n",
    "                    print(f'found terms of {search} in string {searchstring}')\n",
    "                    # some links in the source code are relative, some are absolute -- using urljoin\n",
    "                    v['pricelist_url'] = urljoin(url,url_prices)\n",
    "                    print(f'added link to banks: {urljoin(url,url_prices)}')\n",
    "        else:\n",
    "            print(f'could not reach page: {url}')\n",
    "    return banks"
   ]
  },
  {
   "cell_type": "code",
   "execution_count": 7,
   "metadata": {
    "ExecuteTime": {
     "end_time": "2021-03-31T14:32:56.538926Z",
     "start_time": "2021-03-31T14:32:49.736677Z"
    },
    "hidden": true,
    "scrolled": true
   },
   "outputs": [
    {
     "name": "stdout",
     "output_type": "stream",
     "text": [
      "parsing url: https://www.abanca.pt\n",
      "found terms of ['preçário', 'pricelist', 'precario'] in string /pt/precario/ preçário none\n",
      "added link to banks: https://www.abanca.pt/pt/precario/\n",
      "parsing url: https://www.bancobic.ao\n",
      "found terms of ['preçário', 'pricelist', 'precario'] in string /inicio/precario preçário none\n",
      "added link to banks: https://www.bancobic.ao/inicio/precario\n",
      "parsing url: https://www.bancoctt.pt\n",
      "found terms of ['preçário', 'pricelist', 'precario'] in string https://www.bancoctt.pt/application/themes/pdfs/precario.pdf?language_id=1555597541833 preçário none\n",
      "added link to banks: https://www.bancoctt.pt/application/themes/pdfs/precario.pdf?language_id=1555597541833\n",
      "parsing url: https://www.bankinter.pt\n",
      "found terms of ['preçário', 'pricelist', 'precario'] in string https://www.bankinter.pt/precario1 none preçário\n",
      "added link to banks: https://www.bankinter.pt/precario1\n",
      "parsing url: https://www.bancobai.ao\n",
      "found terms of ['preçário', 'pricelist', 'precario'] in string /pt/preçário? saiba mais none\n",
      "added link to banks: https://www.bancobai.ao/pt/preçário\n",
      "found terms of ['preçário', 'pricelist', 'precario'] in string /pt/preçário preçário none\n",
      "added link to banks: https://www.bancobai.ao/pt/preçário\n"
     ]
    }
   ],
   "source": [
    "banks = find_price_pages()\n",
    "# ubdates the banks dict with the pricelist urls of the banks"
   ]
  },
  {
   "cell_type": "code",
   "execution_count": 8,
   "metadata": {
    "ExecuteTime": {
     "end_time": "2021-03-31T14:32:56.547592Z",
     "start_time": "2021-03-31T14:32:56.543841Z"
    },
    "hidden": true
   },
   "outputs": [],
   "source": [
    "# banks"
   ]
  },
  {
   "cell_type": "code",
   "execution_count": null,
   "metadata": {
    "hidden": true
   },
   "outputs": [],
   "source": []
  },
  {
   "cell_type": "markdown",
   "metadata": {},
   "source": [
    "## Downloading all pdfs from the source"
   ]
  },
  {
   "cell_type": "markdown",
   "metadata": {},
   "source": [
    "To download all PDFs we need to find their urls on the prices page on the websites"
   ]
  },
  {
   "cell_type": "code",
   "execution_count": 9,
   "metadata": {
    "ExecuteTime": {
     "end_time": "2021-03-31T14:32:56.584298Z",
     "start_time": "2021-03-31T14:32:56.552107Z"
    }
   },
   "outputs": [],
   "source": [
    "## todo: checkout PDF miner\n",
    "\n",
    "def get_pdf_urls(banks=banks):\n",
    "    for val in banks.values():\n",
    "        url = val.get('pricelist_url')\n",
    "        val['pdfs'] = list()\n",
    "        # some banks direclty link to a pdf address\n",
    "        if '.pdf' in url:\n",
    "            print(f'url is already pdf for: {url}')\n",
    "            val['pdfs'].append(f'{url}')\n",
    "        # for other landing pages look for every pdf on page\n",
    "        else:\n",
    "            r = requests.get(url)\n",
    "#             print(type(val['pdfs']))\n",
    "            if r.status_code == 200:\n",
    "                soup = BeautifulSoup(r.content, 'html.parser')\n",
    "                print(f'looking for pdfs in: {url}')\n",
    "                for link in soup.find_all('a', href=True):\n",
    "                    if '.pdf' in link.get('href'):\n",
    "                        # some pdf links are absolute links\n",
    "                        ## tru out r.url\n",
    "                        pdf = urljoin(val.get('url'),link.get('href'))\n",
    "                        print(f'found and added pdf: {pdf}')\n",
    "                        val['pdfs'].append(f'{pdf}')\n",
    "            else:\n",
    "                print(f'could not execute parsing for: {url}')\n",
    "    return banks"
   ]
  },
  {
   "cell_type": "code",
   "execution_count": 10,
   "metadata": {
    "ExecuteTime": {
     "end_time": "2021-03-31T14:33:00.264233Z",
     "start_time": "2021-03-31T14:32:56.590609Z"
    }
   },
   "outputs": [
    {
     "name": "stdout",
     "output_type": "stream",
     "text": [
      "looking for pdfs in: https://www.abanca.pt/pt/precario/\n",
      "found and added pdf: https://www.abanca.pt/files/documents/precario-folheto-comissoes-823a7663.pdf\n",
      "found and added pdf: https://www.abanca.pt/files/documents/folheto-taxa-juro-precario-23836e90.pdf\n",
      "found and added pdf: https://www.abanca.pt/files/documents/precariodevaloresmobiliarios-23c714a2.pdf\n",
      "found and added pdf: https://www.abanca.pt/files/documents/glossario-6479e89f.pdf\n",
      "found and added pdf: https://www.abanca.pt/files/docs/leaflet-your-rights-payments-eu.pdf\n",
      "looking for pdfs in: https://www.bancobic.ao/inicio/precario\n",
      "found and added pdf: https://www.bancobic.ao/dotAsset/0f07d8a4-4ec3-4111-a453-c4ee14d5c66c.pdf\n",
      "found and added pdf: https://www.bancobic.ao/dotAsset/7e1e6dd2-9d56-43ef-b398-ac3bac3cc70e.pdf\n",
      "url is already pdf for: https://www.bancoctt.pt/application/themes/pdfs/precario.pdf?language_id=1555597541833\n",
      "looking for pdfs in: https://www.bankinter.pt/precario1\n",
      "found and added pdf: https://www.bankinter.pt/documents/20182/115991/Pre%C3%A7%C3%A1rio+Completo+TFSI++20210401.pdf/c489f0cd-3831-4441-812e-f351741d2b22\n",
      "found and added pdf: https://banco.bankinter.pt/particulares/pdfs/precario/folha_rosto.pdf\n",
      "found and added pdf: https://banco.bankinter.pt/particulares/pdfs/precario/informacao_geral.pdf\n",
      "found and added pdf: https://banco.bankinter.pt/particulares/pdfs/precario/informacao_complementar.pdf\n",
      "found and added pdf: https://banco.bankinter.pt/particulares/pdfs/precario/p_fcd_contas_deposito.pdf\n",
      "found and added pdf: https://banco.bankinter.pt/particulares/pdfs/precario/p_fcd_operacoes_credito.pdf\n",
      "found and added pdf: https://banco.bankinter.pt/particulares/pdfs/precario/p_fcd_cartoes_credito_debito.pdf\n",
      "found and added pdf: https://banco.bankinter.pt/particulares/pdfs/precario/p_fcd_cheques.pdf\n",
      "found and added pdf: https://banco.bankinter.pt/particulares/pdfs/precario/p_fcd_transferencias.pdf\n",
      "found and added pdf: https://banco.bankinter.pt/particulares/pdfs/precario/p_fcd_cobrancas.pdf\n",
      "found and added pdf: https://banco.bankinter.pt/particulares/pdfs/precario/p_fcd_prestacao_servicos.pdf\n",
      "found and added pdf: https://banco.bankinter.pt/particulares/pdfs/precario/o_fcd_contas_deposito.pdf\n",
      "found and added pdf: https://banco.bankinter.pt/particulares/pdfs/precario/o_fcd_operacoes_credito.pdf\n",
      "found and added pdf: https://banco.bankinter.pt/particulares/pdfs/precario/o_fcd_cartoes_credito_debito.pdf\n",
      "found and added pdf: https://banco.bankinter.pt/particulares/pdfs/precario/o_fcd_cheques.pdf\n",
      "found and added pdf: https://banco.bankinter.pt/particulares/pdfs/precario/o_fcd_transferencias.pdf\n",
      "found and added pdf: https://banco.bankinter.pt/particulares/pdfs/precario/o_fcd_cobrancas.pdf\n",
      "found and added pdf: https://banco.bankinter.pt/particulares/pdfs/precario/o_fcd_prestacao_servicos.pdf\n",
      "found and added pdf: https://banco.bankinter.pt/particulares/pdfs/precario/o_fcd_operacoes_estrangeiro.pdf\n",
      "found and added pdf: https://banco.bankinter.pt/particulares/pdfs/precario/p_ftj_contas_deposito.pdf\n",
      "found and added pdf: https://banco.bankinter.pt/particulares/pdfs/precario/p_ftj_operacoes_credito.pdf\n",
      "found and added pdf: https://banco.bankinter.pt/particulares/pdfs/precario/o_ftj_contas_deposito.pdf\n",
      "found and added pdf: https://banco.bankinter.pt/particulares/pdfs/precario/o_ftj_operacoes_credito.pdf\n",
      "found and added pdf: https://banco.bankinter.pt/particulares/pdfs/precario/ptfs_a.pdf\n",
      "found and added pdf: https://banco.bankinter.pt/particulares/pdfs/precario/ptfs_b.pdf\n",
      "found and added pdf: https://banco.bankinter.pt/particulares/pdfs/precario/ptfs_c.pdf\n",
      "found and added pdf: https://banco.bankinter.pt/particulares/pdfs/precario/ptfs_d.pdf\n",
      "looking for pdfs in: https://www.bancobai.ao/pt/preçário\n",
      "found and added pdf: https://www.bancobai.ao/media/2988/bai_pre_clientes-particulares_31-03-2021.pdf\n",
      "found and added pdf: https://www.bancobai.ao/media/2989/bai_pre_outros-clientes_31-03-2021.pdf\n",
      "found and added pdf: https://www.bancobai.ao/media/2823/bai_resumo-das-alteracoes-do-precario-bna-8-02-2021-cleaned.pdf\n",
      "found and added pdf: https://www.bancobai.ao/media/2278/termos-e-condições.pdf\n"
     ]
    }
   ],
   "source": [
    "banks = get_pdf_urls()\n",
    "# adds all pdf urls to the banks dict"
   ]
  },
  {
   "cell_type": "code",
   "execution_count": 11,
   "metadata": {
    "ExecuteTime": {
     "end_time": "2021-03-31T14:33:00.271482Z",
     "start_time": "2021-03-31T14:33:00.267783Z"
    }
   },
   "outputs": [],
   "source": [
    "# banks"
   ]
  },
  {
   "cell_type": "markdown",
   "metadata": {},
   "source": [
    "Now we can download all the pdfs, merge them and save them in one file. Later they will be handed over to the scraping script. If you run this scrpit, make sure, you have a ```raw_data``` folder in the package."
   ]
  },
  {
   "cell_type": "code",
   "execution_count": 12,
   "metadata": {
    "ExecuteTime": {
     "end_time": "2021-03-31T14:33:00.291393Z",
     "start_time": "2021-03-31T14:33:00.275611Z"
    }
   },
   "outputs": [],
   "source": [
    "def download_pdfs(banks=banks, secret = \"VjUW4BzH80tbCdiHNqYNd6b4oM0\", api = \"926341118319727\", cloud_name = \"do59ghg7e\"):\n",
    "    for key, val in banks.items():\n",
    "            print(f'handling pdfs from {key}')\n",
    "            pdfs = val.get('pdfs')\n",
    "            len_pdfs = len(pdfs)\n",
    "            merger = PdfFileMerger()\n",
    "            for pdf in pdfs:\n",
    "                print(f'looking for: {pdf}')\n",
    "                # some files are not available => throws a 404\n",
    "                try:\n",
    "                    remoteFile = urlopen(Request(pdf)).read()\n",
    "                except:\n",
    "                    break\n",
    "                # storing pdf in virtual memory as an object\n",
    "                memoryFile = BytesIO(remoteFile)\n",
    "                pdfFile = PdfFileReader(memoryFile)\n",
    "\n",
    "                # checking for encryption\n",
    "                if pdfFile.isEncrypted:\n",
    "                    try:\n",
    "                        pdfFile = pdfFile.decrypt('')\n",
    "                        print(f'{pdf} - File Decrypted (with PyPDF2)')\n",
    "                        merger.append(pdfFile)\n",
    "                        print(f'appended file to merger with decrypt: {pdf}') \n",
    "    #                 except:\n",
    "    #                     command = (\"cp \"+ pdf +\n",
    "    #                         \" temp.pdf; qpdf --password='' --decrypt temp.pdf \" + pdf\n",
    "    #                         + \"; rm temp.pdf\")\n",
    "    #                     os.system(command)\n",
    "    #                     print(f'{pdf} - File Decrypted (with qpdf)')\n",
    "    #                     merger.append(memoryFile)\n",
    "    #                     print(f'appended file to merger with qpdf decrypt: {pdf}')\n",
    "\n",
    "                    except:\n",
    "                        print(f'file is encrypted: {pdf}')\n",
    "\n",
    "            # saving file on cloudinary\n",
    "            filename = f'{key}_all_prices.pdf'\n",
    "            cloudinary.uploader.upload(merger.write(filename), \n",
    "              use_filename = 1, \n",
    "              unique_filename = 0, \n",
    "              folder = \"bday\", \n",
    "              public_id = \"kalkutta_jo\", \n",
    "              api_key = api,\n",
    "              api_secret = secret,\n",
    "              cloud_name = cloud_name)\n",
    "            \n",
    "#             filename = f'{key}_all_prices.pdf'\n",
    "#             merger.write(filename)\n",
    "            print(f'saved merged file to: couldinary')\n",
    "    \n",
    "            # adding address to banks\n",
    "            val['cloud_pdf'] = 'lalala'"
   ]
  },
  {
   "cell_type": "code",
   "execution_count": 13,
   "metadata": {
    "ExecuteTime": {
     "end_time": "2021-03-31T14:33:04.410004Z",
     "start_time": "2021-03-31T14:33:00.297050Z"
    }
   },
   "outputs": [
    {
     "name": "stdout",
     "output_type": "stream",
     "text": [
      "handling pdfs from abanca\n",
      "looking for: https://www.abanca.pt/files/documents/precario-folheto-comissoes-823a7663.pdf\n",
      "file is encrypted: https://www.abanca.pt/files/documents/precario-folheto-comissoes-823a7663.pdf\n",
      "looking for: https://www.abanca.pt/files/documents/folheto-taxa-juro-precario-23836e90.pdf\n",
      "file is encrypted: https://www.abanca.pt/files/documents/folheto-taxa-juro-precario-23836e90.pdf\n",
      "looking for: https://www.abanca.pt/files/documents/precariodevaloresmobiliarios-23c714a2.pdf\n",
      "looking for: https://www.abanca.pt/files/documents/glossario-6479e89f.pdf\n"
     ]
    },
    {
     "ename": "Error",
     "evalue": "Missing required parameter - file",
     "output_type": "error",
     "traceback": [
      "\u001b[0;31m---------------------------------------------------------------------------\u001b[0m",
      "\u001b[0;31mError\u001b[0m                                     Traceback (most recent call last)",
      "\u001b[0;32m<ipython-input-13-d333318dcab1>\u001b[0m in \u001b[0;36m<module>\u001b[0;34m\u001b[0m\n\u001b[0;32m----> 1\u001b[0;31m \u001b[0mdownload_pdfs\u001b[0m\u001b[0;34m(\u001b[0m\u001b[0;34m)\u001b[0m\u001b[0;34m\u001b[0m\u001b[0;34m\u001b[0m\u001b[0m\n\u001b[0m",
      "\u001b[0;32m<ipython-input-12-3efb22b63771>\u001b[0m in \u001b[0;36mdownload_pdfs\u001b[0;34m(banks, secret, api, cloud_name)\u001b[0m\n\u001b[1;32m     37\u001b[0m             \u001b[0;31m# saving file on cloudinary\u001b[0m\u001b[0;34m\u001b[0m\u001b[0;34m\u001b[0m\u001b[0;34m\u001b[0m\u001b[0m\n\u001b[1;32m     38\u001b[0m             \u001b[0mfilename\u001b[0m \u001b[0;34m=\u001b[0m \u001b[0;34mf'{key}_all_prices.pdf'\u001b[0m\u001b[0;34m\u001b[0m\u001b[0;34m\u001b[0m\u001b[0m\n\u001b[0;32m---> 39\u001b[0;31m             cloudinary.uploader.upload(merger.write(filename), \n\u001b[0m\u001b[1;32m     40\u001b[0m               \u001b[0muse_filename\u001b[0m \u001b[0;34m=\u001b[0m \u001b[0;36m1\u001b[0m\u001b[0;34m,\u001b[0m\u001b[0;34m\u001b[0m\u001b[0;34m\u001b[0m\u001b[0m\n\u001b[1;32m     41\u001b[0m               \u001b[0munique_filename\u001b[0m \u001b[0;34m=\u001b[0m \u001b[0;36m0\u001b[0m\u001b[0;34m,\u001b[0m\u001b[0;34m\u001b[0m\u001b[0;34m\u001b[0m\u001b[0m\n",
      "\u001b[0;32m~/.pyenv/versions/3.8.6/envs/lewagon/lib/python3.8/site-packages/cloudinary/uploader.py\u001b[0m in \u001b[0;36mupload\u001b[0;34m(file, **options)\u001b[0m\n\u001b[1;32m     44\u001b[0m \u001b[0;32mdef\u001b[0m \u001b[0mupload\u001b[0m\u001b[0;34m(\u001b[0m\u001b[0mfile\u001b[0m\u001b[0;34m,\u001b[0m \u001b[0;34m**\u001b[0m\u001b[0moptions\u001b[0m\u001b[0;34m)\u001b[0m\u001b[0;34m:\u001b[0m\u001b[0;34m\u001b[0m\u001b[0;34m\u001b[0m\u001b[0m\n\u001b[1;32m     45\u001b[0m     \u001b[0mparams\u001b[0m \u001b[0;34m=\u001b[0m \u001b[0mutils\u001b[0m\u001b[0;34m.\u001b[0m\u001b[0mbuild_upload_params\u001b[0m\u001b[0;34m(\u001b[0m\u001b[0;34m**\u001b[0m\u001b[0moptions\u001b[0m\u001b[0;34m)\u001b[0m\u001b[0;34m\u001b[0m\u001b[0;34m\u001b[0m\u001b[0m\n\u001b[0;32m---> 46\u001b[0;31m     \u001b[0;32mreturn\u001b[0m \u001b[0mcall_cacheable_api\u001b[0m\u001b[0;34m(\u001b[0m\u001b[0;34m\"upload\"\u001b[0m\u001b[0;34m,\u001b[0m \u001b[0mparams\u001b[0m\u001b[0;34m,\u001b[0m \u001b[0mfile\u001b[0m\u001b[0;34m=\u001b[0m\u001b[0mfile\u001b[0m\u001b[0;34m,\u001b[0m \u001b[0;34m**\u001b[0m\u001b[0moptions\u001b[0m\u001b[0;34m)\u001b[0m\u001b[0;34m\u001b[0m\u001b[0;34m\u001b[0m\u001b[0m\n\u001b[0m\u001b[1;32m     47\u001b[0m \u001b[0;34m\u001b[0m\u001b[0m\n\u001b[1;32m     48\u001b[0m \u001b[0;34m\u001b[0m\u001b[0m\n",
      "\u001b[0;32m~/.pyenv/versions/3.8.6/envs/lewagon/lib/python3.8/site-packages/cloudinary/uploader.py\u001b[0m in \u001b[0;36mcall_cacheable_api\u001b[0;34m(action, params, http_headers, return_error, unsigned, file, timeout, **options)\u001b[0m\n\u001b[1;32m    339\u001b[0m     \"\"\"\n\u001b[1;32m    340\u001b[0m \u001b[0;34m\u001b[0m\u001b[0m\n\u001b[0;32m--> 341\u001b[0;31m     \u001b[0mresult\u001b[0m \u001b[0;34m=\u001b[0m \u001b[0mcall_api\u001b[0m\u001b[0;34m(\u001b[0m\u001b[0maction\u001b[0m\u001b[0;34m,\u001b[0m \u001b[0mparams\u001b[0m\u001b[0;34m,\u001b[0m \u001b[0mhttp_headers\u001b[0m\u001b[0;34m,\u001b[0m \u001b[0mreturn_error\u001b[0m\u001b[0;34m,\u001b[0m \u001b[0munsigned\u001b[0m\u001b[0;34m,\u001b[0m \u001b[0mfile\u001b[0m\u001b[0;34m,\u001b[0m \u001b[0mtimeout\u001b[0m\u001b[0;34m,\u001b[0m \u001b[0;34m**\u001b[0m\u001b[0moptions\u001b[0m\u001b[0;34m)\u001b[0m\u001b[0;34m\u001b[0m\u001b[0;34m\u001b[0m\u001b[0m\n\u001b[0m\u001b[1;32m    342\u001b[0m \u001b[0;34m\u001b[0m\u001b[0m\n\u001b[1;32m    343\u001b[0m     \u001b[0;32mif\u001b[0m \u001b[0;34m\"use_cache\"\u001b[0m \u001b[0;32min\u001b[0m \u001b[0moptions\u001b[0m \u001b[0;32mor\u001b[0m \u001b[0mcloudinary\u001b[0m\u001b[0;34m.\u001b[0m\u001b[0mconfig\u001b[0m\u001b[0;34m(\u001b[0m\u001b[0;34m)\u001b[0m\u001b[0;34m.\u001b[0m\u001b[0muse_cache\u001b[0m\u001b[0;34m:\u001b[0m\u001b[0;34m\u001b[0m\u001b[0;34m\u001b[0m\u001b[0m\n",
      "\u001b[0;32m~/.pyenv/versions/3.8.6/envs/lewagon/lib/python3.8/site-packages/cloudinary/uploader.py\u001b[0m in \u001b[0;36mcall_api\u001b[0;34m(action, params, http_headers, return_error, unsigned, file, timeout, **options)\u001b[0m\n\u001b[1;32m    419\u001b[0m                 \u001b[0mresult\u001b[0m\u001b[0;34m[\u001b[0m\u001b[0;34m\"error\"\u001b[0m\u001b[0;34m]\u001b[0m\u001b[0;34m[\u001b[0m\u001b[0;34m\"http_code\"\u001b[0m\u001b[0;34m]\u001b[0m \u001b[0;34m=\u001b[0m \u001b[0mcode\u001b[0m\u001b[0;34m\u001b[0m\u001b[0;34m\u001b[0m\u001b[0m\n\u001b[1;32m    420\u001b[0m             \u001b[0;32melse\u001b[0m\u001b[0;34m:\u001b[0m\u001b[0;34m\u001b[0m\u001b[0;34m\u001b[0m\u001b[0m\n\u001b[0;32m--> 421\u001b[0;31m                 \u001b[0;32mraise\u001b[0m \u001b[0mError\u001b[0m\u001b[0;34m(\u001b[0m\u001b[0mresult\u001b[0m\u001b[0;34m[\u001b[0m\u001b[0;34m\"error\"\u001b[0m\u001b[0;34m]\u001b[0m\u001b[0;34m[\u001b[0m\u001b[0;34m\"message\"\u001b[0m\u001b[0;34m]\u001b[0m\u001b[0;34m)\u001b[0m\u001b[0;34m\u001b[0m\u001b[0;34m\u001b[0m\u001b[0m\n\u001b[0m\u001b[1;32m    422\u001b[0m \u001b[0;34m\u001b[0m\u001b[0m\n\u001b[1;32m    423\u001b[0m         \u001b[0;32mreturn\u001b[0m \u001b[0mresult\u001b[0m\u001b[0;34m\u001b[0m\u001b[0;34m\u001b[0m\u001b[0m\n",
      "\u001b[0;31mError\u001b[0m: Missing required parameter - file"
     ]
    }
   ],
   "source": [
    "download_pdfs()"
   ]
  },
  {
   "cell_type": "markdown",
   "metadata": {},
   "source": [
    "***The following part is not needed at the moment***"
   ]
  },
  {
   "cell_type": "markdown",
   "metadata": {
    "heading_collapsed": true
   },
   "source": [
    "# Downloading Files manually"
   ]
  },
  {
   "cell_type": "code",
   "execution_count": null,
   "metadata": {
    "ExecuteTime": {
     "end_time": "2021-03-31T14:33:04.413071Z",
     "start_time": "2021-03-31T14:32:48.866Z"
    },
    "hidden": true
   },
   "outputs": [],
   "source": [
    "bank_pdfs = {'BAI':{'id_pb':'0008',\n",
    "                'url':'https://www.bancobaieuropa.pt/',\n",
    "                'prices':['https://www.bancobai.ao/media/2870/precario_clientes-particulares_08_02_2021.pdf',\n",
    "                         'https://www.bancobai.ao/media/2871/precario_outros-clientes_08_02_2021.pdf']\n",
    "               },\n",
    "       'ABANCA':{'id_pb':'0170',\n",
    "                'url':'https://www.abanca.pt',\n",
    "                'prices':['https://www.abanca.pt/files/documents/precario-folheto-comissoes-a6b9545f.pdf',\n",
    "                         'https://www.abanca.pt/files/documents/folheto-taxa-juro-precario-23836e90.pdf'\n",
    "                         ]\n",
    "                },\n",
    "       'BIC':{'id_pb':'0079',\n",
    "                'url':'https://www.bancobic.ao',\n",
    "                'prices':['https://www.bancobic.ao/dotAsset/0f07d8a4-4ec3-4111-a453-c4ee14d5c66c.pdf',\n",
    "                         'https://www.bancobic.ao/dotAsset/7e1e6dd2-9d56-43ef-b398-ac3bac3cc70e.pdf'\n",
    "                         ]\n",
    "             },\n",
    "       'CTT':{'id_pb':'0193',\n",
    "                'url':'https://www.bancoctt.pt',\n",
    "                'prices':['https://www.bancoctt.pt/application/themes/pdfs/precario.pdf'\n",
    "                         ]\n",
    "             },\n",
    "       'BANKINTER':{'id_pb':'0269',\n",
    "                'url':'https://www.bankinter.pt',\n",
    "                'prices':[# Parte I\n",
    "                         'https://banco.bankinter.pt/particulares/pdfs/precario/p_fcd_contas_deposito.pdf',\n",
    "                         'https://banco.bankinter.pt/particulares/pdfs/precario/p_fcd_operacoes_credito.pdf',\n",
    "                         'https://banco.bankinter.pt/particulares/pdfs/precario/p_fcd_cartoes_credito_debito.pdf',\n",
    "                         'https://banco.bankinter.pt/particulares/pdfs/precario/p_fcd_cheques.pdf',\n",
    "                         'https://banco.bankinter.pt/particulares/pdfs/precario/p_fcd_transferencias.pdf',\n",
    "                         'https://banco.bankinter.pt/particulares/pdfs/precario/p_fcd_cobrancas.pdf',\n",
    "                         'https://banco.bankinter.pt/particulares/pdfs/precario/p_fcd_prestacao_servicos.pdf',\n",
    "                         ## Parte II\n",
    "                         'https://banco.bankinter.pt/particulares/pdfs/precario/o_fcd_contas_deposito.pdf',\n",
    "                         'https://banco.bankinter.pt/particulares/pdfs/precario/o_fcd_operacoes_credito.pdf',\n",
    "                         'https://banco.bankinter.pt/particulares/pdfs/precario/o_fcd_cartoes_credito_debito.pdf',\n",
    "                         'https://banco.bankinter.pt/particulares/pdfs/precario/o_fcd_cheques.pdf',\n",
    "                         'https://banco.bankinter.pt/particulares/pdfs/precario/o_fcd_transferencias.pdf',\n",
    "                         'https://banco.bankinter.pt/particulares/pdfs/precario/o_fcd_cobrancas.pdf',\n",
    "                         'https://banco.bankinter.pt/particulares/pdfs/precario/o_fcd_prestacao_servicos.pdf',\n",
    "                         'https://banco.bankinter.pt/particulares/pdfs/precario/o_fcd_operacoes_estrangeiro.pdf',\n",
    "                         'https://banco.bankinter.pt/particulares/pdfs/precario/o_ftj_contas_deposito.pdf',\n",
    "                         'https://banco.bankinter.pt/particulares/pdfs/precario/o_ftj_operacoes_credito.pdf',\n",
    "                        ]\n",
    "                   }\n",
    "        }"
   ]
  },
  {
   "cell_type": "code",
   "execution_count": null,
   "metadata": {
    "ExecuteTime": {
     "end_time": "2021-03-31T14:33:04.414625Z",
     "start_time": "2021-03-31T14:32:48.869Z"
    },
    "hidden": true
   },
   "outputs": [],
   "source": [
    "## not further investigated"
   ]
  },
  {
   "cell_type": "code",
   "execution_count": null,
   "metadata": {
    "hidden": true
   },
   "outputs": [],
   "source": []
  },
  {
   "cell_type": "markdown",
   "metadata": {},
   "source": [
    "# old scraping form banco de portugal"
   ]
  },
  {
   "cell_type": "markdown",
   "metadata": {},
   "source": [
    "Every PDF file has the same name structure ```'https://clientebancario.bportugal.pt/sites/default/files/precario/[BANK_ID]_/[BANK_ID]_PRE.pdf'```\n",
    "We can use requests to load and save the pdf files locally.\n",
    "Banks have a unique ID which are stored in the ```banks``` dictionary."
   ]
  },
  {
   "cell_type": "code",
   "execution_count": null,
   "metadata": {
    "ExecuteTime": {
     "end_time": "2021-03-31T14:33:04.416162Z",
     "start_time": "2021-03-31T14:32:48.874Z"
    }
   },
   "outputs": [],
   "source": [
    "## Defining url prefix and suffix\n",
    "url_pre = 'https://clientebancario.bportugal.pt/sites/default/files/precario/'\n",
    "url_suff = '_PRE.pdf'"
   ]
  },
  {
   "cell_type": "code",
   "execution_count": null,
   "metadata": {
    "ExecuteTime": {
     "end_time": "2021-03-31T14:33:04.418246Z",
     "start_time": "2021-03-31T14:32:48.877Z"
    }
   },
   "outputs": [],
   "source": [
    "# scraping the latest files from the bankpage and saving it to ```raw_data```\n",
    "for k, v in banks.items():\n",
    "    r = requests.get(f'{url_pre}{v}_/{v}{url_suff}')\n",
    "    with open(f'../raw_data/{k}.pdf', 'wb') as f:\n",
    "        f.write(response.content)\n",
    "    "
   ]
  },
  {
   "cell_type": "markdown",
   "metadata": {},
   "source": [
    "The files can be inspected by the PyPDF2 library."
   ]
  },
  {
   "cell_type": "code",
   "execution_count": null,
   "metadata": {
    "ExecuteTime": {
     "end_time": "2021-03-31T14:33:04.420011Z",
     "start_time": "2021-03-31T14:32:48.880Z"
    }
   },
   "outputs": [],
   "source": [
    "# example path\n",
    "path = '../raw_data/CTT.pdf'"
   ]
  },
  {
   "cell_type": "code",
   "execution_count": null,
   "metadata": {
    "ExecuteTime": {
     "end_time": "2021-03-31T14:33:04.421498Z",
     "start_time": "2021-03-31T14:32:48.883Z"
    }
   },
   "outputs": [],
   "source": [
    "def text_extractor(path):\n",
    "    fp = open(path, 'rb')\n",
    "    pdfFile = PdfFileReader(fp)\n",
    "    if pdfFile.isEncrypted:\n",
    "        try:\n",
    "            pdfFile = pdfFile.decrypt('')\n",
    "            print('File Decrypted (PyPDF2)')\n",
    "        except:\n",
    "            command = (\"cp \"+ path +\n",
    "                \" temp.pdf; qpdf --password='' --decrypt temp.pdf \" + path\n",
    "                + \"; rm temp.pdf\")\n",
    "            os.system(command)\n",
    "            print('File Decrypted (qpdf)')\n",
    "            fp = open(path)\n",
    "            print(fp)\n",
    "            pdfFile = PdfFileReader(fp)\n",
    "    else:\n",
    "        print('File Not Encrypted')\n",
    "    \n",
    "    pdfFile = PdfFileReader(fp)\n",
    "#     meta = pdfFile.getXmpMetadata()\n",
    "#     print(meta)\n",
    "#     mode = pdfFile.getFields()\n",
    "#     print(mode)\n",
    "    page = pdfFile.getPage(4)\n",
    "    text = page.extractText()\n",
    "    return text.split(\"\\n\")\n"
   ]
  },
  {
   "cell_type": "code",
   "execution_count": null,
   "metadata": {
    "ExecuteTime": {
     "end_time": "2021-03-31T14:33:04.423335Z",
     "start_time": "2021-03-31T14:32:48.887Z"
    }
   },
   "outputs": [],
   "source": [
    "df = pd.read_html('https://en.wikipedia.org/wiki/Minnesota')"
   ]
  },
  {
   "cell_type": "code",
   "execution_count": null,
   "metadata": {
    "ExecuteTime": {
     "end_time": "2021-03-31T14:33:04.426104Z",
     "start_time": "2021-03-31T14:32:48.891Z"
    }
   },
   "outputs": [],
   "source": [
    "PDFFile = open(path,'rb')\n",
    "\n",
    "PDF = PyPDF2.PdfFileReader(PDFFile)\n",
    "pages = PDF.getNumPages()\n",
    "key = '/Annots'\n",
    "uri = '/URI'\n",
    "ank = '/A'\n",
    "\n",
    "for page in range(pages):\n",
    "    pageSliced = PDF.getPage(page)\n",
    "    pageObject = pageSliced.getObject()\n",
    "\n",
    "    if pageObject.has_key(key):\n",
    "        ann = pageObject[key]\n",
    "        for a in ann:\n",
    "            u = a.getObject()\n",
    "            if u[ank].has_key(uri):\n",
    "                print(u[ank][uri])"
   ]
  },
  {
   "cell_type": "code",
   "execution_count": null,
   "metadata": {},
   "outputs": [],
   "source": []
  },
  {
   "cell_type": "code",
   "execution_count": null,
   "metadata": {},
   "outputs": [],
   "source": []
  },
  {
   "cell_type": "code",
   "execution_count": null,
   "metadata": {},
   "outputs": [],
   "source": []
  },
  {
   "cell_type": "code",
   "execution_count": null,
   "metadata": {},
   "outputs": [],
   "source": []
  }
 ],
 "metadata": {
  "kernelspec": {
   "display_name": "Python 3",
   "language": "python",
   "name": "python3"
  },
  "language_info": {
   "codemirror_mode": {
    "name": "ipython",
    "version": 3
   },
   "file_extension": ".py",
   "mimetype": "text/x-python",
   "name": "python",
   "nbconvert_exporter": "python",
   "pygments_lexer": "ipython3",
   "version": "3.8.6"
  },
  "toc": {
   "base_numbering": 1,
   "nav_menu": {},
   "number_sections": true,
   "sideBar": true,
   "skip_h1_title": false,
   "title_cell": "Table of Contents",
   "title_sidebar": "Contents",
   "toc_cell": false,
   "toc_position": {},
   "toc_section_display": true,
   "toc_window_display": false
  }
 },
 "nbformat": 4,
 "nbformat_minor": 4
}
