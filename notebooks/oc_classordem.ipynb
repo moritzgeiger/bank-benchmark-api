{
 "cells": [
  {
   "cell_type": "code",
   "execution_count": 1,
   "metadata": {},
   "outputs": [
    {
     "name": "stderr",
     "output_type": "stream",
     "text": [
      "/Users/olgacravesana/.pyenv/versions/3.8.6/envs/lewagon/lib/python3.8/site-packages/pandas/compat/__init__.py:97: UserWarning: Could not import the lzma module. Your installed Python is incomplete. Attempting to use lzma compression will result in a RuntimeError.\n",
      "  warnings.warn(msg)\n"
     ]
    }
   ],
   "source": [
    "import pandas as pd\n",
    "import numpy as np\n",
    "import pdfplumber\n",
    "import re\n",
    "import nltk"
   ]
  },
  {
   "cell_type": "markdown",
   "metadata": {},
   "source": [
    "- how the sub-products are positioneted in the pdf for each products\n",
    "- creating class for each of the main product\n",
    "- doing same operation for each of the page talking about the same product\n",
    "- creating function with 1st params(how they divide pdf in the first way) 2nd, 3rd ecc"
   ]
  },
  {
   "cell_type": "markdown",
   "metadata": {},
   "source": [
    "**REMEMBER : some bank can have deposito a ordem in more than one page**"
   ]
  },
  {
   "cell_type": "markdown",
   "metadata": {},
   "source": [
    "#### extract text (def from before)"
   ]
  },
  {
   "cell_type": "code",
   "execution_count": 24,
   "metadata": {},
   "outputs": [],
   "source": [
    "def extract_clean(pdf,n_page):\n",
    "    file = pdfplumber.open(pdf)\n",
    "    page = file.pages[n_page]\n",
    "    text = page.extract_text().lower()\n",
    "    text = re.sub('isento', '0,00', text)\n",
    "    text = re.sub('n/a', str(np.nan), text)\n",
    "    text=text.replace('\\n','. ')\n",
    "    return text  "
   ]
  },
  {
   "cell_type": "code",
   "execution_count": 25,
   "metadata": {},
   "outputs": [],
   "source": [
    "# bankinter = extract_clean('bankinter_pricelists.pdf', 8)\n",
    "ctt = extract_clean('data/BancoCTT2021.pdf',4)\n",
    "# abanca = extract_clean('abanca1.pdf', 4)\n",
    "# bic = extract_clean('bic.pdf',5 )\n"
   ]
  },
  {
   "cell_type": "code",
   "execution_count": 26,
   "metadata": {},
   "outputs": [],
   "source": [
    "#params 1 --> define start of table\n",
    "# table_bankinter = re.split('1.1\\D',bankinter)[1]\n",
    "# table_ctt = re.split('1.1\\D',ctt)[1]\n",
    "# table_abanca = re.split('1.1',abanca)[1:]\n",
    "# table_bic = re.split('1.1', bic)[1]\n",
    "# table_abanca = ''.join(table_abanca)"
   ]
  },
  {
   "cell_type": "markdown",
   "metadata": {},
   "source": [
    "- bankinter 1st params == 1.1\n",
    "- ctt 1st params == 1.1\n",
    "- abanca 1st parmans == 1.1 --> len of 4, just take the first one as separatore (then join the other)\n",
    "- bic 1st params == 1.1 \n",
    "\n",
    "**in the function you have to calculate the len and if there is one more then join the rest in a list**"
   ]
  },
  {
   "cell_type": "code",
   "execution_count": 27,
   "metadata": {},
   "outputs": [
    {
     "data": {
      "text/plain": [
       "['entrada em vigor: 01-jan-2021.',\n",
       " '1. contas de depósito (particulares) (índice).',\n",
       " '1.1. depósitos à ordem.',\n",
       " 'comissões.',\n",
       " 'acresce .',\n",
       " 'euros  outras condições.',\n",
       " 'valor anual imposto.',\n",
       " '(mín/máx).',\n",
       " 'contas de depósito à ordem (comissões aplicáveis a todas as contas).',\n",
       " 'comissões durante a vigência do contrato.',\n",
       " '1.extrato integrado mensal 0,00 0,00 -- --.',\n",
       " '2.consulta de saldo de conta do com comprovativo 0,50 -- is - 4% comissão por emissão ao balcão (1).',\n",
       " '3.consulta de movimentos de conta do com.',\n",
       " '2,00 -- is - 4% comissão por emissão ao balcão.',\n",
       " 'comprovativo.',\n",
       " '4.emissão 2ªs vias de avisos e outros documentos 5,00 -- iva - 23% comissão por emissão ao balcão.',\n",
       " '5.emissão 2ª via - extrato integrado 10,00 -- iva - 23% comissão por emissão ao balcão.',\n",
       " 'conta banco ctt .',\n",
       " 'comissões durante a vigência do contrato.',\n",
       " '1.comissões por descoberto bancário vide secção 2.5. descobertos bancários.',\n",
       " '2.levantamento de numerário ao balcão comissão por levantamento ao .',\n",
       " '4,50 -- is - 4%.',\n",
       " 'a partir de 2 levantamentos ao balcão, inclusivé balcão, nota (2).',\n",
       " 'comissão por transação ao depositante, .',\n",
       " '3.depósito em moeda metálica (>= 100 moedas) 5,00 -- is - 4%.',\n",
       " 'nota (3).',\n",
       " '4.comissão de manutenção de conta 0,00 0,00 is - 4%.',\n",
       " '5.alteração de titularidade (titular/ representante) 7,00 -- is - 4% comissão por conta, nota (4).',\n",
       " 'conta júnior (montante mínimo de abertura 25,00€).',\n",
       " 'comissões durante a vigência do contrato.',\n",
       " '1.levantamento de numerário ao balcão 4,50 -- is - 4% comissão por levantamento ao balcão.',\n",
       " 'comissão por transação ao .',\n",
       " '2.depósito em moeda metálica (>= 100 moedas) 5,00 -- is - 4%.',\n",
       " 'depositante, nota (3).',\n",
       " '3.comissão de manutenção de conta 0,00 0,00 --.',\n",
       " '4.alteração de titularidade (titular/ representante) 7,00 -- is - 4% comissão por conta, nota (4).',\n",
       " 'conta base (montante mínimo de abertura 100,00€).',\n",
       " 'comissões durante a vigência do contrato.',\n",
       " '1.levantamento de numerário ao balcão comissão por levantamento ao .',\n",
       " '4,50 -- is - 4%.',\n",
       " 'a partir de 4 levantamentos ao balcão, inclusivé balcão, nota (5).',\n",
       " 'comissão por transação ao .',\n",
       " '2.depósito em moeda metálica (>= 100 moedas) 5,00 -- is - 4%.',\n",
       " 'depositante, nota (3).',\n",
       " '3.comissão de manutenção de conta 4,50 54,00 is - 4% nota (6).',\n",
       " '4.alteração de titularidade (titular/ representante) 7,00 -- is - 4% comissão por conta, nota (4).',\n",
       " 'conta de serviços mínimos bancários .',\n",
       " 'comissões durante a vigência do contrato.',\n",
       " '1.levantamento de numerário ao balcão 0,00 -- -- nota (7).',\n",
       " '2.depósito em moeda metálica (>= 100 moedas) 0,00.',\n",
       " '3.comissão de manutenção de conta 0,00 0,00 -- nota (7).',\n",
       " '4.transferências através de aplicações de pagamento.',\n",
       " '0,00 0,00 -- nota (7).',\n",
       " 'operadas por terceiros.',\n",
       " 'outras despesas associadas.',\n",
       " '--.',\n",
       " 'banco ctt, s.a. contas de depósito-particulares - pág.1/2']"
      ]
     },
     "execution_count": 27,
     "metadata": {},
     "output_type": "execute_result"
    }
   ],
   "source": [
    "# tokens = nltk.word_tokenize(table_bankinter)\n",
    "# table_ctt = ' . '.join(table_ctt.split('\\n'))\n",
    "tagged = nltk.sent_tokenize(ctt)\n",
    "tagged"
   ]
  },
  {
   "cell_type": "code",
   "execution_count": 26,
   "metadata": {},
   "outputs": [
    {
     "data": {
      "text/plain": [
       "['conta d.o.',\n",
       " 'conta ordenado (nota 1 e nota 16)  0,00  nan',\n",
       " 'conta standard (não admite novas contratações)  0,00  nan',\n",
       " 'conta future (nota 3)  0,00  nan',\n",
       " 'conta kids (nota 4)  0,00  nan \\nis – 4%  ',\n",
       " 'conta global (nota 5)  6,53 / 7,23 mensal  85,14',\n",
       " 'conta base (nota 6)  10,00 mensal  120,00 ',\n",
       " 'conta private (nota 7)   8,00 mensal  96,00',\n",
       " 'conta value (nota 8)  5,00 mensal  60,00',\n",
       " 'conta smart (nota 9)  5,00 mensal  60,00',\n",
       " 'conta futuro (nota 10)  0,00  nan',\n",
       " 'conta serviços mínimos bancários (nota 11)  2,00 semestral  4,00',\n",
       " 'conta moeda estrangeira (nota 12)  5,00 mensal  60,00',\n",
       " 'conta abanca internacional (nota 17)  0,00  nan \\n4.   levantamento de numerário        \\n  .',\n",
       " 'conta para clientes dos 18 aos 28 anos.',\n",
       " 'conta para clientes dos 0 aos 17 anos.',\n",
       " 'conta que permite aceder aos seguintes produtos e serviços, mediante o pagamento de \\numa comissão mensal fixa: constituição, manutenção, gestão e titularidade da conta de depósito à ordem; disponibilização de dois cartões de \\ndébito; 3 levantamentos em numerário ao balcão; transferências a crédito intrabancárias nacionais; transferências a crédito sepa+ efetuadas \\npor homebanking e depósitos de moedas metálicas.']"
      ]
     },
     "execution_count": 26,
     "metadata": {},
     "output_type": "execute_result"
    }
   ],
   "source": [
    "table_abanca = re.sub('[0-9]{1}\\.[0-9]{1,2}\\D', ' . ', table_abanca)\n",
    "# tables = []\n",
    "# for table in table_abanca:\n",
    "#     table = re.sub('[0-9]{1}\\.[0-9]{1,2}\\D',' . ', table_abanca)\n",
    "#     tables.append(table)\n",
    "# table_abanca = ' . '.join(tables)\n",
    "\n",
    "tagged = nltk.sent_tokenize(table_abanca)\n",
    "# tagged = re.sub('\\n ','',tagged)\n",
    "# table_abanca\n",
    "lista = []\n",
    "# for each in tagged:\n",
    "#     each = re.sub('\\n', '', table_abanca)\n",
    "#     lista.append([each])\n",
    "# # pd.DataFrame(lista) \n",
    "tagged\n",
    "contas=[]\n",
    "tagged\n",
    "for tag in tagged:\n",
    "    if 'conta' == tag.split()[0]:\n",
    "        tag=tag.replace(' \\n .','')\n",
    "        contas.append(tag)\n",
    "contas\n",
    "# newby = []\n",
    "# for conta in contas:\n",
    "#     conta = conta.replace(',','.')\n",
    "#     conta = conta.replace(' ',',').replace(',,',',')\n",
    "#     conta = conta.split()\n",
    "        \n",
    "#     newby.append(conta)\n",
    "# pd.DataFrame(newby)"
   ]
  },
  {
   "cell_type": "markdown",
   "metadata": {},
   "source": [
    "# back to table, desperation is coming"
   ]
  },
  {
   "cell_type": "code",
   "execution_count": null,
   "metadata": {},
   "outputs": [],
   "source": [
    "pdf = 'ctt.pdf'\n",
    "file = pdfplumber.open(pdf)\n",
    "page = file.pages[4]\n",
    "table = page.extract_table()"
   ]
  },
  {
   "cell_type": "code",
   "execution_count": null,
   "metadata": {},
   "outputs": [],
   "source": [
    "ctt_df = pd.DataFrame(table)"
   ]
  },
  {
   "cell_type": "code",
   "execution_count": null,
   "metadata": {},
   "outputs": [],
   "source": [
    "ctt_df.iloc[5,1]"
   ]
  },
  {
   "cell_type": "code",
   "execution_count": null,
   "metadata": {},
   "outputs": [],
   "source": []
  }
 ],
 "metadata": {
  "kernelspec": {
   "display_name": "Python 3",
   "language": "python",
   "name": "python3"
  },
  "language_info": {
   "codemirror_mode": {
    "name": "ipython",
    "version": 3
   },
   "file_extension": ".py",
   "mimetype": "text/x-python",
   "name": "python",
   "nbconvert_exporter": "python",
   "pygments_lexer": "ipython3",
   "version": "3.8.6"
  },
  "toc": {
   "base_numbering": 1,
   "nav_menu": {},
   "number_sections": true,
   "sideBar": true,
   "skip_h1_title": false,
   "title_cell": "Table of Contents",
   "title_sidebar": "Contents",
   "toc_cell": false,
   "toc_position": {},
   "toc_section_display": true,
   "toc_window_display": false
  }
 },
 "nbformat": 4,
 "nbformat_minor": 4
}
