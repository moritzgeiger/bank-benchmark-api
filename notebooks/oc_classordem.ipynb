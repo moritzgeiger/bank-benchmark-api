{
 "cells": [
  {
   "cell_type": "code",
   "execution_count": 1,
   "metadata": {},
   "outputs": [
    {
     "name": "stderr",
     "output_type": "stream",
     "text": [
      "/Users/olgacravesana/.pyenv/versions/3.8.6/envs/lewagon/lib/python3.8/site-packages/pandas/compat/__init__.py:97: UserWarning: Could not import the lzma module. Your installed Python is incomplete. Attempting to use lzma compression will result in a RuntimeError.\n",
      "  warnings.warn(msg)\n"
     ]
    }
   ],
   "source": [
    "import pandas as pd\n",
    "import numpy as np\n",
    "import pdfplumber\n",
    "import re\n",
    "import nltk"
   ]
  },
  {
   "cell_type": "markdown",
   "metadata": {},
   "source": [
    "- how the sub-products are positioneted in the pdf for each products\n",
    "- creating class for each of the main product\n",
    "- doing same operation for each of the page talking about the same product\n",
    "- creating function with 1st params(how they divide pdf in the first way) 2nd, 3rd ecc"
   ]
  },
  {
   "cell_type": "markdown",
   "metadata": {},
   "source": [
    "**REMEMBER : some bank can have deposito a ordem in more than one page**"
   ]
  },
  {
   "cell_type": "markdown",
   "metadata": {},
   "source": [
    "#### extract text (def from before)"
   ]
  },
  {
   "cell_type": "code",
   "execution_count": 11,
   "metadata": {},
   "outputs": [],
   "source": [
    "def extract_clean(pdf,n_page):\n",
    "    file = pdfplumber.open(pdf)\n",
    "    page = file.pages[n_page]\n",
    "    text = page.extract_text().lower()\n",
    "    text = re.sub('isento', '0,00', text)\n",
    "    text = re.sub('n/a', str(np.nan), text)\n",
    "    text=text.replace('\\n','')\n",
    "    return text  "
   ]
  },
  {
   "cell_type": "code",
   "execution_count": 27,
   "metadata": {},
   "outputs": [
    {
     "data": {
      "text/plain": [
       "'entrada em vigor: 20-nov-2020  1.  contas de depósito (particulares)                                                                                   índice  1.1 depósitos à ordem  comissões  acresce  outras   euros (mín/máx)  valor anual  imposto  condições produtos: fora de comercialização: conta d.o. particulares; conta ordenado; conta standard; conta future; conta kids; conta global em comercialização: conta base; conta private; conta value; conta smart; conta futuro; conta serviços mínimos bancários, conta moeda estrangeira e conta abanca internacional. as comissões abaixo indicadas ocorrem no momento em que se verifica a operação e aplicam-se às contas acima identificadas, salvo nos casos em que expressamente se exclui.  1.  emissão de extrato     1.1  mensal (enviado ao domicílio)  0,00 nan  iva – 23% 1.2  outros, para além do indicado em 1.1  2,00 por extrato 1.3  2ª via      7,50   2.   fotocópias de segundas vias de talões de depósito   5,00 por documento  nan  iva – 23%   3.   manutenção de conta     3.1 conta d.o. particulares (nota 2)     - saldo médio até 1.000€  15,00 trimestral  60,00 - saldo médio entre 1.001€ e 2.500€  10,00 trimestral  40,00 - saldo médio superior a 2.500€  0,00  nan 3.2 conta ordenado (nota 1 e nota 16)  0,00  nan 3.3 conta standard (não admite novas contratações)  0,00  nan 3.4 conta future (nota 3)  0,00  nan 3.5 conta kids (nota 4)  0,00  nan is – 4%   3.6 conta global (nota 5)  6,53 / 7,23 mensal  85,14 3.7 conta base (nota 6)  10,00 mensal  120,00  3.8 conta private (nota 7)   8,00 mensal  96,00 3.9 conta value (nota 8)  5,00 mensal  60,00 3.10 conta smart (nota 9)  5,00 mensal  60,00 3.11 conta futuro (nota 10)  0,00  nan 3.12 conta serviços mínimos bancários (nota 11)  2,00 semestral  4,00 3.13 conta moeda estrangeira (nota 12)  5,00 mensal  60,00 3.14 conta abanca internacional (nota 17)  0,00  nan 4.   levantamento de numerário         4.1 ao balcão, com apresentação de cheque  0,00  nan  is – 4%  nota (13)  4.2 ao balcão, sem apresentação de cheque  3,50  5.   adesão ao serviço de banca à distância  0,00  nan  nan   6.  depósito de moedas metálicas (igual ou superior a 100  notas (13) 3,50  nan  is – 4% moedas por dia e por conta)  (14) notas (13) 7.  alteração de titulares  5,00  nan  is – 4% (15) 8.  comissão por descoberto bancário  vide secção 2.5 descobertos bancários nota (1) não admite novas contratações. requisitos para manutenção: trabalhadores por conta de outrem ou reformados que domiciliem o ordenado/pensão com um valor mínimo de 500€; tenham cartão de débito visa electron ativo; mantenham domiciliação de pelo menos 2 pagamentos regulares e adesão ao serviço de banca à distância;  nota (2) não admite novas contratações. incide unicamente nas contas com antiguidade superior a 6 meses e cuja soma do saldo médio trimestral do património financeiro (conta à ordem + depósitos a prazo + poupanças) seja igual ou inferior a 2.500,00 euros. o débito desta comissão é efetuado nos meses de janeiro, abril, julho e outubro, referente ao trimestre anterior. estão isentas as contas de menores e as contas associadas a operações de crédito vigentes no abanca no momento do débito da comissão; nota (3) não admite novas contratações. conta para clientes dos 18 aos 28 anos. produtos e serviços associados à conta: disponibilização de cartão de débito para o 1º titular; nota (4) não admite novas contratações. conta para clientes dos 0 aos 17 anos. o menor é titular único com participação dos pais ou tutores legais como representantes legais na conta. esta conta não suporta cheques nem cartões de crédito. o cartão de débito pode ser atribuído a partir dos 12 anos com expressa autorização dos representantes legais. nota (5) não admite novas contratações. produtos e serviços associados à conta, mediante o pagamento de uma comissão mensal: disponibilização de cartão de débito (1º e 2º titular): disponibilização de cartão de crédito classic (1º titular) ou cartão gold (1º titular) para clientes com limite de crédito igual ou superior a €2.500; comissão de guarda de títulos e seguro de assistência médica. comissão calculada tendo por base 0,23€ por cada dia. valor mínimo apresentado para meses de 28 dias e máximo para meses de 31 dias. valor anual calculado para um ano de 365 dias;  nota (6) montante mínimo de abertura: 250 eur. conta que permite aceder aos seguintes produtos e serviços, mediante o pagamento de uma comissão mensal fixa: constituição, manutenção, gestão e titularidade da conta de depósito à ordem; disponibilização de dois cartões de débito; 3 levantamentos em numerário ao balcão; transferências a crédito intrabancárias nacionais; transferências a crédito sepa+ efetuadas por homebanking e depósitos de moedas metálicas. a comissão é cobrada no 1º dia do mês seguinte; nota (7) montante mínimo de abertura: 250 eur. abertura sujeita a prévia aprovação do banco. esta conta permite aceder aos seguintes produtos e serviços, mediante o pagamento de uma comissão mensal fixa: constituição, manutenção, gestão e titularidade da conta de depósito à ordem; disponibilização de um cartão de débito para cada titular; disponibilização de um cartão de crédito para o 1º e 2º titular; transferências a crédito intrabancárias nacionais e transferências a crédito sepa+ efetuadas por homebanking; comissão de guarda de títulos trimestral; seguro de assistência médica 1º titular. a comissão é cobrada no 1º dia do mês seguinte;  abanca                                                                                             contas de depósito / particulares – pág. 1 /2 '"
      ]
     },
     "execution_count": 27,
     "metadata": {},
     "output_type": "execute_result"
    }
   ],
   "source": [
    "bankinter = extract_clean('bankinter_pricelists.pdf', 8)\n",
    "ctt = extract_clean('ctt.pdf',4)\n",
    "abanca = extract_clean('abanca1.pdf', 4)\n",
    "bic = extract_clean('bic.pdf',5 )\n",
    "abanca"
   ]
  },
  {
   "cell_type": "code",
   "execution_count": 4,
   "metadata": {},
   "outputs": [],
   "source": [
    "#params 1 --> define start of table\n",
    "table_bankinter = re.split('1.1\\D',bankinter)[1]\n",
    "table_ctt = re.split('1.1\\D',ctt)[1]\n",
    "table_abanca = re.split('1.1',abanca)[1:]\n",
    "table_bic = re.split('1.1', bic)[1]\n",
    "table_abanca = ''.join(table_abanca)"
   ]
  },
  {
   "cell_type": "markdown",
   "metadata": {},
   "source": [
    "- bankinter 1st params == 1.1\n",
    "- ctt 1st params == 1.1\n",
    "- abanca 1st parmans == 1.1 --> len of 4, just take the first one as separatore (then join the other)\n",
    "- bic 1st params == 1.1 \n",
    "\n",
    "**in the function you have to calculate the len and if there is one more then join the rest in a list**"
   ]
  },
  {
   "cell_type": "code",
   "execution_count": 13,
   "metadata": {},
   "outputs": [
    {
     "data": {
      "text/plain": [
       "[' depósitos à ordem .',\n",
       " 'comissões .',\n",
       " 'acresce  .',\n",
       " 'euros  outras condições .',\n",
       " 'valor anual imposto .',\n",
       " '(mín/máx) .',\n",
       " 'contas de depósito à ordem (comissões aplicáveis a todas as contas) .',\n",
       " 'comissões durante a vigência do contrato .',\n",
       " '1.extrato integrado mensal 0,00 0,00 -- -- .',\n",
       " '2.consulta de saldo de conta do com comprovativo 0,50 -- is - 4% comissão por emissão ao balcão (1) .',\n",
       " '3.consulta de movimentos de conta do com .',\n",
       " '2,00 -- is - 4% comissão por emissão ao balcão .',\n",
       " 'comprovativo .',\n",
       " '4.emissão 2ªs vias de avisos e outros documentos 5,00 -- iva - 23% comissão por emissão ao balcão .',\n",
       " '5.emissão 2ª via - extrato integrado 10,00 -- iva - 23% comissão por emissão ao balcão .',\n",
       " 'conta banco ctt  .',\n",
       " 'comissões durante a vigência do contrato .',\n",
       " '1.comissões por descoberto bancário vide secção 2.5. descobertos bancários .',\n",
       " '2.levantamento de numerário ao balcão comissão por levantamento ao  .',\n",
       " '4,50 -- is - 4% .',\n",
       " 'a partir de 2 levantamentos ao balcão, inclusivé balcão, nota (2) .',\n",
       " 'comissão por transação ao depositante,  .',\n",
       " '3.depósito em moeda metálica (>= 100 moedas) 5,00 -- is - 4% .',\n",
       " 'nota (3) .',\n",
       " '4.comissão de manutenção de conta 0,00 0,00 is - 4% .',\n",
       " '5.alteração de titularidade (titular/ representante) 7,00 -- is - 4% comissão por conta, nota (4) .',\n",
       " 'conta júnior (montante mínimo de abertura 25,00€) .',\n",
       " 'comissões durante a vigência do contrato .',\n",
       " '1.levantamento de numerário ao balcão 4,50 -- is - 4% comissão por levantamento ao balcão .',\n",
       " 'comissão por transação ao  .',\n",
       " '2.depósito em moeda metálica (>= 100 moedas) 5,00 -- is - 4% .',\n",
       " 'depositante, nota (3) .',\n",
       " '3.comissão de manutenção de conta 0,00 0,00 -- .',\n",
       " '4.alteração de titularidade (titular/ representante) 7,00 -- is - 4% comissão por conta, nota (4) .',\n",
       " 'conta base (montante mínimo de abertura 100,00€) .',\n",
       " 'comissões durante a vigência do contrato .',\n",
       " '1.levantamento de numerário ao balcão comissão por levantamento ao  .',\n",
       " '4,50 -- is - 4% .',\n",
       " 'a partir de 4 levantamentos ao balcão, inclusivé balcão, nota (5) .',\n",
       " 'comissão por transação ao  .',\n",
       " '2.depósito em moeda metálica (>= 100 moedas) 5,00 -- is - 4% .',\n",
       " 'depositante, nota (3) .',\n",
       " '3.comissão de manutenção de conta 4,50 54,00 is - 4% nota (6) .',\n",
       " '4.alteração de titularidade (titular/ representante) 7,00 -- is - 4% comissão por conta, nota (4) .',\n",
       " 'conta de serviços mínimos bancários  .',\n",
       " 'comissões durante a vigência do contrato .',\n",
       " '1.levantamento de numerário ao balcão 0,00 -- -- nota (7) .',\n",
       " '2.depósito em moeda metálica (>= 100 moedas) 0,00 .',\n",
       " '3.comissão de manutenção de conta 0,00 0,00 -- nota (7) .',\n",
       " '4.transferências através de aplicações de pagamento .',\n",
       " '0,00 0,00 -- nota (7) .',\n",
       " 'operadas por terceiros .',\n",
       " 'outras despesas associadas .',\n",
       " '-- .',\n",
       " 'banco ctt, s.a. contas de depósito-particulares - pág.1/2']"
      ]
     },
     "execution_count": 13,
     "metadata": {},
     "output_type": "execute_result"
    }
   ],
   "source": [
    "# tokens = nltk.word_tokenize(table_bankinter)\n",
    "# table_ctt = ' . '.join(table_ctt.split('\\n'))\n",
    "tagged = nltk.sent_tokenize(table_ctt)\n",
    "tagged"
   ]
  },
  {
   "cell_type": "code",
   "execution_count": 26,
   "metadata": {},
   "outputs": [
    {
     "data": {
      "text/plain": [
       "['conta d.o.',\n",
       " 'conta ordenado (nota 1 e nota 16)  0,00  nan',\n",
       " 'conta standard (não admite novas contratações)  0,00  nan',\n",
       " 'conta future (nota 3)  0,00  nan',\n",
       " 'conta kids (nota 4)  0,00  nan \\nis – 4%  ',\n",
       " 'conta global (nota 5)  6,53 / 7,23 mensal  85,14',\n",
       " 'conta base (nota 6)  10,00 mensal  120,00 ',\n",
       " 'conta private (nota 7)   8,00 mensal  96,00',\n",
       " 'conta value (nota 8)  5,00 mensal  60,00',\n",
       " 'conta smart (nota 9)  5,00 mensal  60,00',\n",
       " 'conta futuro (nota 10)  0,00  nan',\n",
       " 'conta serviços mínimos bancários (nota 11)  2,00 semestral  4,00',\n",
       " 'conta moeda estrangeira (nota 12)  5,00 mensal  60,00',\n",
       " 'conta abanca internacional (nota 17)  0,00  nan \\n4.   levantamento de numerário        \\n  .',\n",
       " 'conta para clientes dos 18 aos 28 anos.',\n",
       " 'conta para clientes dos 0 aos 17 anos.',\n",
       " 'conta que permite aceder aos seguintes produtos e serviços, mediante o pagamento de \\numa comissão mensal fixa: constituição, manutenção, gestão e titularidade da conta de depósito à ordem; disponibilização de dois cartões de \\ndébito; 3 levantamentos em numerário ao balcão; transferências a crédito intrabancárias nacionais; transferências a crédito sepa+ efetuadas \\npor homebanking e depósitos de moedas metálicas.']"
      ]
     },
     "execution_count": 26,
     "metadata": {},
     "output_type": "execute_result"
    }
   ],
   "source": [
    "table_abanca = re.sub('[0-9]{1}\\.[0-9]{1,2}\\D', ' . ', table_abanca)\n",
    "# tables = []\n",
    "# for table in table_abanca:\n",
    "#     table = re.sub('[0-9]{1}\\.[0-9]{1,2}\\D',' . ', table_abanca)\n",
    "#     tables.append(table)\n",
    "# table_abanca = ' . '.join(tables)\n",
    "\n",
    "tagged = nltk.sent_tokenize(table_abanca)\n",
    "# tagged = re.sub('\\n ','',tagged)\n",
    "# table_abanca\n",
    "lista = []\n",
    "# for each in tagged:\n",
    "#     each = re.sub('\\n', '', table_abanca)\n",
    "#     lista.append([each])\n",
    "# # pd.DataFrame(lista) \n",
    "tagged\n",
    "contas=[]\n",
    "tagged\n",
    "for tag in tagged:\n",
    "    if 'conta' == tag.split()[0]:\n",
    "        tag=tag.replace(' \\n .','')\n",
    "        contas.append(tag)\n",
    "contas\n",
    "# newby = []\n",
    "# for conta in contas:\n",
    "#     conta = conta.replace(',','.')\n",
    "#     conta = conta.replace(' ',',').replace(',,',',')\n",
    "#     conta = conta.split()\n",
    "        \n",
    "#     newby.append(conta)\n",
    "# pd.DataFrame(newby)"
   ]
  },
  {
   "cell_type": "markdown",
   "metadata": {},
   "source": [
    "# back to table, desperation is coming"
   ]
  },
  {
   "cell_type": "code",
   "execution_count": null,
   "metadata": {},
   "outputs": [],
   "source": [
    "pdf = 'ctt.pdf'\n",
    "file = pdfplumber.open(pdf)\n",
    "page = file.pages[4]\n",
    "table = page.extract_table()"
   ]
  },
  {
   "cell_type": "code",
   "execution_count": null,
   "metadata": {},
   "outputs": [],
   "source": [
    "ctt_df = pd.DataFrame(table)"
   ]
  },
  {
   "cell_type": "code",
   "execution_count": null,
   "metadata": {},
   "outputs": [],
   "source": [
    "ctt_df.iloc[5,1]"
   ]
  },
  {
   "cell_type": "code",
   "execution_count": null,
   "metadata": {},
   "outputs": [],
   "source": []
  }
 ],
 "metadata": {
  "kernelspec": {
   "display_name": "Python 3",
   "language": "python",
   "name": "python3"
  },
  "language_info": {
   "codemirror_mode": {
    "name": "ipython",
    "version": 3
   },
   "file_extension": ".py",
   "mimetype": "text/x-python",
   "name": "python",
   "nbconvert_exporter": "python",
   "pygments_lexer": "ipython3",
   "version": "3.8.6"
  },
  "toc": {
   "base_numbering": 1,
   "nav_menu": {},
   "number_sections": true,
   "sideBar": true,
   "skip_h1_title": false,
   "title_cell": "Table of Contents",
   "title_sidebar": "Contents",
   "toc_cell": false,
   "toc_position": {},
   "toc_section_display": true,
   "toc_window_display": false
  }
 },
 "nbformat": 4,
 "nbformat_minor": 4
}
