{
 "cells": [
  {
   "cell_type": "code",
   "execution_count": 3,
   "metadata": {
    "ExecuteTime": {
     "end_time": "2021-03-29T16:21:53.735087Z",
     "start_time": "2021-03-29T16:21:49.653365Z"
    }
   },
   "outputs": [],
   "source": [
    "import pandas as pd\n",
    "import numpy as np\n",
    "import matplotlib as plt\n",
    "import requests\n",
    "import pdfplumber"
   ]
  },
  {
   "cell_type": "code",
   "execution_count": 24,
   "metadata": {
    "ExecuteTime": {
     "end_time": "2021-03-30T15:09:38.060779Z",
     "start_time": "2021-03-30T15:09:37.817040Z"
    }
   },
   "outputs": [],
   "source": [
    "pdf = pdfplumber.open('data/ABANCA2021com.pdf')"
   ]
  },
  {
   "cell_type": "code",
   "execution_count": 25,
   "metadata": {
    "ExecuteTime": {
     "end_time": "2021-03-30T15:09:39.004275Z",
     "start_time": "2021-03-30T15:09:38.927812Z"
    }
   },
   "outputs": [],
   "source": [
    "page=pdf.pages[4]"
   ]
  },
  {
   "cell_type": "code",
   "execution_count": 34,
   "metadata": {
    "ExecuteTime": {
     "end_time": "2021-03-30T15:37:53.420441Z",
     "start_time": "2021-03-30T15:37:53.406511Z"
    }
   },
   "outputs": [
    {
     "ename": "TypeError",
     "evalue": "extract_table() got an unexpected keyword argument 'table_setings'",
     "output_type": "error",
     "traceback": [
      "\u001b[0;31m---------------------------------------------------------------------------\u001b[0m",
      "\u001b[0;31mTypeError\u001b[0m                                 Traceback (most recent call last)",
      "\u001b[0;32m<ipython-input-34-b6a87930f681>\u001b[0m in \u001b[0;36m<module>\u001b[0;34m\u001b[0m\n\u001b[0;32m----> 1\u001b[0;31m \u001b[0mpd\u001b[0m\u001b[0;34m.\u001b[0m\u001b[0mDataFrame\u001b[0m\u001b[0;34m(\u001b[0m\u001b[0mpage\u001b[0m\u001b[0;34m.\u001b[0m\u001b[0mextract_table\u001b[0m\u001b[0;34m(\u001b[0m\u001b[0mtable_setings\u001b[0m\u001b[0;34m=\u001b[0m\u001b[0;34m{\u001b[0m\u001b[0;34m\"horizontal_strategy\"\u001b[0m\u001b[0;34m:\u001b[0m\u001b[0;34m\"explicit\"\u001b[0m\u001b[0;34m}\u001b[0m\u001b[0;34m)\u001b[0m\u001b[0;34m)\u001b[0m\u001b[0;34m\u001b[0m\u001b[0;34m\u001b[0m\u001b[0m\n\u001b[0m",
      "\u001b[0;31mTypeError\u001b[0m: extract_table() got an unexpected keyword argument 'table_setings'"
     ]
    }
   ],
   "source": [
    "pd.DataFrame(page.extract_table(table_setings={\"horizontal_strategy\":\"explicit\"}))"
   ]
  },
  {
   "cell_type": "code",
   "execution_count": 26,
   "metadata": {
    "ExecuteTime": {
     "end_time": "2021-03-30T15:09:40.625117Z",
     "start_time": "2021-03-30T15:09:39.738450Z"
    }
   },
   "outputs": [],
   "source": [
    "text=page.extract_text()"
   ]
  },
  {
   "cell_type": "code",
   "execution_count": 17,
   "metadata": {
    "ExecuteTime": {
     "end_time": "2021-03-29T17:41:01.635805Z",
     "start_time": "2021-03-29T17:41:01.630772Z"
    }
   },
   "outputs": [
    {
     "data": {
      "text/plain": [
       "str"
      ]
     },
     "execution_count": 17,
     "metadata": {},
     "output_type": "execute_result"
    }
   ],
   "source": [
    "type(text)"
   ]
  },
  {
   "cell_type": "code",
   "execution_count": 18,
   "metadata": {
    "ExecuteTime": {
     "end_time": "2021-03-29T17:41:02.568890Z",
     "start_time": "2021-03-29T17:41:02.285881Z"
    }
   },
   "outputs": [
    {
     "name": "stdout",
     "output_type": "stream",
     "text": [
      "[['Entrada em Vigor: 01-Jan-2021\\n1. CONTAS DE DEPÓSITO (PARTICULARES) (ÍNDICE)', None, None, None, None, None, None, None, None, None], ['', None, None, None, None, None, None, None, None, None], ['1.1. Depósitos à ordem', None, None, None, None, None, None, '', '', None], ['', '', '', 'Comissões', None, '', '', None, None, ''], ['', None, None, 'Euros \\n(Mín/Máx)', 'Valor Anual', 'Acresce \\nImposto', 'Outras condições', None, None, ''], ['', 'Contas de Depósito à Ordem (Comissões aplicáveis a todas as Contas)', None, None, None, None, None, None, None, ''], ['', 'Comissões durante a vigência do contrato', None, None, None, None, None, None, None, ''], ['', '1.Extrato Integrado mensal', None, 'Isento', 'Isento', '--', '--', None, None, ''], ['', '2.Consulta de Saldo de conta DO com comprovativo', None, '0,50', '--', 'IS - 4%', 'Comissão por emissão ao balcão (1)', None, None, ''], [None, '3.Consulta de Movimentos de conta DO com\\ncomprovativo', None, '2,00', '--', 'IS - 4%', 'Comissão por emissão ao balcão', None, None, None], ['', '4.Emissão 2ªs Vias de Avisos e Outros Documentos', None, '5,00', '--', 'IVA - 23%', 'Comissão por emissão ao balcão', None, None, ''], [None, '5.Emissão 2ª Via - Extrato Integrado', None, '10,00', '--', 'IVA - 23%', 'Comissão por emissão ao balcão', None, None, None], ['', 'Conta Banco CTT', None, None, None, None, None, None, None, ''], ['', 'Comissões durante a vigência do contrato', None, None, None, None, None, None, None, ''], ['', '1.Comissões por descoberto bancário', None, 'vide Secção 2.5. Descobertos bancários', None, None, None, None, None, ''], ['', '2.Levantamento de Numerário ao Balcão\\nA partir de 2 levantamentos ao Balcão, inclusivé', None, '4,50', '--', 'IS - 4%', 'Comissão por levantamento ao \\nbalcão, Nota (2)', None, None, ''], ['', '3.Depósito em moeda metálica (>= 100 moedas)', None, '5,00', '--', 'IS - 4%', 'Comissão por transação ao depositante, \\nNota (3)', None, None, None], ['', '4.Comissão de manutenção de conta', None, 'Isento', 'Isento', 'IS - 4%', '', None, None, None], [None, '5.Alteração de titularidade (titular/ representante)', None, '7,00', '--', 'IS - 4%', 'Comissão por conta, Nota (4)', None, None, None], ['', None, None, None, None, None, None, None, None, None], [None, 'Conta Júnior (Montante Mínimo de Abertura 25,00€)', None, None, None, None, None, None, None, ''], ['', 'Comissões durante a vigência do contrato', None, None, None, None, None, None, None, None], [None, '1.Levantamento de Numerário ao Balcão', None, '4,50', '--', 'IS - 4%', 'Comissão por levantamento ao balcão', None, None, ''], ['', None, None, None, None, None, None, None, None, None], ['', '2.Depósito em moeda metálica (>= 100 moedas)', None, '5,00', '--', 'IS - 4%', 'Comissão por transação ao \\ndepositante, Nota (3)', None, None, None], [None, '3.Comissão de manutenção de conta', None, 'Isento', 'Isento', '--', '', None, None, None], ['', None, None, None, None, None, None, None, None, None], [None, '4.Alteração de titularidade (titular/ representante)', None, '7,00', '--', 'IS - 4%', 'Comissão por conta, Nota (4)', None, None, None], ['', None, None, None, None, None, None, None, None, None], [None, 'Conta Base (Montante Mínimo de Abertura 100,00€)', None, None, None, None, None, None, None, ''], ['', None, None, None, None, None, None, None, None, None], ['', '', None, None, None, None, None, None, None, ''], ['', 'Comissões durante a vigência do contrato', None, None, None, None, None, None, None, ''], [None, '', None, '', '', '', '', None, None, ''], ['', '1.Levantamento de Numerário ao Balcão\\nA partir de 4 levantamentos ao Balcão, inclusivé', None, '4,50', '--', 'IS - 4%', 'Comissão por levantamento ao \\nbalcão, Nota (5)', None, None, ''], ['', None, None, None, None, None, None, None, None, None], [None, '2.Depósito em moeda metálica (>= 100 moedas)', None, '5,00', '--', 'IS - 4%', 'Comissão por transação ao \\ndepositante, Nota (3)', None, None, None], ['', None, None, None, None, None, None, None, None, None], ['', None, None, None, None, None, None, None, None, None], [None, '3.Comissão de manutenção de conta', None, '4,50', '54,00', 'IS - 4%', 'Nota (6)', None, None, None], [None, '4.Alteração de titularidade (titular/ representante)', None, '7,00', '--', 'IS - 4%', 'Comissão por conta, Nota (4)', None, None, None], [None, 'Conta de Serviços Mínimos Bancários', None, None, None, None, None, None, None, ''], [None, 'Comissões durante a vigência do contrato', None, None, None, None, None, None, None, None], [None, '1.Levantamento de Numerário ao Balcão', None, 'Isento', '--', '--', 'Nota (7)', None, None, ''], [None, '2.Depósito em moeda metálica (>= 100 moedas)', None, 'Isento', None, None, None, None, None, ''], [None, '', None, '', '', '', '', None, None, None], [None, '3.Comissão de manutenção de conta', None, 'Isento', 'Isento', '--', 'Nota (7)', None, None, None], [None, '4.Transferências através de aplicações de pagamento\\noperadas por terceiros', None, 'Isento', 'Isento', '--', 'Nota (7)', None, None, None]]\n"
     ]
    }
   ],
   "source": [
    "print(page.extract_table(table_settings={}))"
   ]
  },
  {
   "cell_type": "code",
   "execution_count": null,
   "metadata": {},
   "outputs": [],
   "source": []
  }
 ],
 "metadata": {
  "kernelspec": {
   "display_name": "Python 3",
   "language": "python",
   "name": "python3"
  },
  "language_info": {
   "codemirror_mode": {
    "name": "ipython",
    "version": 3
   },
   "file_extension": ".py",
   "mimetype": "text/x-python",
   "name": "python",
   "nbconvert_exporter": "python",
   "pygments_lexer": "ipython3",
   "version": "3.7.7"
  },
  "toc": {
   "base_numbering": 1,
   "nav_menu": {},
   "number_sections": true,
   "sideBar": true,
   "skip_h1_title": false,
   "title_cell": "Table of Contents",
   "title_sidebar": "Contents",
   "toc_cell": false,
   "toc_position": {},
   "toc_section_display": true,
   "toc_window_display": false
  }
 },
 "nbformat": 4,
 "nbformat_minor": 4
}
