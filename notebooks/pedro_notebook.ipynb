{
 "cells": [
  {
   "cell_type": "code",
   "execution_count": 2,
   "metadata": {
    "ExecuteTime": {
     "end_time": "2021-04-05T10:56:06.890613Z",
     "start_time": "2021-04-05T10:55:59.550503Z"
    }
   },
   "outputs": [],
   "source": [
    "import pandas as pd\n",
    "import numpy as np\n",
    "import matplotlib as plt\n",
    "import requests\n",
    "import pdfplumber"
   ]
  },
  {
   "cell_type": "code",
   "execution_count": 3,
   "metadata": {
    "ExecuteTime": {
     "end_time": "2021-04-05T10:56:08.558249Z",
     "start_time": "2021-04-05T10:56:08.282706Z"
    }
   },
   "outputs": [],
   "source": [
    "pdf = pdfplumber.open('data/BancoBICcom&taxes.pdf')"
   ]
  },
  {
   "cell_type": "code",
   "execution_count": 4,
   "metadata": {
    "ExecuteTime": {
     "end_time": "2021-04-05T10:56:21.623089Z",
     "start_time": "2021-04-05T10:56:21.473771Z"
    }
   },
   "outputs": [],
   "source": [
    "page=pdf.pages[5]"
   ]
  },
  {
   "cell_type": "code",
   "execution_count": 10,
   "metadata": {
    "ExecuteTime": {
     "end_time": "2021-04-05T11:04:07.710739Z",
     "start_time": "2021-04-05T11:04:07.404159Z"
    }
   },
   "outputs": [],
   "source": [
    "#table_setings={\"horizontal_strategy\":\"explicit\"}\n",
    "df=pd.DataFrame(page.extract_table())"
   ]
  },
  {
   "cell_type": "code",
   "execution_count": 11,
   "metadata": {
    "ExecuteTime": {
     "end_time": "2021-04-05T11:09:16.350403Z",
     "start_time": "2021-04-05T11:09:16.264427Z"
    }
   },
   "outputs": [],
   "source": [
    "df.to_excel('bancobic.xlsx')"
   ]
  },
  {
   "cell_type": "code",
   "execution_count": 6,
   "metadata": {
    "ExecuteTime": {
     "end_time": "2021-04-05T10:56:32.146272Z",
     "start_time": "2021-04-05T10:56:31.751876Z"
    }
   },
   "outputs": [],
   "source": [
    "text=page.extract_text()"
   ]
  },
  {
   "cell_type": "code",
   "execution_count": 7,
   "metadata": {
    "ExecuteTime": {
     "end_time": "2021-04-05T10:56:32.734691Z",
     "start_time": "2021-04-05T10:56:32.718602Z"
    }
   },
   "outputs": [
    {
     "data": {
      "text/plain": [
       "str"
      ]
     },
     "execution_count": 7,
     "metadata": {},
     "output_type": "execute_result"
    }
   ],
   "source": [
    "type(text)"
   ]
  },
  {
   "cell_type": "code",
   "execution_count": 8,
   "metadata": {
    "ExecuteTime": {
     "end_time": "2021-04-05T10:56:33.955570Z",
     "start_time": "2021-04-05T10:56:33.678417Z"
    }
   },
   "outputs": [
    {
     "name": "stdout",
     "output_type": "stream",
     "text": [
      "[['Entrada em vigor: 04-mar-2021\\n1. CONTAS DE DEPÓSITO (PARTICULARES) ÍNDICE', None, None, None, None, None, None, None, None, None, None], ['', None, None, None, None, None, None, None, None, None, None], ['', '1.1. Depósitos à ordem', None, None, None, None, None, None, None, None, None], ['', None, None, None, None, None, None, None, None, None, None], ['', '', '', None, None, None, '', 'Comissões', None, 'Acresce', 'Outras'], ['', None, None, None, None, None, None, 'Euros (Mín/Máx)', 'Valor Anual', 'Imposto', 'condições'], ['', 'Contas de Depósitos à Ordem', None, None, None, None, None, None, None, None, None], ['', '1. Comissão de manutenção de conta', None, None, None, None, None, None, None, None, None], [None, 'Conta à Ordem (5), Conta à Ordem Emigrantes (5), Conta Ordenado XL (12), Conta Cool (contratações anteriores a 13 de novembro de 2014) \\n(4)(3). Contas fora de comercialização: Conta à Ordem Sucursal Financeira Exterior Madeira (5)(6), Conta Privilégio 55 (5)(7), Conta Ordenado \\nPrivilégio 55 (7)(12)(13)', None, None, None, None, None, None, None, None, None], [None, 'Património financeiro', None, None, None, '≤ 2.500,00€', None, '12,00 / trimestre', '48,00', 'IS 4,00%', 'Notas 1, 2'], [None, None, None, None, None, '> 2.500,00€ e ≤ 5.000,00€', None, '10,00 / trimestre', '40,00', 'IS 4,00%', None], [None, None, None, None, None, '> 5.000,00€ e ≤ 15.000,00€', None, '7,50 / trimestre', '30,00', 'IS 4,00%', None], [None, None, None, None, None, '> 15.000,00€ e ≤ 50.000,00€', None, '5,00 / trimestre', '20,00', 'IS 4,00%', None], [None, None, None, None, None, '> 50.000,00€', None, 'Isento', None, '--', None], ['', 'Conta à Ordem com Futuro', None, None, None, None, None, 'Isento', None, '--', 'Nota 4'], ['', 'Conta Cool (contratações a partir de 13 de novembro 2014)', None, None, None, None, None, 'Isento', None, '--', 'Notas 4, 11'], [None, 'Conta à Ordem Massa Insolvente', None, None, None, None, None, 'Isento', None, '--', 'Nota 14'], ['', 'Conta BIC Salário Internacional (Fora de comercialização)', None, None, None, None, None, '5,00 / mês', '60,00', 'IS 4,00%', 'Notas 5, 20'], ['', '2. Comissão de manutenção da Conta Base', None, None, None, None, None, '5,00 / mês', '60,00', 'IS 4,00%', 'Notas 5, 8'], ['', '3. Comissão de manutenção da Conta de Serviços Mínimos \\nBancários (CSMB)', None, None, None, None, None, '1,03 / trimestre', '4,12', 'IS 4,00%', 'Notas 9, 10'], ['', '4. Comissão de manutenção de conta pacote', None, None, None, None, None, None, None, None, None], ['', 'Conta EuroBic Prime com domiciliação de vencimento', None, None, None, None, None, '', None, None, 'Nota 15'], ['', 'Sem condições de bonificação', None, None, None, None, None, '5,50 / mês', '66,00', 'IS 4,00%', ''], [None, 'Com condições de bonificação', None, None, None, None, None, '4,50 / mês', '54,00', 'IS 4,00%', 'Nota 25'], ['', 'Conta EuroBic Prime sem domiciliação de vencimento', None, None, None, None, None, '', None, None, 'Nota 15'], ['', 'Sem condições de bonificação', None, None, None, None, None, '7,50 / mês', '90,00', 'IS 4,00%', ''], [None, 'Com condições de bonificação', None, None, None, None, None, '6,50 / mês', '78,00', 'IS 4,00%', 'Nota 25'], ['', 'Conta EuroBic 365 com domiciliação de vencimento', None, None, None, None, None, '', None, None, 'Nota 16'], ['', 'Sem condições de bonificação', None, None, None, None, None, '4,25 / mês', '51,00', 'IS 4,00%', ''], [None, 'Com condições de bonificação', None, None, None, None, None, '3,25 / mês', '39,00', 'IS 4,00%', 'Nota 25'], ['', 'Conta EuroBic 365 sem domiciliação de vencimento', None, None, None, None, None, '', None, None, 'Nota 16'], ['', 'Sem condições de bonificação', None, None, None, None, None, '6,00 / mês', '72,00', 'IS 4,00%', ''], [None, 'Com condições de bonificação', None, None, None, None, None, '5,00 / mês', '60,00', 'IS 4,00%', 'Nota 25'], ['', 'Conta EuroBic Sénior', None, None, None, None, None, '', None, None, None], ['', 'Sem crédito de vencimento e recursos ≤ 35.000 €', None, None, None, None, None, '4,00 / mês', '48,00', 'IS 4,00%', 'Notas 17, 18'], ['', 'Com crédito de vencimento ou recursos  > 35.000 €', None, None, None, None, None, 'Isento', None, 'IS 4,00%', 'Notas 17, 18'], ['', 'Conta EuroBic Mais (Fora de comercialização)', None, None, None, None, None, None, None, None, None], [None, 'Sem crédito de vencimento', None, None, None, None, None, '7,00 / mês', '84,00', 'IS 4,00%', 'Notas 5, 19'], [None, 'Com crédito de vencimento', None, None, None, None, None, '5,00 / mês', '60,00', 'IS 4,00%', 'Notas 12, 19'], [None, '5. Levantamento de numerário', None, None, None, None, None, '5,00', '--', 'IS 4,00%', 'Nota 21'], [None, '6. Pedido de saldo ao balcão', None, None, None, None, None, '1,00', '--', 'IVA 23,00%', ''], [None, '7. Alteração de titularidade / intervenientes', None, None, None, None, None, '7,00', '--', 'IVA 23,00%', 'Nota 24'], [None, '8. Depósito de moeda metálica (≥ a 100 moedas)', None, None, None, None, None, '5,00', '--', 'IS 4,00%', 'Notas 22, 23'], [None, '9. Segundas vias (pedido na agência)', None, None, None, None, None, 'Consulte subsecção 7.3. Outros serviços', None, None, ''], [None, '10. Descoberto bancário', None, None, None, None, None, 'Consulte subsecção 2.5. Descobertos bancários', None, None, None], ['Nota Geral O IVA é', None, None, None, 'de 23%', 'no Continente, 18% nos Açores e 22% na Madeira.', None, None, None, None, None], ['', 'Nota 1 Ascomissõesdemanutençãodecontasãocalculadascombasenaposiçãodefinaldemêsdopatrimóniofinanceiro,nosmesesde', None, None, None, None, None, None, None, None, None], ['', None, None, 'março,junho,setembroedezembro,sendocobradasnodia5domêsseguinte.Ocálculodopatrimóniofinanceiroresultadasomade\\nrecursos (inclui, por exemplo, fundos de investimento) e crédito em utilização (inclui, por exemplo, leasing), sendo para o efeito\\nconsideradosapenasprodutosdoBanco.Nascontasemmoedaestrangeiraacomissãoéapuradatendoporbaseataxadecâmbio\\nfixing do dia 5 do mês em que a cobrança é efetuada.', None, None, None, None, None, None, None], ['', 'Nota 2 Isençãodacomissãodemanutençãodecontaparacontasabertashámenosde6meses,ContasCoolcujo1ºtitulartenhaentre18e\\n25 anos de idade (inclusive), contas que tenham associado crédito habitação e contas que tenham associado crédito pessoal \\n(considerando os produtos da subsecção 2.2. Crédito pessoal).', None, None, None, None, None, None, None, None, None], ['', 'Nota 3 Isenção para clientes com idade entre os 18 e 25 anos de idade.', None, None, None, None, None, None, None, '', None], ['', 'Nota 4 Montante mínimo de abertura de 25,00 €.\\nNota 5 Montante mínimo de abertura de 250,00 €.', None, None, None, None, None, None, None, None, None], ['', 'Nota 6', None, 'Exclusiva para clientes não residentes com prova válida.', None, None, None, None, None, None, None], ['', 'Nota 7\\nNota 8', None, 'Exclusiva para clientes com idade igual ou superior a 55 anos.\\nCondições de acesso - Pessoas singulares, maiores de idade, residentes e não residentes. Serviços incluídos na comissão de', None, None, None, None, None, None, None], ['', '', None, None, None, None, None, None, None, None, None]]\n"
     ]
    }
   ],
   "source": [
    "print(page.extract_table(table_settings={}))"
   ]
  },
  {
   "cell_type": "code",
   "execution_count": null,
   "metadata": {},
   "outputs": [],
   "source": []
  }
 ],
 "metadata": {
  "kernelspec": {
   "display_name": "Python 3",
   "language": "python",
   "name": "python3"
  },
  "language_info": {
   "codemirror_mode": {
    "name": "ipython",
    "version": 3
   },
   "file_extension": ".py",
   "mimetype": "text/x-python",
   "name": "python",
   "nbconvert_exporter": "python",
   "pygments_lexer": "ipython3",
   "version": "3.7.7"
  },
  "toc": {
   "base_numbering": 1,
   "nav_menu": {},
   "number_sections": true,
   "sideBar": true,
   "skip_h1_title": false,
   "title_cell": "Table of Contents",
   "title_sidebar": "Contents",
   "toc_cell": false,
   "toc_position": {},
   "toc_section_display": true,
   "toc_window_display": false
  }
 },
 "nbformat": 4,
 "nbformat_minor": 4
}
