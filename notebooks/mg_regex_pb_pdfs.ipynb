{
 "cells": [
  {
   "cell_type": "markdown",
   "id": "bd98105e",
   "metadata": {},
   "source": [
    "# Imports"
   ]
  },
  {
   "cell_type": "code",
   "execution_count": 118,
   "id": "84be1497",
   "metadata": {},
   "outputs": [],
   "source": [
    "import pandas as pd\n",
    "import numpy as np\n",
    "import requests\n",
    "from PyPDF2 import PdfFileReader, PdfFileMerger, PdfFileWriter\n",
    "import PyPDF2\n",
    "from bs4 import BeautifulSoup\n",
    "import os\n",
    "import shutil\n",
    "from urllib.parse import urljoin\n",
    "from urllib.request import Request, urlopen\n",
    "from io import StringIO, BytesIO\n",
    "import cloudinary.uploader\n",
    "import json\n",
    "from google.cloud import storage\n",
    "import pdfminer.layout\n",
    "import pdfminer.high_level\n",
    "import pdfplumber\n",
    "import pdfminer.pdftypes\n",
    "from pdfminer.high_level import extract_pages\n",
    "from pdfminer.layout import LTTextContainer, LTChar, LTTextBox\n",
    "from pdfminer.pdfpage import PDFPage\n",
    "\n",
    "import re"
   ]
  },
  {
   "cell_type": "markdown",
   "id": "a1fc0e11",
   "metadata": {},
   "source": [
    "# Sources"
   ]
  },
  {
   "cell_type": "code",
   "execution_count": 119,
   "id": "1a157240",
   "metadata": {},
   "outputs": [],
   "source": [
    "data = {\"1\": {\"bp_bank_id\": \"0170\", \"last_updated\": \"2021-04-12\", \"url\": \"https://www.abanca.pt\", \"bp_pdf_url\": \"https://clientebancario.bportugal.pt/sites/default/files/precario/0170_/0170_PRE.pdf\", \"price_page\": \"https://www.abanca.pt/pt/precario/\", \"list_pdfs\": {\"urls\": [\"https://www.abanca.pt/files/documents/precario-folheto-comissoes-823a7663.pdf\", \"https://www.abanca.pt/files/documents/folheto-taxa-juro-precario-5890906f.pdf\", \"https://www.abanca.pt/files/documents/precariodevaloresmobiliarios-23c714a2.pdf\", \"https://www.abanca.pt/files/documents/glossario-6479e89f.pdf\", \"https://www.abanca.pt/files/docs/leaflet-your-rights-payments-eu.pdf\"], \"cloud_url_size\": \"2129289\", \"cloud_merged_url\": \"https://storage.googleapis.com/bank_price_pdfs/1_all_products_210412130040.pdf\"}, \"num_pdfs\": 5, \"status\": \"ok\"}, \"2\": {\"bp_bank_id\": \"0269\", \"last_updated\": \"2021-04-12\", \"url\": \"https://www.bankinter.pt\", \"bp_pdf_url\": \"https://clientebancario.bportugal.pt/sites/default/files/precario/0269_/0269_PRE.pdf\", \"price_page\": \"https://www.bankinter.pt/precario1\", \"list_pdfs\": {\"urls\": [\"https://www.bankinter.pt/documents/20182/115991/Pre%25C3%25A7%25C3%25A1rio%2BCompleto%2BTFSI%2B%2B20210401.pdf/c489f0cd-3831-4441-812e-f351741d2b22\", \"https://banco.bankinter.pt/particulares/pdfs/precario/folha_rosto.pdf\", \"https://banco.bankinter.pt/particulares/pdfs/precario/informacao_geral.pdf\", \"https://banco.bankinter.pt/particulares/pdfs/precario/informacao_complementar.pdf\", \"https://banco.bankinter.pt/particulares/pdfs/precario/p_fcd_contas_deposito.pdf\", \"https://banco.bankinter.pt/particulares/pdfs/precario/p_fcd_operacoes_credito.pdf\", \"https://banco.bankinter.pt/particulares/pdfs/precario/p_fcd_cartoes_credito_debito.pdf\", \"https://banco.bankinter.pt/particulares/pdfs/precario/p_fcd_cheques.pdf\", \"https://banco.bankinter.pt/particulares/pdfs/precario/p_fcd_transferencias.pdf\", \"https://banco.bankinter.pt/particulares/pdfs/precario/p_fcd_cobrancas.pdf\", \"https://banco.bankinter.pt/particulares/pdfs/precario/p_fcd_prestacao_servicos.pdf\", \"https://banco.bankinter.pt/particulares/pdfs/precario/o_fcd_contas_deposito.pdf\", \"https://banco.bankinter.pt/particulares/pdfs/precario/o_fcd_operacoes_credito.pdf\", \"https://banco.bankinter.pt/particulares/pdfs/precario/o_fcd_cartoes_credito_debito.pdf\", \"https://banco.bankinter.pt/particulares/pdfs/precario/o_fcd_cheques.pdf\", \"https://banco.bankinter.pt/particulares/pdfs/precario/o_fcd_transferencias.pdf\", \"https://banco.bankinter.pt/particulares/pdfs/precario/o_fcd_cobrancas.pdf\", \"https://banco.bankinter.pt/particulares/pdfs/precario/o_fcd_prestacao_servicos.pdf\", \"https://banco.bankinter.pt/particulares/pdfs/precario/o_fcd_operacoes_estrangeiro.pdf\", \"https://banco.bankinter.pt/particulares/pdfs/precario/p_ftj_contas_deposito.pdf\", \"https://banco.bankinter.pt/particulares/pdfs/precario/p_ftj_operacoes_credito.pdf\", \"https://banco.bankinter.pt/particulares/pdfs/precario/o_ftj_contas_deposito.pdf\", \"https://banco.bankinter.pt/particulares/pdfs/precario/o_ftj_operacoes_credito.pdf\", \"https://banco.bankinter.pt/particulares/pdfs/precario/ptfs_a.pdf\", \"https://banco.bankinter.pt/particulares/pdfs/precario/ptfs_b.pdf\", \"https://banco.bankinter.pt/particulares/pdfs/precario/ptfs_c.pdf\", \"https://banco.bankinter.pt/particulares/pdfs/precario/ptfs_d.pdf\"], \"cloud_url_size\": \"89399717\", \"cloud_merged_url\": \"https://storage.googleapis.com/bank_price_pdfs/2_all_products_210412130350.pdf\"}, \"num_pdfs\": 27, \"status\": \"ok\"}, \"3\": {\"bp_bank_id\": \"0079\", \"last_updated\": \"2021-04-12\", \"url\": \"https://www.bancobic.ao\", \"bp_pdf_url\": \"https://clientebancario.bportugal.pt/sites/default/files/precario/0079_/0079_PRE_0.pdf\", \"price_page\": \"https://www.bancobic.ao/inicio/precario\", \"list_pdfs\": {\"urls\": [\"https://www.bancobic.ao/dotAsset/0f07d8a4-4ec3-4111-a453-c4ee14d5c66c.pdf\", \"https://www.bancobic.ao/dotAsset/7e1e6dd2-9d56-43ef-b398-ac3bac3cc70e.pdf\"], \"cloud_url_size\": \"2865533\", \"cloud_merged_url\": \"https://storage.googleapis.com/bank_price_pdfs/3_all_products_210412130840.pdf\"}, \"num_pdfs\": 2, \"status\": \"ok\"}, \"4\": {\"bp_bank_id\": \"0008\", \"last_updated\": \"2021-04-12\", \"url\": \"https://www.bancobai.ao\", \"bp_pdf_url\": \"https://clientebancario.bportugal.pt/sites/default/files/precario/0008_/0008_PRE.pdf\", \"price_page\": \"https://www.bancobai.ao/pt/pre%C3%A7%C3%A1rio\", \"list_pdfs\": {\"urls\": [\"https://www.bancobai.ao/media/2988/bai_pre_clientes-particulares_31-03-2021.pdf\", \"https://www.bancobai.ao/media/2989/bai_pre_outros-clientes_31-03-2021.pdf\", \"https://www.bancobai.ao/media/2823/bai_resumo-das-alteracoes-do-precario-bna-8-02-2021-cleaned.pdf\", \"https://www.bancobai.ao/media/2278/termos-e-condi%C3%A7%C3%B5es.pdf\"], \"cloud_url_size\": \"6081979\", \"cloud_merged_url\": \"https://storage.googleapis.com/bank_price_pdfs/4_all_products_210412130952.pdf\"}, \"num_pdfs\": 4, \"status\": \"ok\"}, \"5\": {\"bp_bank_id\": \"0193\", \"last_updated\": \"2021-04-12\", \"url\": \"https://www.bancoctt.pt/\", \"bp_pdf_url\": \"https://clientebancario.bportugal.pt/sites/default/files/precario/0193_/0193_PRE.pdf\", \"price_page\": \"https://www.bancoctt.pt/application/themes/pdfs/precario.pdf?language_id%3D1555597541833\", \"list_pdfs\": {\"urls\": [\"https://www.bancoctt.pt/application/themes/pdfs/precario.pdf?language_id%3D1555597541833\"], \"cloud_url_size\": \"2216262\", \"cloud_merged_url\": \"https://storage.googleapis.com/bank_price_pdfs/5_all_products_210412131014.pdf\"}, \"num_pdfs\": 1, \"status\": \"ok\"}}"
   ]
  },
  {
   "cell_type": "code",
   "execution_count": 3,
   "id": "9a4b35d0",
   "metadata": {},
   "outputs": [
    {
     "name": "stdout",
     "output_type": "stream",
     "text": [
      "https://www.abanca.pt\n",
      "https://clientebancario.bportugal.pt/sites/default/files/precario/0170_/0170_PRE.pdf\n",
      "https://storage.googleapis.com/bank_price_pdfs/1_all_products_210412130040.pdf\n",
      "\n",
      "https://www.bankinter.pt\n",
      "https://clientebancario.bportugal.pt/sites/default/files/precario/0269_/0269_PRE.pdf\n",
      "https://storage.googleapis.com/bank_price_pdfs/2_all_products_210412130350.pdf\n",
      "\n",
      "https://www.bancobic.ao\n",
      "https://clientebancario.bportugal.pt/sites/default/files/precario/0079_/0079_PRE_0.pdf\n",
      "https://storage.googleapis.com/bank_price_pdfs/3_all_products_210412130840.pdf\n",
      "\n",
      "https://www.bancobai.ao\n",
      "https://clientebancario.bportugal.pt/sites/default/files/precario/0008_/0008_PRE.pdf\n",
      "https://storage.googleapis.com/bank_price_pdfs/4_all_products_210412130952.pdf\n",
      "\n",
      "https://www.bancoctt.pt/\n",
      "https://clientebancario.bportugal.pt/sites/default/files/precario/0193_/0193_PRE.pdf\n",
      "https://storage.googleapis.com/bank_price_pdfs/5_all_products_210412131014.pdf\n",
      "\n"
     ]
    }
   ],
   "source": [
    "for val in data.values():\n",
    "    print(val.get('url'))\n",
    "    print(val.get('bp_pdf_url'))\n",
    "    print(f\"{val.get('list_pdfs').get('cloud_merged_url')}\\n\")"
   ]
  },
  {
   "cell_type": "markdown",
   "id": "1eb8819a",
   "metadata": {},
   "source": [
    "# Finding page on BP PDF"
   ]
  },
  {
   "cell_type": "code",
   "execution_count": 120,
   "id": "97e61a39",
   "metadata": {},
   "outputs": [],
   "source": [
    "request = { \n",
    "    '1': {\n",
    "              'url': 'www.abanca.pt',\n",
    "              'bp_pdf_url': 'https://clientebancario.bportugal.pt/sites/default/files/precario/0170_/0170_PRE.pdf',\n",
    "              'cloud_merged_url': 'https://storage.googleapis.com/bank_price_pdfs/1_all_products_210412130040.pdf',\n",
    "              'products':\n",
    "                            {\n",
    "                              'demand_deposit': {'withdrawal':['Emissão de extrato', 'Extrato Integrado', 'Extrato Mensal'],\n",
    "                                                'documents_copy':['Fotocópias de segundas vias de talões de depósito',\n",
    "                                                                'Emissão 2ªs Vias de Avisos e Outros Documentos', 'Extracto avulso',\n",
    "                                                                'Segundas vias (pedido na agência)'],\n",
    "                                                'portuguese':'Contas de Depósito'\n",
    "                                                },\n",
    "                              'housing_credit': {'comm_hash_2':'lala', \n",
    "                                                'portuguese':'Operações de crédito'}\n",
    "                            }\n",
    "            },\n",
    "    '2': {\n",
    "              'url': 'https://www.bankinter.pt',\n",
    "              'bp_pdf_url': 'https://clientebancario.bportugal.pt/sites/default/files/precario/0269_/0269_PRE.pdf',\n",
    "              'cloud_merged_url': 'https://storage.googleapis.com/bank_price_pdfs/2_all_products_210412130350.pdf',\n",
    "              'products':\n",
    "                           {\n",
    "                              'demand_deposit': {'withdrawal':['Emissão de extrato', 'Extrato Integrado', 'Extrato Mensal'],\n",
    "                                                'documents_copy':['Fotocópias de segundas vias de talões de depósito',\n",
    "                                                                'Emissão 2ªs Vias de Avisos e Outros Documentos', 'Extracto avulso',\n",
    "                                                                'Segundas vias (pedido na agência)'],\n",
    "                                                'portuguese':'Contas de Depósito'\n",
    "                                                },\n",
    "                              'housing_credit': {'comm_hash_2':'lala', \n",
    "                                                'portuguese':'Operações de crédito'}\n",
    "                            }\n",
    "            }\n",
    "             }"
   ]
  },
  {
   "cell_type": "code",
   "execution_count": 121,
   "id": "7f3c843e",
   "metadata": {},
   "outputs": [
    {
     "name": "stdout",
     "output_type": "stream",
     "text": [
      "url\n",
      "bp_pdf_url\n",
      "cloud_merged_url\n",
      "products\n",
      "url\n",
      "bp_pdf_url\n",
      "cloud_merged_url\n",
      "products\n"
     ]
    },
    {
     "data": {
      "text/plain": [
       "{'demand_deposit': {'withdrawal': ['Emissão de extrato',\n",
       "   'Extrato Integrado',\n",
       "   'Extrato Mensal'],\n",
       "  'documents_copy': ['Fotocópias de segundas vias de talões de depósito',\n",
       "   'Emissão 2ªs Vias de Avisos e Outros Documentos',\n",
       "   'Extracto avulso',\n",
       "   'Segundas vias (pedido na agência)'],\n",
       "  'portuguese': 'Contas de Depósito',\n",
       "  'pages': []},\n",
       " 'housing_credit': {'comm_hash_2': 'lala',\n",
       "  'portuguese': 'Operações de crédito',\n",
       "  'pages': []}}"
      ]
     },
     "execution_count": 121,
     "metadata": {},
     "output_type": "execute_result"
    }
   ],
   "source": [
    "string = 'Operações de crédito / Particulares – Pág. 1 /15'\n",
    "for i, val in request.items():\n",
    "    for k, v in val.items():\n",
    "        print(k)\n",
    "        ## opening the bp file\n",
    "#     looking for the products and their pt names\n",
    "    products = val.get('products')\n",
    "    for product, val in products.items():\n",
    "        val['pages'] = []\n",
    "#     pt_terms = {key:val.get('portuguese').lower() for (key, val) in products.items()}\n",
    "#     pt_terms_re = {key:re.sub('[^a-zA-Z0-9 \\n\\.]|\\sde\\s', '.{,5}', val)+'.{,5}particulares.{,5}p[áa]g' for (key,val) in pt_terms.items()}\n",
    "#     for product, term in pt_terms_re.items():\n",
    "#         print(f\"r'{term}'\")\n",
    "#         print(string.lower())\n",
    "#         if re.search(term, string.lower()):\n",
    "#             print('found')\n",
    "#             products[product]['pages'].append('yesso')\n",
    "products"
   ]
  },
  {
   "cell_type": "code",
   "execution_count": 112,
   "id": "4306fe4a",
   "metadata": {},
   "outputs": [],
   "source": [
    "single_bank = {\n",
    "              'url': 'www.abanca.pt',\n",
    "              'bp_pdf_url': 'https://clientebancario.bportugal.pt/sites/default/files/precario/0170_/0170_PRE.pdf',\n",
    "              'cloud_merged_url': 'https://storage.googleapis.com/bank_price_pdfs/1_all_products_210412130040.pdf',\n",
    "              'products':\n",
    "                            {\n",
    "                              'demand_deposit': {'withdrawal':['Emissão de extrato', 'Extrato Integrado', 'Extrato Mensal'],\n",
    "                                                'documents_copy':['Fotocópias de segundas vias de talões de depósito',\n",
    "                                                                'Emissão 2ªs Vias de Avisos e Outros Documentos', 'Extracto avulso',\n",
    "                                                                'Segundas vias (pedido na agência)'],\n",
    "                                                'portuguese':'Contas de Depósito'\n",
    "                                                },\n",
    "                              'housing_credit': {'comm_hash_2':'lala', \n",
    "                                                'portuguese':'Operações de crédito'}\n",
    "                            }\n",
    "            }"
   ]
  },
  {
   "cell_type": "code",
   "execution_count": 114,
   "id": "e3afc164",
   "metadata": {},
   "outputs": [
    {
     "data": {
      "text/plain": [
       "'https://clientebancario.bportugal.pt/sites/default/files/precario/0170_/0170_PRE.pdf'"
      ]
     },
     "execution_count": 114,
     "metadata": {},
     "output_type": "execute_result"
    }
   ],
   "source": [
    "single_bank.get('bp_pdf_url')\n"
   ]
  },
  {
   "cell_type": "code",
   "execution_count": 111,
   "id": "7aa31d4d",
   "metadata": {},
   "outputs": [
    {
     "data": {
      "text/plain": [
       "{'demand_deposit': {'withdrawal': ['Emissão de extrato',\n",
       "   'Extrato Integrado',\n",
       "   'Extrato Mensal'],\n",
       "  'documents_copy': ['Fotocópias de segundas vias de talões de depósito',\n",
       "   'Emissão 2ªs Vias de Avisos e Outros Documentos',\n",
       "   'Extracto avulso',\n",
       "   'Segundas vias (pedido na agência)'],\n",
       "  'portuguese': 'Contas de Depósito',\n",
       "  'pages': [5, 6, 7, 8]},\n",
       " 'housing_credit': {'comm_hash_2': 'lala',\n",
       "  'portuguese': 'Operações de crédito',\n",
       "  'pages': [9,\n",
       "   10,\n",
       "   11,\n",
       "   12,\n",
       "   13,\n",
       "   14,\n",
       "   15,\n",
       "   16,\n",
       "   17,\n",
       "   18,\n",
       "   19,\n",
       "   20,\n",
       "   21,\n",
       "   22,\n",
       "   23,\n",
       "   24,\n",
       "   25,\n",
       "   26,\n",
       "   27,\n",
       "   28,\n",
       "   29,\n",
       "   30,\n",
       "   31,\n",
       "   32,\n",
       "   33,\n",
       "   34,\n",
       "   35,\n",
       "   36,\n",
       "   37,\n",
       "   38,\n",
       "   39,\n",
       "   40]}}"
      ]
     },
     "execution_count": 111,
     "metadata": {},
     "output_type": "execute_result"
    }
   ],
   "source": [
    "for i, val in request.items():\n",
    "    ## opening the bp file\n",
    "    url = val.get('bp_pdf_url')\n",
    "    remote = urlopen(Request(url)).read()\n",
    "    memory = BytesIO(remote)\n",
    "    pdf = pdfplumber.open(memory)\n",
    "    # looking for the products\n",
    "    products = val.get('products')\n",
    "    # initializing 'pages' list inside products\n",
    "    for product, val in products.items():\n",
    "        val['pages'] = []\n",
    "    # avoiding loading time => looking for all product terms on each page instead of one product per loop\n",
    "    pt_terms = {key:val.get('portuguese').lower() for (key, val) in products.items()}\n",
    "    pt_terms_re = {key:re.sub('[^a-zA-Z0-9 \\n\\.]|\\sde\\s', '.{,5}', val)+'.{,5}particulares.{,5}p[áa]g' for (key,val) in pt_terms.items()}\n",
    "    \n",
    "    for page in pdf.pages:\n",
    "        text = page.extract_text().lower()\n",
    "        for product, term in pt_terms_re.items():\n",
    "            if re.search(term, text):\n",
    "                products[product]['pages'].append(page.page_number)\n",
    "products"
   ]
  },
  {
   "cell_type": "code",
   "execution_count": 4,
   "id": "f1a0a00a",
   "metadata": {},
   "outputs": [],
   "source": [
    "searchterms = {'Demand Deposits':r'[cC]ontas\\sde\\s[dD]ep[oó]sito.+articulares.+P[áa]g',\n",
    "            'Housing Credit':r\"[Oo]pera[çc][õo]es.{,4}[Cc]r[ée]dito.+articulares.+P[áa]g\"\n",
    "           }\n",
    "\n",
    "# Operações de crédito / Particulares – Pág. 1 /15 \n",
    "# Operações de Crédito / Particulares - Página 1 / 32\n",
    "# Operações de Crédito / Particulares - Pág. 1 /29\n",
    "# Operações Crédito-Particulares - Pág.1/2"
   ]
  },
  {
   "cell_type": "code",
   "execution_count": 5,
   "id": "4c7db376",
   "metadata": {
    "scrolled": false
   },
   "outputs": [
    {
     "data": {
      "text/plain": [
       "{'1': {'Demand Deposits': [5, 6],\n",
       "  'Housing Credit': [7, 8, 9, 10, 11, 12, 13, 14, 15, 16, 17, 18, 19, 20, 21]},\n",
       " '2': {'Demand Deposits': [5, 6, 7, 8],\n",
       "  'Housing Credit': [9,\n",
       "   10,\n",
       "   11,\n",
       "   12,\n",
       "   13,\n",
       "   14,\n",
       "   15,\n",
       "   16,\n",
       "   17,\n",
       "   18,\n",
       "   19,\n",
       "   20,\n",
       "   21,\n",
       "   22,\n",
       "   23,\n",
       "   24,\n",
       "   25,\n",
       "   26,\n",
       "   27,\n",
       "   28,\n",
       "   29,\n",
       "   30,\n",
       "   31,\n",
       "   32,\n",
       "   33,\n",
       "   34,\n",
       "   35,\n",
       "   36,\n",
       "   37,\n",
       "   38,\n",
       "   39,\n",
       "   40]},\n",
       " '3': {'Demand Deposits': [5, 6, 7],\n",
       "  'Housing Credit': [8,\n",
       "   9,\n",
       "   10,\n",
       "   11,\n",
       "   12,\n",
       "   13,\n",
       "   14,\n",
       "   15,\n",
       "   16,\n",
       "   17,\n",
       "   18,\n",
       "   19,\n",
       "   20,\n",
       "   21,\n",
       "   22,\n",
       "   23,\n",
       "   24,\n",
       "   25,\n",
       "   26,\n",
       "   27,\n",
       "   28,\n",
       "   29,\n",
       "   30,\n",
       "   31,\n",
       "   32,\n",
       "   33,\n",
       "   34,\n",
       "   35,\n",
       "   36]},\n",
       " '4': {'Demand Deposits': [5, 6], 'Housing Credit': [7, 8]},\n",
       " '5': {'Demand Deposits': [5, 6], 'Housing Credit': [7, 8]}}"
      ]
     },
     "execution_count": 5,
     "metadata": {},
     "output_type": "execute_result"
    }
   ],
   "source": [
    "def page_finder(searchterms):\n",
    "    products = {}\n",
    "    for k, val in data.items():\n",
    "        url = val.get('bp_pdf_url')\n",
    "        remote = urlopen(Request(url)).read()\n",
    "        memory = BytesIO(remote)\n",
    "\n",
    "        pdf = pdfplumber.open(memory)\n",
    "        products[k] = {'Demand Deposits':[],\n",
    "                      'Housing Credit':[]}\n",
    "        for page in pdf.pages:\n",
    "            if re.search(searchterms.get('Demand Deposits'), page.extract_text()):\n",
    "                products[k]['Demand Deposits'].append(page.page_number)\n",
    "            if re.search(searchterms.get('Housing Credit'), page.extract_text()):\n",
    "                products[k]['Housing Credit'].append(page.page_number)\n",
    "\n",
    "    return products"
   ]
  },
  {
   "cell_type": "code",
   "execution_count": null,
   "id": "cc788c65",
   "metadata": {},
   "outputs": [],
   "source": []
  },
  {
   "cell_type": "code",
   "execution_count": null,
   "id": "2b75b289",
   "metadata": {},
   "outputs": [],
   "source": []
  },
  {
   "cell_type": "code",
   "execution_count": null,
   "id": "841cd07b",
   "metadata": {},
   "outputs": [],
   "source": []
  },
  {
   "cell_type": "code",
   "execution_count": null,
   "id": "98753cc0",
   "metadata": {},
   "outputs": [],
   "source": []
  }
 ],
 "metadata": {
  "celltoolbar": "Tags",
  "kernelspec": {
   "display_name": "Python 3",
   "language": "python",
   "name": "python3"
  },
  "language_info": {
   "codemirror_mode": {
    "name": "ipython",
    "version": 3
   },
   "file_extension": ".py",
   "mimetype": "text/x-python",
   "name": "python",
   "nbconvert_exporter": "python",
   "pygments_lexer": "ipython3",
   "version": "3.9.1"
  },
  "toc": {
   "base_numbering": 1,
   "nav_menu": {},
   "number_sections": true,
   "sideBar": true,
   "skip_h1_title": false,
   "title_cell": "Table of Contents",
   "title_sidebar": "Contents",
   "toc_cell": false,
   "toc_position": {},
   "toc_section_display": true,
   "toc_window_display": false
  }
 },
 "nbformat": 4,
 "nbformat_minor": 5
}
