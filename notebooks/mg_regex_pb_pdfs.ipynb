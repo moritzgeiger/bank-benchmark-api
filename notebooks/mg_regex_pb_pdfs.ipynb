{
 "cells": [
  {
   "cell_type": "markdown",
   "id": "bd98105e",
   "metadata": {},
   "source": [
    "# Imports"
   ]
  },
  {
   "cell_type": "code",
   "execution_count": 1,
   "id": "84be1497",
   "metadata": {},
   "outputs": [
    {
     "name": "stderr",
     "output_type": "stream",
     "text": [
      "/Users/moritzgeiger/.pyenv/versions/3.9.1/envs/pwc/lib/python3.9/site-packages/pandas/compat/__init__.py:97: UserWarning: Could not import the lzma module. Your installed Python is incomplete. Attempting to use lzma compression will result in a RuntimeError.\n",
      "  warnings.warn(msg)\n"
     ]
    }
   ],
   "source": [
    "import pandas as pd\n",
    "import numpy as np\n",
    "import requests\n",
    "from PyPDF2 import PdfFileReader, PdfFileMerger, PdfFileWriter\n",
    "import PyPDF2\n",
    "from bs4 import BeautifulSoup\n",
    "import os\n",
    "import shutil\n",
    "from urllib.parse import urljoin\n",
    "from urllib.request import Request, urlopen\n",
    "from io import StringIO, BytesIO\n",
    "import cloudinary.uploader\n",
    "import json\n",
    "from google.cloud import storage\n",
    "import pdfminer.layout\n",
    "import pdfminer.high_level\n",
    "import pdfplumber\n",
    "import pdfminer.pdftypes\n",
    "from pdfminer.high_level import extract_pages\n",
    "from pdfminer.layout import LTTextContainer, LTChar, LTTextBox\n",
    "from pdfminer.pdfpage import PDFPage\n",
    "\n",
    "import re"
   ]
  },
  {
   "cell_type": "code",
   "execution_count": 2,
   "id": "5b37ea04",
   "metadata": {},
   "outputs": [
    {
     "data": {
      "text/plain": [
       "['Conta que permite aceder aos seguintes produtos e serviços, mediante o pagamento de uma',\n",
       " 'Conta para clientes sem crédito no ABANCA e com aplicações financeiras de valor inferior',\n",
       " 'Conta para clientes dos 0 aos 28 anos.',\n",
       " 'Conta regulada pelo Decreto-Lei n.º 27 C/2000, de 10 de março, com alterações posteriores.']"
      ]
     },
     "execution_count": 2,
     "metadata": {},
     "output_type": "execute_result"
    }
   ],
   "source": [
    "[\"Conta que permite aceder aos seguintes produtos e servi\\u00e7os, mediante o pagamento de uma\",           \n",
    "\"Conta para clientes sem cr\\u00e9dito no ABANCA e com aplica\\u00e7\\u00f5es financeiras de valor inferior\",\n",
    "\"Conta para clientes dos 0 aos 28 anos.\",         \n",
    "\"Conta regulada pelo Decreto-Lei n.\\u00ba 27 C/2000, de 10 de mar\\u00e7o, com altera\\u00e7\\u00f5es posteriores.\"]"
   ]
  },
  {
   "cell_type": "code",
   "execution_count": 3,
   "id": "05588ae1",
   "metadata": {},
   "outputs": [],
   "source": [
    "URL = 'https://clientebancario.bportugal.pt/sites/default/files/precario/0170_/0170_PRE.pdf'\n",
    "remote = urlopen(Request(URL)).read()\n",
    "memory = BytesIO(remote)\n",
    "\n",
    "pdf = pdfplumber.open(memory)"
   ]
  },
  {
   "cell_type": "markdown",
   "id": "a1fc0e11",
   "metadata": {},
   "source": [
    "# Sources"
   ]
  },
  {
   "cell_type": "code",
   "execution_count": 4,
   "id": "1a157240",
   "metadata": {},
   "outputs": [],
   "source": [
    "data = {\"1\": {\"bp_bank_id\": \"0170\", \"last_updated\": \"2021-04-12\", \"url\": \"https://www.abanca.pt\", \"bp_pdf_url\": \"https://clientebancario.bportugal.pt/sites/default/files/precario/0170_/0170_PRE.pdf\", \"price_page\": \"https://www.abanca.pt/pt/precario/\", \"list_pdfs\": {\"urls\": [\"https://www.abanca.pt/files/documents/precario-folheto-comissoes-823a7663.pdf\", \"https://www.abanca.pt/files/documents/folheto-taxa-juro-precario-5890906f.pdf\", \"https://www.abanca.pt/files/documents/precariodevaloresmobiliarios-23c714a2.pdf\", \"https://www.abanca.pt/files/documents/glossario-6479e89f.pdf\", \"https://www.abanca.pt/files/docs/leaflet-your-rights-payments-eu.pdf\"], \"cloud_url_size\": \"2129289\", \"cloud_merged_url\": \"https://storage.googleapis.com/bank_price_pdfs/1_all_products_210412130040.pdf\"}, \"num_pdfs\": 5, \"status\": \"ok\"}, \"2\": {\"bp_bank_id\": \"0269\", \"last_updated\": \"2021-04-12\", \"url\": \"https://www.bankinter.pt\", \"bp_pdf_url\": \"https://clientebancario.bportugal.pt/sites/default/files/precario/0269_/0269_PRE.pdf\", \"price_page\": \"https://www.bankinter.pt/precario1\", \"list_pdfs\": {\"urls\": [\"https://www.bankinter.pt/documents/20182/115991/Pre%25C3%25A7%25C3%25A1rio%2BCompleto%2BTFSI%2B%2B20210401.pdf/c489f0cd-3831-4441-812e-f351741d2b22\", \"https://banco.bankinter.pt/particulares/pdfs/precario/folha_rosto.pdf\", \"https://banco.bankinter.pt/particulares/pdfs/precario/informacao_geral.pdf\", \"https://banco.bankinter.pt/particulares/pdfs/precario/informacao_complementar.pdf\", \"https://banco.bankinter.pt/particulares/pdfs/precario/p_fcd_contas_deposito.pdf\", \"https://banco.bankinter.pt/particulares/pdfs/precario/p_fcd_operacoes_credito.pdf\", \"https://banco.bankinter.pt/particulares/pdfs/precario/p_fcd_cartoes_credito_debito.pdf\", \"https://banco.bankinter.pt/particulares/pdfs/precario/p_fcd_cheques.pdf\", \"https://banco.bankinter.pt/particulares/pdfs/precario/p_fcd_transferencias.pdf\", \"https://banco.bankinter.pt/particulares/pdfs/precario/p_fcd_cobrancas.pdf\", \"https://banco.bankinter.pt/particulares/pdfs/precario/p_fcd_prestacao_servicos.pdf\", \"https://banco.bankinter.pt/particulares/pdfs/precario/o_fcd_contas_deposito.pdf\", \"https://banco.bankinter.pt/particulares/pdfs/precario/o_fcd_operacoes_credito.pdf\", \"https://banco.bankinter.pt/particulares/pdfs/precario/o_fcd_cartoes_credito_debito.pdf\", \"https://banco.bankinter.pt/particulares/pdfs/precario/o_fcd_cheques.pdf\", \"https://banco.bankinter.pt/particulares/pdfs/precario/o_fcd_transferencias.pdf\", \"https://banco.bankinter.pt/particulares/pdfs/precario/o_fcd_cobrancas.pdf\", \"https://banco.bankinter.pt/particulares/pdfs/precario/o_fcd_prestacao_servicos.pdf\", \"https://banco.bankinter.pt/particulares/pdfs/precario/o_fcd_operacoes_estrangeiro.pdf\", \"https://banco.bankinter.pt/particulares/pdfs/precario/p_ftj_contas_deposito.pdf\", \"https://banco.bankinter.pt/particulares/pdfs/precario/p_ftj_operacoes_credito.pdf\", \"https://banco.bankinter.pt/particulares/pdfs/precario/o_ftj_contas_deposito.pdf\", \"https://banco.bankinter.pt/particulares/pdfs/precario/o_ftj_operacoes_credito.pdf\", \"https://banco.bankinter.pt/particulares/pdfs/precario/ptfs_a.pdf\", \"https://banco.bankinter.pt/particulares/pdfs/precario/ptfs_b.pdf\", \"https://banco.bankinter.pt/particulares/pdfs/precario/ptfs_c.pdf\", \"https://banco.bankinter.pt/particulares/pdfs/precario/ptfs_d.pdf\"], \"cloud_url_size\": \"89399717\", \"cloud_merged_url\": \"https://storage.googleapis.com/bank_price_pdfs/2_all_products_210412130350.pdf\"}, \"num_pdfs\": 27, \"status\": \"ok\"}, \"3\": {\"bp_bank_id\": \"0079\", \"last_updated\": \"2021-04-12\", \"url\": \"https://www.bancobic.ao\", \"bp_pdf_url\": \"https://clientebancario.bportugal.pt/sites/default/files/precario/0079_/0079_PRE_0.pdf\", \"price_page\": \"https://www.bancobic.ao/inicio/precario\", \"list_pdfs\": {\"urls\": [\"https://www.bancobic.ao/dotAsset/0f07d8a4-4ec3-4111-a453-c4ee14d5c66c.pdf\", \"https://www.bancobic.ao/dotAsset/7e1e6dd2-9d56-43ef-b398-ac3bac3cc70e.pdf\"], \"cloud_url_size\": \"2865533\", \"cloud_merged_url\": \"https://storage.googleapis.com/bank_price_pdfs/3_all_products_210412130840.pdf\"}, \"num_pdfs\": 2, \"status\": \"ok\"}, \"4\": {\"bp_bank_id\": \"0008\", \"last_updated\": \"2021-04-12\", \"url\": \"https://www.bancobai.ao\", \"bp_pdf_url\": \"https://clientebancario.bportugal.pt/sites/default/files/precario/0008_/0008_PRE.pdf\", \"price_page\": \"https://www.bancobai.ao/pt/pre%C3%A7%C3%A1rio\", \"list_pdfs\": {\"urls\": [\"https://www.bancobai.ao/media/2988/bai_pre_clientes-particulares_31-03-2021.pdf\", \"https://www.bancobai.ao/media/2989/bai_pre_outros-clientes_31-03-2021.pdf\", \"https://www.bancobai.ao/media/2823/bai_resumo-das-alteracoes-do-precario-bna-8-02-2021-cleaned.pdf\", \"https://www.bancobai.ao/media/2278/termos-e-condi%C3%A7%C3%B5es.pdf\"], \"cloud_url_size\": \"6081979\", \"cloud_merged_url\": \"https://storage.googleapis.com/bank_price_pdfs/4_all_products_210412130952.pdf\"}, \"num_pdfs\": 4, \"status\": \"ok\"}, \"5\": {\"bp_bank_id\": \"0193\", \"last_updated\": \"2021-04-12\", \"url\": \"https://www.bancoctt.pt/\", \"bp_pdf_url\": \"https://clientebancario.bportugal.pt/sites/default/files/precario/0193_/0193_PRE.pdf\", \"price_page\": \"https://www.bancoctt.pt/application/themes/pdfs/precario.pdf?language_id%3D1555597541833\", \"list_pdfs\": {\"urls\": [\"https://www.bancoctt.pt/application/themes/pdfs/precario.pdf?language_id%3D1555597541833\"], \"cloud_url_size\": \"2216262\", \"cloud_merged_url\": \"https://storage.googleapis.com/bank_price_pdfs/5_all_products_210412131014.pdf\"}, \"num_pdfs\": 1, \"status\": \"ok\"}}"
   ]
  },
  {
   "cell_type": "code",
   "execution_count": 3,
   "id": "9a4b35d0",
   "metadata": {},
   "outputs": [
    {
     "name": "stdout",
     "output_type": "stream",
     "text": [
      "https://www.abanca.pt\n",
      "https://clientebancario.bportugal.pt/sites/default/files/precario/0170_/0170_PRE.pdf\n",
      "https://storage.googleapis.com/bank_price_pdfs/1_all_products_210412130040.pdf\n",
      "\n",
      "https://www.bankinter.pt\n",
      "https://clientebancario.bportugal.pt/sites/default/files/precario/0269_/0269_PRE.pdf\n",
      "https://storage.googleapis.com/bank_price_pdfs/2_all_products_210412130350.pdf\n",
      "\n",
      "https://www.bancobic.ao\n",
      "https://clientebancario.bportugal.pt/sites/default/files/precario/0079_/0079_PRE_0.pdf\n",
      "https://storage.googleapis.com/bank_price_pdfs/3_all_products_210412130840.pdf\n",
      "\n",
      "https://www.bancobai.ao\n",
      "https://clientebancario.bportugal.pt/sites/default/files/precario/0008_/0008_PRE.pdf\n",
      "https://storage.googleapis.com/bank_price_pdfs/4_all_products_210412130952.pdf\n",
      "\n",
      "https://www.bancoctt.pt/\n",
      "https://clientebancario.bportugal.pt/sites/default/files/precario/0193_/0193_PRE.pdf\n",
      "https://storage.googleapis.com/bank_price_pdfs/5_all_products_210412131014.pdf\n",
      "\n"
     ]
    }
   ],
   "source": [
    "for val in data.values():\n",
    "    print(val.get('url'))\n",
    "    print(val.get('bp_pdf_url'))\n",
    "    print(f\"{val.get('list_pdfs').get('cloud_merged_url')}\\n\")"
   ]
  },
  {
   "cell_type": "markdown",
   "id": "1eb8819a",
   "metadata": {},
   "source": [
    "# Finding page on BP PDF"
   ]
  },
  {
   "cell_type": "code",
   "execution_count": 15,
   "id": "97e61a39",
   "metadata": {},
   "outputs": [],
   "source": [
    "request = { \n",
    "    '1': {\n",
    "              'url': 'www.abanca.pt',\n",
    "              'bp_pdf_url': 'https://clientebancario.bportugal.pt/sites/default/files/precario/0170_/0170_PRE.pdf',\n",
    "              'cloud_merged_url': 'https://storage.googleapis.com/bank_price_pdfs/1_all_products_210412130040.pdf',\n",
    "              'products':\n",
    "                            {\n",
    "                              'demand_deposit': {'withdrawal':['Emissão de extrato', 'Extrato Integrado', 'Extrato Mensal'],\n",
    "                                                'documents_copy':['Fotocópias de segundas vias de talões de depósito',\n",
    "                                                                'Emissão 2ªs Vias de Avisos e Outros Documentos', 'Extracto avulso',\n",
    "                                                                'Segundas vias (pedido na agência)'],\n",
    "                                                'portuguese':'Contas de Depósito'\n",
    "                                                },\n",
    "                              'housing_credit': {'comm_hash_2':'lala', \n",
    "                                                'portuguese':'Crédito à habitação e outros créditos hipotecários'}\n",
    "                            }\n",
    "            },\n",
    "    '2': {\n",
    "              'url': 'https://www.bankinter.pt',\n",
    "              'bp_pdf_url': 'https://clientebancario.bportugal.pt/sites/default/files/precario/0269_/0269_PRE.pdf',\n",
    "              'cloud_merged_url': 'https://storage.googleapis.com/bank_price_pdfs/2_all_products_210412130350.pdf',\n",
    "              'products':\n",
    "                           {\n",
    "                              'demand_deposit': {'withdrawal':['Emissão de extrato', 'Extrato Integrado', 'Extrato Mensal'],\n",
    "                                                'documents_copy':['Fotocópias de segundas vias de talões de depósito',\n",
    "                                                                'Emissão 2ªs Vias de Avisos e Outros Documentos', 'Extracto avulso',\n",
    "                                                                'Segundas vias (pedido na agência)'],\n",
    "                                                'portuguese':'Contas de Depósito'\n",
    "                                                },\n",
    "                              'housing_credit': {'comm_hash_2':'lala', \n",
    "                                                'portuguese':'Crédito à habitação e outros créditos hipotecários'}\n",
    "                            }\n",
    "            }\n",
    "             }"
   ]
  },
  {
   "cell_type": "code",
   "execution_count": 8,
   "id": "7f3c843e",
   "metadata": {},
   "outputs": [
    {
     "name": "stdout",
     "output_type": "stream",
     "text": [
      "url\n",
      "bp_pdf_url\n",
      "cloud_merged_url\n",
      "products\n",
      "r'contas.{,5}dep.{,5}sito.+particulares.{,5}p[áa]g'\n",
      "operações de crédito / particulares – pág. 1 /15\n",
      "r'cr.{,5}dito .{,5} habita.{,5}.{,5}o e outros cr.{,5}ditos hipotec.{,5}rios.+particulares.{,5}p[áa]g'\n",
      "operações de crédito / particulares – pág. 1 /15\n",
      "url\n",
      "bp_pdf_url\n",
      "cloud_merged_url\n",
      "products\n",
      "r'contas.{,5}dep.{,5}sito.+particulares.{,5}p[áa]g'\n",
      "operações de crédito / particulares – pág. 1 /15\n",
      "r'cr.{,5}dito .{,5} habita.{,5}.{,5}o e outros cr.{,5}ditos hipotec.{,5}rios.+particulares.{,5}p[áa]g'\n",
      "operações de crédito / particulares – pág. 1 /15\n"
     ]
    },
    {
     "data": {
      "text/plain": [
       "{'demand_deposit': {'withdrawal': ['Emissão de extrato',\n",
       "   'Extrato Integrado',\n",
       "   'Extrato Mensal'],\n",
       "  'documents_copy': ['Fotocópias de segundas vias de talões de depósito',\n",
       "   'Emissão 2ªs Vias de Avisos e Outros Documentos',\n",
       "   'Extracto avulso',\n",
       "   'Segundas vias (pedido na agência)'],\n",
       "  'portuguese': 'Contas de Depósito',\n",
       "  'pages': []},\n",
       " 'housing_credit': {'comm_hash_2': 'lala',\n",
       "  'portuguese': 'Crédito à habitação e outros créditos hipotecários',\n",
       "  'pages': []}}"
      ]
     },
     "execution_count": 8,
     "metadata": {},
     "output_type": "execute_result"
    }
   ],
   "source": [
    "string = 'Operações de crédito / Particulares – Pág. 1 /15'\n",
    "for i, val in request.items():\n",
    "    for k, v in val.items():\n",
    "        print(k)\n",
    "        ## opening the bp file\n",
    "#     looking for the products and their pt names\n",
    "    products = val.get('products')\n",
    "    for product, val in products.items():\n",
    "        val['pages'] = []\n",
    "    pt_terms = {key:val.get('portuguese').lower() for (key, val) in products.items()}\n",
    "    pt_terms_re = {key:re.sub(r'[^a-zA-Z0-9 \\n\\.]|\\sde\\s', '.{,5}', val)+'.+particulares.{,5}p[áa]g' for (key,val) in pt_terms.items()}\n",
    "    for product, term in pt_terms_re.items():\n",
    "        print(f\"r'{term}'\")\n",
    "        print(string.lower())\n",
    "        if re.search(term, string.lower()):\n",
    "            print('found')\n",
    "            products[product]['pages'].append('yesso')\n",
    "products"
   ]
  },
  {
   "cell_type": "code",
   "execution_count": 72,
   "id": "4306fe4a",
   "metadata": {},
   "outputs": [],
   "source": [
    "single_bank = {\n",
    "  \"1\": {\n",
    "    \"url\": \"www.abanca.pt\",\n",
    "    \"bp_pdf_url\": 'https://clientebancario.bportugal.pt/sites/default/files/precario/0170_/0170_PRE.pdf',\n",
    "    \"bp_bank_id\": '0170',\n",
    "    \"cloud_merged_url\": \"https://storage.googleapis.com/bank_price_pdfs/1_all_products_210412130040.pdf\",\n",
    "    \"products\": {\n",
    "      \"demand_deposit\": {\n",
    "        \"commissions\": {\n",
    "          \"statement\": [\n",
    "            \"Emissão de extrato\",\n",
    "            \"Extrato Integrado\",\n",
    "            \"Extrato Mensal\",\n",
    "            \"Extrato integrado\",\n",
    "            \"Extrato avulso\"\n",
    "          ],\n",
    "          \"documents_copy\": [\n",
    "            \"Fotocópias de segundas vias de talões de depósito\",\n",
    "            \"Emissão 2ªs Vias de Avisos e Outros Documentos\",\n",
    "            \"Extracto avulso\",\n",
    "            \"Segundas vias (pedido na agência)\"\n",
    "          ],\n",
    "          \"acc_manteinance\": [\n",
    "            \"Manutenção de conta\",\n",
    "            \"Comissão de manutenção de conta\",\n",
    "            \"Comissão de Manutenção de Conta\",\n",
    "            \"Manutenção de Conta Pacote\",\n",
    "            \"Manutenção de Conta Base\",\n",
    "            \"Manutenção de Conta Serviços Mínimos Bancários\"\n",
    "          ],\n",
    "          \"withdraw\": [\n",
    "            \"Levantamento de numerário\",\n",
    "            \"Levantamento de numerário ao balcão\",\n",
    "            \"Comissão de Levantamento\",\n",
    "            \"Levantamento de Numerário ao Balcão\",\n",
    "            \"Levantamento de Numerário ao Balcão\"\n",
    "          ],\n",
    "          \"online_service\": [\n",
    "            \"Adesão ao serviço de banca à distância\",\n",
    "            \"Adesão ao serviço online\"\n",
    "          ],\n",
    "          \"cash_deposit\": [\n",
    "            \"Depósito de moedas metálicas\",\n",
    "            \"Depósito de moedas\",\n",
    "            \" Depósito em moeda metálica (>= 100 moedas)\",\n",
    "            \"Depósito de moedas ao balcão\",\n",
    "            \"Depósito de dinheiro ao balcão\",\n",
    "            \"Depósito em moeda metálica (>= 100 moedas)\"\n",
    "          ],\n",
    "          \"change_holder\": [\n",
    "            \"Alteração de titulares\",\n",
    "            \"Alteração de titularidade\",\n",
    "            \"Comissão de Alteração de Titularidade\",\n",
    "            \"Alteração de titularidade / intervenientes\",\n",
    "            \"Alteração de titularidade (titular/ representante)\"\n",
    "          ],\n",
    "          \"bank_overdraft\": [\n",
    "            \"Comissões por descoberto bancário\",\n",
    "            \"Descoberto bancário\",\n",
    "            \"Comissões por Descoberto Bancário\"\n",
    "          ],\n",
    "          \"movement_consultation\": [\n",
    "            \"Consulta de Movimentos de conta DO com\",\n",
    "            \"Consulta de movimentos ao balcão\"\n",
    "          ],\n",
    "          \"balance_inquiry\": [\n",
    "            \"Pedido de saldo ao balcão\",\n",
    "            \"Consulta de Saldo de conta DO com comprovativo\"\n",
    "          ]\n",
    "        },\n",
    "        \"portuguese\": \"Contas de Depósito\"\n",
    "      },\n",
    "      \"housing_credit\": {\"portuguese\": \"Crédito à habitação e outros créditos hipotecários\"}\n",
    "    }\n",
    "  }\n",
    "}\n"
   ]
  },
  {
   "cell_type": "code",
   "execution_count": 96,
   "id": "611d5172",
   "metadata": {},
   "outputs": [],
   "source": [
    "test = 'crédito à habitação e outros créditos \\ncomissões \\nhipotecários'\n",
    "search = r'cr[.\\n]{,15}dito[.\\n]{,20}habita[.\\n]{,15}[.\\n]{,15}o[.\\n]{,15}outros[.\\n]{,15}cr[.\\n]{,15}ditos[.\\n]{,15}hipotec[.\\n]{,15}rios'\n",
    "re.search(search, test)"
   ]
  },
  {
   "cell_type": "code",
   "execution_count": 66,
   "id": "e70ebb7c",
   "metadata": {},
   "outputs": [
    {
     "name": "stdout",
     "output_type": "stream",
     "text": [
      "https://clientebancario.bportugal.pt/sites/default/files/precario/0170_/0170_PRE.pdf\n"
     ]
    }
   ],
   "source": [
    "link = single_bank.get('1').get('bp_pdf_url')\n",
    "print(link)\n",
    "remote = urlopen(Request(link)).read()\n",
    "memory = BytesIO(remote)\n",
    "pdf = pdfplumber.open(memory)\n",
    "relevant = pdf.pages[6].extract_text().lower()"
   ]
  },
  {
   "cell_type": "code",
   "execution_count": 60,
   "id": "067ba587",
   "metadata": {},
   "outputs": [
    {
     "data": {
      "text/plain": [
       "'entrada em vigor: 21-dez-2020 \\n \\n \\n2. operações de crédito (particulares)                                                                                      índice \\n2.1 crédito à habitação e outros créditos \\ncomissões \\nhipotecários (cont.)  acresce \\noutras condições \\n  euros  valor  imposto \\nem % \\n(mín/máx)  anual \\nproduto: crédito multiopções  \\ncaracterização do produto: crédito hipotecário cuja finalidade não seja enquadrável no crédito habitação ou em que não esteja definido o \\nfim a que se destina a quantia mutuada. \\ncomissões iniciais \\n1.  comissão de formalização  n/a  500,00  n/a  is – 4%   \\n2.  reanálise  n/a  250,00  n/a  iva – 23%  nota (10) \\n3.  avaliação \\n3.1 imóvel residencial  n/a  275,00  n/a \\niva – 23%  nota (14)  \\n3.2 garagens e arrecadações não anexas ao  n/a  130,00  n/a \\nimóvel residencial \\n4.  comissões associadas a atos \\nadministrativos \\nn/a  n/a  iva – 23%  vide nota (15) \\n    4.1 não realização da escritura  10,00 \\n 4.2 alteração do local da escritura  50,00 \\ncomissões durante a vigência do contrato \\n5.    comissão de reembolso antecipado parcial   \\npré-aviso de 7 dias úteis \\n5.1 taxa fixa  2,00%  n/a  n/a  is – 4% \\nvide nota (2) \\n5.2 taxa variável  0,50% \\n6.  comissão de recuperação de valores em       \\ndívida        \\nis – 4%  vide nota (12) \\n6.1  prestação até 50.000 €  4,00%  (12,00/150,00)  n/a \\n6.2  prestação > 50.000 €  0,50%  n/a  n/a \\n7.  comissões associadas a atos \\nn/a  50,00  n/a  iva – 23%  vide nota (4) \\nadministrativos – declarações de dívida         \\n8.  vistorias  n/a  vide nota (14)  n/a  iva – 23%   \\ncomissões no termo do contrato \\n9.  comissão de reembolso antecipado total   \\npré-aviso de 10 dias úteis \\n9.1 taxa fixa  2,00%  n/a  n/a  is – 4% \\nvide nota (3) \\n9.2 taxa variável  0,50% \\n10. emissão de extratos de conta de \\nn/a  100,00  n/a  iva – 23%  vide nota (13) \\nempréstimos liquidados \\n11. comissões associadas a atos       \\nadministrativos         iva – 23  vide nota (4) \\n11.1  declarações de dívida  n/a  50,00  n/a \\n12. comissões de deslocação \\n175,00 \\n12.1  até 100 kms \\nn/a  350,00  n/a  iva – 23%  vide nota (1) \\n12.2  101 a 250 kms \\n500,00 \\n12.3  > 250 kms \\noutras despesas associadas \\nimposto do selo sobre concessão de crédito  (nota   \\nn/a  n/a  n/a \\n(verba 17.1 da tgis)  5) \\n(notas \\nemolumentos do registo predial   n/a  n/a  n/a \\n6 e 9) \\n(notas \\nemolumentos notariais  n/a  n/a  iva – 23% \\n7 e 9)  estes emolumentos \\nemolumentos “casa pronta” (vide nota 9)          aplicam-se unicamente nos \\n          produtos com garantia \\n- formalização (vide nota 8)  n/a  700,00  n/a  n/a  hipotecária \\n- certidão permanente on-line   n/a  20,00  n/a  n/a \\n- desistência ou não conclusão do processo por         \\nmotivos imputáveis ao cliente  n/a  (nota 11)  n/a  n/a \\n \\n \\n \\n \\n \\n abanca                                                                          operações de crédito / particulares – pág. 2/15 \\n '"
      ]
     },
     "execution_count": 60,
     "metadata": {},
     "output_type": "execute_result"
    }
   ],
   "source": [
    "relevant"
   ]
  },
  {
   "cell_type": "code",
   "execution_count": 65,
   "id": "e3afc164",
   "metadata": {},
   "outputs": [],
   "source": []
  },
  {
   "cell_type": "code",
   "execution_count": 122,
   "id": "7aa31d4d",
   "metadata": {
    "scrolled": true
   },
   "outputs": [
    {
     "name": "stdout",
     "output_type": "stream",
     "text": [
      "Contas de Depósito\n",
      "Crédito à habitação e outros créditos hipotecários\n",
      "pt_terms: {'demand_deposit': 'contas[.\\n]*de[.\\n]*dep[.\\n]*sito[\\\\s\\\\S]*particulares.{,5}p[áa]g', 'housing_credit': 'cr[.\\n]*dito[.\\n]*[.\\n]*[.\\n]*habita[.\\n]*[.\\n]*o[.\\n]*e[.\\n]*outros[.\\n]*cr[.\\n]*ditos[.\\n]*hipotec[.\\n]*rios[\\\\s\\\\S]*particulares.{,5}p[áa]g'}\n",
      "continue search in page: 1\n",
      "continue search in page: 2\n",
      "continue search in page: 3\n",
      "continue search in page: 4\n",
      "continue search in page: 5\n",
      "continue search in page: 6\n",
      "continue search in page: 7\n",
      "continue search in page: 8\n",
      "continue search in page: 9\n",
      "continue search in page: 10\n",
      "continue search in page: 11\n",
      "continue search in page: 12\n",
      "continue search in page: 13\n",
      "continue search in page: 14\n",
      "continue search in page: 15\n",
      "continue search in page: 16\n",
      "continue search in page: 17\n",
      "continue search in page: 18\n",
      "continue search in page: 19\n",
      "continue search in page: 20\n",
      "continue search in page: 21\n",
      "continue search in page: 22\n",
      "continue search in page: 23\n",
      "continue search in page: 24\n",
      "continue search in page: 25\n",
      "continue search in page: 26\n",
      "continue search in page: 27\n",
      "continue search in page: 28\n",
      "continue search in page: 29\n",
      "continue search in page: 30\n",
      "continue search in page: 31\n",
      "continue search in page: 32\n",
      "continue search in page: 33\n",
      "continue search in page: 34\n",
      "continue search in page: 35\n",
      "continue search in page: 36\n",
      "continue search in page: 37\n",
      "continue search in page: 38\n",
      "continue search in page: 39\n",
      "continue search in page: 40\n",
      "continue search in page: 41\n",
      "continue search in page: 42\n",
      "continue search in page: 43\n",
      "continue search in page: 44\n",
      "continue search in page: 45\n",
      "continue search in page: 46\n",
      "continue search in page: 47\n",
      "continue search in page: 48\n",
      "continue search in page: 49\n",
      "continue search in page: 50\n",
      "continue search in page: 51\n",
      "continue search in page: 52\n",
      "continue search in page: 53\n",
      "continue search in page: 54\n",
      "continue search in page: 55\n",
      "continue search in page: 56\n",
      "continue search in page: 57\n",
      "continue search in page: 58\n",
      "continue search in page: 59\n"
     ]
    },
    {
     "data": {
      "text/plain": [
       "{'demand_deposit': {'commissions': {'statement': ['Emissão de extrato',\n",
       "    'Extrato Integrado',\n",
       "    'Extrato Mensal',\n",
       "    'Extrato integrado',\n",
       "    'Extrato avulso'],\n",
       "   'documents_copy': ['Fotocópias de segundas vias de talões de depósito',\n",
       "    'Emissão 2ªs Vias de Avisos e Outros Documentos',\n",
       "    'Extracto avulso',\n",
       "    'Segundas vias (pedido na agência)'],\n",
       "   'acc_manteinance': ['Manutenção de conta',\n",
       "    'Comissão de manutenção de conta',\n",
       "    'Comissão de Manutenção de Conta',\n",
       "    'Manutenção de Conta Pacote',\n",
       "    'Manutenção de Conta Base',\n",
       "    'Manutenção de Conta Serviços Mínimos Bancários'],\n",
       "   'withdraw': ['Levantamento de numerário',\n",
       "    'Levantamento de numerário ao balcão',\n",
       "    'Comissão de Levantamento',\n",
       "    'Levantamento de Numerário ao Balcão',\n",
       "    'Levantamento de Numerário ao Balcão'],\n",
       "   'online_service': ['Adesão ao serviço de banca à distância',\n",
       "    'Adesão ao serviço online'],\n",
       "   'cash_deposit': ['Depósito de moedas metálicas',\n",
       "    'Depósito de moedas',\n",
       "    ' Depósito em moeda metálica (>= 100 moedas)',\n",
       "    'Depósito de moedas ao balcão',\n",
       "    'Depósito de dinheiro ao balcão',\n",
       "    'Depósito em moeda metálica (>= 100 moedas)'],\n",
       "   'change_holder': ['Alteração de titulares',\n",
       "    'Alteração de titularidade',\n",
       "    'Comissão de Alteração de Titularidade',\n",
       "    'Alteração de titularidade / intervenientes',\n",
       "    'Alteração de titularidade (titular/ representante)'],\n",
       "   'bank_overdraft': ['Comissões por descoberto bancário',\n",
       "    'Descoberto bancário',\n",
       "    'Comissões por Descoberto Bancário'],\n",
       "   'movement_consultation': ['Consulta de Movimentos de conta DO com',\n",
       "    'Consulta de movimentos ao balcão'],\n",
       "   'balance_inquiry': ['Pedido de saldo ao balcão',\n",
       "    'Consulta de Saldo de conta DO com comprovativo']},\n",
       "  'portuguese': 'Contas de Depósito',\n",
       "  'pages': []},\n",
       " 'housing_credit': {'portuguese': 'Crédito à habitação e outros créditos hipotecários',\n",
       "  'pages': []}}"
      ]
     },
     "execution_count": 122,
     "metadata": {},
     "output_type": "execute_result"
    }
   ],
   "source": [
    "for i, val in single_bank.items():\n",
    "    ## opening the bp file\n",
    "    url = val.get('bp_pdf_url')\n",
    "    remote = urlopen(Request(url)).read()\n",
    "    memory = BytesIO(remote)\n",
    "    pdf = pdfplumber.open(memory)\n",
    "    # looking for the products\n",
    "    products = val.get('products')\n",
    "#     print(f'products: {products}')\n",
    "    # initializing 'pages' list inside products\n",
    "    for product, val in products.items():\n",
    "        print(val.get('portuguese'))\n",
    "        val['pages'] = []\n",
    "    # avoiding loading time => looking for all product terms on each page instead of one product per loop\n",
    "    pt_terms = {key:val.get('portuguese').lower() for (key, val) in products.items()}\n",
    "    # replacing special chars and whitespaces with \\s\n",
    "    sub = r'[^a-zA-Z0-9\\n\\.]|\\sde\\s|\\se\\s|\\s'\n",
    "    add = r'[\\s\\S]*particulares.{,5}p[áa]g'\n",
    "    pt_terms_re = {key:(re.sub(sub, '[.\\n]*', val)+add) for (key,val) in pt_terms.items()}\n",
    "    print(f'pt_terms: {pt_terms_re}')\n",
    "    for page in pdf.pages:\n",
    "        print(f'continue search in page: {page.page_number}')\n",
    "        text = page.extract_text().lower()\n",
    "        for product, term in pt_terms_re.items():\n",
    "            if re.search(term, text):\n",
    "                print(f'found term in page {page.page_number}, where: {re.search(term, text)}')\n",
    "                products[product]['pages'].append(page.page_number)\n",
    "products"
   ]
  },
  {
   "cell_type": "code",
   "execution_count": 4,
   "id": "f1a0a00a",
   "metadata": {},
   "outputs": [],
   "source": [
    "searchterms = {'Demand Deposits':r'[cC]ontas\\sde\\s[dD]ep[oó]sito.+articulares.+P[áa]g',\n",
    "            'Housing Credit':r\"[Oo]pera[çc][õo]es.{,4}[Cc]r[ée]dito.+articulares.+P[áa]g\"\n",
    "           }\n",
    "\n",
    "# Operações de crédito / Particulares – Pág. 1 /15 \n",
    "# Operações de Crédito / Particulares - Página 1 / 32\n",
    "# Operações de Crédito / Particulares - Pág. 1 /29\n",
    "# Operações Crédito-Particulares - Pág.1/2"
   ]
  },
  {
   "cell_type": "code",
   "execution_count": 5,
   "id": "4c7db376",
   "metadata": {
    "scrolled": false
   },
   "outputs": [
    {
     "data": {
      "text/plain": [
       "{'1': {'Demand Deposits': [5, 6],\n",
       "  'Housing Credit': [7, 8, 9, 10, 11, 12, 13, 14, 15, 16, 17, 18, 19, 20, 21]},\n",
       " '2': {'Demand Deposits': [5, 6, 7, 8],\n",
       "  'Housing Credit': [9,\n",
       "   10,\n",
       "   11,\n",
       "   12,\n",
       "   13,\n",
       "   14,\n",
       "   15,\n",
       "   16,\n",
       "   17,\n",
       "   18,\n",
       "   19,\n",
       "   20,\n",
       "   21,\n",
       "   22,\n",
       "   23,\n",
       "   24,\n",
       "   25,\n",
       "   26,\n",
       "   27,\n",
       "   28,\n",
       "   29,\n",
       "   30,\n",
       "   31,\n",
       "   32,\n",
       "   33,\n",
       "   34,\n",
       "   35,\n",
       "   36,\n",
       "   37,\n",
       "   38,\n",
       "   39,\n",
       "   40]},\n",
       " '3': {'Demand Deposits': [5, 6, 7],\n",
       "  'Housing Credit': [8,\n",
       "   9,\n",
       "   10,\n",
       "   11,\n",
       "   12,\n",
       "   13,\n",
       "   14,\n",
       "   15,\n",
       "   16,\n",
       "   17,\n",
       "   18,\n",
       "   19,\n",
       "   20,\n",
       "   21,\n",
       "   22,\n",
       "   23,\n",
       "   24,\n",
       "   25,\n",
       "   26,\n",
       "   27,\n",
       "   28,\n",
       "   29,\n",
       "   30,\n",
       "   31,\n",
       "   32,\n",
       "   33,\n",
       "   34,\n",
       "   35,\n",
       "   36]},\n",
       " '4': {'Demand Deposits': [5, 6], 'Housing Credit': [7, 8]},\n",
       " '5': {'Demand Deposits': [5, 6], 'Housing Credit': [7, 8]}}"
      ]
     },
     "execution_count": 5,
     "metadata": {},
     "output_type": "execute_result"
    }
   ],
   "source": [
    "def page_finder(searchterms):\n",
    "    products = {}\n",
    "    for k, val in data.items():\n",
    "        url = val.get('bp_pdf_url')\n",
    "        remote = urlopen(Request(url)).read()\n",
    "        memory = BytesIO(remote)\n",
    "\n",
    "        pdf = pdfplumber.open(memory)\n",
    "        products[k] = {'Demand Deposits':[],\n",
    "                      'Housing Credit':[]}\n",
    "        for page in pdf.pages:\n",
    "            if re.search(searchterms.get('Demand Deposits'), page.extract_text()):\n",
    "                products[k]['Demand Deposits'].append(page.page_number)\n",
    "            if re.search(searchterms.get('Housing Credit'), page.extract_text()):\n",
    "                products[k]['Housing Credit'].append(page.page_number)\n",
    "\n",
    "    return products"
   ]
  },
  {
   "cell_type": "code",
   "execution_count": null,
   "id": "cc788c65",
   "metadata": {},
   "outputs": [],
   "source": []
  },
  {
   "cell_type": "code",
   "execution_count": null,
   "id": "2b75b289",
   "metadata": {},
   "outputs": [],
   "source": []
  },
  {
   "cell_type": "code",
   "execution_count": null,
   "id": "841cd07b",
   "metadata": {},
   "outputs": [],
   "source": []
  },
  {
   "cell_type": "code",
   "execution_count": null,
   "id": "98753cc0",
   "metadata": {},
   "outputs": [],
   "source": []
  }
 ],
 "metadata": {
  "celltoolbar": "Tags",
  "kernelspec": {
   "display_name": "Python 3",
   "language": "python",
   "name": "python3"
  },
  "language_info": {
   "codemirror_mode": {
    "name": "ipython",
    "version": 3
   },
   "file_extension": ".py",
   "mimetype": "text/x-python",
   "name": "python",
   "nbconvert_exporter": "python",
   "pygments_lexer": "ipython3",
   "version": "3.9.1"
  },
  "toc": {
   "base_numbering": 1,
   "nav_menu": {},
   "number_sections": true,
   "sideBar": true,
   "skip_h1_title": false,
   "title_cell": "Table of Contents",
   "title_sidebar": "Contents",
   "toc_cell": false,
   "toc_position": {},
   "toc_section_display": true,
   "toc_window_display": false
  }
 },
 "nbformat": 4,
 "nbformat_minor": 5
}
