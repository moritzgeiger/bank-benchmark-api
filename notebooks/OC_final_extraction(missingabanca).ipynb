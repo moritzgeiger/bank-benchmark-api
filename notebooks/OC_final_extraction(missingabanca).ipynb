{
 "cells": [
  {
   "cell_type": "code",
   "execution_count": 1,
   "metadata": {},
   "outputs": [
    {
     "name": "stderr",
     "output_type": "stream",
     "text": [
      "/Users/olgacravesana/.pyenv/versions/3.8.6/envs/lewagon/lib/python3.8/site-packages/pandas/compat/__init__.py:97: UserWarning: Could not import the lzma module. Your installed Python is incomplete. Attempting to use lzma compression will result in a RuntimeError.\n",
      "  warnings.warn(msg)\n"
     ]
    }
   ],
   "source": [
    "%load_ext autoreload\n",
    "%autoreload 2 \n",
    "import pandas as pd\n",
    "import numpy as np\n",
    "import pdfplumber\n",
    "import re\n",
    "import nltk\n",
    "from urllib.parse import urljoin, quote_plus, quote, urlencode\n",
    "from urllib.request import Request, urlopen\n",
    "from io import StringIO, BytesIO\n",
    "from housecredit import HouseCredit\n",
    "from scraping import DemandDeposit"
   ]
  },
  {
   "cell_type": "markdown",
   "metadata": {
    "heading_collapsed": true
   },
   "source": [
    "# part one"
   ]
  },
  {
   "cell_type": "code",
   "execution_count": 81,
   "metadata": {
    "hidden": true
   },
   "outputs": [],
   "source": [
    "ctt = DemandDeposit('https://clientebancario.bportugal.pt/sites/default/files/precario/0193_/0193_PRE.pdf', [4], '4')"
   ]
  },
  {
   "cell_type": "code",
   "execution_count": 10,
   "metadata": {
    "hidden": true
   },
   "outputs": [],
   "source": [
    "ctt_sentences = ctt.values_sentence()"
   ]
  },
  {
   "cell_type": "code",
   "execution_count": 11,
   "metadata": {
    "hidden": true
   },
   "outputs": [
    {
     "data": {
      "text/plain": [
       "{'Contas de Depósito à Ordem (Comissões aplicáveis a todas as Contas).': {'Extrato Integrado': '0,00'},\n",
       " 'Conta Banco CTT .': {'Comissão de manutenção de conta': '0,00',\n",
       "  'Levantamento de Numerário ao Balcão': '5,00'},\n",
       " 'Conta Júnior (Montante Mínimo de Abertura 25,00€).': {'Comissão de manutenção de conta': '0,00',\n",
       "  'Levantamento de Numerário ao Balcão': '5,00'},\n",
       " 'Conta Base (Montante Mínimo de Abertura 100,00€).': {'Comissão de manutenção de conta': '4,50',\n",
       "  'Levantamento de Numerário ao Balcão': '5,00'},\n",
       " 'Conta de Serviços Mínimos Bancários .': {'Comissão de manutenção de conta': '0,00',\n",
       "  'Levantamento de Numerário ao Balcão': '0,00'},\n",
       " 'Banco CTT, S.A. Contas de Depósito-Particulares - Pág.1/2': {}}"
      ]
     },
     "execution_count": 11,
     "metadata": {},
     "output_type": "execute_result"
    }
   ],
   "source": [
    "ctt_sentences"
   ]
  },
  {
   "cell_type": "code",
   "execution_count": 13,
   "metadata": {
    "hidden": true
   },
   "outputs": [
    {
     "data": {
      "text/plain": [
       "{'Contas de Depósito à Ordem (Comissões aplicáveis a todas as Contas).': {'statement': '0,00'},\n",
       " 'Conta Banco CTT .': {'acc_manteinance': '0,00', 'withdraw': '5,00'},\n",
       " 'Conta Júnior (Montante Mínimo de Abertura 25,00€).': {'acc_manteinance': '0,00',\n",
       "  'withdraw': '5,00'},\n",
       " 'Conta Base (Montante Mínimo de Abertura 100,00€).': {'acc_manteinance': '4,50',\n",
       "  'withdraw': '5,00'},\n",
       " 'Conta de Serviços Mínimos Bancários .': {'acc_manteinance': '0,00',\n",
       "  'withdraw': '0,00'},\n",
       " 'Banco CTT, S.A. Contas de Depósito-Particulares - Pág.1/2': {}}"
      ]
     },
     "execution_count": 13,
     "metadata": {},
     "output_type": "execute_result"
    }
   ],
   "source": [
    "ctt.demand_depos()"
   ]
  },
  {
   "cell_type": "code",
   "execution_count": 14,
   "metadata": {
    "hidden": true
   },
   "outputs": [],
   "source": [
    "bic = DemandDeposit('https://clientebancario.bportugal.pt/sites/default/files/precario/0079_/0079_PRE_0.pdf',[4,6])\n",
    "dict_bic = bic.demand_depos()"
   ]
  },
  {
   "cell_type": "code",
   "execution_count": 15,
   "metadata": {
    "hidden": true
   },
   "outputs": [],
   "source": [
    "abanca = DemandDeposit('https://clientebancario.bportugal.pt/sites/default/files/precario/0170_/0170_PRE.pdf', [4])\n",
    "dict_abanca = abanca.demand_depos()"
   ]
  },
  {
   "cell_type": "code",
   "execution_count": 16,
   "metadata": {
    "hidden": true
   },
   "outputs": [
    {
     "data": {
      "text/plain": [
       "{'Conta à Ordem (5),': {'acc_manteinance': '500,00'},\n",
       " 'Conta à Ordem Emigrantes (5),': {'acc_manteinance': '500,00'},\n",
       " 'Conta Ordenado XL (12),': {'acc_manteinance': '500,00'},\n",
       " 'Conta à Ordem Sucursal Financeira Exterior Madeira (5)(6),': {'acc_manteinance': '5,50'},\n",
       " 'Conta Privilégio 55 (5)(7),': {'acc_manteinance': '5,50'},\n",
       " 'Conta à Ordem com Futuro 0,00 nan Nota 4': {'acc_manteinance': '5,50'},\n",
       " 'Conta Cool (contratações a partir de 13 de novembro 2014) 0,00 nan Notas 4,': {'acc_manteinance': '5,50'},\n",
       " 'Conta à Ordem Massa Insolvente 0,00 nan Nota 14': {'acc_manteinance': '5,50'},\n",
       " 'Conta BIC Salário Internacional (Fora de comercialização) 5,00 / mês 60,00 IS 4,00% Notas': {'acc_manteinance': '5,50'},\n",
       " 'Conta Base 5,00 / mês 60,00 IS 4,00% Notas 5, 8 3.': {'acc_manteinance': '5,50'},\n",
       " 'Conta EuroBic Prime com domiciliação de vencimento Nota 15 Sem condições de bonificação 5,50': {'acc_manteinance': '5,50'},\n",
       " 'Conta EuroBic Prime sem domiciliação de vencimento Nota 15 Sem condições de bonificação 7,50': {'acc_manteinance': '5,50'},\n",
       " 'Conta EuroBic 365 com domiciliação de vencimento Nota 16 Sem condições de bonificação 4,25': {'acc_manteinance': '5,50'},\n",
       " 'Conta EuroBic 365 sem domiciliação de vencimento Nota 16 Sem condições de bonificação 6,00': {'acc_manteinance': '5,50'},\n",
       " 'Conta EuroBic Sénior Sem crédito de vencimento e recursos ≤ 35.000 € 4,00 /': {'acc_manteinance': '5,50'},\n",
       " 'Conta EuroBic Mais (Fora de comercialização) Sem crédito de vencimento 7,00 / mês 84,00': {'acc_manteinance': '5,50'}}"
      ]
     },
     "execution_count": 16,
     "metadata": {},
     "output_type": "execute_result"
    }
   ],
   "source": [
    "dict_bic"
   ]
  },
  {
   "cell_type": "code",
   "execution_count": 18,
   "metadata": {
    "hidden": true
   },
   "outputs": [],
   "source": [
    "# dict_abanca"
   ]
  },
  {
   "cell_type": "code",
   "execution_count": 19,
   "metadata": {
    "hidden": true
   },
   "outputs": [
    {
     "data": {
      "text/plain": [
       "{'Conta de Serviços Mínimos Bancários Comissões vigência contrato 1.': {'acc_manteinance': '4,10'},\n",
       " 'Conta de Serviços Minímos Bancários: Condições de acesso: Particulares residentes num Estado Membro da': {},\n",
       " 'Conta de Serviços Mínimos Bancários não depende da aquisição de outros produtos ou serviços.': {}}"
      ]
     },
     "execution_count": 19,
     "metadata": {},
     "output_type": "execute_result"
    }
   ],
   "source": [
    "bai = DemandDeposit('https://clientebancario.bportugal.pt/sites/default/files/precario/0008_/0008_PRE.pdf',[4])\n",
    "bai.demand_depos()"
   ]
  },
  {
   "cell_type": "code",
   "execution_count": 283,
   "metadata": {
    "hidden": true
   },
   "outputs": [
    {
     "data": {
      "text/plain": [
       "{'Conta Bankinter (idade igual ou superior a 18 anos).': {'acc_manteinance': '0,00'},\n",
       " 'Conta Bankinter em Moeda Estrangeira.': {'acc_manteinance': '80,00'},\n",
       " 'Conta B Portugal em Moeda Estrangeira (Clientes Portugueses Não Residentes) -': {'acc_manteinance': '80,00'},\n",
       " 'Conta B Dynamic (idades entre 18 e 54 anos),': {'acc_manteinance': '80,00'},\n",
       " 'Conta B Relax (idade igual ou superior a 55 anos),': {'acc_manteinance': '80,00'},\n",
       " 'Conta Premier (Clientes Segmento Premier),': {'acc_manteinance': '80,00'},\n",
       " 'Conta Internacional (Clientes Estrangeiros Não Residentes em Portugal) - encerrada à comercialização.': {'acc_manteinance': '120,00'},\n",
       " 'Conta BK Mini (Antiga': {'acc_manteinance': '0,00'},\n",
       " 'Conta B Teen),': {'acc_manteinance': '0,00'},\n",
       " 'Conta Mediador de Seguros e': {'acc_manteinance': '0,00'},\n",
       " 'Conta B Kid (idades entre 0 e 13 anos),': {'acc_manteinance': '0,00'},\n",
       " 'Conta B U (Estudantes Universitários).': {'acc_manteinance': '0,00'},\n",
       " 'Conta B Prime (': {'acc_manteinance': '0,00'},\n",
       " 'Conta Ordenado para Clientes Barclaycard - descontinuada)': {'acc_manteinance': '0,00'},\n",
       " 'Conta B Dynamic + (': {'acc_manteinance': '0,00'},\n",
       " 'Conta B Relax + (': {'acc_manteinance': '0,00'},\n",
       " 'Conta Ordenado para Clientes com idade igual ou superior a 55 anos),': {'acc_manteinance': '0,00'},\n",
       " 'Conta Premier + (': {'acc_manteinance': '0,00'},\n",
       " 'Conta B Prime Plus (': {'acc_manteinance': '0,00'},\n",
       " 'Conta Ordenado para Clientes Barclaycard e para Clientes captados no âmbito da Parceria entre:': {'acc_manteinance': '0,00'},\n",
       " 'General': {'acc_manteinance': '0,00',\n",
       "  'withdraw': '4,81',\n",
       "  'change_holder': '7,00',\n",
       "  'bank_overdraft': '4,81'}}"
      ]
     },
     "execution_count": 283,
     "metadata": {},
     "output_type": "execute_result"
    }
   ],
   "source": [
    "bankinter = DemandDeposit('https://clientebancario.bportugal.pt/sites/default/files/precario/0269_/0269_PRE.pdf', [4],'5')\n",
    "bankinter.demand_depos()"
   ]
  },
  {
   "cell_type": "code",
   "execution_count": 40,
   "metadata": {
    "hidden": true
   },
   "outputs": [],
   "source": [
    " values_bank = bankinter.values()"
   ]
  },
  {
   "cell_type": "code",
   "execution_count": 41,
   "metadata": {
    "hidden": true
   },
   "outputs": [
    {
     "data": {
      "text/plain": [
       "{'Comissão de Manutenção de Conta': ['Comissão de Manutenção de Conta nan 0,00 nan nan nan nan nan 0,00 Conta Bankinter (idade igual ou superior a 18 anos). 20,00  1.',\n",
       "  'Comissão de Manutenção de Conta nan 80,00 4% nan nan nan 20,80 (trimestral) Ver Nota (1). (trimestral) - Conta Bankinter em Moeda Estrangeira.',\n",
       "  'Comissão de Manutenção de Conta nan 80,00 4% nan nan nan 20,80 (trimestral) Ver Nota (2). (trimestral) - Conta B Dynamic (idades entre 18 e 54 anos), Conta B Relax (idade igual ou superior a 55 anos), Conta Premier (Clientes Segmento Premier), Conta B  Portugal (Clientes Portugueses Não Residentes) - Contas encerradas à comercialização a partir de 15 de Novembro de 2013 inclusivé.',\n",
       "  'Comissão de Manutenção de Conta nan 80,00 4% nan nan nan 20,80 (trimestral) Ver Nota (3). (trimestral) Conta Internacional (Clientes Estrangeiros Não Residentes em Portugal) - encerrada à comercialização.',\n",
       "  'Comissão de Manutenção de Conta nan 120,00 4% nan nan nan 31,20 (trimestral) Ver Nota (3). (trimestral) - Conta BK Mini (Antiga Conta B Teen), Conta Mediador de Seguros e Conta Private  (Clientes Segmento Private); Conta Pessoal (Clientes Crédito ao  Consumo via internet- descontinuada); Conta B Kid (idades entre 0 e 13 anos), Conta B U (Estudantes Universitários).',\n",
       "  'Comissão de Manutenção de Conta nan 0,00 nan nan nan nan nan 0,00 nan - Conta B Prime (Conta Ordenado para Clientes Barclaycard - descontinuada); Conta B Dynamic + (Conta Ordenado para Clientes com idades entre 18 e 54  anos), Conta B Relax + (Conta Ordenado para Clientes com idade igual ou superior a 55 anos), Conta Premier + (Conta Ordenado para Clientes Segmento  Premier), Conta B Prime Plus (Conta Ordenado para Clientes Barclaycard e para Clientes captados no âmbito da Parceria entre: Plurimarketing –  Telemarketing e Marketing Directo, SA., Connecta – Avanzia – Call Center, LDA., AXA Portugal, Companhia de Seguros, SA. e o Bankinter) - Contas  descontinuadas.',\n",
       "  'Comissão de Manutenção de Conta nan 80,00 4% nan nan nan 20,80 (trimestral) Ver Nota (4). (trimestral) - Conta Serviços Mínimos Bancários 1,03  1.',\n",
       "  'Comissão de Manutenção de Conta nan 4,12 4% nan nan nan 1,07 (trimestral) Ver Nota (5). (trimestral) Descoberto Bancário 1 Comissões por Descoberto Bancário Ver Secção 2.5.'],\n",
       " 'Comissão de Levantamento': ['Descobertos Bancários Levantamento de Numerário Ocorre no momento do  Comissão de Levantamento de  levantamento de numerário  1 nan 4,81 nan 4% nan nan nan 5,00 Numerário ao balcão. Ver Nota (6) Alteração de Titulares em Contas de Depósito à Ordem 1.'],\n",
       " 'Comissão de Alteração de Titularidade': ['Comissão de Alteração de Titularidade nan 7,00 nan nan 23% 22% 18% 8,61 8,54 8,26 nan Processo de Habilitação de Herdeiros Comissão de Processo de Habilitação de  Herdeiros 1. nan 75,00 nan nan 23% 22% 18% 92,25 91,50 88,50 nan (Sem Produtos de Investimento/Seguros  associados) Comissão de Processo de Habilitação de  2. Herdeiros com Produtos de  nan 150,00 nan nan 23% 22% 18% 184,50 183,00 177,00 nan Investimento/Seguros associados Qualquer reclamação relacionada com as informações que constem deste(s) quadro(s) pode ser dirigida à Provedoria do Cliente através do telefone  800 261 820, fax 211 158 022, endereço de e-mail provedoria.cliente.pt@bankinter.com ou através de carta para Praça Marquês de Pombal, nº13, 2º andar,  1250-162 Lisboa.'],\n",
       " 'Comissões por Descoberto Bancário': ['(trimestral) Descoberto Bancário 1 Comissões por Descoberto Bancário Ver Secção 2.5. Descobertos Bancários Levantamento de Numerário Ocorre no momento do  Comissão de Levantamento de  levantamento de numerário  1 nan 4,81 nan 4% nan nan nan 5,00 Numerário ao balcão.']}"
      ]
     },
     "execution_count": 41,
     "metadata": {},
     "output_type": "execute_result"
    }
   ],
   "source": [
    "values_bank"
   ]
  },
  {
   "cell_type": "code",
   "execution_count": 42,
   "metadata": {
    "hidden": true
   },
   "outputs": [
    {
     "data": {
      "text/plain": [
       "{'Conta Bankinter (idade igual ou superior a 18 anos).': {'Comissão de Manutenção de Conta': '0,00'},\n",
       " 'Conta Bankinter em Moeda Estrangeira.': {'Comissão de Manutenção de Conta': '80,00'},\n",
       " 'Conta B Portugal em Moeda Estrangeira (Clientes Portugueses Não Residentes) -': {'Comissão de Manutenção de Conta': '80,00'},\n",
       " 'Conta B Dynamic (idades entre 18 e 54 anos),': {'Comissão de Manutenção de Conta': '80,00'},\n",
       " 'Conta B Relax (idade igual ou superior a 55 anos),': {'Comissão de Manutenção de Conta': '80,00'},\n",
       " 'Conta Premier (Clientes Segmento Premier),': {'Comissão de Manutenção de Conta': '80,00'},\n",
       " 'Conta Internacional (Clientes Estrangeiros Não Residentes em Portugal) - encerrada à comercialização.': {'Comissão de Manutenção de Conta': '120,00'},\n",
       " 'Conta BK Mini (Antiga': {'Comissão de Manutenção de Conta': '0,00'},\n",
       " 'Conta B Teen),': {'Comissão de Manutenção de Conta': '0,00'},\n",
       " 'Conta Mediador de Seguros e': {'Comissão de Manutenção de Conta': '0,00'},\n",
       " 'Conta B Kid (idades entre 0 e 13 anos),': {'Comissão de Manutenção de Conta': '0,00'},\n",
       " 'Conta B U (Estudantes Universitários).': {'Comissão de Manutenção de Conta': '0,00'},\n",
       " 'Conta B Prime (': {'Comissão de Manutenção de Conta': '0,00'},\n",
       " 'Conta Ordenado para Clientes Barclaycard - descontinuada)': {'Comissão de Manutenção de Conta': '0,00'},\n",
       " 'Conta B Dynamic + (': {'Comissão de Manutenção de Conta': '0,00'},\n",
       " 'Conta B Relax + (': {'Comissão de Manutenção de Conta': '0,00'},\n",
       " 'Conta Ordenado para Clientes com idade igual ou superior a 55 anos),': {'Comissão de Manutenção de Conta': '0,00'},\n",
       " 'Conta Premier + (': {'Comissão de Manutenção de Conta': '0,00'},\n",
       " 'Conta B Prime Plus (': {'Comissão de Manutenção de Conta': '0,00'},\n",
       " 'Conta Ordenado para Clientes Barclaycard e para Clientes captados no âmbito da Parceria entre:': {'Comissão de Manutenção de Conta': '0,00'}}"
      ]
     },
     "execution_count": 42,
     "metadata": {},
     "output_type": "execute_result"
    }
   ],
   "source": [
    "prices_bank =bankinter.values_sentence()\n",
    "prices_bank"
   ]
  },
  {
   "cell_type": "code",
   "execution_count": 43,
   "metadata": {
    "hidden": true
   },
   "outputs": [
    {
     "data": {
      "text/plain": [
       "[dict_keys(['Comissão de Manutenção de Conta']),\n",
       " dict_keys(['Comissão de Manutenção de Conta']),\n",
       " dict_keys(['Comissão de Manutenção de Conta']),\n",
       " dict_keys(['Comissão de Manutenção de Conta']),\n",
       " dict_keys(['Comissão de Manutenção de Conta']),\n",
       " dict_keys(['Comissão de Manutenção de Conta']),\n",
       " dict_keys(['Comissão de Manutenção de Conta']),\n",
       " dict_keys(['Comissão de Manutenção de Conta']),\n",
       " dict_keys(['Comissão de Manutenção de Conta']),\n",
       " dict_keys(['Comissão de Manutenção de Conta']),\n",
       " dict_keys(['Comissão de Manutenção de Conta']),\n",
       " dict_keys(['Comissão de Manutenção de Conta']),\n",
       " dict_keys(['Comissão de Manutenção de Conta']),\n",
       " dict_keys(['Comissão de Manutenção de Conta']),\n",
       " dict_keys(['Comissão de Manutenção de Conta']),\n",
       " dict_keys(['Comissão de Manutenção de Conta']),\n",
       " dict_keys(['Comissão de Manutenção de Conta']),\n",
       " dict_keys(['Comissão de Manutenção de Conta']),\n",
       " dict_keys(['Comissão de Manutenção de Conta']),\n",
       " dict_keys(['Comissão de Manutenção de Conta'])]"
      ]
     },
     "execution_count": 43,
     "metadata": {},
     "output_type": "execute_result"
    }
   ],
   "source": [
    "[objects.keys() for k,objects in prices_bank.items()]"
   ]
  },
  {
   "cell_type": "code",
   "execution_count": 45,
   "metadata": {
    "hidden": true
   },
   "outputs": [],
   "source": [
    "commissions = [objects.keys() for k,objects in prices_bank.items()]\n",
    "for k,sentences in values_bank.items():\n",
    "    if k not in commissions:\n",
    "        sentence = sentences[0]\n",
    "        price = re.search(r'(\\d+,\\d{2})',sentence)\n",
    "        if price:\n",
    "            found = price.group()\n",
    "            prices_bank[k]=found"
   ]
  },
  {
   "cell_type": "code",
   "execution_count": 47,
   "metadata": {
    "hidden": true
   },
   "outputs": [
    {
     "data": {
      "text/plain": [
       "{'Conta Bankinter (idade igual ou superior a 18 anos).': {'Comissão de Manutenção de Conta': '0,00'},\n",
       " 'Conta Bankinter em Moeda Estrangeira.': {'Comissão de Manutenção de Conta': '80,00'},\n",
       " 'Conta B Portugal em Moeda Estrangeira (Clientes Portugueses Não Residentes) -': {'Comissão de Manutenção de Conta': '80,00'},\n",
       " 'Conta B Dynamic (idades entre 18 e 54 anos),': {'Comissão de Manutenção de Conta': '80,00'},\n",
       " 'Conta B Relax (idade igual ou superior a 55 anos),': {'Comissão de Manutenção de Conta': '80,00'},\n",
       " 'Conta Premier (Clientes Segmento Premier),': {'Comissão de Manutenção de Conta': '80,00'},\n",
       " 'Conta Internacional (Clientes Estrangeiros Não Residentes em Portugal) - encerrada à comercialização.': {'Comissão de Manutenção de Conta': '120,00'},\n",
       " 'Conta BK Mini (Antiga': {'Comissão de Manutenção de Conta': '0,00'},\n",
       " 'Conta B Teen),': {'Comissão de Manutenção de Conta': '0,00'},\n",
       " 'Conta Mediador de Seguros e': {'Comissão de Manutenção de Conta': '0,00'},\n",
       " 'Conta B Kid (idades entre 0 e 13 anos),': {'Comissão de Manutenção de Conta': '0,00'},\n",
       " 'Conta B U (Estudantes Universitários).': {'Comissão de Manutenção de Conta': '0,00'},\n",
       " 'Conta B Prime (': {'Comissão de Manutenção de Conta': '0,00'},\n",
       " 'Conta Ordenado para Clientes Barclaycard - descontinuada)': {'Comissão de Manutenção de Conta': '0,00'},\n",
       " 'Conta B Dynamic + (': {'Comissão de Manutenção de Conta': '0,00'},\n",
       " 'Conta B Relax + (': {'Comissão de Manutenção de Conta': '0,00'},\n",
       " 'Conta Ordenado para Clientes com idade igual ou superior a 55 anos),': {'Comissão de Manutenção de Conta': '0,00'},\n",
       " 'Conta Premier + (': {'Comissão de Manutenção de Conta': '0,00'},\n",
       " 'Conta B Prime Plus (': {'Comissão de Manutenção de Conta': '0,00'},\n",
       " 'Conta Ordenado para Clientes Barclaycard e para Clientes captados no âmbito da Parceria entre:': {'Comissão de Manutenção de Conta': '0,00'},\n",
       " 'Comissão de Manutenção de Conta': '0,00',\n",
       " 'Comissão de Levantamento': '4,81',\n",
       " 'Comissão de Alteração de Titularidade': '7,00',\n",
       " 'Comissões por Descoberto Bancário': '4,81'}"
      ]
     },
     "execution_count": 47,
     "metadata": {},
     "output_type": "execute_result"
    }
   ],
   "source": [
    "prices_bank"
   ]
  },
  {
   "cell_type": "code",
   "execution_count": 58,
   "metadata": {
    "hidden": true
   },
   "outputs": [
    {
     "data": {
      "text/plain": [
       "{'Conta de Serviços Mínimos Bancários Comissões vigência contrato 1.': {'Manutenção de conta': '4,10'},\n",
       " 'Conta de Serviços Minímos Bancários: Condições de acesso: Particulares residentes num Estado Membro da': {},\n",
       " 'Conta de Serviços Mínimos Bancários não depende da aquisição de outros produtos ou serviços.': {},\n",
       " 'Levantamento de numerário': '20,00'}"
      ]
     },
     "execution_count": 58,
     "metadata": {},
     "output_type": "execute_result"
    }
   ],
   "source": [
    "bai.values_sentence()"
   ]
  },
  {
   "cell_type": "code",
   "execution_count": 59,
   "metadata": {
    "hidden": true
   },
   "outputs": [
    {
     "data": {
      "text/plain": [
       "{'Conta Bankinter (idade igual ou superior a 18 anos).': {'acc_manteinance': '0,00'},\n",
       " 'Conta Bankinter em Moeda Estrangeira.': {'acc_manteinance': '80,00'},\n",
       " 'Conta B Portugal em Moeda Estrangeira (Clientes Portugueses Não Residentes) -': {'acc_manteinance': '80,00'},\n",
       " 'Conta B Dynamic (idades entre 18 e 54 anos),': {'acc_manteinance': '80,00'},\n",
       " 'Conta B Relax (idade igual ou superior a 55 anos),': {'acc_manteinance': '80,00'},\n",
       " 'Conta Premier (Clientes Segmento Premier),': {'acc_manteinance': '80,00'},\n",
       " 'Conta Internacional (Clientes Estrangeiros Não Residentes em Portugal) - encerrada à comercialização.': {'acc_manteinance': '120,00'},\n",
       " 'Conta BK Mini (Antiga': {'acc_manteinance': '0,00'},\n",
       " 'Conta B Teen),': {'acc_manteinance': '0,00'},\n",
       " 'Conta Mediador de Seguros e': {'acc_manteinance': '0,00'},\n",
       " 'Conta B Kid (idades entre 0 e 13 anos),': {'acc_manteinance': '0,00'},\n",
       " 'Conta B U (Estudantes Universitários).': {'acc_manteinance': '0,00'},\n",
       " 'Conta B Prime (': {'acc_manteinance': '0,00'},\n",
       " 'Conta Ordenado para Clientes Barclaycard - descontinuada)': {'acc_manteinance': '0,00'},\n",
       " 'Conta B Dynamic + (': {'acc_manteinance': '0,00'},\n",
       " 'Conta B Relax + (': {'acc_manteinance': '0,00'},\n",
       " 'Conta Ordenado para Clientes com idade igual ou superior a 55 anos),': {'acc_manteinance': '0,00'},\n",
       " 'Conta Premier + (': {'acc_manteinance': '0,00'},\n",
       " 'Conta B Prime Plus (': {'acc_manteinance': '0,00'},\n",
       " 'Conta Ordenado para Clientes Barclaycard e para Clientes captados no âmbito da Parceria entre:': {'acc_manteinance': '0,00'},\n",
       " 'statement': '4,81',\n",
       " 'documents_copy': '4,81',\n",
       " 'acc_manteinance': '4,81',\n",
       " 'withdraw': '4,81',\n",
       " 'online_service': '4,81',\n",
       " 'cash_deposit': '4,81',\n",
       " 'change_holder': '4,81',\n",
       " 'bank_overdraft': '4,81',\n",
       " 'movement_consultation': '4,81',\n",
       " 'balance_inquiry': '4,81'}"
      ]
     },
     "execution_count": 59,
     "metadata": {},
     "output_type": "execute_result"
    }
   ],
   "source": [
    "bankinter.demand_depos()"
   ]
  },
  {
   "cell_type": "code",
   "execution_count": 70,
   "metadata": {
    "hidden": true
   },
   "outputs": [
    {
     "data": {
      "text/plain": [
       "{'demand_depos': {'subroducts': {'Conta de Serviços Mínimos Bancários Comissões vigência contrato 1.': {'acc_manteinance': '4,10'},\n",
       "   'Conta de Serviços Minímos Bancários: Condições de acesso: Particulares residentes num Estado Membro da': {},\n",
       "   'Conta de Serviços Mínimos Bancários não depende da aquisição de outros produtos ou serviços.': {},\n",
       "   'General': {'withdraw': '20,00'}},\n",
       "  'n_subproducts': 4},\n",
       " 'house_credit': {},\n",
       " 'term_depos': {}}"
      ]
     },
     "execution_count": 70,
     "metadata": {},
     "output_type": "execute_result"
    }
   ],
   "source": [
    "bai.output()"
   ]
  },
  {
   "cell_type": "code",
   "execution_count": 71,
   "metadata": {
    "hidden": true
   },
   "outputs": [
    {
     "data": {
      "text/plain": [
       "{'Conta de Serviços Mínimos Bancários Comissões vigência contrato 1.': {'Manutenção de conta': '4,10'},\n",
       " 'Conta de Serviços Minímos Bancários: Condições de acesso: Particulares residentes num Estado Membro da': {},\n",
       " 'Conta de Serviços Mínimos Bancários não depende da aquisição de outros produtos ou serviços.': {},\n",
       " 'General': {'Levantamento de numerário': '20,00'}}"
      ]
     },
     "execution_count": 71,
     "metadata": {},
     "output_type": "execute_result"
    }
   ],
   "source": [
    "bai.complete_info()"
   ]
  },
  {
   "cell_type": "code",
   "execution_count": 72,
   "metadata": {
    "hidden": true
   },
   "outputs": [
    {
     "data": {
      "text/plain": [
       "{'demand_depos': {'subroducts': {'Contas de Depósito à Ordem (Comissões aplicáveis a todas as Contas).': {'statement': '0,00'},\n",
       "   'Conta Banco CTT .': {'acc_manteinance': '0,00', 'withdraw': '5,00'},\n",
       "   'Conta Júnior (Montante Mínimo de Abertura 25,00€).': {'acc_manteinance': '0,00',\n",
       "    'withdraw': '5,00'},\n",
       "   'Conta Base (Montante Mínimo de Abertura 100,00€).': {'acc_manteinance': '4,50',\n",
       "    'withdraw': '5,00'},\n",
       "   'Conta de Serviços Mínimos Bancários .': {'acc_manteinance': '0,00',\n",
       "    'withdraw': '0,00'},\n",
       "   'Banco CTT, S.A. Contas de Depósito-Particulares - Pág.1/2': {},\n",
       "   'General': {'statement': '0,00',\n",
       "    'documents_copy': '5,00',\n",
       "    'acc_manteinance': '0,00',\n",
       "    'withdraw': '5,00',\n",
       "    'cash_deposit': '5,00',\n",
       "    'change_holder': '7,00',\n",
       "    'movement_consultation': '2,00',\n",
       "    'balance_inquiry': '0,50'}},\n",
       "  'n_subproducts': 6},\n",
       " 'house_credit': {},\n",
       " 'term_depos': {}}"
      ]
     },
     "execution_count": 72,
     "metadata": {},
     "output_type": "execute_result"
    }
   ],
   "source": [
    "ctt.output()"
   ]
  },
  {
   "cell_type": "code",
   "execution_count": 282,
   "metadata": {
    "hidden": true
   },
   "outputs": [],
   "source": [
    "abanca = DemandDeposit('https://clientebancario.bportugal.pt/sites/default/files/precario/0170_/0170_PRE.pdf', [4], '2')\n",
    "# abanca.values_sentence()"
   ]
  },
  {
   "cell_type": "code",
   "execution_count": 116,
   "metadata": {
    "hidden": true
   },
   "outputs": [],
   "source": [
    "first_search= abanca.values()\n",
    "values = abanca.indexes()[1]\n",
    "names = abanca.indexes()[0]\n",
    "text = abanca.tokenize()"
   ]
  },
  {
   "cell_type": "code",
   "execution_count": 121,
   "metadata": {
    "hidden": true
   },
   "outputs": [
    {
     "data": {
      "text/plain": [
       "14"
      ]
     },
     "execution_count": 121,
     "metadata": {},
     "output_type": "execute_result"
    }
   ],
   "source": [
    "len(names.keys())"
   ]
  },
  {
   "cell_type": "code",
   "execution_count": 183,
   "metadata": {
    "hidden": true
   },
   "outputs": [],
   "source": [
    "sentence_account = {}\n",
    "for conta,idx in names.items():\n",
    "    idx = idx[0]\n",
    "    closer = 0\n",
    "    types ={}\n",
    "    if list(names.keys())[0]== 'Conta D.O.':\n",
    "        types ={}\n",
    "        for title in first_search:\n",
    "    #         print(first_search[title])\n",
    "            if conta in first_search[title][0]:\n",
    "                idx = first_search[title][0].index(conta) + len(first_search[title][0]) - 1\n",
    "                decimal = re.search(r'(\\d+,\\d{2})',sentence[idx:])\n",
    "                if price:\n",
    "                    found = decimal.group(1)\n",
    "                    types[title] = found\n",
    "#                 print(idx,found)\n",
    "            else:\n",
    "                for commission,number_comm in values.items():\n",
    "                    for element in number_comm:\n",
    "                        if element >= idx and (element<closer or closer == 0):\n",
    "                            closer = element\n",
    "                            if r'(\\d+,\\d{2})' not in text[element]:\n",
    "                                sentence = text[element]\n",
    "                                sentence = ' '.join([sentence, text[element+1]])\n",
    "                                price = re.search(r'(\\d+,\\d{2})',sentence)\n",
    "                                if price:\n",
    "                                    found = price.group()\n",
    "                                    types[commission] = found\n",
    "                                if conta not in sentence_account:\n",
    "                                    sentence_account[conta] = types\n",
    "                            else:\n",
    "                                price = re.search(r'(\\d+,\\d{2})',sentence)\n",
    "                                if price:\n",
    "                                    found = price.group()\n",
    "                                    types[commission]= text[found]\n",
    "                                if conta not in sentence_account:\n",
    "                                    sentence_account[conta] = types  \n",
    "                    sentence_account[conta] = types \n",
    "\n",
    "    else:\n",
    "        for commission,number_comm in values.items():\n",
    "            for element in number_comm:\n",
    "                if element >= idx and (element<closer or closer == 0):\n",
    "                    closer = element\n",
    "                    if r'(\\d+,\\d{2})' not in text[element]:\n",
    "                        sentence = text[element]\n",
    "                        sentence = ' '.join([sentence, text[element+1]])\n",
    "                        price = re.search(r'(\\d+,\\d{2})',sentence)\n",
    "                        if price:\n",
    "                            found = price.group()\n",
    "                            types[commission] = found\n",
    "                        if conta not in sentence_account:\n",
    "                            sentence_account[conta] = types\n",
    "                    else:\n",
    "                        price = re.search(r'(\\d+,\\d{2})',sentence)\n",
    "                        if price:\n",
    "                            found = price.group()\n",
    "                            types[commission]= text[found]\n",
    "            sentence_account[conta] = types         \n",
    "# return sentence_accounta"
   ]
  },
  {
   "cell_type": "code",
   "execution_count": 184,
   "metadata": {
    "hidden": true
   },
   "outputs": [
    {
     "data": {
      "text/plain": [
       "{'Conta D.O.': {'Emissão de extrato': '0,00',\n",
       "  'Fotocópias de segundas vias de talões de depósito': '0,00',\n",
       "  'Manutenção de conta': '0,00'},\n",
       " 'Conta Ordenado': {'Emissão de extrato': '0,00',\n",
       "  'Manutenção de conta': '0,00'},\n",
       " 'Conta Standard': {'Emissão de extrato': '0,00',\n",
       "  'Manutenção de conta': '0,00'},\n",
       " 'Conta Future': {'Emissão de extrato': '0,00',\n",
       "  'Manutenção de Conta Pacote': '0,00'},\n",
       " 'Conta Kids': {'Manutenção de Conta Base': '10,00'},\n",
       " 'Conta Base': {'Emissão de extrato': '0,00',\n",
       "  'Manutenção de Conta Base': '0,00'},\n",
       " 'Conta Private': {'Emissão de extrato': '0,00'},\n",
       " 'Conta Value': {'Emissão de extrato': '0,00'},\n",
       " 'Conta Smart': {'Emissão de extrato': '0,00'},\n",
       " 'Conta Futuro': {'Emissão de extrato': '0,00'},\n",
       " 'Conta Moeda Estrangeira e': {'Emissão de extrato': '0,00'},\n",
       " 'Conta ABANCA Internacional.': {'Emissão de extrato': '0,00'},\n",
       " 'Conta para clientes dos 18 aos 28 anos.': {},\n",
       " 'Conta para clientes dos 0 aos 17 anos.': {}}"
      ]
     },
     "execution_count": 184,
     "metadata": {},
     "output_type": "execute_result"
    }
   ],
   "source": [
    "sentence_account"
   ]
  },
  {
   "cell_type": "code",
   "execution_count": 204,
   "metadata": {
    "hidden": true
   },
   "outputs": [
    {
     "name": "stdout",
     "output_type": "stream",
     "text": [
      "i'm going here\n"
     ]
    },
    {
     "ename": "ValueError",
     "evalue": "substring not found",
     "output_type": "error",
     "traceback": [
      "\u001b[0;31m---------------------------------------------------------------------------\u001b[0m",
      "\u001b[0;31mValueError\u001b[0m                                Traceback (most recent call last)",
      "\u001b[0;32m<ipython-input-204-b0b7870a9658>\u001b[0m in \u001b[0;36m<module>\u001b[0;34m\u001b[0m\n\u001b[0;32m----> 1\u001b[0;31m \u001b[0mabanca\u001b[0m\u001b[0;34m.\u001b[0m\u001b[0mvalues_sentence\u001b[0m\u001b[0;34m(\u001b[0m\u001b[0;34m)\u001b[0m\u001b[0;34m\u001b[0m\u001b[0;34m\u001b[0m\u001b[0m\n\u001b[0m",
      "\u001b[0;32m~/code/moritzgeiger/bank-benchmark-api/notebooks/scraping.py\u001b[0m in \u001b[0;36mvalues_sentence\u001b[0;34m(self)\u001b[0m\n\u001b[1;32m    212\u001b[0m                     \u001b[0;32mif\u001b[0m \u001b[0mconta\u001b[0m \u001b[0;32min\u001b[0m \u001b[0mfirst_search\u001b[0m\u001b[0;34m[\u001b[0m\u001b[0mtitle\u001b[0m\u001b[0;34m]\u001b[0m\u001b[0;34m[\u001b[0m\u001b[0;36m0\u001b[0m\u001b[0;34m]\u001b[0m\u001b[0;34m:\u001b[0m\u001b[0;34m\u001b[0m\u001b[0;34m\u001b[0m\u001b[0m\n\u001b[1;32m    213\u001b[0m                         \u001b[0midx\u001b[0m \u001b[0;34m=\u001b[0m \u001b[0mfirst_search\u001b[0m\u001b[0;34m[\u001b[0m\u001b[0mtitle\u001b[0m\u001b[0;34m]\u001b[0m\u001b[0;34m[\u001b[0m\u001b[0;36m0\u001b[0m\u001b[0;34m]\u001b[0m\u001b[0;34m.\u001b[0m\u001b[0mindex\u001b[0m\u001b[0;34m(\u001b[0m\u001b[0mconta\u001b[0m\u001b[0;34m)\u001b[0m \u001b[0;34m+\u001b[0m \u001b[0mlen\u001b[0m\u001b[0;34m(\u001b[0m\u001b[0mfirst_search\u001b[0m\u001b[0;34m[\u001b[0m\u001b[0mtitle\u001b[0m\u001b[0;34m]\u001b[0m\u001b[0;34m[\u001b[0m\u001b[0;36m0\u001b[0m\u001b[0;34m]\u001b[0m\u001b[0;34m)\u001b[0m \u001b[0;34m-\u001b[0m \u001b[0;36m1\u001b[0m\u001b[0;34m\u001b[0m\u001b[0;34m\u001b[0m\u001b[0m\n\u001b[0;32m--> 214\u001b[0;31m                         \u001b[0;32mif\u001b[0m \u001b[0mfull_text\u001b[0m\u001b[0;34m.\u001b[0m\u001b[0mindex\u001b[0m\u001b[0;34m(\u001b[0m\u001b[0mregex\u001b[0m \u001b[0;34m,\u001b[0m\u001b[0midx\u001b[0m\u001b[0;34m)\u001b[0m \u001b[0;34m==\u001b[0m \u001b[0;32mTrue\u001b[0m\u001b[0;34m:\u001b[0m\u001b[0;34m\u001b[0m\u001b[0;34m\u001b[0m\u001b[0m\n\u001b[0m\u001b[1;32m    215\u001b[0m                             \u001b[0mdecimal\u001b[0m \u001b[0;34m=\u001b[0m \u001b[0mfull_text\u001b[0m\u001b[0;34m.\u001b[0m\u001b[0mindex\u001b[0m\u001b[0;34m(\u001b[0m\u001b[0mregex\u001b[0m \u001b[0;34m,\u001b[0m\u001b[0midx\u001b[0m\u001b[0;34m)\u001b[0m\u001b[0;34m\u001b[0m\u001b[0;34m\u001b[0m\u001b[0m\n\u001b[1;32m    216\u001b[0m \u001b[0;34m\u001b[0m\u001b[0m\n",
      "\u001b[0;31mValueError\u001b[0m: substring not found"
     ]
    }
   ],
   "source": [
    "abanca.values_sentence()\n"
   ]
  },
  {
   "cell_type": "code",
   "execution_count": 205,
   "metadata": {
    "hidden": true
   },
   "outputs": [
    {
     "data": {
      "text/plain": [
       "{'demand_depos': {'subroducts': {'Conta D.O.': {'statement': '0,00'},\n",
       "   'Conta Ordenado': {'statement': '0,00'},\n",
       "   'Conta Standard': {'statement': '0,00'},\n",
       "   'Conta Future': {'statement': '0,00'},\n",
       "   'Conta Kids': {'acc_manteinance': '10,00'},\n",
       "   'Conta Base': {'statement': '0,00'},\n",
       "   'Conta Private': {'statement': '0,00'},\n",
       "   'Conta Value': {'statement': '0,00'},\n",
       "   'Conta Smart': {'statement': '0,00'},\n",
       "   'Conta Futuro': {'statement': '0,00'},\n",
       "   'Conta Moeda Estrangeira e': {'statement': '0,00'},\n",
       "   'Conta ABANCA Internacional.': {'statement': '0,00'},\n",
       "   'Conta para clientes dos 18 aos 28 anos.': {},\n",
       "   'Conta para clientes dos 0 aos 17 anos.': {},\n",
       "   'General': {'statement': '0,00',\n",
       "    'documents_copy': '5,00',\n",
       "    'acc_manteinance': '10,00',\n",
       "    'withdraw': '0,00',\n",
       "    'online_service': '0,00',\n",
       "    'cash_deposit': '3,50',\n",
       "    'change_holder': '5,00'}},\n",
       "  'n_subproducts': 22},\n",
       " 'house_credit': {},\n",
       " 'term_depos': {}}"
      ]
     },
     "execution_count": 205,
     "metadata": {},
     "output_type": "execute_result"
    }
   ],
   "source": [
    "abanca.output()"
   ]
  },
  {
   "cell_type": "code",
   "execution_count": 197,
   "metadata": {
    "hidden": true
   },
   "outputs": [
    {
     "data": {
      "text/plain": [
       "{'Emissão de extrato': ['Emissão de extrato      1.1  Mensal (enviado ao domicílio)  0,00  0,00  IVA – 23%  1.2  Outros, para além do indicado em 1.1  2,00 por extrato  1.3  2ª Via      7,50    2. Fotocópias de segundas vias de talões de depósito   5,00 por documento  0,00  IVA – 23%    3.'],\n",
       " 'Fotocópias de segundas vias de talões de depósito': ['Fotocópias de segundas vias de talões de depósito   5,00 por documento  0,00  IVA – 23%    3. Manutenção de conta      3.1 Conta D.O.'],\n",
       " 'Manutenção de conta': ['Manutenção de conta      3.1 Conta D.O. Particulares (Nota 2)      - Saldo médio até 1.000€  15,00 Trimestral  60,00  - Saldo médio entre 1.001€ e 2.500€  10,00 Trimestral  40,00  IS – 4%    - Saldo médio superior a 2.500€  0,00  0,00  3.2 Conta Ordenado (Nota 1 e Nota 16)  0,00  0,00  3.3 Conta Standard (não admite novas contratações)  0,00  0,00  3.4 Conta Moeda Estrangeira (Nota 12)  5,00 Mensal  60,00  4.'],\n",
       " 'Manutenção de Conta Pacote': ['Manutenção de Conta Pacote      4.1. Conta Future (Nota 3)  0,00  0,00  4.2.'],\n",
       " 'Manutenção de Conta Base': ['Manutenção de Conta Base (Nota 6)  10,00 Mensal  120,00  IS – 4%    6. Manutenção  de  Conta  Serviços  Mínimos  Bancários  2,00 Semestral  4,00  IS – 4%    (Nota 11)  7.'],\n",
       " 'Levantamento de numerário': ['Levantamento de numerário          7.1 Ao balcão, com apresentação de cheque  0,00  0,00  IS – 4%  Nota (13)   7.2 Ao balcão, sem apresentação de cheque  3,50   8. Adesão ao serviço de banca à distância  0,00  0,00  0,00    9.'],\n",
       " 'Adesão ao serviço de banca à distância': ['Adesão ao serviço de banca à distância  0,00  0,00  0,00    9. Depósito de moedas metálicas (igual ou superior a 100  Notas (13)  3,50  0,00  IS – 4%  moedas por dia e por conta)  (14)  Notas (13)  10.'],\n",
       " 'Depósito de moedas metálicas': ['Depósito de moedas metálicas (igual ou superior a 100  Notas (13)  3,50  0,00  IS – 4%  moedas por dia e por conta)  (14)  Notas (13)  10. Alteração de titulares  5,00  0,00  IS – 4%  (15)  11.'],\n",
       " 'Depósito de moedas': ['Depósito de moedas metálicas (igual ou superior a 100  Notas (13)  3,50  0,00  IS – 4%  moedas por dia e por conta)  (14)  Notas (13)  10. Alteração de titulares  5,00  0,00  IS – 4%  (15)  11.'],\n",
       " 'Alteração de titulares': ['Alteração de titulares  5,00  0,00  IS – 4%  (15)  11. Comissão por descoberto bancário  Vide Secção 2.5 Descobertos bancários  Nota (1) Não admite novas contratações.']}"
      ]
     },
     "execution_count": 197,
     "metadata": {},
     "output_type": "execute_result"
    }
   ],
   "source": [
    "first_search"
   ]
  },
  {
   "cell_type": "code",
   "execution_count": 207,
   "metadata": {
    "hidden": true
   },
   "outputs": [
    {
     "data": {
      "text/plain": [
       "6"
      ]
     },
     "execution_count": 207,
     "metadata": {},
     "output_type": "execute_result"
    }
   ],
   "source": [
    "ctt.accounts_offer()"
   ]
  },
  {
   "cell_type": "code",
   "execution_count": 209,
   "metadata": {
    "hidden": true
   },
   "outputs": [],
   "source": [
    "name ='Banco CTT, S.A. Contas de Depósito-Particulares - Pág.1/2'"
   ]
  },
  {
   "cell_type": "code",
   "execution_count": 217,
   "metadata": {
    "hidden": true
   },
   "outputs": [
    {
     "data": {
      "text/plain": [
       "['Contas de Depósito à Ordem (Comissões aplicáveis a todas as Contas).',\n",
       " 'Conta Banco CTT .',\n",
       " 'Conta Júnior (Montante Mínimo de Abertura 25,00€).',\n",
       " 'Conta Base (Montante Mínimo de Abertura 100,00€).',\n",
       " 'Conta de Serviços Mínimos Bancários .',\n",
       " 'Banco CTT, S.A. Contas de Depósito-Particulares - Pág.1/2']"
      ]
     },
     "execution_count": 217,
     "metadata": {},
     "output_type": "execute_result"
    }
   ],
   "source": [
    "ctt.names()"
   ]
  },
  {
   "cell_type": "code",
   "execution_count": 216,
   "metadata": {
    "hidden": true
   },
   "outputs": [
    {
     "data": {
      "text/plain": [
       "True"
      ]
     },
     "execution_count": 216,
     "metadata": {},
     "output_type": "execute_result"
    }
   ],
   "source": [
    "name.endswith('Pág.1/2')"
   ]
  },
  {
   "cell_type": "code",
   "execution_count": 219,
   "metadata": {
    "hidden": true
   },
   "outputs": [
    {
     "data": {
      "text/plain": [
       "['Conta Mais Ordenado 1.',\n",
       " 'Conta Bankinter (idade igual ou superior a 18 anos).',\n",
       " 'Conta Bankinter em Moeda Estrangeira.',\n",
       " 'Conta B Portugal em Moeda Estrangeira (Clientes Portugueses Não Residentes) -',\n",
       " 'Conta B Dynamic (idades entre 18 e 54 anos),',\n",
       " 'Conta B Relax (idade igual ou superior a 55 anos),',\n",
       " 'Conta Premier (Clientes Segmento Premier),',\n",
       " 'Conta B Portugal (Clientes Portugueses Não Residentes) -',\n",
       " 'Conta Internacional (Clientes Estrangeiros Não Residentes em Portugal) - encerrada à comercialização.',\n",
       " 'Conta BK Mini (Antiga',\n",
       " 'Conta B Teen),',\n",
       " 'Conta Mediador de Seguros e',\n",
       " 'Conta Private (Clientes Segmento Private)',\n",
       " 'Conta Pessoal (Clientes Crédito ao Consumo via internet- descontinuada)',\n",
       " 'Conta B Kid (idades entre 0 e 13 anos),',\n",
       " 'Conta B U (Estudantes Universitários).',\n",
       " 'Conta B Prime (',\n",
       " 'Conta Ordenado para Clientes Barclaycard - descontinuada)',\n",
       " 'Conta B Dynamic + (',\n",
       " 'Conta Ordenado para Clientes com idades entre 18 e 54 anos),',\n",
       " 'Conta B Relax + (',\n",
       " 'Conta Ordenado para Clientes com idade igual ou superior a 55 anos),',\n",
       " 'Conta Premier + (',\n",
       " 'Conta Ordenado para Clientes Segmento Premier),',\n",
       " 'Conta B Prime Plus (',\n",
       " 'Conta Ordenado para Clientes Barclaycard e para Clientes captados no âmbito da Parceria entre:',\n",
       " 'Conta Serviços Mínimos Bancários 1,03 1.']"
      ]
     },
     "execution_count": 219,
     "metadata": {},
     "output_type": "execute_result"
    }
   ],
   "source": [
    "bankinter.names()"
   ]
  },
  {
   "cell_type": "code",
   "execution_count": 271,
   "metadata": {
    "hidden": true
   },
   "outputs": [
    {
     "data": {
      "text/plain": [
       "{'demand_depos': {'subroducts': {'Conta D.O.': {'statement': '0,00'},\n",
       "   'Conta Ordenado': {'statement': '0,00'},\n",
       "   'Conta Standard': {'statement': '0,00'},\n",
       "   'Conta Future': {'statement': '0,00'},\n",
       "   'Conta Kids': {'acc_manteinance': '10,00'},\n",
       "   'Conta Base': {'statement': '0,00'},\n",
       "   'Conta Private': {'statement': '0,00'},\n",
       "   'Conta Value': {'statement': '0,00'},\n",
       "   'Conta Smart': {'statement': '0,00'},\n",
       "   'Conta Futuro': {'statement': '0,00'},\n",
       "   'Conta Moeda Estrangeira e': {'statement': '0,00'},\n",
       "   'Conta ABANCA Internacional.': {'statement': '0,00'},\n",
       "   'Conta para clientes dos 18 aos 28 anos.': {},\n",
       "   'Conta para clientes dos 0 aos 17 anos.': {},\n",
       "   'General': {'statement': '0,00',\n",
       "    'documents_copy': '5,00',\n",
       "    'acc_manteinance': '10,00',\n",
       "    'withdraw': '0,00',\n",
       "    'online_service': '0,00',\n",
       "    'cash_deposit': '3,50',\n",
       "    'change_holder': '5,00'}},\n",
       "  'n_subproducts': 22},\n",
       " 'house_credit': {},\n",
       " 'term_depos': {}}"
      ]
     },
     "execution_count": 271,
     "metadata": {},
     "output_type": "execute_result"
    }
   ],
   "source": [
    "abanca.output()"
   ]
  },
  {
   "cell_type": "code",
   "execution_count": 281,
   "metadata": {
    "hidden": true
   },
   "outputs": [
    {
     "ename": "AttributeError",
     "evalue": "'DemandDeposit' object has no attribute 'id'",
     "output_type": "error",
     "traceback": [
      "\u001b[0;31m---------------------------------------------------------------------------\u001b[0m",
      "\u001b[0;31mAttributeError\u001b[0m                            Traceback (most recent call last)",
      "\u001b[0;32m<ipython-input-281-aaf2bbf3b102>\u001b[0m in \u001b[0;36m<module>\u001b[0;34m\u001b[0m\n\u001b[0;32m----> 1\u001b[0;31m \u001b[0mcomplete_info\u001b[0m \u001b[0;34m=\u001b[0m \u001b[0mbankinter\u001b[0m\u001b[0;34m.\u001b[0m\u001b[0mspecific_bank\u001b[0m\u001b[0;34m(\u001b[0m\u001b[0;34m)\u001b[0m\u001b[0;34m\u001b[0m\u001b[0;34m\u001b[0m\u001b[0m\n\u001b[0m",
      "\u001b[0;32m~/code/moritzgeiger/bank-benchmark-api/notebooks/scraping.py\u001b[0m in \u001b[0;36mspecific_bank\u001b[0;34m(self)\u001b[0m\n\u001b[1;32m    239\u001b[0m     \u001b[0;32mdef\u001b[0m \u001b[0mspecific_bank\u001b[0m\u001b[0;34m(\u001b[0m\u001b[0mself\u001b[0m\u001b[0;34m)\u001b[0m\u001b[0;34m:\u001b[0m\u001b[0;34m\u001b[0m\u001b[0;34m\u001b[0m\u001b[0m\n\u001b[1;32m    240\u001b[0m         \u001b[0mcomplete_info\u001b[0m \u001b[0;34m=\u001b[0m \u001b[0mself\u001b[0m\u001b[0;34m.\u001b[0m\u001b[0mcomplete_info\u001b[0m\u001b[0;34m(\u001b[0m\u001b[0;34m)\u001b[0m\u001b[0;34m\u001b[0m\u001b[0;34m\u001b[0m\u001b[0m\n\u001b[0;32m--> 241\u001b[0;31m         \u001b[0;32mif\u001b[0m \u001b[0mself\u001b[0m\u001b[0;34m.\u001b[0m\u001b[0mid\u001b[0m \u001b[0;34m==\u001b[0m \u001b[0;34m'5'\u001b[0m\u001b[0;34m:\u001b[0m\u001b[0;34m\u001b[0m\u001b[0;34m\u001b[0m\u001b[0m\n\u001b[0m\u001b[1;32m    242\u001b[0m             \u001b[0;31m# \"\"\"bankinter\"\"\"\u001b[0m\u001b[0;34m\u001b[0m\u001b[0;34m\u001b[0m\u001b[0;34m\u001b[0m\u001b[0m\n\u001b[1;32m    243\u001b[0m             \u001b[0;32mfor\u001b[0m \u001b[0mv\u001b[0m \u001b[0;32min\u001b[0m \u001b[0mcomplete_info\u001b[0m\u001b[0;34m.\u001b[0m\u001b[0mvalues\u001b[0m\u001b[0;34m(\u001b[0m\u001b[0;34m)\u001b[0m\u001b[0;34m:\u001b[0m\u001b[0;34m\u001b[0m\u001b[0;34m\u001b[0m\u001b[0m\n",
      "\u001b[0;31mAttributeError\u001b[0m: 'DemandDeposit' object has no attribute 'id'"
     ]
    }
   ],
   "source": [
    "complete_info = bankinter.specific_bank()"
   ]
  },
  {
   "cell_type": "code",
   "execution_count": 279,
   "metadata": {
    "hidden": true
   },
   "outputs": [],
   "source": [
    "\n",
    "for v in complete_info.values():\n",
    "    if v['Comissão de Manutenção de Conta'] == '0,00':\n",
    "        v['Comissão de Manutenção de Conta'] = '80,00'"
   ]
  },
  {
   "cell_type": "code",
   "execution_count": null,
   "metadata": {
    "hidden": true
   },
   "outputs": [],
   "source": [
    "complete_info"
   ]
  },
  {
   "cell_type": "code",
   "execution_count": 235,
   "metadata": {
    "hidden": true
   },
   "outputs": [],
   "source": [
    "abanca_last = abanca.complete_info()"
   ]
  },
  {
   "cell_type": "code",
   "execution_count": 272,
   "metadata": {
    "hidden": true
   },
   "outputs": [
    {
     "data": {
      "text/plain": [
       "{'Conta D.O.': {'Emissão de extrato': '0,00'},\n",
       " 'Conta Ordenado': {'Emissão de extrato': '0,00'},\n",
       " 'Conta Standard': {'Emissão de extrato': '0,00'},\n",
       " 'Conta Future': {'Emissão de extrato': '0,00'},\n",
       " 'Conta Kids': {'Manutenção de Conta Base': '10,00'},\n",
       " 'Conta Base': {'Emissão de extrato': '0,00'},\n",
       " 'Conta Private': {'Emissão de extrato': '0,00'},\n",
       " 'Conta Value': {'Emissão de extrato': '0,00'},\n",
       " 'Conta Smart': {'Emissão de extrato': '0,00'},\n",
       " 'Conta Futuro': {'Emissão de extrato': '0,00'},\n",
       " 'Conta Moeda Estrangeira e': {'Emissão de extrato': '0,00'},\n",
       " 'Conta ABANCA Internacional.': {'Emissão de extrato': '0,00'},\n",
       " 'Conta para clientes dos 18 aos 28 anos.': {},\n",
       " 'Conta para clientes dos 0 aos 17 anos.': {},\n",
       " 'General': {'Emissão de extrato': '0,00',\n",
       "  'Fotocópias de segundas vias de talões de depósito': '5,00',\n",
       "  'Manutenção de conta': '15,00',\n",
       "  'Manutenção de Conta Pacote': '0,00',\n",
       "  'Manutenção de Conta Base': '10,00',\n",
       "  'Levantamento de numerário': '0,00',\n",
       "  'Adesão ao serviço de banca à distância': '0,00',\n",
       "  'Depósito de moedas metálicas': '3,50',\n",
       "  'Depósito de moedas': '3,50',\n",
       "  'Alteração de titulares': '5,00'}}"
      ]
     },
     "execution_count": 272,
     "metadata": {},
     "output_type": "execute_result"
    }
   ],
   "source": [
    "abanca_last"
   ]
  },
  {
   "cell_type": "code",
   "execution_count": 234,
   "metadata": {
    "hidden": true
   },
   "outputs": [],
   "source": [
    "complete_text = abanca.getting_text()"
   ]
  },
  {
   "cell_type": "code",
   "execution_count": 267,
   "metadata": {
    "hidden": true
   },
   "outputs": [],
   "source": [
    "# complete_text"
   ]
  },
  {
   "cell_type": "code",
   "execution_count": 268,
   "metadata": {
    "hidden": true
   },
   "outputs": [],
   "source": [
    "# accounting"
   ]
  },
  {
   "cell_type": "code",
   "execution_count": 274,
   "metadata": {
    "hidden": true
   },
   "outputs": [],
   "source": [
    "accounting_idx = complete_text.find('Manutenção de conta') - len(complete_text)-1\n",
    "accounting = complete_text[accounting_idx:]\n",
    "\n",
    "for name,commissions in abanca_last.items():\n",
    "#     print(name)\n",
    "#     print(accounting.find(name))\n",
    "    inx = accounting.find(name) - len(accounting)-1\n",
    "    new_text = accounting[inx:]\n",
    "#     print(new_text, 'AAAAAAAAAAAAAAA')\n",
    "    value = re.search(r'(\\d+,\\d{2})',new_text)\n",
    "    if value:\n",
    "        found = value.group()\n",
    "        abanca_last[name]['Manutenção de conta'] = found\n",
    "        "
   ]
  },
  {
   "cell_type": "code",
   "execution_count": 275,
   "metadata": {
    "hidden": true
   },
   "outputs": [
    {
     "data": {
      "text/plain": [
       "{'Conta D.O.': {'Emissão de extrato': '0,00', 'Manutenção de conta': '15,00'},\n",
       " 'Conta Ordenado': {'Emissão de extrato': '0,00',\n",
       "  'Manutenção de conta': '0,00'},\n",
       " 'Conta Standard': {'Emissão de extrato': '0,00',\n",
       "  'Manutenção de conta': '0,00'},\n",
       " 'Conta Future': {'Emissão de extrato': '0,00', 'Manutenção de conta': '0,00'},\n",
       " 'Conta Kids': {'Manutenção de Conta Base': '10,00',\n",
       "  'Manutenção de conta': '0,00'},\n",
       " 'Conta Base': {'Emissão de extrato': '0,00', 'Manutenção de conta': '10,00'},\n",
       " 'Conta Private': {'Emissão de extrato': '0,00',\n",
       "  'Manutenção de conta': '8,00'},\n",
       " 'Conta Value': {'Emissão de extrato': '0,00', 'Manutenção de conta': '5,00'},\n",
       " 'Conta Smart': {'Emissão de extrato': '0,00', 'Manutenção de conta': '5,00'},\n",
       " 'Conta Futuro': {'Emissão de extrato': '0,00', 'Manutenção de conta': '0,00'},\n",
       " 'Conta Moeda Estrangeira e': {'Emissão de extrato': '0,00',\n",
       "  'Manutenção de conta': '15,00'},\n",
       " 'Conta ABANCA Internacional.': {'Emissão de extrato': '0,00',\n",
       "  'Manutenção de conta': '15,00'},\n",
       " 'Conta para clientes dos 18 aos 28 anos.': {'Manutenção de conta': '0,23'},\n",
       " 'Conta para clientes dos 0 aos 17 anos.': {'Manutenção de conta': '0,23'},\n",
       " 'General': {'Emissão de extrato': '0,00',\n",
       "  'Fotocópias de segundas vias de talões de depósito': '5,00',\n",
       "  'Manutenção de conta': '15,00',\n",
       "  'Manutenção de Conta Pacote': '0,00',\n",
       "  'Manutenção de Conta Base': '10,00',\n",
       "  'Levantamento de numerário': '0,00',\n",
       "  'Adesão ao serviço de banca à distância': '0,00',\n",
       "  'Depósito de moedas metálicas': '3,50',\n",
       "  'Depósito de moedas': '3,50',\n",
       "  'Alteração de titulares': '5,00'}}"
      ]
     },
     "execution_count": 275,
     "metadata": {},
     "output_type": "execute_result"
    }
   ],
   "source": [
    "abanca_last"
   ]
  },
  {
   "cell_type": "code",
   "execution_count": 4,
   "metadata": {
    "hidden": true
   },
   "outputs": [
    {
     "data": {
      "text/plain": [
       "{'Conta Bankinter (idade igual ou superior a 18 anos).': {'Comissão de Manutenção de Conta': '80,00'},\n",
       " 'Conta Bankinter em Moeda Estrangeira.': {'Comissão de Manutenção de Conta': '80,00'},\n",
       " 'Conta B Portugal em Moeda Estrangeira (Clientes Portugueses Não Residentes) -': {'Comissão de Manutenção de Conta': '80,00'},\n",
       " 'Conta B Dynamic (idades entre 18 e 54 anos),': {'Comissão de Manutenção de Conta': '80,00'},\n",
       " 'Conta B Relax (idade igual ou superior a 55 anos),': {'Comissão de Manutenção de Conta': '80,00'},\n",
       " 'Conta Premier (Clientes Segmento Premier),': {'Comissão de Manutenção de Conta': '80,00'},\n",
       " 'Conta Internacional (Clientes Estrangeiros Não Residentes em Portugal) - encerrada à comercialização.': {'Comissão de Manutenção de Conta': '120,00'},\n",
       " 'Conta BK Mini (Antiga': {'Comissão de Manutenção de Conta': '80,00'},\n",
       " 'Conta B Teen),': {'Comissão de Manutenção de Conta': '80,00'},\n",
       " 'Conta Mediador de Seguros e': {'Comissão de Manutenção de Conta': '80,00'},\n",
       " 'Conta B Kid (idades entre 0 e 13 anos),': {'Comissão de Manutenção de Conta': '80,00'},\n",
       " 'Conta B U (Estudantes Universitários).': {'Comissão de Manutenção de Conta': '80,00'},\n",
       " 'Conta B Prime (': {'Comissão de Manutenção de Conta': '80,00'},\n",
       " 'Conta Ordenado para Clientes Barclaycard - descontinuada)': {'Comissão de Manutenção de Conta': '80,00'},\n",
       " 'Conta B Dynamic + (': {'Comissão de Manutenção de Conta': '80,00'},\n",
       " 'Conta B Relax + (': {'Comissão de Manutenção de Conta': '80,00'},\n",
       " 'Conta Ordenado para Clientes com idade igual ou superior a 55 anos),': {'Comissão de Manutenção de Conta': '80,00'},\n",
       " 'Conta Premier + (': {'Comissão de Manutenção de Conta': '80,00'},\n",
       " 'Conta B Prime Plus (': {'Comissão de Manutenção de Conta': '80,00'},\n",
       " 'Conta Ordenado para Clientes Barclaycard e para Clientes captados no âmbito da Parceria entre:': {'Comissão de Manutenção de Conta': '80,00'},\n",
       " 'General': {'Comissão de Manutenção de Conta': '80,00',\n",
       "  'Comissão de Levantamento': '4,81',\n",
       "  'Comissão de Alteração de Titularidade': '7,00',\n",
       "  'Comissões por Descoberto Bancário': '4,81'}}"
      ]
     },
     "execution_count": 4,
     "metadata": {},
     "output_type": "execute_result"
    }
   ],
   "source": [
    "bankinter = bankinter = DemandDeposit('https://clientebancario.bportugal.pt/sites/default/files/precario/0269_/0269_PRE.pdf', [4],'5')\n",
    "bankinter.specific_bank()"
   ]
  },
  {
   "cell_type": "code",
   "execution_count": 5,
   "metadata": {
    "hidden": true
   },
   "outputs": [
    {
     "data": {
      "text/plain": [
       "{'Conta D.O.': {'Emissão de extrato': '0,00', 'Manutenção de conta': '15,00'},\n",
       " 'Conta Ordenado': {'Emissão de extrato': '0,00',\n",
       "  'Manutenção de conta': '0,00'},\n",
       " 'Conta Standard': {'Emissão de extrato': '0,00',\n",
       "  'Manutenção de conta': '0,00'},\n",
       " 'Conta Future': {'Emissão de extrato': '0,00', 'Manutenção de conta': '0,00'},\n",
       " 'Conta Kids': {'Manutenção de Conta Base': '10,00',\n",
       "  'Manutenção de conta': '0,00'},\n",
       " 'Conta Base': {'Emissão de extrato': '0,00', 'Manutenção de conta': '10,00'},\n",
       " 'Conta Private': {'Emissão de extrato': '0,00',\n",
       "  'Manutenção de conta': '8,00'},\n",
       " 'Conta Value': {'Emissão de extrato': '0,00', 'Manutenção de conta': '5,00'},\n",
       " 'Conta Smart': {'Emissão de extrato': '0,00', 'Manutenção de conta': '5,00'},\n",
       " 'Conta Futuro': {'Emissão de extrato': '0,00', 'Manutenção de conta': '0,00'},\n",
       " 'Conta Moeda Estrangeira e': {'Emissão de extrato': '0,00',\n",
       "  'Manutenção de conta': '15,00'},\n",
       " 'Conta ABANCA Internacional.': {'Emissão de extrato': '0,00',\n",
       "  'Manutenção de conta': '15,00'},\n",
       " 'Conta para clientes dos 18 aos 28 anos.': {'Manutenção de conta': '0,23'},\n",
       " 'Conta para clientes dos 0 aos 17 anos.': {'Manutenção de conta': '0,23'},\n",
       " 'General': {'Emissão de extrato': '0,00',\n",
       "  'Fotocópias de segundas vias de talões de depósito': '5,00',\n",
       "  'Manutenção de conta': '15,00',\n",
       "  'Manutenção de Conta Pacote': '0,00',\n",
       "  'Manutenção de Conta Base': '10,00',\n",
       "  'Levantamento de numerário': '0,00',\n",
       "  'Adesão ao serviço de banca à distância': '0,00',\n",
       "  'Depósito de moedas metálicas': '3,50',\n",
       "  'Depósito de moedas': '3,50',\n",
       "  'Alteração de titulares': '5,00'}}"
      ]
     },
     "execution_count": 5,
     "metadata": {},
     "output_type": "execute_result"
    }
   ],
   "source": [
    "abanca = DemandDeposit('https://clientebancario.bportugal.pt/sites/default/files/precario/0170_/0170_PRE.pdf', [4],'2')\n",
    "abanca.specific_bank()"
   ]
  },
  {
   "cell_type": "code",
   "execution_count": 42,
   "metadata": {
    "hidden": true
   },
   "outputs": [
    {
     "data": {
      "text/plain": [
       "{'demand_depos': {'subroducts': {'Conta D.O.': {'statement': '0,00',\n",
       "    'acc_manteinance': '15,00'},\n",
       "   'Conta Ordenado': {'statement': '0,00', 'acc_manteinance': '0,00'},\n",
       "   'Conta Standard': {'statement': '0,00', 'acc_manteinance': '0,00'},\n",
       "   'Conta Future': {'statement': '0,00', 'acc_manteinance': '0,00'},\n",
       "   'Conta Kids': {'acc_manteinance': '0,00'},\n",
       "   'Conta Base': {'statement': '0,00', 'acc_manteinance': '10,00'},\n",
       "   'Conta Private': {'statement': '0,00', 'acc_manteinance': '8,00'},\n",
       "   'Conta Value': {'statement': '0,00', 'acc_manteinance': '5,00'},\n",
       "   'Conta Smart': {'statement': '0,00', 'acc_manteinance': '5,00'},\n",
       "   'Conta Futuro': {'statement': '0,00', 'acc_manteinance': '0,00'},\n",
       "   'Conta Moeda Estrangeira e': {'statement': '0,00',\n",
       "    'acc_manteinance': '15,00'},\n",
       "   'Conta ABANCA Internacional.': {'statement': '0,00',\n",
       "    'acc_manteinance': '15,00'},\n",
       "   'Conta para clientes dos 18 aos 28 anos.': {'acc_manteinance': '0,23'},\n",
       "   'Conta para clientes dos 0 aos 17 anos.': {'acc_manteinance': '0,23'},\n",
       "   'General': {'statement': '0,00',\n",
       "    'documents_copy': '5,00',\n",
       "    'acc_manteinance': '10,00',\n",
       "    'withdraw': '0,00',\n",
       "    'online_service': '0,00',\n",
       "    'cash_deposit': '3,50',\n",
       "    'change_holder': '5,00'}},\n",
       "  'n_subproducts': 14},\n",
       " 'house_credit': {},\n",
       " 'term_depos': {}}"
      ]
     },
     "execution_count": 42,
     "metadata": {},
     "output_type": "execute_result"
    }
   ],
   "source": [
    "abanca.output()"
   ]
  },
  {
   "cell_type": "markdown",
   "metadata": {
    "heading_collapsed": true
   },
   "source": [
    "# part 2"
   ]
  },
  {
   "cell_type": "code",
   "execution_count": 7,
   "metadata": {
    "hidden": true
   },
   "outputs": [],
   "source": [
    "bai = bai = DemandDeposit('https://clientebancario.bportugal.pt/sites/default/files/precario/0008_/0008_PRE.pdf',[4],'3')"
   ]
  },
  {
   "cell_type": "code",
   "execution_count": 36,
   "metadata": {
    "hidden": true
   },
   "outputs": [],
   "source": [
    "complete_info=bai.specific_bank()"
   ]
  },
  {
   "cell_type": "code",
   "execution_count": 40,
   "metadata": {
    "hidden": true
   },
   "outputs": [
    {
     "data": {
      "text/plain": [
       "2"
      ]
     },
     "execution_count": 40,
     "metadata": {},
     "output_type": "execute_result"
    }
   ],
   "source": [
    "len(complete_info.keys())-1"
   ]
  },
  {
   "cell_type": "code",
   "execution_count": 30,
   "metadata": {
    "hidden": true
   },
   "outputs": [
    {
     "data": {
      "text/plain": [
       "{}"
      ]
     },
     "execution_count": 30,
     "metadata": {},
     "output_type": "execute_result"
    }
   ],
   "source": [
    "complete_info['Conta de Serviços Mínimos Bancários Comissões vigência contrato ']={}\n",
    "complete_info['Conta de Serviços Mínimos Bancários Comissões vigência contrato ']['Manutenção de conta']= '5,00'\n",
    "complete_info.pop('Conta de Serviços Minímos Bancários: Condições de acesso: Particulares residentes num Estado Membro da')\n",
    "complete_info.pop('Conta de Serviços Mínimos Bancários não depende da aquisição de outros produtos ou serviços.')\n"
   ]
  },
  {
   "cell_type": "code",
   "execution_count": 31,
   "metadata": {
    "hidden": true
   },
   "outputs": [
    {
     "data": {
      "text/plain": [
       "{'Conta de Serviços Mínimos Bancários Comissões vigência contrato 1.': {'Manutenção de conta': '4,10'},\n",
       " 'General': {'Levantamento de numerário': '20,00'},\n",
       " 'Conta de Serviços Mínimos Bancários Comissões vigência contrato ': {'Manutenção de conta': '5,00'}}"
      ]
     },
     "execution_count": 31,
     "metadata": {},
     "output_type": "execute_result"
    }
   ],
   "source": [
    "complete_info"
   ]
  },
  {
   "cell_type": "code",
   "execution_count": 41,
   "metadata": {
    "hidden": true
   },
   "outputs": [
    {
     "data": {
      "text/plain": [
       "{'demand_depos': {'subroducts': {'Conta de Serviços Mínimos Bancários Comissões vigência contrato 1.': {'acc_manteinance': '4,10'},\n",
       "   'General': {'withdraw': '20,00', 'statement': '0,00'},\n",
       "   'Conta de Serviços Mínimos Bancários Comissões vigência contrato ': {'acc_manteinance': '5,00'}},\n",
       "  'n_subproducts': 2},\n",
       " 'house_credit': {},\n",
       " 'term_depos': {}}"
      ]
     },
     "execution_count": 41,
     "metadata": {},
     "output_type": "execute_result"
    }
   ],
   "source": [
    "bai.output()"
   ]
  },
  {
   "cell_type": "markdown",
   "metadata": {
    "heading_collapsed": true
   },
   "source": [
    "# part 3"
   ]
  },
  {
   "cell_type": "code",
   "execution_count": 43,
   "metadata": {
    "hidden": true
   },
   "outputs": [],
   "source": [
    "bic = DemandDeposit('https://clientebancario.bportugal.pt/sites/default/files/precario/0079_/0079_PRE_0.pdf',[4,6],'1')"
   ]
  },
  {
   "cell_type": "code",
   "execution_count": 69,
   "metadata": {
    "hidden": true
   },
   "outputs": [],
   "source": [
    "complete_info= bic.complete_info()"
   ]
  },
  {
   "cell_type": "code",
   "execution_count": 70,
   "metadata": {
    "hidden": true
   },
   "outputs": [
    {
     "data": {
      "text/plain": [
       "{'Conta à Ordem (5),': {'Comissão de manutenção de conta': '00,00'},\n",
       " 'Conta à Ordem Emigrantes (5),': {'Comissão de manutenção de conta': '00,00'},\n",
       " 'Conta Ordenado XL (12),': {'Comissão de manutenção de conta': '00,00'},\n",
       " 'Conta à Ordem Sucursal Financeira Exterior Madeira (5)(6),': {'Comissão de manutenção de conta': '5,50'},\n",
       " 'Conta Privilégio 55 (5)(7),': {'Comissão de manutenção de conta': '5,50'},\n",
       " 'Conta à Ordem com Futuro 0,00 nan Nota 4': {'Comissão de manutenção de conta': '5,50'},\n",
       " 'Conta Cool (contratações a partir de 13 de novembro 2014) 0,00 nan Notas 4,': {'Comissão de manutenção de conta': '5,50'},\n",
       " 'Conta à Ordem Massa Insolvente 0,00 nan Nota 14': {'Comissão de manutenção de conta': '5,50'},\n",
       " 'Conta BIC Salário Internacional (Fora de comercialização) 5,00 / mês 60,00 IS 4,00% Notas': {'Comissão de manutenção de conta': '5,50'},\n",
       " 'Conta Base 5,00 / mês 60,00 IS 4,00% Notas 5, 8 3.': {'Comissão de manutenção de conta': '5,50'},\n",
       " 'Conta EuroBic Prime com domiciliação de vencimento Nota 15 Sem condições de bonificação 5,50': {'Comissão de manutenção de conta': '5,50'},\n",
       " 'Conta EuroBic Prime sem domiciliação de vencimento Nota 15 Sem condições de bonificação 7,50': {'Comissão de manutenção de conta': '5,50'},\n",
       " 'Conta EuroBic 365 com domiciliação de vencimento Nota 16 Sem condições de bonificação 4,25': {'Comissão de manutenção de conta': '5,50'},\n",
       " 'Conta EuroBic 365 sem domiciliação de vencimento Nota 16 Sem condições de bonificação 6,00': {'Comissão de manutenção de conta': '5,50'},\n",
       " 'Conta EuroBic Sénior Sem crédito de vencimento e recursos ≤ 35.000 € 4,00 /': {'Comissão de manutenção de conta': '5,50'},\n",
       " 'Conta EuroBic Mais (Fora de comercialização) Sem crédito de vencimento 7,00 / mês 84,00': {'Comissão de manutenção de conta': '5,50'},\n",
       " 'General': {'Comissão de manutenção de conta': '00,00',\n",
       "  'Levantamento de numerário': '5,00',\n",
       "  'Alteração de titularidade': '7,00',\n",
       "  'Alteração de titularidade / intervenientes': '7,00',\n",
       "  'Pedido de saldo ao balcão': '1,00'}}"
      ]
     },
     "execution_count": 70,
     "metadata": {},
     "output_type": "execute_result"
    }
   ],
   "source": [
    "complete_info"
   ]
  },
  {
   "cell_type": "code",
   "execution_count": 74,
   "metadata": {
    "hidden": true
   },
   "outputs": [],
   "source": [
    "for name,v in complete_info.items():\n",
    "    for k,n in v.items():\n",
    "        if v[k] == '00,00':\n",
    "            v[k]= '9,30'\n",
    "        elif"
   ]
  },
  {
   "cell_type": "code",
   "execution_count": 78,
   "metadata": {
    "hidden": true
   },
   "outputs": [],
   "source": [
    "complete_info['Conta à Ordem com Futuro 0,00 nan Nota 4']['Comissão de manutenção de conta']='0,00'\n",
    "complete_info['Conta Cool (contratações a partir de 13 de novembro 2014) 0,00 nan Notas 4,']['Comissão de manutenção de conta'] = '0,00'\n",
    "complete_info['Conta à Ordem Massa Insolvente 0,00 nan Nota 14']['Comissão de manutenção de conta'] = '0,00'"
   ]
  },
  {
   "cell_type": "code",
   "execution_count": 79,
   "metadata": {
    "hidden": true
   },
   "outputs": [
    {
     "data": {
      "text/plain": [
       "{'Conta à Ordem (5),': {'Comissão de manutenção de conta': '9,3'},\n",
       " 'Conta à Ordem Emigrantes (5),': {'Comissão de manutenção de conta': '9,3'},\n",
       " 'Conta Ordenado XL (12),': {'Comissão de manutenção de conta': '9,3'},\n",
       " 'Conta à Ordem Sucursal Financeira Exterior Madeira (5)(6),': {'Comissão de manutenção de conta': '5,50'},\n",
       " 'Conta Privilégio 55 (5)(7),': {'Comissão de manutenção de conta': '5,50'},\n",
       " 'Conta à Ordem com Futuro 0,00 nan Nota 4': {'Comissão de manutenção de conta': '0,00'},\n",
       " 'Conta Cool (contratações a partir de 13 de novembro 2014) 0,00 nan Notas 4,': {'Comissão de manutenção de conta': '0,00'},\n",
       " 'Conta à Ordem Massa Insolvente 0,00 nan Nota 14': {'Comissão de manutenção de conta': '0,00'},\n",
       " 'Conta BIC Salário Internacional (Fora de comercialização) 5,00 / mês 60,00 IS 4,00% Notas': {'Comissão de manutenção de conta': '5,50'},\n",
       " 'Conta Base 5,00 / mês 60,00 IS 4,00% Notas 5, 8 3.': {'Comissão de manutenção de conta': '5,50'},\n",
       " 'Conta EuroBic Prime com domiciliação de vencimento Nota 15 Sem condições de bonificação 5,50': {'Comissão de manutenção de conta': '5,50'},\n",
       " 'Conta EuroBic Prime sem domiciliação de vencimento Nota 15 Sem condições de bonificação 7,50': {'Comissão de manutenção de conta': '5,50'},\n",
       " 'Conta EuroBic 365 com domiciliação de vencimento Nota 16 Sem condições de bonificação 4,25': {'Comissão de manutenção de conta': '5,50'},\n",
       " 'Conta EuroBic 365 sem domiciliação de vencimento Nota 16 Sem condições de bonificação 6,00': {'Comissão de manutenção de conta': '5,50'},\n",
       " 'Conta EuroBic Sénior Sem crédito de vencimento e recursos ≤ 35.000 € 4,00 /': {'Comissão de manutenção de conta': '5,50'},\n",
       " 'Conta EuroBic Mais (Fora de comercialização) Sem crédito de vencimento 7,00 / mês 84,00': {'Comissão de manutenção de conta': '5,50'},\n",
       " 'General': {'Comissão de manutenção de conta': '9,3',\n",
       "  'Levantamento de numerário': '5,00',\n",
       "  'Alteração de titularidade': '7,00',\n",
       "  'Alteração de titularidade / intervenientes': '7,00',\n",
       "  'Pedido de saldo ao balcão': '1,00'}}"
      ]
     },
     "execution_count": 79,
     "metadata": {},
     "output_type": "execute_result"
    }
   ],
   "source": [
    "complete_info"
   ]
  },
  {
   "cell_type": "code",
   "execution_count": 80,
   "metadata": {
    "hidden": true
   },
   "outputs": [
    {
     "data": {
      "text/plain": [
       "{'Conta à Ordem (5),': {'Comissão de manutenção de conta': '9,30'},\n",
       " 'Conta à Ordem Emigrantes (5),': {'Comissão de manutenção de conta': '9,30'},\n",
       " 'Conta Ordenado XL (12),': {'Comissão de manutenção de conta': '9,30'},\n",
       " 'Conta à Ordem Sucursal Financeira Exterior Madeira (5)(6),': {'Comissão de manutenção de conta': '5,50'},\n",
       " 'Conta Privilégio 55 (5)(7),': {'Comissão de manutenção de conta': '5,50'},\n",
       " 'Conta à Ordem com Futuro 0,00 nan Nota 4': {'Comissão de manutenção de conta': '0,00'},\n",
       " 'Conta Cool (contratações a partir de 13 de novembro 2014) 0,00 nan Notas 4,': {'Comissão de manutenção de conta': '0,00'},\n",
       " 'Conta à Ordem Massa Insolvente 0,00 nan Nota 14': {'Comissão de manutenção de conta': '0,00'},\n",
       " 'Conta BIC Salário Internacional (Fora de comercialização) 5,00 / mês 60,00 IS 4,00% Notas': {'Comissão de manutenção de conta': '5,50'},\n",
       " 'Conta Base 5,00 / mês 60,00 IS 4,00% Notas 5, 8 3.': {'Comissão de manutenção de conta': '5,50'},\n",
       " 'Conta EuroBic Prime com domiciliação de vencimento Nota 15 Sem condições de bonificação 5,50': {'Comissão de manutenção de conta': '5,50'},\n",
       " 'Conta EuroBic Prime sem domiciliação de vencimento Nota 15 Sem condições de bonificação 7,50': {'Comissão de manutenção de conta': '5,50'},\n",
       " 'Conta EuroBic 365 com domiciliação de vencimento Nota 16 Sem condições de bonificação 4,25': {'Comissão de manutenção de conta': '5,50'},\n",
       " 'Conta EuroBic 365 sem domiciliação de vencimento Nota 16 Sem condições de bonificação 6,00': {'Comissão de manutenção de conta': '5,50'},\n",
       " 'Conta EuroBic Sénior Sem crédito de vencimento e recursos ≤ 35.000 € 4,00 /': {'Comissão de manutenção de conta': '5,50'},\n",
       " 'Conta EuroBic Mais (Fora de comercialização) Sem crédito de vencimento 7,00 / mês 84,00': {'Comissão de manutenção de conta': '5,50'},\n",
       " 'General': {'Comissão de manutenção de conta': '9,30',\n",
       "  'Levantamento de numerário': '5,00',\n",
       "  'Alteração de titularidade': '7,00',\n",
       "  'Alteração de titularidade / intervenientes': '7,00',\n",
       "  'Pedido de saldo ao balcão': '1,00'}}"
      ]
     },
     "execution_count": 80,
     "metadata": {},
     "output_type": "execute_result"
    }
   ],
   "source": [
    "bic.specific_bank()"
   ]
  },
  {
   "cell_type": "markdown",
   "metadata": {},
   "source": [
    "# part 4"
   ]
  },
  {
   "cell_type": "code",
   "execution_count": 92,
   "metadata": {},
   "outputs": [
    {
     "ename": "TypeError",
     "evalue": "expected string or bytes-like object",
     "output_type": "error",
     "traceback": [
      "\u001b[0;31m---------------------------------------------------------------------------\u001b[0m",
      "\u001b[0;31mTypeError\u001b[0m                                 Traceback (most recent call last)",
      "\u001b[0;32m<ipython-input-92-fa6e29870640>\u001b[0m in \u001b[0;36m<module>\u001b[0;34m\u001b[0m\n\u001b[0;32m----> 1\u001b[0;31m \u001b[0mcomplete_info\u001b[0m \u001b[0;34m=\u001b[0m \u001b[0mctt\u001b[0m\u001b[0;34m.\u001b[0m\u001b[0moutput\u001b[0m\u001b[0;34m(\u001b[0m\u001b[0;34m)\u001b[0m\u001b[0;34m\u001b[0m\u001b[0;34m\u001b[0m\u001b[0m\n\u001b[0m",
      "\u001b[0;32m~/code/moritzgeiger/bank-benchmark-api/notebooks/scraping.py\u001b[0m in \u001b[0;36moutput\u001b[0;34m(self)\u001b[0m\n\u001b[1;32m    312\u001b[0m     \u001b[0;32mdef\u001b[0m \u001b[0moutput\u001b[0m\u001b[0;34m(\u001b[0m\u001b[0mself\u001b[0m\u001b[0;34m)\u001b[0m\u001b[0;34m:\u001b[0m\u001b[0;34m\u001b[0m\u001b[0;34m\u001b[0m\u001b[0m\n\u001b[1;32m    313\u001b[0m         \u001b[0moutput\u001b[0m \u001b[0;34m=\u001b[0m \u001b[0;34m{\u001b[0m\u001b[0;34m'demand_depos'\u001b[0m\u001b[0;34m:\u001b[0m\u001b[0;34m{\u001b[0m\u001b[0;34m}\u001b[0m\u001b[0;34m}\u001b[0m\u001b[0;34m\u001b[0m\u001b[0;34m\u001b[0m\u001b[0m\n\u001b[0;32m--> 314\u001b[0;31m         \u001b[0moutput\u001b[0m\u001b[0;34m[\u001b[0m\u001b[0;34m'demand_depos'\u001b[0m\u001b[0;34m]\u001b[0m\u001b[0;34m[\u001b[0m\u001b[0;34m'subproducts'\u001b[0m\u001b[0;34m]\u001b[0m \u001b[0;34m=\u001b[0m \u001b[0mself\u001b[0m\u001b[0;34m.\u001b[0m\u001b[0mdemand_depos\u001b[0m\u001b[0;34m(\u001b[0m\u001b[0;34m)\u001b[0m\u001b[0;34m\u001b[0m\u001b[0;34m\u001b[0m\u001b[0m\n\u001b[0m\u001b[1;32m    315\u001b[0m         \u001b[0moutput\u001b[0m\u001b[0;34m[\u001b[0m\u001b[0;34m'demand_depos'\u001b[0m\u001b[0;34m]\u001b[0m\u001b[0;34m[\u001b[0m\u001b[0;34m'n_subproducts'\u001b[0m\u001b[0;34m]\u001b[0m\u001b[0;34m=\u001b[0m \u001b[0mself\u001b[0m\u001b[0;34m.\u001b[0m\u001b[0maccounts_offer\u001b[0m\u001b[0;34m(\u001b[0m\u001b[0;34m)\u001b[0m\u001b[0;34m\u001b[0m\u001b[0;34m\u001b[0m\u001b[0m\n\u001b[1;32m    316\u001b[0m         \u001b[0;31m# output['house_credit'] = {}\u001b[0m\u001b[0;34m\u001b[0m\u001b[0;34m\u001b[0m\u001b[0;34m\u001b[0m\u001b[0m\n",
      "\u001b[0;32m~/code/moritzgeiger/bank-benchmark-api/notebooks/scraping.py\u001b[0m in \u001b[0;36mdemand_depos\u001b[0;34m(self)\u001b[0m\n\u001b[1;32m    300\u001b[0m     \u001b[0;32mdef\u001b[0m \u001b[0mdemand_depos\u001b[0m\u001b[0;34m(\u001b[0m\u001b[0mself\u001b[0m\u001b[0;34m)\u001b[0m\u001b[0;34m:\u001b[0m\u001b[0;34m\u001b[0m\u001b[0;34m\u001b[0m\u001b[0m\n\u001b[1;32m    301\u001b[0m         \u001b[0mfinals\u001b[0m \u001b[0;34m=\u001b[0m \u001b[0;34m{\u001b[0m\u001b[0;34m}\u001b[0m\u001b[0;34m\u001b[0m\u001b[0;34m\u001b[0m\u001b[0m\n\u001b[0;32m--> 302\u001b[0;31m         \u001b[0;32mfor\u001b[0m \u001b[0maccount\u001b[0m\u001b[0;34m,\u001b[0m \u001b[0mdictionary\u001b[0m \u001b[0;32min\u001b[0m \u001b[0mself\u001b[0m\u001b[0;34m.\u001b[0m\u001b[0mspecific_bank\u001b[0m\u001b[0;34m(\u001b[0m\u001b[0;34m)\u001b[0m\u001b[0;34m.\u001b[0m\u001b[0mitems\u001b[0m\u001b[0;34m(\u001b[0m\u001b[0;34m)\u001b[0m\u001b[0;34m:\u001b[0m\u001b[0;34m\u001b[0m\u001b[0;34m\u001b[0m\u001b[0m\n\u001b[0m\u001b[1;32m    303\u001b[0m             \u001b[0mdemand_depos\u001b[0m \u001b[0;34m=\u001b[0m \u001b[0;34m{\u001b[0m\u001b[0;34m}\u001b[0m\u001b[0;34m\u001b[0m\u001b[0;34m\u001b[0m\u001b[0m\n\u001b[1;32m    304\u001b[0m             \u001b[0;32mfor\u001b[0m \u001b[0mk\u001b[0m \u001b[0;32min\u001b[0m \u001b[0mdictionary\u001b[0m\u001b[0;34m:\u001b[0m\u001b[0;34m\u001b[0m\u001b[0;34m\u001b[0m\u001b[0m\n",
      "\u001b[0;32m~/code/moritzgeiger/bank-benchmark-api/notebooks/scraping.py\u001b[0m in \u001b[0;36mspecific_bank\u001b[0;34m(self)\u001b[0m\n\u001b[1;32m    243\u001b[0m \u001b[0;34m\u001b[0m\u001b[0m\n\u001b[1;32m    244\u001b[0m     \u001b[0;32mdef\u001b[0m \u001b[0mspecific_bank\u001b[0m\u001b[0;34m(\u001b[0m\u001b[0mself\u001b[0m\u001b[0;34m)\u001b[0m\u001b[0;34m:\u001b[0m\u001b[0;34m\u001b[0m\u001b[0;34m\u001b[0m\u001b[0m\n\u001b[0;32m--> 245\u001b[0;31m         \u001b[0mcomplete_info\u001b[0m \u001b[0;34m=\u001b[0m \u001b[0mself\u001b[0m\u001b[0;34m.\u001b[0m\u001b[0mcomplete_info\u001b[0m\u001b[0;34m(\u001b[0m\u001b[0;34m)\u001b[0m\u001b[0;34m\u001b[0m\u001b[0;34m\u001b[0m\u001b[0m\n\u001b[0m\u001b[1;32m    246\u001b[0m \u001b[0;34m\u001b[0m\u001b[0m\n\u001b[1;32m    247\u001b[0m         \u001b[0;32mif\u001b[0m \u001b[0mself\u001b[0m\u001b[0;34m.\u001b[0m\u001b[0mid_bank\u001b[0m \u001b[0;34m==\u001b[0m \u001b[0;34m'0269'\u001b[0m\u001b[0;34m:\u001b[0m\u001b[0;34m\u001b[0m\u001b[0;34m\u001b[0m\u001b[0m\n",
      "\u001b[0;32m~/code/moritzgeiger/bank-benchmark-api/notebooks/scraping.py\u001b[0m in \u001b[0;36mcomplete_info\u001b[0;34m(self)\u001b[0m\n\u001b[1;32m    229\u001b[0m \u001b[0;34m\u001b[0m\u001b[0m\n\u001b[1;32m    230\u001b[0m     \u001b[0;32mdef\u001b[0m \u001b[0mcomplete_info\u001b[0m\u001b[0;34m(\u001b[0m\u001b[0mself\u001b[0m\u001b[0;34m)\u001b[0m\u001b[0;34m:\u001b[0m\u001b[0;34m\u001b[0m\u001b[0;34m\u001b[0m\u001b[0m\n\u001b[0;32m--> 231\u001b[0;31m         \u001b[0msentence_account\u001b[0m \u001b[0;34m=\u001b[0m \u001b[0mself\u001b[0m\u001b[0;34m.\u001b[0m\u001b[0mvalues_sentence\u001b[0m\u001b[0;34m(\u001b[0m\u001b[0;34m)\u001b[0m\u001b[0;34m\u001b[0m\u001b[0;34m\u001b[0m\u001b[0m\n\u001b[0m\u001b[1;32m    232\u001b[0m         \u001b[0msentence_account\u001b[0m\u001b[0;34m[\u001b[0m\u001b[0;34m'General'\u001b[0m\u001b[0;34m]\u001b[0m\u001b[0;34m=\u001b[0m\u001b[0;34m{\u001b[0m\u001b[0;34m}\u001b[0m\u001b[0;34m\u001b[0m\u001b[0;34m\u001b[0m\u001b[0m\n\u001b[1;32m    233\u001b[0m         \u001b[0mvalues_bank\u001b[0m \u001b[0;34m=\u001b[0m \u001b[0mself\u001b[0m\u001b[0;34m.\u001b[0m\u001b[0mvalues\u001b[0m\u001b[0;34m(\u001b[0m\u001b[0;34m)\u001b[0m\u001b[0;34m\u001b[0m\u001b[0;34m\u001b[0m\u001b[0m\n",
      "\u001b[0;32m~/code/moritzgeiger/bank-benchmark-api/notebooks/scraping.py\u001b[0m in \u001b[0;36mvalues_sentence\u001b[0;34m(self)\u001b[0m\n\u001b[1;32m    202\u001b[0m     \u001b[0;32mdef\u001b[0m \u001b[0mvalues_sentence\u001b[0m\u001b[0;34m(\u001b[0m\u001b[0mself\u001b[0m\u001b[0;34m)\u001b[0m\u001b[0;34m:\u001b[0m\u001b[0;34m\u001b[0m\u001b[0;34m\u001b[0m\u001b[0m\n\u001b[1;32m    203\u001b[0m         \u001b[0msentence_account\u001b[0m \u001b[0;34m=\u001b[0m \u001b[0;34m{\u001b[0m\u001b[0;34m}\u001b[0m\u001b[0;34m\u001b[0m\u001b[0;34m\u001b[0m\u001b[0m\n\u001b[0;32m--> 204\u001b[0;31m         \u001b[0mvalues\u001b[0m \u001b[0;34m=\u001b[0m \u001b[0mself\u001b[0m\u001b[0;34m.\u001b[0m\u001b[0mindexes\u001b[0m\u001b[0;34m(\u001b[0m\u001b[0;34m)\u001b[0m\u001b[0;34m[\u001b[0m\u001b[0;36m1\u001b[0m\u001b[0;34m]\u001b[0m\u001b[0;34m\u001b[0m\u001b[0;34m\u001b[0m\u001b[0m\n\u001b[0m\u001b[1;32m    205\u001b[0m         \u001b[0mnames\u001b[0m \u001b[0;34m=\u001b[0m \u001b[0mself\u001b[0m\u001b[0;34m.\u001b[0m\u001b[0mindexes\u001b[0m\u001b[0;34m(\u001b[0m\u001b[0;34m)\u001b[0m\u001b[0;34m[\u001b[0m\u001b[0;36m0\u001b[0m\u001b[0;34m]\u001b[0m\u001b[0;34m\u001b[0m\u001b[0;34m\u001b[0m\u001b[0m\n\u001b[1;32m    206\u001b[0m         \u001b[0mtext\u001b[0m \u001b[0;34m=\u001b[0m \u001b[0mself\u001b[0m\u001b[0;34m.\u001b[0m\u001b[0mtokenized\u001b[0m\u001b[0;34m\u001b[0m\u001b[0;34m\u001b[0m\u001b[0m\n",
      "\u001b[0;32m~/code/moritzgeiger/bank-benchmark-api/notebooks/scraping.py\u001b[0m in \u001b[0;36mindexes\u001b[0;34m(self)\u001b[0m\n\u001b[1;32m    182\u001b[0m         \u001b[0mindexes_name\u001b[0m \u001b[0;34m=\u001b[0m \u001b[0;34m{\u001b[0m\u001b[0;34m}\u001b[0m\u001b[0;34m\u001b[0m\u001b[0;34m\u001b[0m\u001b[0m\n\u001b[1;32m    183\u001b[0m         \u001b[0mindexes_value\u001b[0m \u001b[0;34m=\u001b[0m \u001b[0;34m{\u001b[0m\u001b[0;34m}\u001b[0m\u001b[0;34m\u001b[0m\u001b[0;34m\u001b[0m\u001b[0m\n\u001b[0;32m--> 184\u001b[0;31m         \u001b[0;32mfor\u001b[0m \u001b[0mname\u001b[0m \u001b[0;32min\u001b[0m \u001b[0mself\u001b[0m\u001b[0;34m.\u001b[0m\u001b[0mnames\u001b[0m\u001b[0;34m(\u001b[0m\u001b[0;34m)\u001b[0m\u001b[0;34m:\u001b[0m\u001b[0;34m\u001b[0m\u001b[0;34m\u001b[0m\u001b[0m\n\u001b[0m\u001b[1;32m    185\u001b[0m             \u001b[0;32mfor\u001b[0m \u001b[0minx\u001b[0m\u001b[0;34m,\u001b[0m\u001b[0msentence\u001b[0m \u001b[0;32min\u001b[0m \u001b[0menumerate\u001b[0m\u001b[0;34m(\u001b[0m\u001b[0mcomplete_text\u001b[0m\u001b[0;34m)\u001b[0m\u001b[0;34m:\u001b[0m\u001b[0;34m\u001b[0m\u001b[0;34m\u001b[0m\u001b[0m\n\u001b[1;32m    186\u001b[0m                 \u001b[0;32mif\u001b[0m \u001b[0mname\u001b[0m \u001b[0;32min\u001b[0m \u001b[0msentence\u001b[0m\u001b[0;34m:\u001b[0m\u001b[0;34m\u001b[0m\u001b[0;34m\u001b[0m\u001b[0m\n",
      "\u001b[0;32m~/code/moritzgeiger/bank-benchmark-api/notebooks/scraping.py\u001b[0m in \u001b[0;36mnames\u001b[0;34m(self)\u001b[0m\n\u001b[1;32m    147\u001b[0m \u001b[0;34m\u001b[0m\u001b[0m\n\u001b[1;32m    148\u001b[0m     \u001b[0;32mdef\u001b[0m \u001b[0mnames\u001b[0m\u001b[0;34m(\u001b[0m\u001b[0mself\u001b[0m\u001b[0;34m)\u001b[0m\u001b[0;34m:\u001b[0m\u001b[0;34m\u001b[0m\u001b[0;34m\u001b[0m\u001b[0m\n\u001b[0;32m--> 149\u001b[0;31m         \u001b[0;32mif\u001b[0m \u001b[0mlen\u001b[0m\u001b[0;34m(\u001b[0m\u001b[0mself\u001b[0m\u001b[0;34m.\u001b[0m\u001b[0mn_account\u001b[0m\u001b[0;34m(\u001b[0m\u001b[0;34m)\u001b[0m\u001b[0;34m[\u001b[0m\u001b[0;36m0\u001b[0m\u001b[0;34m]\u001b[0m\u001b[0;34m)\u001b[0m \u001b[0;34m>\u001b[0m \u001b[0;36m20\u001b[0m\u001b[0;34m:\u001b[0m\u001b[0;34m\u001b[0m\u001b[0;34m\u001b[0m\u001b[0m\n\u001b[0m\u001b[1;32m    150\u001b[0m             \u001b[0;32mreturn\u001b[0m \u001b[0mself\u001b[0m\u001b[0;34m.\u001b[0m\u001b[0mn_account\u001b[0m\u001b[0;34m(\u001b[0m\u001b[0;34m)\u001b[0m\u001b[0;34m\u001b[0m\u001b[0;34m\u001b[0m\u001b[0m\n\u001b[1;32m    151\u001b[0m         \u001b[0mwords\u001b[0m \u001b[0;34m=\u001b[0m \u001b[0;34m[\u001b[0m\u001b[0;34m]\u001b[0m\u001b[0;34m\u001b[0m\u001b[0;34m\u001b[0m\u001b[0m\n",
      "\u001b[0;32m~/code/moritzgeiger/bank-benchmark-api/notebooks/scraping.py\u001b[0m in \u001b[0;36mn_account\u001b[0;34m(self)\u001b[0m\n\u001b[1;32m    132\u001b[0m         \u001b[0mfinals\u001b[0m \u001b[0;34m=\u001b[0m \u001b[0;34m[\u001b[0m\u001b[0;34m]\u001b[0m\u001b[0;34m\u001b[0m\u001b[0;34m\u001b[0m\u001b[0m\n\u001b[1;32m    133\u001b[0m         \u001b[0;31m# self.text = self.getting_text()\u001b[0m\u001b[0;34m\u001b[0m\u001b[0;34m\u001b[0m\u001b[0;34m\u001b[0m\u001b[0m\n\u001b[0;32m--> 134\u001b[0;31m         \u001b[0;32mif\u001b[0m \u001b[0mlen\u001b[0m\u001b[0;34m(\u001b[0m\u001b[0mnltk\u001b[0m\u001b[0;34m.\u001b[0m\u001b[0msent_tokenize\u001b[0m\u001b[0;34m(\u001b[0m\u001b[0mself\u001b[0m\u001b[0;34m.\u001b[0m\u001b[0mtext\u001b[0m\u001b[0;34m)\u001b[0m\u001b[0;34m)\u001b[0m \u001b[0;34m<\u001b[0m \u001b[0;36m15\u001b[0m \u001b[0;34m:\u001b[0m\u001b[0;34m\u001b[0m\u001b[0;34m\u001b[0m\u001b[0m\n\u001b[0m\u001b[1;32m    135\u001b[0m             \u001b[0;32mfor\u001b[0m \u001b[0msentence\u001b[0m \u001b[0;32min\u001b[0m \u001b[0mself\u001b[0m\u001b[0;34m.\u001b[0m\u001b[0mtokenized\u001b[0m\u001b[0;34m:\u001b[0m\u001b[0;34m\u001b[0m\u001b[0;34m\u001b[0m\u001b[0m\n\u001b[1;32m    136\u001b[0m                 \u001b[0;32mif\u001b[0m \u001b[0;34m'Conta'\u001b[0m \u001b[0;32min\u001b[0m \u001b[0msentence\u001b[0m\u001b[0;34m:\u001b[0m\u001b[0;34m\u001b[0m\u001b[0;34m\u001b[0m\u001b[0m\n",
      "\u001b[0;32m~/.pyenv/versions/3.8.6/envs/lewagon/lib/python3.8/site-packages/nltk/tokenize/__init__.py\u001b[0m in \u001b[0;36msent_tokenize\u001b[0;34m(text, language)\u001b[0m\n\u001b[1;32m    105\u001b[0m     \"\"\"\n\u001b[1;32m    106\u001b[0m     \u001b[0mtokenizer\u001b[0m \u001b[0;34m=\u001b[0m \u001b[0mload\u001b[0m\u001b[0;34m(\u001b[0m\u001b[0;34m\"tokenizers/punkt/{0}.pickle\"\u001b[0m\u001b[0;34m.\u001b[0m\u001b[0mformat\u001b[0m\u001b[0;34m(\u001b[0m\u001b[0mlanguage\u001b[0m\u001b[0;34m)\u001b[0m\u001b[0;34m)\u001b[0m\u001b[0;34m\u001b[0m\u001b[0;34m\u001b[0m\u001b[0m\n\u001b[0;32m--> 107\u001b[0;31m     \u001b[0;32mreturn\u001b[0m \u001b[0mtokenizer\u001b[0m\u001b[0;34m.\u001b[0m\u001b[0mtokenize\u001b[0m\u001b[0;34m(\u001b[0m\u001b[0mtext\u001b[0m\u001b[0;34m)\u001b[0m\u001b[0;34m\u001b[0m\u001b[0;34m\u001b[0m\u001b[0m\n\u001b[0m\u001b[1;32m    108\u001b[0m \u001b[0;34m\u001b[0m\u001b[0m\n\u001b[1;32m    109\u001b[0m \u001b[0;34m\u001b[0m\u001b[0m\n",
      "\u001b[0;32m~/.pyenv/versions/3.8.6/envs/lewagon/lib/python3.8/site-packages/nltk/tokenize/punkt.py\u001b[0m in \u001b[0;36mtokenize\u001b[0;34m(self, text, realign_boundaries)\u001b[0m\n\u001b[1;32m   1270\u001b[0m         \u001b[0mGiven\u001b[0m \u001b[0ma\u001b[0m \u001b[0mtext\u001b[0m\u001b[0;34m,\u001b[0m \u001b[0mreturns\u001b[0m \u001b[0ma\u001b[0m \u001b[0mlist\u001b[0m \u001b[0mof\u001b[0m \u001b[0mthe\u001b[0m \u001b[0msentences\u001b[0m \u001b[0;32min\u001b[0m \u001b[0mthat\u001b[0m \u001b[0mtext\u001b[0m\u001b[0;34m.\u001b[0m\u001b[0;34m\u001b[0m\u001b[0;34m\u001b[0m\u001b[0m\n\u001b[1;32m   1271\u001b[0m         \"\"\"\n\u001b[0;32m-> 1272\u001b[0;31m         \u001b[0;32mreturn\u001b[0m \u001b[0mlist\u001b[0m\u001b[0;34m(\u001b[0m\u001b[0mself\u001b[0m\u001b[0;34m.\u001b[0m\u001b[0msentences_from_text\u001b[0m\u001b[0;34m(\u001b[0m\u001b[0mtext\u001b[0m\u001b[0;34m,\u001b[0m \u001b[0mrealign_boundaries\u001b[0m\u001b[0;34m)\u001b[0m\u001b[0;34m)\u001b[0m\u001b[0;34m\u001b[0m\u001b[0;34m\u001b[0m\u001b[0m\n\u001b[0m\u001b[1;32m   1273\u001b[0m \u001b[0;34m\u001b[0m\u001b[0m\n\u001b[1;32m   1274\u001b[0m     \u001b[0;32mdef\u001b[0m \u001b[0mdebug_decisions\u001b[0m\u001b[0;34m(\u001b[0m\u001b[0mself\u001b[0m\u001b[0;34m,\u001b[0m \u001b[0mtext\u001b[0m\u001b[0;34m)\u001b[0m\u001b[0;34m:\u001b[0m\u001b[0;34m\u001b[0m\u001b[0;34m\u001b[0m\u001b[0m\n",
      "\u001b[0;32m~/.pyenv/versions/3.8.6/envs/lewagon/lib/python3.8/site-packages/nltk/tokenize/punkt.py\u001b[0m in \u001b[0;36msentences_from_text\u001b[0;34m(self, text, realign_boundaries)\u001b[0m\n\u001b[1;32m   1324\u001b[0m         \u001b[0mfollows\u001b[0m \u001b[0mthe\u001b[0m \u001b[0mperiod\u001b[0m\u001b[0;34m.\u001b[0m\u001b[0;34m\u001b[0m\u001b[0;34m\u001b[0m\u001b[0m\n\u001b[1;32m   1325\u001b[0m         \"\"\"\n\u001b[0;32m-> 1326\u001b[0;31m         \u001b[0;32mreturn\u001b[0m \u001b[0;34m[\u001b[0m\u001b[0mtext\u001b[0m\u001b[0;34m[\u001b[0m\u001b[0ms\u001b[0m\u001b[0;34m:\u001b[0m\u001b[0me\u001b[0m\u001b[0;34m]\u001b[0m \u001b[0;32mfor\u001b[0m \u001b[0ms\u001b[0m\u001b[0;34m,\u001b[0m \u001b[0me\u001b[0m \u001b[0;32min\u001b[0m \u001b[0mself\u001b[0m\u001b[0;34m.\u001b[0m\u001b[0mspan_tokenize\u001b[0m\u001b[0;34m(\u001b[0m\u001b[0mtext\u001b[0m\u001b[0;34m,\u001b[0m \u001b[0mrealign_boundaries\u001b[0m\u001b[0;34m)\u001b[0m\u001b[0;34m]\u001b[0m\u001b[0;34m\u001b[0m\u001b[0;34m\u001b[0m\u001b[0m\n\u001b[0m\u001b[1;32m   1327\u001b[0m \u001b[0;34m\u001b[0m\u001b[0m\n\u001b[1;32m   1328\u001b[0m     \u001b[0;32mdef\u001b[0m \u001b[0m_slices_from_text\u001b[0m\u001b[0;34m(\u001b[0m\u001b[0mself\u001b[0m\u001b[0;34m,\u001b[0m \u001b[0mtext\u001b[0m\u001b[0;34m)\u001b[0m\u001b[0;34m:\u001b[0m\u001b[0;34m\u001b[0m\u001b[0;34m\u001b[0m\u001b[0m\n",
      "\u001b[0;32m~/.pyenv/versions/3.8.6/envs/lewagon/lib/python3.8/site-packages/nltk/tokenize/punkt.py\u001b[0m in \u001b[0;36m<listcomp>\u001b[0;34m(.0)\u001b[0m\n\u001b[1;32m   1324\u001b[0m         \u001b[0mfollows\u001b[0m \u001b[0mthe\u001b[0m \u001b[0mperiod\u001b[0m\u001b[0;34m.\u001b[0m\u001b[0;34m\u001b[0m\u001b[0;34m\u001b[0m\u001b[0m\n\u001b[1;32m   1325\u001b[0m         \"\"\"\n\u001b[0;32m-> 1326\u001b[0;31m         \u001b[0;32mreturn\u001b[0m \u001b[0;34m[\u001b[0m\u001b[0mtext\u001b[0m\u001b[0;34m[\u001b[0m\u001b[0ms\u001b[0m\u001b[0;34m:\u001b[0m\u001b[0me\u001b[0m\u001b[0;34m]\u001b[0m \u001b[0;32mfor\u001b[0m \u001b[0ms\u001b[0m\u001b[0;34m,\u001b[0m \u001b[0me\u001b[0m \u001b[0;32min\u001b[0m \u001b[0mself\u001b[0m\u001b[0;34m.\u001b[0m\u001b[0mspan_tokenize\u001b[0m\u001b[0;34m(\u001b[0m\u001b[0mtext\u001b[0m\u001b[0;34m,\u001b[0m \u001b[0mrealign_boundaries\u001b[0m\u001b[0;34m)\u001b[0m\u001b[0;34m]\u001b[0m\u001b[0;34m\u001b[0m\u001b[0;34m\u001b[0m\u001b[0m\n\u001b[0m\u001b[1;32m   1327\u001b[0m \u001b[0;34m\u001b[0m\u001b[0m\n\u001b[1;32m   1328\u001b[0m     \u001b[0;32mdef\u001b[0m \u001b[0m_slices_from_text\u001b[0m\u001b[0;34m(\u001b[0m\u001b[0mself\u001b[0m\u001b[0;34m,\u001b[0m \u001b[0mtext\u001b[0m\u001b[0;34m)\u001b[0m\u001b[0;34m:\u001b[0m\u001b[0;34m\u001b[0m\u001b[0;34m\u001b[0m\u001b[0m\n",
      "\u001b[0;32m~/.pyenv/versions/3.8.6/envs/lewagon/lib/python3.8/site-packages/nltk/tokenize/punkt.py\u001b[0m in \u001b[0;36mspan_tokenize\u001b[0;34m(self, text, realign_boundaries)\u001b[0m\n\u001b[1;32m   1314\u001b[0m         \u001b[0;32mif\u001b[0m \u001b[0mrealign_boundaries\u001b[0m\u001b[0;34m:\u001b[0m\u001b[0;34m\u001b[0m\u001b[0;34m\u001b[0m\u001b[0m\n\u001b[1;32m   1315\u001b[0m             \u001b[0mslices\u001b[0m \u001b[0;34m=\u001b[0m \u001b[0mself\u001b[0m\u001b[0;34m.\u001b[0m\u001b[0m_realign_boundaries\u001b[0m\u001b[0;34m(\u001b[0m\u001b[0mtext\u001b[0m\u001b[0;34m,\u001b[0m \u001b[0mslices\u001b[0m\u001b[0;34m)\u001b[0m\u001b[0;34m\u001b[0m\u001b[0;34m\u001b[0m\u001b[0m\n\u001b[0;32m-> 1316\u001b[0;31m         \u001b[0;32mfor\u001b[0m \u001b[0msl\u001b[0m \u001b[0;32min\u001b[0m \u001b[0mslices\u001b[0m\u001b[0;34m:\u001b[0m\u001b[0;34m\u001b[0m\u001b[0;34m\u001b[0m\u001b[0m\n\u001b[0m\u001b[1;32m   1317\u001b[0m             \u001b[0;32myield\u001b[0m \u001b[0;34m(\u001b[0m\u001b[0msl\u001b[0m\u001b[0;34m.\u001b[0m\u001b[0mstart\u001b[0m\u001b[0;34m,\u001b[0m \u001b[0msl\u001b[0m\u001b[0;34m.\u001b[0m\u001b[0mstop\u001b[0m\u001b[0;34m)\u001b[0m\u001b[0;34m\u001b[0m\u001b[0;34m\u001b[0m\u001b[0m\n\u001b[1;32m   1318\u001b[0m \u001b[0;34m\u001b[0m\u001b[0m\n",
      "\u001b[0;32m~/.pyenv/versions/3.8.6/envs/lewagon/lib/python3.8/site-packages/nltk/tokenize/punkt.py\u001b[0m in \u001b[0;36m_realign_boundaries\u001b[0;34m(self, text, slices)\u001b[0m\n\u001b[1;32m   1355\u001b[0m         \"\"\"\n\u001b[1;32m   1356\u001b[0m         \u001b[0mrealign\u001b[0m \u001b[0;34m=\u001b[0m \u001b[0;36m0\u001b[0m\u001b[0;34m\u001b[0m\u001b[0;34m\u001b[0m\u001b[0m\n\u001b[0;32m-> 1357\u001b[0;31m         \u001b[0;32mfor\u001b[0m \u001b[0msl1\u001b[0m\u001b[0;34m,\u001b[0m \u001b[0msl2\u001b[0m \u001b[0;32min\u001b[0m \u001b[0m_pair_iter\u001b[0m\u001b[0;34m(\u001b[0m\u001b[0mslices\u001b[0m\u001b[0;34m)\u001b[0m\u001b[0;34m:\u001b[0m\u001b[0;34m\u001b[0m\u001b[0;34m\u001b[0m\u001b[0m\n\u001b[0m\u001b[1;32m   1358\u001b[0m             \u001b[0msl1\u001b[0m \u001b[0;34m=\u001b[0m \u001b[0mslice\u001b[0m\u001b[0;34m(\u001b[0m\u001b[0msl1\u001b[0m\u001b[0;34m.\u001b[0m\u001b[0mstart\u001b[0m \u001b[0;34m+\u001b[0m \u001b[0mrealign\u001b[0m\u001b[0;34m,\u001b[0m \u001b[0msl1\u001b[0m\u001b[0;34m.\u001b[0m\u001b[0mstop\u001b[0m\u001b[0;34m)\u001b[0m\u001b[0;34m\u001b[0m\u001b[0;34m\u001b[0m\u001b[0m\n\u001b[1;32m   1359\u001b[0m             \u001b[0;32mif\u001b[0m \u001b[0;32mnot\u001b[0m \u001b[0msl2\u001b[0m\u001b[0;34m:\u001b[0m\u001b[0;34m\u001b[0m\u001b[0;34m\u001b[0m\u001b[0m\n",
      "\u001b[0;32m~/.pyenv/versions/3.8.6/envs/lewagon/lib/python3.8/site-packages/nltk/tokenize/punkt.py\u001b[0m in \u001b[0;36m_pair_iter\u001b[0;34m(it)\u001b[0m\n\u001b[1;32m    312\u001b[0m     \u001b[0mit\u001b[0m \u001b[0;34m=\u001b[0m \u001b[0miter\u001b[0m\u001b[0;34m(\u001b[0m\u001b[0mit\u001b[0m\u001b[0;34m)\u001b[0m\u001b[0;34m\u001b[0m\u001b[0;34m\u001b[0m\u001b[0m\n\u001b[1;32m    313\u001b[0m     \u001b[0;32mtry\u001b[0m\u001b[0;34m:\u001b[0m\u001b[0;34m\u001b[0m\u001b[0;34m\u001b[0m\u001b[0m\n\u001b[0;32m--> 314\u001b[0;31m         \u001b[0mprev\u001b[0m \u001b[0;34m=\u001b[0m \u001b[0mnext\u001b[0m\u001b[0;34m(\u001b[0m\u001b[0mit\u001b[0m\u001b[0;34m)\u001b[0m\u001b[0;34m\u001b[0m\u001b[0;34m\u001b[0m\u001b[0m\n\u001b[0m\u001b[1;32m    315\u001b[0m     \u001b[0;32mexcept\u001b[0m \u001b[0mStopIteration\u001b[0m\u001b[0;34m:\u001b[0m\u001b[0;34m\u001b[0m\u001b[0;34m\u001b[0m\u001b[0m\n\u001b[1;32m    316\u001b[0m         \u001b[0;32mreturn\u001b[0m\u001b[0;34m\u001b[0m\u001b[0;34m\u001b[0m\u001b[0m\n",
      "\u001b[0;32m~/.pyenv/versions/3.8.6/envs/lewagon/lib/python3.8/site-packages/nltk/tokenize/punkt.py\u001b[0m in \u001b[0;36m_slices_from_text\u001b[0;34m(self, text)\u001b[0m\n\u001b[1;32m   1328\u001b[0m     \u001b[0;32mdef\u001b[0m \u001b[0m_slices_from_text\u001b[0m\u001b[0;34m(\u001b[0m\u001b[0mself\u001b[0m\u001b[0;34m,\u001b[0m \u001b[0mtext\u001b[0m\u001b[0;34m)\u001b[0m\u001b[0;34m:\u001b[0m\u001b[0;34m\u001b[0m\u001b[0;34m\u001b[0m\u001b[0m\n\u001b[1;32m   1329\u001b[0m         \u001b[0mlast_break\u001b[0m \u001b[0;34m=\u001b[0m \u001b[0;36m0\u001b[0m\u001b[0;34m\u001b[0m\u001b[0;34m\u001b[0m\u001b[0m\n\u001b[0;32m-> 1330\u001b[0;31m         \u001b[0;32mfor\u001b[0m \u001b[0mmatch\u001b[0m \u001b[0;32min\u001b[0m \u001b[0mself\u001b[0m\u001b[0;34m.\u001b[0m\u001b[0m_lang_vars\u001b[0m\u001b[0;34m.\u001b[0m\u001b[0mperiod_context_re\u001b[0m\u001b[0;34m(\u001b[0m\u001b[0;34m)\u001b[0m\u001b[0;34m.\u001b[0m\u001b[0mfinditer\u001b[0m\u001b[0;34m(\u001b[0m\u001b[0mtext\u001b[0m\u001b[0;34m)\u001b[0m\u001b[0;34m:\u001b[0m\u001b[0;34m\u001b[0m\u001b[0;34m\u001b[0m\u001b[0m\n\u001b[0m\u001b[1;32m   1331\u001b[0m             \u001b[0mcontext\u001b[0m \u001b[0;34m=\u001b[0m \u001b[0mmatch\u001b[0m\u001b[0;34m.\u001b[0m\u001b[0mgroup\u001b[0m\u001b[0;34m(\u001b[0m\u001b[0;34m)\u001b[0m \u001b[0;34m+\u001b[0m \u001b[0mmatch\u001b[0m\u001b[0;34m.\u001b[0m\u001b[0mgroup\u001b[0m\u001b[0;34m(\u001b[0m\u001b[0;34m\"after_tok\"\u001b[0m\u001b[0;34m)\u001b[0m\u001b[0;34m\u001b[0m\u001b[0;34m\u001b[0m\u001b[0m\n\u001b[1;32m   1332\u001b[0m             \u001b[0;32mif\u001b[0m \u001b[0mself\u001b[0m\u001b[0;34m.\u001b[0m\u001b[0mtext_contains_sentbreak\u001b[0m\u001b[0;34m(\u001b[0m\u001b[0mcontext\u001b[0m\u001b[0;34m)\u001b[0m\u001b[0;34m:\u001b[0m\u001b[0;34m\u001b[0m\u001b[0;34m\u001b[0m\u001b[0m\n",
      "\u001b[0;31mTypeError\u001b[0m: expected string or bytes-like object"
     ]
    }
   ],
   "source": [
    "complete_info = ctt.output()"
   ]
  },
  {
   "cell_type": "code",
   "execution_count": 91,
   "metadata": {},
   "outputs": [],
   "source": [
    "ctt =DemandDeposit('https://clientebancario.bportugal.pt/sites/default/files/precario/0193_/0193_PRE.pdf', [4], '0193')"
   ]
  },
  {
   "cell_type": "code",
   "execution_count": null,
   "metadata": {},
   "outputs": [],
   "source": []
  }
 ],
 "metadata": {
  "kernelspec": {
   "display_name": "Python 3",
   "language": "python",
   "name": "python3"
  },
  "language_info": {
   "codemirror_mode": {
    "name": "ipython",
    "version": 3
   },
   "file_extension": ".py",
   "mimetype": "text/x-python",
   "name": "python",
   "nbconvert_exporter": "python",
   "pygments_lexer": "ipython3",
   "version": "3.8.6"
  },
  "toc": {
   "base_numbering": 1,
   "nav_menu": {},
   "number_sections": true,
   "sideBar": true,
   "skip_h1_title": false,
   "title_cell": "Table of Contents",
   "title_sidebar": "Contents",
   "toc_cell": false,
   "toc_position": {},
   "toc_section_display": true,
   "toc_window_display": false
  }
 },
 "nbformat": 4,
 "nbformat_minor": 4
}
