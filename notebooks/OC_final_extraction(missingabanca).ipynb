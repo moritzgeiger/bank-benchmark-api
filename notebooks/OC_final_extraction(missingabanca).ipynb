{
 "cells": [
  {
   "cell_type": "code",
   "execution_count": 7,
   "metadata": {},
   "outputs": [
    {
     "name": "stdout",
     "output_type": "stream",
     "text": [
      "The autoreload extension is already loaded. To reload it, use:\n",
      "  %reload_ext autoreload\n"
     ]
    }
   ],
   "source": [
    "%load_ext autoreload\n",
    "%autoreload 2 \n",
    "import pandas as pd\n",
    "import numpy as np\n",
    "import pdfplumber\n",
    "import re\n",
    "import nltk\n",
    "from urllib.parse import urljoin, quote_plus, quote, urlencode\n",
    "from urllib.request import Request, urlopen\n",
    "from io import StringIO, BytesIO\n",
    "from housecredit import HouseCredit\n",
    "from scraping import DemandDeposit"
   ]
  },
  {
   "cell_type": "code",
   "execution_count": 8,
   "metadata": {},
   "outputs": [],
   "source": [
    "ctt = DemandDeposit('https://clientebancario.bportugal.pt/sites/default/files/precario/0193_/0193_PRE.pdf', [4])"
   ]
  },
  {
   "cell_type": "code",
   "execution_count": 10,
   "metadata": {},
   "outputs": [],
   "source": [
    "ctt_sentences = ctt.values_sentence()"
   ]
  },
  {
   "cell_type": "code",
   "execution_count": 11,
   "metadata": {},
   "outputs": [
    {
     "data": {
      "text/plain": [
       "{'Contas de Depósito à Ordem (Comissões aplicáveis a todas as Contas).': {'Extrato Integrado': '0,00'},\n",
       " 'Conta Banco CTT .': {'Comissão de manutenção de conta': '0,00',\n",
       "  'Levantamento de Numerário ao Balcão': '5,00'},\n",
       " 'Conta Júnior (Montante Mínimo de Abertura 25,00€).': {'Comissão de manutenção de conta': '0,00',\n",
       "  'Levantamento de Numerário ao Balcão': '5,00'},\n",
       " 'Conta Base (Montante Mínimo de Abertura 100,00€).': {'Comissão de manutenção de conta': '4,50',\n",
       "  'Levantamento de Numerário ao Balcão': '5,00'},\n",
       " 'Conta de Serviços Mínimos Bancários .': {'Comissão de manutenção de conta': '0,00',\n",
       "  'Levantamento de Numerário ao Balcão': '0,00'},\n",
       " 'Banco CTT, S.A. Contas de Depósito-Particulares - Pág.1/2': {}}"
      ]
     },
     "execution_count": 11,
     "metadata": {},
     "output_type": "execute_result"
    }
   ],
   "source": [
    "ctt_sentences"
   ]
  },
  {
   "cell_type": "code",
   "execution_count": 13,
   "metadata": {},
   "outputs": [
    {
     "data": {
      "text/plain": [
       "{'Contas de Depósito à Ordem (Comissões aplicáveis a todas as Contas).': {'statement': '0,00'},\n",
       " 'Conta Banco CTT .': {'acc_manteinance': '0,00', 'withdraw': '5,00'},\n",
       " 'Conta Júnior (Montante Mínimo de Abertura 25,00€).': {'acc_manteinance': '0,00',\n",
       "  'withdraw': '5,00'},\n",
       " 'Conta Base (Montante Mínimo de Abertura 100,00€).': {'acc_manteinance': '4,50',\n",
       "  'withdraw': '5,00'},\n",
       " 'Conta de Serviços Mínimos Bancários .': {'acc_manteinance': '0,00',\n",
       "  'withdraw': '0,00'},\n",
       " 'Banco CTT, S.A. Contas de Depósito-Particulares - Pág.1/2': {}}"
      ]
     },
     "execution_count": 13,
     "metadata": {},
     "output_type": "execute_result"
    }
   ],
   "source": [
    "ctt.demand_depos()"
   ]
  },
  {
   "cell_type": "code",
   "execution_count": 14,
   "metadata": {},
   "outputs": [],
   "source": [
    "bic = DemandDeposit('https://clientebancario.bportugal.pt/sites/default/files/precario/0079_/0079_PRE_0.pdf',[4,6])\n",
    "dict_bic = bic.demand_depos()"
   ]
  },
  {
   "cell_type": "code",
   "execution_count": 15,
   "metadata": {},
   "outputs": [],
   "source": [
    "abanca = DemandDeposit('https://clientebancario.bportugal.pt/sites/default/files/precario/0170_/0170_PRE.pdf', [4])\n",
    "dict_abanca = abanca.demand_depos()"
   ]
  },
  {
   "cell_type": "code",
   "execution_count": 16,
   "metadata": {},
   "outputs": [
    {
     "data": {
      "text/plain": [
       "{'Conta à Ordem (5),': {'acc_manteinance': '500,00'},\n",
       " 'Conta à Ordem Emigrantes (5),': {'acc_manteinance': '500,00'},\n",
       " 'Conta Ordenado XL (12),': {'acc_manteinance': '500,00'},\n",
       " 'Conta à Ordem Sucursal Financeira Exterior Madeira (5)(6),': {'acc_manteinance': '5,50'},\n",
       " 'Conta Privilégio 55 (5)(7),': {'acc_manteinance': '5,50'},\n",
       " 'Conta à Ordem com Futuro 0,00 nan Nota 4': {'acc_manteinance': '5,50'},\n",
       " 'Conta Cool (contratações a partir de 13 de novembro 2014) 0,00 nan Notas 4,': {'acc_manteinance': '5,50'},\n",
       " 'Conta à Ordem Massa Insolvente 0,00 nan Nota 14': {'acc_manteinance': '5,50'},\n",
       " 'Conta BIC Salário Internacional (Fora de comercialização) 5,00 / mês 60,00 IS 4,00% Notas': {'acc_manteinance': '5,50'},\n",
       " 'Conta Base 5,00 / mês 60,00 IS 4,00% Notas 5, 8 3.': {'acc_manteinance': '5,50'},\n",
       " 'Conta EuroBic Prime com domiciliação de vencimento Nota 15 Sem condições de bonificação 5,50': {'acc_manteinance': '5,50'},\n",
       " 'Conta EuroBic Prime sem domiciliação de vencimento Nota 15 Sem condições de bonificação 7,50': {'acc_manteinance': '5,50'},\n",
       " 'Conta EuroBic 365 com domiciliação de vencimento Nota 16 Sem condições de bonificação 4,25': {'acc_manteinance': '5,50'},\n",
       " 'Conta EuroBic 365 sem domiciliação de vencimento Nota 16 Sem condições de bonificação 6,00': {'acc_manteinance': '5,50'},\n",
       " 'Conta EuroBic Sénior Sem crédito de vencimento e recursos ≤ 35.000 € 4,00 /': {'acc_manteinance': '5,50'},\n",
       " 'Conta EuroBic Mais (Fora de comercialização) Sem crédito de vencimento 7,00 / mês 84,00': {'acc_manteinance': '5,50'}}"
      ]
     },
     "execution_count": 16,
     "metadata": {},
     "output_type": "execute_result"
    }
   ],
   "source": [
    "dict_bic"
   ]
  },
  {
   "cell_type": "code",
   "execution_count": 18,
   "metadata": {},
   "outputs": [],
   "source": [
    "# dict_abanca"
   ]
  },
  {
   "cell_type": "code",
   "execution_count": 19,
   "metadata": {},
   "outputs": [
    {
     "data": {
      "text/plain": [
       "{'Conta de Serviços Mínimos Bancários Comissões vigência contrato 1.': {'acc_manteinance': '4,10'},\n",
       " 'Conta de Serviços Minímos Bancários: Condições de acesso: Particulares residentes num Estado Membro da': {},\n",
       " 'Conta de Serviços Mínimos Bancários não depende da aquisição de outros produtos ou serviços.': {}}"
      ]
     },
     "execution_count": 19,
     "metadata": {},
     "output_type": "execute_result"
    }
   ],
   "source": [
    "bai = DemandDeposit('https://clientebancario.bportugal.pt/sites/default/files/precario/0008_/0008_PRE.pdf',[4])\n",
    "bai.demand_depos()"
   ]
  },
  {
   "cell_type": "code",
   "execution_count": 21,
   "metadata": {},
   "outputs": [
    {
     "data": {
      "text/plain": [
       "{'Conta Bankinter (idade igual ou superior a 18 anos).': {'acc_manteinance': '0,00'},\n",
       " 'Conta Bankinter em Moeda Estrangeira.': {'acc_manteinance': '80,00'},\n",
       " 'Conta B Portugal em Moeda Estrangeira (Clientes Portugueses Não Residentes) -': {'acc_manteinance': '80,00'},\n",
       " 'Conta B Dynamic (idades entre 18 e 54 anos),': {'acc_manteinance': '80,00'},\n",
       " 'Conta B Relax (idade igual ou superior a 55 anos),': {'acc_manteinance': '80,00'},\n",
       " 'Conta Premier (Clientes Segmento Premier),': {'acc_manteinance': '80,00'},\n",
       " 'Conta Internacional (Clientes Estrangeiros Não Residentes em Portugal) - encerrada à comercialização.': {'acc_manteinance': '120,00'},\n",
       " 'Conta BK Mini (Antiga': {'acc_manteinance': '0,00'},\n",
       " 'Conta B Teen),': {'acc_manteinance': '0,00'},\n",
       " 'Conta Mediador de Seguros e': {'acc_manteinance': '0,00'},\n",
       " 'Conta B Kid (idades entre 0 e 13 anos),': {'acc_manteinance': '0,00'},\n",
       " 'Conta B U (Estudantes Universitários).': {'acc_manteinance': '0,00'},\n",
       " 'Conta B Prime (': {'acc_manteinance': '0,00'},\n",
       " 'Conta Ordenado para Clientes Barclaycard - descontinuada)': {'acc_manteinance': '0,00'},\n",
       " 'Conta B Dynamic + (': {'acc_manteinance': '0,00'},\n",
       " 'Conta B Relax + (': {'acc_manteinance': '0,00'},\n",
       " 'Conta Ordenado para Clientes com idade igual ou superior a 55 anos),': {'acc_manteinance': '0,00'},\n",
       " 'Conta Premier + (': {'acc_manteinance': '0,00'},\n",
       " 'Conta B Prime Plus (': {'acc_manteinance': '0,00'},\n",
       " 'Conta Ordenado para Clientes Barclaycard e para Clientes captados no âmbito da Parceria entre:': {'acc_manteinance': '0,00'}}"
      ]
     },
     "execution_count": 21,
     "metadata": {},
     "output_type": "execute_result"
    }
   ],
   "source": [
    "bankinter = DemandDeposit('https://clientebancario.bportugal.pt/sites/default/files/precario/0269_/0269_PRE.pdf', [4])\n",
    "bankinter.demand_depos()"
   ]
  },
  {
   "cell_type": "code",
   "execution_count": 40,
   "metadata": {},
   "outputs": [],
   "source": [
    " values_bank = bankinter.values()"
   ]
  },
  {
   "cell_type": "code",
   "execution_count": 41,
   "metadata": {},
   "outputs": [
    {
     "data": {
      "text/plain": [
       "{'Comissão de Manutenção de Conta': ['Comissão de Manutenção de Conta nan 0,00 nan nan nan nan nan 0,00 Conta Bankinter (idade igual ou superior a 18 anos). 20,00  1.',\n",
       "  'Comissão de Manutenção de Conta nan 80,00 4% nan nan nan 20,80 (trimestral) Ver Nota (1). (trimestral) - Conta Bankinter em Moeda Estrangeira.',\n",
       "  'Comissão de Manutenção de Conta nan 80,00 4% nan nan nan 20,80 (trimestral) Ver Nota (2). (trimestral) - Conta B Dynamic (idades entre 18 e 54 anos), Conta B Relax (idade igual ou superior a 55 anos), Conta Premier (Clientes Segmento Premier), Conta B  Portugal (Clientes Portugueses Não Residentes) - Contas encerradas à comercialização a partir de 15 de Novembro de 2013 inclusivé.',\n",
       "  'Comissão de Manutenção de Conta nan 80,00 4% nan nan nan 20,80 (trimestral) Ver Nota (3). (trimestral) Conta Internacional (Clientes Estrangeiros Não Residentes em Portugal) - encerrada à comercialização.',\n",
       "  'Comissão de Manutenção de Conta nan 120,00 4% nan nan nan 31,20 (trimestral) Ver Nota (3). (trimestral) - Conta BK Mini (Antiga Conta B Teen), Conta Mediador de Seguros e Conta Private  (Clientes Segmento Private); Conta Pessoal (Clientes Crédito ao  Consumo via internet- descontinuada); Conta B Kid (idades entre 0 e 13 anos), Conta B U (Estudantes Universitários).',\n",
       "  'Comissão de Manutenção de Conta nan 0,00 nan nan nan nan nan 0,00 nan - Conta B Prime (Conta Ordenado para Clientes Barclaycard - descontinuada); Conta B Dynamic + (Conta Ordenado para Clientes com idades entre 18 e 54  anos), Conta B Relax + (Conta Ordenado para Clientes com idade igual ou superior a 55 anos), Conta Premier + (Conta Ordenado para Clientes Segmento  Premier), Conta B Prime Plus (Conta Ordenado para Clientes Barclaycard e para Clientes captados no âmbito da Parceria entre: Plurimarketing –  Telemarketing e Marketing Directo, SA., Connecta – Avanzia – Call Center, LDA., AXA Portugal, Companhia de Seguros, SA. e o Bankinter) - Contas  descontinuadas.',\n",
       "  'Comissão de Manutenção de Conta nan 80,00 4% nan nan nan 20,80 (trimestral) Ver Nota (4). (trimestral) - Conta Serviços Mínimos Bancários 1,03  1.',\n",
       "  'Comissão de Manutenção de Conta nan 4,12 4% nan nan nan 1,07 (trimestral) Ver Nota (5). (trimestral) Descoberto Bancário 1 Comissões por Descoberto Bancário Ver Secção 2.5.'],\n",
       " 'Comissão de Levantamento': ['Descobertos Bancários Levantamento de Numerário Ocorre no momento do  Comissão de Levantamento de  levantamento de numerário  1 nan 4,81 nan 4% nan nan nan 5,00 Numerário ao balcão. Ver Nota (6) Alteração de Titulares em Contas de Depósito à Ordem 1.'],\n",
       " 'Comissão de Alteração de Titularidade': ['Comissão de Alteração de Titularidade nan 7,00 nan nan 23% 22% 18% 8,61 8,54 8,26 nan Processo de Habilitação de Herdeiros Comissão de Processo de Habilitação de  Herdeiros 1. nan 75,00 nan nan 23% 22% 18% 92,25 91,50 88,50 nan (Sem Produtos de Investimento/Seguros  associados) Comissão de Processo de Habilitação de  2. Herdeiros com Produtos de  nan 150,00 nan nan 23% 22% 18% 184,50 183,00 177,00 nan Investimento/Seguros associados Qualquer reclamação relacionada com as informações que constem deste(s) quadro(s) pode ser dirigida à Provedoria do Cliente através do telefone  800 261 820, fax 211 158 022, endereço de e-mail provedoria.cliente.pt@bankinter.com ou através de carta para Praça Marquês de Pombal, nº13, 2º andar,  1250-162 Lisboa.'],\n",
       " 'Comissões por Descoberto Bancário': ['(trimestral) Descoberto Bancário 1 Comissões por Descoberto Bancário Ver Secção 2.5. Descobertos Bancários Levantamento de Numerário Ocorre no momento do  Comissão de Levantamento de  levantamento de numerário  1 nan 4,81 nan 4% nan nan nan 5,00 Numerário ao balcão.']}"
      ]
     },
     "execution_count": 41,
     "metadata": {},
     "output_type": "execute_result"
    }
   ],
   "source": [
    "values_bank"
   ]
  },
  {
   "cell_type": "code",
   "execution_count": 42,
   "metadata": {},
   "outputs": [
    {
     "data": {
      "text/plain": [
       "{'Conta Bankinter (idade igual ou superior a 18 anos).': {'Comissão de Manutenção de Conta': '0,00'},\n",
       " 'Conta Bankinter em Moeda Estrangeira.': {'Comissão de Manutenção de Conta': '80,00'},\n",
       " 'Conta B Portugal em Moeda Estrangeira (Clientes Portugueses Não Residentes) -': {'Comissão de Manutenção de Conta': '80,00'},\n",
       " 'Conta B Dynamic (idades entre 18 e 54 anos),': {'Comissão de Manutenção de Conta': '80,00'},\n",
       " 'Conta B Relax (idade igual ou superior a 55 anos),': {'Comissão de Manutenção de Conta': '80,00'},\n",
       " 'Conta Premier (Clientes Segmento Premier),': {'Comissão de Manutenção de Conta': '80,00'},\n",
       " 'Conta Internacional (Clientes Estrangeiros Não Residentes em Portugal) - encerrada à comercialização.': {'Comissão de Manutenção de Conta': '120,00'},\n",
       " 'Conta BK Mini (Antiga': {'Comissão de Manutenção de Conta': '0,00'},\n",
       " 'Conta B Teen),': {'Comissão de Manutenção de Conta': '0,00'},\n",
       " 'Conta Mediador de Seguros e': {'Comissão de Manutenção de Conta': '0,00'},\n",
       " 'Conta B Kid (idades entre 0 e 13 anos),': {'Comissão de Manutenção de Conta': '0,00'},\n",
       " 'Conta B U (Estudantes Universitários).': {'Comissão de Manutenção de Conta': '0,00'},\n",
       " 'Conta B Prime (': {'Comissão de Manutenção de Conta': '0,00'},\n",
       " 'Conta Ordenado para Clientes Barclaycard - descontinuada)': {'Comissão de Manutenção de Conta': '0,00'},\n",
       " 'Conta B Dynamic + (': {'Comissão de Manutenção de Conta': '0,00'},\n",
       " 'Conta B Relax + (': {'Comissão de Manutenção de Conta': '0,00'},\n",
       " 'Conta Ordenado para Clientes com idade igual ou superior a 55 anos),': {'Comissão de Manutenção de Conta': '0,00'},\n",
       " 'Conta Premier + (': {'Comissão de Manutenção de Conta': '0,00'},\n",
       " 'Conta B Prime Plus (': {'Comissão de Manutenção de Conta': '0,00'},\n",
       " 'Conta Ordenado para Clientes Barclaycard e para Clientes captados no âmbito da Parceria entre:': {'Comissão de Manutenção de Conta': '0,00'}}"
      ]
     },
     "execution_count": 42,
     "metadata": {},
     "output_type": "execute_result"
    }
   ],
   "source": [
    "prices_bank =bankinter.values_sentence()\n",
    "prices_bank"
   ]
  },
  {
   "cell_type": "code",
   "execution_count": 43,
   "metadata": {},
   "outputs": [
    {
     "data": {
      "text/plain": [
       "[dict_keys(['Comissão de Manutenção de Conta']),\n",
       " dict_keys(['Comissão de Manutenção de Conta']),\n",
       " dict_keys(['Comissão de Manutenção de Conta']),\n",
       " dict_keys(['Comissão de Manutenção de Conta']),\n",
       " dict_keys(['Comissão de Manutenção de Conta']),\n",
       " dict_keys(['Comissão de Manutenção de Conta']),\n",
       " dict_keys(['Comissão de Manutenção de Conta']),\n",
       " dict_keys(['Comissão de Manutenção de Conta']),\n",
       " dict_keys(['Comissão de Manutenção de Conta']),\n",
       " dict_keys(['Comissão de Manutenção de Conta']),\n",
       " dict_keys(['Comissão de Manutenção de Conta']),\n",
       " dict_keys(['Comissão de Manutenção de Conta']),\n",
       " dict_keys(['Comissão de Manutenção de Conta']),\n",
       " dict_keys(['Comissão de Manutenção de Conta']),\n",
       " dict_keys(['Comissão de Manutenção de Conta']),\n",
       " dict_keys(['Comissão de Manutenção de Conta']),\n",
       " dict_keys(['Comissão de Manutenção de Conta']),\n",
       " dict_keys(['Comissão de Manutenção de Conta']),\n",
       " dict_keys(['Comissão de Manutenção de Conta']),\n",
       " dict_keys(['Comissão de Manutenção de Conta'])]"
      ]
     },
     "execution_count": 43,
     "metadata": {},
     "output_type": "execute_result"
    }
   ],
   "source": [
    "[objects.keys() for k,objects in prices_bank.items()]"
   ]
  },
  {
   "cell_type": "code",
   "execution_count": 45,
   "metadata": {},
   "outputs": [],
   "source": [
    "commissions = [objects.keys() for k,objects in prices_bank.items()]\n",
    "for k,sentences in values_bank.items():\n",
    "    if k not in commissions:\n",
    "        sentence = sentences[0]\n",
    "        price = re.search(r'(\\d+,\\d{2})',sentence)\n",
    "        if price:\n",
    "            found = price.group()\n",
    "            prices_bank[k]=found"
   ]
  },
  {
   "cell_type": "code",
   "execution_count": 47,
   "metadata": {},
   "outputs": [
    {
     "data": {
      "text/plain": [
       "{'Conta Bankinter (idade igual ou superior a 18 anos).': {'Comissão de Manutenção de Conta': '0,00'},\n",
       " 'Conta Bankinter em Moeda Estrangeira.': {'Comissão de Manutenção de Conta': '80,00'},\n",
       " 'Conta B Portugal em Moeda Estrangeira (Clientes Portugueses Não Residentes) -': {'Comissão de Manutenção de Conta': '80,00'},\n",
       " 'Conta B Dynamic (idades entre 18 e 54 anos),': {'Comissão de Manutenção de Conta': '80,00'},\n",
       " 'Conta B Relax (idade igual ou superior a 55 anos),': {'Comissão de Manutenção de Conta': '80,00'},\n",
       " 'Conta Premier (Clientes Segmento Premier),': {'Comissão de Manutenção de Conta': '80,00'},\n",
       " 'Conta Internacional (Clientes Estrangeiros Não Residentes em Portugal) - encerrada à comercialização.': {'Comissão de Manutenção de Conta': '120,00'},\n",
       " 'Conta BK Mini (Antiga': {'Comissão de Manutenção de Conta': '0,00'},\n",
       " 'Conta B Teen),': {'Comissão de Manutenção de Conta': '0,00'},\n",
       " 'Conta Mediador de Seguros e': {'Comissão de Manutenção de Conta': '0,00'},\n",
       " 'Conta B Kid (idades entre 0 e 13 anos),': {'Comissão de Manutenção de Conta': '0,00'},\n",
       " 'Conta B U (Estudantes Universitários).': {'Comissão de Manutenção de Conta': '0,00'},\n",
       " 'Conta B Prime (': {'Comissão de Manutenção de Conta': '0,00'},\n",
       " 'Conta Ordenado para Clientes Barclaycard - descontinuada)': {'Comissão de Manutenção de Conta': '0,00'},\n",
       " 'Conta B Dynamic + (': {'Comissão de Manutenção de Conta': '0,00'},\n",
       " 'Conta B Relax + (': {'Comissão de Manutenção de Conta': '0,00'},\n",
       " 'Conta Ordenado para Clientes com idade igual ou superior a 55 anos),': {'Comissão de Manutenção de Conta': '0,00'},\n",
       " 'Conta Premier + (': {'Comissão de Manutenção de Conta': '0,00'},\n",
       " 'Conta B Prime Plus (': {'Comissão de Manutenção de Conta': '0,00'},\n",
       " 'Conta Ordenado para Clientes Barclaycard e para Clientes captados no âmbito da Parceria entre:': {'Comissão de Manutenção de Conta': '0,00'},\n",
       " 'Comissão de Manutenção de Conta': '0,00',\n",
       " 'Comissão de Levantamento': '4,81',\n",
       " 'Comissão de Alteração de Titularidade': '7,00',\n",
       " 'Comissões por Descoberto Bancário': '4,81'}"
      ]
     },
     "execution_count": 47,
     "metadata": {},
     "output_type": "execute_result"
    }
   ],
   "source": [
    "prices_bank"
   ]
  },
  {
   "cell_type": "code",
   "execution_count": 58,
   "metadata": {},
   "outputs": [
    {
     "data": {
      "text/plain": [
       "{'Conta de Serviços Mínimos Bancários Comissões vigência contrato 1.': {'Manutenção de conta': '4,10'},\n",
       " 'Conta de Serviços Minímos Bancários: Condições de acesso: Particulares residentes num Estado Membro da': {},\n",
       " 'Conta de Serviços Mínimos Bancários não depende da aquisição de outros produtos ou serviços.': {},\n",
       " 'Levantamento de numerário': '20,00'}"
      ]
     },
     "execution_count": 58,
     "metadata": {},
     "output_type": "execute_result"
    }
   ],
   "source": [
    "bai.values_sentence()"
   ]
  },
  {
   "cell_type": "code",
   "execution_count": 59,
   "metadata": {},
   "outputs": [
    {
     "data": {
      "text/plain": [
       "{'Conta Bankinter (idade igual ou superior a 18 anos).': {'acc_manteinance': '0,00'},\n",
       " 'Conta Bankinter em Moeda Estrangeira.': {'acc_manteinance': '80,00'},\n",
       " 'Conta B Portugal em Moeda Estrangeira (Clientes Portugueses Não Residentes) -': {'acc_manteinance': '80,00'},\n",
       " 'Conta B Dynamic (idades entre 18 e 54 anos),': {'acc_manteinance': '80,00'},\n",
       " 'Conta B Relax (idade igual ou superior a 55 anos),': {'acc_manteinance': '80,00'},\n",
       " 'Conta Premier (Clientes Segmento Premier),': {'acc_manteinance': '80,00'},\n",
       " 'Conta Internacional (Clientes Estrangeiros Não Residentes em Portugal) - encerrada à comercialização.': {'acc_manteinance': '120,00'},\n",
       " 'Conta BK Mini (Antiga': {'acc_manteinance': '0,00'},\n",
       " 'Conta B Teen),': {'acc_manteinance': '0,00'},\n",
       " 'Conta Mediador de Seguros e': {'acc_manteinance': '0,00'},\n",
       " 'Conta B Kid (idades entre 0 e 13 anos),': {'acc_manteinance': '0,00'},\n",
       " 'Conta B U (Estudantes Universitários).': {'acc_manteinance': '0,00'},\n",
       " 'Conta B Prime (': {'acc_manteinance': '0,00'},\n",
       " 'Conta Ordenado para Clientes Barclaycard - descontinuada)': {'acc_manteinance': '0,00'},\n",
       " 'Conta B Dynamic + (': {'acc_manteinance': '0,00'},\n",
       " 'Conta B Relax + (': {'acc_manteinance': '0,00'},\n",
       " 'Conta Ordenado para Clientes com idade igual ou superior a 55 anos),': {'acc_manteinance': '0,00'},\n",
       " 'Conta Premier + (': {'acc_manteinance': '0,00'},\n",
       " 'Conta B Prime Plus (': {'acc_manteinance': '0,00'},\n",
       " 'Conta Ordenado para Clientes Barclaycard e para Clientes captados no âmbito da Parceria entre:': {'acc_manteinance': '0,00'},\n",
       " 'statement': '4,81',\n",
       " 'documents_copy': '4,81',\n",
       " 'acc_manteinance': '4,81',\n",
       " 'withdraw': '4,81',\n",
       " 'online_service': '4,81',\n",
       " 'cash_deposit': '4,81',\n",
       " 'change_holder': '4,81',\n",
       " 'bank_overdraft': '4,81',\n",
       " 'movement_consultation': '4,81',\n",
       " 'balance_inquiry': '4,81'}"
      ]
     },
     "execution_count": 59,
     "metadata": {},
     "output_type": "execute_result"
    }
   ],
   "source": [
    "bankinter.demand_depos()"
   ]
  },
  {
   "cell_type": "code",
   "execution_count": 70,
   "metadata": {},
   "outputs": [
    {
     "data": {
      "text/plain": [
       "{'demand_depos': {'subroducts': {'Conta de Serviços Mínimos Bancários Comissões vigência contrato 1.': {'acc_manteinance': '4,10'},\n",
       "   'Conta de Serviços Minímos Bancários: Condições de acesso: Particulares residentes num Estado Membro da': {},\n",
       "   'Conta de Serviços Mínimos Bancários não depende da aquisição de outros produtos ou serviços.': {},\n",
       "   'General': {'withdraw': '20,00'}},\n",
       "  'n_subproducts': 4},\n",
       " 'house_credit': {},\n",
       " 'term_depos': {}}"
      ]
     },
     "execution_count": 70,
     "metadata": {},
     "output_type": "execute_result"
    }
   ],
   "source": [
    "bai.output()"
   ]
  },
  {
   "cell_type": "code",
   "execution_count": 71,
   "metadata": {},
   "outputs": [
    {
     "data": {
      "text/plain": [
       "{'Conta de Serviços Mínimos Bancários Comissões vigência contrato 1.': {'Manutenção de conta': '4,10'},\n",
       " 'Conta de Serviços Minímos Bancários: Condições de acesso: Particulares residentes num Estado Membro da': {},\n",
       " 'Conta de Serviços Mínimos Bancários não depende da aquisição de outros produtos ou serviços.': {},\n",
       " 'General': {'Levantamento de numerário': '20,00'}}"
      ]
     },
     "execution_count": 71,
     "metadata": {},
     "output_type": "execute_result"
    }
   ],
   "source": [
    "bai.complete_info()"
   ]
  },
  {
   "cell_type": "code",
   "execution_count": 72,
   "metadata": {},
   "outputs": [
    {
     "data": {
      "text/plain": [
       "{'demand_depos': {'subroducts': {'Contas de Depósito à Ordem (Comissões aplicáveis a todas as Contas).': {'statement': '0,00'},\n",
       "   'Conta Banco CTT .': {'acc_manteinance': '0,00', 'withdraw': '5,00'},\n",
       "   'Conta Júnior (Montante Mínimo de Abertura 25,00€).': {'acc_manteinance': '0,00',\n",
       "    'withdraw': '5,00'},\n",
       "   'Conta Base (Montante Mínimo de Abertura 100,00€).': {'acc_manteinance': '4,50',\n",
       "    'withdraw': '5,00'},\n",
       "   'Conta de Serviços Mínimos Bancários .': {'acc_manteinance': '0,00',\n",
       "    'withdraw': '0,00'},\n",
       "   'Banco CTT, S.A. Contas de Depósito-Particulares - Pág.1/2': {},\n",
       "   'General': {'statement': '0,00',\n",
       "    'documents_copy': '5,00',\n",
       "    'acc_manteinance': '0,00',\n",
       "    'withdraw': '5,00',\n",
       "    'cash_deposit': '5,00',\n",
       "    'change_holder': '7,00',\n",
       "    'movement_consultation': '2,00',\n",
       "    'balance_inquiry': '0,50'}},\n",
       "  'n_subproducts': 6},\n",
       " 'house_credit': {},\n",
       " 'term_depos': {}}"
      ]
     },
     "execution_count": 72,
     "metadata": {},
     "output_type": "execute_result"
    }
   ],
   "source": [
    "ctt.output()"
   ]
  },
  {
   "cell_type": "code",
   "execution_count": 171,
   "metadata": {},
   "outputs": [
    {
     "data": {
      "text/plain": [
       "{'Conta D.O.': {'Fotocópias de segundas vias de talões de depósito': '5,00',\n",
       "  'Manutenção de conta': '15,00'},\n",
       " 'Conta Ordenado': {'Manutenção de conta': '15,00'},\n",
       " 'Conta Standard': {'Manutenção de conta': '15,00'},\n",
       " 'Conta Future': {'Manutenção de Conta Pacote': '0,00'},\n",
       " 'Conta Base': {'Manutenção de Conta Base': '10,00'}}"
      ]
     },
     "execution_count": 171,
     "metadata": {},
     "output_type": "execute_result"
    }
   ],
   "source": [
    "abanca = DemandDeposit('https://clientebancario.bportugal.pt/sites/default/files/precario/0170_/0170_PRE.pdf', [4])\n",
    "abanca.values_sentence()"
   ]
  },
  {
   "cell_type": "code",
   "execution_count": 116,
   "metadata": {},
   "outputs": [],
   "source": [
    "first_search= abanca.values()\n",
    "values = abanca.indexes()[1]\n",
    "names = abanca.indexes()[0]\n",
    "text = abanca.tokenize()"
   ]
  },
  {
   "cell_type": "code",
   "execution_count": 121,
   "metadata": {},
   "outputs": [
    {
     "data": {
      "text/plain": [
       "14"
      ]
     },
     "execution_count": 121,
     "metadata": {},
     "output_type": "execute_result"
    }
   ],
   "source": [
    "len(names.keys())"
   ]
  },
  {
   "cell_type": "code",
   "execution_count": 183,
   "metadata": {},
   "outputs": [],
   "source": [
    "sentence_account = {}\n",
    "for conta,idx in names.items():\n",
    "    idx = idx[0]\n",
    "    closer = 0\n",
    "    types ={}\n",
    "    if list(names.keys())[0]== 'Conta D.O.':\n",
    "        types ={}\n",
    "        for title in first_search:\n",
    "    #         print(first_search[title])\n",
    "            if conta in first_search[title][0]:\n",
    "                idx = first_search[title][0].index(conta) + len(first_search[title][0]) - 1\n",
    "                decimal = re.search(r'(\\d+,\\d{2})',sentence[idx:])\n",
    "                if price:\n",
    "                    found = decimal.group(1)\n",
    "                    types[title] = found\n",
    "#                 print(idx,found)\n",
    "            else:\n",
    "                for commission,number_comm in values.items():\n",
    "                    for element in number_comm:\n",
    "                        if element >= idx and (element<closer or closer == 0):\n",
    "                            closer = element\n",
    "                            if r'(\\d+,\\d{2})' not in text[element]:\n",
    "                                sentence = text[element]\n",
    "                                sentence = ' '.join([sentence, text[element+1]])\n",
    "                                price = re.search(r'(\\d+,\\d{2})',sentence)\n",
    "                                if price:\n",
    "                                    found = price.group()\n",
    "                                    types[commission] = found\n",
    "                                if conta not in sentence_account:\n",
    "                                    sentence_account[conta] = types\n",
    "                            else:\n",
    "                                price = re.search(r'(\\d+,\\d{2})',sentence)\n",
    "                                if price:\n",
    "                                    found = price.group()\n",
    "                                    types[commission]= text[found]\n",
    "                                if conta not in sentence_account:\n",
    "                                    sentence_account[conta] = types  \n",
    "                    sentence_account[conta] = types \n",
    "\n",
    "    else:\n",
    "        for commission,number_comm in values.items():\n",
    "            for element in number_comm:\n",
    "                if element >= idx and (element<closer or closer == 0):\n",
    "                    closer = element\n",
    "                    if r'(\\d+,\\d{2})' not in text[element]:\n",
    "                        sentence = text[element]\n",
    "                        sentence = ' '.join([sentence, text[element+1]])\n",
    "                        price = re.search(r'(\\d+,\\d{2})',sentence)\n",
    "                        if price:\n",
    "                            found = price.group()\n",
    "                            types[commission] = found\n",
    "                        if conta not in sentence_account:\n",
    "                            sentence_account[conta] = types\n",
    "                    else:\n",
    "                        price = re.search(r'(\\d+,\\d{2})',sentence)\n",
    "                        if price:\n",
    "                            found = price.group()\n",
    "                            types[commission]= text[found]\n",
    "            sentence_account[conta] = types         \n",
    "# return sentence_accounta"
   ]
  },
  {
   "cell_type": "code",
   "execution_count": 184,
   "metadata": {},
   "outputs": [
    {
     "data": {
      "text/plain": [
       "{'Conta D.O.': {'Emissão de extrato': '0,00',\n",
       "  'Fotocópias de segundas vias de talões de depósito': '0,00',\n",
       "  'Manutenção de conta': '0,00'},\n",
       " 'Conta Ordenado': {'Emissão de extrato': '0,00',\n",
       "  'Manutenção de conta': '0,00'},\n",
       " 'Conta Standard': {'Emissão de extrato': '0,00',\n",
       "  'Manutenção de conta': '0,00'},\n",
       " 'Conta Future': {'Emissão de extrato': '0,00',\n",
       "  'Manutenção de Conta Pacote': '0,00'},\n",
       " 'Conta Kids': {'Manutenção de Conta Base': '10,00'},\n",
       " 'Conta Base': {'Emissão de extrato': '0,00',\n",
       "  'Manutenção de Conta Base': '0,00'},\n",
       " 'Conta Private': {'Emissão de extrato': '0,00'},\n",
       " 'Conta Value': {'Emissão de extrato': '0,00'},\n",
       " 'Conta Smart': {'Emissão de extrato': '0,00'},\n",
       " 'Conta Futuro': {'Emissão de extrato': '0,00'},\n",
       " 'Conta Moeda Estrangeira e': {'Emissão de extrato': '0,00'},\n",
       " 'Conta ABANCA Internacional.': {'Emissão de extrato': '0,00'},\n",
       " 'Conta para clientes dos 18 aos 28 anos.': {},\n",
       " 'Conta para clientes dos 0 aos 17 anos.': {}}"
      ]
     },
     "execution_count": 184,
     "metadata": {},
     "output_type": "execute_result"
    }
   ],
   "source": [
    "sentence_account"
   ]
  },
  {
   "cell_type": "code",
   "execution_count": 204,
   "metadata": {},
   "outputs": [
    {
     "name": "stdout",
     "output_type": "stream",
     "text": [
      "i'm going here\n"
     ]
    },
    {
     "ename": "ValueError",
     "evalue": "substring not found",
     "output_type": "error",
     "traceback": [
      "\u001b[0;31m---------------------------------------------------------------------------\u001b[0m",
      "\u001b[0;31mValueError\u001b[0m                                Traceback (most recent call last)",
      "\u001b[0;32m<ipython-input-204-b0b7870a9658>\u001b[0m in \u001b[0;36m<module>\u001b[0;34m\u001b[0m\n\u001b[0;32m----> 1\u001b[0;31m \u001b[0mabanca\u001b[0m\u001b[0;34m.\u001b[0m\u001b[0mvalues_sentence\u001b[0m\u001b[0;34m(\u001b[0m\u001b[0;34m)\u001b[0m\u001b[0;34m\u001b[0m\u001b[0;34m\u001b[0m\u001b[0m\n\u001b[0m",
      "\u001b[0;32m~/code/moritzgeiger/bank-benchmark-api/notebooks/scraping.py\u001b[0m in \u001b[0;36mvalues_sentence\u001b[0;34m(self)\u001b[0m\n\u001b[1;32m    212\u001b[0m                     \u001b[0;32mif\u001b[0m \u001b[0mconta\u001b[0m \u001b[0;32min\u001b[0m \u001b[0mfirst_search\u001b[0m\u001b[0;34m[\u001b[0m\u001b[0mtitle\u001b[0m\u001b[0;34m]\u001b[0m\u001b[0;34m[\u001b[0m\u001b[0;36m0\u001b[0m\u001b[0;34m]\u001b[0m\u001b[0;34m:\u001b[0m\u001b[0;34m\u001b[0m\u001b[0;34m\u001b[0m\u001b[0m\n\u001b[1;32m    213\u001b[0m                         \u001b[0midx\u001b[0m \u001b[0;34m=\u001b[0m \u001b[0mfirst_search\u001b[0m\u001b[0;34m[\u001b[0m\u001b[0mtitle\u001b[0m\u001b[0;34m]\u001b[0m\u001b[0;34m[\u001b[0m\u001b[0;36m0\u001b[0m\u001b[0;34m]\u001b[0m\u001b[0;34m.\u001b[0m\u001b[0mindex\u001b[0m\u001b[0;34m(\u001b[0m\u001b[0mconta\u001b[0m\u001b[0;34m)\u001b[0m \u001b[0;34m+\u001b[0m \u001b[0mlen\u001b[0m\u001b[0;34m(\u001b[0m\u001b[0mfirst_search\u001b[0m\u001b[0;34m[\u001b[0m\u001b[0mtitle\u001b[0m\u001b[0;34m]\u001b[0m\u001b[0;34m[\u001b[0m\u001b[0;36m0\u001b[0m\u001b[0;34m]\u001b[0m\u001b[0;34m)\u001b[0m \u001b[0;34m-\u001b[0m \u001b[0;36m1\u001b[0m\u001b[0;34m\u001b[0m\u001b[0;34m\u001b[0m\u001b[0m\n\u001b[0;32m--> 214\u001b[0;31m                         \u001b[0;32mif\u001b[0m \u001b[0mfull_text\u001b[0m\u001b[0;34m.\u001b[0m\u001b[0mindex\u001b[0m\u001b[0;34m(\u001b[0m\u001b[0mregex\u001b[0m \u001b[0;34m,\u001b[0m\u001b[0midx\u001b[0m\u001b[0;34m)\u001b[0m \u001b[0;34m==\u001b[0m \u001b[0;32mTrue\u001b[0m\u001b[0;34m:\u001b[0m\u001b[0;34m\u001b[0m\u001b[0;34m\u001b[0m\u001b[0m\n\u001b[0m\u001b[1;32m    215\u001b[0m                             \u001b[0mdecimal\u001b[0m \u001b[0;34m=\u001b[0m \u001b[0mfull_text\u001b[0m\u001b[0;34m.\u001b[0m\u001b[0mindex\u001b[0m\u001b[0;34m(\u001b[0m\u001b[0mregex\u001b[0m \u001b[0;34m,\u001b[0m\u001b[0midx\u001b[0m\u001b[0;34m)\u001b[0m\u001b[0;34m\u001b[0m\u001b[0;34m\u001b[0m\u001b[0m\n\u001b[1;32m    216\u001b[0m \u001b[0;34m\u001b[0m\u001b[0m\n",
      "\u001b[0;31mValueError\u001b[0m: substring not found"
     ]
    }
   ],
   "source": [
    "abanca.values_sentence()\n"
   ]
  },
  {
   "cell_type": "code",
   "execution_count": 205,
   "metadata": {},
   "outputs": [
    {
     "data": {
      "text/plain": [
       "{'demand_depos': {'subroducts': {'Conta D.O.': {'statement': '0,00'},\n",
       "   'Conta Ordenado': {'statement': '0,00'},\n",
       "   'Conta Standard': {'statement': '0,00'},\n",
       "   'Conta Future': {'statement': '0,00'},\n",
       "   'Conta Kids': {'acc_manteinance': '10,00'},\n",
       "   'Conta Base': {'statement': '0,00'},\n",
       "   'Conta Private': {'statement': '0,00'},\n",
       "   'Conta Value': {'statement': '0,00'},\n",
       "   'Conta Smart': {'statement': '0,00'},\n",
       "   'Conta Futuro': {'statement': '0,00'},\n",
       "   'Conta Moeda Estrangeira e': {'statement': '0,00'},\n",
       "   'Conta ABANCA Internacional.': {'statement': '0,00'},\n",
       "   'Conta para clientes dos 18 aos 28 anos.': {},\n",
       "   'Conta para clientes dos 0 aos 17 anos.': {},\n",
       "   'General': {'statement': '0,00',\n",
       "    'documents_copy': '5,00',\n",
       "    'acc_manteinance': '10,00',\n",
       "    'withdraw': '0,00',\n",
       "    'online_service': '0,00',\n",
       "    'cash_deposit': '3,50',\n",
       "    'change_holder': '5,00'}},\n",
       "  'n_subproducts': 22},\n",
       " 'house_credit': {},\n",
       " 'term_depos': {}}"
      ]
     },
     "execution_count": 205,
     "metadata": {},
     "output_type": "execute_result"
    }
   ],
   "source": [
    "abanca.output()"
   ]
  },
  {
   "cell_type": "code",
   "execution_count": 197,
   "metadata": {},
   "outputs": [
    {
     "data": {
      "text/plain": [
       "{'Emissão de extrato': ['Emissão de extrato      1.1  Mensal (enviado ao domicílio)  0,00  0,00  IVA – 23%  1.2  Outros, para além do indicado em 1.1  2,00 por extrato  1.3  2ª Via      7,50    2. Fotocópias de segundas vias de talões de depósito   5,00 por documento  0,00  IVA – 23%    3.'],\n",
       " 'Fotocópias de segundas vias de talões de depósito': ['Fotocópias de segundas vias de talões de depósito   5,00 por documento  0,00  IVA – 23%    3. Manutenção de conta      3.1 Conta D.O.'],\n",
       " 'Manutenção de conta': ['Manutenção de conta      3.1 Conta D.O. Particulares (Nota 2)      - Saldo médio até 1.000€  15,00 Trimestral  60,00  - Saldo médio entre 1.001€ e 2.500€  10,00 Trimestral  40,00  IS – 4%    - Saldo médio superior a 2.500€  0,00  0,00  3.2 Conta Ordenado (Nota 1 e Nota 16)  0,00  0,00  3.3 Conta Standard (não admite novas contratações)  0,00  0,00  3.4 Conta Moeda Estrangeira (Nota 12)  5,00 Mensal  60,00  4.'],\n",
       " 'Manutenção de Conta Pacote': ['Manutenção de Conta Pacote      4.1. Conta Future (Nota 3)  0,00  0,00  4.2.'],\n",
       " 'Manutenção de Conta Base': ['Manutenção de Conta Base (Nota 6)  10,00 Mensal  120,00  IS – 4%    6. Manutenção  de  Conta  Serviços  Mínimos  Bancários  2,00 Semestral  4,00  IS – 4%    (Nota 11)  7.'],\n",
       " 'Levantamento de numerário': ['Levantamento de numerário          7.1 Ao balcão, com apresentação de cheque  0,00  0,00  IS – 4%  Nota (13)   7.2 Ao balcão, sem apresentação de cheque  3,50   8. Adesão ao serviço de banca à distância  0,00  0,00  0,00    9.'],\n",
       " 'Adesão ao serviço de banca à distância': ['Adesão ao serviço de banca à distância  0,00  0,00  0,00    9. Depósito de moedas metálicas (igual ou superior a 100  Notas (13)  3,50  0,00  IS – 4%  moedas por dia e por conta)  (14)  Notas (13)  10.'],\n",
       " 'Depósito de moedas metálicas': ['Depósito de moedas metálicas (igual ou superior a 100  Notas (13)  3,50  0,00  IS – 4%  moedas por dia e por conta)  (14)  Notas (13)  10. Alteração de titulares  5,00  0,00  IS – 4%  (15)  11.'],\n",
       " 'Depósito de moedas': ['Depósito de moedas metálicas (igual ou superior a 100  Notas (13)  3,50  0,00  IS – 4%  moedas por dia e por conta)  (14)  Notas (13)  10. Alteração de titulares  5,00  0,00  IS – 4%  (15)  11.'],\n",
       " 'Alteração de titulares': ['Alteração de titulares  5,00  0,00  IS – 4%  (15)  11. Comissão por descoberto bancário  Vide Secção 2.5 Descobertos bancários  Nota (1) Não admite novas contratações.']}"
      ]
     },
     "execution_count": 197,
     "metadata": {},
     "output_type": "execute_result"
    }
   ],
   "source": [
    "first_search"
   ]
  },
  {
   "cell_type": "code",
   "execution_count": 207,
   "metadata": {},
   "outputs": [
    {
     "data": {
      "text/plain": [
       "6"
      ]
     },
     "execution_count": 207,
     "metadata": {},
     "output_type": "execute_result"
    }
   ],
   "source": [
    "ctt.accounts_offer()"
   ]
  },
  {
   "cell_type": "code",
   "execution_count": 209,
   "metadata": {},
   "outputs": [],
   "source": [
    "name ='Banco CTT, S.A. Contas de Depósito-Particulares - Pág.1/2'"
   ]
  },
  {
   "cell_type": "code",
   "execution_count": 217,
   "metadata": {},
   "outputs": [
    {
     "data": {
      "text/plain": [
       "['Contas de Depósito à Ordem (Comissões aplicáveis a todas as Contas).',\n",
       " 'Conta Banco CTT .',\n",
       " 'Conta Júnior (Montante Mínimo de Abertura 25,00€).',\n",
       " 'Conta Base (Montante Mínimo de Abertura 100,00€).',\n",
       " 'Conta de Serviços Mínimos Bancários .',\n",
       " 'Banco CTT, S.A. Contas de Depósito-Particulares - Pág.1/2']"
      ]
     },
     "execution_count": 217,
     "metadata": {},
     "output_type": "execute_result"
    }
   ],
   "source": [
    "ctt.names()"
   ]
  },
  {
   "cell_type": "code",
   "execution_count": 216,
   "metadata": {},
   "outputs": [
    {
     "data": {
      "text/plain": [
       "True"
      ]
     },
     "execution_count": 216,
     "metadata": {},
     "output_type": "execute_result"
    }
   ],
   "source": [
    "name.endswith('Pág.1/2')"
   ]
  },
  {
   "cell_type": "code",
   "execution_count": null,
   "metadata": {},
   "outputs": [],
   "source": []
  }
 ],
 "metadata": {
  "kernelspec": {
   "display_name": "Python 3",
   "language": "python",
   "name": "python3"
  },
  "language_info": {
   "codemirror_mode": {
    "name": "ipython",
    "version": 3
   },
   "file_extension": ".py",
   "mimetype": "text/x-python",
   "name": "python",
   "nbconvert_exporter": "python",
   "pygments_lexer": "ipython3",
   "version": "3.8.6"
  },
  "toc": {
   "base_numbering": 1,
   "nav_menu": {},
   "number_sections": true,
   "sideBar": true,
   "skip_h1_title": false,
   "title_cell": "Table of Contents",
   "title_sidebar": "Contents",
   "toc_cell": false,
   "toc_position": {},
   "toc_section_display": true,
   "toc_window_display": false
  }
 },
 "nbformat": 4,
 "nbformat_minor": 4
}
