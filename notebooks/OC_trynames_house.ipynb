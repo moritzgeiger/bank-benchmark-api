{
 "cells": [
  {
   "cell_type": "markdown",
   "metadata": {},
   "source": [
    "### importing "
   ]
  },
  {
   "cell_type": "code",
   "execution_count": 20,
   "metadata": {},
   "outputs": [
    {
     "name": "stdout",
     "output_type": "stream",
     "text": [
      "The autoreload extension is already loaded. To reload it, use:\n",
      "  %reload_ext autoreload\n"
     ]
    }
   ],
   "source": [
    "%load_ext autoreload\n",
    "%autoreload 2 \n",
    "import pandas as pd\n",
    "import numpy as np\n",
    "import pdfplumber\n",
    "import re\n",
    "import nltk\n",
    "from urllib.parse import urljoin, quote_plus, quote, urlencode\n",
    "from urllib.request import Request, urlopen\n",
    "from io import StringIO, BytesIO\n",
    "from oc_tryinghouse import HouseCredit\n",
    "from try_scrape_demand import DemandDeposit"
   ]
  },
  {
   "cell_type": "code",
   "execution_count": 2,
   "metadata": {},
   "outputs": [
    {
     "ename": "NameError",
     "evalue": "name 'abanca' is not defined",
     "output_type": "error",
     "traceback": [
      "\u001b[0;31m---------------------------------------------------------------------------\u001b[0m",
      "\u001b[0;31mNameError\u001b[0m                                 Traceback (most recent call last)",
      "\u001b[0;32m<ipython-input-2-6c60d506efcf>\u001b[0m in \u001b[0;36m<module>\u001b[0;34m\u001b[0m\n\u001b[0;32m----> 1\u001b[0;31m \u001b[0mDemandDeposit\u001b[0m\u001b[0;34m(\u001b[0m\u001b[0mabanca\u001b[0m\u001b[0;34m[\u001b[0m\u001b[0;36m2\u001b[0m\u001b[0;34m]\u001b[0m\u001b[0;34m[\u001b[0m\u001b[0;34m'link'\u001b[0m\u001b[0;34m]\u001b[0m\u001b[0;34m,\u001b[0m\u001b[0;34m[\u001b[0m\u001b[0;36m4\u001b[0m\u001b[0;34m]\u001b[0m\u001b[0;34m,\u001b[0m\u001b[0;34m'0170'\u001b[0m\u001b[0;34m)\u001b[0m\u001b[0;34m.\u001b[0m\u001b[0moutput\u001b[0m\u001b[0;34m(\u001b[0m\u001b[0;34m)\u001b[0m\u001b[0;34m\u001b[0m\u001b[0;34m\u001b[0m\u001b[0m\n\u001b[0m",
      "\u001b[0;31mNameError\u001b[0m: name 'abanca' is not defined"
     ]
    }
   ],
   "source": [
    "# DemandDeposit(abanca[2]['link'],[4],'0170').output()"
   ]
  },
  {
   "cell_type": "markdown",
   "metadata": {},
   "source": [
    "demand deposit \n",
    "- bankinter = 4\n",
    "- abanca = 4\n",
    "- bai = 4\n",
    "- bic = 4,6\n",
    "- ctt = 4\n",
    "housing credit \n",
    "- bankinter = 8,9,10,11,12,13,14,15,16,17\n",
    "- abanca = 6,7,8\n",
    "- bai = no product\n",
    "- bic = 7,8,9,10,12,13\n",
    "- ctt = 6\n"
   ]
  },
  {
   "cell_type": "code",
   "execution_count": 3,
   "metadata": {},
   "outputs": [],
   "source": [
    "abanca={1:{'link':'https://www.abanca.pt', 'page':[]}, \n",
    "        2:{'link':'https://clientebancario.bportugal.pt/sites/default/files/precario/0170_/0170_PRE.pdf', 'page':[6,7,8]},\n",
    "        3:{'link':'https://storage.googleapis.com/bank_price_pdfs/1_all_products_210412130040.pdf', 'page':[6]}}\n",
    "bankinter={1:{'link':'https://www.bankinter.pt', 'page':[]},\n",
    "           2:{'link':'https://clientebancario.bportugal.pt/sites/default/files/precario/0269_/0269_PRE.pdf', 'page':[8,9,10,11,12,13,14,15,16,17]},\n",
    "           3:{'link': 'https://storage.googleapis.com/bank_price_pdfs/2_all_products_210412130350.pdf', 'page':[], 'notes':'image file'}}\n",
    "bic={1:{'link':'https://www.bancobic.ao' ,'page':[]},\n",
    "     2:{'link':'https://clientebancario.bportugal.pt/sites/default/files/precario/0079_/0079_PRE_0.pdf', 'page':[7,8,9,10,12,13]},\n",
    "     3:{'link':'https://storage.googleapis.com/bank_price_pdfs/3_all_products_210412130840.pdf', 'page':[], 'notes':'wrong file'}}\n",
    "bai={1:{'link':'https://www.bancobai.ao', 'page':[]},\n",
    "     2:{'link':'https://clientebancario.bportugal.pt/sites/default/files/precario/0008_/0008_PRE.pdf', 'page':[], 'notes':'No housing credit products'},\n",
    "     3:{'link':'https://storage.googleapis.com/bank_price_pdfs/4_all_products_210412130952.pdf', 'page':[], 'notes':'No housing credit products'}}\n",
    "ctt={1:{'link':'https://www.bancoctt.pt/', 'page':[]},\n",
    "     2:{'link':'https://clientebancario.bportugal.pt/sites/default/files/precario/0193_/0193_PRE.pdf', 'page':[6]},\n",
    "     3:{'link':'https://storage.googleapis.com/bank_price_pdfs/5_all_products_210412131014.pdf', 'page':[6]}}"
   ]
  },
  {
   "cell_type": "markdown",
   "metadata": {},
   "source": [
    "### dictionary"
   ]
  },
  {
   "cell_type": "code",
   "execution_count": 4,
   "metadata": {},
   "outputs": [],
   "source": [
    "house_credit_com = {'admin':['Comissões associadas a atos administrativos 4.1 Não realização da escritura',\n",
    "                             'Alteração do local da escritura',\n",
    "                             'Declarações de dívida',\n",
    "                             'Mudança de regime de crédito',\n",
    "                             'Declarações de dívida',\n",
    "                             'Pedido de 2ª via de Caderneta Predial',\n",
    "                             'Emissão de declarações não obrigatórias por lei',\n",
    "                             'Emissão de 2ª vias de Declaração para efeitos de IRS – Urgente',\n",
    "                             'Emissão de 2º vias de Declaração para efeitos de IRS',\n",
    "                             'Emissão de 2ª vias de faturas',\n",
    "                             'Declaração de Dívida para Fins Diversos',\n",
    "                             'Declaração de Encargos com Prestações'],\n",
    "                    'certificates':['Emolumentos do registo predial', 'registo predial',\n",
    "                                    'Certidão permanente on-line'],\n",
    "                    'debt_recovery':['Comissão de recuperação de valores em dívida', 'Prestação até 50.000 €',\n",
    "                                    'Prestação > 50.000 €', 'Comissão de recuperação de valores em dívida',\n",
    "                                    'Prestação > 50.000,00€', 'Prestação ≤ 50.000,00€'],\n",
    "                    'displacement':['Comissão de deslocação', 'Até 100 Kms', '101 a 250 Kms', '> 250 Kms '],\n",
    "                    'early_payment':['Comissão de reembolso antecipado parcial', 'Taxa fixa', 'Taxa variável', \n",
    "                                    'Taxa fixa', 'Comissão de reembolso antecipado total', 'Comissão de antecipação',\n",
    "                                    '(pré.aviso 7 dias)', 'Comissão de compra antecipada', '(pré-aviso 10 dias)',\n",
    "                                    'Comissão de Reembolso Antecipado Parcial',\n",
    "                                    'Comissão de reembolso antecipado total'],\n",
    "                    'evaluation':['Avaliação', 'Imóvel residencial', \n",
    "                                 'Garagens e arrecadações não anexas ao imóvel residencial', 'Avaliação do Imóvel'],\n",
    "                    'formalization':['Comissão de formalização', 'Formalização'],\n",
    "                    'process':['Processo', 'Abertura de Processo',\n",
    "                              'Desistência ou não conclusão do processo por motivos imputáveis ao cliente'],\n",
    "                    'inspections':['Vistorias', 'em caso de construção ou realização de obras'],\n",
    "                    'reanalysis':['Reanálise'],\n",
    "                    'settlement':['Comissão de Liquidação de Prestação', 'Liquidação de Prestação'],\n",
    "                    'solicitors_notary':['Emolumentos notariais', 'Solicitadoria', 'Notiário'],\n",
    "                    'statements':['Emissão de extratos de conta de empréstimos liquidados', 'extrato', 'extratos',\n",
    "                                  'extrato de conta', 'extrato mensal'],\n",
    "                    'taxes':['Imposto do Selo sobre concessão de crédito', 'imposto', 'imposto de selo', 'impostos'],\n",
    "                    'termination':['Cessação da posição contratual', 'cessação', 'rescisão', 'encerramento']}"
   ]
  },
  {
   "cell_type": "markdown",
   "metadata": {},
   "source": [
    "### make function of pedro run"
   ]
  },
  {
   "cell_type": "markdown",
   "metadata": {},
   "source": [
    "#### big function"
   ]
  },
  {
   "cell_type": "code",
   "execution_count": 5,
   "metadata": {},
   "outputs": [
    {
     "ename": "TypeError",
     "evalue": "__init__() missing 1 required positional argument: 'id_bank'",
     "output_type": "error",
     "traceback": [
      "\u001b[0;31m---------------------------------------------------------------------------\u001b[0m",
      "\u001b[0;31mTypeError\u001b[0m                                 Traceback (most recent call last)",
      "\u001b[0;32m<ipython-input-5-59a102bafcba>\u001b[0m in \u001b[0;36m<module>\u001b[0;34m\u001b[0m\n\u001b[0;32m----> 1\u001b[0;31m \u001b[0mabanca_f\u001b[0m \u001b[0;34m=\u001b[0m \u001b[0mHouseCredit\u001b[0m\u001b[0;34m(\u001b[0m\u001b[0mabanca\u001b[0m\u001b[0;34m[\u001b[0m\u001b[0;36m2\u001b[0m\u001b[0;34m]\u001b[0m\u001b[0;34m[\u001b[0m\u001b[0;34m'link'\u001b[0m\u001b[0;34m]\u001b[0m\u001b[0;34m,\u001b[0m \u001b[0mabanca\u001b[0m\u001b[0;34m[\u001b[0m\u001b[0;36m2\u001b[0m\u001b[0;34m]\u001b[0m\u001b[0;34m[\u001b[0m\u001b[0;34m'page'\u001b[0m\u001b[0;34m]\u001b[0m\u001b[0;34m)\u001b[0m\u001b[0;34m.\u001b[0m\u001b[0mscrape_all\u001b[0m\u001b[0;34m(\u001b[0m\u001b[0;34m)\u001b[0m\u001b[0;34m\u001b[0m\u001b[0;34m\u001b[0m\u001b[0m\n\u001b[0m",
      "\u001b[0;31mTypeError\u001b[0m: __init__() missing 1 required positional argument: 'id_bank'"
     ]
    }
   ],
   "source": [
    "# abanca_f = HouseCredit(abanca[2]['link'], abanca[2]['page']).scrape_all()"
   ]
  },
  {
   "cell_type": "code",
   "execution_count": 6,
   "metadata": {},
   "outputs": [
    {
     "ename": "TypeError",
     "evalue": "__init__() missing 1 required positional argument: 'id_bank'",
     "output_type": "error",
     "traceback": [
      "\u001b[0;31m---------------------------------------------------------------------------\u001b[0m",
      "\u001b[0;31mTypeError\u001b[0m                                 Traceback (most recent call last)",
      "\u001b[0;32m<ipython-input-6-e1fd2639e178>\u001b[0m in \u001b[0;36m<module>\u001b[0;34m\u001b[0m\n\u001b[0;32m----> 1\u001b[0;31m \u001b[0mctt_f\u001b[0m \u001b[0;34m=\u001b[0m \u001b[0mHouseCredit\u001b[0m\u001b[0;34m(\u001b[0m\u001b[0mctt\u001b[0m\u001b[0;34m[\u001b[0m\u001b[0;36m2\u001b[0m\u001b[0;34m]\u001b[0m\u001b[0;34m[\u001b[0m\u001b[0;34m'link'\u001b[0m\u001b[0;34m]\u001b[0m\u001b[0;34m,\u001b[0m \u001b[0mctt\u001b[0m\u001b[0;34m[\u001b[0m\u001b[0;36m2\u001b[0m\u001b[0;34m]\u001b[0m\u001b[0;34m[\u001b[0m\u001b[0;34m'page'\u001b[0m\u001b[0;34m]\u001b[0m\u001b[0;34m)\u001b[0m\u001b[0;34m.\u001b[0m\u001b[0mscrape_all\u001b[0m\u001b[0;34m(\u001b[0m\u001b[0;34m)\u001b[0m\u001b[0;34m\u001b[0m\u001b[0;34m\u001b[0m\u001b[0m\n\u001b[0m",
      "\u001b[0;31mTypeError\u001b[0m: __init__() missing 1 required positional argument: 'id_bank'"
     ]
    }
   ],
   "source": [
    "# ctt_f = HouseCredit(ctt[2]['link'], ctt[2]['page']).scrape_all()"
   ]
  },
  {
   "cell_type": "code",
   "execution_count": null,
   "metadata": {},
   "outputs": [],
   "source": [
    "bankinter_f = HouseCredit(bankinter[2]['link'], bankinter[2]['page']).scrape_all()"
   ]
  },
  {
   "cell_type": "code",
   "execution_count": null,
   "metadata": {},
   "outputs": [],
   "source": [
    "bic_f = HouseCredit(bic[2]['link'], bic[2]['page']).scrape_all()"
   ]
  },
  {
   "cell_type": "markdown",
   "metadata": {},
   "source": [
    "#### function to avid page section:"
   ]
  },
  {
   "cell_type": "code",
   "execution_count": null,
   "metadata": {},
   "outputs": [],
   "source": [
    "# newby = {}\n",
    "# for page in abanca_f:\n",
    "#     for k in abanca_f[page]:\n",
    "#         newby[k]=abanca_f[page][k]"
   ]
  },
  {
   "cell_type": "markdown",
   "metadata": {},
   "source": [
    "### scraping Names"
   ]
  },
  {
   "cell_type": "markdown",
   "metadata": {},
   "source": [
    "#### importing function needed"
   ]
  },
  {
   "cell_type": "code",
   "execution_count": null,
   "metadata": {},
   "outputs": [],
   "source": [
    "def get_pdf(link):\n",
    "        remote = urlopen(Request(link)).read()\n",
    "        memory = BytesIO(remote)\n",
    "        return memory\n",
    "def getting_text(link, page_demand):\n",
    "        file = get_pdf(link)\n",
    "        file = pdfplumber.open(file)\n",
    "        print('extract pdf content to text...')\n",
    "        print()\n",
    "        if len(page_demand) > 1 :\n",
    "            joined_text = []\n",
    "            for el in page_demand:\n",
    "                page = file.pages[el]\n",
    "                text = page.extract_text()\n",
    "                joined_text.append(text)\n",
    "            text ='             NEXT          '.join(joined_text)\n",
    "            text = text.replace('Isento', '0,00')\n",
    "            text = text.replace('n/a', '0,00')\n",
    "            text = re.sub('--', str(np.nan), text)\n",
    "            return text\n",
    "        else:\n",
    "            page = file.pages[page_demand[0]]\n",
    "            text = page.extract_text()\n",
    "            text = text.replace('Isento', '0,00')\n",
    "            text = text.replace('n/a', '0,00')\n",
    "            text = re.sub('--', str(np.nan), text)\n",
    "            return text"
   ]
  },
  {
   "cell_type": "code",
   "execution_count": null,
   "metadata": {},
   "outputs": [],
   "source": [
    "def tokenize(text):\n",
    "    \n",
    "    if len(nltk.sent_tokenize(text)) < 15:\n",
    "        text = text.replace('\\n','. ')\n",
    "        # text = len_sentences(text)\n",
    "        text = nltk.sent_tokenize(text)\n",
    "        return text\n",
    "    text = text.replace('\\n',' ')\n",
    "    # text = len_sentences(text)\n",
    "    text = nltk.sent_tokenize(text)\n",
    "    return text"
   ]
  },
  {
   "cell_type": "code",
   "execution_count": null,
   "metadata": {},
   "outputs": [],
   "source": [
    "def n_account(text,sent):\n",
    "        finals = []\n",
    "        tokenized = sent\n",
    "        for sentence in tokenized:\n",
    "            if 'Crédito' in sentence or 'Habitação' in sentence:\n",
    "                finals.append(sentence)\n",
    "            \n",
    "        return finals"
   ]
  },
  {
   "cell_type": "code",
   "execution_count": null,
   "metadata": {},
   "outputs": [],
   "source": [
    "def names(values):\n",
    "    search = 'Comissão'\n",
    "    search2 = 'Crédito / Particulares'\n",
    "    search3 ='Aplicável'\n",
    "    search4 = 'Nota 1  CréditoHabitação'\n",
    "    search5 = 'Incluem-se'\n",
    "    product = 'hello world'\n",
    "    regular = []\n",
    "    if len(values) < 10:\n",
    "        return values\n",
    "    else:\n",
    "        for value in values:\n",
    "            value = value.replace('Crédito à habitação e outros créditos hipotecários (cont.)','')\n",
    "            value = value.replace('Crédito à habitação e outros créditos hipotecários','')\n",
    "            value = value.replace('(cont.)','')\n",
    "            value =value.replace('Comissões Acresce  Outras  Euros  Valor  Em %   Imposto condições (Mín/Máx) Anual', '')\n",
    "            value = value.replace('Outros Créditos Hipotecários', '')\n",
    "            if search not in value and search2 not in value and search3 not in value and search4 not in value and search5 not in value:\n",
    "                if len(value) > 5:\n",
    "                    regular.append(value)\n",
    "                    regular += [product]\n",
    "    return regular\n",
    "#         return regular"
   ]
  },
  {
   "cell_type": "markdown",
   "metadata": {},
   "source": [
    "#### importing text and file"
   ]
  },
  {
   "cell_type": "code",
   "execution_count": null,
   "metadata": {},
   "outputs": [],
   "source": [
    "abanca_text = getting_text(abanca[2]['link'], abanca[2]['page'])\n",
    "bankinter_text = getting_text(bankinter[2]['link'], bankinter[2]['page'])\n",
    "bic_text = getting_text(bic[2]['link'], bic[2]['page'])\n",
    "ctt_text = getting_text(ctt[2]['link'], ctt[2]['page'])"
   ]
  },
  {
   "cell_type": "code",
   "execution_count": null,
   "metadata": {},
   "outputs": [],
   "source": [
    "abanca_sent = tokenize(abanca_text)\n",
    "bankinter_sent = tokenize(bankinter_text)\n",
    "bic_sent= tokenize(bic_text)\n",
    "ctt_sent = tokenize(ctt_text)"
   ]
  },
  {
   "cell_type": "code",
   "execution_count": null,
   "metadata": {},
   "outputs": [],
   "source": [
    "# abanca_sent"
   ]
  },
  {
   "cell_type": "markdown",
   "metadata": {},
   "source": [
    "### testing"
   ]
  },
  {
   "cell_type": "markdown",
   "metadata": {},
   "source": [
    "##### this is just the n_account function (already enought for abanca, ctt)"
   ]
  },
  {
   "cell_type": "code",
   "execution_count": null,
   "metadata": {},
   "outputs": [],
   "source": [
    "abanca_n = n_account(abanca_text, abanca_sent)\n",
    "ctt_n = n_account(ctt_text, ctt_sent)\n",
    "bankinter_n = n_account(bankinter_text, bankinter_sent)\n",
    "bic_n = n_account(bic_text,bic_sent)"
   ]
  },
  {
   "cell_type": "code",
   "execution_count": null,
   "metadata": {},
   "outputs": [],
   "source": [
    "bic_n"
   ]
  },
  {
   "cell_type": "markdown",
   "metadata": {},
   "source": [
    "##### now try to solve for bankinter and bic"
   ]
  },
  {
   "cell_type": "code",
   "execution_count": null,
   "metadata": {},
   "outputs": [],
   "source": [
    "abanca_names = names(abanca_n)\n",
    "ctt_names = names(ctt_n)\n",
    "bankinter_names = names(bankinter_n)\n",
    "bic_names = names(bic_n)"
   ]
  },
  {
   "cell_type": "code",
   "execution_count": null,
   "metadata": {},
   "outputs": [],
   "source": [
    "bic_names"
   ]
  },
  {
   "cell_type": "markdown",
   "metadata": {},
   "source": [
    "### associating name and scraped prices"
   ]
  },
  {
   "cell_type": "markdown",
   "metadata": {},
   "source": [
    "#### abanca"
   ]
  },
  {
   "cell_type": "code",
   "execution_count": null,
   "metadata": {},
   "outputs": [],
   "source": [
    "abanca_n == abanca_names , ctt_n==ctt_names"
   ]
  },
  {
   "cell_type": "code",
   "execution_count": null,
   "metadata": {},
   "outputs": [],
   "source": [
    "# abanca_n"
   ]
  },
  {
   "cell_type": "code",
   "execution_count": null,
   "metadata": {},
   "outputs": [],
   "source": [
    "new_dict = {}\n",
    "for k,v in abanca_f.items():\n",
    "    for name in abanca_names:\n",
    "        new_dict[name]=v"
   ]
  },
  {
   "cell_type": "code",
   "execution_count": null,
   "metadata": {},
   "outputs": [],
   "source": [
    "new_dict"
   ]
  },
  {
   "cell_type": "markdown",
   "metadata": {},
   "source": [
    "#### ctt"
   ]
  },
  {
   "cell_type": "code",
   "execution_count": null,
   "metadata": {},
   "outputs": [],
   "source": [
    "# ctt_names"
   ]
  },
  {
   "cell_type": "code",
   "execution_count": null,
   "metadata": {},
   "outputs": [],
   "source": [
    "def association(function, names):  \n",
    "    new_dict = {}\n",
    "    for k,v in function.items():\n",
    "        for name in names:\n",
    "            new_dict[name]=v\n",
    "    return new_dict"
   ]
  },
  {
   "cell_type": "code",
   "execution_count": null,
   "metadata": {},
   "outputs": [],
   "source": [
    "new_dict_ctt = association(ctt_f,ctt_names)\n",
    "new_dict_ctt.pop('Banco CTT, S.A. Operações Crédito-Particulares - Pág.1/2')\n",
    "new_dict_ctt"
   ]
  },
  {
   "cell_type": "markdown",
   "metadata": {},
   "source": [
    "#### bic"
   ]
  },
  {
   "cell_type": "code",
   "execution_count": null,
   "metadata": {},
   "outputs": [],
   "source": [
    "len(bic_f) , len(bic_names)"
   ]
  },
  {
   "cell_type": "code",
   "execution_count": null,
   "metadata": {},
   "outputs": [],
   "source": [
    "bankinter_names"
   ]
  },
  {
   "cell_type": "code",
   "execution_count": null,
   "metadata": {},
   "outputs": [],
   "source": [
    "for i,name in enumerate(bic_names):\n",
    "    print(f' THIS IS THE {i+1} NAME:  {name} \\n')\n"
   ]
  },
  {
   "cell_type": "markdown",
   "metadata": {},
   "source": [
    "- ho barato malissimo ma sticazzi"
   ]
  },
  {
   "cell_type": "code",
   "execution_count": null,
   "metadata": {},
   "outputs": [],
   "source": [
    "type(bic_names)"
   ]
  },
  {
   "cell_type": "code",
   "execution_count": null,
   "metadata": {},
   "outputs": [],
   "source": [
    "product = 'Mútuo a obras e construções (Fora de comercialização)'\n",
    "bic_names += [product]"
   ]
  },
  {
   "cell_type": "code",
   "execution_count": null,
   "metadata": {},
   "outputs": [],
   "source": [
    "new_dict_bic = association(bic_f,bic_names)"
   ]
  },
  {
   "cell_type": "code",
   "execution_count": null,
   "metadata": {},
   "outputs": [],
   "source": [
    "abanca_names"
   ]
  },
  {
   "cell_type": "code",
   "execution_count": null,
   "metadata": {},
   "outputs": [],
   "source": [
    "result = []\n",
    "for i,sentence in enumerate(bankinter_n):\n",
    "    if 'Crédito à habitação e outros créditos hipotecários' in sentence:\n",
    "#         if '(cont.)' not in sentence:\n",
    "          result.append(' '.join([sentence,bankinter_n[i+1]]))\n",
    "len(result)"
   ]
  },
  {
   "cell_type": "code",
   "execution_count": null,
   "metadata": {},
   "outputs": [],
   "source": [
    "result"
   ]
  },
  {
   "cell_type": "code",
   "execution_count": null,
   "metadata": {},
   "outputs": [],
   "source": [
    "len(HouseCredit(bankinter[2]['link'], bankinter[2]['page'],'0269').final()"
   ]
  },
  {
   "cell_type": "code",
   "execution_count": 10,
   "metadata": {},
   "outputs": [
    {
     "name": "stdout",
     "output_type": "stream",
     "text": [
      "output was called\n",
      "opening url: https://clientebancario.bportugal.pt/sites/default/files/precario/0170_/0170_PRE.pdf...\n",
      "extract pdf content to text...\n",
      "\n",
      "tokenize text...\n",
      "found these headers in parsed pages: ['OPERAÇÕES DE CRÉDITO (PARTICULARES)                                                                                 ÍNDICE  2.1 Crédito à habitação e outros créditos hipotecários    Comissões  Acresce    Valor  Outras condições  Em %  Euros (Mín/Máx)  Imposto  anual  Produto: Crédito Habitação Regime Geral e Regime Deficientes.', 'Caracterização do produto: Crédito à habitação com garantia hipotecária destinado à aquisição, construção e realização de obras em  habitação própria e permanente, secundária ou para arrendamento (no Regime Deficientes só habitação própria e permanente) ou à  aquisição ou manutenção de direitos de propriedade sobre terrenos ou edifícios já existentes ou projetados.', 'OPERAÇÕES DE CRÉDITO (PARTICULARES)                                                                                      ÍNDICE  2.1 Crédito à habitação e outros créditos  Comissões  hipotecários (cont.)', 'Acresce  Outras condições    Euros  Valor  Imposto  Em %  (Mín/Máx)  anual  Produto: Crédito Multiopções   Caracterização do produto: Crédito hipotecário cuja finalidade não seja enquadrável no crédito habitação ou em que não esteja definido o  fim a que se destina a quantia mutuada.', 'OPERAÇÕES DE CRÉDITO (PARTICULARES)                                                                                      ÍNDICE  2.1 Crédito à habitação e outros créditos  Acresce  Comissões  Outras condições  hipotecários (cont.)', 'Imposto  Produto: Leasing Habitação (fora de comercialização)  Caracterização do produto: Locação financeira imobiliária  Os seguros obrigatórios são os mesmos do Crédito à Habitação (não aplicáveis a pessoas coletivas), assumindo que não houve renúncia  à isenção de IVA  Comissões durante a vigência do contrato  1.']\n",
      "parse product:                                                                                  ÍNDICE  2.1 Crédito à habitação e outros créditos hipotecários    Comissões  Acresce    Valor  Outras condições  Em %  Euros (Mín/Máx)  Imposto  anual  Produto: Crédito Habitação Regime Geral e Regime Deficientes., fee {'1.  Reanálise': '250,00', '2.  Comissão de formalização': '500,00', '3.  Avaliação ': {'.1  Imóvel residencial ': '275,00', '.2  Garagens e arrecadações não anexas ao imóvel residencial': '130,00'}, '4.  Comissões associadas a atos administrativos ': {'.1  Não realização da escritura ': '10,00', '.2  Alteração do local da escritura': '50,00'}, '5.  Comissão de reembolso antecipado parcial ': {'.1  Taxa fixa ': '0'}, '6.  Comissão de recuperação de valores em dívida  ': {'.1  Prestação até 50.000 € ': '12,00', '.2  Prestação > 50.000 €': '150,00'}, '7.  Comissões  associadas  a  atos administrativos  ': {'.1  Declarações de dívida ': '50,00', '.2  Mudança de regime de crédito': '0,00'}, '8.  Vistorias (andamento de obras) Só se aplica se a finalidade for para construção ou realização de obras.': '210,00', '9.  Comissão de reembolso antecipado total ': {'.1  Taxa fixa ': '0'}, '10. Emissão  de  extratos  de  conta  de empréstimos liquidados': '100,00', '11. Comissões  associadas  a  atos administrativos ': {'1.1 Declarações de dívida': '50,00'}, '12. Comissão de deslocação ': {'2.1  Até 100 Kms ': '175,00', '2.2  101 a 250 Kms ': '350,00', '2.3  > 250 Kms': '500,00'}}\n",
      "parse product:                                                                                       ÍNDICE  2.1 Crédito à habitação e outros créditos  Comissões  hipotecários (cont.), fee {'1.  Reanálise': '250,00', '2.  Comissão de formalização': '500,00', '3.  Avaliação ': {'.1  Imóvel residencial ': '275,00', '.2  Garagens e arrecadações não anexas ao imóvel residencial': '130,00'}, '4.  Comissões associadas a atos administrativos ': {'.1  Não realização da escritura ': '10,00', '.2  Alteração do local da escritura': '50,00'}, '5.  Comissão de reembolso antecipado parcial ': {'.1  Taxa fixa ': '0'}, '6.  Comissão de recuperação de valores em dívida  ': {'.1  Prestação até 50.000 € ': '12,00', '.2  Prestação > 50.000 €': '150,00'}, '7.  Comissões  associadas  a  atos administrativos  ': {'.1  Declarações de dívida ': '50,00', '.2  Mudança de regime de crédito': '0,00'}, '8.  Vistorias (andamento de obras) Só se aplica se a finalidade for para construção ou realização de obras.': '210,00', '9.  Comissão de reembolso antecipado total ': {'.1  Taxa fixa ': '0'}, '10. Emissão  de  extratos  de  conta  de empréstimos liquidados': '100,00', '11. Comissões  associadas  a  atos administrativos ': {'1.1 Declarações de dívida': '50,00'}, '12. Comissão de deslocação ': {'2.1  Até 100 Kms ': '175,00', '2.2  101 a 250 Kms ': '350,00', '2.3  > 250 Kms': '500,00'}}\n",
      "parse product:                                                                                       ÍNDICE  2.1 Crédito à habitação e outros créditos  Acresce  Comissões  Outras condições  hipotecários (cont.), fee {'1.  Reanálise': '250,00', '2.  Comissão de formalização': '500,00', '3.  Avaliação ': {'.1  Imóvel residencial ': '275,00', '.2  Garagens e arrecadações não anexas ao imóvel residencial': '130,00'}, '4.  Comissões associadas a atos administrativos ': {'.1  Não realização da escritura ': '10,00', '.2  Alteração do local da escritura': '50,00'}, '5.  Comissão de reembolso antecipado parcial ': {'.1  Taxa fixa ': '0'}, '6.  Comissão de recuperação de valores em dívida  ': {'.1  Prestação até 50.000 € ': '12,00', '.2  Prestação > 50.000 €': '150,00'}, '7.  Comissões  associadas  a  atos administrativos  ': {'.1  Declarações de dívida ': '50,00', '.2  Mudança de regime de crédito': '0,00'}, '8.  Vistorias (andamento de obras) Só se aplica se a finalidade for para construção ou realização de obras.': '210,00', '9.  Comissão de reembolso antecipado total ': {'.1  Taxa fixa ': '0'}, '10. Emissão  de  extratos  de  conta  de empréstimos liquidados': '100,00', '11. Comissões  associadas  a  atos administrativos ': {'1.1 Declarações de dívida': '50,00'}, '12. Comissão de deslocação ': {'2.1  Até 100 Kms ': '175,00', '2.2  101 a 250 Kms ': '350,00', '2.3  > 250 Kms': '500,00'}}\n",
      "parse product:                                                                                  ÍNDICE  2.1 Crédito à habitação e outros créditos hipotecários    Comissões  Acresce    Valor  Outras condições  Em %  Euros (Mín/Máx)  Imposto  anual  Produto: Crédito Habitação Regime Geral e Regime Deficientes., fee {'Produto: Crédito Multiopções': '0', 'Caracterização do produto: Crédito hipotecário cuja finalidade não seja enquadrável no crédito habitação ou em que não esteja definido o': '0', 'fim a que se destina a quantia mutuada.': '0', 'Comissões iniciais': '0', '1.  Comissão de formalização': '500,00', '2.  Reanálise': '250,00', '3.  Avaliação ': {'.1 Imóvel Residencial ': '0'}, '4.  Comissões associadas a atos administrativos ': {'   4.1 Não realização da escritura ': '0'}, 'Comissões durante a vigência do contrato': '0', '5.    Comissão de reembolso antecipado parcial ': {'.1 Taxa Fixa ': '0'}, '6.  Comissão de recuperação de valores em dívida  ': {'.1  Prestação até 50.000 € ': '0'}, 'Comissões no termo do contrato': '0', '9.  Comissão de reembolso antecipado total ': {'.1 Taxa Fixa ': '0'}, 'Outras despesas associadas': '0'}\n",
      "parse product:                                                                                       ÍNDICE  2.1 Crédito à habitação e outros créditos  Comissões  hipotecários (cont.), fee {'Produto: Crédito Multiopções': '0', 'Caracterização do produto: Crédito hipotecário cuja finalidade não seja enquadrável no crédito habitação ou em que não esteja definido o': '0', 'fim a que se destina a quantia mutuada.': '0', 'Comissões iniciais': '0', '1.  Comissão de formalização': '500,00', '2.  Reanálise': '250,00', '3.  Avaliação ': {'.1 Imóvel Residencial ': '0'}, '4.  Comissões associadas a atos administrativos ': {'   4.1 Não realização da escritura ': '0'}, 'Comissões durante a vigência do contrato': '0', '5.    Comissão de reembolso antecipado parcial ': {'.1 Taxa Fixa ': '0'}, '6.  Comissão de recuperação de valores em dívida  ': {'.1  Prestação até 50.000 € ': '0'}, 'Comissões no termo do contrato': '0', '9.  Comissão de reembolso antecipado total ': {'.1 Taxa Fixa ': '0'}, 'Outras despesas associadas': '0'}\n",
      "parse product:                                                                                       ÍNDICE  2.1 Crédito à habitação e outros créditos  Acresce  Comissões  Outras condições  hipotecários (cont.), fee {'Produto: Crédito Multiopções': '0', 'Caracterização do produto: Crédito hipotecário cuja finalidade não seja enquadrável no crédito habitação ou em que não esteja definido o': '0', 'fim a que se destina a quantia mutuada.': '0', 'Comissões iniciais': '0', '1.  Comissão de formalização': '500,00', '2.  Reanálise': '250,00', '3.  Avaliação ': {'.1 Imóvel Residencial ': '0'}, '4.  Comissões associadas a atos administrativos ': {'   4.1 Não realização da escritura ': '0'}, 'Comissões durante a vigência do contrato': '0', '5.    Comissão de reembolso antecipado parcial ': {'.1 Taxa Fixa ': '0'}, '6.  Comissão de recuperação de valores em dívida  ': {'.1  Prestação até 50.000 € ': '0'}, 'Comissões no termo do contrato': '0', '9.  Comissão de reembolso antecipado total ': {'.1 Taxa Fixa ': '0'}, 'Outras despesas associadas': '0'}\n",
      "parse product:                                                                                  ÍNDICE  2.1 Crédito à habitação e outros créditos hipotecários    Comissões  Acresce    Valor  Outras condições  Em %  Euros (Mín/Máx)  Imposto  anual  Produto: Crédito Habitação Regime Geral e Regime Deficientes., fee {'1. Comissão de antecipação (pré.aviso 7 dias)': '0', 'Taxa Fixa': '0', 'Taxa Variável': '0', '2. Comissão  de  recuperação  de  valores  em dívida': '150,00', '3. Comissões associadas a atos administrativos ': {' Pedido de 2ª via de Caderneta Predial ': '25,00', ' Emissão de declarações não obrigatórias por lei ': '50,00', ' Emissão de 2ª vias de Declaração para efeitos de IRS – Urgente ': '40,00', ' Emissão de 2º vias de Declaração para efeitos de IRS ': '25,00', ' Emissão de 2ª vias de faturas': '15,00'}, '4.  Cessação da posição contratual': '150,00', '5.  Comissão de compra antecipada (pré-aviso 10 dias)': '0'}\n",
      "parse product:                                                                                       ÍNDICE  2.1 Crédito à habitação e outros créditos  Comissões  hipotecários (cont.), fee {'1. Comissão de antecipação (pré.aviso 7 dias)': '0', 'Taxa Fixa': '0', 'Taxa Variável': '0', '2. Comissão  de  recuperação  de  valores  em dívida': '150,00', '3. Comissões associadas a atos administrativos ': {' Pedido de 2ª via de Caderneta Predial ': '25,00', ' Emissão de declarações não obrigatórias por lei ': '50,00', ' Emissão de 2ª vias de Declaração para efeitos de IRS – Urgente ': '40,00', ' Emissão de 2º vias de Declaração para efeitos de IRS ': '25,00', ' Emissão de 2ª vias de faturas': '15,00'}, '4.  Cessação da posição contratual': '150,00', '5.  Comissão de compra antecipada (pré-aviso 10 dias)': '0'}\n",
      "parse product:                                                                                       ÍNDICE  2.1 Crédito à habitação e outros créditos  Acresce  Comissões  Outras condições  hipotecários (cont.), fee {'1. Comissão de antecipação (pré.aviso 7 dias)': '0', 'Taxa Fixa': '0', 'Taxa Variável': '0', '2. Comissão  de  recuperação  de  valores  em dívida': '150,00', '3. Comissões associadas a atos administrativos ': {' Pedido de 2ª via de Caderneta Predial ': '25,00', ' Emissão de declarações não obrigatórias por lei ': '50,00', ' Emissão de 2ª vias de Declaração para efeitos de IRS – Urgente ': '40,00', ' Emissão de 2º vias de Declaração para efeitos de IRS ': '25,00', ' Emissão de 2ª vias de faturas': '15,00'}, '4.  Cessação da posição contratual': '150,00', '5.  Comissão de compra antecipada (pré-aviso 10 dias)': '0'}\n",
      "found these headers in parsed pages: []\n"
     ]
    }
   ],
   "source": [
    "abanca_out = HouseCredit(abanca[2]['link'], abanca[2]['page'],'0170').final()"
   ]
  },
  {
   "cell_type": "code",
   "execution_count": 16,
   "metadata": {},
   "outputs": [
    {
     "data": {
      "text/plain": [
       "3"
      ]
     },
     "execution_count": 16,
     "metadata": {},
     "output_type": "execute_result"
    }
   ],
   "source": [
    "len(abanca_out['subproducts'])\n",
    "#     print(f'{abanca_out[\"subproducts\"][sub]} \\n')"
   ]
  },
  {
   "cell_type": "code",
   "execution_count": 26,
   "metadata": {},
   "outputs": [
    {
     "name": "stdout",
     "output_type": "stream",
     "text": [
      "output was called\n",
      "opening url: https://clientebancario.bportugal.pt/sites/default/files/precario/0269_/0269_PRE.pdf...\n",
      "extract pdf content to text...\n",
      "\n",
      "tokenize text...\n",
      "/////////////// SCRAPE ALL /////////////////////\n",
      " {'page 8': {'Comissão de Estudo do Crédito Habitação': '260,00', 'Comissão de Avaliação': '220,00', 'Comissão de Formalização do Crédito Habitação': '120,00', 'Comissão de Contrato do Crédito Habitação': '90,00', 'Comissão de Tramitação': '90,00', 'Comissão de Fiança': '120,00', 'Comissão de Solicitadoria': '250,00', 'Comissão de Vistoria': '150,00'}, 'page 9': {'Comissão de Processamento de Prestação': '2,50', 'Comissão pela Recuperação de Valores em Dívida': '150,00', 'Comissão de Penalização por Amortização Antecipada Parcial no Crédito Habitação:': {'   - Taxa Variável': '0'}, 'Comissão de Penalização por Amortização Antecipada Total no Crédito Habitação:': {'   - Taxa Variável': '0'}}, 'page 10': {'Comissão de Estudo e Análise (Arrangement Fee)': '240,00', 'Comissão de Avaliação': '330,00', 'Comissão de Tramitação': '90,00', 'Comissão de Solicitadoria': '250,00', 'Comissão de Vistoria': '225,00'}, 'page 11': {'Comissão de Processamento de Prestação': '2,50', 'Comissão pela Recuperação de Valores em Dívida': '150,00', 'Comissão de Penalização por Amortização Antecipada Parcial no Crédito Habitação:': {'   - Taxa Variável': '0'}, 'Comissão de Penalização por Amortização Antecipada Total no Crédito Habitação:': {'   - Taxa Variável': '0'}}, 'page 12': {'Comissão de Estudo do Home Equity': '220,00', 'Comissão de Formalização do Home Equity': '200,00', 'Comissão de Processamento de Prestação': '2,50', 'Comissão pela Recuperação de Valores em Dívida': '150,00', 'Comissão de Penalização por Amortização Antecipada Parcial:': {'   - Taxa Variável': '0'}, 'Comissão de Penalização por Amortização Antecipada Total:': {'   - Taxa Variável': '0'}}, 'page 13': {'Comissão de Estudo e Análise (Arrangement Fee)': '240,00', 'Comissão de Formalização do Home Equity': '200,00', 'Comissão de Processamento de Prestação': '2,50', 'Comissão pela Recuperação de Valores em Dívida': '150,00', 'Comissão de Penalização por Amortização Antecipada Parcial:': {'   - Taxa Variável': '0'}, 'Comissão de Penalização por Amortização Antecipada Total:': {'   - Taxa Variável': '0'}}, 'page 14': {'Comissão de Estudo do Home Equity': '220,00', 'Comissão de Avaliação': '220,00', 'Comissão de Tramitação': '90,00', 'Comissão de Fiança': '120,00', 'Comissão de Abertura de Crédito': '0', 'Comissão de Solicitadoria': '250,00', 'Comissão de Processamento de Prestação': '2,50'}, 'page 15': {'Comissão pela Recuperação de Valores em Dívida': '150,00', 'Comissão de Penalização por Amortização Antecipada Parcial:': {'   - Taxa Variável': '0'}, 'Comissão de Penalização por Amortização Antecipada Total:': {'   - Taxa Variável': '0'}}, 'page 16': {'Comissão pela Recuperação de Valores em Dívida': '150,00', 'Comissão de Penalização por Amortização Antecipada Parcial no Crédito Habitação:': {'   - Taxa Variável': '0'}, 'Comissão de Penalização por Amortização Antecipada Total no Crédito Habitação:': {'   - Taxa Variável': '0'}}, 'page 17': {'Avaliações - Fracções Autónomas': '250,00', 'Comissão de Reembolso Antecipado Parcial': {' Taxa Variável': '0'}, 'Comissão por restituição do Bem fora de prazo:': {' Renda Mensal': '0'}, 'Comissões relativas a actos administrativos:': {' 2ªs vias de facturas / recibos': '15,00', ' IMI - Imposto Municipal sobre Imóveis e Tarifas de Saneamento': '30,00'}, 'Comissão pela Recuperação de Valores em Dívida': '150,00', 'Rescisões Antecipadas / Amortizações Totais': {' Taxa Variável': '0'}}} \n",
      " ///////////////////// END SCRAPE ALL /////////////////\n",
      "found these headers in parsed pages: ['Crédito à habitação e outros créditos hipotecários - Crédito à habitação com ou sem garantia  hipotecária para Residentes Legenda: Cont.', '(min/máx) Anual 1º Habitação para as Finalidades Aquisição, Aquisição e Obras (com garantia hipotecária), Obras (com garantia hipotecária), Construção,  Aquisição de Terreno e Construção, Transferências; 2º Habitação para as Finalidades Aquisição, Aquisição e Obras (com garantia  hipotecária), Obras (com garantia hipotecária), Construção, Transferências; Arrendamento para as Finalidades Aquisição, Aquisição e Obras  (com garantia hipotecária), Obras (com garantia hipotecária), Transferências.', 'Comissões Iniciais Cobrada após Pré-Aprovação do Empréstimo  (cobrada independentemente da formalização  Comissão de Estudo do  do Crédito).', 'No âmbito da Oferta  1. nan 260,00 nan 4% nan nan nan 270,40 Crédito Habitação Transferências com Suporte de Custos esta  comissão é cobrada aquando da formalização  do crédito.', 'do Crédito Habitação Comissão de Contrato do  Cobrada aquando da formalização do crédito.', '4. nan 90,00 nan 4% nan nan nan 93,60 Crédito Habitação Aplicável apenas no Crédito para Construção.', 'Cobrada durante a fase de preparação da  Escritura (cobrada independentemente da  formalização do Crédito).', 'Cobrada durante a fase de preparação da  Escritura, quando a Operação de Crédito inclui  Fiadores (cobrada independentemente da  6.', 'Comissão de Fiança nan 120,00 nan 4% nan nan nan 124,80 formalização do Crédito).', 'Bankinter, S.A., Sucursal em Portugal Operações de Crédito / Particulares - Página 1 / 32             NEXT          BANKINTER, S.A.- Sucursal em Portugal Entrada em vigor: 01-janeiro-2021 2.', 'Crédito à habitação e outros créditos hipotecários - Crédito à habitação com ou sem garantia  hipotecária para Residentes (cont.)', '(min/máx) Anual 1º Habitação para as Finalidades Aquisição, Aquisição e Obras (com garantia hipotecária), Obras (com garantia hipotecária), Construção,  Aquisição de Terreno e Construção, Transferências; 2º Habitação para as Finalidades Aquisição, Aquisição e Obras (com garantia  hipotecária), Obras (com garantia hipotecária), Construção, Transferências; Arrendamento para as Finalidades Aquisição, Aquisição e Obras  (com garantia hipotecária), Obras (com garantia hipotecária), Transferências.', 'Comissões Durante a Vigência do Contrato Comissão cobrada após formalização do  Crédito.', 'Comissão de Penalização  por Amortização  Antecipada Parcial no  11 Crédito Habitação:     - Taxa Variável 0,5% nan nan 4% nan nan nan nan Pré-Aviso de 7 dias úteis (% sobre o Valor      - Durante o período de  Reembolsado) relativamente à data de  Taxa Fixa 2% nan nan 4% nan nan nan nan Amortização Antecipada.', 'Comissões no Termo do Contrato Comissão de Penalização  por Amortização  Antecipada Total no Crédito  12 Habitação: 0,5% nan nan 4% nan nan nan nan Pré-Aviso de 10 dias úteis (% sobre o Valor      - Taxa Variável Reembolsado) relativamente à data de      - Durante o período de  2% nan nan 4% nan nan nan nan Amortização Antecipada.', 'Bankinter, S.A., Sucursal em Portugal Operações de Crédito / Particulares - Página 2 / 32             NEXT          BANKINTER, S.A.- Sucursal em Portugal Entrada em vigor: 01-janeiro-2021 2.', 'Crédito à habitação e outros créditos hipotecários - Crédito à habitação com ou sem garantia  hipotecária para Não Residentes Legenda: Cont.', '(min/máx) Anual 2º Habitação para as Finalidades Aquisição, Aquis.', 'Cobrada durante a fase de preparação da  Escritura (cobrada independentemente da  formalização do Crédito).', 'Bankinter, S.A., Sucursal em Portugal Operações de Crédito / Particulares - Página 3 / 32             NEXT          BANKINTER, S.A.- Sucursal em Portugal Entrada em vigor: 01-janeiro-2021 2.', 'Crédito à habitação e outros créditos hipotecários - Crédito à habitação com ou sem garantia  hipotecária para Não Residentes (cont.)', '(min/máx) Anual 2º Habitação para as Finalidades Aquisição, Aquis.', 'Comissões Durante a Vigência do Contrato Comissão cobrada após formalização do  Crédito.', 'Comissão de Penalização  por Amortização  8 Antecipada Parcial no  Crédito Habitação:     - Taxa Variável 0,5%  nan nan 4% nan nan nan nan Pré-Aviso de 7 dias úteis (% sobre o Valor      - Durante o período de  Reembolsado) relativamente à data de  Taxa Fixa 2% nan nan 4% nan nan nan nan Amortização Antecipada.', 'Comissões no Termo do Contrato Comissão de Penalização  por Amortização  Antecipada Total no Crédito  9 Habitação:     - Taxa Variável 0,5% nan nan 4% nan nan nan nan Pré-Aviso de 10 dias úteis (% sobre o Valor      - Durante o período de  Reembolsado) relativamente à data de  Taxa Fixa 2% nan nan 4% nan nan nan nan Amortização Antecipada.', 'Bankinter, S.A., Sucursal em Portugal Operações de Crédito / Particulares - Página 4 / 32             NEXT          BANKINTER, S.A.- Sucursal em Portugal Entrada em vigor: 01-janeiro-2021 2.', 'Crédito à habitação e outros créditos hipotecários - Outras finalidades Legenda: Cont.', '(min/máx) Anual Crédito Hipotecário para Outras Finalidades - Home Equity Residentes (Contratado em simultâneo com Crédito Habitação) Comissões Iniciais Cobrada após Pré-Aprovação do Empréstimo  Comissão de Estudo do  (cobrada independentemente da formalização  1. nan 220,00 nan 4% nan nan nan 228,80 Home Equity do Crédito).', 'Comissões Durante a Vigência do Contrato Comissão cobrada após formalização do  Crédito.', 'Bankinter, S.A., Sucursal em Portugal Operações de Crédito / Particulares - Página 5 / 32             NEXT          BANKINTER, S.A.- Sucursal em Portugal Entrada em vigor: 01-janeiro-2021 2.', 'Crédito à habitação e outros créditos hipotecários - Outras finalidades Legenda: Cont.', '(min/máx) Anual Crédito Hipotecário para Outras Finalidades - Home Equity Não Residentes (Contratado em simultâneo com Crédito Habitação) Comissões Iniciais Cobrada aquando da formalização do crédito.', 'Comissões Durante a Vigência do Contrato Comissão cobrada após formalização do  Crédito.', 'Bankinter, S.A., Sucursal em Portugal Operações de Crédito / Particulares - Página 6 / 32             NEXT          BANKINTER, S.A.- Sucursal em Portugal Entrada em vigor: 01-janeiro-2021 2.', 'Crédito à habitação e outros créditos hipotecários - Outras finalidades Legenda: Cont.', '(min/máx) Anual Crédito Hipotecário para Outras Finalidades - Home Equity Isolado Residentes (Contratado Isoladamente) Comissões Iniciais Cobrada após Pré-Aprovação do Empréstimo  Comissão de Estudo do  1. nan 220,00 nan 4% nan nan nan 228,80 (cobrada independentemente da formalização  Home Equity do Crédito).', 'Comissão de Tramitação nan 90,00 nan nan 23% 22% 18% 110,70 109,80 106,20 Escritura (cobrada independentemente da  formalização do Crédito).', 'Cobrada durante a fase de preparação da  Escritura, quando a Operação de Crédito inclui  4.', 'Comissão de Fiança nan 120,00 nan 4% nan nan nan 124,80 Fiadores (cobrada independentemente da  formalização do Crédito).', 'Crédito Cobrada durante a fase de preparação da  6.', 'Comissão de Solicitadoria nan 250,00 nan nan 23% 22% 18% 307,50 305,00 295,00 Escritura Comissões Durante a Vigência do Contrato Comissão cobrada após formalização do  Crédito.', 'Bankinter, S.A., Sucursal em Portugal Operações de Crédito / Particulares - Página 7 / 32             NEXT          BANKINTER, S.A.- Sucursal em Portugal Entrada em vigor: 01-janeiro-2021 2.', 'OPERAÇÕES DE CRÉDITO (CLIENTES PARTICULARES) (ÍNDICE) 2.1.Crédito à habitação e outros créditos hipotecários - Outras finalidades Legenda: Cont.', '(min/máx) Anual Crédito Hipotecário para Outras Finalidades - Home Equity Isolado Residentes (Contratado Isoladamente) Comissões Durante a Vigência do Contrato (cont.)', 'Bankinter, S.A., Sucursal em Portugal Operações de Crédito / Particulares - Página 8 / 32             NEXT          BANKINTER, S.A.- Sucursal em Portugal Entrada em vigor: 01-janeiro-2021 2.', 'Crédito à habitação e outros créditos hipotecários - Crédito à habitação sem garantia hipotecária Legenda: Cont.', '(min/máx) Anual Crédito \"Intercalar Standard\" e \"Intercalar Fácil\" - Destinado à sinalização da compra de Habitação Comissões Durante a Vigência do Contrato A comissão corresponde a 4% do valor da  prestação vencida e não paga e será cobrada  uma única vez, por cada prestação vencida e  não paga, ainda que o incumprimento se  mantenha.', 'Antecipada Parcial no  Pré-Aviso de 7 dias úteis (% sobre o Valor  Crédito Habitação: Reembolsado) relativamente à data de      - Taxa Variável 0,5% nan nan 4% nan nan nan nan Amortização Antecipada.', 'Antecipada Total no Crédito  Reembolsado) relativamente à data de  Habitação: Amortização Antecipada.', 'Bankinter, S.A., Sucursal em Portugal Operações de Crédito / Particulares - Página 9 / 32             NEXT          BANKINTER, S.A.- Sucursal em Portugal Entrada em vigor: 01-janeiro-2021 2.', 'Crédito à habitação e outros créditos hipotecários - Locação financeira imobiliária Legenda: Cont.', '(min/máx) Anual Locação financeira imobiliária - Finalidade Habitação - FORA DE COMERCIALIZAÇÃO Comissões durante a vigência do contrato Avaliações - Fracções  1. nan 250,00 nan nan 23% 22% 18% 307,50 305,00 295,00 nan Autónomas Comissão de Reembolso  Antecipado Parcial 2.', 'Bankinter, S.A., Sucursal em Portugal Operações de Crédito / Particulares - Página 10 / 32']\n",
      "\n",
      "\n",
      "\n",
      "\n",
      "\n",
      "\n",
      "\n",
      "\n",
      " name 0 : Crédito à habitação e outros créditos hipotecários - Crédito à habitação com ou sem garantia  hipotecária para Residentes Legenda: Cont. (min/máx) Anual 1º Habitação para as Finalidades Aquisição, Aquisição e Obras (com garantia hipotecária), Obras (com garantia hipotecária), Construção,  Aquisição de Terreno e Construção, Transferências; 2º Habitação para as Finalidades Aquisição, Aquisição e Obras (com garantia  hipotecária), Obras (com garantia hipotecária), Construção, Transferências; Arrendamento para as Finalidades Aquisição, Aquisição e Obras  (com garantia hipotecária), Obras (com garantia hipotecária), Transferências. \n",
      "\n",
      "\n",
      "\n",
      "\n",
      "\n",
      "\n",
      "\n",
      "\n",
      "\n",
      "\n",
      "\n",
      "\n",
      "\n",
      "\n",
      "\n",
      "\n",
      " name 1 : Crédito à habitação e outros créditos hipotecários - Crédito à habitação com ou sem garantia  hipotecária para Residentes (cont.) (min/máx) Anual 1º Habitação para as Finalidades Aquisição, Aquisição e Obras (com garantia hipotecária), Obras (com garantia hipotecária), Construção,  Aquisição de Terreno e Construção, Transferências; 2º Habitação para as Finalidades Aquisição, Aquisição e Obras (com garantia  hipotecária), Obras (com garantia hipotecária), Construção, Transferências; Arrendamento para as Finalidades Aquisição, Aquisição e Obras  (com garantia hipotecária), Obras (com garantia hipotecária), Transferências. \n",
      "\n",
      "\n",
      "\n",
      "\n",
      "\n",
      "\n",
      "\n",
      "\n",
      "\n",
      "\n",
      "\n",
      "\n",
      "\n",
      "\n",
      "\n",
      "\n",
      " name 2 : Crédito à habitação e outros créditos hipotecários - Crédito à habitação com ou sem garantia  hipotecária para Não Residentes Legenda: Cont. (min/máx) Anual 2º Habitação para as Finalidades Aquisição, Aquis. \n",
      "\n",
      "\n",
      "\n",
      "\n",
      "\n",
      "\n",
      "\n",
      "\n",
      "\n",
      "\n",
      "\n",
      "\n",
      "\n",
      "\n",
      "\n",
      "\n",
      " name 3 : Crédito à habitação e outros créditos hipotecários - Crédito à habitação com ou sem garantia  hipotecária para Não Residentes (cont.) (min/máx) Anual 2º Habitação para as Finalidades Aquisição, Aquis. \n",
      "\n",
      "\n",
      "\n",
      "\n",
      "\n",
      "\n",
      "\n",
      "\n",
      "\n",
      "\n",
      "\n",
      "\n",
      "\n",
      "\n",
      "\n",
      "\n",
      " name 4 : Crédito à habitação e outros créditos hipotecários - Outras finalidades Legenda: Cont. (min/máx) Anual Crédito Hipotecário para Outras Finalidades - Home Equity Residentes (Contratado em simultâneo com Crédito Habitação) Comissões Iniciais Cobrada após Pré-Aprovação do Empréstimo  Comissão de Estudo do  (cobrada independentemente da formalização  1. nan 220,00 nan 4% nan nan nan 228,80 Home Equity do Crédito). \n",
      "\n",
      "\n",
      "\n",
      "\n",
      "\n",
      "\n",
      "\n",
      "\n",
      "\n",
      "\n",
      "\n",
      "\n",
      "\n",
      "\n",
      "\n",
      "\n",
      " name 5 : Crédito à habitação e outros créditos hipotecários - Outras finalidades Legenda: Cont. (min/máx) Anual Crédito Hipotecário para Outras Finalidades - Home Equity Não Residentes (Contratado em simultâneo com Crédito Habitação) Comissões Iniciais Cobrada aquando da formalização do crédito. \n",
      "\n",
      "\n",
      "\n",
      "\n",
      "\n",
      "\n",
      "\n",
      "\n",
      "\n",
      "\n",
      "\n",
      "\n",
      "\n",
      "\n",
      "\n",
      "\n",
      " name 6 : Crédito à habitação e outros créditos hipotecários - Outras finalidades Legenda: Cont. (min/máx) Anual Crédito Hipotecário para Outras Finalidades - Home Equity Isolado Residentes (Contratado Isoladamente) Comissões Iniciais Cobrada após Pré-Aprovação do Empréstimo  Comissão de Estudo do  1. nan 220,00 nan 4% nan nan nan 228,80 (cobrada independentemente da formalização  Home Equity do Crédito). \n",
      "\n",
      "\n",
      "\n",
      "\n",
      "\n",
      "\n",
      "\n",
      "\n",
      "\n",
      "\n",
      "\n",
      "\n",
      "\n",
      "\n",
      "\n",
      "\n",
      " name 7 : OPERAÇÕES DE CRÉDITO (CLIENTES PARTICULARES) (ÍNDICE) 2.1.Crédito à habitação e outros créditos hipotecários - Outras finalidades Legenda: Cont. (min/máx) Anual Crédito Hipotecário para Outras Finalidades - Home Equity Isolado Residentes (Contratado Isoladamente) Comissões Durante a Vigência do Contrato (cont.) \n",
      "\n",
      "\n",
      "\n",
      "\n",
      "\n",
      "\n",
      "\n",
      "\n",
      "\n",
      "\n",
      "\n",
      "\n",
      "\n",
      "\n",
      "\n",
      "\n",
      " name 8 : Crédito à habitação e outros créditos hipotecários - Crédito à habitação sem garantia hipotecária Legenda: Cont. (min/máx) Anual Crédito \"Intercalar Standard\" e \"Intercalar Fácil\" - Destinado à sinalização da compra de Habitação Comissões Durante a Vigência do Contrato A comissão corresponde a 4% do valor da  prestação vencida e não paga e será cobrada  uma única vez, por cada prestação vencida e  não paga, ainda que o incumprimento se  mantenha. \n",
      "\n",
      "\n",
      "\n",
      "\n",
      "\n",
      "\n",
      "\n",
      "\n",
      "\n",
      "\n",
      "\n",
      "\n",
      "\n",
      "\n",
      "\n",
      "\n",
      " name 9 : Crédito à habitação e outros créditos hipotecários - Locação financeira imobiliária Legenda: Cont. (min/máx) Anual Locação financeira imobiliária - Finalidade Habitação - FORA DE COMERCIALIZAÇÃO Comissões durante a vigência do contrato Avaliações - Fracções  1. nan 250,00 nan nan 23% 22% 18% 307,50 305,00 295,00 nan Autónomas Comissão de Reembolso  Antecipado Parcial 2. \n",
      "\n",
      "\n",
      "\n",
      "\n",
      "\n",
      "\n",
      "\n",
      "\n",
      "assigning names to the scraped dictionary.\n",
      "\n",
      "\n",
      "\n",
      "\n",
      "\n",
      "\n",
      "\n",
      "\n",
      "10\n",
      "name : Crédito à habitação e outros créditos hipotecários - Crédito à habitação com ou sem garantia hipotecária para Residentes Legenda: Cont. (min/máx) Anual 1º Habitação para as Finalidades Aquisição, Aquisição e Obras (com garantia hipotecária), Obras (com garantia hipotecária), Construção, Aquisição de Terreno e Construção, Transferências; 2º Habitação para as Finalidades Aquisição, Aquisição e Obras (com garantia hipotecária), Obras (com garantia hipotecária), Construção, Transferências; Arrendamento para as Finalidades Aquisição, Aquisição e Obras (com garantia hipotecária), Obras (com garantia hipotecária), Transferências.\n",
      "name : Crédito à habitação e outros créditos hipotecários - Crédito à habitação com ou sem garantia hipotecária para Residentes (cont.) (min/máx) Anual 1º Habitação para as Finalidades Aquisição, Aquisição e Obras (com garantia hipotecária), Obras (com garantia hipotecária), Construção, Aquisição de Terreno e Construção, Transferências; 2º Habitação para as Finalidades Aquisição, Aquisição e Obras (com garantia hipotecária), Obras (com garantia hipotecária), Construção, Transferências; Arrendamento para as Finalidades Aquisição, Aquisição e Obras (com garantia hipotecária), Obras (com garantia hipotecária), Transferências.\n",
      "name : Crédito à habitação e outros créditos hipotecários - Crédito à habitação com ou sem garantia hipotecária para Não Residentes Legenda: Cont. (min/máx) Anual 2º Habitação para as Finalidades Aquisição, Aquis.\n",
      "name : Crédito à habitação e outros créditos hipotecários - Crédito à habitação com ou sem garantia hipotecária para Não Residentes (cont.) (min/máx) Anual 2º Habitação para as Finalidades Aquisição, Aquis.\n",
      "name : Crédito à habitação e outros créditos hipotecários - Outras finalidades Legenda: Cont. (min/máx) Anual Crédito Hipotecário para Outras Finalidades - Home Equity Residentes (Contratado em simultâneo com Crédito Habitação) Comissões Iniciais Cobrada após Pré-Aprovação do Empréstimo Comissão de Estudo do (cobrada independentemente da formalização 1. nan 220,00 nan 4% nan nan nan 228,80 Home Equity do Crédito).\n",
      "name : Crédito à habitação e outros créditos hipotecários - Outras finalidades Legenda: Cont. (min/máx) Anual Crédito Hipotecário para Outras Finalidades - Home Equity Não Residentes (Contratado em simultâneo com Crédito Habitação) Comissões Iniciais Cobrada aquando da formalização do crédito.\n",
      "name : Crédito à habitação e outros créditos hipotecários - Outras finalidades Legenda: Cont. (min/máx) Anual Crédito Hipotecário para Outras Finalidades - Home Equity Isolado Residentes (Contratado Isoladamente) Comissões Iniciais Cobrada após Pré-Aprovação do Empréstimo Comissão de Estudo do 1. nan 220,00 nan 4% nan nan nan 228,80 (cobrada independentemente da formalização Home Equity do Crédito).\n",
      "name : OPERAÇÕES DE CRÉDITO (CLIENTES PARTICULARES) (ÍNDICE) 2.1.Crédito à habitação e outros créditos hipotecários - Outras finalidades Legenda: Cont. (min/máx) Anual Crédito Hipotecário para Outras Finalidades - Home Equity Isolado Residentes (Contratado Isoladamente) Comissões Durante a Vigência do Contrato (cont.)\n",
      "name : Crédito à habitação e outros créditos hipotecários - Crédito à habitação sem garantia hipotecária Legenda: Cont. (min/máx) Anual Crédito \"Intercalar Standard\" e \"Intercalar Fácil\" - Destinado à sinalização da compra de Habitação Comissões Durante a Vigência do Contrato A comissão corresponde a 4% do valor da prestação vencida e não paga e será cobrada uma única vez, por cada prestação vencida e não paga, ainda que o incumprimento se mantenha.\n",
      "name : Crédito à habitação e outros créditos hipotecários - Locação financeira imobiliária Legenda: Cont. (min/máx) Anual Locação financeira imobiliária - Finalidade Habitação - FORA DE COMERCIALIZAÇÃO Comissões durante a vigência do contrato Avaliações - Fracções 1. nan 250,00 nan nan 23% 22% 18% 307,50 305,00 295,00 nan Autónomas Comissão de Reembolso Antecipado Parcial 2.\n",
      "found these headers in parsed pages: []\n",
      "final output ito be injected: {'subproducts': {'Crédito à habitação e outros créditos hipotecários - Crédito à habitação com ou sem garantia hipotecária para Residentes Legenda: Cont. (min/máx) Anual 1º Habitação para as Finalidades Aquisição, Aquisição e Obras (com garantia hipotecária), Obras (com garantia hipotecária), Construção, Aquisição de Terreno e Construção, Transferências; 2º Habitação para as Finalidades Aquisição, Aquisição e Obras (com garantia hipotecária), Obras (com garantia hipotecária), Construção, Transferências; Arrendamento para as Finalidades Aquisição, Aquisição e Obras (com garantia hipotecária), Obras (com garantia hipotecária), Transferências.': {'Comissão de Estudo do Crédito Habitação': '260,00', 'Comissão de Avaliação': '220,00', 'Comissão de Formalização do Crédito Habitação': '120,00', 'Comissão de Contrato do Crédito Habitação': '90,00', 'Comissão de Tramitação': '90,00', 'Comissão de Fiança': '120,00', 'Comissão de Solicitadoria': '250,00', 'Comissão de Vistoria': '150,00'}, 'Crédito à habitação e outros créditos hipotecários - Crédito à habitação com ou sem garantia hipotecária para Residentes (cont.) (min/máx) Anual 1º Habitação para as Finalidades Aquisição, Aquisição e Obras (com garantia hipotecária), Obras (com garantia hipotecária), Construção, Aquisição de Terreno e Construção, Transferências; 2º Habitação para as Finalidades Aquisição, Aquisição e Obras (com garantia hipotecária), Obras (com garantia hipotecária), Construção, Transferências; Arrendamento para as Finalidades Aquisição, Aquisição e Obras (com garantia hipotecária), Obras (com garantia hipotecária), Transferências.': {'Comissão de Processamento de Prestação': '2,50', 'Comissão pela Recuperação de Valores em Dívida': '150,00', 'Comissão de Penalização por Amortização Antecipada Parcial no Crédito Habitação:': {'   - Taxa Variável': '0'}, 'Comissão de Penalização por Amortização Antecipada Total no Crédito Habitação:': {'   - Taxa Variável': '0'}}, 'Crédito à habitação e outros créditos hipotecários - Crédito à habitação com ou sem garantia hipotecária para Não Residentes Legenda: Cont. (min/máx) Anual 2º Habitação para as Finalidades Aquisição, Aquis.': {'Comissão de Estudo e Análise (Arrangement Fee)': '240,00', 'Comissão de Avaliação': '330,00', 'Comissão de Tramitação': '90,00', 'Comissão de Solicitadoria': '250,00', 'Comissão de Vistoria': '225,00'}, 'Crédito à habitação e outros créditos hipotecários - Crédito à habitação com ou sem garantia hipotecária para Não Residentes (cont.) (min/máx) Anual 2º Habitação para as Finalidades Aquisição, Aquis.': {'Comissão de Processamento de Prestação': '2,50', 'Comissão pela Recuperação de Valores em Dívida': '150,00', 'Comissão de Penalização por Amortização Antecipada Parcial no Crédito Habitação:': {'   - Taxa Variável': '0'}, 'Comissão de Penalização por Amortização Antecipada Total no Crédito Habitação:': {'   - Taxa Variável': '0'}}, 'Crédito à habitação e outros créditos hipotecários - Outras finalidades Legenda: Cont. (min/máx) Anual Crédito Hipotecário para Outras Finalidades - Home Equity Residentes (Contratado em simultâneo com Crédito Habitação) Comissões Iniciais Cobrada após Pré-Aprovação do Empréstimo Comissão de Estudo do (cobrada independentemente da formalização 1. nan 220,00 nan 4% nan nan nan 228,80 Home Equity do Crédito).': {'Comissão de Estudo do Home Equity': '220,00', 'Comissão de Formalização do Home Equity': '200,00', 'Comissão de Processamento de Prestação': '2,50', 'Comissão pela Recuperação de Valores em Dívida': '150,00', 'Comissão de Penalização por Amortização Antecipada Parcial:': {'   - Taxa Variável': '0'}, 'Comissão de Penalização por Amortização Antecipada Total:': {'   - Taxa Variável': '0'}}, 'Crédito à habitação e outros créditos hipotecários - Outras finalidades Legenda: Cont. (min/máx) Anual Crédito Hipotecário para Outras Finalidades - Home Equity Não Residentes (Contratado em simultâneo com Crédito Habitação) Comissões Iniciais Cobrada aquando da formalização do crédito.': {'Comissão de Estudo e Análise (Arrangement Fee)': '240,00', 'Comissão de Formalização do Home Equity': '200,00', 'Comissão de Processamento de Prestação': '2,50', 'Comissão pela Recuperação de Valores em Dívida': '150,00', 'Comissão de Penalização por Amortização Antecipada Parcial:': {'   - Taxa Variável': '0'}, 'Comissão de Penalização por Amortização Antecipada Total:': {'   - Taxa Variável': '0'}}, 'Crédito à habitação e outros créditos hipotecários - Outras finalidades Legenda: Cont. (min/máx) Anual Crédito Hipotecário para Outras Finalidades - Home Equity Isolado Residentes (Contratado Isoladamente) Comissões Iniciais Cobrada após Pré-Aprovação do Empréstimo Comissão de Estudo do 1. nan 220,00 nan 4% nan nan nan 228,80 (cobrada independentemente da formalização Home Equity do Crédito).': {'Comissão de Estudo do Home Equity': '220,00', 'Comissão de Avaliação': '220,00', 'Comissão de Tramitação': '90,00', 'Comissão de Fiança': '120,00', 'Comissão de Abertura de Crédito': '0', 'Comissão de Solicitadoria': '250,00', 'Comissão de Processamento de Prestação': '2,50'}, 'OPERAÇÕES DE CRÉDITO (CLIENTES PARTICULARES) (ÍNDICE) 2.1.Crédito à habitação e outros créditos hipotecários - Outras finalidades Legenda: Cont. (min/máx) Anual Crédito Hipotecário para Outras Finalidades - Home Equity Isolado Residentes (Contratado Isoladamente) Comissões Durante a Vigência do Contrato (cont.)': {'Comissão pela Recuperação de Valores em Dívida': '150,00', 'Comissão de Penalização por Amortização Antecipada Parcial:': {'   - Taxa Variável': '0'}, 'Comissão de Penalização por Amortização Antecipada Total:': {'   - Taxa Variável': '0'}}, 'Crédito à habitação e outros créditos hipotecários - Crédito à habitação sem garantia hipotecária Legenda: Cont. (min/máx) Anual Crédito \"Intercalar Standard\" e \"Intercalar Fácil\" - Destinado à sinalização da compra de Habitação Comissões Durante a Vigência do Contrato A comissão corresponde a 4% do valor da prestação vencida e não paga e será cobrada uma única vez, por cada prestação vencida e não paga, ainda que o incumprimento se mantenha.': {'Comissão pela Recuperação de Valores em Dívida': '150,00', 'Comissão de Penalização por Amortização Antecipada Parcial no Crédito Habitação:': {'   - Taxa Variável': '0'}, 'Comissão de Penalização por Amortização Antecipada Total no Crédito Habitação:': {'   - Taxa Variável': '0'}}, 'Crédito à habitação e outros créditos hipotecários - Locação financeira imobiliária Legenda: Cont. (min/máx) Anual Locação financeira imobiliária - Finalidade Habitação - FORA DE COMERCIALIZAÇÃO Comissões durante a vigência do contrato Avaliações - Fracções 1. nan 250,00 nan nan 23% 22% 18% 307,50 305,00 295,00 nan Autónomas Comissão de Reembolso Antecipado Parcial 2.': {'Avaliações - Fracções Autónomas': '250,00', 'Comissão de Reembolso Antecipado Parcial': {' Taxa Variável': '0'}, 'Comissão por restituição do Bem fora de prazo:': {' Renda Mensal': '0'}, 'Comissões relativas a actos administrativos:': {' 2ªs vias de facturas / recibos': '15,00', ' IMI - Imposto Municipal sobre Imóveis e Tarifas de Saneamento': '30,00'}, 'Comissão pela Recuperação de Valores em Dívida': '150,00', 'Rescisões Antecipadas / Amortizações Totais': {' Taxa Variável': '0'}}}, 'n_subproducts': 0}\n"
     ]
    }
   ],
   "source": [
    "bic_out = HouseCredit(bic[2]['link'], bic[2]['page'],'0079').output()"
   ]
  },
  {
   "cell_type": "code",
   "execution_count": 27,
   "metadata": {},
   "outputs": [
    {
     "data": {
      "text/plain": [
       "{'subproducts': {'Crédito à habitação e outros créditos hipotecários - Crédito à habitação com ou sem garantia hipotecária para Residentes Legenda: Cont. (min/máx) Anual 1º Habitação para as Finalidades Aquisição, Aquisição e Obras (com garantia hipotecária), Obras (com garantia hipotecária), Construção, Aquisição de Terreno e Construção, Transferências; 2º Habitação para as Finalidades Aquisição, Aquisição e Obras (com garantia hipotecária), Obras (com garantia hipotecária), Construção, Transferências; Arrendamento para as Finalidades Aquisição, Aquisição e Obras (com garantia hipotecária), Obras (com garantia hipotecária), Transferências.': {'Comissão de Estudo do Crédito Habitação': '260,00',\n",
       "   'Comissão de Avaliação': '220,00',\n",
       "   'Comissão de Formalização do Crédito Habitação': '120,00',\n",
       "   'Comissão de Contrato do Crédito Habitação': '90,00',\n",
       "   'Comissão de Tramitação': '90,00',\n",
       "   'Comissão de Fiança': '120,00',\n",
       "   'Comissão de Solicitadoria': '250,00',\n",
       "   'Comissão de Vistoria': '150,00'},\n",
       "  'Crédito à habitação e outros créditos hipotecários - Crédito à habitação com ou sem garantia hipotecária para Residentes (cont.) (min/máx) Anual 1º Habitação para as Finalidades Aquisição, Aquisição e Obras (com garantia hipotecária), Obras (com garantia hipotecária), Construção, Aquisição de Terreno e Construção, Transferências; 2º Habitação para as Finalidades Aquisição, Aquisição e Obras (com garantia hipotecária), Obras (com garantia hipotecária), Construção, Transferências; Arrendamento para as Finalidades Aquisição, Aquisição e Obras (com garantia hipotecária), Obras (com garantia hipotecária), Transferências.': {'Comissão de Processamento de Prestação': '2,50',\n",
       "   'Comissão pela Recuperação de Valores em Dívida': '150,00',\n",
       "   'Comissão de Penalização por Amortização Antecipada Parcial no Crédito Habitação:': {'   - Taxa Variável': '0'},\n",
       "   'Comissão de Penalização por Amortização Antecipada Total no Crédito Habitação:': {'   - Taxa Variável': '0'}},\n",
       "  'Crédito à habitação e outros créditos hipotecários - Crédito à habitação com ou sem garantia hipotecária para Não Residentes Legenda: Cont. (min/máx) Anual 2º Habitação para as Finalidades Aquisição, Aquis.': {'Comissão de Estudo e Análise (Arrangement Fee)': '240,00',\n",
       "   'Comissão de Avaliação': '330,00',\n",
       "   'Comissão de Tramitação': '90,00',\n",
       "   'Comissão de Solicitadoria': '250,00',\n",
       "   'Comissão de Vistoria': '225,00'},\n",
       "  'Crédito à habitação e outros créditos hipotecários - Crédito à habitação com ou sem garantia hipotecária para Não Residentes (cont.) (min/máx) Anual 2º Habitação para as Finalidades Aquisição, Aquis.': {'Comissão de Processamento de Prestação': '2,50',\n",
       "   'Comissão pela Recuperação de Valores em Dívida': '150,00',\n",
       "   'Comissão de Penalização por Amortização Antecipada Parcial no Crédito Habitação:': {'   - Taxa Variável': '0'},\n",
       "   'Comissão de Penalização por Amortização Antecipada Total no Crédito Habitação:': {'   - Taxa Variável': '0'}},\n",
       "  'Crédito à habitação e outros créditos hipotecários - Outras finalidades Legenda: Cont. (min/máx) Anual Crédito Hipotecário para Outras Finalidades - Home Equity Residentes (Contratado em simultâneo com Crédito Habitação) Comissões Iniciais Cobrada após Pré-Aprovação do Empréstimo Comissão de Estudo do (cobrada independentemente da formalização 1. nan 220,00 nan 4% nan nan nan 228,80 Home Equity do Crédito).': {'Comissão de Estudo do Home Equity': '220,00',\n",
       "   'Comissão de Formalização do Home Equity': '200,00',\n",
       "   'Comissão de Processamento de Prestação': '2,50',\n",
       "   'Comissão pela Recuperação de Valores em Dívida': '150,00',\n",
       "   'Comissão de Penalização por Amortização Antecipada Parcial:': {'   - Taxa Variável': '0'},\n",
       "   'Comissão de Penalização por Amortização Antecipada Total:': {'   - Taxa Variável': '0'}},\n",
       "  'Crédito à habitação e outros créditos hipotecários - Outras finalidades Legenda: Cont. (min/máx) Anual Crédito Hipotecário para Outras Finalidades - Home Equity Não Residentes (Contratado em simultâneo com Crédito Habitação) Comissões Iniciais Cobrada aquando da formalização do crédito.': {'Comissão de Estudo e Análise (Arrangement Fee)': '240,00',\n",
       "   'Comissão de Formalização do Home Equity': '200,00',\n",
       "   'Comissão de Processamento de Prestação': '2,50',\n",
       "   'Comissão pela Recuperação de Valores em Dívida': '150,00',\n",
       "   'Comissão de Penalização por Amortização Antecipada Parcial:': {'   - Taxa Variável': '0'},\n",
       "   'Comissão de Penalização por Amortização Antecipada Total:': {'   - Taxa Variável': '0'}},\n",
       "  'Crédito à habitação e outros créditos hipotecários - Outras finalidades Legenda: Cont. (min/máx) Anual Crédito Hipotecário para Outras Finalidades - Home Equity Isolado Residentes (Contratado Isoladamente) Comissões Iniciais Cobrada após Pré-Aprovação do Empréstimo Comissão de Estudo do 1. nan 220,00 nan 4% nan nan nan 228,80 (cobrada independentemente da formalização Home Equity do Crédito).': {'Comissão de Estudo do Home Equity': '220,00',\n",
       "   'Comissão de Avaliação': '220,00',\n",
       "   'Comissão de Tramitação': '90,00',\n",
       "   'Comissão de Fiança': '120,00',\n",
       "   'Comissão de Abertura de Crédito': '0',\n",
       "   'Comissão de Solicitadoria': '250,00',\n",
       "   'Comissão de Processamento de Prestação': '2,50'},\n",
       "  'OPERAÇÕES DE CRÉDITO (CLIENTES PARTICULARES) (ÍNDICE) 2.1.Crédito à habitação e outros créditos hipotecários - Outras finalidades Legenda: Cont. (min/máx) Anual Crédito Hipotecário para Outras Finalidades - Home Equity Isolado Residentes (Contratado Isoladamente) Comissões Durante a Vigência do Contrato (cont.)': {'Comissão pela Recuperação de Valores em Dívida': '150,00',\n",
       "   'Comissão de Penalização por Amortização Antecipada Parcial:': {'   - Taxa Variável': '0'},\n",
       "   'Comissão de Penalização por Amortização Antecipada Total:': {'   - Taxa Variável': '0'}},\n",
       "  'Crédito à habitação e outros créditos hipotecários - Crédito à habitação sem garantia hipotecária Legenda: Cont. (min/máx) Anual Crédito \"Intercalar Standard\" e \"Intercalar Fácil\" - Destinado à sinalização da compra de Habitação Comissões Durante a Vigência do Contrato A comissão corresponde a 4% do valor da prestação vencida e não paga e será cobrada uma única vez, por cada prestação vencida e não paga, ainda que o incumprimento se mantenha.': {'Comissão pela Recuperação de Valores em Dívida': '150,00',\n",
       "   'Comissão de Penalização por Amortização Antecipada Parcial no Crédito Habitação:': {'   - Taxa Variável': '0'},\n",
       "   'Comissão de Penalização por Amortização Antecipada Total no Crédito Habitação:': {'   - Taxa Variável': '0'}},\n",
       "  'Crédito à habitação e outros créditos hipotecários - Locação financeira imobiliária Legenda: Cont. (min/máx) Anual Locação financeira imobiliária - Finalidade Habitação - FORA DE COMERCIALIZAÇÃO Comissões durante a vigência do contrato Avaliações - Fracções 1. nan 250,00 nan nan 23% 22% 18% 307,50 305,00 295,00 nan Autónomas Comissão de Reembolso Antecipado Parcial 2.': {'Avaliações - Fracções Autónomas': '250,00',\n",
       "   'Comissão de Reembolso Antecipado Parcial': {' Taxa Variável': '0'},\n",
       "   'Comissão por restituição do Bem fora de prazo:': {' Renda Mensal': '0'},\n",
       "   'Comissões relativas a actos administrativos:': {' 2ªs vias de facturas / recibos': '15,00',\n",
       "    ' IMI - Imposto Municipal sobre Imóveis e Tarifas de Saneamento': '30,00'},\n",
       "   'Comissão pela Recuperação de Valores em Dívida': '150,00',\n",
       "   'Rescisões Antecipadas / Amortizações Totais': {' Taxa Variável': '0'}}},\n",
       " 'n_subproducts': 0}"
      ]
     },
     "execution_count": 27,
     "metadata": {},
     "output_type": "execute_result"
    }
   ],
   "source": [
    "bankinter_out"
   ]
  },
  {
   "cell_type": "code",
   "execution_count": null,
   "metadata": {},
   "outputs": [],
   "source": []
  }
 ],
 "metadata": {
  "kernelspec": {
   "display_name": "Python 3",
   "language": "python",
   "name": "python3"
  },
  "language_info": {
   "codemirror_mode": {
    "name": "ipython",
    "version": 3
   },
   "file_extension": ".py",
   "mimetype": "text/x-python",
   "name": "python",
   "nbconvert_exporter": "python",
   "pygments_lexer": "ipython3",
   "version": "3.8.6"
  },
  "toc": {
   "base_numbering": 1,
   "nav_menu": {},
   "number_sections": true,
   "sideBar": true,
   "skip_h1_title": false,
   "title_cell": "Table of Contents",
   "title_sidebar": "Contents",
   "toc_cell": false,
   "toc_position": {},
   "toc_section_display": true,
   "toc_window_display": false
  }
 },
 "nbformat": 4,
 "nbformat_minor": 4
}
