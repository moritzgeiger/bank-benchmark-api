{
 "cells": [
  {
   "cell_type": "markdown",
   "metadata": {},
   "source": [
    "### importing "
   ]
  },
  {
   "cell_type": "code",
   "execution_count": 20,
   "metadata": {},
   "outputs": [
    {
     "name": "stdout",
     "output_type": "stream",
     "text": [
      "The autoreload extension is already loaded. To reload it, use:\n",
      "  %reload_ext autoreload\n"
     ]
    }
   ],
   "source": [
    "%load_ext autoreload\n",
    "%autoreload 2 \n",
    "import pandas as pd\n",
    "import numpy as np\n",
    "import pdfplumber\n",
    "import re\n",
    "import nltk\n",
    "from urllib.parse import urljoin, quote_plus, quote, urlencode\n",
    "from urllib.request import Request, urlopen\n",
    "from io import StringIO, BytesIO\n",
    "from oc_tryinghouse import HouseCredit\n",
    "from try_scrape_demand import DemandDeposit"
   ]
  },
  {
   "cell_type": "code",
   "execution_count": 2,
   "metadata": {},
   "outputs": [
    {
     "ename": "NameError",
     "evalue": "name 'abanca' is not defined",
     "output_type": "error",
     "traceback": [
      "\u001b[0;31m---------------------------------------------------------------------------\u001b[0m",
      "\u001b[0;31mNameError\u001b[0m                                 Traceback (most recent call last)",
      "\u001b[0;32m<ipython-input-2-6c60d506efcf>\u001b[0m in \u001b[0;36m<module>\u001b[0;34m\u001b[0m\n\u001b[0;32m----> 1\u001b[0;31m \u001b[0mDemandDeposit\u001b[0m\u001b[0;34m(\u001b[0m\u001b[0mabanca\u001b[0m\u001b[0;34m[\u001b[0m\u001b[0;36m2\u001b[0m\u001b[0;34m]\u001b[0m\u001b[0;34m[\u001b[0m\u001b[0;34m'link'\u001b[0m\u001b[0;34m]\u001b[0m\u001b[0;34m,\u001b[0m\u001b[0;34m[\u001b[0m\u001b[0;36m4\u001b[0m\u001b[0;34m]\u001b[0m\u001b[0;34m,\u001b[0m\u001b[0;34m'0170'\u001b[0m\u001b[0;34m)\u001b[0m\u001b[0;34m.\u001b[0m\u001b[0moutput\u001b[0m\u001b[0;34m(\u001b[0m\u001b[0;34m)\u001b[0m\u001b[0;34m\u001b[0m\u001b[0;34m\u001b[0m\u001b[0m\n\u001b[0m",
      "\u001b[0;31mNameError\u001b[0m: name 'abanca' is not defined"
     ]
    }
   ],
   "source": [
    "# DemandDeposit(abanca[2]['link'],[4],'0170').output()"
   ]
  },
  {
   "cell_type": "markdown",
   "metadata": {},
   "source": [
    "demand deposit \n",
    "- bankinter = 4\n",
    "- abanca = 4\n",
    "- bai = 4\n",
    "- bic = 4,6\n",
    "- ctt = 4\n",
    "housing credit \n",
    "- bankinter = 8,9,10,11,12,13,14,15,16,17\n",
    "- abanca = 6,7,8\n",
    "- bai = no product\n",
    "- bic = 7,8,9,10,12,13\n",
    "- ctt = 6\n"
   ]
  },
  {
   "cell_type": "code",
   "execution_count": 3,
   "metadata": {},
   "outputs": [],
   "source": [
    "abanca={1:{'link':'https://www.abanca.pt', 'page':[]}, \n",
    "        2:{'link':'https://clientebancario.bportugal.pt/sites/default/files/precario/0170_/0170_PRE.pdf', 'page':[6,7,8]},\n",
    "        3:{'link':'https://storage.googleapis.com/bank_price_pdfs/1_all_products_210412130040.pdf', 'page':[6]}}\n",
    "bankinter={1:{'link':'https://www.bankinter.pt', 'page':[]},\n",
    "           2:{'link':'https://clientebancario.bportugal.pt/sites/default/files/precario/0269_/0269_PRE.pdf', 'page':[8,9,10,11,12,13,14,15,16,17]},\n",
    "           3:{'link': 'https://storage.googleapis.com/bank_price_pdfs/2_all_products_210412130350.pdf', 'page':[], 'notes':'image file'}}\n",
    "bic={1:{'link':'https://www.bancobic.ao' ,'page':[]},\n",
    "     2:{'link':'https://clientebancario.bportugal.pt/sites/default/files/precario/0079_/0079_PRE_0.pdf', 'page':[7,8,9,10,12,13]},\n",
    "     3:{'link':'https://storage.googleapis.com/bank_price_pdfs/3_all_products_210412130840.pdf', 'page':[], 'notes':'wrong file'}}\n",
    "bai={1:{'link':'https://www.bancobai.ao', 'page':[]},\n",
    "     2:{'link':'https://clientebancario.bportugal.pt/sites/default/files/precario/0008_/0008_PRE.pdf', 'page':[], 'notes':'No housing credit products'},\n",
    "     3:{'link':'https://storage.googleapis.com/bank_price_pdfs/4_all_products_210412130952.pdf', 'page':[], 'notes':'No housing credit products'}}\n",
    "ctt={1:{'link':'https://www.bancoctt.pt/', 'page':[]},\n",
    "     2:{'link':'https://clientebancario.bportugal.pt/sites/default/files/precario/0193_/0193_PRE.pdf', 'page':[6]},\n",
    "     3:{'link':'https://storage.googleapis.com/bank_price_pdfs/5_all_products_210412131014.pdf', 'page':[6]}}"
   ]
  },
  {
   "cell_type": "markdown",
   "metadata": {},
   "source": [
    "### dictionary"
   ]
  },
  {
   "cell_type": "code",
   "execution_count": 4,
   "metadata": {},
   "outputs": [],
   "source": [
    "house_credit_com = {'admin':['Comissões associadas a atos administrativos 4.1 Não realização da escritura',\n",
    "                             'Alteração do local da escritura',\n",
    "                             'Declarações de dívida',\n",
    "                             'Mudança de regime de crédito',\n",
    "                             'Declarações de dívida',\n",
    "                             'Pedido de 2ª via de Caderneta Predial',\n",
    "                             'Emissão de declarações não obrigatórias por lei',\n",
    "                             'Emissão de 2ª vias de Declaração para efeitos de IRS – Urgente',\n",
    "                             'Emissão de 2º vias de Declaração para efeitos de IRS',\n",
    "                             'Emissão de 2ª vias de faturas',\n",
    "                             'Declaração de Dívida para Fins Diversos',\n",
    "                             'Declaração de Encargos com Prestações'],\n",
    "                    'certificates':['Emolumentos do registo predial', 'registo predial',\n",
    "                                    'Certidão permanente on-line'],\n",
    "                    'debt_recovery':['Comissão de recuperação de valores em dívida', 'Prestação até 50.000 €',\n",
    "                                    'Prestação > 50.000 €', 'Comissão de recuperação de valores em dívida',\n",
    "                                    'Prestação > 50.000,00€', 'Prestação ≤ 50.000,00€'],\n",
    "                    'displacement':['Comissão de deslocação', 'Até 100 Kms', '101 a 250 Kms', '> 250 Kms '],\n",
    "                    'early_payment':['Comissão de reembolso antecipado parcial', 'Taxa fixa', 'Taxa variável', \n",
    "                                    'Taxa fixa', 'Comissão de reembolso antecipado total', 'Comissão de antecipação',\n",
    "                                    '(pré.aviso 7 dias)', 'Comissão de compra antecipada', '(pré-aviso 10 dias)',\n",
    "                                    'Comissão de Reembolso Antecipado Parcial',\n",
    "                                    'Comissão de reembolso antecipado total'],\n",
    "                    'evaluation':['Avaliação', 'Imóvel residencial', \n",
    "                                 'Garagens e arrecadações não anexas ao imóvel residencial', 'Avaliação do Imóvel'],\n",
    "                    'formalization':['Comissão de formalização', 'Formalização'],\n",
    "                    'process':['Processo', 'Abertura de Processo',\n",
    "                              'Desistência ou não conclusão do processo por motivos imputáveis ao cliente'],\n",
    "                    'inspections':['Vistorias', 'em caso de construção ou realização de obras'],\n",
    "                    'reanalysis':['Reanálise'],\n",
    "                    'settlement':['Comissão de Liquidação de Prestação', 'Liquidação de Prestação'],\n",
    "                    'solicitors_notary':['Emolumentos notariais', 'Solicitadoria', 'Notiário'],\n",
    "                    'statements':['Emissão de extratos de conta de empréstimos liquidados', 'extrato', 'extratos',\n",
    "                                  'extrato de conta', 'extrato mensal'],\n",
    "                    'taxes':['Imposto do Selo sobre concessão de crédito', 'imposto', 'imposto de selo', 'impostos'],\n",
    "                    'termination':['Cessação da posição contratual', 'cessação', 'rescisão', 'encerramento']}"
   ]
  },
  {
   "cell_type": "markdown",
   "metadata": {},
   "source": [
    "### make function of pedro run"
   ]
  },
  {
   "cell_type": "markdown",
   "metadata": {},
   "source": [
    "#### big function"
   ]
  },
  {
   "cell_type": "code",
   "execution_count": 5,
   "metadata": {},
   "outputs": [
    {
     "ename": "TypeError",
     "evalue": "__init__() missing 1 required positional argument: 'id_bank'",
     "output_type": "error",
     "traceback": [
      "\u001b[0;31m---------------------------------------------------------------------------\u001b[0m",
      "\u001b[0;31mTypeError\u001b[0m                                 Traceback (most recent call last)",
      "\u001b[0;32m<ipython-input-5-59a102bafcba>\u001b[0m in \u001b[0;36m<module>\u001b[0;34m\u001b[0m\n\u001b[0;32m----> 1\u001b[0;31m \u001b[0mabanca_f\u001b[0m \u001b[0;34m=\u001b[0m \u001b[0mHouseCredit\u001b[0m\u001b[0;34m(\u001b[0m\u001b[0mabanca\u001b[0m\u001b[0;34m[\u001b[0m\u001b[0;36m2\u001b[0m\u001b[0;34m]\u001b[0m\u001b[0;34m[\u001b[0m\u001b[0;34m'link'\u001b[0m\u001b[0;34m]\u001b[0m\u001b[0;34m,\u001b[0m \u001b[0mabanca\u001b[0m\u001b[0;34m[\u001b[0m\u001b[0;36m2\u001b[0m\u001b[0;34m]\u001b[0m\u001b[0;34m[\u001b[0m\u001b[0;34m'page'\u001b[0m\u001b[0;34m]\u001b[0m\u001b[0;34m)\u001b[0m\u001b[0;34m.\u001b[0m\u001b[0mscrape_all\u001b[0m\u001b[0;34m(\u001b[0m\u001b[0;34m)\u001b[0m\u001b[0;34m\u001b[0m\u001b[0;34m\u001b[0m\u001b[0m\n\u001b[0m",
      "\u001b[0;31mTypeError\u001b[0m: __init__() missing 1 required positional argument: 'id_bank'"
     ]
    }
   ],
   "source": [
    "# abanca_f = HouseCredit(abanca[2]['link'], abanca[2]['page']).scrape_all()"
   ]
  },
  {
   "cell_type": "code",
   "execution_count": 6,
   "metadata": {},
   "outputs": [
    {
     "ename": "TypeError",
     "evalue": "__init__() missing 1 required positional argument: 'id_bank'",
     "output_type": "error",
     "traceback": [
      "\u001b[0;31m---------------------------------------------------------------------------\u001b[0m",
      "\u001b[0;31mTypeError\u001b[0m                                 Traceback (most recent call last)",
      "\u001b[0;32m<ipython-input-6-e1fd2639e178>\u001b[0m in \u001b[0;36m<module>\u001b[0;34m\u001b[0m\n\u001b[0;32m----> 1\u001b[0;31m \u001b[0mctt_f\u001b[0m \u001b[0;34m=\u001b[0m \u001b[0mHouseCredit\u001b[0m\u001b[0;34m(\u001b[0m\u001b[0mctt\u001b[0m\u001b[0;34m[\u001b[0m\u001b[0;36m2\u001b[0m\u001b[0;34m]\u001b[0m\u001b[0;34m[\u001b[0m\u001b[0;34m'link'\u001b[0m\u001b[0;34m]\u001b[0m\u001b[0;34m,\u001b[0m \u001b[0mctt\u001b[0m\u001b[0;34m[\u001b[0m\u001b[0;36m2\u001b[0m\u001b[0;34m]\u001b[0m\u001b[0;34m[\u001b[0m\u001b[0;34m'page'\u001b[0m\u001b[0;34m]\u001b[0m\u001b[0;34m)\u001b[0m\u001b[0;34m.\u001b[0m\u001b[0mscrape_all\u001b[0m\u001b[0;34m(\u001b[0m\u001b[0;34m)\u001b[0m\u001b[0;34m\u001b[0m\u001b[0;34m\u001b[0m\u001b[0m\n\u001b[0m",
      "\u001b[0;31mTypeError\u001b[0m: __init__() missing 1 required positional argument: 'id_bank'"
     ]
    }
   ],
   "source": [
    "# ctt_f = HouseCredit(ctt[2]['link'], ctt[2]['page']).scrape_all()"
   ]
  },
  {
   "cell_type": "code",
   "execution_count": null,
   "metadata": {},
   "outputs": [],
   "source": [
    "bankinter_f = HouseCredit(bankinter[2]['link'], bankinter[2]['page']).scrape_all()"
   ]
  },
  {
   "cell_type": "code",
   "execution_count": null,
   "metadata": {},
   "outputs": [],
   "source": [
    "bic_f = HouseCredit(bic[2]['link'], bic[2]['page']).scrape_all()"
   ]
  },
  {
   "cell_type": "markdown",
   "metadata": {},
   "source": [
    "#### function to avid page section:"
   ]
  },
  {
   "cell_type": "code",
   "execution_count": null,
   "metadata": {},
   "outputs": [],
   "source": [
    "# newby = {}\n",
    "# for page in abanca_f:\n",
    "#     for k in abanca_f[page]:\n",
    "#         newby[k]=abanca_f[page][k]"
   ]
  },
  {
   "cell_type": "markdown",
   "metadata": {},
   "source": [
    "### scraping Names"
   ]
  },
  {
   "cell_type": "markdown",
   "metadata": {},
   "source": [
    "#### importing function needed"
   ]
  },
  {
   "cell_type": "code",
   "execution_count": null,
   "metadata": {},
   "outputs": [],
   "source": [
    "def get_pdf(link):\n",
    "        remote = urlopen(Request(link)).read()\n",
    "        memory = BytesIO(remote)\n",
    "        return memory\n",
    "def getting_text(link, page_demand):\n",
    "        file = get_pdf(link)\n",
    "        file = pdfplumber.open(file)\n",
    "        print('extract pdf content to text...')\n",
    "        print()\n",
    "        if len(page_demand) > 1 :\n",
    "            joined_text = []\n",
    "            for el in page_demand:\n",
    "                page = file.pages[el]\n",
    "                text = page.extract_text()\n",
    "                joined_text.append(text)\n",
    "            text ='             NEXT          '.join(joined_text)\n",
    "            text = text.replace('Isento', '0,00')\n",
    "            text = text.replace('n/a', '0,00')\n",
    "            text = re.sub('--', str(np.nan), text)\n",
    "            return text\n",
    "        else:\n",
    "            page = file.pages[page_demand[0]]\n",
    "            text = page.extract_text()\n",
    "            text = text.replace('Isento', '0,00')\n",
    "            text = text.replace('n/a', '0,00')\n",
    "            text = re.sub('--', str(np.nan), text)\n",
    "            return text"
   ]
  },
  {
   "cell_type": "code",
   "execution_count": null,
   "metadata": {},
   "outputs": [],
   "source": [
    "def tokenize(text):\n",
    "    \n",
    "    if len(nltk.sent_tokenize(text)) < 15:\n",
    "        text = text.replace('\\n','. ')\n",
    "        # text = len_sentences(text)\n",
    "        text = nltk.sent_tokenize(text)\n",
    "        return text\n",
    "    text = text.replace('\\n',' ')\n",
    "    # text = len_sentences(text)\n",
    "    text = nltk.sent_tokenize(text)\n",
    "    return text"
   ]
  },
  {
   "cell_type": "code",
   "execution_count": null,
   "metadata": {},
   "outputs": [],
   "source": [
    "def n_account(text,sent):\n",
    "        finals = []\n",
    "        tokenized = sent\n",
    "        for sentence in tokenized:\n",
    "            if 'Crédito' in sentence or 'Habitação' in sentence:\n",
    "                finals.append(sentence)\n",
    "            \n",
    "        return finals"
   ]
  },
  {
   "cell_type": "code",
   "execution_count": null,
   "metadata": {},
   "outputs": [],
   "source": [
    "def names(values):\n",
    "    search = 'Comissão'\n",
    "    search2 = 'Crédito / Particulares'\n",
    "    search3 ='Aplicável'\n",
    "    search4 = 'Nota 1  CréditoHabitação'\n",
    "    search5 = 'Incluem-se'\n",
    "    product = 'hello world'\n",
    "    regular = []\n",
    "    if len(values) < 10:\n",
    "        return values\n",
    "    else:\n",
    "        for value in values:\n",
    "            value = value.replace('Crédito à habitação e outros créditos hipotecários (cont.)','')\n",
    "            value = value.replace('Crédito à habitação e outros créditos hipotecários','')\n",
    "            value = value.replace('(cont.)','')\n",
    "            value =value.replace('Comissões Acresce  Outras  Euros  Valor  Em %   Imposto condições (Mín/Máx) Anual', '')\n",
    "            value = value.replace('Outros Créditos Hipotecários', '')\n",
    "            if search not in value and search2 not in value and search3 not in value and search4 not in value and search5 not in value:\n",
    "                if len(value) > 5:\n",
    "                    regular.append(value)\n",
    "                    regular += [product]\n",
    "    return regular\n",
    "#         return regular"
   ]
  },
  {
   "cell_type": "markdown",
   "metadata": {},
   "source": [
    "#### importing text and file"
   ]
  },
  {
   "cell_type": "code",
   "execution_count": null,
   "metadata": {},
   "outputs": [],
   "source": [
    "abanca_text = getting_text(abanca[2]['link'], abanca[2]['page'])\n",
    "bankinter_text = getting_text(bankinter[2]['link'], bankinter[2]['page'])\n",
    "bic_text = getting_text(bic[2]['link'], bic[2]['page'])\n",
    "ctt_text = getting_text(ctt[2]['link'], ctt[2]['page'])"
   ]
  },
  {
   "cell_type": "code",
   "execution_count": null,
   "metadata": {},
   "outputs": [],
   "source": [
    "abanca_sent = tokenize(abanca_text)\n",
    "bankinter_sent = tokenize(bankinter_text)\n",
    "bic_sent= tokenize(bic_text)\n",
    "ctt_sent = tokenize(ctt_text)"
   ]
  },
  {
   "cell_type": "code",
   "execution_count": null,
   "metadata": {},
   "outputs": [],
   "source": [
    "# abanca_sent"
   ]
  },
  {
   "cell_type": "markdown",
   "metadata": {},
   "source": [
    "### testing"
   ]
  },
  {
   "cell_type": "markdown",
   "metadata": {},
   "source": [
    "##### this is just the n_account function (already enought for abanca, ctt)"
   ]
  },
  {
   "cell_type": "code",
   "execution_count": null,
   "metadata": {},
   "outputs": [],
   "source": [
    "abanca_n = n_account(abanca_text, abanca_sent)\n",
    "ctt_n = n_account(ctt_text, ctt_sent)\n",
    "bankinter_n = n_account(bankinter_text, bankinter_sent)\n",
    "bic_n = n_account(bic_text,bic_sent)"
   ]
  },
  {
   "cell_type": "code",
   "execution_count": null,
   "metadata": {},
   "outputs": [],
   "source": [
    "bic_n"
   ]
  },
  {
   "cell_type": "markdown",
   "metadata": {},
   "source": [
    "##### now try to solve for bankinter and bic"
   ]
  },
  {
   "cell_type": "code",
   "execution_count": null,
   "metadata": {},
   "outputs": [],
   "source": [
    "abanca_names = names(abanca_n)\n",
    "ctt_names = names(ctt_n)\n",
    "bankinter_names = names(bankinter_n)\n",
    "bic_names = names(bic_n)"
   ]
  },
  {
   "cell_type": "code",
   "execution_count": null,
   "metadata": {},
   "outputs": [],
   "source": [
    "bic_names"
   ]
  },
  {
   "cell_type": "markdown",
   "metadata": {},
   "source": [
    "### associating name and scraped prices"
   ]
  },
  {
   "cell_type": "markdown",
   "metadata": {},
   "source": [
    "#### abanca"
   ]
  },
  {
   "cell_type": "code",
   "execution_count": null,
   "metadata": {},
   "outputs": [],
   "source": [
    "abanca_n == abanca_names , ctt_n==ctt_names"
   ]
  },
  {
   "cell_type": "code",
   "execution_count": null,
   "metadata": {},
   "outputs": [],
   "source": [
    "# abanca_n"
   ]
  },
  {
   "cell_type": "code",
   "execution_count": null,
   "metadata": {},
   "outputs": [],
   "source": [
    "new_dict = {}\n",
    "for k,v in abanca_f.items():\n",
    "    for name in abanca_names:\n",
    "        new_dict[name]=v"
   ]
  },
  {
   "cell_type": "code",
   "execution_count": null,
   "metadata": {},
   "outputs": [],
   "source": [
    "new_dict"
   ]
  },
  {
   "cell_type": "markdown",
   "metadata": {},
   "source": [
    "#### ctt"
   ]
  },
  {
   "cell_type": "code",
   "execution_count": null,
   "metadata": {},
   "outputs": [],
   "source": [
    "# ctt_names"
   ]
  },
  {
   "cell_type": "code",
   "execution_count": null,
   "metadata": {},
   "outputs": [],
   "source": [
    "def association(function, names):  \n",
    "    new_dict = {}\n",
    "    for k,v in function.items():\n",
    "        for name in names:\n",
    "            new_dict[name]=v\n",
    "    return new_dict"
   ]
  },
  {
   "cell_type": "code",
   "execution_count": null,
   "metadata": {},
   "outputs": [],
   "source": [
    "new_dict_ctt = association(ctt_f,ctt_names)\n",
    "new_dict_ctt.pop('Banco CTT, S.A. Operações Crédito-Particulares - Pág.1/2')\n",
    "new_dict_ctt"
   ]
  },
  {
   "cell_type": "markdown",
   "metadata": {},
   "source": [
    "#### bic"
   ]
  },
  {
   "cell_type": "code",
   "execution_count": null,
   "metadata": {},
   "outputs": [],
   "source": [
    "len(bic_f) , len(bic_names)"
   ]
  },
  {
   "cell_type": "code",
   "execution_count": null,
   "metadata": {},
   "outputs": [],
   "source": [
    "bankinter_names"
   ]
  },
  {
   "cell_type": "code",
   "execution_count": null,
   "metadata": {},
   "outputs": [],
   "source": [
    "for i,name in enumerate(bic_names):\n",
    "    print(f' THIS IS THE {i+1} NAME:  {name} \\n')\n"
   ]
  },
  {
   "cell_type": "markdown",
   "metadata": {},
   "source": [
    "- ho barato malissimo ma sticazzi"
   ]
  },
  {
   "cell_type": "code",
   "execution_count": null,
   "metadata": {},
   "outputs": [],
   "source": [
    "type(bic_names)"
   ]
  },
  {
   "cell_type": "code",
   "execution_count": null,
   "metadata": {},
   "outputs": [],
   "source": [
    "product = 'Mútuo a obras e construções (Fora de comercialização)'\n",
    "bic_names += [product]"
   ]
  },
  {
   "cell_type": "code",
   "execution_count": null,
   "metadata": {},
   "outputs": [],
   "source": [
    "new_dict_bic = association(bic_f,bic_names)"
   ]
  },
  {
   "cell_type": "code",
   "execution_count": null,
   "metadata": {},
   "outputs": [],
   "source": [
    "abanca_names"
   ]
  },
  {
   "cell_type": "code",
   "execution_count": null,
   "metadata": {},
   "outputs": [],
   "source": [
    "result = []\n",
    "for i,sentence in enumerate(bankinter_n):\n",
    "    if 'Crédito à habitação e outros créditos hipotecários' in sentence:\n",
    "#         if '(cont.)' not in sentence:\n",
    "          result.append(' '.join([sentence,bankinter_n[i+1]]))\n",
    "len(result)"
   ]
  },
  {
   "cell_type": "code",
   "execution_count": null,
   "metadata": {},
   "outputs": [],
   "source": [
    "result"
   ]
  },
  {
   "cell_type": "code",
   "execution_count": null,
   "metadata": {},
   "outputs": [],
   "source": [
    "len(HouseCredit(bankinter[2]['link'], bankinter[2]['page'],'0269').final()"
   ]
  },
  {
   "cell_type": "code",
   "execution_count": 10,
   "metadata": {},
   "outputs": [
    {
     "name": "stdout",
     "output_type": "stream",
     "text": [
      "output was called\n",
      "opening url: https://clientebancario.bportugal.pt/sites/default/files/precario/0170_/0170_PRE.pdf...\n",
      "extract pdf content to text...\n",
      "\n",
      "tokenize text...\n",
      "found these headers in parsed pages: ['OPERAÇÕES DE CRÉDITO (PARTICULARES)                                                                                 ÍNDICE  2.1 Crédito à habitação e outros créditos hipotecários    Comissões  Acresce    Valor  Outras condições  Em %  Euros (Mín/Máx)  Imposto  anual  Produto: Crédito Habitação Regime Geral e Regime Deficientes.', 'Caracterização do produto: Crédito à habitação com garantia hipotecária destinado à aquisição, construção e realização de obras em  habitação própria e permanente, secundária ou para arrendamento (no Regime Deficientes só habitação própria e permanente) ou à  aquisição ou manutenção de direitos de propriedade sobre terrenos ou edifícios já existentes ou projetados.', 'OPERAÇÕES DE CRÉDITO (PARTICULARES)                                                                                      ÍNDICE  2.1 Crédito à habitação e outros créditos  Comissões  hipotecários (cont.)', 'Acresce  Outras condições    Euros  Valor  Imposto  Em %  (Mín/Máx)  anual  Produto: Crédito Multiopções   Caracterização do produto: Crédito hipotecário cuja finalidade não seja enquadrável no crédito habitação ou em que não esteja definido o  fim a que se destina a quantia mutuada.', 'OPERAÇÕES DE CRÉDITO (PARTICULARES)                                                                                      ÍNDICE  2.1 Crédito à habitação e outros créditos  Acresce  Comissões  Outras condições  hipotecários (cont.)', 'Imposto  Produto: Leasing Habitação (fora de comercialização)  Caracterização do produto: Locação financeira imobiliária  Os seguros obrigatórios são os mesmos do Crédito à Habitação (não aplicáveis a pessoas coletivas), assumindo que não houve renúncia  à isenção de IVA  Comissões durante a vigência do contrato  1.']\n",
      "parse product:                                                                                  ÍNDICE  2.1 Crédito à habitação e outros créditos hipotecários    Comissões  Acresce    Valor  Outras condições  Em %  Euros (Mín/Máx)  Imposto  anual  Produto: Crédito Habitação Regime Geral e Regime Deficientes., fee {'1.  Reanálise': '250,00', '2.  Comissão de formalização': '500,00', '3.  Avaliação ': {'.1  Imóvel residencial ': '275,00', '.2  Garagens e arrecadações não anexas ao imóvel residencial': '130,00'}, '4.  Comissões associadas a atos administrativos ': {'.1  Não realização da escritura ': '10,00', '.2  Alteração do local da escritura': '50,00'}, '5.  Comissão de reembolso antecipado parcial ': {'.1  Taxa fixa ': '0'}, '6.  Comissão de recuperação de valores em dívida  ': {'.1  Prestação até 50.000 € ': '12,00', '.2  Prestação > 50.000 €': '150,00'}, '7.  Comissões  associadas  a  atos administrativos  ': {'.1  Declarações de dívida ': '50,00', '.2  Mudança de regime de crédito': '0,00'}, '8.  Vistorias (andamento de obras) Só se aplica se a finalidade for para construção ou realização de obras.': '210,00', '9.  Comissão de reembolso antecipado total ': {'.1  Taxa fixa ': '0'}, '10. Emissão  de  extratos  de  conta  de empréstimos liquidados': '100,00', '11. Comissões  associadas  a  atos administrativos ': {'1.1 Declarações de dívida': '50,00'}, '12. Comissão de deslocação ': {'2.1  Até 100 Kms ': '175,00', '2.2  101 a 250 Kms ': '350,00', '2.3  > 250 Kms': '500,00'}}\n",
      "parse product:                                                                                       ÍNDICE  2.1 Crédito à habitação e outros créditos  Comissões  hipotecários (cont.), fee {'1.  Reanálise': '250,00', '2.  Comissão de formalização': '500,00', '3.  Avaliação ': {'.1  Imóvel residencial ': '275,00', '.2  Garagens e arrecadações não anexas ao imóvel residencial': '130,00'}, '4.  Comissões associadas a atos administrativos ': {'.1  Não realização da escritura ': '10,00', '.2  Alteração do local da escritura': '50,00'}, '5.  Comissão de reembolso antecipado parcial ': {'.1  Taxa fixa ': '0'}, '6.  Comissão de recuperação de valores em dívida  ': {'.1  Prestação até 50.000 € ': '12,00', '.2  Prestação > 50.000 €': '150,00'}, '7.  Comissões  associadas  a  atos administrativos  ': {'.1  Declarações de dívida ': '50,00', '.2  Mudança de regime de crédito': '0,00'}, '8.  Vistorias (andamento de obras) Só se aplica se a finalidade for para construção ou realização de obras.': '210,00', '9.  Comissão de reembolso antecipado total ': {'.1  Taxa fixa ': '0'}, '10. Emissão  de  extratos  de  conta  de empréstimos liquidados': '100,00', '11. Comissões  associadas  a  atos administrativos ': {'1.1 Declarações de dívida': '50,00'}, '12. Comissão de deslocação ': {'2.1  Até 100 Kms ': '175,00', '2.2  101 a 250 Kms ': '350,00', '2.3  > 250 Kms': '500,00'}}\n",
      "parse product:                                                                                       ÍNDICE  2.1 Crédito à habitação e outros créditos  Acresce  Comissões  Outras condições  hipotecários (cont.), fee {'1.  Reanálise': '250,00', '2.  Comissão de formalização': '500,00', '3.  Avaliação ': {'.1  Imóvel residencial ': '275,00', '.2  Garagens e arrecadações não anexas ao imóvel residencial': '130,00'}, '4.  Comissões associadas a atos administrativos ': {'.1  Não realização da escritura ': '10,00', '.2  Alteração do local da escritura': '50,00'}, '5.  Comissão de reembolso antecipado parcial ': {'.1  Taxa fixa ': '0'}, '6.  Comissão de recuperação de valores em dívida  ': {'.1  Prestação até 50.000 € ': '12,00', '.2  Prestação > 50.000 €': '150,00'}, '7.  Comissões  associadas  a  atos administrativos  ': {'.1  Declarações de dívida ': '50,00', '.2  Mudança de regime de crédito': '0,00'}, '8.  Vistorias (andamento de obras) Só se aplica se a finalidade for para construção ou realização de obras.': '210,00', '9.  Comissão de reembolso antecipado total ': {'.1  Taxa fixa ': '0'}, '10. Emissão  de  extratos  de  conta  de empréstimos liquidados': '100,00', '11. Comissões  associadas  a  atos administrativos ': {'1.1 Declarações de dívida': '50,00'}, '12. Comissão de deslocação ': {'2.1  Até 100 Kms ': '175,00', '2.2  101 a 250 Kms ': '350,00', '2.3  > 250 Kms': '500,00'}}\n",
      "parse product:                                                                                  ÍNDICE  2.1 Crédito à habitação e outros créditos hipotecários    Comissões  Acresce    Valor  Outras condições  Em %  Euros (Mín/Máx)  Imposto  anual  Produto: Crédito Habitação Regime Geral e Regime Deficientes., fee {'Produto: Crédito Multiopções': '0', 'Caracterização do produto: Crédito hipotecário cuja finalidade não seja enquadrável no crédito habitação ou em que não esteja definido o': '0', 'fim a que se destina a quantia mutuada.': '0', 'Comissões iniciais': '0', '1.  Comissão de formalização': '500,00', '2.  Reanálise': '250,00', '3.  Avaliação ': {'.1 Imóvel Residencial ': '0'}, '4.  Comissões associadas a atos administrativos ': {'   4.1 Não realização da escritura ': '0'}, 'Comissões durante a vigência do contrato': '0', '5.    Comissão de reembolso antecipado parcial ': {'.1 Taxa Fixa ': '0'}, '6.  Comissão de recuperação de valores em dívida  ': {'.1  Prestação até 50.000 € ': '0'}, 'Comissões no termo do contrato': '0', '9.  Comissão de reembolso antecipado total ': {'.1 Taxa Fixa ': '0'}, 'Outras despesas associadas': '0'}\n",
      "parse product:                                                                                       ÍNDICE  2.1 Crédito à habitação e outros créditos  Comissões  hipotecários (cont.), fee {'Produto: Crédito Multiopções': '0', 'Caracterização do produto: Crédito hipotecário cuja finalidade não seja enquadrável no crédito habitação ou em que não esteja definido o': '0', 'fim a que se destina a quantia mutuada.': '0', 'Comissões iniciais': '0', '1.  Comissão de formalização': '500,00', '2.  Reanálise': '250,00', '3.  Avaliação ': {'.1 Imóvel Residencial ': '0'}, '4.  Comissões associadas a atos administrativos ': {'   4.1 Não realização da escritura ': '0'}, 'Comissões durante a vigência do contrato': '0', '5.    Comissão de reembolso antecipado parcial ': {'.1 Taxa Fixa ': '0'}, '6.  Comissão de recuperação de valores em dívida  ': {'.1  Prestação até 50.000 € ': '0'}, 'Comissões no termo do contrato': '0', '9.  Comissão de reembolso antecipado total ': {'.1 Taxa Fixa ': '0'}, 'Outras despesas associadas': '0'}\n",
      "parse product:                                                                                       ÍNDICE  2.1 Crédito à habitação e outros créditos  Acresce  Comissões  Outras condições  hipotecários (cont.), fee {'Produto: Crédito Multiopções': '0', 'Caracterização do produto: Crédito hipotecário cuja finalidade não seja enquadrável no crédito habitação ou em que não esteja definido o': '0', 'fim a que se destina a quantia mutuada.': '0', 'Comissões iniciais': '0', '1.  Comissão de formalização': '500,00', '2.  Reanálise': '250,00', '3.  Avaliação ': {'.1 Imóvel Residencial ': '0'}, '4.  Comissões associadas a atos administrativos ': {'   4.1 Não realização da escritura ': '0'}, 'Comissões durante a vigência do contrato': '0', '5.    Comissão de reembolso antecipado parcial ': {'.1 Taxa Fixa ': '0'}, '6.  Comissão de recuperação de valores em dívida  ': {'.1  Prestação até 50.000 € ': '0'}, 'Comissões no termo do contrato': '0', '9.  Comissão de reembolso antecipado total ': {'.1 Taxa Fixa ': '0'}, 'Outras despesas associadas': '0'}\n",
      "parse product:                                                                                  ÍNDICE  2.1 Crédito à habitação e outros créditos hipotecários    Comissões  Acresce    Valor  Outras condições  Em %  Euros (Mín/Máx)  Imposto  anual  Produto: Crédito Habitação Regime Geral e Regime Deficientes., fee {'1. Comissão de antecipação (pré.aviso 7 dias)': '0', 'Taxa Fixa': '0', 'Taxa Variável': '0', '2. Comissão  de  recuperação  de  valores  em dívida': '150,00', '3. Comissões associadas a atos administrativos ': {' Pedido de 2ª via de Caderneta Predial ': '25,00', ' Emissão de declarações não obrigatórias por lei ': '50,00', ' Emissão de 2ª vias de Declaração para efeitos de IRS – Urgente ': '40,00', ' Emissão de 2º vias de Declaração para efeitos de IRS ': '25,00', ' Emissão de 2ª vias de faturas': '15,00'}, '4.  Cessação da posição contratual': '150,00', '5.  Comissão de compra antecipada (pré-aviso 10 dias)': '0'}\n",
      "parse product:                                                                                       ÍNDICE  2.1 Crédito à habitação e outros créditos  Comissões  hipotecários (cont.), fee {'1. Comissão de antecipação (pré.aviso 7 dias)': '0', 'Taxa Fixa': '0', 'Taxa Variável': '0', '2. Comissão  de  recuperação  de  valores  em dívida': '150,00', '3. Comissões associadas a atos administrativos ': {' Pedido de 2ª via de Caderneta Predial ': '25,00', ' Emissão de declarações não obrigatórias por lei ': '50,00', ' Emissão de 2ª vias de Declaração para efeitos de IRS – Urgente ': '40,00', ' Emissão de 2º vias de Declaração para efeitos de IRS ': '25,00', ' Emissão de 2ª vias de faturas': '15,00'}, '4.  Cessação da posição contratual': '150,00', '5.  Comissão de compra antecipada (pré-aviso 10 dias)': '0'}\n",
      "parse product:                                                                                       ÍNDICE  2.1 Crédito à habitação e outros créditos  Acresce  Comissões  Outras condições  hipotecários (cont.), fee {'1. Comissão de antecipação (pré.aviso 7 dias)': '0', 'Taxa Fixa': '0', 'Taxa Variável': '0', '2. Comissão  de  recuperação  de  valores  em dívida': '150,00', '3. Comissões associadas a atos administrativos ': {' Pedido de 2ª via de Caderneta Predial ': '25,00', ' Emissão de declarações não obrigatórias por lei ': '50,00', ' Emissão de 2ª vias de Declaração para efeitos de IRS – Urgente ': '40,00', ' Emissão de 2º vias de Declaração para efeitos de IRS ': '25,00', ' Emissão de 2ª vias de faturas': '15,00'}, '4.  Cessação da posição contratual': '150,00', '5.  Comissão de compra antecipada (pré-aviso 10 dias)': '0'}\n",
      "found these headers in parsed pages: []\n"
     ]
    }
   ],
   "source": [
    "abanca_out = HouseCredit(abanca[2]['link'], abanca[2]['page'],'0170').final()"
   ]
  },
  {
   "cell_type": "code",
   "execution_count": 16,
   "metadata": {},
   "outputs": [
    {
     "data": {
      "text/plain": [
       "3"
      ]
     },
     "execution_count": 16,
     "metadata": {},
     "output_type": "execute_result"
    }
   ],
   "source": [
    "len(abanca_out['subproducts'])\n",
    "#     print(f'{abanca_out[\"subproducts\"][sub]} \\n')"
   ]
  },
  {
   "cell_type": "code",
   "execution_count": 28,
   "metadata": {},
   "outputs": [
    {
     "name": "stdout",
     "output_type": "stream",
     "text": [
      "output was called\n",
      "opening url: https://clientebancario.bportugal.pt/sites/default/files/precario/0079_/0079_PRE_0.pdf...\n",
      "extract pdf content to text...\n",
      "\n",
      "tokenize text...\n",
      "/////////////// SCRAPE ALL /////////////////////\n",
      " {'page 7': {'2.1. Crédito à habitação e outros créditos hipotecários': '0', 'Comissões iniciais': '0', '1. Comissão de processo': '0', 'Habitação Própria': '260,00', 'Habitação Própria (oferta sénior)': '260,00', 'Troca de Casa (Fora de comercialização)': '260,00', 'Troca de Banco': '260,00', 'Habitação para Arrendamento': '260,00', 'Crédito intercalar terrenos': '50,00', 'Crédito Intercalar Sinal': '50,00', 'Multifinalidades posterior / isolado': '250,00', 'Multifinalidades Saúde': '250,00', 'Crédito Hipotecário Investimentos Diversos': '250,00', '2. Avaliação de imóveis': '0', '3. Reapreciação de avaliação de imóveis': '0', '4. Vistoria de imóveis': '0', '5. Reanálise do processo': '100,00', '6. Dispensa de registos provisórios': '100,00', '7. Conversão / Efetivação de registos': '50,00', '8. Preparação de escrituras / Minutas para escrituras': '120,00', 'Comissões durante a vigência do contrato': '0', '9. Comissão de processamento de prestação': '1,50', '10. Declarações de dívida e não dívida': '0', '11. Declaração para troca de seguradora': '50,00', '12. 2ª via de relatório de avaliação': '15,00', '13. Comissão de reembolso antecipado parcial': '0', 'Taxa fixa': '0', 'Taxa variável': '0', '14. Comissão de recuperação de valores em dívida': '0', 'Prestação vencida e não paga ≤ 50.000 €': '150,00', 'Prestação vencida e não paga > 50.000 €': '0', '15. Extinção de procurações irrevogáveis': '0', 'Com emissão de declaração particular': '80,00', 'Revogação em Notário Público': '80,00', 'Renúncia em Notário Privativo': '90,00', 'Comissões no termo do contrato': '0', '16. Comissão de reembolso antecipado total': '0', '17. 2ª via de documento de distrate de hipoteca': '60,00', '18. Declaração de não dívida': '50,00', 'Acresce Imposto': '0', 'Outras despesas associadas': '0', 'Despesas cobradas no âmbito do serviço Casa Pronta': '0', 'Pedido de Certidão de Teor On-Line': '15,00', 'Indeferimento ou desistência': '50,00', 'Despesas com a celebração do contrato de crédito (DPA)': '962,25', 'Depósito eletrónico de documento': '20,00'}, 'page 8': {'Outros Créditos HipotecáriosCrédito hipotecário multifinalidades': '0', 'Comissões iniciais': '0', '1. Comissão de estudo': '150,00', '2. Comissão de abertura': '200,00', '3. Avaliação de imóveis': '0', '4. Reapreciação de avaliação de imóveis': '0', '5. Vistoria de imóveis': '0', '6. Dispensa de registos provisórios': '100,00', '7. Conversão / Efetivação de registos': '80,00', '8. Preparação de escrituras / Minutas para escrituras': '120,00', 'Comissões durante a vigência do contrato': '0', '9. Comissão de processamento de prestação': '3,00', '10. Comissão relativa a alterações contratuais': '0', 'Com aditamento ao contrato': '250,00', 'Sem aditamento ao contrato': '250,00', '11. Declarações': '0', 'Declarações de dívida e não dívida': '0', 'Declaração para troca de seguradora': '50,00', '12. Segundas vias': '0', 'Contrato / aditamento a contratos / garantias': '60,00', 'Outros documentos': '15,00'}, 'page 9': {'2.1. Crédito à habitação e outros créditos hipotecários (cont.)': '0', 'Outros Créditos Hipotecários (cont.)Crédito hipotecário multifinalidades': '0', '13. Comissão de reembolso antecipado parcial': '100,00', '14. Comissão de recuperação de valores em dívida': '0', 'Prestação vencida e não paga ≤ 50.000 €': '150,00', 'Prestação vencida e não paga > 50.000 €': '0', '15. Extinção de procurações irrevogáveis': '0', 'Com emissão de declaração particular': '80,00', 'Revogação em Notário Público': '80,00', 'Renúncia em Notário Privativo': '90,00', 'Comissões no termo do contrato': '0', '16. Comissão de reembolso antecipado total': '100,00', '17. Comissão de deslocação de representante do Banco': '100,00', '18. 2ª via de documento de distrate de hipoteca': '60,00', '19. Declaração de não dívida': '50,00', 'Acresce Imposto': '0', 'Outras despesas associadas': '0', 'Despesas com a celebração do contrato de crédito (DPA)': '962,25', 'Depósito eletrónico de documento': '20,00', 'Emolumentos por reconhecimentonotarial de assinatura: 18,00 € + IVA (por cada reconhecimentoque contenhaa mençãode qualquer circunstânciaespecial (na qualidade de procurador sócio-gerente e com poderes para o ato). As despesas notariais são a cargo do Cliente.': '0'}, 'page 10': {'Locação Financeira Imobiliária (taxa variável) - Finalidade Habitação': '0', 'Habitação própria permanente, secundária ou para arrendamento.': '0', 'Comissões iniciais': '0', '1. Comissões contratuais': '0', 'Montante total  (valor de aquisição + IMT)': '500,00', 'Relocações': '800,00', '2. Avaliação de imóveis': '0', '3. Reapreciação de avaliação de imóveis': '0', '4. Vistoria de imóveis': '0', 'Comissões durante a vigência do contrato': '0', '5. Comissão de gestão': '10,00', '6. Comissão de processamento de renda': '1,50', '7. Comissão por contratos de sublocação': '150,00', '8. Autorização de sublocação': '75,00', '9. Cessão da posição contratual': '800,00', '10. Comissões relativas a atos administrativos': '0', 'Portes': '1,00', 'Reenvio de correspondência devolvida (por envio)': '10,00', 'Cash-flow (por envio)': '7,50', 'Impostos, taxas e outros encargos sobre o imóvel locado': '10,00', 'Tratamento de notificações de condomínio': '40,00', 'Alteração do seguro / companhia de seguros': '50,00', 'Constituição de seguro em substituição do locatário': '75,00', 'Tratamento de prémios de seguro em incumprimento': '25,00', 'Reclamações de avaliações fiscais (autárquicas, IMT, etc.)': '10,00', 'Tratamento do Modelo I do IMI': '50,00', 'Processamento de pedido de informação de entidade externa (PSP, GNR, Brisa, Seguradora, etc.)': '20,00', '11. Declarações / Requerimentos': '0', 'Declarações de dívida e não dívida': '0', 'Declaração para troca de seguradora': '50,00', 'Outras declarações': '50,00', 'Requerimento de redução da taxa de IMT': '100,00', 'Requerimento a câmaras municipais ou outras instituições': '50,00', 'Autorização para obras e/ou obtenção de licenças': '75,00', 'Autorização para representação em assembleias de condóminos': '50,00', 'Autorização de averbamento de alvarás, no âmbito da atividade do locatário': '100,00', 'Anexação e/ou destaques (modificação de propriedade)': '125,00', '12. Segundas vias': '0', 'Contrato / aditamento a contratos / garantias': '60,00', 'Outros documentos': '15,00', '13. Comissão de deslocação de representante do Banco': '100,00', '14. Comissão de reembolso antecipado parcial': '0', 'Taxa variável': '0', '15. Comissão de recuperação de valores em dívida': '0', 'Prestação vencida e não paga ≤ 50.000 €': '150,00', 'Prestação vencida e não paga > 50.000 €': '0', '16. Comissão de recuperação do ativo': '200,00', 'Comissões no termo do contrato': '0', '17. Comissão de reembolso antecipado total': '0', '18. 2ª via de documento de distrate de hipoteca': '60,00', '19. Declaração de não dívida': '50,00'}, 'page 12': {'2.1. Crédito à habitação e outros créditos hipotecários (cont.)': '0', 'Leasing Imobiliário Habitação (Fora de comercialização)Habitação própria permanente, secundária, ou para arrendamento. (Aplicável a créditos migrados da BPN Crédito)': '0', 'Comissões iniciais': '0', '1. Comissão de financiamento (não incluída nas mensalidades)': '0', 'Comissão de dossier': '50,00', '2. Avaliação do imóvel': '0', 'até 250.000 €': '416,67', 'de 250.000 € eté 500.000 €': '458,34', 'a partir de 500.000 €': '000,00', '3. Comissão de vistoria (por vistoria)': '0', '3.1. Moradias e frações autónomas habitacionais': '80,00', '3.2. Terrenos para construção, com área bruta de construção:': '0', '< 500 m2': '50,00', '≥ 500 m2 e < 1.000 m2': '75,00', '≥ 1.000 m2 e < 5.000 m2': '125,00', '≥ 5.000 m2': '200,00', '3.3. Imóveis especiais (por exemplo, herdades), com área bruta de construção:': '0', '4. Deslocação de técnicos (escrituras)': '500,00', 'Comissões durante a vigência do contrato': '0', '5. Comissão de reembolso antecipado parcial': '0', 'Taxa fixa': '0', 'Taxa variável': '0', '6. Comissão de processamento de renda': '1,00', '7. Comissão relativa a alterações contratuais': '0', 'Conta bancária': '8,34', '8. Cedência de posição contratual': '833,34', '9. Cancelamento de hipotecas': '75,00', '10. Pedidos de 2ª via': '0', 'Extratos': '8,34', 'Contratos': '0', '11. Declarações': '0', 'Regularização de dívida': '16,67', 'Informações a terceiros': '0', 'Específica': '500,00', 'Comissões no termo do contrato': '0', '12. Comissão de reembolso antecipado total': '0', '13. Declarações': '0', 'Liquidado/Finalizado': '8,34', 'Mútuo a obras e construções (Fora de comercialização)': '0', 'Apenas pode ser subscrito como complemento ao leasing imobiliário. Aplicável a créditos migrados da BPN Crédito.': '0', '2. Comissão de vistoria (por vistoria)': '0', '2.1. Moradias e frações autónomas habitacionais': '80,00', '2.2. Terrenos para construção, com área bruta de construção:': '0'}, 'page 13': {'2.1. Crédito à habitação e outros créditos hipotecários (cont.)': '0', 'Mútuo a obras e construções (Fora de comercialização)Apenas pode ser subscrito como complemento ao leasing imobiliário. Aplicável a créditos migrados da BPN Crédito.': '0', 'Comissões iniciais': '0', '2. Comissão de vistoria (por vistoria)': '0', '2.3. Imóveis especiais (por exemplo, herdades), com área bruta de construção:': '0', '< 500 m2': '125,00', '≥ 500 m2 e < 1.000 m2': '200,00', '≥ 1.000 m2 e < 5.000 m2': '250,00', '≥ 5.000 m2': '300,00', '3. Deslocação de técnicos (escrituras)': '500,00', 'Comissões durante a vigência do contrato': '0', '4. Comissão de reembolso antecipado parcial': '0', 'Taxa fixa': '0', 'Taxa variável': '0', '5. Comissão relativa a alterações contratuais': '0', 'Conta bancária': '8,34', '6. Pedidos de 2ª via': '0', 'Extratos': '8,34', 'Contratos': '20,84', '7. Declaração de regularização de dívida': '16,67', 'Comissões no termo do contrato': '0', '8. Comissão de reembolso antecipado total': '0', '9. Declarações': '0', 'Regularização de dívida': '16,67', 'Informações a terceiros': '50,00', 'Específica': '500,00'}} \n",
      " ///////////////////// END SCRAPE ALL /////////////////\n",
      "found these headers in parsed pages: ['Crédito à habitação e outros créditos hipotecários Comissões Acresce  Outras  Euros  Valor  Em %   Imposto condições (Mín/Máx) Anual Crédito à Habitação com Garantia Hipotecária Nota 1  Habitação Própria / Habitação Própria (oferta sénior) / Troca de Banco / Habitação para Arrendamento / Crédito Intercalar Terrenos / Troca de Casa (Fora  de comercialização) Crédito à Habitação sem Garantia Hipotecária Crédito Intercalar Sinal Outros Créditos Hipotecários Multifinalidades Posterior/Isolado / Multifinalidades Saúde / Crédito Hipotecário Investimentos Diversos  Comissões iniciais 1.', 'Comissão de processo Habitação Própria nan 260,00 nan IS 4,00% Notas 2, 9, 10 Habitação Própria (oferta sénior) nan 260,00 nan IS 4,00% Notas 2, 9, 10 Troca de Casa (Fora de comercialização) nan 260,00 nan IS 4,00% Notas 2, 9, 10 Troca de Banco  nan 260,00 nan IS 4,00% Notas 2, 9, 11 Habitação para Arrendamento nan 260,00 nan IS 4,00% Notas 2, 9, 12 Crédito intercalar terrenos nan 50,00 nan IS 4,00% Nota 2 Crédito Intercalar Sinal nan 50,00 nan IS 4,00% Nota 2 Multifinalidades posterior / isolado  nan 250,00 nan IS 4,00% Notas 2, 3 Multifinalidades Saúde  nan 250,00 nan IS 4,00% Nota 2 Crédito Hipotecário Investimentos Diversos nan 250,00 nan IS 4,00% Nota 2 2.', 'Outras despesas associadas Despesas cobradas no âmbito do serviço Casa Pronta Pedido de Certidão de Teor On-Line nan 15,00 nan nan Indeferimento ou desistência nan 50,00 nan nan Despesas com a celebração do contrato de crédito (DPA) nan 962,25 nan nan Nota 15 Depósito eletrónico de documento nan 20,00 nan nan Banco BIC Português, SA Operações de Crédito / Particulares - Pág.', 'Crédito à habitação e outros créditos hipotecários (cont.)', 'Nota 1  CréditoHabitação:Contratosdecréditoparaaquisição,construçãoerealizaçãodeobrasemhabitaçãoprópriapermanente,secundária ou para arrendamento.', 'Incluem-se a Troca de Casa (Fora de comercialização), a Troca de Banco , o Crédito IntercalarTerrenos e o CréditoIntercalarSinal.OutrosCréditosHipotecários:Contratosdecréditocujagarantiahipotecáriaincida,totalouparcialmente,sobre um imóvel que, simultaneamente, garanta um contrato de crédito no EuroBic para os fins - Multifinalidades e Investimentos Diversos.', 'Crédito à habitação e outros créditos hipotecários.', 'Comissões Acresce  Outras  Euros  Valor  Em %   Imposto condições (Mín/Máx) Anual Outros Créditos Hipotecários Crédito hipotecário multifinalidades Comissões iniciais 1.', 'Segundas vias Contrato / aditamento a contratos / garantias nan 60,00 nan IVA 23,00% Outros documentos nan 15,00 nan IVA 23,00% Banco BIC Português, SA Operações de Crédito / Particulares - Pág.', 'Crédito à habitação e outros créditos hipotecários (cont.)', 'Comissões Acresce  Outras  Euros  Valor  Em %   Imposto condições (Mín/Máx) Anual Outros Créditos Hipotecários (cont.)', 'Crédito hipotecário multifinalidades 13.', 'Crédito à habitação e outros créditos hipotecários.', 'Banco BIC Português, SA Operações de Crédito / Particulares - Pág.', 'OPERAÇÕES DE CRÉDITO (PARTICULARES) ÍNDICE Comissões Comissões Acresce  Outras  Euros  Valor  Em %   Em %   Imposto condições (Mín/Máx) Anual Locação Financeira Imobiliária (taxa variável) - Finalidade Habitação  Habitação própria permanente, secundária ou para arrendamento.', 'Declaração de não dívida nan 50,00 nan IVA 23,00% Nota 21 Banco BIC Português, SA Operações de Crédito / Particulares - Pág.', 'Crédito à habitação e outros créditos hipotecários (cont.)', 'Comissões Acresce  Outras  Euros  Valor  Em %   Imposto condições (Mín/Máx) Anual Leasing Imobiliário Habitação (Fora de comercialização) Nota 1 Habitação própria permanente, secundária, ou para arrendamento.', '(Aplicável a créditos migrados da BPN Crédito) Comissões iniciais 1.', 'Aplicável a créditos migrados da BPN Crédito.', 'Terrenos para construção, com área bruta de construção: < 500 m2 nan 50,00 nan IVA 23,00% ≥ 500 m2 e < 1.000 m2 nan 75,00 nan IVA 23,00% ≥ 1.000 m2 e < 5.000 m2 nan 125,00 nan IVA 23,00% ≥ 5.000 m2  nan 200,00 nan IVA 23,00% Banco BIC Português, SA Operações de Crédito / Particulares - Pág.', 'Crédito à habitação e outros créditos hipotecários (cont.)', 'Aplicável a créditos migrados da BPN Crédito.', 'Banco BIC Português, SA Operações de Crédito / Particulares - Pág.']\n",
      "\n",
      "\n",
      "\n",
      "\n",
      "\n",
      "\n",
      "\n",
      "\n",
      " name 0 :   Crédito à Habitação com Garantia Hipotecária Nota 1  Habitação Própria / Habitação Própria (oferta sénior) / Troca de Banco / Habitação para Arrendamento / Crédito Intercalar Terrenos / Troca de Casa (Fora  de comercialização) Crédito à Habitação sem Garantia Hipotecária Crédito Intercalar Sinal  Multifinalidades Posterior/Isolado / Multifinalidades Saúde / Crédito Hipotecário Investimentos Diversos  Comissões iniciais 1. \n",
      "\n",
      "\n",
      "\n",
      "\n",
      "\n",
      "\n",
      "\n",
      "\n",
      "\n",
      "\n",
      "\n",
      "\n",
      "\n",
      "\n",
      "\n",
      "\n",
      " name 1 : Mútuo a obras e construções (Fora de comercialização) \n",
      "\n",
      "\n",
      "\n",
      "\n",
      "\n",
      "\n",
      "\n",
      "\n",
      "\n",
      "\n",
      "\n",
      "\n",
      "\n",
      "\n",
      "\n",
      "\n",
      " name 2 :   Crédito hipotecário multifinalidades Comissões iniciais 1. \n",
      "\n",
      "\n",
      "\n",
      "\n",
      "\n",
      "\n",
      "\n",
      "\n",
      "\n",
      "\n",
      "\n",
      "\n",
      "\n",
      "\n",
      "\n",
      "\n",
      " name 3 : Mútuo a obras e construções (Fora de comercialização) \n",
      "\n",
      "\n",
      "\n",
      "\n",
      "\n",
      "\n",
      "\n",
      "\n",
      "\n",
      "\n",
      "\n",
      "\n",
      "\n",
      "\n",
      "\n",
      "\n",
      " name 4 : Crédito hipotecário multifinalidades 13. \n",
      "\n",
      "\n",
      "\n",
      "\n",
      "\n",
      "\n",
      "\n",
      "\n",
      "\n",
      "\n",
      "\n",
      "\n",
      "\n",
      "\n",
      "\n",
      "\n",
      " name 5 : Mútuo a obras e construções (Fora de comercialização) \n",
      "\n",
      "\n",
      "\n",
      "\n",
      "\n",
      "\n",
      "\n",
      "\n",
      "\n",
      "\n",
      "\n",
      "\n",
      "\n",
      "\n",
      "\n",
      "\n",
      " name 6 : OPERAÇÕES DE CRÉDITO (PARTICULARES) ÍNDICE Comissões Comissões Acresce  Outras  Euros  Valor  Em %   Em %   Imposto condições (Mín/Máx) Anual Locação Financeira Imobiliária (taxa variável) - Finalidade Habitação  Habitação própria permanente, secundária ou para arrendamento. \n",
      "\n",
      "\n",
      "\n",
      "\n",
      "\n",
      "\n",
      "\n",
      "\n",
      "\n",
      "\n",
      "\n",
      "\n",
      "\n",
      "\n",
      "\n",
      "\n",
      " name 7 : Mútuo a obras e construções (Fora de comercialização) \n",
      "\n",
      "\n",
      "\n",
      "\n",
      "\n",
      "\n",
      "\n",
      "\n",
      "\n",
      "\n",
      "\n",
      "\n",
      "\n",
      "\n",
      "\n",
      "\n",
      " name 8 :  Leasing Imobiliário Habitação (Fora de comercialização) Nota 1 Habitação própria permanente, secundária, ou para arrendamento. \n",
      "\n",
      "\n",
      "\n",
      "\n",
      "\n",
      "\n",
      "\n",
      "\n",
      "\n",
      "\n",
      "\n",
      "\n",
      "\n",
      "\n",
      "\n",
      "\n",
      " name 9 : Mútuo a obras e construções (Fora de comercialização) \n",
      "\n",
      "\n",
      "\n",
      "\n",
      "\n",
      "\n",
      "\n",
      "\n",
      "assigning names to the scraped dictionary.\n",
      "\n",
      "\n",
      "\n",
      "\n",
      "\n",
      "\n",
      "\n",
      "\n",
      "6\n",
      "name :  Crédito à Habitação com Garantia Hipotecária Nota 1 Habitação Própria / Habitação Própria (oferta sénior) / Troca de Banco / Habitação para Arrendamento / Crédito Intercalar Terrenos / Troca de Casa (Fora de comercialização) Crédito à Habitação sem Garantia Hipotecária Crédito Intercalar Sinal Multifinalidades Posterior/Isolado / Multifinalidades Saúde / Crédito Hipotecário Investimentos Diversos Comissões iniciais 1.\n",
      "name : Mútuo a obras e construções (Fora de comercialização)\n",
      "name :  Crédito hipotecário multifinalidades Comissões iniciais 1.\n",
      "name : Mútuo a obras e construções (Fora de comercialização)\n",
      "name : Crédito hipotecário multifinalidades 13.\n",
      "name : Mútuo a obras e construções (Fora de comercialização)\n",
      "found these headers in parsed pages: []\n",
      "final output ito be injected: {'subproducts': {' Crédito à Habitação com Garantia Hipotecária Nota 1 Habitação Própria / Habitação Própria (oferta sénior) / Troca de Banco / Habitação para Arrendamento / Crédito Intercalar Terrenos / Troca de Casa (Fora de comercialização) Crédito à Habitação sem Garantia Hipotecária Crédito Intercalar Sinal Multifinalidades Posterior/Isolado / Multifinalidades Saúde / Crédito Hipotecário Investimentos Diversos Comissões iniciais 1.': {'2.1. Crédito à habitação e outros créditos hipotecários': '0', 'Comissões iniciais': '0', '1. Comissão de processo': '0', 'Habitação Própria': '260,00', 'Habitação Própria (oferta sénior)': '260,00', 'Troca de Casa (Fora de comercialização)': '260,00', 'Troca de Banco': '260,00', 'Habitação para Arrendamento': '260,00', 'Crédito intercalar terrenos': '50,00', 'Crédito Intercalar Sinal': '50,00', 'Multifinalidades posterior / isolado': '250,00', 'Multifinalidades Saúde': '250,00', 'Crédito Hipotecário Investimentos Diversos': '250,00', '2. Avaliação de imóveis': '0', '3. Reapreciação de avaliação de imóveis': '0', '4. Vistoria de imóveis': '0', '5. Reanálise do processo': '100,00', '6. Dispensa de registos provisórios': '100,00', '7. Conversão / Efetivação de registos': '50,00', '8. Preparação de escrituras / Minutas para escrituras': '120,00', 'Comissões durante a vigência do contrato': '0', '9. Comissão de processamento de prestação': '1,50', '10. Declarações de dívida e não dívida': '0', '11. Declaração para troca de seguradora': '50,00', '12. 2ª via de relatório de avaliação': '15,00', '13. Comissão de reembolso antecipado parcial': '0', 'Taxa fixa': '0', 'Taxa variável': '0', '14. Comissão de recuperação de valores em dívida': '0', 'Prestação vencida e não paga ≤ 50.000 €': '150,00', 'Prestação vencida e não paga > 50.000 €': '0', '15. Extinção de procurações irrevogáveis': '0', 'Com emissão de declaração particular': '80,00', 'Revogação em Notário Público': '80,00', 'Renúncia em Notário Privativo': '90,00', 'Comissões no termo do contrato': '0', '16. Comissão de reembolso antecipado total': '0', '17. 2ª via de documento de distrate de hipoteca': '60,00', '18. Declaração de não dívida': '50,00', 'Acresce Imposto': '0', 'Outras despesas associadas': '0', 'Despesas cobradas no âmbito do serviço Casa Pronta': '0', 'Pedido de Certidão de Teor On-Line': '15,00', 'Indeferimento ou desistência': '50,00', 'Despesas com a celebração do contrato de crédito (DPA)': '962,25', 'Depósito eletrónico de documento': '20,00'}, 'Mútuo a obras e construções (Fora de comercialização)': {'2.1. Crédito à habitação e outros créditos hipotecários (cont.)': '0', 'Mútuo a obras e construções (Fora de comercialização)Apenas pode ser subscrito como complemento ao leasing imobiliário. Aplicável a créditos migrados da BPN Crédito.': '0', 'Comissões iniciais': '0', '2. Comissão de vistoria (por vistoria)': '0', '2.3. Imóveis especiais (por exemplo, herdades), com área bruta de construção:': '0', '< 500 m2': '125,00', '≥ 500 m2 e < 1.000 m2': '200,00', '≥ 1.000 m2 e < 5.000 m2': '250,00', '≥ 5.000 m2': '300,00', '3. Deslocação de técnicos (escrituras)': '500,00', 'Comissões durante a vigência do contrato': '0', '4. Comissão de reembolso antecipado parcial': '0', 'Taxa fixa': '0', 'Taxa variável': '0', '5. Comissão relativa a alterações contratuais': '0', 'Conta bancária': '8,34', '6. Pedidos de 2ª via': '0', 'Extratos': '8,34', 'Contratos': '20,84', '7. Declaração de regularização de dívida': '16,67', 'Comissões no termo do contrato': '0', '8. Comissão de reembolso antecipado total': '0', '9. Declarações': '0', 'Regularização de dívida': '16,67', 'Informações a terceiros': '50,00', 'Específica': '500,00'}, ' Crédito hipotecário multifinalidades Comissões iniciais 1.': {'2.1. Crédito à habitação e outros créditos hipotecários (cont.)': '0', 'Outros Créditos Hipotecários (cont.)Crédito hipotecário multifinalidades': '0', '13. Comissão de reembolso antecipado parcial': '100,00', '14. Comissão de recuperação de valores em dívida': '0', 'Prestação vencida e não paga ≤ 50.000 €': '150,00', 'Prestação vencida e não paga > 50.000 €': '0', '15. Extinção de procurações irrevogáveis': '0', 'Com emissão de declaração particular': '80,00', 'Revogação em Notário Público': '80,00', 'Renúncia em Notário Privativo': '90,00', 'Comissões no termo do contrato': '0', '16. Comissão de reembolso antecipado total': '100,00', '17. Comissão de deslocação de representante do Banco': '100,00', '18. 2ª via de documento de distrate de hipoteca': '60,00', '19. Declaração de não dívida': '50,00', 'Acresce Imposto': '0', 'Outras despesas associadas': '0', 'Despesas com a celebração do contrato de crédito (DPA)': '962,25', 'Depósito eletrónico de documento': '20,00', 'Emolumentos por reconhecimentonotarial de assinatura: 18,00 € + IVA (por cada reconhecimentoque contenhaa mençãode qualquer circunstânciaespecial (na qualidade de procurador sócio-gerente e com poderes para o ato). As despesas notariais são a cargo do Cliente.': '0'}, 'Crédito hipotecário multifinalidades 13.': {'2.1. Crédito à habitação e outros créditos hipotecários (cont.)': '0', 'Leasing Imobiliário Habitação (Fora de comercialização)Habitação própria permanente, secundária, ou para arrendamento. (Aplicável a créditos migrados da BPN Crédito)': '0', 'Comissões iniciais': '0', '1. Comissão de financiamento (não incluída nas mensalidades)': '0', 'Comissão de dossier': '50,00', '2. Avaliação do imóvel': '0', 'até 250.000 €': '416,67', 'de 250.000 € eté 500.000 €': '458,34', 'a partir de 500.000 €': '000,00', '3. Comissão de vistoria (por vistoria)': '0', '3.1. Moradias e frações autónomas habitacionais': '80,00', '3.2. Terrenos para construção, com área bruta de construção:': '0', '< 500 m2': '50,00', '≥ 500 m2 e < 1.000 m2': '75,00', '≥ 1.000 m2 e < 5.000 m2': '125,00', '≥ 5.000 m2': '200,00', '3.3. Imóveis especiais (por exemplo, herdades), com área bruta de construção:': '0', '4. Deslocação de técnicos (escrituras)': '500,00', 'Comissões durante a vigência do contrato': '0', '5. Comissão de reembolso antecipado parcial': '0', 'Taxa fixa': '0', 'Taxa variável': '0', '6. Comissão de processamento de renda': '1,00', '7. Comissão relativa a alterações contratuais': '0', 'Conta bancária': '8,34', '8. Cedência de posição contratual': '833,34', '9. Cancelamento de hipotecas': '75,00', '10. Pedidos de 2ª via': '0', 'Extratos': '8,34', 'Contratos': '0', '11. Declarações': '0', 'Regularização de dívida': '16,67', 'Informações a terceiros': '0', 'Específica': '500,00', 'Comissões no termo do contrato': '0', '12. Comissão de reembolso antecipado total': '0', '13. Declarações': '0', 'Liquidado/Finalizado': '8,34', 'Mútuo a obras e construções (Fora de comercialização)': '0', 'Apenas pode ser subscrito como complemento ao leasing imobiliário. Aplicável a créditos migrados da BPN Crédito.': '0', '2. Comissão de vistoria (por vistoria)': '0', '2.1. Moradias e frações autónomas habitacionais': '80,00', '2.2. Terrenos para construção, com área bruta de construção:': '0'}}, 'n_subproducts': 0}\n"
     ]
    }
   ],
   "source": [
    "bic_out = HouseCredit(bic[2]['link'], bic[2]['page'],'0079').output()"
   ]
  },
  {
   "cell_type": "code",
   "execution_count": 29,
   "metadata": {},
   "outputs": [
    {
     "data": {
      "text/plain": [
       "{'subproducts': {' Crédito à Habitação com Garantia Hipotecária Nota 1 Habitação Própria / Habitação Própria (oferta sénior) / Troca de Banco / Habitação para Arrendamento / Crédito Intercalar Terrenos / Troca de Casa (Fora de comercialização) Crédito à Habitação sem Garantia Hipotecária Crédito Intercalar Sinal Multifinalidades Posterior/Isolado / Multifinalidades Saúde / Crédito Hipotecário Investimentos Diversos Comissões iniciais 1.': {'2.1. Crédito à habitação e outros créditos hipotecários': '0',\n",
       "   'Comissões iniciais': '0',\n",
       "   '1. Comissão de processo': '0',\n",
       "   'Habitação Própria': '260,00',\n",
       "   'Habitação Própria (oferta sénior)': '260,00',\n",
       "   'Troca de Casa (Fora de comercialização)': '260,00',\n",
       "   'Troca de Banco': '260,00',\n",
       "   'Habitação para Arrendamento': '260,00',\n",
       "   'Crédito intercalar terrenos': '50,00',\n",
       "   'Crédito Intercalar Sinal': '50,00',\n",
       "   'Multifinalidades posterior / isolado': '250,00',\n",
       "   'Multifinalidades Saúde': '250,00',\n",
       "   'Crédito Hipotecário Investimentos Diversos': '250,00',\n",
       "   '2. Avaliação de imóveis': '0',\n",
       "   '3. Reapreciação de avaliação de imóveis': '0',\n",
       "   '4. Vistoria de imóveis': '0',\n",
       "   '5. Reanálise do processo': '100,00',\n",
       "   '6. Dispensa de registos provisórios': '100,00',\n",
       "   '7. Conversão / Efetivação de registos': '50,00',\n",
       "   '8. Preparação de escrituras / Minutas para escrituras': '120,00',\n",
       "   'Comissões durante a vigência do contrato': '0',\n",
       "   '9. Comissão de processamento de prestação': '1,50',\n",
       "   '10. Declarações de dívida e não dívida': '0',\n",
       "   '11. Declaração para troca de seguradora': '50,00',\n",
       "   '12. 2ª via de relatório de avaliação': '15,00',\n",
       "   '13. Comissão de reembolso antecipado parcial': '0',\n",
       "   'Taxa fixa': '0',\n",
       "   'Taxa variável': '0',\n",
       "   '14. Comissão de recuperação de valores em dívida': '0',\n",
       "   'Prestação vencida e não paga ≤ 50.000 €': '150,00',\n",
       "   'Prestação vencida e não paga > 50.000 €': '0',\n",
       "   '15. Extinção de procurações irrevogáveis': '0',\n",
       "   'Com emissão de declaração particular': '80,00',\n",
       "   'Revogação em Notário Público': '80,00',\n",
       "   'Renúncia em Notário Privativo': '90,00',\n",
       "   'Comissões no termo do contrato': '0',\n",
       "   '16. Comissão de reembolso antecipado total': '0',\n",
       "   '17. 2ª via de documento de distrate de hipoteca': '60,00',\n",
       "   '18. Declaração de não dívida': '50,00',\n",
       "   'Acresce Imposto': '0',\n",
       "   'Outras despesas associadas': '0',\n",
       "   'Despesas cobradas no âmbito do serviço Casa Pronta': '0',\n",
       "   'Pedido de Certidão de Teor On-Line': '15,00',\n",
       "   'Indeferimento ou desistência': '50,00',\n",
       "   'Despesas com a celebração do contrato de crédito (DPA)': '962,25',\n",
       "   'Depósito eletrónico de documento': '20,00'},\n",
       "  'Mútuo a obras e construções (Fora de comercialização)': {'2.1. Crédito à habitação e outros créditos hipotecários (cont.)': '0',\n",
       "   'Mútuo a obras e construções (Fora de comercialização)Apenas pode ser subscrito como complemento ao leasing imobiliário. Aplicável a créditos migrados da BPN Crédito.': '0',\n",
       "   'Comissões iniciais': '0',\n",
       "   '2. Comissão de vistoria (por vistoria)': '0',\n",
       "   '2.3. Imóveis especiais (por exemplo, herdades), com área bruta de construção:': '0',\n",
       "   '< 500 m2': '125,00',\n",
       "   '≥ 500 m2 e < 1.000 m2': '200,00',\n",
       "   '≥ 1.000 m2 e < 5.000 m2': '250,00',\n",
       "   '≥ 5.000 m2': '300,00',\n",
       "   '3. Deslocação de técnicos (escrituras)': '500,00',\n",
       "   'Comissões durante a vigência do contrato': '0',\n",
       "   '4. Comissão de reembolso antecipado parcial': '0',\n",
       "   'Taxa fixa': '0',\n",
       "   'Taxa variável': '0',\n",
       "   '5. Comissão relativa a alterações contratuais': '0',\n",
       "   'Conta bancária': '8,34',\n",
       "   '6. Pedidos de 2ª via': '0',\n",
       "   'Extratos': '8,34',\n",
       "   'Contratos': '20,84',\n",
       "   '7. Declaração de regularização de dívida': '16,67',\n",
       "   'Comissões no termo do contrato': '0',\n",
       "   '8. Comissão de reembolso antecipado total': '0',\n",
       "   '9. Declarações': '0',\n",
       "   'Regularização de dívida': '16,67',\n",
       "   'Informações a terceiros': '50,00',\n",
       "   'Específica': '500,00'},\n",
       "  ' Crédito hipotecário multifinalidades Comissões iniciais 1.': {'2.1. Crédito à habitação e outros créditos hipotecários (cont.)': '0',\n",
       "   'Outros Créditos Hipotecários (cont.)Crédito hipotecário multifinalidades': '0',\n",
       "   '13. Comissão de reembolso antecipado parcial': '100,00',\n",
       "   '14. Comissão de recuperação de valores em dívida': '0',\n",
       "   'Prestação vencida e não paga ≤ 50.000 €': '150,00',\n",
       "   'Prestação vencida e não paga > 50.000 €': '0',\n",
       "   '15. Extinção de procurações irrevogáveis': '0',\n",
       "   'Com emissão de declaração particular': '80,00',\n",
       "   'Revogação em Notário Público': '80,00',\n",
       "   'Renúncia em Notário Privativo': '90,00',\n",
       "   'Comissões no termo do contrato': '0',\n",
       "   '16. Comissão de reembolso antecipado total': '100,00',\n",
       "   '17. Comissão de deslocação de representante do Banco': '100,00',\n",
       "   '18. 2ª via de documento de distrate de hipoteca': '60,00',\n",
       "   '19. Declaração de não dívida': '50,00',\n",
       "   'Acresce Imposto': '0',\n",
       "   'Outras despesas associadas': '0',\n",
       "   'Despesas com a celebração do contrato de crédito (DPA)': '962,25',\n",
       "   'Depósito eletrónico de documento': '20,00',\n",
       "   'Emolumentos por reconhecimentonotarial de assinatura: 18,00 € + IVA (por cada reconhecimentoque contenhaa mençãode qualquer circunstânciaespecial (na qualidade de procurador sócio-gerente e com poderes para o ato). As despesas notariais são a cargo do Cliente.': '0'},\n",
       "  'Crédito hipotecário multifinalidades 13.': {'2.1. Crédito à habitação e outros créditos hipotecários (cont.)': '0',\n",
       "   'Leasing Imobiliário Habitação (Fora de comercialização)Habitação própria permanente, secundária, ou para arrendamento. (Aplicável a créditos migrados da BPN Crédito)': '0',\n",
       "   'Comissões iniciais': '0',\n",
       "   '1. Comissão de financiamento (não incluída nas mensalidades)': '0',\n",
       "   'Comissão de dossier': '50,00',\n",
       "   '2. Avaliação do imóvel': '0',\n",
       "   'até 250.000 €': '416,67',\n",
       "   'de 250.000 € eté 500.000 €': '458,34',\n",
       "   'a partir de 500.000 €': '000,00',\n",
       "   '3. Comissão de vistoria (por vistoria)': '0',\n",
       "   '3.1. Moradias e frações autónomas habitacionais': '80,00',\n",
       "   '3.2. Terrenos para construção, com área bruta de construção:': '0',\n",
       "   '< 500 m2': '50,00',\n",
       "   '≥ 500 m2 e < 1.000 m2': '75,00',\n",
       "   '≥ 1.000 m2 e < 5.000 m2': '125,00',\n",
       "   '≥ 5.000 m2': '200,00',\n",
       "   '3.3. Imóveis especiais (por exemplo, herdades), com área bruta de construção:': '0',\n",
       "   '4. Deslocação de técnicos (escrituras)': '500,00',\n",
       "   'Comissões durante a vigência do contrato': '0',\n",
       "   '5. Comissão de reembolso antecipado parcial': '0',\n",
       "   'Taxa fixa': '0',\n",
       "   'Taxa variável': '0',\n",
       "   '6. Comissão de processamento de renda': '1,00',\n",
       "   '7. Comissão relativa a alterações contratuais': '0',\n",
       "   'Conta bancária': '8,34',\n",
       "   '8. Cedência de posição contratual': '833,34',\n",
       "   '9. Cancelamento de hipotecas': '75,00',\n",
       "   '10. Pedidos de 2ª via': '0',\n",
       "   'Extratos': '8,34',\n",
       "   'Contratos': '0',\n",
       "   '11. Declarações': '0',\n",
       "   'Regularização de dívida': '16,67',\n",
       "   'Informações a terceiros': '0',\n",
       "   'Específica': '500,00',\n",
       "   'Comissões no termo do contrato': '0',\n",
       "   '12. Comissão de reembolso antecipado total': '0',\n",
       "   '13. Declarações': '0',\n",
       "   'Liquidado/Finalizado': '8,34',\n",
       "   'Mútuo a obras e construções (Fora de comercialização)': '0',\n",
       "   'Apenas pode ser subscrito como complemento ao leasing imobiliário. Aplicável a créditos migrados da BPN Crédito.': '0',\n",
       "   '2. Comissão de vistoria (por vistoria)': '0',\n",
       "   '2.1. Moradias e frações autónomas habitacionais': '80,00',\n",
       "   '2.2. Terrenos para construção, com área bruta de construção:': '0'}},\n",
       " 'n_subproducts': 0}"
      ]
     },
     "execution_count": 29,
     "metadata": {},
     "output_type": "execute_result"
    }
   ],
   "source": [
    "bic_out"
   ]
  },
  {
   "cell_type": "code",
   "execution_count": null,
   "metadata": {},
   "outputs": [],
   "source": []
  }
 ],
 "metadata": {
  "kernelspec": {
   "display_name": "Python 3",
   "language": "python",
   "name": "python3"
  },
  "language_info": {
   "codemirror_mode": {
    "name": "ipython",
    "version": 3
   },
   "file_extension": ".py",
   "mimetype": "text/x-python",
   "name": "python",
   "nbconvert_exporter": "python",
   "pygments_lexer": "ipython3",
   "version": "3.8.6"
  },
  "toc": {
   "base_numbering": 1,
   "nav_menu": {},
   "number_sections": true,
   "sideBar": true,
   "skip_h1_title": false,
   "title_cell": "Table of Contents",
   "title_sidebar": "Contents",
   "toc_cell": false,
   "toc_position": {},
   "toc_section_display": true,
   "toc_window_display": false
  }
 },
 "nbformat": 4,
 "nbformat_minor": 4
}
