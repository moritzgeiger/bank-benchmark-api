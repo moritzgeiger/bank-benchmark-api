{
 "cells": [
  {
   "cell_type": "markdown",
   "metadata": {
    "heading_collapsed": true
   },
   "source": [
    "#### importing "
   ]
  },
  {
   "cell_type": "code",
   "execution_count": 1,
   "metadata": {
    "hidden": true
   },
   "outputs": [
    {
     "name": "stderr",
     "output_type": "stream",
     "text": [
      "/Users/olgacravesana/.pyenv/versions/3.8.6/envs/lewagon/lib/python3.8/site-packages/pandas/compat/__init__.py:97: UserWarning: Could not import the lzma module. Your installed Python is incomplete. Attempting to use lzma compression will result in a RuntimeError.\n",
      "  warnings.warn(msg)\n"
     ]
    }
   ],
   "source": [
    "%load_ext autoreload\n",
    "%autoreload 2 \n",
    "import pandas as pd\n",
    "import numpy as np\n",
    "import pdfplumber\n",
    "import re\n",
    "import nltk\n",
    "from urllib.parse import urljoin, quote_plus, quote, urlencode\n",
    "from urllib.request import Request, urlopen\n",
    "from io import StringIO, BytesIO\n",
    "from housecredit import HouseCredit\n",
    "from try_scrape_demand import DemandDeposit"
   ]
  },
  {
   "cell_type": "code",
   "execution_count": 2,
   "metadata": {
    "hidden": true
   },
   "outputs": [],
   "source": [
    "abanca={1:{'link':'https://www.abanca.pt', 'page':None}, \n",
    "        2:{'link':'https://clientebancario.bportugal.pt/sites/default/files/precario/0170_/0170_PRE.pdf', 'page':[6,7]},\n",
    "        3:{'link':'https://storage.googleapis.com/bank_price_pdfs/1_all_products_210412130040.pdf', 'page':6}}\n",
    "\n",
    "bankinter={1:{'link':'https://www.bankinter.pt', 'page':None},\n",
    "           2:{'link':'https://clientebancario.bportugal.pt/sites/default/files/precario/0269_/0269_PRE.pdf', 'page':[8,9,10,11,12,13,14,15,16,17]},\n",
    "           3:{'link': 'https://storage.googleapis.com/bank_price_pdfs/2_all_products_210412130350.pdf', 'page':None, 'notes':'image file'}}\n",
    "\n",
    "bic={1:{'link':'https://www.bancobic.ao' ,'page':None},\n",
    "     2:{'link':'https://clientebancario.bportugal.pt/sites/default/files/precario/0079_/0079_PRE_0.pdf', 'page':[7,8,9,10,12,13]},\n",
    "     3:{'link':'https://storage.googleapis.com/bank_price_pdfs/3_all_products_210412130840.pdf', 'page':None, 'notes':'wrong file'}}\n",
    "\n",
    "bai={1:{'link':'https://www.bancobai.ao', 'page':None},\n",
    "     2:{'link':'https://clientebancario.bportugal.pt/sites/default/files/precario/0008_/0008_PRE.pdf', 'page':None, 'notes':'No housing credit products'},\n",
    "     3:{'link':'https://storage.googleapis.com/bank_price_pdfs/4_all_products_210412130952.pdf', 'page':None, 'notes':'No housing credit products'}}\n",
    "\n",
    "ctt={1:{'link':'https://www.bancoctt.pt/', 'page':None},\n",
    "     2:{'link':'https://clientebancario.bportugal.pt/sites/default/files/precario/0193_/0193_PRE.pdf', 'page':6},\n",
    "     3:{'link':'https://storage.googleapis.com/bank_price_pdfs/5_all_products_210412131014.pdf', 'page':6}}"
   ]
  },
  {
   "cell_type": "markdown",
   "metadata": {
    "heading_collapsed": true
   },
   "source": [
    "#### dictionary"
   ]
  },
  {
   "cell_type": "code",
   "execution_count": 4,
   "metadata": {
    "hidden": true
   },
   "outputs": [],
   "source": [
    "house_credit_com = {'admin':['Comissões associadas a atos administrativos 4.1 Não realização da escritura',\n",
    "                             'Alteração do local da escritura',\n",
    "                             'Declarações de dívida',\n",
    "                             'Mudança de regime de crédito',\n",
    "                             'Declarações de dívida',\n",
    "                             'Pedido de 2ª via de Caderneta Predial',\n",
    "                             'Emissão de declarações não obrigatórias por lei',\n",
    "                             'Emissão de 2ª vias de Declaração para efeitos de IRS – Urgente',\n",
    "                             'Emissão de 2º vias de Declaração para efeitos de IRS',\n",
    "                             'Emissão de 2ª vias de faturas',\n",
    "                             'Declaração de Dívida para Fins Diversos',\n",
    "                             'Declaração de Encargos com Prestações'],\n",
    "                    'certificates':['Emolumentos do registo predial', 'registo predial',\n",
    "                                    'Certidão permanente on-line'],\n",
    "                    'debt_recovery':['Comissão de recuperação de valores em dívida', 'Prestação até 50.000 €',\n",
    "                                    'Prestação > 50.000 €', 'Comissão de recuperação de valores em dívida',\n",
    "                                    'Prestação > 50.000,00€', 'Prestação ≤ 50.000,00€'],\n",
    "                    'displacement':['Comissão de deslocação', 'Até 100 Kms', '101 a 250 Kms', '> 250 Kms '],\n",
    "                    'early_payment':['Comissão de reembolso antecipado parcial', 'Taxa fixa', 'Taxa variável', \n",
    "                                    'Taxa fixa', 'Comissão de reembolso antecipado total', 'Comissão de antecipação',\n",
    "                                    '(pré.aviso 7 dias)', 'Comissão de compra antecipada', '(pré-aviso 10 dias)',\n",
    "                                    'Comissão de Reembolso Antecipado Parcial',\n",
    "                                    'Comissão de reembolso antecipado total'],\n",
    "                    'evaluation':['Avaliação', 'Imóvel residencial', \n",
    "                                 'Garagens e arrecadações não anexas ao imóvel residencial', 'Avaliação do Imóvel'],\n",
    "                    'formalization':['Comissão de formalização', 'Formalização'],\n",
    "                    'process':['Processo', 'Abertura de Processo',\n",
    "                              'Desistência ou não conclusão do processo por motivos imputáveis ao cliente'],\n",
    "                    'inspections':['Vistorias', 'em caso de construção ou realização de obras'],\n",
    "                    'reanalysis':['Reanálise'],\n",
    "                    'settlement':['Comissão de Liquidação de Prestação', 'Liquidação de Prestação'],\n",
    "                    'solicitors_notary':['Emolumentos notariais', 'Solicitadoria', 'Notiário'],\n",
    "                    'statements':['Emissão de extratos de conta de empréstimos liquidados', 'extrato', 'extratos',\n",
    "                                  'extrato de conta', 'extrato mensal'],\n",
    "                    'taxes':['Imposto do Selo sobre concessão de crédito', 'imposto', 'imposto de selo', 'impostos'],\n",
    "                    'termination':['Cessação da posição contratual', 'cessação', 'rescisão', 'encerramento']}"
   ]
  },
  {
   "cell_type": "markdown",
   "metadata": {},
   "source": [
    "#### make function of pedro run"
   ]
  },
  {
   "cell_type": "code",
   "execution_count": null,
   "metadata": {},
   "outputs": [],
   "source": []
  }
 ],
 "metadata": {
  "kernelspec": {
   "display_name": "Python 3",
   "language": "python",
   "name": "python3"
  },
  "language_info": {
   "codemirror_mode": {
    "name": "ipython",
    "version": 3
   },
   "file_extension": ".py",
   "mimetype": "text/x-python",
   "name": "python",
   "nbconvert_exporter": "python",
   "pygments_lexer": "ipython3",
   "version": "3.8.6"
  },
  "toc": {
   "base_numbering": 1,
   "nav_menu": {},
   "number_sections": true,
   "sideBar": true,
   "skip_h1_title": false,
   "title_cell": "Table of Contents",
   "title_sidebar": "Contents",
   "toc_cell": false,
   "toc_position": {},
   "toc_section_display": true,
   "toc_window_display": false
  }
 },
 "nbformat": 4,
 "nbformat_minor": 4
}
