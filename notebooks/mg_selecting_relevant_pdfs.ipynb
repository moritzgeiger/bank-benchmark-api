{
 "cells": [
  {
   "cell_type": "markdown",
   "metadata": {},
   "source": [
    "# Imports"
   ]
  },
  {
   "cell_type": "code",
   "execution_count": 26,
   "metadata": {
    "ExecuteTime": {
     "end_time": "2021-04-01T14:11:11.208192Z",
     "start_time": "2021-04-01T14:11:11.203488Z"
    }
   },
   "outputs": [],
   "source": [
    "import pandas as pd\n",
    "import numpy as np\n",
    "import requests\n",
    "from PyPDF2 import PdfFileReader, PdfFileMerger, PdfFileWriter\n",
    "import PyPDF2\n",
    "from bs4 import BeautifulSoup\n",
    "import os\n",
    "import shutil\n",
    "from urllib.parse import urljoin\n",
    "from urllib.request import Request, urlopen\n",
    "from io import StringIO, BytesIO\n",
    "import cloudinary.uploader\n",
    "import json"
   ]
  },
  {
   "cell_type": "markdown",
   "metadata": {},
   "source": [
    "# Loading current banks list"
   ]
  },
  {
   "cell_type": "code",
   "execution_count": 2,
   "metadata": {
    "ExecuteTime": {
     "end_time": "2021-04-01T13:58:46.971750Z",
     "start_time": "2021-04-01T13:58:38.735584Z"
    }
   },
   "outputs": [],
   "source": [
    "url = 'https://bank-price-api.herokuapp.com/allbanks'\n",
    "r = requests.get(url)\n",
    "banks = r.json()"
   ]
  },
  {
   "cell_type": "code",
   "execution_count": 3,
   "metadata": {
    "ExecuteTime": {
     "end_time": "2021-04-01T13:58:47.008886Z",
     "start_time": "2021-04-01T13:58:46.975843Z"
    }
   },
   "outputs": [
    {
     "data": {
      "text/plain": [
       "{'abanca': {'pb_bank_id': '0170',\n",
       "  'pb_bank_pdf': 'https://clientebancario.bportugal.pt/sites/default/files/precario/0170_/0170_PRE.pdf',\n",
       "  'pdfs': ['https://www.abanca.pt/files/documents/precario-folheto-comissoes-823a7663.pdf',\n",
       "   'https://www.abanca.pt/files/documents/folheto-taxa-juro-precario-5890906f.pdf',\n",
       "   'https://www.abanca.pt/files/documents/precariodevaloresmobiliarios-23c714a2.pdf',\n",
       "   'https://www.abanca.pt/files/documents/glossario-6479e89f.pdf',\n",
       "   'https://www.abanca.pt/files/docs/leaflet-your-rights-payments-eu.pdf'],\n",
       "  'pricelist_url': 'https://www.abanca.pt/pt/precario/',\n",
       "  'url': 'https://www.abanca.pt'},\n",
       " 'bankinter': {'pb_bank_id': '0269',\n",
       "  'pb_bank_pdf': 'https://clientebancario.bportugal.pt/sites/default/files/precario/0269_/0269_PRE.pdf',\n",
       "  'pdfs': ['https://www.bankinter.pt/documents/20182/115991/Pre%C3%A7%C3%A1rio+Completo+TFSI++20210401.pdf/c489f0cd-3831-4441-812e-f351741d2b22',\n",
       "   'https://banco.bankinter.pt/particulares/pdfs/precario/folha_rosto.pdf',\n",
       "   'https://banco.bankinter.pt/particulares/pdfs/precario/informacao_geral.pdf',\n",
       "   'https://banco.bankinter.pt/particulares/pdfs/precario/informacao_complementar.pdf',\n",
       "   'https://banco.bankinter.pt/particulares/pdfs/precario/p_fcd_contas_deposito.pdf',\n",
       "   'https://banco.bankinter.pt/particulares/pdfs/precario/p_fcd_operacoes_credito.pdf',\n",
       "   'https://banco.bankinter.pt/particulares/pdfs/precario/p_fcd_cartoes_credito_debito.pdf',\n",
       "   'https://banco.bankinter.pt/particulares/pdfs/precario/p_fcd_cheques.pdf',\n",
       "   'https://banco.bankinter.pt/particulares/pdfs/precario/p_fcd_transferencias.pdf',\n",
       "   'https://banco.bankinter.pt/particulares/pdfs/precario/p_fcd_cobrancas.pdf',\n",
       "   'https://banco.bankinter.pt/particulares/pdfs/precario/p_fcd_prestacao_servicos.pdf',\n",
       "   'https://banco.bankinter.pt/particulares/pdfs/precario/o_fcd_contas_deposito.pdf',\n",
       "   'https://banco.bankinter.pt/particulares/pdfs/precario/o_fcd_operacoes_credito.pdf',\n",
       "   'https://banco.bankinter.pt/particulares/pdfs/precario/o_fcd_cartoes_credito_debito.pdf',\n",
       "   'https://banco.bankinter.pt/particulares/pdfs/precario/o_fcd_cheques.pdf',\n",
       "   'https://banco.bankinter.pt/particulares/pdfs/precario/o_fcd_transferencias.pdf',\n",
       "   'https://banco.bankinter.pt/particulares/pdfs/precario/o_fcd_cobrancas.pdf',\n",
       "   'https://banco.bankinter.pt/particulares/pdfs/precario/o_fcd_prestacao_servicos.pdf',\n",
       "   'https://banco.bankinter.pt/particulares/pdfs/precario/o_fcd_operacoes_estrangeiro.pdf',\n",
       "   'https://banco.bankinter.pt/particulares/pdfs/precario/p_ftj_contas_deposito.pdf',\n",
       "   'https://banco.bankinter.pt/particulares/pdfs/precario/p_ftj_operacoes_credito.pdf',\n",
       "   'https://banco.bankinter.pt/particulares/pdfs/precario/o_ftj_contas_deposito.pdf',\n",
       "   'https://banco.bankinter.pt/particulares/pdfs/precario/o_ftj_operacoes_credito.pdf',\n",
       "   'https://banco.bankinter.pt/particulares/pdfs/precario/ptfs_a.pdf',\n",
       "   'https://banco.bankinter.pt/particulares/pdfs/precario/ptfs_b.pdf',\n",
       "   'https://banco.bankinter.pt/particulares/pdfs/precario/ptfs_c.pdf',\n",
       "   'https://banco.bankinter.pt/particulares/pdfs/precario/ptfs_d.pdf'],\n",
       "  'pricelist_url': 'https://www.bankinter.pt/precario1',\n",
       "  'url': 'https://www.bankinter.pt'},\n",
       " 'bic': {'pb_bank_id': '0079',\n",
       "  'pb_bank_pdf': 'https://clientebancario.bportugal.pt/sites/default/files/precario/0079_/0079_PRE.pdf',\n",
       "  'pdfs': ['https://www.bancobic.ao/dotAsset/0f07d8a4-4ec3-4111-a453-c4ee14d5c66c.pdf',\n",
       "   'https://www.bancobic.ao/dotAsset/7e1e6dd2-9d56-43ef-b398-ac3bac3cc70e.pdf'],\n",
       "  'pricelist_url': 'https://www.bancobic.ao/inicio/precario',\n",
       "  'url': 'https://www.bancobic.ao'},\n",
       " 'ctt': {'pb_bank_id': '0193',\n",
       "  'pb_bank_pdf': 'https://clientebancario.bportugal.pt/sites/default/files/precario/0193_/0193_PRE.pdf',\n",
       "  'pdfs': ['https://www.bancoctt.pt/application/themes/pdfs/precario.pdf?language_id=1555597541833'],\n",
       "  'pricelist_url': 'https://www.bancoctt.pt/application/themes/pdfs/precario.pdf?language_id=1555597541833',\n",
       "  'url': 'https://www.bancoctt.pt'}}"
      ]
     },
     "execution_count": 3,
     "metadata": {},
     "output_type": "execute_result"
    }
   ],
   "source": [
    "banks"
   ]
  },
  {
   "cell_type": "markdown",
   "metadata": {},
   "source": [
    "# Trying different libraries"
   ]
  },
  {
   "cell_type": "markdown",
   "metadata": {},
   "source": [
    "## PDFX"
   ]
  },
  {
   "cell_type": "code",
   "execution_count": null,
   "metadata": {},
   "outputs": [],
   "source": []
  },
  {
   "cell_type": "code",
   "execution_count": 4,
   "metadata": {
    "ExecuteTime": {
     "end_time": "2021-04-01T13:58:49.849075Z",
     "start_time": "2021-04-01T13:58:47.015470Z"
    }
   },
   "outputs": [
    {
     "name": "stdout",
     "output_type": "stream",
     "text": [
      "<pdfx.PDFx object at 0x7f4dcc7cf430>\n"
     ]
    }
   ],
   "source": [
    "# import module\n",
    "import pdfx\n",
    "  \n",
    "# reading pdf file\n",
    "pdf = pdfx.PDFx(\"https://banco.bankinter.pt/particulares/pdfs/precario/ptfs_d.pdf\")\n",
    "  \n",
    "# display\n",
    "print(pdf)"
   ]
  },
  {
   "cell_type": "code",
   "execution_count": null,
   "metadata": {},
   "outputs": [],
   "source": []
  },
  {
   "cell_type": "markdown",
   "metadata": {
    "heading_collapsed": true
   },
   "source": [
    "## PDF Miner"
   ]
  },
  {
   "cell_type": "code",
   "execution_count": 5,
   "metadata": {
    "ExecuteTime": {
     "end_time": "2021-04-01T13:58:49.872753Z",
     "start_time": "2021-04-01T13:58:49.853038Z"
    },
    "hidden": true
   },
   "outputs": [],
   "source": [
    "from pdfminer.pdfinterp import PDFResourceManager, PDFPageInterpreter\n",
    "from pdfminer.converter import TextConverter\n",
    "from pdfminer.layout import LAParams\n",
    "from pdfminer.pdfpage import PDFPage\n",
    "from io import StringIO\n",
    "\n",
    "def convert_pdf_to_txt(path):\n",
    "    rsrcmgr = PDFResourceManager()\n",
    "    retstr = StringIO()\n",
    "    codec = 'utf-8'\n",
    "    laparams = LAParams()\n",
    "    device = TextConverter(rsrcmgr, retstr, codec=codec, laparams=laparams)\n",
    "    fp = open(path, 'rb')\n",
    "    interpreter = PDFPageInterpreter(rsrcmgr, device)\n",
    "    password = \"\"\n",
    "    maxpages = 0\n",
    "    caching = True\n",
    "    pagenos=set()\n",
    "\n",
    "    for page in PDFPage.get_pages(fp, pagenos, maxpages=maxpages, password=password,caching=caching, check_extractable=True):\n",
    "        interpreter.process_page(page)\n",
    "\n",
    "    text = retstr.getvalue()\n",
    "\n",
    "    fp.close()\n",
    "    device.close()\n",
    "    retstr.close()\n",
    "    return text"
   ]
  },
  {
   "cell_type": "code",
   "execution_count": 6,
   "metadata": {
    "ExecuteTime": {
     "end_time": "2021-04-01T13:58:49.898499Z",
     "start_time": "2021-04-01T13:58:49.876109Z"
    },
    "hidden": true
   },
   "outputs": [],
   "source": [
    "path = 'https://clientebancario.bportugal.pt/sites/default/files/precario/0193_/0193_PRE.pdf'"
   ]
  },
  {
   "cell_type": "code",
   "execution_count": 7,
   "metadata": {
    "ExecuteTime": {
     "end_time": "2021-04-01T13:58:52.014971Z",
     "start_time": "2021-04-01T13:58:49.908723Z"
    },
    "hidden": true
   },
   "outputs": [
    {
     "ename": "OSError",
     "evalue": "[Errno 36] File name too long: b'{\\n  \"abanca\": {\\n    \"pb_bank_id\": \"0170\", \\n    \"pb_bank_pdf\": \"https://clientebancario.bportugal.pt/sites/default/files/precario/0170_/0170_PRE.pdf\", \\n    \"pdfs\": [\\n      \"https://www.abanca.pt/files/documents/precario-folheto-comissoes-823a7663.pdf\", \\n      \"https://www.abanca.pt/files/documents/folheto-taxa-juro-precario-5890906f.pdf\", \\n      \"https://www.abanca.pt/files/documents/precariodevaloresmobiliarios-23c714a2.pdf\", \\n      \"https://www.abanca.pt/files/documents/glossario-6479e89f.pdf\", \\n      \"https://www.abanca.pt/files/docs/leaflet-your-rights-payments-eu.pdf\"\\n    ], \\n    \"pricelist_url\": \"https://www.abanca.pt/pt/precario/\", \\n    \"url\": \"https://www.abanca.pt\"\\n  }, \\n  \"bankinter\": {\\n    \"pb_bank_id\": \"0269\", \\n    \"pb_bank_pdf\": \"https://clientebancario.bportugal.pt/sites/default/files/precario/0269_/0269_PRE.pdf\", \\n    \"pdfs\": [\\n      \"https://www.bankinter.pt/documents/20182/115991/Pre%C3%A7%C3%A1rio+Completo+TFSI++20210401.pdf/c489f0cd-3831-4441-812e-f351741d2b22\", \\n      \"https://banco.bankinter.pt/particulares/pdfs/precario/folha_rosto.pdf\", \\n      \"https://banco.bankinter.pt/particulares/pdfs/precario/informacao_geral.pdf\", \\n      \"https://banco.bankinter.pt/particulares/pdfs/precario/informacao_complementar.pdf\", \\n      \"https://banco.bankinter.pt/particulares/pdfs/precario/p_fcd_contas_deposito.pdf\", \\n      \"https://banco.bankinter.pt/particulares/pdfs/precario/p_fcd_operacoes_credito.pdf\", \\n      \"https://banco.bankinter.pt/particulares/pdfs/precario/p_fcd_cartoes_credito_debito.pdf\", \\n      \"https://banco.bankinter.pt/particulares/pdfs/precario/p_fcd_cheques.pdf\", \\n      \"https://banco.bankinter.pt/particulares/pdfs/precario/p_fcd_transferencias.pdf\", \\n      \"https://banco.bankinter.pt/particulares/pdfs/precario/p_fcd_cobrancas.pdf\", \\n      \"https://banco.bankinter.pt/particulares/pdfs/precario/p_fcd_prestacao_servicos.pdf\", \\n      \"https://banco.bankinter.pt/particulares/pdfs/precario/o_fcd_contas_deposito.pdf\", \\n      \"https://banco.bankinter.pt/particulares/pdfs/precario/o_fcd_operacoes_credito.pdf\", \\n      \"https://banco.bankinter.pt/particulares/pdfs/precario/o_fcd_cartoes_credito_debito.pdf\", \\n      \"https://banco.bankinter.pt/particulares/pdfs/precario/o_fcd_cheques.pdf\", \\n      \"https://banco.bankinter.pt/particulares/pdfs/precario/o_fcd_transferencias.pdf\", \\n      \"https://banco.bankinter.pt/particulares/pdfs/precario/o_fcd_cobrancas.pdf\", \\n      \"https://banco.bankinter.pt/particulares/pdfs/precario/o_fcd_prestacao_servicos.pdf\", \\n      \"https://banco.bankinter.pt/particulares/pdfs/precario/o_fcd_operacoes_estrangeiro.pdf\", \\n      \"https://banco.bankinter.pt/particulares/pdfs/precario/p_ftj_contas_deposito.pdf\", \\n      \"https://banco.bankinter.pt/particulares/pdfs/precario/p_ftj_operacoes_credito.pdf\", \\n      \"https://banco.bankinter.pt/particulares/pdfs/precario/o_ftj_contas_deposito.pdf\", \\n      \"https://banco.bankinter.pt/particulares/pdfs/precario/o_ftj_operacoes_credito.pdf\", \\n      \"https://banco.bankinter.pt/particulares/pdfs/precario/ptfs_a.pdf\", \\n      \"https://banco.bankinter.pt/particulares/pdfs/precario/ptfs_b.pdf\", \\n      \"https://banco.bankinter.pt/particulares/pdfs/precario/ptfs_c.pdf\", \\n      \"https://banco.bankinter.pt/particulares/pdfs/precario/ptfs_d.pdf\"\\n    ], \\n    \"pricelist_url\": \"https://www.bankinter.pt/precario1\", \\n    \"url\": \"https://www.bankinter.pt\"\\n  }, \\n  \"bic\": {\\n    \"pb_bank_id\": \"0079\", \\n    \"pb_bank_pdf\": \"https://clientebancario.bportugal.pt/sites/default/files/precario/0079_/0079_PRE.pdf\", \\n    \"pdfs\": [\\n      \"https://www.bancobic.ao/dotAsset/0f07d8a4-4ec3-4111-a453-c4ee14d5c66c.pdf\", \\n      \"https://www.bancobic.ao/dotAsset/7e1e6dd2-9d56-43ef-b398-ac3bac3cc70e.pdf\"\\n    ], \\n    \"pricelist_url\": \"https://www.bancobic.ao/inicio/precario\", \\n    \"url\": \"https://www.bancobic.ao\"\\n  }, \\n  \"ctt\": {\\n    \"pb_bank_id\": \"0193\", \\n    \"pb_bank_pdf\": \"https://clientebancario.bportugal.pt/sites/default/files/precario/0193_/0193_PRE.pdf\", \\n    \"pdfs\": [\\n      \"https://www.bancoctt.pt/application/themes/pdfs/precario.pdf?language_id=1555597541833\"\\n    ], \\n    \"pricelist_url\": \"https://www.bancoctt.pt/application/themes/pdfs/precario.pdf?language_id=1555597541833\", \\n    \"url\": \"https://www.bancoctt.pt\"\\n  }\\n}\\n'",
     "output_type": "error",
     "traceback": [
      "\u001b[0;31m---------------------------------------------------------------------------\u001b[0m",
      "\u001b[0;31mOSError\u001b[0m                                   Traceback (most recent call last)",
      "\u001b[0;32m<ipython-input-7-826cbf4dacd7>\u001b[0m in \u001b[0;36m<module>\u001b[0;34m\u001b[0m\n\u001b[1;32m      3\u001b[0m \u001b[0;31m# pdfFile = PdfFileReader(memoryFile)\u001b[0m\u001b[0;34m\u001b[0m\u001b[0;34m\u001b[0m\u001b[0;34m\u001b[0m\u001b[0m\n\u001b[1;32m      4\u001b[0m \u001b[0;34m\u001b[0m\u001b[0m\n\u001b[0;32m----> 5\u001b[0;31m \u001b[0mconvert_pdf_to_txt\u001b[0m\u001b[0;34m(\u001b[0m\u001b[0mr\u001b[0m\u001b[0;34m.\u001b[0m\u001b[0mcontent\u001b[0m\u001b[0;34m)\u001b[0m\u001b[0;34m\u001b[0m\u001b[0;34m\u001b[0m\u001b[0m\n\u001b[0m",
      "\u001b[0;32m<ipython-input-5-1465da5f5fb4>\u001b[0m in \u001b[0;36mconvert_pdf_to_txt\u001b[0;34m(path)\u001b[0m\n\u001b[1;32m     11\u001b[0m     \u001b[0mlaparams\u001b[0m \u001b[0;34m=\u001b[0m \u001b[0mLAParams\u001b[0m\u001b[0;34m(\u001b[0m\u001b[0;34m)\u001b[0m\u001b[0;34m\u001b[0m\u001b[0;34m\u001b[0m\u001b[0m\n\u001b[1;32m     12\u001b[0m     \u001b[0mdevice\u001b[0m \u001b[0;34m=\u001b[0m \u001b[0mTextConverter\u001b[0m\u001b[0;34m(\u001b[0m\u001b[0mrsrcmgr\u001b[0m\u001b[0;34m,\u001b[0m \u001b[0mretstr\u001b[0m\u001b[0;34m,\u001b[0m \u001b[0mcodec\u001b[0m\u001b[0;34m=\u001b[0m\u001b[0mcodec\u001b[0m\u001b[0;34m,\u001b[0m \u001b[0mlaparams\u001b[0m\u001b[0;34m=\u001b[0m\u001b[0mlaparams\u001b[0m\u001b[0;34m)\u001b[0m\u001b[0;34m\u001b[0m\u001b[0;34m\u001b[0m\u001b[0m\n\u001b[0;32m---> 13\u001b[0;31m     \u001b[0mfp\u001b[0m \u001b[0;34m=\u001b[0m \u001b[0mopen\u001b[0m\u001b[0;34m(\u001b[0m\u001b[0mpath\u001b[0m\u001b[0;34m,\u001b[0m \u001b[0;34m'rb'\u001b[0m\u001b[0;34m)\u001b[0m\u001b[0;34m\u001b[0m\u001b[0;34m\u001b[0m\u001b[0m\n\u001b[0m\u001b[1;32m     14\u001b[0m     \u001b[0minterpreter\u001b[0m \u001b[0;34m=\u001b[0m \u001b[0mPDFPageInterpreter\u001b[0m\u001b[0;34m(\u001b[0m\u001b[0mrsrcmgr\u001b[0m\u001b[0;34m,\u001b[0m \u001b[0mdevice\u001b[0m\u001b[0;34m)\u001b[0m\u001b[0;34m\u001b[0m\u001b[0;34m\u001b[0m\u001b[0m\n\u001b[1;32m     15\u001b[0m     \u001b[0mpassword\u001b[0m \u001b[0;34m=\u001b[0m \u001b[0;34m\"\"\u001b[0m\u001b[0;34m\u001b[0m\u001b[0;34m\u001b[0m\u001b[0m\n",
      "\u001b[0;31mOSError\u001b[0m: [Errno 36] File name too long: b'{\\n  \"abanca\": {\\n    \"pb_bank_id\": \"0170\", \\n    \"pb_bank_pdf\": \"https://clientebancario.bportugal.pt/sites/default/files/precario/0170_/0170_PRE.pdf\", \\n    \"pdfs\": [\\n      \"https://www.abanca.pt/files/documents/precario-folheto-comissoes-823a7663.pdf\", \\n      \"https://www.abanca.pt/files/documents/folheto-taxa-juro-precario-5890906f.pdf\", \\n      \"https://www.abanca.pt/files/documents/precariodevaloresmobiliarios-23c714a2.pdf\", \\n      \"https://www.abanca.pt/files/documents/glossario-6479e89f.pdf\", \\n      \"https://www.abanca.pt/files/docs/leaflet-your-rights-payments-eu.pdf\"\\n    ], \\n    \"pricelist_url\": \"https://www.abanca.pt/pt/precario/\", \\n    \"url\": \"https://www.abanca.pt\"\\n  }, \\n  \"bankinter\": {\\n    \"pb_bank_id\": \"0269\", \\n    \"pb_bank_pdf\": \"https://clientebancario.bportugal.pt/sites/default/files/precario/0269_/0269_PRE.pdf\", \\n    \"pdfs\": [\\n      \"https://www.bankinter.pt/documents/20182/115991/Pre%C3%A7%C3%A1rio+Completo+TFSI++20210401.pdf/c489f0cd-3831-4441-812e-f351741d2b22\", \\n      \"https://banco.bankinter.pt/particulares/pdfs/precario/folha_rosto.pdf\", \\n      \"https://banco.bankinter.pt/particulares/pdfs/precario/informacao_geral.pdf\", \\n      \"https://banco.bankinter.pt/particulares/pdfs/precario/informacao_complementar.pdf\", \\n      \"https://banco.bankinter.pt/particulares/pdfs/precario/p_fcd_contas_deposito.pdf\", \\n      \"https://banco.bankinter.pt/particulares/pdfs/precario/p_fcd_operacoes_credito.pdf\", \\n      \"https://banco.bankinter.pt/particulares/pdfs/precario/p_fcd_cartoes_credito_debito.pdf\", \\n      \"https://banco.bankinter.pt/particulares/pdfs/precario/p_fcd_cheques.pdf\", \\n      \"https://banco.bankinter.pt/particulares/pdfs/precario/p_fcd_transferencias.pdf\", \\n      \"https://banco.bankinter.pt/particulares/pdfs/precario/p_fcd_cobrancas.pdf\", \\n      \"https://banco.bankinter.pt/particulares/pdfs/precario/p_fcd_prestacao_servicos.pdf\", \\n      \"https://banco.bankinter.pt/particulares/pdfs/precario/o_fcd_contas_deposito.pdf\", \\n      \"https://banco.bankinter.pt/particulares/pdfs/precario/o_fcd_operacoes_credito.pdf\", \\n      \"https://banco.bankinter.pt/particulares/pdfs/precario/o_fcd_cartoes_credito_debito.pdf\", \\n      \"https://banco.bankinter.pt/particulares/pdfs/precario/o_fcd_cheques.pdf\", \\n      \"https://banco.bankinter.pt/particulares/pdfs/precario/o_fcd_transferencias.pdf\", \\n      \"https://banco.bankinter.pt/particulares/pdfs/precario/o_fcd_cobrancas.pdf\", \\n      \"https://banco.bankinter.pt/particulares/pdfs/precario/o_fcd_prestacao_servicos.pdf\", \\n      \"https://banco.bankinter.pt/particulares/pdfs/precario/o_fcd_operacoes_estrangeiro.pdf\", \\n      \"https://banco.bankinter.pt/particulares/pdfs/precario/p_ftj_contas_deposito.pdf\", \\n      \"https://banco.bankinter.pt/particulares/pdfs/precario/p_ftj_operacoes_credito.pdf\", \\n      \"https://banco.bankinter.pt/particulares/pdfs/precario/o_ftj_contas_deposito.pdf\", \\n      \"https://banco.bankinter.pt/particulares/pdfs/precario/o_ftj_operacoes_credito.pdf\", \\n      \"https://banco.bankinter.pt/particulares/pdfs/precario/ptfs_a.pdf\", \\n      \"https://banco.bankinter.pt/particulares/pdfs/precario/ptfs_b.pdf\", \\n      \"https://banco.bankinter.pt/particulares/pdfs/precario/ptfs_c.pdf\", \\n      \"https://banco.bankinter.pt/particulares/pdfs/precario/ptfs_d.pdf\"\\n    ], \\n    \"pricelist_url\": \"https://www.bankinter.pt/precario1\", \\n    \"url\": \"https://www.bankinter.pt\"\\n  }, \\n  \"bic\": {\\n    \"pb_bank_id\": \"0079\", \\n    \"pb_bank_pdf\": \"https://clientebancario.bportugal.pt/sites/default/files/precario/0079_/0079_PRE.pdf\", \\n    \"pdfs\": [\\n      \"https://www.bancobic.ao/dotAsset/0f07d8a4-4ec3-4111-a453-c4ee14d5c66c.pdf\", \\n      \"https://www.bancobic.ao/dotAsset/7e1e6dd2-9d56-43ef-b398-ac3bac3cc70e.pdf\"\\n    ], \\n    \"pricelist_url\": \"https://www.bancobic.ao/inicio/precario\", \\n    \"url\": \"https://www.bancobic.ao\"\\n  }, \\n  \"ctt\": {\\n    \"pb_bank_id\": \"0193\", \\n    \"pb_bank_pdf\": \"https://clientebancario.bportugal.pt/sites/default/files/precario/0193_/0193_PRE.pdf\", \\n    \"pdfs\": [\\n      \"https://www.bancoctt.pt/application/themes/pdfs/precario.pdf?language_id=1555597541833\"\\n    ], \\n    \"pricelist_url\": \"https://www.bancoctt.pt/application/themes/pdfs/precario.pdf?language_id=1555597541833\", \\n    \"url\": \"https://www.bancoctt.pt\"\\n  }\\n}\\n'"
     ]
    }
   ],
   "source": [
    "remoteFile = urlopen(Request(path)).read()\n",
    "memoryFile = BytesIO(remoteFile)\n",
    "# pdfFile = PdfFileReader(memoryFile)\n",
    "\n",
    "convert_pdf_to_txt(r.content)"
   ]
  },
  {
   "cell_type": "markdown",
   "metadata": {},
   "source": [
    "## PyPDF2"
   ]
  },
  {
   "cell_type": "code",
   "execution_count": null,
   "metadata": {},
   "outputs": [],
   "source": []
  },
  {
   "cell_type": "code",
   "execution_count": 8,
   "metadata": {
    "ExecuteTime": {
     "end_time": "2021-04-01T13:59:04.122062Z",
     "start_time": "2021-04-01T13:59:02.593015Z"
    }
   },
   "outputs": [],
   "source": [
    "## fpr remote files\n",
    "remoteFile = urlopen(Request(path)).read()\n",
    "memoryFile = BytesIO(remoteFile)\n",
    "pdfFile = PdfFileReader(memoryFile)\n",
    "writer = PdfFileWriter()"
   ]
  },
  {
   "cell_type": "code",
   "execution_count": null,
   "metadata": {},
   "outputs": [],
   "source": [
    "url = 'https://banco.bankinter.pt/particulares/pdfs/precario/ptfs_d.pdf'"
   ]
  },
  {
   "cell_type": "code",
   "execution_count": 37,
   "metadata": {
    "ExecuteTime": {
     "end_time": "2021-04-01T14:15:12.388784Z",
     "start_time": "2021-04-01T14:15:12.384113Z"
    }
   },
   "outputs": [],
   "source": [
    "path = 'bic_all_prices.pdf'"
   ]
  },
  {
   "cell_type": "code",
   "execution_count": 48,
   "metadata": {
    "ExecuteTime": {
     "end_time": "2021-04-01T14:54:05.553374Z",
     "start_time": "2021-04-01T14:54:05.518550Z"
    }
   },
   "outputs": [],
   "source": [
    "pdf = PdfFileReader(path)"
   ]
  },
  {
   "cell_type": "code",
   "execution_count": 50,
   "metadata": {
    "ExecuteTime": {
     "end_time": "2021-04-01T14:54:19.271810Z",
     "start_time": "2021-04-01T14:54:19.249240Z"
    }
   },
   "outputs": [
    {
     "ename": "AttributeError",
     "evalue": "'PdfFileReader' object has no attribute 'content'",
     "output_type": "error",
     "traceback": [
      "\u001b[0;31m---------------------------------------------------------------------------\u001b[0m",
      "\u001b[0;31mAttributeError\u001b[0m                            Traceback (most recent call last)",
      "\u001b[0;32m<ipython-input-50-260267d920e3>\u001b[0m in \u001b[0;36m<module>\u001b[0;34m\u001b[0m\n\u001b[0;32m----> 1\u001b[0;31m \u001b[0mpdf\u001b[0m\u001b[0;34m.\u001b[0m\u001b[0mcontent\u001b[0m\u001b[0;34m\u001b[0m\u001b[0;34m\u001b[0m\u001b[0m\n\u001b[0m",
      "\u001b[0;31mAttributeError\u001b[0m: 'PdfFileReader' object has no attribute 'content'"
     ]
    }
   ],
   "source": [
    "pdf.content"
   ]
  },
  {
   "cell_type": "code",
   "execution_count": null,
   "metadata": {},
   "outputs": [],
   "source": []
  },
  {
   "cell_type": "code",
   "execution_count": null,
   "metadata": {},
   "outputs": [],
   "source": []
  },
  {
   "cell_type": "code",
   "execution_count": 43,
   "metadata": {
    "ExecuteTime": {
     "end_time": "2021-04-01T14:43:14.289698Z",
     "start_time": "2021-04-01T14:43:14.282513Z"
    }
   },
   "outputs": [],
   "source": [
    "def get_rel_page(path, search):    \n",
    "    p = open(path, \"rb\")\n",
    "    pdf = PdfFileReader(p)\n",
    "    page_nums = []\n",
    "    for page in pdf.pages:\n",
    "        if search in page.extractText():\n",
    "            page_nums.append(pdf.getPageNumber(page))\n",
    "    return page_nums\n"
   ]
  },
  {
   "cell_type": "code",
   "execution_count": 45,
   "metadata": {
    "ExecuteTime": {
     "end_time": "2021-04-01T14:43:38.938786Z",
     "start_time": "2021-04-01T14:43:30.891546Z"
    }
   },
   "outputs": [
    {
     "data": {
      "text/plain": [
       "[0,\n",
       " 1,\n",
       " 2,\n",
       " 3,\n",
       " 4,\n",
       " 5,\n",
       " 6,\n",
       " 7,\n",
       " 8,\n",
       " 9,\n",
       " 10,\n",
       " 11,\n",
       " 12,\n",
       " 13,\n",
       " 14,\n",
       " 15,\n",
       " 16,\n",
       " 17,\n",
       " 18,\n",
       " 19,\n",
       " 20,\n",
       " 21,\n",
       " 22,\n",
       " 23,\n",
       " 24,\n",
       " 25,\n",
       " 26,\n",
       " 27,\n",
       " 28,\n",
       " 29,\n",
       " 30,\n",
       " 31,\n",
       " 32,\n",
       " 33,\n",
       " 34,\n",
       " 35,\n",
       " 36,\n",
       " 37,\n",
       " 38,\n",
       " 39,\n",
       " 40,\n",
       " 41,\n",
       " 42,\n",
       " 43,\n",
       " 44,\n",
       " 45,\n",
       " 46,\n",
       " 47,\n",
       " 48,\n",
       " 49,\n",
       " 50,\n",
       " 51,\n",
       " 52,\n",
       " 53,\n",
       " 54,\n",
       " 55,\n",
       " 56,\n",
       " 57,\n",
       " 58,\n",
       " 59,\n",
       " 60,\n",
       " 61,\n",
       " 62,\n",
       " 63,\n",
       " 64,\n",
       " 65,\n",
       " 66,\n",
       " 67,\n",
       " 68,\n",
       " 69,\n",
       " 70,\n",
       " 71,\n",
       " 72,\n",
       " 73,\n",
       " 74,\n",
       " 75,\n",
       " 76,\n",
       " 77]"
      ]
     },
     "execution_count": 45,
     "metadata": {},
     "output_type": "execute_result"
    }
   ],
   "source": [
    "regex = r' '\n",
    "get_rel_page(path, regex)"
   ]
  },
  {
   "cell_type": "code",
   "execution_count": null,
   "metadata": {},
   "outputs": [],
   "source": []
  },
  {
   "cell_type": "code",
   "execution_count": null,
   "metadata": {},
   "outputs": [],
   "source": []
  }
 ],
 "metadata": {
  "kernelspec": {
   "display_name": "Python 3",
   "language": "python",
   "name": "python3"
  },
  "language_info": {
   "codemirror_mode": {
    "name": "ipython",
    "version": 3
   },
   "file_extension": ".py",
   "mimetype": "text/x-python",
   "name": "python",
   "nbconvert_exporter": "python",
   "pygments_lexer": "ipython3",
   "version": "3.8.6"
  },
  "toc": {
   "base_numbering": 1,
   "nav_menu": {},
   "number_sections": true,
   "sideBar": true,
   "skip_h1_title": false,
   "title_cell": "Table of Contents",
   "title_sidebar": "Contents",
   "toc_cell": false,
   "toc_position": {},
   "toc_section_display": true,
   "toc_window_display": false
  }
 },
 "nbformat": 4,
 "nbformat_minor": 4
}
