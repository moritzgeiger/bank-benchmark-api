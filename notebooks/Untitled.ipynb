{
 "cells": [
  {
   "cell_type": "code",
   "execution_count": 6,
   "metadata": {},
   "outputs": [
    {
     "name": "stdout",
     "output_type": "stream",
     "text": [
      "The autoreload extension is already loaded. To reload it, use:\n",
      "  %reload_ext autoreload\n"
     ]
    }
   ],
   "source": [
    "%load_ext autoreload\n",
    "%autoreload 2 \n",
    "import pandas as pd\n",
    "import numpy as np\n",
    "import pdfplumber\n",
    "import re\n",
    "import nltk\n",
    "from urllib.parse import urljoin, quote_plus, quote, urlencode\n",
    "from urllib.request import Request, urlopen\n",
    "from io import StringIO, BytesIO\n",
    "from housecredit import HouseCredit\n",
    "from try_scrape_demand import DemandDeposit"
   ]
  },
  {
   "cell_type": "code",
   "execution_count": 7,
   "metadata": {},
   "outputs": [],
   "source": [
    "abanca={1:{'link':'https://www.abanca.pt', 'page':[]}, \n",
    "        2:{'link':'https://clientebancario.bportugal.pt/sites/default/files/precario/0170_/0170_PRE.pdf', 'page':[6,7,8]},\n",
    "        3:{'link':'https://storage.googleapis.com/bank_price_pdfs/1_all_products_210412130040.pdf', 'page':[6]}}\n",
    "bankinter={1:{'link':'https://www.bankinter.pt', 'page':[]},\n",
    "           2:{'link':'https://clientebancario.bportugal.pt/sites/default/files/precario/0269_/0269_PRE.pdf', 'page':[8,9,10,11,12,13,14,15,16,17]},\n",
    "           3:{'link': 'https://storage.googleapis.com/bank_price_pdfs/2_all_products_210412130350.pdf', 'page':[], 'notes':'image file'}}\n",
    "bic={1:{'link':'https://www.bancobic.ao' ,'page':[]},\n",
    "     2:{'link':'https://clientebancario.bportugal.pt/sites/default/files/precario/0079_/0079_PRE_0.pdf', 'page':[7,8,9,10,12,13]},\n",
    "     3:{'link':'https://storage.googleapis.com/bank_price_pdfs/3_all_products_210412130840.pdf', 'page':[], 'notes':'wrong file'}}\n",
    "bai={1:{'link':'https://www.bancobai.ao', 'page':[]},\n",
    "     2:{'link':'https://clientebancario.bportugal.pt/sites/default/files/precario/0008_/0008_PRE.pdf', 'page':[], 'notes':'No housing credit products'},\n",
    "     3:{'link':'https://storage.googleapis.com/bank_price_pdfs/4_all_products_210412130952.pdf', 'page':[], 'notes':'No housing credit products'}}\n",
    "ctt={1:{'link':'https://www.bancoctt.pt/', 'page':[]},\n",
    "     2:{'link':'https://clientebancario.bportugal.pt/sites/default/files/precario/0193_/0193_PRE.pdf', 'page':[6]},\n",
    "     3:{'link':'https://storage.googleapis.com/bank_price_pdfs/5_all_products_210412131014.pdf', 'page':[6]}}"
   ]
  },
  {
   "cell_type": "code",
   "execution_count": 13,
   "metadata": {},
   "outputs": [
    {
     "name": "stdout",
     "output_type": "stream",
     "text": [
      "opening url: https://clientebancario.bportugal.pt/sites/default/files/precario/0170_/0170_PRE.pdf...\n",
      "extract pdf content to text...\n",
      "\n",
      "tokenize text...\n"
     ]
    }
   ],
   "source": [
    "association_abanca =HouseCredit('https://clientebancario.bportugal.pt/sites/default/files/precario/0170_/0170_PRE.pdf',[6,7,8], '0170').association()"
   ]
  },
  {
   "cell_type": "code",
   "execution_count": 15,
   "metadata": {},
   "outputs": [
    {
     "data": {
      "text/plain": [
       "dict"
      ]
     },
     "execution_count": 15,
     "metadata": {},
     "output_type": "execute_result"
    }
   ],
   "source": [
    "type(association_abanca)"
   ]
  },
  {
   "cell_type": "code",
   "execution_count": 16,
   "metadata": {},
   "outputs": [
    {
     "name": "stdout",
     "output_type": "stream",
     "text": [
      "output was called\n",
      "opening url: https://clientebancario.bportugal.pt/sites/default/files/precario/0170_/0170_PRE.pdf...\n",
      "extract pdf content to text...\n",
      "\n",
      "tokenize text...\n",
      "parse product: OPERAÇÕES DE CRÉDITO (PARTICULARES)                                                                                 ÍNDICE  2.1 Crédito à habitação e outros créditos hipotecários    Comissões  Acresce    Valor  Outras condições  Em %  Euros (Mín/Máx)  Imposto  anual  Produto: Crédito Habitação Regime Geral e Regime Deficientes., fee {'1.  Reanálise': '250,00', '2.  Comissão de formalização': '500,00', '3.  Avaliação ': {'.1  Imóvel residencial ': '275,00', '.2  Garagens e arrecadações não anexas ao imóvel residencial': '130,00'}, '4.  Comissões associadas a atos administrativos ': {'.1  Não realização da escritura ': '10,00', '.2  Alteração do local da escritura': '50,00'}, '5.  Comissão de reembolso antecipado parcial ': {'.1  Taxa fixa ': '0'}, '6.  Comissão de recuperação de valores em dívida  ': {'.1  Prestação até 50.000 € ': '12,00', '.2  Prestação > 50.000 €': '150,00'}, '7.  Comissões  associadas  a  atos administrativos  ': {'.1  Declarações de dívida ': '50,00', '.2  Mudança de regime de crédito': '0,00'}, '8.  Vistorias (andamento de obras) Só se aplica se a finalidade for para construção ou realização de obras.': '210,00', '9.  Comissão de reembolso antecipado total ': {'.1  Taxa fixa ': '0'}, '10. Emissão  de  extratos  de  conta  de empréstimos liquidados': '100,00', '11. Comissões  associadas  a  atos administrativos ': {'1.1 Declarações de dívida': '50,00'}, '12. Comissão de deslocação ': {'2.1  Até 100 Kms ': '175,00', '2.2  101 a 250 Kms ': '350,00', '2.3  > 250 Kms': '500,00'}}\n",
      "parse product: Caracterização do produto: Crédito à habitação com garantia hipotecária destinado à aquisição, construção e realização de obras em  habitação própria e permanente, secundária ou para arrendamento (no Regime Deficientes só habitação própria e permanente) ou à  aquisição ou manutenção de direitos de propriedade sobre terrenos ou edifícios já existentes ou projetados., fee {'1.  Reanálise': '250,00', '2.  Comissão de formalização': '500,00', '3.  Avaliação ': {'.1  Imóvel residencial ': '275,00', '.2  Garagens e arrecadações não anexas ao imóvel residencial': '130,00'}, '4.  Comissões associadas a atos administrativos ': {'.1  Não realização da escritura ': '10,00', '.2  Alteração do local da escritura': '50,00'}, '5.  Comissão de reembolso antecipado parcial ': {'.1  Taxa fixa ': '0'}, '6.  Comissão de recuperação de valores em dívida  ': {'.1  Prestação até 50.000 € ': '12,00', '.2  Prestação > 50.000 €': '150,00'}, '7.  Comissões  associadas  a  atos administrativos  ': {'.1  Declarações de dívida ': '50,00', '.2  Mudança de regime de crédito': '0,00'}, '8.  Vistorias (andamento de obras) Só se aplica se a finalidade for para construção ou realização de obras.': '210,00', '9.  Comissão de reembolso antecipado total ': {'.1  Taxa fixa ': '0'}, '10. Emissão  de  extratos  de  conta  de empréstimos liquidados': '100,00', '11. Comissões  associadas  a  atos administrativos ': {'1.1 Declarações de dívida': '50,00'}, '12. Comissão de deslocação ': {'2.1  Até 100 Kms ': '175,00', '2.2  101 a 250 Kms ': '350,00', '2.3  > 250 Kms': '500,00'}}\n",
      "parse product: OPERAÇÕES DE CRÉDITO (PARTICULARES)                                                                                      ÍNDICE  2.1 Crédito à habitação e outros créditos  Comissões  hipotecários (cont.), fee {'1.  Reanálise': '250,00', '2.  Comissão de formalização': '500,00', '3.  Avaliação ': {'.1  Imóvel residencial ': '275,00', '.2  Garagens e arrecadações não anexas ao imóvel residencial': '130,00'}, '4.  Comissões associadas a atos administrativos ': {'.1  Não realização da escritura ': '10,00', '.2  Alteração do local da escritura': '50,00'}, '5.  Comissão de reembolso antecipado parcial ': {'.1  Taxa fixa ': '0'}, '6.  Comissão de recuperação de valores em dívida  ': {'.1  Prestação até 50.000 € ': '12,00', '.2  Prestação > 50.000 €': '150,00'}, '7.  Comissões  associadas  a  atos administrativos  ': {'.1  Declarações de dívida ': '50,00', '.2  Mudança de regime de crédito': '0,00'}, '8.  Vistorias (andamento de obras) Só se aplica se a finalidade for para construção ou realização de obras.': '210,00', '9.  Comissão de reembolso antecipado total ': {'.1  Taxa fixa ': '0'}, '10. Emissão  de  extratos  de  conta  de empréstimos liquidados': '100,00', '11. Comissões  associadas  a  atos administrativos ': {'1.1 Declarações de dívida': '50,00'}, '12. Comissão de deslocação ': {'2.1  Até 100 Kms ': '175,00', '2.2  101 a 250 Kms ': '350,00', '2.3  > 250 Kms': '500,00'}}\n",
      "parse product: Acresce  Outras condições    Euros  Valor  Imposto  Em %  (Mín/Máx)  anual  Produto: Crédito Multiopções   Caracterização do produto: Crédito hipotecário cuja finalidade não seja enquadrável no crédito habitação ou em que não esteja definido o  fim a que se destina a quantia mutuada., fee {'1.  Reanálise': '250,00', '2.  Comissão de formalização': '500,00', '3.  Avaliação ': {'.1  Imóvel residencial ': '275,00', '.2  Garagens e arrecadações não anexas ao imóvel residencial': '130,00'}, '4.  Comissões associadas a atos administrativos ': {'.1  Não realização da escritura ': '10,00', '.2  Alteração do local da escritura': '50,00'}, '5.  Comissão de reembolso antecipado parcial ': {'.1  Taxa fixa ': '0'}, '6.  Comissão de recuperação de valores em dívida  ': {'.1  Prestação até 50.000 € ': '12,00', '.2  Prestação > 50.000 €': '150,00'}, '7.  Comissões  associadas  a  atos administrativos  ': {'.1  Declarações de dívida ': '50,00', '.2  Mudança de regime de crédito': '0,00'}, '8.  Vistorias (andamento de obras) Só se aplica se a finalidade for para construção ou realização de obras.': '210,00', '9.  Comissão de reembolso antecipado total ': {'.1  Taxa fixa ': '0'}, '10. Emissão  de  extratos  de  conta  de empréstimos liquidados': '100,00', '11. Comissões  associadas  a  atos administrativos ': {'1.1 Declarações de dívida': '50,00'}, '12. Comissão de deslocação ': {'2.1  Até 100 Kms ': '175,00', '2.2  101 a 250 Kms ': '350,00', '2.3  > 250 Kms': '500,00'}}\n",
      "parse product: OPERAÇÕES DE CRÉDITO (PARTICULARES)                                                                                      ÍNDICE  2.1 Crédito à habitação e outros créditos  Acresce  Comissões  Outras condições  hipotecários (cont.), fee {'1.  Reanálise': '250,00', '2.  Comissão de formalização': '500,00', '3.  Avaliação ': {'.1  Imóvel residencial ': '275,00', '.2  Garagens e arrecadações não anexas ao imóvel residencial': '130,00'}, '4.  Comissões associadas a atos administrativos ': {'.1  Não realização da escritura ': '10,00', '.2  Alteração do local da escritura': '50,00'}, '5.  Comissão de reembolso antecipado parcial ': {'.1  Taxa fixa ': '0'}, '6.  Comissão de recuperação de valores em dívida  ': {'.1  Prestação até 50.000 € ': '12,00', '.2  Prestação > 50.000 €': '150,00'}, '7.  Comissões  associadas  a  atos administrativos  ': {'.1  Declarações de dívida ': '50,00', '.2  Mudança de regime de crédito': '0,00'}, '8.  Vistorias (andamento de obras) Só se aplica se a finalidade for para construção ou realização de obras.': '210,00', '9.  Comissão de reembolso antecipado total ': {'.1  Taxa fixa ': '0'}, '10. Emissão  de  extratos  de  conta  de empréstimos liquidados': '100,00', '11. Comissões  associadas  a  atos administrativos ': {'1.1 Declarações de dívida': '50,00'}, '12. Comissão de deslocação ': {'2.1  Até 100 Kms ': '175,00', '2.2  101 a 250 Kms ': '350,00', '2.3  > 250 Kms': '500,00'}}\n",
      "parse product: Imposto  Produto: Leasing Habitação (fora de comercialização)  Caracterização do produto: Locação financeira imobiliária  Os seguros obrigatórios são os mesmos do Crédito à Habitação (não aplicáveis a pessoas coletivas), assumindo que não houve renúncia  à isenção de IVA  Comissões durante a vigência do contrato  1., fee {'1.  Reanálise': '250,00', '2.  Comissão de formalização': '500,00', '3.  Avaliação ': {'.1  Imóvel residencial ': '275,00', '.2  Garagens e arrecadações não anexas ao imóvel residencial': '130,00'}, '4.  Comissões associadas a atos administrativos ': {'.1  Não realização da escritura ': '10,00', '.2  Alteração do local da escritura': '50,00'}, '5.  Comissão de reembolso antecipado parcial ': {'.1  Taxa fixa ': '0'}, '6.  Comissão de recuperação de valores em dívida  ': {'.1  Prestação até 50.000 € ': '12,00', '.2  Prestação > 50.000 €': '150,00'}, '7.  Comissões  associadas  a  atos administrativos  ': {'.1  Declarações de dívida ': '50,00', '.2  Mudança de regime de crédito': '0,00'}, '8.  Vistorias (andamento de obras) Só se aplica se a finalidade for para construção ou realização de obras.': '210,00', '9.  Comissão de reembolso antecipado total ': {'.1  Taxa fixa ': '0'}, '10. Emissão  de  extratos  de  conta  de empréstimos liquidados': '100,00', '11. Comissões  associadas  a  atos administrativos ': {'1.1 Declarações de dívida': '50,00'}, '12. Comissão de deslocação ': {'2.1  Até 100 Kms ': '175,00', '2.2  101 a 250 Kms ': '350,00', '2.3  > 250 Kms': '500,00'}}\n",
      "parse product: OPERAÇÕES DE CRÉDITO (PARTICULARES)                                                                                 ÍNDICE  2.1 Crédito à habitação e outros créditos hipotecários    Comissões  Acresce    Valor  Outras condições  Em %  Euros (Mín/Máx)  Imposto  anual  Produto: Crédito Habitação Regime Geral e Regime Deficientes., fee {'Produto: Crédito Multiopções': '0', 'Caracterização do produto: Crédito hipotecário cuja finalidade não seja enquadrável no crédito habitação ou em que não esteja definido o': '0', 'fim a que se destina a quantia mutuada.': '0', 'Comissões iniciais': '0', '1.  Comissão de formalização': '500,00', '2.  Reanálise': '250,00', '3.  Avaliação ': {'.1 Imóvel Residencial ': '0'}, '4.  Comissões associadas a atos administrativos ': {'   4.1 Não realização da escritura ': '0'}, 'Comissões durante a vigência do contrato': '0', '5.    Comissão de reembolso antecipado parcial ': {'.1 Taxa Fixa ': '0'}, '6.  Comissão de recuperação de valores em dívida  ': {'.1  Prestação até 50.000 € ': '0'}, 'Comissões no termo do contrato': '0', '9.  Comissão de reembolso antecipado total ': {'.1 Taxa Fixa ': '0'}, 'Outras despesas associadas': '0'}\n",
      "parse product: Caracterização do produto: Crédito à habitação com garantia hipotecária destinado à aquisição, construção e realização de obras em  habitação própria e permanente, secundária ou para arrendamento (no Regime Deficientes só habitação própria e permanente) ou à  aquisição ou manutenção de direitos de propriedade sobre terrenos ou edifícios já existentes ou projetados., fee {'Produto: Crédito Multiopções': '0', 'Caracterização do produto: Crédito hipotecário cuja finalidade não seja enquadrável no crédito habitação ou em que não esteja definido o': '0', 'fim a que se destina a quantia mutuada.': '0', 'Comissões iniciais': '0', '1.  Comissão de formalização': '500,00', '2.  Reanálise': '250,00', '3.  Avaliação ': {'.1 Imóvel Residencial ': '0'}, '4.  Comissões associadas a atos administrativos ': {'   4.1 Não realização da escritura ': '0'}, 'Comissões durante a vigência do contrato': '0', '5.    Comissão de reembolso antecipado parcial ': {'.1 Taxa Fixa ': '0'}, '6.  Comissão de recuperação de valores em dívida  ': {'.1  Prestação até 50.000 € ': '0'}, 'Comissões no termo do contrato': '0', '9.  Comissão de reembolso antecipado total ': {'.1 Taxa Fixa ': '0'}, 'Outras despesas associadas': '0'}\n",
      "parse product: OPERAÇÕES DE CRÉDITO (PARTICULARES)                                                                                      ÍNDICE  2.1 Crédito à habitação e outros créditos  Comissões  hipotecários (cont.), fee {'Produto: Crédito Multiopções': '0', 'Caracterização do produto: Crédito hipotecário cuja finalidade não seja enquadrável no crédito habitação ou em que não esteja definido o': '0', 'fim a que se destina a quantia mutuada.': '0', 'Comissões iniciais': '0', '1.  Comissão de formalização': '500,00', '2.  Reanálise': '250,00', '3.  Avaliação ': {'.1 Imóvel Residencial ': '0'}, '4.  Comissões associadas a atos administrativos ': {'   4.1 Não realização da escritura ': '0'}, 'Comissões durante a vigência do contrato': '0', '5.    Comissão de reembolso antecipado parcial ': {'.1 Taxa Fixa ': '0'}, '6.  Comissão de recuperação de valores em dívida  ': {'.1  Prestação até 50.000 € ': '0'}, 'Comissões no termo do contrato': '0', '9.  Comissão de reembolso antecipado total ': {'.1 Taxa Fixa ': '0'}, 'Outras despesas associadas': '0'}\n",
      "parse product: Acresce  Outras condições    Euros  Valor  Imposto  Em %  (Mín/Máx)  anual  Produto: Crédito Multiopções   Caracterização do produto: Crédito hipotecário cuja finalidade não seja enquadrável no crédito habitação ou em que não esteja definido o  fim a que se destina a quantia mutuada., fee {'Produto: Crédito Multiopções': '0', 'Caracterização do produto: Crédito hipotecário cuja finalidade não seja enquadrável no crédito habitação ou em que não esteja definido o': '0', 'fim a que se destina a quantia mutuada.': '0', 'Comissões iniciais': '0', '1.  Comissão de formalização': '500,00', '2.  Reanálise': '250,00', '3.  Avaliação ': {'.1 Imóvel Residencial ': '0'}, '4.  Comissões associadas a atos administrativos ': {'   4.1 Não realização da escritura ': '0'}, 'Comissões durante a vigência do contrato': '0', '5.    Comissão de reembolso antecipado parcial ': {'.1 Taxa Fixa ': '0'}, '6.  Comissão de recuperação de valores em dívida  ': {'.1  Prestação até 50.000 € ': '0'}, 'Comissões no termo do contrato': '0', '9.  Comissão de reembolso antecipado total ': {'.1 Taxa Fixa ': '0'}, 'Outras despesas associadas': '0'}\n",
      "parse product: OPERAÇÕES DE CRÉDITO (PARTICULARES)                                                                                      ÍNDICE  2.1 Crédito à habitação e outros créditos  Acresce  Comissões  Outras condições  hipotecários (cont.), fee {'Produto: Crédito Multiopções': '0', 'Caracterização do produto: Crédito hipotecário cuja finalidade não seja enquadrável no crédito habitação ou em que não esteja definido o': '0', 'fim a que se destina a quantia mutuada.': '0', 'Comissões iniciais': '0', '1.  Comissão de formalização': '500,00', '2.  Reanálise': '250,00', '3.  Avaliação ': {'.1 Imóvel Residencial ': '0'}, '4.  Comissões associadas a atos administrativos ': {'   4.1 Não realização da escritura ': '0'}, 'Comissões durante a vigência do contrato': '0', '5.    Comissão de reembolso antecipado parcial ': {'.1 Taxa Fixa ': '0'}, '6.  Comissão de recuperação de valores em dívida  ': {'.1  Prestação até 50.000 € ': '0'}, 'Comissões no termo do contrato': '0', '9.  Comissão de reembolso antecipado total ': {'.1 Taxa Fixa ': '0'}, 'Outras despesas associadas': '0'}\n",
      "parse product: Imposto  Produto: Leasing Habitação (fora de comercialização)  Caracterização do produto: Locação financeira imobiliária  Os seguros obrigatórios são os mesmos do Crédito à Habitação (não aplicáveis a pessoas coletivas), assumindo que não houve renúncia  à isenção de IVA  Comissões durante a vigência do contrato  1., fee {'Produto: Crédito Multiopções': '0', 'Caracterização do produto: Crédito hipotecário cuja finalidade não seja enquadrável no crédito habitação ou em que não esteja definido o': '0', 'fim a que se destina a quantia mutuada.': '0', 'Comissões iniciais': '0', '1.  Comissão de formalização': '500,00', '2.  Reanálise': '250,00', '3.  Avaliação ': {'.1 Imóvel Residencial ': '0'}, '4.  Comissões associadas a atos administrativos ': {'   4.1 Não realização da escritura ': '0'}, 'Comissões durante a vigência do contrato': '0', '5.    Comissão de reembolso antecipado parcial ': {'.1 Taxa Fixa ': '0'}, '6.  Comissão de recuperação de valores em dívida  ': {'.1  Prestação até 50.000 € ': '0'}, 'Comissões no termo do contrato': '0', '9.  Comissão de reembolso antecipado total ': {'.1 Taxa Fixa ': '0'}, 'Outras despesas associadas': '0'}\n",
      "parse product: OPERAÇÕES DE CRÉDITO (PARTICULARES)                                                                                 ÍNDICE  2.1 Crédito à habitação e outros créditos hipotecários    Comissões  Acresce    Valor  Outras condições  Em %  Euros (Mín/Máx)  Imposto  anual  Produto: Crédito Habitação Regime Geral e Regime Deficientes., fee {'1. Comissão de antecipação (pré.aviso 7 dias)': '0', 'Taxa Fixa': '0', 'Taxa Variável': '0', '2. Comissão  de  recuperação  de  valores  em dívida': '150,00', '3. Comissões associadas a atos administrativos ': {' Pedido de 2ª via de Caderneta Predial ': '25,00', ' Emissão de declarações não obrigatórias por lei ': '50,00', ' Emissão de 2ª vias de Declaração para efeitos de IRS – Urgente ': '40,00', ' Emissão de 2º vias de Declaração para efeitos de IRS ': '25,00', ' Emissão de 2ª vias de faturas': '15,00'}, '4.  Cessação da posição contratual': '150,00', '5.  Comissão de compra antecipada (pré-aviso 10 dias)': '0'}\n",
      "parse product: Caracterização do produto: Crédito à habitação com garantia hipotecária destinado à aquisição, construção e realização de obras em  habitação própria e permanente, secundária ou para arrendamento (no Regime Deficientes só habitação própria e permanente) ou à  aquisição ou manutenção de direitos de propriedade sobre terrenos ou edifícios já existentes ou projetados., fee {'1. Comissão de antecipação (pré.aviso 7 dias)': '0', 'Taxa Fixa': '0', 'Taxa Variável': '0', '2. Comissão  de  recuperação  de  valores  em dívida': '150,00', '3. Comissões associadas a atos administrativos ': {' Pedido de 2ª via de Caderneta Predial ': '25,00', ' Emissão de declarações não obrigatórias por lei ': '50,00', ' Emissão de 2ª vias de Declaração para efeitos de IRS – Urgente ': '40,00', ' Emissão de 2º vias de Declaração para efeitos de IRS ': '25,00', ' Emissão de 2ª vias de faturas': '15,00'}, '4.  Cessação da posição contratual': '150,00', '5.  Comissão de compra antecipada (pré-aviso 10 dias)': '0'}\n",
      "parse product: OPERAÇÕES DE CRÉDITO (PARTICULARES)                                                                                      ÍNDICE  2.1 Crédito à habitação e outros créditos  Comissões  hipotecários (cont.), fee {'1. Comissão de antecipação (pré.aviso 7 dias)': '0', 'Taxa Fixa': '0', 'Taxa Variável': '0', '2. Comissão  de  recuperação  de  valores  em dívida': '150,00', '3. Comissões associadas a atos administrativos ': {' Pedido de 2ª via de Caderneta Predial ': '25,00', ' Emissão de declarações não obrigatórias por lei ': '50,00', ' Emissão de 2ª vias de Declaração para efeitos de IRS – Urgente ': '40,00', ' Emissão de 2º vias de Declaração para efeitos de IRS ': '25,00', ' Emissão de 2ª vias de faturas': '15,00'}, '4.  Cessação da posição contratual': '150,00', '5.  Comissão de compra antecipada (pré-aviso 10 dias)': '0'}\n",
      "parse product: Acresce  Outras condições    Euros  Valor  Imposto  Em %  (Mín/Máx)  anual  Produto: Crédito Multiopções   Caracterização do produto: Crédito hipotecário cuja finalidade não seja enquadrável no crédito habitação ou em que não esteja definido o  fim a que se destina a quantia mutuada., fee {'1. Comissão de antecipação (pré.aviso 7 dias)': '0', 'Taxa Fixa': '0', 'Taxa Variável': '0', '2. Comissão  de  recuperação  de  valores  em dívida': '150,00', '3. Comissões associadas a atos administrativos ': {' Pedido de 2ª via de Caderneta Predial ': '25,00', ' Emissão de declarações não obrigatórias por lei ': '50,00', ' Emissão de 2ª vias de Declaração para efeitos de IRS – Urgente ': '40,00', ' Emissão de 2º vias de Declaração para efeitos de IRS ': '25,00', ' Emissão de 2ª vias de faturas': '15,00'}, '4.  Cessação da posição contratual': '150,00', '5.  Comissão de compra antecipada (pré-aviso 10 dias)': '0'}\n",
      "parse product: OPERAÇÕES DE CRÉDITO (PARTICULARES)                                                                                      ÍNDICE  2.1 Crédito à habitação e outros créditos  Acresce  Comissões  Outras condições  hipotecários (cont.), fee {'1. Comissão de antecipação (pré.aviso 7 dias)': '0', 'Taxa Fixa': '0', 'Taxa Variável': '0', '2. Comissão  de  recuperação  de  valores  em dívida': '150,00', '3. Comissões associadas a atos administrativos ': {' Pedido de 2ª via de Caderneta Predial ': '25,00', ' Emissão de declarações não obrigatórias por lei ': '50,00', ' Emissão de 2ª vias de Declaração para efeitos de IRS – Urgente ': '40,00', ' Emissão de 2º vias de Declaração para efeitos de IRS ': '25,00', ' Emissão de 2ª vias de faturas': '15,00'}, '4.  Cessação da posição contratual': '150,00', '5.  Comissão de compra antecipada (pré-aviso 10 dias)': '0'}\n",
      "parse product: Imposto  Produto: Leasing Habitação (fora de comercialização)  Caracterização do produto: Locação financeira imobiliária  Os seguros obrigatórios são os mesmos do Crédito à Habitação (não aplicáveis a pessoas coletivas), assumindo que não houve renúncia  à isenção de IVA  Comissões durante a vigência do contrato  1., fee {'1. Comissão de antecipação (pré.aviso 7 dias)': '0', 'Taxa Fixa': '0', 'Taxa Variável': '0', '2. Comissão  de  recuperação  de  valores  em dívida': '150,00', '3. Comissões associadas a atos administrativos ': {' Pedido de 2ª via de Caderneta Predial ': '25,00', ' Emissão de declarações não obrigatórias por lei ': '50,00', ' Emissão de 2ª vias de Declaração para efeitos de IRS – Urgente ': '40,00', ' Emissão de 2º vias de Declaração para efeitos de IRS ': '25,00', ' Emissão de 2ª vias de faturas': '15,00'}, '4.  Cessação da posição contratual': '150,00', '5.  Comissão de compra antecipada (pré-aviso 10 dias)': '0'}\n"
     ]
    }
   ],
   "source": [
    "output_ab = HouseCredit('https://clientebancario.bportugal.pt/sites/default/files/precario/0170_/0170_PRE.pdf',[6,7,8], '0170').final()"
   ]
  },
  {
   "cell_type": "code",
   "execution_count": 18,
   "metadata": {},
   "outputs": [],
   "source": [
    "# output_ab"
   ]
  },
  {
   "cell_type": "code",
   "execution_count": 19,
   "metadata": {},
   "outputs": [
    {
     "ename": "NameError",
     "evalue": "name 'bankinter_n' is not defined",
     "output_type": "error",
     "traceback": [
      "\u001b[0;31m---------------------------------------------------------------------------\u001b[0m",
      "\u001b[0;31mNameError\u001b[0m                                 Traceback (most recent call last)",
      "\u001b[0;32m<ipython-input-19-2d87bd6cc3f1>\u001b[0m in \u001b[0;36m<module>\u001b[0;34m\u001b[0m\n\u001b[0;32m----> 1\u001b[0;31m \u001b[0mbankinter_n\u001b[0m\u001b[0;34m\u001b[0m\u001b[0;34m\u001b[0m\u001b[0m\n\u001b[0m",
      "\u001b[0;31mNameError\u001b[0m: name 'bankinter_n' is not defined"
     ]
    }
   ],
   "source": [
    "bankinter_n"
   ]
  },
  {
   "cell_type": "code",
   "execution_count": null,
   "metadata": {},
   "outputs": [],
   "source": []
  }
 ],
 "metadata": {
  "kernelspec": {
   "display_name": "Python 3",
   "language": "python",
   "name": "python3"
  },
  "language_info": {
   "codemirror_mode": {
    "name": "ipython",
    "version": 3
   },
   "file_extension": ".py",
   "mimetype": "text/x-python",
   "name": "python",
   "nbconvert_exporter": "python",
   "pygments_lexer": "ipython3",
   "version": "3.8.6"
  },
  "toc": {
   "base_numbering": 1,
   "nav_menu": {},
   "number_sections": true,
   "sideBar": true,
   "skip_h1_title": false,
   "title_cell": "Table of Contents",
   "title_sidebar": "Contents",
   "toc_cell": false,
   "toc_position": {},
   "toc_section_display": true,
   "toc_window_display": false
  }
 },
 "nbformat": 4,
 "nbformat_minor": 4
}
