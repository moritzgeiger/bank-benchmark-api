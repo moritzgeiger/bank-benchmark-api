{
 "cells": [
  {
   "cell_type": "code",
   "execution_count": 30,
   "metadata": {
    "ExecuteTime": {
     "end_time": "2021-04-14T20:20:06.636724Z",
     "start_time": "2021-04-14T20:20:05.381178Z"
    }
   },
   "outputs": [],
   "source": [
    "import pandas as pd\n",
    "import numpy as np\n",
    "#import matplotlib as plt\n",
    "import requests\n",
    "import pdfplumber\n",
    "import re\n",
    "#import nltk\n",
    "import statistics\n",
    "from urllib.request import Request, urlopen\n",
    "from io import StringIO, BytesIO\n",
    "from housecredit import HouseCredit"
   ]
  },
  {
   "cell_type": "markdown",
   "metadata": {},
   "source": [
    "## Pdf urls and pages"
   ]
  },
  {
   "cell_type": "code",
   "execution_count": 5,
   "metadata": {
    "ExecuteTime": {
     "end_time": "2021-04-14T20:20:06.652681Z",
     "start_time": "2021-04-14T20:20:06.641239Z"
    }
   },
   "outputs": [],
   "source": [
    "abanca={1:{'link':'https://www.abanca.pt', 'page':None}, \n",
    "        2:{'link':'https://clientebancario.bportugal.pt/sites/default/files/precario/0170_/0170_PRE.pdf', 'page':[6,7]},\n",
    "        3:{'link':'https://storage.googleapis.com/bank_price_pdfs/1_all_products_210412130040.pdf', 'page':6}}\n",
    "\n",
    "bankinter={1:{'link':'https://www.bankinter.pt', 'page':None},\n",
    "           2:{'link':'https://clientebancario.bportugal.pt/sites/default/files/precario/0269_/0269_PRE.pdf', 'page':[8,9,10,11,12,13,14,15,16,17]},\n",
    "           3:{'link': 'https://storage.googleapis.com/bank_price_pdfs/2_all_products_210412130350.pdf', 'page':None, 'notes':'image file'}}\n",
    "\n",
    "bic={1:{'link':'https://www.bancobic.ao' ,'page':None},\n",
    "     2:{'link':'https://clientebancario.bportugal.pt/sites/default/files/precario/0079_/0079_PRE_0.pdf', 'page':[7,8,9,10,12,13]},\n",
    "     3:{'link':'https://storage.googleapis.com/bank_price_pdfs/3_all_products_210412130840.pdf', 'page':None, 'notes':'wrong file'}}\n",
    "\n",
    "bai={1:{'link':'https://www.bancobai.ao', 'page':None},\n",
    "     2:{'link':'https://clientebancario.bportugal.pt/sites/default/files/precario/0008_/0008_PRE.pdf', 'page':None, 'notes':'No housing credit products'},\n",
    "     3:{'link':'https://storage.googleapis.com/bank_price_pdfs/4_all_products_210412130952.pdf', 'page':None, 'notes':'No housing credit products'}}\n",
    "\n",
    "ctt={1:{'link':'https://www.bancoctt.pt/', 'page':None},\n",
    "     2:{'link':'https://clientebancario.bportugal.pt/sites/default/files/precario/0193_/0193_PRE.pdf', 'page':6},\n",
    "     3:{'link':'https://storage.googleapis.com/bank_price_pdfs/5_all_products_210412131014.pdf', 'page':6}}"
   ]
  },
  {
   "cell_type": "markdown",
   "metadata": {},
   "source": [
    "## Housing Credit Dictionary"
   ]
  },
  {
   "cell_type": "code",
   "execution_count": 6,
   "metadata": {
    "ExecuteTime": {
     "end_time": "2021-04-14T20:20:06.668631Z",
     "start_time": "2021-04-14T20:20:06.657513Z"
    }
   },
   "outputs": [],
   "source": [
    "house_credit_com = {'admin':['Comissões associadas a atos administrativos 4.1 Não realização da escritura',\n",
    "                             'Alteração do local da escritura',\n",
    "                             'Declarações de dívida',\n",
    "                             'Mudança de regime de crédito',\n",
    "                             'Declarações de dívida',\n",
    "                             'Pedido de 2ª via de Caderneta Predial',\n",
    "                             'Emissão de declarações não obrigatórias por lei',\n",
    "                             'Emissão de 2ª vias de Declaração para efeitos de IRS – Urgente',\n",
    "                             'Emissão de 2º vias de Declaração para efeitos de IRS',\n",
    "                             'Emissão de 2ª vias de faturas',\n",
    "                             'Declaração de Dívida para Fins Diversos',\n",
    "                             'Declaração de Encargos com Prestações'],\n",
    "                    'certificates':['Emolumentos do registo predial', 'registo predial',\n",
    "                                    'Certidão permanente on-line'],\n",
    "                    'debt_recovery':['Comissão de recuperação de valores em dívida', 'Prestação até 50.000 €',\n",
    "                                    'Prestação > 50.000 €', 'Comissão de recuperação de valores em dívida',\n",
    "                                    'Prestação > 50.000,00€', 'Prestação ≤ 50.000,00€'],\n",
    "                    'displacement':['Comissão de deslocação', 'Até 100 Kms', '101 a 250 Kms', '> 250 Kms '],\n",
    "                    'early_payment':['Comissão de reembolso antecipado parcial', 'Taxa fixa', 'Taxa variável', \n",
    "                                    'Taxa fixa', 'Comissão de reembolso antecipado total', 'Comissão de antecipação',\n",
    "                                    '(pré.aviso 7 dias)', 'Comissão de compra antecipada', '(pré-aviso 10 dias)',\n",
    "                                    'Comissão de Reembolso Antecipado Parcial',\n",
    "                                    'Comissão de reembolso antecipado total'],\n",
    "                    'evaluation':['Avaliação', 'Imóvel residencial', \n",
    "                                 'Garagens e arrecadações não anexas ao imóvel residencial', 'Avaliação do Imóvel'],\n",
    "                    'formalization':['Comissão de formalização', 'Formalização'],\n",
    "                    'process':['Processo', 'Abertura de Processo',\n",
    "                              'Desistência ou não conclusão do processo por motivos imputáveis ao cliente'],\n",
    "                    'inspections':['Vistorias', 'em caso de construção ou realização de obras'],\n",
    "                    'reanalysis':['Reanálise'],\n",
    "                    'settlement':['Comissão de Liquidação de Prestação', 'Liquidação de Prestação'],\n",
    "                    'solicitors_notary':['Emolumentos notariais', 'Solicitadoria', 'Notiário'],\n",
    "                    'statements':['Emissão de extratos de conta de empréstimos liquidados', 'extrato', 'extratos',\n",
    "                                  'extrato de conta', 'extrato mensal'],\n",
    "                    'taxes':['Imposto do Selo sobre concessão de crédito', 'imposto', 'imposto de selo', 'impostos'],\n",
    "                    'termination':['Cessação da posição contratual', 'cessação', 'rescisão', 'encerramento']}"
   ]
  },
  {
   "cell_type": "markdown",
   "metadata": {},
   "source": [
    "## Prices Scraping Function"
   ]
  },
  {
   "cell_type": "code",
   "execution_count": 7,
   "metadata": {
    "ExecuteTime": {
     "end_time": "2021-04-14T20:20:06.691629Z",
     "start_time": "2021-04-14T20:20:06.673226Z"
    }
   },
   "outputs": [],
   "source": [
    "def get_prices(pdf,page, dictionary):\n",
    "    doc = pdfplumber.open(pdf)\n",
    "    prod_df=pd.DataFrame(doc.pages[page].extract_table())\n",
    "    \n",
    "    def find_prices(df):\n",
    "        for x in range(df.shape[0]):\n",
    "            for y in range(df.shape[1]):\n",
    "                if 'Euros' in str(df[y][x]):\n",
    "                    return y\n",
    "    \n",
    "    def find_index(df,dictionary):\n",
    "        index_col=list()\n",
    "        for x in range(df.shape[0]):\n",
    "            for y in range(find_prices(df)):\n",
    "                if str(df[y][x])=='None' or str(df[y][x])=='' or 'Nota' in str(df[y][x]):\n",
    "                    pass\n",
    "                else:\n",
    "                    words = [word for word in str(df[y][x]).split(' ')]\n",
    "                    for word in words:\n",
    "                        for key in dictionary.keys():\n",
    "                            for item in dictionary[key]:\n",
    "                                if word in item:\n",
    "                                    index_col.append(y)\n",
    "\n",
    "        return int(statistics.mode(index_col))\n",
    "    \n",
    "    def clean_df(df):\n",
    "        for x in range(df.shape[0]):\n",
    "            for y in df.columns:\n",
    "                if str(df[y][x])=='' or str(df[y][x])=='None':\n",
    "                    df[y][x]=np.nan\n",
    "        return df.dropna(axis='columns', how='all').dropna(axis='rows', how='all')\n",
    "\n",
    "    \n",
    "    prices_col=find_prices(prod_df)\n",
    "    index_col=find_index(prod_df, house_credit_com)\n",
    "    \n",
    "    prices_df=pd.DataFrame()\n",
    "    prices_df['Commissions']=prod_df[index_col]\n",
    "    prices_df['Prices']=prod_df[prices_col]\n",
    "    \n",
    "    return clean_df(prices_df)\n",
    "\n",
    "def get_pdf(link):\n",
    "        remote = urlopen(Request(link)).read()\n",
    "        memory = BytesIO(remote)\n",
    "        return memory"
   ]
  },
  {
   "cell_type": "code",
   "execution_count": 8,
   "metadata": {
    "ExecuteTime": {
     "end_time": "2021-04-14T20:20:08.101130Z",
     "start_time": "2021-04-14T20:20:06.695070Z"
    }
   },
   "outputs": [
    {
     "data": {
      "text/html": [
       "<div>\n",
       "<style scoped>\n",
       "    .dataframe tbody tr th:only-of-type {\n",
       "        vertical-align: middle;\n",
       "    }\n",
       "\n",
       "    .dataframe tbody tr th {\n",
       "        vertical-align: top;\n",
       "    }\n",
       "\n",
       "    .dataframe thead th {\n",
       "        text-align: right;\n",
       "    }\n",
       "</style>\n",
       "<table border=\"1\" class=\"dataframe\">\n",
       "  <thead>\n",
       "    <tr style=\"text-align: right;\">\n",
       "      <th></th>\n",
       "      <th>Commissions</th>\n",
       "      <th>Prices</th>\n",
       "    </tr>\n",
       "  </thead>\n",
       "  <tbody>\n",
       "    <tr>\n",
       "      <th>0</th>\n",
       "      <td>NaN</td>\n",
       "      <td>Euros \\n(min/máx)</td>\n",
       "    </tr>\n",
       "    <tr>\n",
       "      <th>1</th>\n",
       "      <td>Avaliações - Fracções \\nAutónomas</td>\n",
       "      <td>250,00</td>\n",
       "    </tr>\n",
       "    <tr>\n",
       "      <th>2</th>\n",
       "      <td>Comissão de Reembolso \\nAntecipado Parcial\\n- ...</td>\n",
       "      <td>--\\n--</td>\n",
       "    </tr>\n",
       "    <tr>\n",
       "      <th>3</th>\n",
       "      <td>Comissão por restituição do \\nBem fora de praz...</td>\n",
       "      <td>--\\n--</td>\n",
       "    </tr>\n",
       "    <tr>\n",
       "      <th>4</th>\n",
       "      <td>Comissões relativas a actos \\nadministrativos:...</td>\n",
       "      <td>15,00\\n30,00</td>\n",
       "    </tr>\n",
       "    <tr>\n",
       "      <th>5</th>\n",
       "      <td>Comissão pela \\nRecuperação de Valores \\nem Dí...</td>\n",
       "      <td>12,00/\\n150,00</td>\n",
       "    </tr>\n",
       "    <tr>\n",
       "      <th>6</th>\n",
       "      <td>Rescisões Antecipadas / \\nAmortizações Totais\\...</td>\n",
       "      <td>--\\n--</td>\n",
       "    </tr>\n",
       "  </tbody>\n",
       "</table>\n",
       "</div>"
      ],
      "text/plain": [
       "                                         Commissions             Prices\n",
       "0                                                NaN  Euros \\n(min/máx)\n",
       "1                  Avaliações - Fracções \\nAutónomas             250,00\n",
       "2  Comissão de Reembolso \\nAntecipado Parcial\\n- ...             --\\n--\n",
       "3  Comissão por restituição do \\nBem fora de praz...             --\\n--\n",
       "4  Comissões relativas a actos \\nadministrativos:...       15,00\\n30,00\n",
       "5  Comissão pela \\nRecuperação de Valores \\nem Dí...     12,00/\\n150,00\n",
       "6  Rescisões Antecipadas / \\nAmortizações Totais\\...             --\\n--"
      ]
     },
     "execution_count": 8,
     "metadata": {},
     "output_type": "execute_result"
    }
   ],
   "source": [
    "url=bankinter[2]['link']\n",
    "page=17\n",
    "doc=get_pdf(url)\n",
    "prices_df=get_prices(doc, page, house_credit_com)\n",
    "prices_df.reset_index(drop='index', inplace=True)\n",
    "prices_df"
   ]
  },
  {
   "cell_type": "markdown",
   "metadata": {},
   "source": [
    "## Responding function for each subprod"
   ]
  },
  {
   "cell_type": "code",
   "execution_count": 9,
   "metadata": {
    "ExecuteTime": {
     "end_time": "2021-04-14T20:20:08.123485Z",
     "start_time": "2021-04-14T20:20:08.104269Z"
    }
   },
   "outputs": [],
   "source": [
    "def clean_prices(df):\n",
    "    commissions={}\n",
    "    for i in range(len(df)):\n",
    "        if str(df['Prices'][i])=='nan':\n",
    "            df['Prices'][i]='0'     \n",
    "        else:# re.search(r'\\d+,\\d{2}/\\d+,\\d{2}', df['Prices'][i]):\n",
    "            df['Prices'][i]='&'.join(re.findall(r'\\d+,\\d{2}', df['Prices'][i]))\n",
    "        if df['Prices'][i]=='':\n",
    "            df['Prices'][i]='0'\n",
    "        if type(df['Commissions'][i])==str:\n",
    "            if '\\n-' in df['Commissions'][i]:\n",
    "                names=df['Commissions'][i].split(sep='\\n-')\n",
    "                prices=['']+df['Prices'][i].split(sep='&')\n",
    "                names=[n.replace('\\n', '') for n in names]\n",
    "                #prices=[p.replace('','0') for p in prices]\n",
    "                commissions.update({names[0]:{}})\n",
    "                commissions[names[0]].update({name: price for name, price in zip(names[1:], prices[1:])})\n",
    "            elif '\\n ' in df['Commissions'][i]:\n",
    "                names=df['Commissions'][i].split(sep='\\n ')\n",
    "                prices=['']+df['Prices'][i].split(sep='&')\n",
    "                names=[n.replace('\\n', '') for n in names]\n",
    "                #prices=[p.replace('','0') for p in prices]\n",
    "                commissions.update({names[0]:{}})\n",
    "                commissions[names[0]].update({name: price for name, price in zip(names[1:], prices[1:])})\n",
    "            elif len(re.findall(r'\\n[0-9]', df['Commissions'][i]))>0:\n",
    "                names=re.split(r'\\n[0-9]', df['Commissions'][i])\n",
    "                prices=['']+df['Prices'][i].split(sep='&')\n",
    "                names=[n.replace('\\n', '') for n in names]\n",
    "                #prices=[p.replace('','0') for p in prices]\n",
    "                commissions.update({names[0]:{}})\n",
    "                commissions[names[0]].update({name: price for name, price in zip(names[1:], prices[1:])})\n",
    "            else:\n",
    "                name = df['Commissions'][i]\n",
    "                price = df['Prices'][i]\n",
    "                if '&' in price:\n",
    "                    price=df['Prices'][i].split(sep='&')[-1]\n",
    "                name = name.replace('\\n','').replace('\\xa0','')\n",
    "                commissions.update({name: price})\n",
    "        \n",
    "    return commissions"
   ]
  },
  {
   "cell_type": "code",
   "execution_count": 26,
   "metadata": {
    "ExecuteTime": {
     "end_time": "2021-04-14T20:21:07.006432Z",
     "start_time": "2021-04-14T20:20:54.836642Z"
    }
   },
   "outputs": [],
   "source": [
    "result={}\n",
    "for page in bic[2]['page']:\n",
    "    url=bic[2]['link']\n",
    "    doc=get_pdf(url)\n",
    "    prices_df=get_prices(doc, page, house_credit_com)\n",
    "    prices_df.reset_index(drop='index', inplace=True)\n",
    "    result.update({f'page {page}': clean_prices(prices_df)})"
   ]
  },
  {
   "cell_type": "code",
   "execution_count": null,
   "metadata": {},
   "outputs": [],
   "source": [
    "result={}\n",
    "for page in self.page_house:\n",
    "    prices_df=get_prices(file, page, house_credit_com)\n",
    "#     prices_df.reset_index(drop='index', inplace=True)\n",
    "    result.update({f'page {page}': clean_prices(prices_df)})"
   ]
  },
  {
   "cell_type": "code",
   "execution_count": 27,
   "metadata": {},
   "outputs": [
    {
     "data": {
      "text/plain": [
       "dict_keys(['page 7', 'page 8', 'page 9', 'page 10', 'page 12', 'page 13'])"
      ]
     },
     "execution_count": 27,
     "metadata": {},
     "output_type": "execute_result"
    }
   ],
   "source": [
    "result.keys()"
   ]
  },
  {
   "cell_type": "code",
   "execution_count": 29,
   "metadata": {
    "ExecuteTime": {
     "end_time": "2021-04-14T20:21:16.181534Z",
     "start_time": "2021-04-14T20:21:16.163095Z"
    }
   },
   "outputs": [
    {
     "data": {
      "text/plain": [
       "{'2.1. Crédito à habitação e outros créditos hipotecários': '0',\n",
       " 'Comissões iniciais': '0',\n",
       " '1. Comissão de processo': '0',\n",
       " 'Habitação Própria': '260,00',\n",
       " 'Habitação Própria (oferta sénior)': '260,00',\n",
       " 'Troca de Casa (Fora de comercialização)': '260,00',\n",
       " 'Troca de Banco': '260,00',\n",
       " 'Habitação para Arrendamento': '260,00',\n",
       " 'Crédito intercalar terrenos': '50,00',\n",
       " 'Crédito Intercalar Sinal': '50,00',\n",
       " 'Multifinalidades posterior / isolado': '250,00',\n",
       " 'Multifinalidades Saúde': '250,00',\n",
       " 'Crédito Hipotecário Investimentos Diversos': '250,00',\n",
       " '2. Avaliação de imóveis': '0',\n",
       " '3. Reapreciação de avaliação de imóveis': '0',\n",
       " '4. Vistoria de imóveis': '0',\n",
       " '5. Reanálise do processo': '100,00',\n",
       " '6. Dispensa de registos provisórios': '100,00',\n",
       " '7. Conversão / Efetivação de registos': '80,00',\n",
       " '8. Preparação de escrituras / Minutas para escrituras': '120,00',\n",
       " 'Comissões durante a vigência do contrato': '0',\n",
       " '9. Comissão de processamento de prestação': '3,00',\n",
       " '10. Declarações de dívida e não dívida': '0',\n",
       " '11. Declaração para troca de seguradora': '50,00',\n",
       " '12. 2ª via de relatório de avaliação': '15,00',\n",
       " '13. Comissão de reembolso antecipado parcial': '100,00',\n",
       " 'Taxa fixa': '0',\n",
       " 'Taxa variável': '0',\n",
       " '14. Comissão de recuperação de valores em dívida': '0',\n",
       " 'Prestação vencida e não paga ≤ 50.000 €': '150,00',\n",
       " 'Prestação vencida e não paga > 50.000 €': '0',\n",
       " '15. Extinção de procurações irrevogáveis': '0',\n",
       " 'Com emissão de declaração particular': '80,00',\n",
       " 'Revogação em Notário Público': '80,00',\n",
       " 'Renúncia em Notário Privativo': '90,00',\n",
       " 'Comissões no termo do contrato': '0',\n",
       " '16. Comissão de reembolso antecipado total': '100,00',\n",
       " '17. 2ª via de documento de distrate de hipoteca': '60,00',\n",
       " '18. Declaração de não dívida': '50,00',\n",
       " 'Acresce Imposto': '0',\n",
       " 'Outras despesas associadas': '0',\n",
       " 'Despesas cobradas no âmbito do serviço Casa Pronta': '0',\n",
       " 'Pedido de Certidão de Teor On-Line': '15,00',\n",
       " 'Indeferimento ou desistência': '50,00',\n",
       " 'Despesas com a celebração do contrato de crédito (DPA)': '962,25',\n",
       " 'Depósito eletrónico de documento': '20,00',\n",
       " 'Outros Créditos HipotecáriosCrédito hipotecário multifinalidades': '0',\n",
       " '1. Comissão de estudo': '150,00',\n",
       " '2. Comissão de abertura': '200,00',\n",
       " '3. Avaliação de imóveis': '0',\n",
       " '4. Reapreciação de avaliação de imóveis': '0',\n",
       " '5. Vistoria de imóveis': '0',\n",
       " '10. Comissão relativa a alterações contratuais': '0',\n",
       " 'Com aditamento ao contrato': '250,00',\n",
       " 'Sem aditamento ao contrato': '250,00',\n",
       " '11. Declarações': '0',\n",
       " 'Declarações de dívida e não dívida': '0',\n",
       " 'Declaração para troca de seguradora': '50,00',\n",
       " '12. Segundas vias': '0',\n",
       " 'Contrato / aditamento a contratos / garantias': '60,00',\n",
       " 'Outros documentos': '15,00',\n",
       " '2.1. Crédito à habitação e outros créditos hipotecários (cont.)': '0',\n",
       " 'Outros Créditos Hipotecários (cont.)Crédito hipotecário multifinalidades': '0',\n",
       " '17. Comissão de deslocação de representante do Banco': '100,00',\n",
       " '18. 2ª via de documento de distrate de hipoteca': '60,00',\n",
       " '19. Declaração de não dívida': '50,00',\n",
       " 'Emolumentos por reconhecimentonotarial de assinatura: 18,00 € + IVA (por cada reconhecimentoque contenhaa mençãode qualquer circunstânciaespecial (na qualidade de procurador sócio-gerente e com poderes para o ato). As despesas notariais são a cargo do Cliente.': '0',\n",
       " 'Locação Financeira Imobiliária (taxa variável) - Finalidade Habitação': '0',\n",
       " 'Habitação própria permanente, secundária ou para arrendamento.': '0',\n",
       " '1. Comissões contratuais': '0',\n",
       " 'Montante total  (valor de aquisição + IMT)': '500,00',\n",
       " 'Relocações': '800,00',\n",
       " '5. Comissão de gestão': '10,00',\n",
       " '6. Comissão de processamento de renda': '1,00',\n",
       " '7. Comissão por contratos de sublocação': '150,00',\n",
       " '8. Autorização de sublocação': '75,00',\n",
       " '9. Cessão da posição contratual': '800,00',\n",
       " '10. Comissões relativas a atos administrativos': '0',\n",
       " 'Portes': '1,00',\n",
       " 'Reenvio de correspondência devolvida (por envio)': '10,00',\n",
       " 'Cash-flow (por envio)': '7,50',\n",
       " 'Impostos, taxas e outros encargos sobre o imóvel locado': '10,00',\n",
       " 'Tratamento de notificações de condomínio': '40,00',\n",
       " 'Alteração do seguro / companhia de seguros': '50,00',\n",
       " 'Constituição de seguro em substituição do locatário': '75,00',\n",
       " 'Tratamento de prémios de seguro em incumprimento': '25,00',\n",
       " 'Reclamações de avaliações fiscais (autárquicas, IMT, etc.)': '10,00',\n",
       " 'Tratamento do Modelo I do IMI': '50,00',\n",
       " 'Processamento de pedido de informação de entidade externa (PSP, GNR, Brisa, Seguradora, etc.)': '20,00',\n",
       " '11. Declarações / Requerimentos': '0',\n",
       " 'Outras declarações': '50,00',\n",
       " 'Requerimento de redução da taxa de IMT': '100,00',\n",
       " 'Requerimento a câmaras municipais ou outras instituições': '50,00',\n",
       " 'Autorização para obras e/ou obtenção de licenças': '75,00',\n",
       " 'Autorização para representação em assembleias de condóminos': '50,00',\n",
       " 'Autorização de averbamento de alvarás, no âmbito da atividade do locatário': '100,00',\n",
       " 'Anexação e/ou destaques (modificação de propriedade)': '125,00',\n",
       " '13. Comissão de deslocação de representante do Banco': '100,00',\n",
       " '14. Comissão de reembolso antecipado parcial': '0',\n",
       " '15. Comissão de recuperação de valores em dívida': '0',\n",
       " '16. Comissão de recuperação do ativo': '200,00',\n",
       " '17. Comissão de reembolso antecipado total': '0',\n",
       " 'Leasing Imobiliário Habitação (Fora de comercialização)Habitação própria permanente, secundária, ou para arrendamento. (Aplicável a créditos migrados da BPN Crédito)': '0',\n",
       " '1. Comissão de financiamento (não incluída nas mensalidades)': '0',\n",
       " 'Comissão de dossier': '50,00',\n",
       " '2. Avaliação do imóvel': '0',\n",
       " 'até 250.000 €': '416,67',\n",
       " 'de 250.000 € eté 500.000 €': '458,34',\n",
       " 'a partir de 500.000 €': '000,00',\n",
       " '3. Comissão de vistoria (por vistoria)': '0',\n",
       " '3.1. Moradias e frações autónomas habitacionais': '80,00',\n",
       " '3.2. Terrenos para construção, com área bruta de construção:': '0',\n",
       " '< 500 m2': '125,00',\n",
       " '≥ 500 m2 e < 1.000 m2': '200,00',\n",
       " '≥ 1.000 m2 e < 5.000 m2': '250,00',\n",
       " '≥ 5.000 m2': '300,00',\n",
       " '3.3. Imóveis especiais (por exemplo, herdades), com área bruta de construção:': '0',\n",
       " '4. Deslocação de técnicos (escrituras)': '500,00',\n",
       " '5. Comissão de reembolso antecipado parcial': '0',\n",
       " '7. Comissão relativa a alterações contratuais': '0',\n",
       " 'Conta bancária': '8,34',\n",
       " '8. Cedência de posição contratual': '833,34',\n",
       " '9. Cancelamento de hipotecas': '75,00',\n",
       " '10. Pedidos de 2ª via': '0',\n",
       " 'Extratos': '8,34',\n",
       " 'Contratos': '20,84',\n",
       " 'Regularização de dívida': '16,67',\n",
       " 'Informações a terceiros': '50,00',\n",
       " 'Específica': '500,00',\n",
       " '12. Comissão de reembolso antecipado total': '0',\n",
       " '13. Declarações': '0',\n",
       " 'Liquidado/Finalizado': '8,34',\n",
       " 'Mútuo a obras e construções (Fora de comercialização)': '0',\n",
       " 'Apenas pode ser subscrito como complemento ao leasing imobiliário. Aplicável a créditos migrados da BPN Crédito.': '0',\n",
       " '2. Comissão de vistoria (por vistoria)': '0',\n",
       " '2.1. Moradias e frações autónomas habitacionais': '80,00',\n",
       " '2.2. Terrenos para construção, com área bruta de construção:': '0',\n",
       " 'Mútuo a obras e construções (Fora de comercialização)Apenas pode ser subscrito como complemento ao leasing imobiliário. Aplicável a créditos migrados da BPN Crédito.': '0',\n",
       " '2.3. Imóveis especiais (por exemplo, herdades), com área bruta de construção:': '0',\n",
       " '3. Deslocação de técnicos (escrituras)': '500,00',\n",
       " '4. Comissão de reembolso antecipado parcial': '0',\n",
       " '5. Comissão relativa a alterações contratuais': '0',\n",
       " '6. Pedidos de 2ª via': '0',\n",
       " '7. Declaração de regularização de dívida': '16,67',\n",
       " '8. Comissão de reembolso antecipado total': '0',\n",
       " '9. Declarações': '0'}"
      ]
     },
     "execution_count": 29,
     "metadata": {},
     "output_type": "execute_result"
    }
   ],
   "source": [
    "final = {}\n",
    "for page in result.values():\n",
    "    for k in page.keys():\n",
    "#         print(k)\n",
    "        if 'Nota' not in k:\n",
    "             final[k] = page[k]\n",
    "final"
   ]
  },
  {
   "cell_type": "code",
   "execution_count": 31,
   "metadata": {
    "collapsed": true
   },
   "outputs": [
    {
     "ename": "KeyError",
     "evalue": "0",
     "output_type": "error",
     "traceback": [
      "\u001b[0;31m---------------------------------------------------------------------------\u001b[0m",
      "\u001b[0;31mKeyError\u001b[0m                                  Traceback (most recent call last)",
      "\u001b[0;32m~/.pyenv/versions/3.8.6/envs/lewagon/lib/python3.8/site-packages/pandas/core/indexes/base.py\u001b[0m in \u001b[0;36mget_loc\u001b[0;34m(self, key, method, tolerance)\u001b[0m\n\u001b[1;32m   3079\u001b[0m             \u001b[0;32mtry\u001b[0m\u001b[0;34m:\u001b[0m\u001b[0;34m\u001b[0m\u001b[0;34m\u001b[0m\u001b[0m\n\u001b[0;32m-> 3080\u001b[0;31m                 \u001b[0;32mreturn\u001b[0m \u001b[0mself\u001b[0m\u001b[0;34m.\u001b[0m\u001b[0m_engine\u001b[0m\u001b[0;34m.\u001b[0m\u001b[0mget_loc\u001b[0m\u001b[0;34m(\u001b[0m\u001b[0mcasted_key\u001b[0m\u001b[0;34m)\u001b[0m\u001b[0;34m\u001b[0m\u001b[0;34m\u001b[0m\u001b[0m\n\u001b[0m\u001b[1;32m   3081\u001b[0m             \u001b[0;32mexcept\u001b[0m \u001b[0mKeyError\u001b[0m \u001b[0;32mas\u001b[0m \u001b[0merr\u001b[0m\u001b[0;34m:\u001b[0m\u001b[0;34m\u001b[0m\u001b[0;34m\u001b[0m\u001b[0m\n",
      "\u001b[0;32mpandas/_libs/index.pyx\u001b[0m in \u001b[0;36mpandas._libs.index.IndexEngine.get_loc\u001b[0;34m()\u001b[0m\n",
      "\u001b[0;32mpandas/_libs/index.pyx\u001b[0m in \u001b[0;36mpandas._libs.index.IndexEngine.get_loc\u001b[0;34m()\u001b[0m\n",
      "\u001b[0;32mpandas/_libs/hashtable_class_helper.pxi\u001b[0m in \u001b[0;36mpandas._libs.hashtable.Int64HashTable.get_item\u001b[0;34m()\u001b[0m\n",
      "\u001b[0;32mpandas/_libs/hashtable_class_helper.pxi\u001b[0m in \u001b[0;36mpandas._libs.hashtable.Int64HashTable.get_item\u001b[0;34m()\u001b[0m\n",
      "\u001b[0;31mKeyError\u001b[0m: 0",
      "\nThe above exception was the direct cause of the following exception:\n",
      "\u001b[0;31mKeyError\u001b[0m                                  Traceback (most recent call last)",
      "\u001b[0;32m<ipython-input-31-9879b0e366d7>\u001b[0m in \u001b[0;36m<module>\u001b[0;34m\u001b[0m\n\u001b[0;32m----> 1\u001b[0;31m \u001b[0mabanca_scraped\u001b[0m \u001b[0;34m=\u001b[0m \u001b[0mHouseCredit\u001b[0m\u001b[0;34m(\u001b[0m\u001b[0;34m'https://clientebancario.bportugal.pt/sites/default/files/precario/0170_/0170_PRE.pdf'\u001b[0m\u001b[0;34m,\u001b[0m \u001b[0;34m[\u001b[0m\u001b[0;36m6\u001b[0m\u001b[0;34m,\u001b[0m\u001b[0;36m7\u001b[0m\u001b[0;34m]\u001b[0m\u001b[0;34m)\u001b[0m\u001b[0;34m.\u001b[0m\u001b[0mtotal\u001b[0m\u001b[0;34m(\u001b[0m\u001b[0;34m)\u001b[0m\u001b[0;34m\u001b[0m\u001b[0;34m\u001b[0m\u001b[0m\n\u001b[0m",
      "\u001b[0;32m~/code/moritzgeiger/bank-benchmark-api/notebooks/housecredit.py\u001b[0m in \u001b[0;36mtotal\u001b[0;34m(self)\u001b[0m\n\u001b[1;32m    166\u001b[0m         \u001b[0;32mfor\u001b[0m \u001b[0mpage\u001b[0m \u001b[0;32min\u001b[0m \u001b[0mself\u001b[0m\u001b[0;34m.\u001b[0m\u001b[0mpage_house\u001b[0m\u001b[0;34m:\u001b[0m\u001b[0;34m\u001b[0m\u001b[0;34m\u001b[0m\u001b[0m\n\u001b[1;32m    167\u001b[0m             \u001b[0mprices_df\u001b[0m\u001b[0;34m=\u001b[0m\u001b[0mget_prices\u001b[0m\u001b[0;34m(\u001b[0m\u001b[0mfile\u001b[0m\u001b[0;34m,\u001b[0m \u001b[0mpage\u001b[0m\u001b[0;34m,\u001b[0m \u001b[0mself\u001b[0m\u001b[0;34m.\u001b[0m\u001b[0mhouse_dict\u001b[0m\u001b[0;34m)\u001b[0m\u001b[0;34m\u001b[0m\u001b[0;34m\u001b[0m\u001b[0m\n\u001b[0;32m--> 168\u001b[0;31m             \u001b[0mresult\u001b[0m\u001b[0;34m.\u001b[0m\u001b[0mupdate\u001b[0m\u001b[0;34m(\u001b[0m\u001b[0;34m{\u001b[0m\u001b[0;34mf'page {page}'\u001b[0m\u001b[0;34m:\u001b[0m \u001b[0mclean_prices\u001b[0m\u001b[0;34m(\u001b[0m\u001b[0mprices_df\u001b[0m\u001b[0;34m)\u001b[0m\u001b[0;34m}\u001b[0m\u001b[0;34m)\u001b[0m\u001b[0;34m\u001b[0m\u001b[0;34m\u001b[0m\u001b[0m\n\u001b[0m\u001b[1;32m    169\u001b[0m         \u001b[0mfinal\u001b[0m \u001b[0;34m=\u001b[0m \u001b[0;34m{\u001b[0m\u001b[0;34m}\u001b[0m\u001b[0;34m\u001b[0m\u001b[0;34m\u001b[0m\u001b[0m\n\u001b[1;32m    170\u001b[0m         \u001b[0;32mfor\u001b[0m \u001b[0mpage\u001b[0m \u001b[0;32min\u001b[0m \u001b[0mresult\u001b[0m\u001b[0;34m.\u001b[0m\u001b[0mvalues\u001b[0m\u001b[0;34m(\u001b[0m\u001b[0;34m)\u001b[0m\u001b[0;34m:\u001b[0m\u001b[0;34m\u001b[0m\u001b[0;34m\u001b[0m\u001b[0m\n",
      "\u001b[0;32m~/code/moritzgeiger/bank-benchmark-api/notebooks/housecredit.py\u001b[0m in \u001b[0;36mclean_prices\u001b[0;34m(df)\u001b[0m\n\u001b[1;32m     95\u001b[0m     \u001b[0mcommissions\u001b[0m\u001b[0;34m=\u001b[0m\u001b[0;34m{\u001b[0m\u001b[0;34m}\u001b[0m\u001b[0;34m\u001b[0m\u001b[0;34m\u001b[0m\u001b[0m\n\u001b[1;32m     96\u001b[0m     \u001b[0;32mfor\u001b[0m \u001b[0mi\u001b[0m \u001b[0;32min\u001b[0m \u001b[0mrange\u001b[0m\u001b[0;34m(\u001b[0m\u001b[0mlen\u001b[0m\u001b[0;34m(\u001b[0m\u001b[0mdf\u001b[0m\u001b[0;34m)\u001b[0m\u001b[0;34m)\u001b[0m\u001b[0;34m:\u001b[0m\u001b[0;34m\u001b[0m\u001b[0;34m\u001b[0m\u001b[0m\n\u001b[0;32m---> 97\u001b[0;31m         \u001b[0;32mif\u001b[0m \u001b[0mstr\u001b[0m\u001b[0;34m(\u001b[0m\u001b[0mdf\u001b[0m\u001b[0;34m[\u001b[0m\u001b[0;34m'Prices'\u001b[0m\u001b[0;34m]\u001b[0m\u001b[0;34m[\u001b[0m\u001b[0mi\u001b[0m\u001b[0;34m]\u001b[0m\u001b[0;34m)\u001b[0m\u001b[0;34m==\u001b[0m\u001b[0;34m'nan'\u001b[0m\u001b[0;34m:\u001b[0m\u001b[0;34m\u001b[0m\u001b[0;34m\u001b[0m\u001b[0m\n\u001b[0m\u001b[1;32m     98\u001b[0m             \u001b[0mdf\u001b[0m\u001b[0;34m[\u001b[0m\u001b[0;34m'Prices'\u001b[0m\u001b[0;34m]\u001b[0m\u001b[0;34m[\u001b[0m\u001b[0mi\u001b[0m\u001b[0;34m]\u001b[0m\u001b[0;34m=\u001b[0m\u001b[0;34m'0'\u001b[0m\u001b[0;34m\u001b[0m\u001b[0;34m\u001b[0m\u001b[0m\n\u001b[1;32m     99\u001b[0m         \u001b[0;32melse\u001b[0m\u001b[0;34m:\u001b[0m\u001b[0;31m# re.search(r'\\d+,\\d{2}/\\d+,\\d{2}', df['Prices'][i]):\u001b[0m\u001b[0;34m\u001b[0m\u001b[0;34m\u001b[0m\u001b[0m\n",
      "\u001b[0;32m~/.pyenv/versions/3.8.6/envs/lewagon/lib/python3.8/site-packages/pandas/core/series.py\u001b[0m in \u001b[0;36m__getitem__\u001b[0;34m(self, key)\u001b[0m\n\u001b[1;32m    822\u001b[0m \u001b[0;34m\u001b[0m\u001b[0m\n\u001b[1;32m    823\u001b[0m         \u001b[0;32melif\u001b[0m \u001b[0mkey_is_scalar\u001b[0m\u001b[0;34m:\u001b[0m\u001b[0;34m\u001b[0m\u001b[0;34m\u001b[0m\u001b[0m\n\u001b[0;32m--> 824\u001b[0;31m             \u001b[0;32mreturn\u001b[0m \u001b[0mself\u001b[0m\u001b[0;34m.\u001b[0m\u001b[0m_get_value\u001b[0m\u001b[0;34m(\u001b[0m\u001b[0mkey\u001b[0m\u001b[0;34m)\u001b[0m\u001b[0;34m\u001b[0m\u001b[0;34m\u001b[0m\u001b[0m\n\u001b[0m\u001b[1;32m    825\u001b[0m \u001b[0;34m\u001b[0m\u001b[0m\n\u001b[1;32m    826\u001b[0m         \u001b[0;32mif\u001b[0m \u001b[0mis_hashable\u001b[0m\u001b[0;34m(\u001b[0m\u001b[0mkey\u001b[0m\u001b[0;34m)\u001b[0m\u001b[0;34m:\u001b[0m\u001b[0;34m\u001b[0m\u001b[0;34m\u001b[0m\u001b[0m\n",
      "\u001b[0;32m~/.pyenv/versions/3.8.6/envs/lewagon/lib/python3.8/site-packages/pandas/core/series.py\u001b[0m in \u001b[0;36m_get_value\u001b[0;34m(self, label, takeable)\u001b[0m\n\u001b[1;32m    930\u001b[0m \u001b[0;34m\u001b[0m\u001b[0m\n\u001b[1;32m    931\u001b[0m         \u001b[0;31m# Similar to Index.get_value, but we do not fall back to positional\u001b[0m\u001b[0;34m\u001b[0m\u001b[0;34m\u001b[0m\u001b[0;34m\u001b[0m\u001b[0m\n\u001b[0;32m--> 932\u001b[0;31m         \u001b[0mloc\u001b[0m \u001b[0;34m=\u001b[0m \u001b[0mself\u001b[0m\u001b[0;34m.\u001b[0m\u001b[0mindex\u001b[0m\u001b[0;34m.\u001b[0m\u001b[0mget_loc\u001b[0m\u001b[0;34m(\u001b[0m\u001b[0mlabel\u001b[0m\u001b[0;34m)\u001b[0m\u001b[0;34m\u001b[0m\u001b[0;34m\u001b[0m\u001b[0m\n\u001b[0m\u001b[1;32m    933\u001b[0m         \u001b[0;32mreturn\u001b[0m \u001b[0mself\u001b[0m\u001b[0;34m.\u001b[0m\u001b[0mindex\u001b[0m\u001b[0;34m.\u001b[0m\u001b[0m_get_values_for_loc\u001b[0m\u001b[0;34m(\u001b[0m\u001b[0mself\u001b[0m\u001b[0;34m,\u001b[0m \u001b[0mloc\u001b[0m\u001b[0;34m,\u001b[0m \u001b[0mlabel\u001b[0m\u001b[0;34m)\u001b[0m\u001b[0;34m\u001b[0m\u001b[0;34m\u001b[0m\u001b[0m\n\u001b[1;32m    934\u001b[0m \u001b[0;34m\u001b[0m\u001b[0m\n",
      "\u001b[0;32m~/.pyenv/versions/3.8.6/envs/lewagon/lib/python3.8/site-packages/pandas/core/indexes/base.py\u001b[0m in \u001b[0;36mget_loc\u001b[0;34m(self, key, method, tolerance)\u001b[0m\n\u001b[1;32m   3080\u001b[0m                 \u001b[0;32mreturn\u001b[0m \u001b[0mself\u001b[0m\u001b[0;34m.\u001b[0m\u001b[0m_engine\u001b[0m\u001b[0;34m.\u001b[0m\u001b[0mget_loc\u001b[0m\u001b[0;34m(\u001b[0m\u001b[0mcasted_key\u001b[0m\u001b[0;34m)\u001b[0m\u001b[0;34m\u001b[0m\u001b[0;34m\u001b[0m\u001b[0m\n\u001b[1;32m   3081\u001b[0m             \u001b[0;32mexcept\u001b[0m \u001b[0mKeyError\u001b[0m \u001b[0;32mas\u001b[0m \u001b[0merr\u001b[0m\u001b[0;34m:\u001b[0m\u001b[0;34m\u001b[0m\u001b[0;34m\u001b[0m\u001b[0m\n\u001b[0;32m-> 3082\u001b[0;31m                 \u001b[0;32mraise\u001b[0m \u001b[0mKeyError\u001b[0m\u001b[0;34m(\u001b[0m\u001b[0mkey\u001b[0m\u001b[0;34m)\u001b[0m \u001b[0;32mfrom\u001b[0m \u001b[0merr\u001b[0m\u001b[0;34m\u001b[0m\u001b[0;34m\u001b[0m\u001b[0m\n\u001b[0m\u001b[1;32m   3083\u001b[0m \u001b[0;34m\u001b[0m\u001b[0m\n\u001b[1;32m   3084\u001b[0m         \u001b[0;32mif\u001b[0m \u001b[0mtolerance\u001b[0m \u001b[0;32mis\u001b[0m \u001b[0;32mnot\u001b[0m \u001b[0;32mNone\u001b[0m\u001b[0;34m:\u001b[0m\u001b[0;34m\u001b[0m\u001b[0;34m\u001b[0m\u001b[0m\n",
      "\u001b[0;31mKeyError\u001b[0m: 0"
     ]
    }
   ],
   "source": [
    "abanca_scraped = HouseCredit('https://clientebancario.bportugal.pt/sites/default/files/precario/0170_/0170_PRE.pdf', [6,7]).total()"
   ]
  },
  {
   "cell_type": "code",
   "execution_count": 35,
   "metadata": {},
   "outputs": [
    {
     "ename": "KeyError",
     "evalue": "0",
     "output_type": "error",
     "traceback": [
      "\u001b[0;31m---------------------------------------------------------------------------\u001b[0m",
      "\u001b[0;31mKeyError\u001b[0m                                  Traceback (most recent call last)",
      "\u001b[0;32m~/.pyenv/versions/3.8.6/envs/lewagon/lib/python3.8/site-packages/pandas/core/indexes/base.py\u001b[0m in \u001b[0;36mget_loc\u001b[0;34m(self, key, method, tolerance)\u001b[0m\n\u001b[1;32m   3079\u001b[0m             \u001b[0;32mtry\u001b[0m\u001b[0;34m:\u001b[0m\u001b[0;34m\u001b[0m\u001b[0;34m\u001b[0m\u001b[0m\n\u001b[0;32m-> 3080\u001b[0;31m                 \u001b[0;32mreturn\u001b[0m \u001b[0mself\u001b[0m\u001b[0;34m.\u001b[0m\u001b[0m_engine\u001b[0m\u001b[0;34m.\u001b[0m\u001b[0mget_loc\u001b[0m\u001b[0;34m(\u001b[0m\u001b[0mcasted_key\u001b[0m\u001b[0;34m)\u001b[0m\u001b[0;34m\u001b[0m\u001b[0;34m\u001b[0m\u001b[0m\n\u001b[0m\u001b[1;32m   3081\u001b[0m             \u001b[0;32mexcept\u001b[0m \u001b[0mKeyError\u001b[0m \u001b[0;32mas\u001b[0m \u001b[0merr\u001b[0m\u001b[0;34m:\u001b[0m\u001b[0;34m\u001b[0m\u001b[0;34m\u001b[0m\u001b[0m\n",
      "\u001b[0;32mpandas/_libs/index.pyx\u001b[0m in \u001b[0;36mpandas._libs.index.IndexEngine.get_loc\u001b[0;34m()\u001b[0m\n",
      "\u001b[0;32mpandas/_libs/index.pyx\u001b[0m in \u001b[0;36mpandas._libs.index.IndexEngine.get_loc\u001b[0;34m()\u001b[0m\n",
      "\u001b[0;32mpandas/_libs/hashtable_class_helper.pxi\u001b[0m in \u001b[0;36mpandas._libs.hashtable.Int64HashTable.get_item\u001b[0;34m()\u001b[0m\n",
      "\u001b[0;32mpandas/_libs/hashtable_class_helper.pxi\u001b[0m in \u001b[0;36mpandas._libs.hashtable.Int64HashTable.get_item\u001b[0;34m()\u001b[0m\n",
      "\u001b[0;31mKeyError\u001b[0m: 0",
      "\nThe above exception was the direct cause of the following exception:\n",
      "\u001b[0;31mKeyError\u001b[0m                                  Traceback (most recent call last)",
      "\u001b[0;32m<ipython-input-35-56b94ded08a0>\u001b[0m in \u001b[0;36m<module>\u001b[0;34m\u001b[0m\n\u001b[0;32m----> 1\u001b[0;31m \u001b[0mbic_scraped\u001b[0m \u001b[0;34m=\u001b[0m \u001b[0mHouseCredit\u001b[0m\u001b[0;34m(\u001b[0m\u001b[0mbic\u001b[0m\u001b[0;34m[\u001b[0m\u001b[0;36m2\u001b[0m\u001b[0;34m]\u001b[0m\u001b[0;34m[\u001b[0m\u001b[0;34m'link'\u001b[0m\u001b[0;34m]\u001b[0m\u001b[0;34m,\u001b[0m\u001b[0mbic\u001b[0m\u001b[0;34m[\u001b[0m\u001b[0;36m2\u001b[0m\u001b[0;34m]\u001b[0m\u001b[0;34m[\u001b[0m\u001b[0;34m'page'\u001b[0m\u001b[0;34m]\u001b[0m\u001b[0;34m)\u001b[0m\u001b[0;34m.\u001b[0m\u001b[0mtotal\u001b[0m\u001b[0;34m(\u001b[0m\u001b[0;34m)\u001b[0m\u001b[0;34m\u001b[0m\u001b[0;34m\u001b[0m\u001b[0m\n\u001b[0m",
      "\u001b[0;32m~/code/moritzgeiger/bank-benchmark-api/notebooks/housecredit.py\u001b[0m in \u001b[0;36mtotal\u001b[0;34m(self)\u001b[0m\n\u001b[1;32m    166\u001b[0m         \u001b[0mresult\u001b[0m\u001b[0;34m=\u001b[0m\u001b[0;34m{\u001b[0m\u001b[0;34m}\u001b[0m\u001b[0;34m\u001b[0m\u001b[0;34m\u001b[0m\u001b[0m\n\u001b[1;32m    167\u001b[0m         \u001b[0;32mfor\u001b[0m \u001b[0mpage\u001b[0m \u001b[0;32min\u001b[0m \u001b[0mself\u001b[0m\u001b[0;34m.\u001b[0m\u001b[0mpage_house\u001b[0m\u001b[0;34m:\u001b[0m\u001b[0;34m\u001b[0m\u001b[0;34m\u001b[0m\u001b[0m\n\u001b[0;32m--> 168\u001b[0;31m             \u001b[0mprices_df\u001b[0m\u001b[0;34m=\u001b[0m\u001b[0mget_prices\u001b[0m\u001b[0;34m(\u001b[0m\u001b[0mfile\u001b[0m\u001b[0;34m,\u001b[0m \u001b[0mpage\u001b[0m\u001b[0;34m,\u001b[0m \u001b[0mself\u001b[0m\u001b[0;34m.\u001b[0m\u001b[0mhouse_dict\u001b[0m\u001b[0;34m)\u001b[0m\u001b[0;34m\u001b[0m\u001b[0;34m\u001b[0m\u001b[0m\n\u001b[0m\u001b[1;32m    169\u001b[0m             \u001b[0mresult\u001b[0m\u001b[0;34m.\u001b[0m\u001b[0mupdate\u001b[0m\u001b[0;34m(\u001b[0m\u001b[0;34m{\u001b[0m\u001b[0;34mf'page {page}'\u001b[0m\u001b[0;34m:\u001b[0m \u001b[0mclean_prices\u001b[0m\u001b[0;34m(\u001b[0m\u001b[0mprices_df\u001b[0m\u001b[0;34m)\u001b[0m\u001b[0;34m}\u001b[0m\u001b[0;34m)\u001b[0m\u001b[0;34m\u001b[0m\u001b[0;34m\u001b[0m\u001b[0m\n\u001b[1;32m    170\u001b[0m         \u001b[0mfinal\u001b[0m \u001b[0;34m=\u001b[0m \u001b[0;34m{\u001b[0m\u001b[0;34m}\u001b[0m\u001b[0;34m\u001b[0m\u001b[0;34m\u001b[0m\u001b[0m\n",
      "\u001b[0;32m~/code/moritzgeiger/bank-benchmark-api/notebooks/housecredit.py\u001b[0m in \u001b[0;36mclean_prices\u001b[0;34m(df)\u001b[0m\n\u001b[1;32m     95\u001b[0m     \u001b[0mcommissions\u001b[0m\u001b[0;34m=\u001b[0m\u001b[0;34m{\u001b[0m\u001b[0;34m}\u001b[0m\u001b[0;34m\u001b[0m\u001b[0;34m\u001b[0m\u001b[0m\n\u001b[1;32m     96\u001b[0m     \u001b[0;32mfor\u001b[0m \u001b[0mi\u001b[0m \u001b[0;32min\u001b[0m \u001b[0mrange\u001b[0m\u001b[0;34m(\u001b[0m\u001b[0mlen\u001b[0m\u001b[0;34m(\u001b[0m\u001b[0mdf\u001b[0m\u001b[0;34m)\u001b[0m\u001b[0;34m)\u001b[0m\u001b[0;34m:\u001b[0m\u001b[0;34m\u001b[0m\u001b[0;34m\u001b[0m\u001b[0m\n\u001b[0;32m---> 97\u001b[0;31m         \u001b[0mprint\u001b[0m\u001b[0;34m(\u001b[0m\u001b[0mi\u001b[0m\u001b[0;34m)\u001b[0m\u001b[0;34m\u001b[0m\u001b[0;34m\u001b[0m\u001b[0m\n\u001b[0m\u001b[1;32m     98\u001b[0m         \u001b[0;31m# if str(df['Prices'][i])=='nan':\u001b[0m\u001b[0;34m\u001b[0m\u001b[0;34m\u001b[0m\u001b[0;34m\u001b[0m\u001b[0m\n\u001b[1;32m     99\u001b[0m         \u001b[0;31m#     df['Prices'][i]='0'\u001b[0m\u001b[0;34m\u001b[0m\u001b[0;34m\u001b[0m\u001b[0;34m\u001b[0m\u001b[0m\n",
      "\u001b[0;32m~/.pyenv/versions/3.8.6/envs/lewagon/lib/python3.8/site-packages/pandas/core/series.py\u001b[0m in \u001b[0;36m__getitem__\u001b[0;34m(self, key)\u001b[0m\n\u001b[1;32m    822\u001b[0m \u001b[0;34m\u001b[0m\u001b[0m\n\u001b[1;32m    823\u001b[0m         \u001b[0;32melif\u001b[0m \u001b[0mkey_is_scalar\u001b[0m\u001b[0;34m:\u001b[0m\u001b[0;34m\u001b[0m\u001b[0;34m\u001b[0m\u001b[0m\n\u001b[0;32m--> 824\u001b[0;31m             \u001b[0;32mreturn\u001b[0m \u001b[0mself\u001b[0m\u001b[0;34m.\u001b[0m\u001b[0m_get_value\u001b[0m\u001b[0;34m(\u001b[0m\u001b[0mkey\u001b[0m\u001b[0;34m)\u001b[0m\u001b[0;34m\u001b[0m\u001b[0;34m\u001b[0m\u001b[0m\n\u001b[0m\u001b[1;32m    825\u001b[0m \u001b[0;34m\u001b[0m\u001b[0m\n\u001b[1;32m    826\u001b[0m         \u001b[0;32mif\u001b[0m \u001b[0mis_hashable\u001b[0m\u001b[0;34m(\u001b[0m\u001b[0mkey\u001b[0m\u001b[0;34m)\u001b[0m\u001b[0;34m:\u001b[0m\u001b[0;34m\u001b[0m\u001b[0;34m\u001b[0m\u001b[0m\n",
      "\u001b[0;32m~/.pyenv/versions/3.8.6/envs/lewagon/lib/python3.8/site-packages/pandas/core/series.py\u001b[0m in \u001b[0;36m_get_value\u001b[0;34m(self, label, takeable)\u001b[0m\n\u001b[1;32m    930\u001b[0m \u001b[0;34m\u001b[0m\u001b[0m\n\u001b[1;32m    931\u001b[0m         \u001b[0;31m# Similar to Index.get_value, but we do not fall back to positional\u001b[0m\u001b[0;34m\u001b[0m\u001b[0;34m\u001b[0m\u001b[0;34m\u001b[0m\u001b[0m\n\u001b[0;32m--> 932\u001b[0;31m         \u001b[0mloc\u001b[0m \u001b[0;34m=\u001b[0m \u001b[0mself\u001b[0m\u001b[0;34m.\u001b[0m\u001b[0mindex\u001b[0m\u001b[0;34m.\u001b[0m\u001b[0mget_loc\u001b[0m\u001b[0;34m(\u001b[0m\u001b[0mlabel\u001b[0m\u001b[0;34m)\u001b[0m\u001b[0;34m\u001b[0m\u001b[0;34m\u001b[0m\u001b[0m\n\u001b[0m\u001b[1;32m    933\u001b[0m         \u001b[0;32mreturn\u001b[0m \u001b[0mself\u001b[0m\u001b[0;34m.\u001b[0m\u001b[0mindex\u001b[0m\u001b[0;34m.\u001b[0m\u001b[0m_get_values_for_loc\u001b[0m\u001b[0;34m(\u001b[0m\u001b[0mself\u001b[0m\u001b[0;34m,\u001b[0m \u001b[0mloc\u001b[0m\u001b[0;34m,\u001b[0m \u001b[0mlabel\u001b[0m\u001b[0;34m)\u001b[0m\u001b[0;34m\u001b[0m\u001b[0;34m\u001b[0m\u001b[0m\n\u001b[1;32m    934\u001b[0m \u001b[0;34m\u001b[0m\u001b[0m\n",
      "\u001b[0;32m~/.pyenv/versions/3.8.6/envs/lewagon/lib/python3.8/site-packages/pandas/core/indexes/base.py\u001b[0m in \u001b[0;36mget_loc\u001b[0;34m(self, key, method, tolerance)\u001b[0m\n\u001b[1;32m   3080\u001b[0m                 \u001b[0;32mreturn\u001b[0m \u001b[0mself\u001b[0m\u001b[0;34m.\u001b[0m\u001b[0m_engine\u001b[0m\u001b[0;34m.\u001b[0m\u001b[0mget_loc\u001b[0m\u001b[0;34m(\u001b[0m\u001b[0mcasted_key\u001b[0m\u001b[0;34m)\u001b[0m\u001b[0;34m\u001b[0m\u001b[0;34m\u001b[0m\u001b[0m\n\u001b[1;32m   3081\u001b[0m             \u001b[0;32mexcept\u001b[0m \u001b[0mKeyError\u001b[0m \u001b[0;32mas\u001b[0m \u001b[0merr\u001b[0m\u001b[0;34m:\u001b[0m\u001b[0;34m\u001b[0m\u001b[0;34m\u001b[0m\u001b[0m\n\u001b[0;32m-> 3082\u001b[0;31m                 \u001b[0;32mraise\u001b[0m \u001b[0mKeyError\u001b[0m\u001b[0;34m(\u001b[0m\u001b[0mkey\u001b[0m\u001b[0;34m)\u001b[0m \u001b[0;32mfrom\u001b[0m \u001b[0merr\u001b[0m\u001b[0;34m\u001b[0m\u001b[0;34m\u001b[0m\u001b[0m\n\u001b[0m\u001b[1;32m   3083\u001b[0m \u001b[0;34m\u001b[0m\u001b[0m\n\u001b[1;32m   3084\u001b[0m         \u001b[0;32mif\u001b[0m \u001b[0mtolerance\u001b[0m \u001b[0;32mis\u001b[0m \u001b[0;32mnot\u001b[0m \u001b[0;32mNone\u001b[0m\u001b[0;34m:\u001b[0m\u001b[0;34m\u001b[0m\u001b[0;34m\u001b[0m\u001b[0m\n",
      "\u001b[0;31mKeyError\u001b[0m: 0"
     ]
    }
   ],
   "source": [
    "bic_scraped = HouseCredit(bic[2]['link'],bic[2]['page']).total()"
   ]
  },
  {
   "cell_type": "code",
   "execution_count": null,
   "metadata": {},
   "outputs": [],
   "source": []
  }
 ],
 "metadata": {
  "kernelspec": {
   "display_name": "Python 3",
   "language": "python",
   "name": "python3"
  },
  "language_info": {
   "codemirror_mode": {
    "name": "ipython",
    "version": 3
   },
   "file_extension": ".py",
   "mimetype": "text/x-python",
   "name": "python",
   "nbconvert_exporter": "python",
   "pygments_lexer": "ipython3",
   "version": "3.8.6"
  },
  "toc": {
   "base_numbering": 1,
   "nav_menu": {},
   "number_sections": true,
   "sideBar": true,
   "skip_h1_title": false,
   "title_cell": "Table of Contents",
   "title_sidebar": "Contents",
   "toc_cell": false,
   "toc_position": {},
   "toc_section_display": true,
   "toc_window_display": false
  }
 },
 "nbformat": 4,
 "nbformat_minor": 4
}
