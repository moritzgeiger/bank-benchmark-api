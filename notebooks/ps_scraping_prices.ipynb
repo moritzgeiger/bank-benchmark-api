{
 "cells": [
  {
   "cell_type": "code",
   "execution_count": 1,
   "metadata": {
    "ExecuteTime": {
     "end_time": "2021-04-14T11:16:07.475498Z",
     "start_time": "2021-04-14T11:16:06.209181Z"
    }
   },
   "outputs": [],
   "source": [
    "import pandas as pd\n",
    "import numpy as np\n",
    "#import matplotlib as plt\n",
    "import requests\n",
    "import pdfplumber\n",
    "import re\n",
    "#import nltk\n",
    "import statistics\n",
    "from urllib.request import Request, urlopen\n",
    "from io import StringIO, BytesIO"
   ]
  },
  {
   "cell_type": "markdown",
   "metadata": {},
   "source": [
    "## Pdf urls and pages"
   ]
  },
  {
   "cell_type": "code",
   "execution_count": 2,
   "metadata": {
    "ExecuteTime": {
     "end_time": "2021-04-14T11:16:07.491925Z",
     "start_time": "2021-04-14T11:16:07.479341Z"
    }
   },
   "outputs": [],
   "source": [
    "abanca={1:{'link':'https://www.abanca.pt', 'page':None}, \n",
    "        2:{'link':'https://clientebancario.bportugal.pt/sites/default/files/precario/0170_/0170_PRE.pdf', 'page':6},\n",
    "        3:{'link':'https://storage.googleapis.com/bank_price_pdfs/1_all_products_210412130040.pdf', 'page':6}}\n",
    "\n",
    "bankinter={1:{'link':'https://www.bankinter.pt', 'page':None},\n",
    "           2:{'link':'https://clientebancario.bportugal.pt/sites/default/files/precario/0269_/0269_PRE.pdf', 'page':8},\n",
    "           3:{'link': 'https://storage.googleapis.com/bank_price_pdfs/2_all_products_210412130350.pdf', 'page':None, 'notes':'image file'}}\n",
    "\n",
    "bic={1:{'link':'https://www.bancobic.ao' ,'page':None},\n",
    "     2:{'link':'https://clientebancario.bportugal.pt/sites/default/files/precario/0079_/0079_PRE_0.pdf', 'page':8},\n",
    "     3:{'link':'https://storage.googleapis.com/bank_price_pdfs/3_all_products_210412130840.pdf', 'page':None, 'notes':'wrong file'}}\n",
    "\n",
    "bai={1:{'link':'https://www.bancobai.ao', 'page':None},\n",
    "     2:{'link':'https://clientebancario.bportugal.pt/sites/default/files/precario/0008_/0008_PRE.pdf', 'page':None, 'notes':'No housing credit products'},\n",
    "     3:{'link':'https://storage.googleapis.com/bank_price_pdfs/4_all_products_210412130952.pdf', 'page':None, 'notes':'No housing credit products'}}\n",
    "\n",
    "ctt={1:{'link':'https://www.bancoctt.pt/', 'page':None},\n",
    "     2:{'link':'https://clientebancario.bportugal.pt/sites/default/files/precario/0193_/0193_PRE.pdf', 'page':6},\n",
    "     3:{'link':'https://storage.googleapis.com/bank_price_pdfs/5_all_products_210412131014.pdf', 'page':6}}"
   ]
  },
  {
   "cell_type": "markdown",
   "metadata": {},
   "source": [
    "## Housing Credit Dictionary"
   ]
  },
  {
   "cell_type": "code",
   "execution_count": 3,
   "metadata": {
    "ExecuteTime": {
     "end_time": "2021-04-14T11:16:07.508372Z",
     "start_time": "2021-04-14T11:16:07.497309Z"
    }
   },
   "outputs": [],
   "source": [
    "house_credit_com = {'admin':['Comissões associadas a atos administrativos 4.1 Não realização da escritura',\n",
    "                             'Alteração do local da escritura',\n",
    "                             'Declarações de dívida',\n",
    "                             'Mudança de regime de crédito',\n",
    "                             'Declarações de dívida',\n",
    "                             'Pedido de 2ª via de Caderneta Predial',\n",
    "                             'Emissão de declarações não obrigatórias por lei',\n",
    "                             'Emissão de 2ª vias de Declaração para efeitos de IRS – Urgente',\n",
    "                             'Emissão de 2º vias de Declaração para efeitos de IRS',\n",
    "                             'Emissão de 2ª vias de faturas',\n",
    "                             'Declaração de Dívida para Fins Diversos',\n",
    "                             'Declaração de Encargos com Prestações'],\n",
    "                    'certificates':['Emolumentos do registo predial', 'registo predial',\n",
    "                                    'Certidão permanente on-line'],\n",
    "                    'debt_recovery':['Comissão de recuperação de valores em dívida', 'Prestação até 50.000 €',\n",
    "                                    'Prestação > 50.000 €', 'Comissão de recuperação de valores em dívida',\n",
    "                                    'Prestação > 50.000,00€', 'Prestação ≤ 50.000,00€'],\n",
    "                    'displacement':['Comissão de deslocação', 'Até 100 Kms', '101 a 250 Kms', '> 250 Kms '],\n",
    "                    'early_payment':['Comissão de reembolso antecipado parcial', 'Taxa fixa', 'Taxa variável', \n",
    "                                    'Taxa fixa', 'Comissão de reembolso antecipado total', 'Comissão de antecipação',\n",
    "                                    '(pré.aviso 7 dias)', 'Comissão de compra antecipada', '(pré-aviso 10 dias)',\n",
    "                                    'Comissão de Reembolso Antecipado Parcial',\n",
    "                                    'Comissão de reembolso antecipado total'],\n",
    "                    'evaluation':['Avaliação', 'Imóvel residencial', \n",
    "                                 'Garagens e arrecadações não anexas ao imóvel residencial', 'Avaliação do Imóvel'],\n",
    "                    'formalization':['Comissão de formalização', 'Formalização'],\n",
    "                    'process':['Processo', 'Abertura de Processo',\n",
    "                              'Desistência ou não conclusão do processo por motivos imputáveis ao cliente'],\n",
    "                    'inspections':['Vistorias', 'em caso de construção ou realização de obras'],\n",
    "                    'reanalysis':['Reanálise'],\n",
    "                    'settlement':['Comissão de Liquidação de Prestação', 'Liquidação de Prestação'],\n",
    "                    'solicitors_notary':['Emolumentos notariais', 'Solicitadoria', 'Notiário'],\n",
    "                    'statements':['Emissão de extratos de conta de empréstimos liquidados', 'extrato', 'extratos',\n",
    "                                  'extrato de conta', 'extrato mensal'],\n",
    "                    'taxes':['Imposto do Selo sobre concessão de crédito', 'imposto', 'imposto de selo', 'impostos'],\n",
    "                    'termination':['Cessação da posição contratual', 'cessação', 'rescisão', 'encerramento']}"
   ]
  },
  {
   "cell_type": "markdown",
   "metadata": {},
   "source": [
    "## Prices Scraping Function"
   ]
  },
  {
   "cell_type": "code",
   "execution_count": 4,
   "metadata": {
    "ExecuteTime": {
     "end_time": "2021-04-14T11:16:07.527537Z",
     "start_time": "2021-04-14T11:16:07.513108Z"
    }
   },
   "outputs": [],
   "source": [
    "def get_prices(pdf,page, dictionary):\n",
    "    doc = pdfplumber.open(pdf)\n",
    "    prod_df=pd.DataFrame(doc.pages[page].extract_table())\n",
    "    \n",
    "    def find_prices(df):\n",
    "        for x in range(df.shape[0]):\n",
    "            for y in range(df.shape[1]):\n",
    "                if 'Euros' in str(df[y][x]):\n",
    "                    return y\n",
    "    \n",
    "    def find_index(df,dictionary):\n",
    "        index_col=list()\n",
    "        for x in range(df.shape[0]):\n",
    "            for y in range(find_prices(df)):\n",
    "                if str(df[y][x])=='None' or str(df[y][x])=='' or 'Nota' in str(df[y][x]):\n",
    "                    pass\n",
    "                else:\n",
    "                    words = [word for word in str(df[y][x]).split(' ')]\n",
    "                    for word in words:\n",
    "                        for key in dictionary.keys():\n",
    "                            for item in dictionary[key]:\n",
    "                                if word in item:\n",
    "                                    index_col.append(y)\n",
    "\n",
    "        return int(statistics.mode(index_col))\n",
    "    \n",
    "    def clean_df(df):\n",
    "        for x in range(df.shape[0]):\n",
    "            for y in df.columns:\n",
    "                if str(df[y][x])=='' or str(df[y][x])=='None':\n",
    "                    df[y][x]=np.nan\n",
    "        return df.dropna(axis='columns', how='all').dropna(axis='rows', how='all')\n",
    "\n",
    "    \n",
    "    prices_col=find_prices(prod_df)\n",
    "    index_col=find_index(prod_df, house_credit_com)\n",
    "    \n",
    "    prices_df=pd.DataFrame()\n",
    "    prices_df['Commissions']=prod_df[index_col]\n",
    "    prices_df['Prices']=prod_df[prices_col]\n",
    "    \n",
    "    return clean_df(prices_df)\n",
    "\n",
    "def get_pdf(link):\n",
    "        remote = urlopen(Request(link)).read()\n",
    "        memory = BytesIO(remote)\n",
    "        return memory"
   ]
  },
  {
   "cell_type": "code",
   "execution_count": 5,
   "metadata": {
    "ExecuteTime": {
     "end_time": "2021-04-14T11:16:09.053466Z",
     "start_time": "2021-04-14T11:16:07.531420Z"
    }
   },
   "outputs": [
    {
     "data": {
      "text/html": [
       "<div>\n",
       "<style scoped>\n",
       "    .dataframe tbody tr th:only-of-type {\n",
       "        vertical-align: middle;\n",
       "    }\n",
       "\n",
       "    .dataframe tbody tr th {\n",
       "        vertical-align: top;\n",
       "    }\n",
       "\n",
       "    .dataframe thead th {\n",
       "        text-align: right;\n",
       "    }\n",
       "</style>\n",
       "<table border=\"1\" class=\"dataframe\">\n",
       "  <thead>\n",
       "    <tr style=\"text-align: right;\">\n",
       "      <th></th>\n",
       "      <th>Commissions</th>\n",
       "      <th>Prices</th>\n",
       "    </tr>\n",
       "  </thead>\n",
       "  <tbody>\n",
       "    <tr>\n",
       "      <th>0</th>\n",
       "      <td>NaN</td>\n",
       "      <td>Euros \\n(min/máx)</td>\n",
       "    </tr>\n",
       "    <tr>\n",
       "      <th>1</th>\n",
       "      <td>Avaliações - Fracções \\nAutónomas</td>\n",
       "      <td>250,00</td>\n",
       "    </tr>\n",
       "    <tr>\n",
       "      <th>2</th>\n",
       "      <td>Comissão de Reembolso \\nAntecipado Parcial\\n- ...</td>\n",
       "      <td>--\\n--</td>\n",
       "    </tr>\n",
       "    <tr>\n",
       "      <th>3</th>\n",
       "      <td>Comissão por restituição do \\nBem fora de praz...</td>\n",
       "      <td>--\\n--</td>\n",
       "    </tr>\n",
       "    <tr>\n",
       "      <th>4</th>\n",
       "      <td>Comissões relativas a actos \\nadministrativos:...</td>\n",
       "      <td>15,00\\n30,00</td>\n",
       "    </tr>\n",
       "    <tr>\n",
       "      <th>5</th>\n",
       "      <td>Comissão pela \\nRecuperação de Valores \\nem Dí...</td>\n",
       "      <td>12,00/\\n150,00</td>\n",
       "    </tr>\n",
       "    <tr>\n",
       "      <th>6</th>\n",
       "      <td>Rescisões Antecipadas / \\nAmortizações Totais\\...</td>\n",
       "      <td>--\\n--</td>\n",
       "    </tr>\n",
       "  </tbody>\n",
       "</table>\n",
       "</div>"
      ],
      "text/plain": [
       "                                         Commissions             Prices\n",
       "0                                                NaN  Euros \\n(min/máx)\n",
       "1                  Avaliações - Fracções \\nAutónomas             250,00\n",
       "2  Comissão de Reembolso \\nAntecipado Parcial\\n- ...             --\\n--\n",
       "3  Comissão por restituição do \\nBem fora de praz...             --\\n--\n",
       "4  Comissões relativas a actos \\nadministrativos:...       15,00\\n30,00\n",
       "5  Comissão pela \\nRecuperação de Valores \\nem Dí...     12,00/\\n150,00\n",
       "6  Rescisões Antecipadas / \\nAmortizações Totais\\...             --\\n--"
      ]
     },
     "execution_count": 5,
     "metadata": {},
     "output_type": "execute_result"
    }
   ],
   "source": [
    "doc=get_pdf(bankinter[2]['link'])\n",
    "prices_df=get_prices(doc, 17, house_credit_com)\n",
    "prices_df.reset_index(drop='index', inplace=True)\n",
    "prices_df"
   ]
  },
  {
   "cell_type": "markdown",
   "metadata": {},
   "source": [
    "## Responding function for each subprod"
   ]
  },
  {
   "cell_type": "code",
   "execution_count": 6,
   "metadata": {
    "ExecuteTime": {
     "end_time": "2021-04-14T11:16:09.064595Z",
     "start_time": "2021-04-14T11:16:09.056040Z"
    }
   },
   "outputs": [],
   "source": [
    "commissions={}\n",
    "for i in range(len(prices_df)):\n",
    "    if type(prices_df['Commissions'][i])==str:\n",
    "        if '\\n-' in prices_df['Commissions'][i]:\n",
    "            names=prices_df['Commissions'][i].split(sep='\\n-')\n",
    "            prices=['']+prices_df['Prices'][i].split(sep='\\n')\n",
    "            for name in names:\n",
    "                name=name.replace('\\n','')\n",
    "            for price in prices:\n",
    "                price=price.replace('/','')\n",
    "                price=price.replace('--','')\n",
    "            commissions.update({name: price for name, price in zip(names, prices)})\n",
    "        elif '\\n ' in prices_df['Commissions'][i]:\n",
    "            names=prices_df['Commissions'][i].split(sep='\\n ')\n",
    "            prices=['']+prices_df['Prices'][i].split(sep='\\n')\n",
    "            for name in names:\n",
    "                name=name.replace('\\n','')\n",
    "            for price in prices:\n",
    "                price=price.replace('/','')\n",
    "                price=price.replace('--','')\n",
    "            commissions.update({name: price for name, price in zip(names, prices)})\n",
    "        else:\n",
    "            name = prices_df['Commissions'][i]\n",
    "            price = prices_df['Prices'][i]\n",
    "            name = name.replace('\\n','')\n",
    "            name = name.replace('\\xa0','')\n",
    "            price = price.replace('--','')\n",
    "            price = price.replace('/','')\n",
    "            commissions.update({name: price})"
   ]
  },
  {
   "cell_type": "code",
   "execution_count": 7,
   "metadata": {
    "ExecuteTime": {
     "end_time": "2021-04-14T11:16:22.724362Z",
     "start_time": "2021-04-14T11:16:22.716014Z"
    }
   },
   "outputs": [
    {
     "data": {
      "text/plain": [
       "{'Avaliações - Fracções Autónomas': '250,00',\n",
       " 'Comissão de Reembolso \\nAntecipado Parcial': '',\n",
       " ' Taxa Variável': '--',\n",
       " ' Taxa Fixa': '--',\n",
       " 'Comissão por restituição do \\nBem fora de prazo:': '',\n",
       " ' Renda Mensal': '--',\n",
       " ' Renda Trimestral': '--',\n",
       " 'Comissões relativas a actos \\nadministrativos:': '',\n",
       " ' 2ªs vias de facturas / \\nrecibos': '15,00',\n",
       " ' IMI - Imposto Municipal \\nsobre Imóveis e Tarifas de \\nSaneamento': '30,00',\n",
       " 'Comissão pela Recuperação de Valores em Dívida': '12,00\\n150,00',\n",
       " 'Rescisões Antecipadas / \\nAmortizações Totais': ''}"
      ]
     },
     "execution_count": 7,
     "metadata": {},
     "output_type": "execute_result"
    }
   ],
   "source": [
    "commissions"
   ]
  },
  {
   "cell_type": "code",
   "execution_count": 2,
   "metadata": {},
   "outputs": [
    {
     "ename": "IndentationError",
     "evalue": "unindent does not match any outer indentation level (housecredit.py, line 57)",
     "output_type": "error",
     "traceback": [
      "Traceback \u001b[0;36m(most recent call last)\u001b[0m:\n",
      "  File \u001b[1;32m\"/Users/olgacravesana/.pyenv/versions/3.8.6/envs/lewagon/lib/python3.8/site-packages/IPython/core/interactiveshell.py\"\u001b[0m, line \u001b[1;32m3418\u001b[0m, in \u001b[1;35mrun_code\u001b[0m\n    exec(code_obj, self.user_global_ns, self.user_ns)\n",
      "\u001b[0;36m  File \u001b[0;32m\"<ipython-input-2-870707b37108>\"\u001b[0;36m, line \u001b[0;32m1\u001b[0;36m, in \u001b[0;35m<module>\u001b[0;36m\u001b[0m\n\u001b[0;31m    from housecredit import Housecredit\u001b[0m\n",
      "\u001b[0;36m  File \u001b[0;32m\"/Users/olgacravesana/code/moritzgeiger/bank-benchmark-api/notebooks/housecredit.py\"\u001b[0;36m, line \u001b[0;32m57\u001b[0m\n\u001b[0;31m    return clean_df(prices_df)\u001b[0m\n\u001b[0m                              ^\u001b[0m\n\u001b[0;31mIndentationError\u001b[0m\u001b[0;31m:\u001b[0m unindent does not match any outer indentation level\n"
     ]
    }
   ],
   "source": [
    "from housecredit import Housecredit"
   ]
  },
  {
   "cell_type": "code",
   "execution_count": null,
   "metadata": {},
   "outputs": [],
   "source": []
  }
 ],
 "metadata": {
  "kernelspec": {
   "display_name": "Python 3",
   "language": "python",
   "name": "python3"
  },
  "language_info": {
   "codemirror_mode": {
    "name": "ipython",
    "version": 3
   },
   "file_extension": ".py",
   "mimetype": "text/x-python",
   "name": "python",
   "nbconvert_exporter": "python",
   "pygments_lexer": "ipython3",
   "version": "3.7.7"
  },
  "toc": {
   "base_numbering": 1,
   "nav_menu": {},
   "number_sections": true,
   "sideBar": true,
   "skip_h1_title": false,
   "title_cell": "Table of Contents",
   "title_sidebar": "Contents",
   "toc_cell": false,
   "toc_position": {},
   "toc_section_display": true,
   "toc_window_display": false
  }
 },
 "nbformat": 4,
 "nbformat_minor": 4
}
