{
 "cells": [
  {
   "cell_type": "code",
   "execution_count": 1,
   "metadata": {
    "ExecuteTime": {
     "end_time": "2021-04-15T10:29:53.171507Z",
     "start_time": "2021-04-15T10:29:51.944848Z"
    }
   },
   "outputs": [],
   "source": [
    "import pandas as pd\n",
    "import numpy as np\n",
    "import requests\n",
    "import pdfplumber\n",
    "import re\n",
    "import statistics\n",
    "from urllib.request import Request, urlopen\n",
    "from io import StringIO, BytesIO"
   ]
  },
  {
   "cell_type": "markdown",
   "metadata": {},
   "source": [
    "## Pdf urls and pages"
   ]
  },
  {
   "cell_type": "code",
   "execution_count": 7,
   "metadata": {
    "ExecuteTime": {
     "end_time": "2021-04-15T10:31:17.288347Z",
     "start_time": "2021-04-15T10:31:17.276845Z"
    }
   },
   "outputs": [],
   "source": [
    "abanca={1:{'link':'https://www.abanca.pt', 'page':None}, \n",
    "        2:{'link':'https://clientebancario.bportugal.pt/sites/default/files/precario/0170_/0170_PRE.pdf', 'page':[6,7]},\n",
    "        3:{'link':'https://storage.googleapis.com/bank_price_pdfs/1_all_products_210412130040.pdf', 'page':[6]}}\n",
    "\n",
    "bankinter={1:{'link':'https://www.bankinter.pt', 'page':None},\n",
    "           2:{'link':'https://clientebancario.bportugal.pt/sites/default/files/precario/0269_/0269_PRE.pdf', 'page':[8,9,10,11,12,13,14,15,16,17]},\n",
    "           3:{'link': 'https://storage.googleapis.com/bank_price_pdfs/2_all_products_210412130350.pdf', 'page':[], 'notes':'image file'}}\n",
    "\n",
    "bic={1:{'link':'https://www.bancobic.ao' ,'page':None},\n",
    "     2:{'link':'https://clientebancario.bportugal.pt/sites/default/files/precario/0079_/0079_PRE_0.pdf', 'page':[7,8,9,10,12,13]},\n",
    "     3:{'link':'https://storage.googleapis.com/bank_price_pdfs/3_all_products_210412130840.pdf', 'page':[], 'notes':'wrong file'}}\n",
    "\n",
    "bai={1:{'link':'https://www.bancobai.ao', 'page':None},\n",
    "     2:{'link':'https://clientebancario.bportugal.pt/sites/default/files/precario/0008_/0008_PRE.pdf', 'page':[], 'notes':'No housing credit products'},\n",
    "     3:{'link':'https://storage.googleapis.com/bank_price_pdfs/4_all_products_210412130952.pdf', 'page':[], 'notes':'No housing credit products'}}\n",
    "\n",
    "ctt={1:{'link':'https://www.bancoctt.pt/', 'page':None},\n",
    "     2:{'link':'https://clientebancario.bportugal.pt/sites/default/files/precario/0193_/0193_PRE.pdf', 'page':[6]},\n",
    "     3:{'link':'https://storage.googleapis.com/bank_price_pdfs/5_all_products_210412131014.pdf', 'page':[6]}}"
   ]
  },
  {
   "cell_type": "markdown",
   "metadata": {},
   "source": [
    "## Housing Credit Dictionary"
   ]
  },
  {
   "cell_type": "code",
   "execution_count": 3,
   "metadata": {
    "ExecuteTime": {
     "end_time": "2021-04-15T10:29:53.204378Z",
     "start_time": "2021-04-15T10:29:53.192049Z"
    }
   },
   "outputs": [],
   "source": [
    "house_credit_com = {'admin':['Comissões associadas a atos administrativos 4.1 Não realização da escritura',\n",
    "                             'Alteração do local da escritura',\n",
    "                             'Declarações de dívida',\n",
    "                             'Mudança de regime de crédito',\n",
    "                             'Declarações de dívida',\n",
    "                             'Pedido de 2ª via de Caderneta Predial',\n",
    "                             'Emissão de declarações não obrigatórias por lei',\n",
    "                             'Emissão de 2ª vias de Declaração para efeitos de IRS – Urgente',\n",
    "                             'Emissão de 2º vias de Declaração para efeitos de IRS',\n",
    "                             'Emissão de 2ª vias de faturas',\n",
    "                             'Declaração de Dívida para Fins Diversos',\n",
    "                             'Declaração de Encargos com Prestações'],\n",
    "                    'certificates':['Emolumentos do registo predial', 'registo predial',\n",
    "                                    'Certidão permanente on-line'],\n",
    "                    'debt_recovery':['Comissão de recuperação de valores em dívida', 'Prestação até 50.000 €',\n",
    "                                    'Prestação > 50.000 €', 'Comissão de recuperação de valores em dívida',\n",
    "                                    'Prestação > 50.000,00€', 'Prestação ≤ 50.000,00€'],\n",
    "                    'displacement':['Comissão de deslocação', 'Até 100 Kms', '101 a 250 Kms', '> 250 Kms '],\n",
    "                    'early_payment':['Comissão de reembolso antecipado parcial', 'Taxa fixa', 'Taxa variável', \n",
    "                                    'Taxa fixa', 'Comissão de reembolso antecipado total', 'Comissão de antecipação',\n",
    "                                    '(pré.aviso 7 dias)', 'Comissão de compra antecipada', '(pré-aviso 10 dias)',\n",
    "                                    'Comissão de Reembolso Antecipado Parcial',\n",
    "                                    'Comissão de reembolso antecipado total'],\n",
    "                    'evaluation':['Avaliação', 'Imóvel residencial', \n",
    "                                 'Garagens e arrecadações não anexas ao imóvel residencial', 'Avaliação do Imóvel'],\n",
    "                    'formalization':['Comissão de formalização', 'Formalização'],\n",
    "                    'process':['Processo', 'Abertura de Processo',\n",
    "                              'Desistência ou não conclusão do processo por motivos imputáveis ao cliente'],\n",
    "                    'inspections':['Vistorias', 'em caso de construção ou realização de obras'],\n",
    "                    'reanalysis':['Reanálise'],\n",
    "                    'settlement':['Comissão de Liquidação de Prestação', 'Liquidação de Prestação'],\n",
    "                    'solicitors_notary':['Emolumentos notariais', 'Solicitadoria', 'Notiário'],\n",
    "                    'statements':['Emissão de extratos de conta de empréstimos liquidados', 'extrato', 'extratos',\n",
    "                                  'extrato de conta', 'extrato mensal'],\n",
    "                    'taxes':['Imposto do Selo sobre concessão de crédito', 'imposto', 'imposto de selo', 'impostos'],\n",
    "                    'termination':['Cessação da posição contratual', 'cessação', 'rescisão', 'encerramento']}"
   ]
  },
  {
   "cell_type": "markdown",
   "metadata": {},
   "source": [
    "## Housing Credit Prices Scraping Function"
   ]
  },
  {
   "cell_type": "code",
   "execution_count": 4,
   "metadata": {
    "ExecuteTime": {
     "end_time": "2021-04-15T10:29:53.241660Z",
     "start_time": "2021-04-15T10:29:53.210210Z"
    }
   },
   "outputs": [],
   "source": [
    "def get_df(pdf,page, dictionary):\n",
    "    doc = pdfplumber.open(pdf)\n",
    "    prod_df=pd.DataFrame(doc.pages[page].extract_table())\n",
    "    \n",
    "    prices_col=find_prices(prod_df)\n",
    "    index_col=find_index(prod_df, house_credit_com)\n",
    "    \n",
    "    prices_df=pd.DataFrame()\n",
    "    prices_df['Commissions']=prod_df[index_col]\n",
    "    prices_df['Prices']=prod_df[prices_col]\n",
    "    \n",
    "    return clean_df(prices_df)\n",
    "    \n",
    "def find_prices(df):\n",
    "    col=''\n",
    "    for x in range(df.shape[0]):\n",
    "        for y in range(df.shape[1]):\n",
    "            if 'Euros' in str(df[y][x]):\n",
    "                col = y\n",
    "    if col=='':\n",
    "        col=3\n",
    "    return col\n",
    "\n",
    "def find_index(df,dictionary):\n",
    "    index_col=list()\n",
    "    for x in range(df.shape[0]):\n",
    "        for y in range(find_prices(df)):\n",
    "            if str(df[y][x])=='None' or str(df[y][x])=='' or 'Nota' in str(df[y][x]):\n",
    "                pass\n",
    "            else:\n",
    "                words = [word for word in str(df[y][x]).split(' ')]\n",
    "                for word in words:\n",
    "                    for key in dictionary.keys():\n",
    "                        for item in dictionary[key]:\n",
    "                            if word in item:\n",
    "                                index_col.append(y)\n",
    "    return int(statistics.mode(index_col))\n",
    "\n",
    "def clean_df(df):\n",
    "    for x in range(df.shape[0]):\n",
    "        for y in df.columns:\n",
    "            if str(df[y][x])=='' or str(df[y][x])=='None':\n",
    "                df[y][x]=np.nan\n",
    "    return df.dropna(axis='columns', how='all').dropna(axis='rows', how='all')\n",
    "\n",
    "\n",
    "def get_pdf(link):\n",
    "        remote = urlopen(Request(link)).read()\n",
    "        memory = BytesIO(remote)\n",
    "        return memory\n",
    "\n",
    "\n",
    "def scrape_page(url, page, dictionary):\n",
    "    doc=get_pdf(url)\n",
    "    prices_df=get_df(doc, page, dictionary)\n",
    "    prices_df.reset_index(drop='index', inplace=True)\n",
    "    return prices_df\n",
    "\n",
    "def clean_prices(df):\n",
    "    commissions={}\n",
    "    for i in range(len(df)):\n",
    "        if str(df['Prices'][i])=='nan':\n",
    "            df['Prices'][i]='0'     \n",
    "        else:# re.search(r'\\d+,\\d{2}/\\d+,\\d{2}', df['Prices'][i]):\n",
    "            df['Prices'][i]='&'.join(re.findall(r'\\d+,\\d{2}', df['Prices'][i]))\n",
    "        if df['Prices'][i]=='':\n",
    "            df['Prices'][i]='0'\n",
    "        if type(df['Commissions'][i])==str:\n",
    "            if 'Nota' in df['Commissions'][i]:\n",
    "                pass\n",
    "            elif '\\n-' in df['Commissions'][i]:\n",
    "                names=df['Commissions'][i].split(sep='\\n-')\n",
    "                prices=['']+df['Prices'][i].split(sep='&')\n",
    "                names=[n.replace('\\n', '') for n in names]\n",
    "                #prices=[p.replace('','0') for p in prices]\n",
    "                commissions.update({names[0]:{}})\n",
    "                commissions[names[0]].update({name: price for name, price in zip(names[1:], prices[1:])})\n",
    "            elif '\\n ' in df['Commissions'][i]:\n",
    "                names=df['Commissions'][i].split(sep='\\n ')\n",
    "                prices=['']+df['Prices'][i].split(sep='&')\n",
    "                names=[n.replace('\\n', '') for n in names]\n",
    "                #prices=[p.replace('','0') for p in prices]\n",
    "                commissions.update({names[0]:{}})\n",
    "                commissions[names[0]].update({name: price for name, price in zip(names[1:], prices[1:])})\n",
    "            elif len(re.findall(r'\\n[0-9]', df['Commissions'][i]))>0:\n",
    "                names=re.split(r'\\n[0-9]', df['Commissions'][i])\n",
    "                prices=['']+df['Prices'][i].split(sep='&')\n",
    "                names=[n.replace('\\n', '') for n in names]\n",
    "                #prices=[p.replace('','0') for p in prices]\n",
    "                commissions.update({names[0]:{}})\n",
    "                commissions[names[0]].update({name: price for name, price in zip(names[1:], prices[1:])})\n",
    "            else:\n",
    "                name = df['Commissions'][i]\n",
    "                price = df['Prices'][i]\n",
    "                if '&' in price:\n",
    "                    price=df['Prices'][i].split(sep='&')[-1]\n",
    "                name = name.replace('\\n','').replace('\\xa0','')\n",
    "                commissions.update({name: price})\n",
    "    return commissions\n",
    "\n",
    "def scrape_all(url, pages, dictionary):\n",
    "    house_cred={}\n",
    "    if len(pages)>0:\n",
    "        for page in pages:\n",
    "            df=scrape_page(url, page, dictionary)\n",
    "            house_cred.update({f'page {page}': clean_prices(df)})\n",
    "        result=house_cred\n",
    "    else:\n",
    "        result='No housing credit product found in this bank'\n",
    "    return result"
   ]
  },
  {
   "cell_type": "code",
   "execution_count": 9,
   "metadata": {
    "ExecuteTime": {
     "end_time": "2021-04-15T11:44:59.292583Z",
     "start_time": "2021-04-15T11:44:46.037486Z"
    }
   },
   "outputs": [
    {
     "data": {
      "text/plain": [
       "{'page 8': {'Comissão de Estudo do Crédito Habitação': '260,00',\n",
       "  'Comissão de Avaliação': '220,00',\n",
       "  'Comissão de Formalização do Crédito Habitação': '120,00',\n",
       "  'Comissão de Contrato do Crédito Habitação': '90,00',\n",
       "  'Comissão de Tramitação': '90,00',\n",
       "  'Comissão de Fiança': '120,00',\n",
       "  'Comissão de Solicitadoria': '250,00',\n",
       "  'Comissão de Vistoria': '150,00'},\n",
       " 'page 9': {'Comissão de Processamento de Prestação': '2,50',\n",
       "  'Comissão pela Recuperação de Valores em Dívida': '150,00',\n",
       "  'Comissão de Penalização por Amortização Antecipada Parcial no Crédito Habitação:': {'   - Taxa Variável': '0'},\n",
       "  'Comissão de Penalização por Amortização Antecipada Total no Crédito Habitação:': {'   - Taxa Variável': '0'}},\n",
       " 'page 10': {'Comissão de Estudo e Análise (Arrangement Fee)': '240,00',\n",
       "  'Comissão de Avaliação': '330,00',\n",
       "  'Comissão de Tramitação': '90,00',\n",
       "  'Comissão de Solicitadoria': '250,00',\n",
       "  'Comissão de Vistoria': '225,00'},\n",
       " 'page 11': {'Comissão de Processamento de Prestação': '2,50',\n",
       "  'Comissão pela Recuperação de Valores em Dívida': '150,00',\n",
       "  'Comissão de Penalização por Amortização Antecipada Parcial no Crédito Habitação:': {'   - Taxa Variável': '0'},\n",
       "  'Comissão de Penalização por Amortização Antecipada Total no Crédito Habitação:': {'   - Taxa Variável': '0'}},\n",
       " 'page 12': {'Comissão de Estudo do Home Equity': '220,00',\n",
       "  'Comissão de Formalização do Home Equity': '200,00',\n",
       "  'Comissão de Processamento de Prestação': '2,50',\n",
       "  'Comissão pela Recuperação de Valores em Dívida': '150,00',\n",
       "  'Comissão de Penalização por Amortização Antecipada Parcial:': {'   - Taxa Variável': '0'},\n",
       "  'Comissão de Penalização por Amortização Antecipada Total:': {'   - Taxa Variável': '0'}},\n",
       " 'page 13': {'Comissão de Estudo e Análise (Arrangement Fee)': '240,00',\n",
       "  'Comissão de Formalização do Home Equity': '200,00',\n",
       "  'Comissão de Processamento de Prestação': '2,50',\n",
       "  'Comissão pela Recuperação de Valores em Dívida': '150,00',\n",
       "  'Comissão de Penalização por Amortização Antecipada Parcial:': {'   - Taxa Variável': '0'},\n",
       "  'Comissão de Penalização por Amortização Antecipada Total:': {'   - Taxa Variável': '0'}},\n",
       " 'page 14': {'Comissão de Estudo do Home Equity': '220,00',\n",
       "  'Comissão de Avaliação': '220,00',\n",
       "  'Comissão de Tramitação': '90,00',\n",
       "  'Comissão de Fiança': '120,00',\n",
       "  'Comissão de Abertura de Crédito': '0',\n",
       "  'Comissão de Solicitadoria': '250,00',\n",
       "  'Comissão de Processamento de Prestação': '2,50'},\n",
       " 'page 15': {'Comissão pela Recuperação de Valores em Dívida': '150,00',\n",
       "  'Comissão de Penalização por Amortização Antecipada Parcial:': {'   - Taxa Variável': '0'},\n",
       "  'Comissão de Penalização por Amortização Antecipada Total:': {'   - Taxa Variável': '0'}},\n",
       " 'page 16': {'Comissão pela Recuperação de Valores em Dívida': '150,00',\n",
       "  'Comissão de Penalização por Amortização Antecipada Parcial no Crédito Habitação:': {'   - Taxa Variável': '0'},\n",
       "  'Comissão de Penalização por Amortização Antecipada Total no Crédito Habitação:': {'   - Taxa Variável': '0'}},\n",
       " 'page 17': {'Avaliações - Fracções Autónomas': '250,00',\n",
       "  'Comissão de Reembolso Antecipado Parcial': {' Taxa Variável': '0'},\n",
       "  'Comissão por restituição do Bem fora de prazo:': {' Renda Mensal': '0'},\n",
       "  'Comissões relativas a actos administrativos:': {' 2ªs vias de facturas / recibos': '15,00',\n",
       "   ' IMI - Imposto Municipal sobre Imóveis e Tarifas de Saneamento': '30,00'},\n",
       "  'Comissão pela Recuperação de Valores em Dívida': '150,00',\n",
       "  'Rescisões Antecipadas / Amortizações Totais': {' Taxa Variável': '0'}}}"
      ]
     },
     "execution_count": 9,
     "metadata": {},
     "output_type": "execute_result"
    }
   ],
   "source": [
    "url=bankinter[2]['link']\n",
    "pages=bankinter[2]['page']\n",
    "dictionary=house_credit_com\n",
    "scrape_all(url, pages, dictionary)"
   ]
  },
  {
   "cell_type": "code",
   "execution_count": null,
   "metadata": {},
   "outputs": [],
   "source": []
  }
 ],
 "metadata": {
  "kernelspec": {
   "display_name": "Python 3",
   "language": "python",
   "name": "python3"
  },
  "language_info": {
   "codemirror_mode": {
    "name": "ipython",
    "version": 3
   },
   "file_extension": ".py",
   "mimetype": "text/x-python",
   "name": "python",
   "nbconvert_exporter": "python",
   "pygments_lexer": "ipython3",
   "version": "3.7.7"
  },
  "toc": {
   "base_numbering": 1,
   "nav_menu": {},
   "number_sections": true,
   "sideBar": true,
   "skip_h1_title": false,
   "title_cell": "Table of Contents",
   "title_sidebar": "Contents",
   "toc_cell": false,
   "toc_position": {},
   "toc_section_display": true,
   "toc_window_display": false
  }
 },
 "nbformat": 4,
 "nbformat_minor": 4
}
