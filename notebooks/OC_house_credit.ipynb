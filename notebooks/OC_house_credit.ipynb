{
 "cells": [
  {
   "cell_type": "code",
   "execution_count": 51,
   "metadata": {},
   "outputs": [
    {
     "name": "stdout",
     "output_type": "stream",
     "text": [
      "The autoreload extension is already loaded. To reload it, use:\n",
      "  %reload_ext autoreload\n"
     ]
    }
   ],
   "source": [
    "%load_ext autoreload\n",
    "%autoreload 2 \n",
    "import pandas as pd\n",
    "import numpy as np\n",
    "import pdfplumber\n",
    "import re\n",
    "import nltk\n",
    "from urllib.parse import urljoin, quote_plus, quote, urlencode\n",
    "from urllib.request import Request, urlopen\n",
    "from io import StringIO, BytesIO\n",
    "from housecredit import HouseCredit\n",
    "from scraping import DemandDeposit\n",
    "import statistics\n"
   ]
  },
  {
   "cell_type": "code",
   "execution_count": null,
   "metadata": {},
   "outputs": [],
   "source": []
  },
  {
   "cell_type": "code",
   "execution_count": 71,
   "metadata": {},
   "outputs": [],
   "source": [
    "house_credit_com = {'admin':['Comissões associadas a atos administrativos 4.1 Não realização da escritura',\n",
    "                             'Alteração do local da escritura',\n",
    "                             'Declarações de dívida',\n",
    "                             'Mudança de regime de crédito',\n",
    "                             'Declarações de dívida',\n",
    "                             'Pedido de 2ª via de Caderneta Predial',\n",
    "                             'Emissão de declarações não obrigatórias por lei',\n",
    "                             'Emissão de 2ª vias de Declaração para efeitos de IRS – Urgente',\n",
    "                             'Emissão de 2º vias de Declaração para efeitos de IRS',\n",
    "                             'Emissão de 2ª vias de faturas',\n",
    "                             'Declaração de Dívida para Fins Diversos',\n",
    "                             'Declaração de Encargos com Prestações'],\n",
    "                    'certificates':['Emolumentos do registo predial', 'registo predial',\n",
    "                                    'Certidão permanente on-line'],\n",
    "                    'debt_recovery':['Comissão de recuperação de valores em dívida', 'Prestação até 50.000 €',\n",
    "                                    'Prestação > 50.000 €', 'Comissão de recuperação de valores em dívida',\n",
    "                                    'Prestação > 50.000,00€', 'Prestação ≤ 50.000,00€'],\n",
    "                    'displacement':['Comissão de deslocação', 'Até 100 Kms', '101 a 250 Kms', '> 250 Kms '],\n",
    "                    'early_payment':['Comissão de reembolso antecipado parcial', 'Taxa fixa', 'Taxa variável', \n",
    "                                    'Taxa fixa', 'Comissão de reembolso antecipado total', 'Comissão de antecipação',\n",
    "                                    '(pré.aviso 7 dias)', 'Comissão de compra antecipada', '(pré-aviso 10 dias)',\n",
    "                                    'Comissão de Reembolso Antecipado Parcial',\n",
    "                                    'Comissão de reembolso antecipado total'],\n",
    "                    'evaluation':['Avaliação', 'Imóvel residencial', \n",
    "                                 'Garagens e arrecadações não anexas ao imóvel residencial', 'Avaliação do Imóvel'],\n",
    "                    'formalization':['Comissão de formalização', 'Formalização'],\n",
    "                    'process':['Processo', 'Abertura de Processo',\n",
    "                              'Desistência ou não conclusão do processo por motivos imputáveis ao cliente'],\n",
    "                    'inspections':['Vistorias', 'em caso de construção ou realização de obras'],\n",
    "                    'reanalysis':['Reanálise'],\n",
    "                    'settlement':['Comissão de Liquidação de Prestação', 'Liquidação de Prestação'],\n",
    "                    'solicitors_notary':['Emolumentos notariais', 'Solicitadoria', 'Notiário'],\n",
    "                    'statements':['Emissão de extratos de conta de empréstimos liquidados', 'extrato', 'extratos',\n",
    "                                  'extrato de conta', 'extrato mensal'],\n",
    "                    'taxes':['Imposto do Selo sobre concessão de crédito', 'imposto', 'imposto de selo', 'impostos'],\n",
    "                    'termination':['Cessação da posição contratual', 'cessação', 'rescisão', 'encerramento']}\n",
    "\n",
    "def get_prices(pdf,page, dictionary):\n",
    "    doc = pdfplumber.open(pdf)\n",
    "    if len(page)==1:\n",
    "        prod_df=pd.DataFrame(doc.pages[page[0]].extract_table())\n",
    "        def find_prices(df):\n",
    "            for x in range(df.shape[0]):\n",
    "                for y in range(df.shape[1]):\n",
    "                    if 'Euros' in str(df[y][x]):\n",
    "                        return y\n",
    "        def find_index(df,dictionary):\n",
    "            index_col=list()\n",
    "            for x in range(df.shape[0]):\n",
    "                for y in range(find_prices(df)):\n",
    "                    if str(df[y][x])=='None' or str(df[y][x])=='' or 'Nota' in str(df[y][x]):\n",
    "                        pass\n",
    "                    else:\n",
    "                        words = [word for word in str(df[y][x]).split(' ')]\n",
    "                        for word in words:\n",
    "                            for key in dictionary.keys():\n",
    "                                for item in dictionary[key]:\n",
    "                                    if word in item:\n",
    "                                        index_col.append(y)\n",
    "            return int(statistics.mode(index_col))\n",
    "        def clean_df(df):\n",
    "            for x in range(df.shape[0]):\n",
    "                for y in df.columns:\n",
    "                    if str(df[y][x])=='' or str(df[y][x])=='None':\n",
    "                        df[y][x]=np.nan\n",
    "            return df.dropna(axis='columns', how='all').dropna(axis='rows', how='all')\n",
    "        prices_col=find_prices(prod_df)\n",
    "        index_col=find_index(prod_df, house_credit_com)\n",
    "        prices_df=pd.DataFrame()\n",
    "        prices_df['Commissions']=prod_df[index_col]\n",
    "        prices_df['Prices']=prod_df[prices_col]\n",
    "        return clean_df(prices_df)\n",
    "def get_pdf(link):\n",
    "        remote = urlopen(Request(link)).read()\n",
    "        memory = BytesIO(remote)\n",
    "        return memory\n",
    "def commission (output):\n",
    "    prices_df = output\n",
    "    commissions={}\n",
    "    for i in range(len(prices_df)):\n",
    "        if type(prices_df['Commissions'][i])==str:\n",
    "            print(prices_df['Commissions'][i])\n",
    "            if '\\n-' in prices_df['Commissions'][i]:\n",
    "                names=prices_df['Commissions'][i].split(sep='\\n-')\n",
    "                prices=['']+prices_df['Prices'][i].split(sep='\\n')\n",
    "                for name in names:\n",
    "                    name=name.replace('\\n','')\n",
    "                for price in prices:\n",
    "                    price=price.replace('/','')\n",
    "                    price=price.replace('--','')\n",
    "                return commissions.update({name: price for name, price in zip(names, prices)})\n",
    "            elif '\\n ' in prices_df['Commissions'][i]:\n",
    "                names=prices_df['Commissions'][i].split(sep='\\n ')\n",
    "                prices=['']+prices_df['Prices'][i].split(sep='\\n')\n",
    "                for name in names:\n",
    "                    name=name.replace('\\n','')\n",
    "                for price in prices:\n",
    "                    price=price.replace('/','')\n",
    "                    price=price.replace('--','')\n",
    "                return commissions.update({name: price for name, price in zip(names, prices)})\n",
    "            else:\n",
    "                name = prices_df['Commissions'][i]\n",
    "                price = prices_df['Prices'][i]\n",
    "                name = name.replace('\\n','')\n",
    "                name = name.replace('\\xa0','')\n",
    "                price = str(price).replace('--','')\n",
    "                price = str(price).replace('/','')\n",
    "                return commissions.update({name: price})\n",
    "                "
   ]
  },
  {
   "cell_type": "code",
   "execution_count": 76,
   "metadata": {},
   "outputs": [],
   "source": [
    "def output(url, page, dictionary):\n",
    "    doc=get_pdf(url)\n",
    "    prices_df=get_prices(doc, page, dictionary)\n",
    "    prices_df.reset_index(drop='index', inplace=True)\n",
    "    return prices_df"
   ]
  },
  {
   "cell_type": "code",
   "execution_count": 77,
   "metadata": {},
   "outputs": [],
   "source": [
    "prices_df=output('https://clientebancario.bportugal.pt/sites/default/files/precario/0193_/0193_PRE.pdf',[6], house_credit_com )"
   ]
  },
  {
   "cell_type": "code",
   "execution_count": 74,
   "metadata": {},
   "outputs": [
    {
     "name": "stdout",
     "output_type": "stream",
     "text": [
      "2.1. Crédito à habitação e outros créditos hipotecários\n"
     ]
    }
   ],
   "source": [
    "commission(output)"
   ]
  },
  {
   "cell_type": "code",
   "execution_count": 78,
   "metadata": {},
   "outputs": [
    {
     "ename": "AttributeError",
     "evalue": "'float' object has no attribute 'replace'",
     "output_type": "error",
     "traceback": [
      "\u001b[0;31m---------------------------------------------------------------------------\u001b[0m",
      "\u001b[0;31mAttributeError\u001b[0m                            Traceback (most recent call last)",
      "\u001b[0;32m<ipython-input-78-63db0b8dd454>\u001b[0m in \u001b[0;36m<module>\u001b[0;34m\u001b[0m\n\u001b[1;32m     25\u001b[0m             \u001b[0mname\u001b[0m \u001b[0;34m=\u001b[0m \u001b[0mname\u001b[0m\u001b[0;34m.\u001b[0m\u001b[0mreplace\u001b[0m\u001b[0;34m(\u001b[0m\u001b[0;34m'\\n'\u001b[0m\u001b[0;34m,\u001b[0m\u001b[0;34m''\u001b[0m\u001b[0;34m)\u001b[0m\u001b[0;34m\u001b[0m\u001b[0;34m\u001b[0m\u001b[0m\n\u001b[1;32m     26\u001b[0m             \u001b[0mname\u001b[0m \u001b[0;34m=\u001b[0m \u001b[0mname\u001b[0m\u001b[0;34m.\u001b[0m\u001b[0mreplace\u001b[0m\u001b[0;34m(\u001b[0m\u001b[0;34m'\\xa0'\u001b[0m\u001b[0;34m,\u001b[0m\u001b[0;34m''\u001b[0m\u001b[0;34m)\u001b[0m\u001b[0;34m\u001b[0m\u001b[0;34m\u001b[0m\u001b[0m\n\u001b[0;32m---> 27\u001b[0;31m             \u001b[0mprice\u001b[0m \u001b[0;34m=\u001b[0m \u001b[0mprice\u001b[0m\u001b[0;34m.\u001b[0m\u001b[0mreplace\u001b[0m\u001b[0;34m(\u001b[0m\u001b[0;34m'--'\u001b[0m\u001b[0;34m,\u001b[0m\u001b[0;34m''\u001b[0m\u001b[0;34m)\u001b[0m\u001b[0;34m\u001b[0m\u001b[0;34m\u001b[0m\u001b[0m\n\u001b[0m\u001b[1;32m     28\u001b[0m             \u001b[0mprice\u001b[0m \u001b[0;34m=\u001b[0m \u001b[0mprice\u001b[0m\u001b[0;34m.\u001b[0m\u001b[0mreplace\u001b[0m\u001b[0;34m(\u001b[0m\u001b[0;34m'/'\u001b[0m\u001b[0;34m,\u001b[0m\u001b[0;34m''\u001b[0m\u001b[0;34m)\u001b[0m\u001b[0;34m\u001b[0m\u001b[0;34m\u001b[0m\u001b[0m\n\u001b[1;32m     29\u001b[0m             \u001b[0mcommissions\u001b[0m\u001b[0;34m.\u001b[0m\u001b[0mupdate\u001b[0m\u001b[0;34m(\u001b[0m\u001b[0;34m{\u001b[0m\u001b[0mname\u001b[0m\u001b[0;34m:\u001b[0m \u001b[0mprice\u001b[0m\u001b[0;34m}\u001b[0m\u001b[0;34m)\u001b[0m\u001b[0;34m\u001b[0m\u001b[0;34m\u001b[0m\u001b[0m\n",
      "\u001b[0;31mAttributeError\u001b[0m: 'float' object has no attribute 'replace'"
     ]
    }
   ],
   "source": [
    "commissions={}\n",
    "for i in range(len(prices_df)):\n",
    "    if type(prices_df['Commissions'][i])==str:\n",
    "        if '\\n-' in prices_df['Commissions'][i]:\n",
    "            names=prices_df['Commissions'][i].split(sep='\\n-')\n",
    "            prices=['']+prices_df['Prices'][i].split(sep='\\n')\n",
    "            for name in names:\n",
    "                name=name.replace('\\n','')\n",
    "            for price in prices:\n",
    "                price=price.replace('/','')\n",
    "                price=price.replace('--','')\n",
    "            commissions.update({name: price for name, price in zip(names, prices)})\n",
    "        elif '\\n ' in prices_df['Commissions'][i]:\n",
    "            names=prices_df['Commissions'][i].split(sep='\\n ')\n",
    "            prices=['']+prices_df['Prices'][i].split(sep='\\n')\n",
    "            for name in names:\n",
    "                name=name.replace('\\n','')\n",
    "            for price in prices:\n",
    "                price=price.replace('/','')\n",
    "                price=price.replace('--','')\n",
    "            commissions.update({name: price for name, price in zip(names, prices)})\n",
    "        else:\n",
    "            name = prices_df['Commissions'][i]\n",
    "            price = prices_df['Prices'][i]\n",
    "            name = name.replace('\\n','')\n",
    "            name = name.replace('\\xa0','')\n",
    "            price = price.replace('--','')\n",
    "            price = price.replace('/','')\n",
    "            commissions.update({name: price})"
   ]
  },
  {
   "cell_type": "code",
   "execution_count": null,
   "metadata": {},
   "outputs": [],
   "source": []
  }
 ],
 "metadata": {
  "kernelspec": {
   "display_name": "Python 3",
   "language": "python",
   "name": "python3"
  },
  "language_info": {
   "codemirror_mode": {
    "name": "ipython",
    "version": 3
   },
   "file_extension": ".py",
   "mimetype": "text/x-python",
   "name": "python",
   "nbconvert_exporter": "python",
   "pygments_lexer": "ipython3",
   "version": "3.8.6"
  },
  "toc": {
   "base_numbering": 1,
   "nav_menu": {},
   "number_sections": true,
   "sideBar": true,
   "skip_h1_title": false,
   "title_cell": "Table of Contents",
   "title_sidebar": "Contents",
   "toc_cell": false,
   "toc_position": {},
   "toc_section_display": true,
   "toc_window_display": false
  }
 },
 "nbformat": 4,
 "nbformat_minor": 4
}
