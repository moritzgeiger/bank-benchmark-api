{
 "cells": [
  {
   "cell_type": "code",
   "execution_count": 8,
   "metadata": {},
   "outputs": [
    {
     "name": "stdout",
     "output_type": "stream",
     "text": [
      "The autoreload extension is already loaded. To reload it, use:\n",
      "  %reload_ext autoreload\n"
     ]
    }
   ],
   "source": [
    "%load_ext autoreload\n",
    "%autoreload 2 \n",
    "import pandas as pd\n",
    "import numpy as np\n",
    "import pdfplumber\n",
    "import re\n",
    "import nltk\n",
    "from urllib.parse import urljoin, quote_plus, quote, urlencode\n",
    "from urllib.request import Request, urlopen\n",
    "from io import StringIO, BytesIO\n",
    "from housecredit import HouseCredit\n",
    "from scraping import DemandDeposit"
   ]
  },
  {
   "cell_type": "code",
   "execution_count": 11,
   "metadata": {
    "scrolled": false
   },
   "outputs": [
    {
     "data": {
      "text/plain": [
       "['Entrada em vigor: 21-Dez-2020    2.',\n",
       " 'OPERAÇÕES DE CRÉDITO (PARTICULARES)                                                                                 ÍNDICE  2.1 Crédito à habitação e outros créditos hipotecários    Comissões  Acresce    Valor  Outras condições  Em %  Euros (Mín/Máx)  Imposto  anual  Produto: Crédito Habitação Regime Geral e Regime Deficientes.',\n",
       " 'Caracterização do produto: Crédito à habitação com garantia hipotecária destinado à aquisição, construção e realização de obras em  habitação própria e permanente, secundária ou para arrendamento (no Regime Deficientes só habitação própria e permanente) ou à  aquisição ou manutenção de direitos de propriedade sobre terrenos ou edifícios já existentes ou projetados.',\n",
       " 'Comissões iniciais  1.',\n",
       " 'Reanálise  nan  250,00   nan  IVA – 23%  Nota (10)  0,00 no Regime  2.',\n",
       " 'Comissão de formalização  nan  500,00  nan  IS – 4%  Deficientes  3.',\n",
       " 'Avaliação        Valor devido  3.1  Imóvel residencial  nan  275,00  nan  IVA – 23%  independentemente da  3.2  Garagens e arrecadações não anexas ao  nan  130,00  nan  contratação  imóvel residencial  4.',\n",
       " 'Comissões associadas a atos  administrativos    nan  nan  IVA – 23%  Vide nota (15)  4.1  Não realização da escritura  10,00  4.2  Alteração do local da escritura  50,00  Comissões durante a vigência do contrato  5.',\n",
       " 'Comissão de reembolso antecipado parcial        Pré-aviso de 7 dias úteis  5.1  Taxa fixa  2,00%  nan  nan  IS – 4%  Vide nota (2)  5.2  Taxa variável   0,50%  nan  nan  6.',\n",
       " 'Comissão de recuperação de valores em        dívida         IS – 4%  Vide nota (12)  6.1  Prestação até 50.000 €  4,00%  (12,00/150,00)  nan  6.2  Prestação > 50.000 €  0,50%  nan  nan  7.',\n",
       " 'Comissões  associadas  a  atos          administrativos           Vide nota (4)  7.1  Declarações de dívida  nan  50,00  nan  IVA – 23%  7.2  Mudança de regime de crédito  nan  0,00  nan  nan  8.',\n",
       " 'Vistorias (andamento de obras)  Valor devido  Só se aplica se a finalidade for para construção ou  nan  210,00  nan  IVA – 23%  independentemente da  realização de obras.',\n",
       " 'contratação  Comissões no termo do contrato  9.',\n",
       " 'Comissão de reembolso antecipado total        Pré-aviso de 10 dias úteis  9.1  Taxa fixa  2,00%  nan  nan  IS – 4%  Vide nota (3)  9.2  Taxa variável  0,50%  nan  nan  10.',\n",
       " 'Emissão  de  extratos  de  conta  de  Vide nota (13)  nan  100,00  nan  IVA – 23%  empréstimos liquidados    11.',\n",
       " 'Comissões  associadas  a  atos        administrativos        IVA – 23%  Vide nota (4)  11.1 Declarações de dívida  nan  50,00  nan  12.',\n",
       " 'Comissão de deslocação  175,00  12.1  Até 100 Kms  nan  350,00  nan  IVA – 23%  Vide nota (1)  12.2  101 a 250 Kms  500,00  12.3  > 250 Kms                     ABANCA                                                                                    Operações de crédito / Particulares – Pág.',\n",
       " '1 /15                NEXT          Entrada em vigor: 21-Dez-2020      2.',\n",
       " 'OPERAÇÕES DE CRÉDITO (PARTICULARES)                                                                                      ÍNDICE  2.1 Crédito à habitação e outros créditos  Comissões  hipotecários (cont.)',\n",
       " 'Acresce  Outras condições    Euros  Valor  Imposto  Em %  (Mín/Máx)  anual  Produto: Crédito Multiopções   Caracterização do produto: Crédito hipotecário cuja finalidade não seja enquadrável no crédito habitação ou em que não esteja definido o  fim a que se destina a quantia mutuada.',\n",
       " 'Comissões iniciais  1.',\n",
       " 'Comissão de formalização  nan  500,00  nan  IS – 4%    2.',\n",
       " 'Reanálise  nan  250,00  nan  IVA – 23%  Nota (10)  3.',\n",
       " 'Avaliação  3.1 Imóvel Residencial  nan  275,00  nan  IVA – 23%  Nota (14)   3.2 Garagens e arrecadações não anexas ao  nan  130,00  nan  imóvel residencial  4.',\n",
       " 'Comissões associadas a atos  administrativos  nan  nan  IVA – 23%  Vide Nota (15)      4.1 Não realização da escritura  10,00   4.2 Alteração do local da escritura  50,00  Comissões durante a vigência do contrato  5.',\n",
       " 'Comissão de reembolso antecipado parcial    Pré-aviso de 7 dias úteis  5.1 Taxa Fixa  2,00%  nan  nan  IS – 4%  Vide nota (2)  5.2 Taxa Variável  0,50%  6.',\n",
       " 'Comissão de recuperação de valores em        dívida         IS – 4%  Vide nota (12)  6.1  Prestação até 50.000 €  4,00%  (12,00/150,00)  nan  6.2  Prestação > 50.000 €  0,50%  nan  nan  7.',\n",
       " 'Comissões associadas a atos  nan  50,00  nan  IVA – 23%  Vide nota (4)  administrativos – declarações de dívida          8.',\n",
       " 'Vistorias  nan  Vide nota (14)  nan  IVA – 23%    Comissões no termo do contrato  9.',\n",
       " 'Comissão de reembolso antecipado total    Pré-aviso de 10 dias úteis  9.1 Taxa Fixa  2,00%  nan  nan  IS – 4%  Vide nota (3)  9.2 Taxa Variável  0,50%  10.',\n",
       " 'Emissão de extratos de conta de  nan  100,00  nan  IVA – 23%  Vide nota (13)  empréstimos liquidados  11.',\n",
       " 'Comissões associadas a atos        administrativos         IVA – 23  Vide nota (4)  11.1  Declarações de dívida  nan  50,00  nan  12.',\n",
       " 'Comissões de deslocação  175,00  12.1  Até 100 Kms  nan  350,00  nan  IVA – 23%  Vide nota (1)  12.2  101 a 250 Kms  500,00  12.3  > 250 Kms  Outras despesas associadas  Imposto do Selo sobre concessão de crédito  (Nota    nan  nan  nan  (verba 17.1 da TGIS)  5)  (Notas  Emolumentos do registo predial   nan  nan  nan  6 e 9)  (Notas  Emolumentos notariais  nan  nan  IVA – 23%  7 e 9)  Estes emolumentos  Emolumentos “Casa Pronta” (vide Nota 9)          aplicam-se unicamente nos            produtos com garantia  - Formalização (vide Nota 8)  nan  700,00  nan  nan  hipotecária  - Certidão permanente on-line   nan  20,00  nan  nan  - Desistência ou não conclusão do processo por          motivos imputáveis ao cliente  nan  (Nota 11)  nan  nan             ABANCA                                                                          Operações de crédito / Particulares – Pág.',\n",
       " '2/15                NEXT          Entrada em vigor: 21-Dez-2020    2.',\n",
       " 'OPERAÇÕES DE CRÉDITO (PARTICULARES)                                                                                      ÍNDICE  2.1 Crédito à habitação e outros créditos  Acresce  Comissões  Outras condições  hipotecários (cont.)',\n",
       " 'Imposto  Produto: Leasing Habitação (fora de comercialização)  Caracterização do produto: Locação financeira imobiliária  Os seguros obrigatórios são os mesmos do Crédito à Habitação (não aplicáveis a pessoas coletivas), assumindo que não houve renúncia  à isenção de IVA  Comissões durante a vigência do contrato  1.',\n",
       " 'Comissão de antecipação (pré.aviso 7 dias)  Taxa Fixa  2,00%  nan  nan    IVA 23%  Taxa Variável  0,50%  nan  nan    2.',\n",
       " 'Comissão  de  recuperação  de  valores  em  4,00%  (12,00/150,00)  nan  IVA 23%  Nota (12)  dívida  3.',\n",
       " 'Comissões associadas a atos administrativos        - Pedido de 2ª via de Caderneta Predial  nan  25,00  Por iniciativa do cliente  - Emissão de declarações não obrigatórias  nan  50,00  -  por lei        - Emissão de 2ª vias de Declaração para  nan  40,00  nan  IVA 23%  Por iniciativa do cliente  efeitos de IRS – Urgente      (resposta em 24h após  - Emissão de 2º vias de Declaração para  nan  25,00  receção do pedido)  efeitos de IRS      Por iniciativa do cliente  - Emissão de 2ª vias de faturas  nan  15,00  -  4.',\n",
       " 'Cessação da posição contratual  nan  150,000  nan  IVA 23%  Por iniciativa do cliente  Comissões no termo do contrato  5.',\n",
       " 'Comissão de compra antecipada (pré-aviso 10 dias)  Taxa Fixa  2,00%  nan  nan    IVA 23%  Taxa Variável  0,50%  nan  nan        Nota (1) Só se aplica nas deslocações efetuadas para a entrega de distrates em distritos do Território Continental onde não exista nenhum  balcão do ABANCA e quando a mesma ocorre após o termo natural do contrato, quando não há lugar a comissão de reembolso antecipado.',\n",
       " 'A  contagem dos Kms é feita desde o balcão mais próximo até ao local da entrega do distrate.',\n",
       " 'Caso se realize a entrega de mais do que um  distrate no mesmo dia, só se aplica uma comissão.',\n",
       " 'Para as regiões autónomas carece de orçamento prévio;     Nota (2) Incide sobre o valor reembolsado e é devido na data de vencimento de qualquer prestação.',\n",
       " '0,00 quando o motivo do reembolso for  morte, desemprego ou deslocação profissional;     Nota (3) Incide sobre o valor reembolsado.',\n",
       " '0,00 se o motivo for morte, desemprego ou deslocação profissional;     Nota (4) 0,00 no caso de reembolso antecipado ou quando tenha por fim o cumprimento de obrigações para acesso a apoios ou prestações  sociais e serviços públicos, até a um limite de seis declarações por ano;     Nota (5) Valor devido no momento da utilização do crédito, de acordo com o prazo do financiamento e que incide sobre o valor deste: prazo  inferior a um ano: 0,04% por cada mês ou fração; prazo igual ou superior a um ano: 0,5% e prazo igual ou superior a cinco anos: 0,6%;     Nota (6) De aquisição, designadamente tendo por base contrato de compra e venda, e hipotecas: 500,00 euros; Só de hipoteca: 250,00 euros.',\n",
       " 'Encargos devidos pela Conservatória do Registo Predial no momento da apresentação;     Nota (7) Hipoteca ou fiança: 122,00 euros e mútuo ou abertura de crédito: 142,00 euros.',\n",
       " 'Encargos devidos pelo Cartório Notarial no momento  da escritura.',\n",
       " 'Valores para escrituras em Cartórios Públicos.',\n",
       " 'Caso a escritura se realize em Cartórios Privados aplicam-se as respetivas tabelas;     Nota (8) Custo único referente aos créditos hipotecários, a liquidar no balcão “Casa Pronta” no momento da formalização e que abrange mais  do que um registo (por ex.',\n",
       " 'compra e venda com financiamento bancário), dispensando-se assim os emolumentos notariais e de registo predial.',\n",
       " 'Nos casos em que haja apenas um registo (por ex.',\n",
       " 'só financiamento bancário) o custo é 375,00 euros;     Nota (9) Valores de acordo com o Regulamento Emolumentar dos Registos e Notariado.',\n",
       " 'Poderão ser cobrados outros valores definidos no  referido Regulamento, bem como os mesmos poderão ser objeto de atualizações pelos órgãos de soberania competentes;                     ABANCA                                                                                              Operações de crédito / Particulares – Pág.',\n",
       " '3 /15                NEXT          Entrada em vigor: 21-Dez-2020    2.',\n",
       " 'OPERAÇÕES DE CRÉDITO (PARTICULARES)                                                                                      ÍNDICE  2.1 Crédito à habitação e outros créditos hipotecários (cont.)',\n",
       " 'Nota (10) Comissão de reanálise da operação de crédito não contratada nos 4 meses seguintes à aprovação.',\n",
       " 'Valor devido independentemente  da contratação.',\n",
       " '0,00 sempre que a renegociação da operação de crédito tenha sido motivada por situações de risco de incumprimento ou  por mora de obrigações decorrentes do contrato de crédito;     Nota (11) É devido um terço do emolumento previsto;     Nota (12) Comissão devida uma única vez por cada prestação vencida e não paga e que incide sobre o valor desta.',\n",
       " 'Acrescem os respetivos  juros de mora.',\n",
       " 'Poderão ainda ser imputadas ao cliente as despesas que o ABANCA tenha suportado perante terceiros, mediante a respetiva  prova documental;     Nota (13) Esta comissão não se aplica no termo natural do contrato nem em caso de reembolsos antecipados, mas apenas quando o cliente,  em outras situações, solicite pontualmente a emissão do extrato de créditos já liquidados;     Nota (14)  O preçário indicado refere-se a empreendimentos residenciais.',\n",
       " 'Para outras finalidades o custo incide sobre a área do imóvel, de  acordo com a tabela abaixo:  Tipo de imóvel  Tipo de avaliação  Área (m2)  Custo  0 a 350  215,00 €  Avaliação  351 a 750  355,00 €  > 750  (Nota 14.1)  0 a 350  105,00 €  Locais comerciais ou escritórios  Vistoria  351 a 750  170,00 €  > 750  (Nota 14.1)   0 a 350  95,00 €  Reavaliação sem visita  351 a 750  130,00 €  > 750  (Nota 14.1)  Avaliação  n.a  130,00 €  Garagens e arrecadações  Vistoria  n.a  75,00 €  Reavaliação sem visita  n.a  65,00 €  1 a 2 UC  280,00 €  Avaliação  ≥ 3 UC  480,00 €  1 a 2 UC  205,00 €  Lote de terreno (p/1 unidade)  Vistoria  ≥ 3 UC  280,00 €  1 a 2 UC  150,00 €  Reavaliação sem visita  ≥ 3 UC  205,00 €   ≤ 750  295,00 €  Avaliação  >750 e ≤ 2000  390,00 €  >2000 e ≤ 5000  555,00 €   ≤ 750  150,00 €  Armazém  Vistoria  >750 e ≤ 2000  185,00 €  >2000 e ≤ 5000  280,00 €   ≤ 750  130,00 €  Reavaliação sem visita  >750 e ≤ 2000  170,00 €  >2000 e ≤ 5000  185,00 €  Os valores apresentados são devidos independentemente da contratação e são por cada avaliação efetuada ao mesmo imóvel;    Nota (14.1) Para outras finalidades ou pedidos que não se enquadrem nas características da Nota (14) carece de orçamento próprio a solicitar  junto de qualquer balcão do ABANCA;     Nota (15) Valor devido quando o motivo para a não realização ou alteração do local da escritura seja alheio ao banco.',\n",
       " 'Comissão cobrada uma  única vez por cada ato, independentemente do número de escrituras realizadas no mesmo dia e no mesmo local.',\n",
       " 'ABANCA                                                                                                              Operações de crédito / Particulares – Pág.',\n",
       " '4/ 15']"
      ]
     },
     "execution_count": 11,
     "metadata": {},
     "output_type": "execute_result"
    }
   ],
   "source": [
    "HouseCredit('https://www.abanca.pt/files/documents/precario-folheto-comissoes-823a7663.pdf', [6,7,8,9]).tokenize()"
   ]
  },
  {
   "cell_type": "code",
   "execution_count": 10,
   "metadata": {},
   "outputs": [
    {
     "data": {
      "text/plain": [
       "{'Emissão de extrato': ['Emissão de extrato      1.1  Mensal (enviado ao domicílio)  0,00  nan  IVA – 23%  1.2  Outros, para além do indicado em 1.1  2,00 por extrato  1.3  2ª Via      7,50    2. Fotocópias de segundas vias de talões de depósito   5,00 por documento  nan  IVA – 23%    3.'],\n",
       " 'Fotocópias de segundas vias de talões de depósito': ['Fotocópias de segundas vias de talões de depósito   5,00 por documento  nan  IVA – 23%    3. Manutenção de conta      3.1 Conta D.O.'],\n",
       " 'Manutenção de conta': ['Manutenção de conta      3.1 Conta D.O. Particulares (Nota 2)      - Saldo médio até 1.000€  15,00 Trimestral  60,00  - Saldo médio entre 1.001€ e 2.500€  10,00 Trimestral  40,00  IS – 4%    - Saldo médio superior a 2.500€  0,00  nan  3.2 Conta Ordenado (Nota 1 e Nota 16)  0,00  nan  3.3 Conta Standard (não admite novas contratações)  0,00  nan  3.4 Conta Moeda Estrangeira (Nota 12)  5,00 Mensal  60,00  4.'],\n",
       " 'Levantamento de numerário': ['Levantamento de numerário          7.1 Ao balcão, com apresentação de cheque  0,00  nan  IS – 4%  Nota (13)   7.2 Ao balcão, sem apresentação de cheque  3,50   8. Adesão ao serviço de banca à distância  0,00  nan  nan    9.'],\n",
       " 'Adesão ao serviço de banca à distância': ['Adesão ao serviço de banca à distância  0,00  nan  nan    9. Depósito de moedas metálicas (igual ou superior a 100  Notas (13)  3,50  nan  IS – 4%  moedas por dia e por conta)  (14)  Notas (13)  10.'],\n",
       " 'Depósito de moedas metálicas': ['Depósito de moedas metálicas (igual ou superior a 100  Notas (13)  3,50  nan  IS – 4%  moedas por dia e por conta)  (14)  Notas (13)  10. Alteração de titulares  5,00  nan  IS – 4%  (15)  11.'],\n",
       " 'Depósito de moedas': ['Depósito de moedas metálicas (igual ou superior a 100  Notas (13)  3,50  nan  IS – 4%  moedas por dia e por conta)  (14)  Notas (13)  10. Alteração de titulares  5,00  nan  IS – 4%  (15)  11.'],\n",
       " 'Alteração de titulares': ['Alteração de titulares  5,00  nan  IS – 4%  (15)  11. Comissão por descoberto bancário  Vide Secção 2.5 Descobertos bancários  Nota (1) Não admite novas contratações.']}"
      ]
     },
     "execution_count": 10,
     "metadata": {},
     "output_type": "execute_result"
    }
   ],
   "source": [
    "DemandDeposit('https://www.abanca.pt/files/documents/precario-folheto-comissoes-823a7663.pdf', [4]).values()"
   ]
  },
  {
   "cell_type": "code",
   "execution_count": null,
   "metadata": {},
   "outputs": [],
   "source": []
  }
 ],
 "metadata": {
  "kernelspec": {
   "display_name": "Python 3",
   "language": "python",
   "name": "python3"
  },
  "language_info": {
   "codemirror_mode": {
    "name": "ipython",
    "version": 3
   },
   "file_extension": ".py",
   "mimetype": "text/x-python",
   "name": "python",
   "nbconvert_exporter": "python",
   "pygments_lexer": "ipython3",
   "version": "3.8.6"
  },
  "toc": {
   "base_numbering": 1,
   "nav_menu": {},
   "number_sections": true,
   "sideBar": true,
   "skip_h1_title": false,
   "title_cell": "Table of Contents",
   "title_sidebar": "Contents",
   "toc_cell": false,
   "toc_position": {},
   "toc_section_display": true,
   "toc_window_display": false
  }
 },
 "nbformat": 4,
 "nbformat_minor": 4
}
