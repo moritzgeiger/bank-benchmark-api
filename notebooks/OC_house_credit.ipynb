{
 "cells": [
  {
   "cell_type": "code",
   "execution_count": 96,
   "metadata": {},
   "outputs": [
    {
     "name": "stdout",
     "output_type": "stream",
     "text": [
      "The autoreload extension is already loaded. To reload it, use:\n",
      "  %reload_ext autoreload\n"
     ]
    }
   ],
   "source": [
    "%load_ext autoreload\n",
    "%autoreload 2 \n",
    "import pandas as pd\n",
    "import numpy as np\n",
    "import pdfplumber\n",
    "import re\n",
    "import nltk\n",
    "from urllib.parse import urljoin, quote_plus, quote, urlencode\n",
    "from urllib.request import Request, urlopen\n",
    "from io import StringIO, BytesIO\n",
    "from housecredit import HouseCredit\n",
    "from try_scrape_demand import DemandDeposit"
   ]
  },
  {
   "cell_type": "markdown",
   "metadata": {},
   "source": [
    "# importing bank and text , tokenize"
   ]
  },
  {
   "cell_type": "code",
   "execution_count": 105,
   "metadata": {},
   "outputs": [
    {
     "name": "stdout",
     "output_type": "stream",
     "text": [
      "This main product is not avaiable for the following bank: https://clientebancario.bportugal.pt/sites/default/files/precario/0008_/0008_PRE.pdf\n"
     ]
    }
   ],
   "source": [
    "bankinter = DemandDeposit('https://clientebancario.bportugal.pt/sites/default/files/precario/0269_/0269_PRE.pdf', [x for x in range(8,19)]).is_avaiable()\n",
    "\n",
    "abanca = DemandDeposit('https://clientebancario.bportugal.pt/sites/default/files/precario/0170_/0170_PRE.pdf', [x for x in range(6,10)]).is_avaiable()\n",
    "\n",
    "bai = DemandDeposit('https://clientebancario.bportugal.pt/sites/default/files/precario/0008_/0008_PRE.pdf', None).is_avaiable()\n",
    "\n",
    "bic = DemandDeposit('https://clientebancario.bportugal.pt/sites/default/files/precario/0079_/0079_PRE_0.pdf',[x for x in range(7,10)]).is_avaiable()\n",
    "\n",
    "ctt = DemandDeposit('https://clientebancario.bportugal.pt/sites/default/files/precario/0193_/0193_PRE.pdf', [6]).is_avaiable()"
   ]
  },
  {
   "cell_type": "code",
   "execution_count": 144,
   "metadata": {},
   "outputs": [],
   "source": [
    "text_bankinter = bankinter.getting_text()\n",
    "text_abanca = abanca.getting_text()\n",
    "text_bic = bic.getting_text()\n",
    "text_ctt = ctt.getting_text()"
   ]
  },
  {
   "cell_type": "code",
   "execution_count": 106,
   "metadata": {},
   "outputs": [],
   "source": [
    "sent_bankinter = bankinter.tokenize()\n",
    "sent_abanca = abanca.tokenize()\n",
    "sent_bic = bic.tokenize()\n",
    "sent_ctt = ctt.tokenize()"
   ]
  },
  {
   "cell_type": "markdown",
   "metadata": {
    "heading_collapsed": true
   },
   "source": [
    "## importing dictionary"
   ]
  },
  {
   "cell_type": "code",
   "execution_count": 130,
   "metadata": {
    "hidden": true
   },
   "outputs": [],
   "source": [
    "house_credit_com = {'admin':['Comissões associadas a atos administrativos 4.1 Não realização da escritura',\n",
    "                             'Alteração do local da escritura',\n",
    "                             'Declarações de dívida',\n",
    "                             'Mudança de regime de crédito',\n",
    "                             'Declarações de dívida',\n",
    "                             'Pedido de 2ª via de Caderneta Predial',\n",
    "                             'Emissão de declarações não obrigatórias por lei',\n",
    "                             'Emissão de 2ª vias de Declaração para efeitos de IRS – Urgente',\n",
    "                             'Emissão de 2º vias de Declaração para efeitos de IRS',\n",
    "                             'Emissão de 2ª vias de faturas',\n",
    "                             'Declaração de Dívida para Fins Diversos',\n",
    "                             'Declaração de Encargos com Prestações'],\n",
    "                    'certificates':['Emolumentos do registo predial', 'registo predial',\n",
    "                                    'Certidão permanente on-line'],\n",
    "                    'debt_recovery':['Comissão de recuperação de valores em dívida', 'Prestação até 50.000 €',\n",
    "                                    'Prestação > 50.000 €', 'Comissão de recuperação de valores em dívida',\n",
    "                                    'Prestação > 50.000,00€', 'Prestação ≤ 50.000,00€'],\n",
    "                    'displacement':['Comissão de deslocação', 'Até 100 Kms', '101 a 250 Kms', '> 250 Kms '],\n",
    "                    'early_payment':['Comissão de reembolso antecipado parcial', 'Taxa fixa', 'Taxa variável', \n",
    "                                    'Taxa fixa', 'Comissão de reembolso antecipado total', 'Comissão de antecipação',\n",
    "                                    '(pré.aviso 7 dias)', 'Comissão de compra antecipada', '(pré-aviso 10 dias)', \n",
    "                                    'Comissão de Reembolso Antecipado Parcial',\n",
    "                                    'Comissão de reembolso antecipado total'],\n",
    "                    'evaluation':['Avaliação', 'Imóvel residencial', \n",
    "                                 'Garagens e arrecadações não anexas ao imóvel residencial', 'Avaliação do Imóvel'],\n",
    "                    'formalization':['Comissão de formalização', 'Formalização'],\n",
    "                    'process':['Processo', 'Abertura de Processo',\n",
    "                              'Desistência ou não conclusão do processo por motivos imputáveis ao cliente'],\n",
    "                    'inspections':['Vistorias', 'em caso de construção ou realização de obras'],\n",
    "                    'reanalysis':['Reanálise'],\n",
    "                    'settlement':['Comissão de Liquidação de Prestação', 'Liquidação de Prestação'],\n",
    "                    'solicitors_notary':['Emolumentos notariais', 'Solicitadoria', 'Notiário'],\n",
    "                    'statements':['Emissão de extratos de conta de empréstimos liquidados', 'extrato', 'extratos',\n",
    "                                  'extrato de conta', 'extrato mensal'],\n",
    "                    'taxes':['Imposto do Selo sobre concessão de crédito', 'imposto', 'imposto de selo', 'impostos'],\n",
    "                    'termination':['Cessação da posição contratual', 'cessação', 'rescisão', 'encerramento']\n",
    "                    }"
   ]
  },
  {
   "cell_type": "markdown",
   "metadata": {},
   "source": [
    "# starting with new class"
   ]
  },
  {
   "cell_type": "markdown",
   "metadata": {
    "heading_collapsed": true
   },
   "source": [
    "##  values"
   ]
  },
  {
   "cell_type": "code",
   "execution_count": 131,
   "metadata": {
    "hidden": true
   },
   "outputs": [],
   "source": [
    "def values(tokenized, dictionary):\n",
    "    values = [x for x in dictionary.values()]\n",
    "    lista ={}\n",
    "    for commission in values:\n",
    "        for value in commission:\n",
    "            for ind,sentence in enumerate(tokenized):\n",
    "                if value in sentence:\n",
    "                    if '[0-9]{1-2},[0-9]{2}' in sentence:\n",
    "                        if value in lista:\n",
    "                            lista[value].append(sentence)\n",
    "                        else:\n",
    "                            lista[value]= [sentence]\n",
    "                    else:\n",
    "                        if value in lista:\n",
    "                            lista[value].append(' '.join([sentence, tokenized[ind+1]]))\n",
    "                        else:\n",
    "                            lista[value]= [' '.join([sentence,tokenized[ind+1]])]\n",
    "    return lista"
   ]
  },
  {
   "cell_type": "code",
   "execution_count": 132,
   "metadata": {
    "hidden": true
   },
   "outputs": [],
   "source": [
    " values_ctt = values(sent_ctt, house_credit_com )"
   ]
  },
  {
   "cell_type": "code",
   "execution_count": 133,
   "metadata": {
    "hidden": true
   },
   "outputs": [
    {
     "data": {
      "text/plain": [
       "(16, 15)"
      ]
     },
     "execution_count": 133,
     "metadata": {},
     "output_type": "execute_result"
    }
   ],
   "source": [
    "len(values_ctt.keys()) , len(house_credit_com.keys())"
   ]
  },
  {
   "cell_type": "markdown",
   "metadata": {
    "hidden": true
   },
   "source": [
    "- **values ctt is working properly**"
   ]
  },
  {
   "cell_type": "markdown",
   "metadata": {
    "hidden": true
   },
   "source": [
    "- now we try also with the other "
   ]
  },
  {
   "cell_type": "code",
   "execution_count": 143,
   "metadata": {
    "hidden": true
   },
   "outputs": [],
   "source": [
    "values_abanca = values(sent_abanca, house_credit_com )\n",
    "values_bankinter = values(sent_bankinter, house_credit_com )\n",
    "values_bic = values(sent_bic, house_credit_com )"
   ]
  },
  {
   "cell_type": "markdown",
   "metadata": {},
   "source": [
    "## n_account"
   ]
  },
  {
   "cell_type": "code",
   "execution_count": null,
   "metadata": {},
   "outputs": [],
   "source": [
    "abanca_extra = 'Leasing Habitação'\n",
    "bankinter_extra = ['Outras finalidades','Locação financeira imobiliária']\n",
    "bic= 'too many'\n"
   ]
  },
  {
   "cell_type": "markdown",
   "metadata": {},
   "source": [
    "#### importing functions:"
   ]
  },
  {
   "cell_type": "code",
   "execution_count": 295,
   "metadata": {},
   "outputs": [],
   "source": [
    "def tokenize(text):\n",
    "    \n",
    "    if len(nltk.sent_tokenize(text)) < 15:\n",
    "        text = text.replace('\\n','. ')\n",
    "        # text = len_sentences(text)\n",
    "        text = nltk.sent_tokenize(text)\n",
    "        return text\n",
    "    text = text.replace('\\n',' ')\n",
    "    # text = len_sentences(text)\n",
    "    text = nltk.sent_tokenize(text)\n",
    "    return text"
   ]
  },
  {
   "cell_type": "code",
   "execution_count": 296,
   "metadata": {},
   "outputs": [
    {
     "ename": "SyntaxError",
     "evalue": "invalid syntax (<ipython-input-296-deccf3502b41>, line 3)",
     "output_type": "error",
     "traceback": [
      "\u001b[0;36m  File \u001b[0;32m\"<ipython-input-296-deccf3502b41>\"\u001b[0;36m, line \u001b[0;32m3\u001b[0m\n\u001b[0;31m    if len(new_text)==2\u001b[0m\n\u001b[0m                       ^\u001b[0m\n\u001b[0;31mSyntaxError\u001b[0m\u001b[0;31m:\u001b[0m invalid syntax\n"
     ]
    }
   ],
   "source": [
    "def splitting_account(text):\n",
    "    new_text = text.split('Comissões iniciais')\n",
    "    if len(new_text)==2\n",
    "#     tokenized = tokenize(new_text)\n",
    "    return new_text"
   ]
  },
  {
   "cell_type": "code",
   "execution_count": 297,
   "metadata": {
    "scrolled": false
   },
   "outputs": [
    {
     "data": {
      "text/plain": [
       "2"
      ]
     },
     "execution_count": 297,
     "metadata": {},
     "output_type": "execute_result"
    }
   ],
   "source": [
    "len(splitting_account(text_ctt))"
   ]
  },
  {
   "cell_type": "code",
   "execution_count": 298,
   "metadata": {},
   "outputs": [],
   "source": [
    "def n_account(text,sent):\n",
    "        accounts = []\n",
    "        finals = []\n",
    "        \n",
    "        tokenized = sent\n",
    "        \n",
    "#         if len(nltk.sent_tokenize(text)) < 15 :\n",
    "        for sentence in tokenized:\n",
    "            if 'Crédito' in sentence:\n",
    "                finals.append(sentence)\n",
    "        return finals\n",
    "#         for sentence in tokenized:\n",
    "#             contas = re.split('Crédito',sentence)\n",
    "#             accounts.append(contas)\n",
    "#         for account in accounts:\n",
    "#             if len(account)>1:\n",
    "#                 account = ['Crédito'+ x for x in account]\n",
    "#                 finals.append(account)\n",
    "       \n",
    "#         return finals"
   ]
  },
  {
   "cell_type": "code",
   "execution_count": 299,
   "metadata": {},
   "outputs": [],
   "source": [
    "abanca_raw_accounts = n_account(text_abanca, sent_abanca)\n",
    "ctt_raw_accounts =  n_account(text_ctt, sent_ctt)\n",
    "bic_raw_accounts =  n_account(text_bic, sent_bic)\n",
    "bankinter_raw_accounts =  n_account(text_bankinter, sent_bankinter)"
   ]
  },
  {
   "cell_type": "markdown",
   "metadata": {},
   "source": [
    "- account name is working for all but not for bankinter!!"
   ]
  },
  {
   "cell_type": "markdown",
   "metadata": {},
   "source": [
    "## names"
   ]
  },
  {
   "cell_type": "code",
   "execution_count": 300,
   "metadata": {},
   "outputs": [],
   "source": [
    "def names(values):\n",
    "    if len(values) < 10:\n",
    "        return values\n",
    "    words = []\n",
    "    for account in values:\n",
    "        for element in account:\n",
    "            words.append(element.split())\n",
    "\n",
    "    names = []\n",
    "    for word in words:\n",
    "#         word = [w.strip().lower() for w in word]\n",
    "#         print(word)\n",
    "        \n",
    "        if word[0] == 'Crédito' and len(word)>1:\n",
    "            names.append(word)\n",
    "    finals = []\n",
    "    for name in names:\n",
    "        finals.append(' '.join(name[:14]).replace(';','').replace('/d./d',''))\n",
    "    search = 'Crédito à habitação e outros créditos hipotecário'\n",
    "    search2 = 'Crédito / Particulares'\n",
    "    regular = []\n",
    "    for final in finals:\n",
    "#         print(final)\n",
    "        if search not in final:\n",
    "            if search2 not in final:\n",
    "                regular.append(final)\n",
    "            \n",
    "    return regular\n",
    "# #         if start not in regular:\n",
    "# #             regular.append(final)\n",
    "# #     lista =[]\n",
    "# #     for name in regular:\n",
    "# #         single = ' '.join(name.split(\" \")[:2])\n",
    "# #         if single not in lista:\n",
    "# #             lista.append(name)\n",
    "#     return finals"
   ]
  },
  {
   "cell_type": "code",
   "execution_count": 301,
   "metadata": {},
   "outputs": [
    {
     "ename": "IndexError",
     "evalue": "list index out of range",
     "output_type": "error",
     "traceback": [
      "\u001b[0;31m---------------------------------------------------------------------------\u001b[0m",
      "\u001b[0;31mIndexError\u001b[0m                                Traceback (most recent call last)",
      "\u001b[0;32m<ipython-input-301-824f599e04db>\u001b[0m in \u001b[0;36m<module>\u001b[0;34m\u001b[0m\n\u001b[1;32m      1\u001b[0m \u001b[0mabanca_names\u001b[0m \u001b[0;34m=\u001b[0m \u001b[0mnames\u001b[0m\u001b[0;34m(\u001b[0m\u001b[0mabanca_raw_accounts\u001b[0m\u001b[0;34m)\u001b[0m\u001b[0;34m\u001b[0m\u001b[0;34m\u001b[0m\u001b[0m\n\u001b[0;32m----> 2\u001b[0;31m \u001b[0mbankinter_names\u001b[0m\u001b[0;34m=\u001b[0m\u001b[0mnames\u001b[0m\u001b[0;34m(\u001b[0m\u001b[0mbankinter_raw_accounts\u001b[0m\u001b[0;34m)\u001b[0m\u001b[0;34m\u001b[0m\u001b[0;34m\u001b[0m\u001b[0m\n\u001b[0m\u001b[1;32m      3\u001b[0m \u001b[0mbic_names\u001b[0m\u001b[0;34m=\u001b[0m\u001b[0mnames\u001b[0m\u001b[0;34m(\u001b[0m\u001b[0mbic_raw_accounts\u001b[0m\u001b[0;34m)\u001b[0m\u001b[0;34m\u001b[0m\u001b[0;34m\u001b[0m\u001b[0m\n\u001b[1;32m      4\u001b[0m \u001b[0mctt_names\u001b[0m \u001b[0;34m=\u001b[0m \u001b[0mnames\u001b[0m\u001b[0;34m(\u001b[0m\u001b[0mctt_raw_accounts\u001b[0m\u001b[0;34m)\u001b[0m\u001b[0;34m\u001b[0m\u001b[0;34m\u001b[0m\u001b[0m\n",
      "\u001b[0;32m<ipython-input-300-c59608f529d5>\u001b[0m in \u001b[0;36mnames\u001b[0;34m(values)\u001b[0m\n\u001b[1;32m     12\u001b[0m \u001b[0;31m#         print(word)\u001b[0m\u001b[0;34m\u001b[0m\u001b[0;34m\u001b[0m\u001b[0;34m\u001b[0m\u001b[0m\n\u001b[1;32m     13\u001b[0m \u001b[0;34m\u001b[0m\u001b[0m\n\u001b[0;32m---> 14\u001b[0;31m         \u001b[0;32mif\u001b[0m \u001b[0mword\u001b[0m\u001b[0;34m[\u001b[0m\u001b[0;36m0\u001b[0m\u001b[0;34m]\u001b[0m \u001b[0;34m==\u001b[0m \u001b[0;34m'Crédito'\u001b[0m \u001b[0;32mand\u001b[0m \u001b[0mlen\u001b[0m\u001b[0;34m(\u001b[0m\u001b[0mword\u001b[0m\u001b[0;34m)\u001b[0m\u001b[0;34m>\u001b[0m\u001b[0;36m1\u001b[0m\u001b[0;34m:\u001b[0m\u001b[0;34m\u001b[0m\u001b[0;34m\u001b[0m\u001b[0m\n\u001b[0m\u001b[1;32m     15\u001b[0m             \u001b[0mnames\u001b[0m\u001b[0;34m.\u001b[0m\u001b[0mappend\u001b[0m\u001b[0;34m(\u001b[0m\u001b[0mword\u001b[0m\u001b[0;34m)\u001b[0m\u001b[0;34m\u001b[0m\u001b[0;34m\u001b[0m\u001b[0m\n\u001b[1;32m     16\u001b[0m     \u001b[0mfinals\u001b[0m \u001b[0;34m=\u001b[0m \u001b[0;34m[\u001b[0m\u001b[0;34m]\u001b[0m\u001b[0;34m\u001b[0m\u001b[0;34m\u001b[0m\u001b[0m\n",
      "\u001b[0;31mIndexError\u001b[0m: list index out of range"
     ]
    }
   ],
   "source": [
    "abanca_names = names(abanca_raw_accounts)\n",
    "bankinter_names=names(bankinter_raw_accounts)\n",
    "bic_names=names(bic_raw_accounts)\n",
    "ctt_names = names(ctt_raw_accounts)"
   ]
  },
  {
   "cell_type": "code",
   "execution_count": 302,
   "metadata": {},
   "outputs": [
    {
     "data": {
      "text/plain": [
       "['Crédito à habitação com ou sem garantia hipotecária para Residentes Legenda: Cont.',\n",
       " 'Crédito Habitação Transferências com Suporte de Custos esta comissão é cobrada aquando da formalização',\n",
       " 'Crédito Habitação Comissão de Contrato do Cobrada aquando da formalização do crédito.',\n",
       " 'Crédito Habitação Aplicável apenas no',\n",
       " 'Crédito para Construção.',\n",
       " 'Crédito inclui Fiadores (cobrada independentemente da 6.',\n",
       " 'Crédito à habitação com ou sem garantia hipotecária para Residentes (cont.)',\n",
       " 'Crédito Habitação: - Taxa Variável 0,5% nan nan 4% nan nan nan nan Pré-Aviso',\n",
       " 'Crédito 12 Habitação: 0,5% nan nan 4% nan nan nan nan Pré-Aviso de 10',\n",
       " 'Crédito à habitação com ou sem garantia hipotecária para Não Residentes Legenda: Cont.',\n",
       " 'Crédito à habitação com ou sem garantia hipotecária para Não Residentes (cont.)',\n",
       " 'Crédito Habitação: - Taxa Variável 0,5% nan nan 4% nan nan nan nan Pré-Aviso',\n",
       " 'Crédito 9 Habitação: - Taxa Variável 0,5% nan nan 4% nan nan nan nan',\n",
       " 'Crédito Hipotecário para Outras Finalidades - Home Equity Residentes (Contratado em simultâneo com',\n",
       " 'Crédito Habitação) Comissões Iniciais Cobrada após Pré-Aprovação do Empréstimo Comissão de Estudo do (cobrada',\n",
       " 'Crédito Hipotecário para Outras Finalidades - Home Equity Não Residentes (Contratado em simultâneo com',\n",
       " 'Crédito Habitação) Comissões Iniciais Cobrada aquando da formalização do crédito.',\n",
       " 'Crédito Hipotecário para Outras Finalidades - Home Equity Isolado Residentes (Contratado Isoladamente) Comissões Iniciais',\n",
       " 'Crédito inclui 4.',\n",
       " 'Crédito Cobrada durante a fase de preparação da 6.',\n",
       " 'Crédito Hipotecário para Outras Finalidades - Home Equity Isolado Residentes (Contratado Isoladamente) Comissões Durante',\n",
       " 'Crédito à habitação sem garantia hipotecária Legenda: Cont.',\n",
       " 'Crédito \"Intercalar Standard\" e \"Intercalar Fácil\" - Destinado à sinalização da compra de Habitação',\n",
       " 'Crédito Habitação: Reembolsado) relativamente à data de - Taxa Variável 0,5% nan nan 4%',\n",
       " 'Crédito Reembolsado) relativamente à data de Habitação: Amortização Antecipada.',\n",
       " 'Crédito Utilizado (custo a suportar pelo Cliente após a utilização do',\n",
       " 'Crédito de prazo igual ou superior a um ano e inferior a cinco anos:',\n",
       " 'Crédito de prazo igual ou superior a cinco anos: 0,60%.']"
      ]
     },
     "execution_count": 302,
     "metadata": {},
     "output_type": "execute_result"
    }
   ],
   "source": [
    "bankinter_names"
   ]
  },
  {
   "cell_type": "code",
   "execution_count": 292,
   "metadata": {},
   "outputs": [
    {
     "name": "stdout",
     "output_type": "stream",
     "text": [
      "Ready to scrape!\n",
      "cleaned the text\n",
      "we got the sentences\n"
     ]
    },
    {
     "data": {
      "text/plain": [
       "['OPERAÇÕES DE CRÉDITO (PARTICULARES)                                                                                 ÍNDICE  2.1 Crédito à habitação e outros créditos hipotecários    Comissões  Acresce    Valor  Outras condições  Em %  Euros (Mín/Máx)  Imposto  anual  Produto: Crédito Habitação Regime Geral e Regime Deficientes.',\n",
       " 'Caracterização do produto: Crédito à habitação com garantia hipotecária destinado à aquisição, construção e realização de obras em  habitação própria e permanente, secundária ou para arrendamento (no Regime Deficientes só habitação própria e permanente) ou à  aquisição ou manutenção de direitos de propriedade sobre terrenos ou edifícios já existentes ou projetados.',\n",
       " 'OPERAÇÕES DE CRÉDITO (PARTICULARES)                                                                                      ÍNDICE  2.1 Crédito à habitação e outros créditos  Comissões  hipotecários (cont.)',\n",
       " 'Acresce  Outras condições    Euros  Valor  Imposto  Em %  (Mín/Máx)  anual  Produto: Crédito Multiopções   Caracterização do produto: Crédito hipotecário cuja finalidade não seja enquadrável no crédito habitação ou em que não esteja definido o  fim a que se destina a quantia mutuada.',\n",
       " 'OPERAÇÕES DE CRÉDITO (PARTICULARES)                                                                                      ÍNDICE  2.1 Crédito à habitação e outros créditos  Acresce  Comissões  Outras condições  hipotecários (cont.)',\n",
       " 'Imposto  Produto: Leasing Habitação (fora de comercialização)  Caracterização do produto: Locação financeira imobiliária  Os seguros obrigatórios são os mesmos do Crédito à Habitação (não aplicáveis a pessoas coletivas), assumindo que não houve renúncia  à isenção de IVA  Comissões durante a vigência do contrato  1.',\n",
       " 'OPERAÇÕES DE CRÉDITO (PARTICULARES)                                                                                      ÍNDICE  2.1 Crédito à habitação e outros créditos hipotecários (cont.)']"
      ]
     },
     "execution_count": 292,
     "metadata": {},
     "output_type": "execute_result"
    }
   ],
   "source": [
    "HouseCredit('https://clientebancario.bportugal.pt/sites/default/files/precario/0170_/0170_PRE.pdf', [x for x in range(6,10)]).output()"
   ]
  },
  {
   "cell_type": "code",
   "execution_count": 294,
   "metadata": {},
   "outputs": [
    {
     "name": "stdout",
     "output_type": "stream",
     "text": [
      "Ready to scrape!\n",
      "cleaned the text\n",
      "we got the sentences\n"
     ]
    },
    {
     "ename": "IndexError",
     "evalue": "list index out of range",
     "output_type": "error",
     "traceback": [
      "\u001b[0;31m---------------------------------------------------------------------------\u001b[0m",
      "\u001b[0;31mIndexError\u001b[0m                                Traceback (most recent call last)",
      "\u001b[0;32m<ipython-input-294-8060a9fc8bad>\u001b[0m in \u001b[0;36m<module>\u001b[0;34m\u001b[0m\n\u001b[0;32m----> 1\u001b[0;31m \u001b[0mbankinter\u001b[0m \u001b[0;34m=\u001b[0m \u001b[0mHouseCredit\u001b[0m\u001b[0;34m(\u001b[0m\u001b[0;34m'https://clientebancario.bportugal.pt/sites/default/files/precario/0269_/0269_PRE.pdf'\u001b[0m\u001b[0;34m,\u001b[0m \u001b[0;34m[\u001b[0m\u001b[0mx\u001b[0m \u001b[0;32mfor\u001b[0m \u001b[0mx\u001b[0m \u001b[0;32min\u001b[0m \u001b[0mrange\u001b[0m\u001b[0;34m(\u001b[0m\u001b[0;36m8\u001b[0m\u001b[0;34m,\u001b[0m\u001b[0;36m19\u001b[0m\u001b[0;34m)\u001b[0m\u001b[0;34m]\u001b[0m\u001b[0;34m)\u001b[0m\u001b[0;34m.\u001b[0m\u001b[0moutput\u001b[0m\u001b[0;34m(\u001b[0m\u001b[0;34m)\u001b[0m\u001b[0;34m\u001b[0m\u001b[0;34m\u001b[0m\u001b[0m\n\u001b[0m",
      "\u001b[0;32m~/code/moritzgeiger/bank-benchmark-api/notebooks/housecredit.py\u001b[0m in \u001b[0;36moutput\u001b[0;34m(self)\u001b[0m\n\u001b[1;32m    192\u001b[0m         \u001b[0mtext\u001b[0m \u001b[0;34m=\u001b[0m \u001b[0mself\u001b[0m\u001b[0;34m.\u001b[0m\u001b[0mgetting_text\u001b[0m\u001b[0;34m(\u001b[0m\u001b[0mfile\u001b[0m\u001b[0;34m)\u001b[0m\u001b[0;34m\u001b[0m\u001b[0;34m\u001b[0m\u001b[0m\n\u001b[1;32m    193\u001b[0m         \u001b[0mtokenize\u001b[0m \u001b[0;34m=\u001b[0m \u001b[0mself\u001b[0m\u001b[0;34m.\u001b[0m\u001b[0mtokenize\u001b[0m\u001b[0;34m(\u001b[0m\u001b[0mtext\u001b[0m\u001b[0;34m)\u001b[0m\u001b[0;34m\u001b[0m\u001b[0;34m\u001b[0m\u001b[0m\n\u001b[0;32m--> 194\u001b[0;31m         \u001b[0moutput\u001b[0m \u001b[0;34m=\u001b[0m \u001b[0mself\u001b[0m\u001b[0;34m.\u001b[0m\u001b[0mnames\u001b[0m\u001b[0;34m(\u001b[0m\u001b[0mtext\u001b[0m\u001b[0;34m,\u001b[0m \u001b[0mtokenize\u001b[0m\u001b[0;34m)\u001b[0m\u001b[0;34m\u001b[0m\u001b[0;34m\u001b[0m\u001b[0m\n\u001b[0m\u001b[1;32m    195\u001b[0m         \u001b[0;31m# doc = get_pdf(url)\u001b[0m\u001b[0;34m\u001b[0m\u001b[0;34m\u001b[0m\u001b[0;34m\u001b[0m\u001b[0m\n\u001b[1;32m    196\u001b[0m         \u001b[0;31m# prices_df = get_prices(doc, page, dictionary)\u001b[0m\u001b[0;34m\u001b[0m\u001b[0;34m\u001b[0m\u001b[0;34m\u001b[0m\u001b[0m\n",
      "\u001b[0;32m~/code/moritzgeiger/bank-benchmark-api/notebooks/housecredit.py\u001b[0m in \u001b[0;36mnames\u001b[0;34m(self, text, tokanize)\u001b[0m\n\u001b[1;32m    172\u001b[0m         \u001b[0mnames\u001b[0m \u001b[0;34m=\u001b[0m \u001b[0;34m[\u001b[0m\u001b[0;34m]\u001b[0m\u001b[0;34m\u001b[0m\u001b[0;34m\u001b[0m\u001b[0m\n\u001b[1;32m    173\u001b[0m         \u001b[0;32mfor\u001b[0m \u001b[0mword\u001b[0m \u001b[0;32min\u001b[0m \u001b[0mwords\u001b[0m\u001b[0;34m:\u001b[0m\u001b[0;34m\u001b[0m\u001b[0;34m\u001b[0m\u001b[0m\n\u001b[0;32m--> 174\u001b[0;31m             \u001b[0;32mif\u001b[0m \u001b[0mword\u001b[0m\u001b[0;34m[\u001b[0m\u001b[0;36m0\u001b[0m\u001b[0;34m]\u001b[0m \u001b[0;34m==\u001b[0m \u001b[0;34m'Crédito'\u001b[0m \u001b[0;32mand\u001b[0m \u001b[0mlen\u001b[0m\u001b[0;34m(\u001b[0m\u001b[0mword\u001b[0m\u001b[0;34m)\u001b[0m\u001b[0;34m>\u001b[0m\u001b[0;36m1\u001b[0m\u001b[0;34m:\u001b[0m\u001b[0;34m\u001b[0m\u001b[0;34m\u001b[0m\u001b[0m\n\u001b[0m\u001b[1;32m    175\u001b[0m                 \u001b[0mnames\u001b[0m\u001b[0;34m.\u001b[0m\u001b[0mappend\u001b[0m\u001b[0;34m(\u001b[0m\u001b[0mword\u001b[0m\u001b[0;34m)\u001b[0m\u001b[0;34m\u001b[0m\u001b[0;34m\u001b[0m\u001b[0m\n\u001b[1;32m    176\u001b[0m         \u001b[0mfinals\u001b[0m \u001b[0;34m=\u001b[0m \u001b[0;34m[\u001b[0m\u001b[0;34m]\u001b[0m\u001b[0;34m\u001b[0m\u001b[0;34m\u001b[0m\u001b[0m\n",
      "\u001b[0;31mIndexError\u001b[0m: list index out of range"
     ]
    }
   ],
   "source": [
    "bankinter = HouseCredit('https://clientebancario.bportugal.pt/sites/default/files/precario/0269_/0269_PRE.pdf', [x for x in range(8,19)]).output()"
   ]
  },
  {
   "cell_type": "code",
   "execution_count": null,
   "metadata": {},
   "outputs": [],
   "source": []
  }
 ],
 "metadata": {
  "kernelspec": {
   "display_name": "Python 3",
   "language": "python",
   "name": "python3"
  },
  "language_info": {
   "codemirror_mode": {
    "name": "ipython",
    "version": 3
   },
   "file_extension": ".py",
   "mimetype": "text/x-python",
   "name": "python",
   "nbconvert_exporter": "python",
   "pygments_lexer": "ipython3",
   "version": "3.8.6"
  },
  "toc": {
   "base_numbering": 1,
   "nav_menu": {},
   "number_sections": true,
   "sideBar": true,
   "skip_h1_title": false,
   "title_cell": "Table of Contents",
   "title_sidebar": "Contents",
   "toc_cell": false,
   "toc_position": {},
   "toc_section_display": true,
   "toc_window_display": false
  }
 },
 "nbformat": 4,
 "nbformat_minor": 4
}
