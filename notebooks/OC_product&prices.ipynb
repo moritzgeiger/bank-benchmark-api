{
 "cells": [
  {
   "cell_type": "code",
   "execution_count": 20,
   "metadata": {},
   "outputs": [
    {
     "name": "stdout",
     "output_type": "stream",
     "text": [
      "The autoreload extension is already loaded. To reload it, use:\n",
      "  %reload_ext autoreload\n"
     ]
    }
   ],
   "source": [
    "%config IPCompleter.greedy=True\n",
    "%load_ext autoreload\n",
    "%autoreload 2\n",
    "import pandas as pd\n",
    "import numpy as np\n",
    "from scraping import Scraping\n",
    "import re\n",
    "import pdfplumber"
   ]
  },
  {
   "cell_type": "code",
   "execution_count": 2,
   "metadata": {},
   "outputs": [],
   "source": [
    "abanca = Scraping('data/ABANCA2021com.pdf', 4, 'abanca')"
   ]
  },
  {
   "cell_type": "code",
   "execution_count": 3,
   "metadata": {},
   "outputs": [],
   "source": [
    "abanca_values = abanca.values()\n",
    "abanca_accounts = abanca.n_account()"
   ]
  },
  {
   "cell_type": "code",
   "execution_count": 4,
   "metadata": {},
   "outputs": [
    {
     "data": {
      "text/plain": [
       "{'Emissão de extrato': ['Emissão de extrato      1.1  Mensal (enviado ao domicílio)  0,00  nan  IVA – 23%  1.2  Outros, para além do indicado em 1.1  2,00 por extrato  1.3  2ª Via      7,50    2. Fotocópias de segundas vias de talões de depósito   5,00 por documento  nan  IVA – 23%    3.'],\n",
       " 'Fotocópias de segundas vias de talões de depósito': ['Fotocópias de segundas vias de talões de depósito   5,00 por documento  nan  IVA – 23%    3. Manutenção de conta      3.1 Conta D.O.'],\n",
       " 'Manutenção de conta': ['Manutenção de conta      3.1 Conta D.O. Particulares (Nota 2)      - Saldo médio até 1.000€  15,00 Trimestral  60,00  - Saldo médio entre 1.001€ e 2.500€  10,00 Trimestral  40,00  - Saldo médio superior a 2.500€  0,00  nan  3.2 Conta Ordenado (Nota 1 e Nota 16)  0,00  nan  3.3 Conta Standard (não admite novas contratações)  0,00  nan  3.4 Conta Future (Nota 3)  0,00  nan  3.5 Conta Kids (Nota 4)  0,00  nan  IS – 4%    3.6 Conta Global (Nota 5)  6,53 / 7,23 Mensal  85,14  3.7 Conta Base (Nota 6)  10,00 Mensal  120,00   3.8 Conta Private (Nota 7)   8,00 Mensal  96,00  3.9 Conta Value (Nota 8)  5,00 Mensal  60,00  3.10 Conta Smart (Nota 9)  5,00 Mensal  60,00  3.11 Conta Futuro (Nota 10)  0,00  nan  3.12 Conta Serviços Mínimos Bancários (Nota 11)  2,00 Semestral  4,00  3.13 Conta Moeda Estrangeira (Nota 12)  5,00 Mensal  60,00  3.14 Conta ABANCA Internacional (Nota 17)  0,00  nan  4.'],\n",
       " 'Levantamento de numerário': ['Levantamento de numerário          4.1 Ao balcão, com apresentação de cheque  0,00  nan  IS – 4%  Nota (13)   4.2 Ao balcão, sem apresentação de cheque  3,50   5. Adesão ao serviço de banca à distância  0,00  nan  nan    6.'],\n",
       " 'Adesão ao serviço de banca à distância': ['Adesão ao serviço de banca à distância  0,00  nan  nan    6. Depósito de moedas metálicas (igual ou superior a 100  Notas (13)  3,50  nan  IS – 4%  moedas por dia e por conta)  (14)  Notas (13)  7.'],\n",
       " 'Depósito de moedas metálicas': ['Depósito de moedas metálicas (igual ou superior a 100  Notas (13)  3,50  nan  IS – 4%  moedas por dia e por conta)  (14)  Notas (13)  7. Alteração de titulares  5,00  nan  IS – 4%  (15)  8.'],\n",
       " 'Alteração de titulares': ['Alteração de titulares  5,00  nan  IS – 4%  (15)  8. Comissão por descoberto bancário  Vide Secção 2.5 Descobertos bancários  Nota (1) Não admite novas contratações.']}"
      ]
     },
     "execution_count": 4,
     "metadata": {},
     "output_type": "execute_result"
    }
   ],
   "source": [
    "abanca_values"
   ]
  },
  {
   "cell_type": "code",
   "execution_count": 5,
   "metadata": {},
   "outputs": [
    {
     "name": "stdout",
     "output_type": "stream",
     "text": [
      "Conta D.O.\n",
      "Conta Ordenado;\n",
      "Conta Standard;\n",
      "Conta Future;\n",
      "Conta Kids;\n",
      "Conta Global Em comercialização:\n",
      "Conta Base;\n",
      "Conta Private;\n",
      "Conta Value;\n",
      "Conta Smart;\n",
      "Conta Futuro;\n",
      "Conta Serviços Mínimos Bancários,\n",
      "Conta Moeda Estrangeira e\n",
      "Conta ABANCA Internacional.\n",
      "Conta D.O.\n",
      "Conta Ordenado (Nota 1 e Nota 16) 0,00 nan 3.3\n",
      "Conta Standard (não admite novas contratações) 0,00 nan 3.4\n",
      "Conta Future (Nota 3) 0,00 nan 3.5\n",
      "Conta Kids (Nota 4) 0,00 nan IS – 4% 3.6\n",
      "Conta Global (Nota 5) 6,53 / 7,23 Mensal 85,14 3.7\n",
      "Conta Base (Nota 6) 10,00 Mensal 120,00 3.8\n",
      "Conta Private (Nota 7) 8,00 Mensal 96,00 3.9\n",
      "Conta Value (Nota 8) 5,00 Mensal 60,00 3.10\n",
      "Conta Smart (Nota 9) 5,00 Mensal 60,00 3.11\n",
      "Conta Futuro (Nota 10) 0,00 nan 3.12\n",
      "Conta Serviços Mínimos Bancários (Nota 11) 2,00 Semestral 4,00 3.13\n",
      "Conta Moeda Estrangeira (Nota 12) 5,00 Mensal 60,00 3.14\n",
      "Conta ABANCA Internacional (Nota 17) 0,00 nan 4.\n",
      "Conta para clientes dos 18 aos 28 anos.\n",
      "Conta para clientes dos 0 aos 17 anos.\n",
      "Conta que permite aceder aos seguintes produtos e serviços, mediante o pagamento de uma comissão mensal fixa: Constituição, manutenção, gestão e titularidade da conta de depósito à ordem; disponibilização de dois cartões de débito; 3 levantamentos em numerário ao balcão; transferências a crédito intrabancárias nacionais; transferências a crédito SEPA+ efetuadas por Homebanking e depósitos de moedas metálicas.\n"
     ]
    }
   ],
   "source": [
    "words = []\n",
    "for account in abanca_accounts:\n",
    "    for element in account:\n",
    "        words.append(element.split())\n",
    "names = []\n",
    "for word in words:\n",
    "    if word[0] == 'Conta' and len(word)>1 and word[1]!='nan' :\n",
    "        names.append(word)\n",
    "finals = []\n",
    "for name in names:\n",
    "    finals.append(' '.join(name))\n",
    "for final in finals:\n",
    "    print(final)"
   ]
  },
  {
   "cell_type": "code",
   "execution_count": 6,
   "metadata": {},
   "outputs": [],
   "source": [
    "def names(x):\n",
    "    words = []\n",
    "    for account in x:\n",
    "        for element in account:\n",
    "            words.append(element.split())\n",
    "    names = []\n",
    "    for word in words:\n",
    "        if word[0] == 'Conta' and len(word)>1:\n",
    "            names.append(word)\n",
    "    finals = []\n",
    "    for name in names:\n",
    "        finals.append(' '.join(name[:7].replace(';','')))\n",
    "    regular = []\n",
    "    for final in finals:\n",
    "        start = final[:3]\n",
    "        if start not in regular:\n",
    "            regular.append(final)\n",
    "        \n",
    "        \n",
    "    return regular"
   ]
  },
  {
   "cell_type": "code",
   "execution_count": 8,
   "metadata": {},
   "outputs": [],
   "source": [
    "# names(abanca_accounts)"
   ]
  },
  {
   "cell_type": "markdown",
   "metadata": {},
   "source": [
    "- trying names from py"
   ]
  },
  {
   "cell_type": "code",
   "execution_count": 9,
   "metadata": {},
   "outputs": [],
   "source": [
    "bankinter_names=Scraping('data/bankinter.pdf', 4, 'bankinter').names()\n",
    "bic_names = Scraping('data/bic.pdf', 5, 'bic').names()\n",
    "abanca_names = abanca.names()\n"
   ]
  },
  {
   "cell_type": "code",
   "execution_count": 10,
   "metadata": {},
   "outputs": [
    {
     "data": {
      "text/plain": [
       "['Conta D.O.',\n",
       " 'Conta Ordenado;',\n",
       " 'Conta Standard;',\n",
       " 'Conta Future;',\n",
       " 'Conta Kids;',\n",
       " 'Conta Global Em comercialização:',\n",
       " 'Conta Base;',\n",
       " 'Conta Private;',\n",
       " 'Conta Value;',\n",
       " 'Conta Smart;',\n",
       " 'Conta Futuro;',\n",
       " 'Conta Serviços Mínimos Bancários,',\n",
       " 'Conta Moeda Estrangeira e',\n",
       " 'Conta ABANCA Internacional.',\n",
       " 'Conta D.O.',\n",
       " 'Conta Ordenado (Nota 1 e Nota 16) 0,00 nan 3.3',\n",
       " 'Conta Standard (não admite novas contratações) 0,00 nan 3.4',\n",
       " 'Conta Future (Nota 3) 0,00 nan 3.5',\n",
       " 'Conta Kids (Nota 4) 0,00 nan IS – 4% 3.6',\n",
       " 'Conta Global (Nota 5) 6,53 / 7,23 Mensal 85,14 3.7',\n",
       " 'Conta Base (Nota 6) 10,00 Mensal 120,00 3.8',\n",
       " 'Conta Private (Nota 7) 8,00 Mensal 96,00 3.9',\n",
       " 'Conta Value (Nota 8) 5,00 Mensal 60,00 3.10',\n",
       " 'Conta Smart (Nota 9) 5,00 Mensal 60,00 3.11',\n",
       " 'Conta Futuro (Nota 10) 0,00 nan 3.12',\n",
       " 'Conta Serviços Mínimos Bancários (Nota 11) 2,00 Semestral 4,00 3.13',\n",
       " 'Conta Moeda Estrangeira (Nota 12) 5,00 Mensal 60,00 3.14',\n",
       " 'Conta ABANCA Internacional (Nota 17) 0,00 nan 4.',\n",
       " 'Conta para clientes dos 18 aos 28 anos.',\n",
       " 'Conta para clientes dos 0 aos 17 anos.',\n",
       " 'Conta que permite aceder aos seguintes produtos e serviços, mediante o pagamento de uma']"
      ]
     },
     "execution_count": 10,
     "metadata": {},
     "output_type": "execute_result"
    }
   ],
   "source": [
    "abanca_names"
   ]
  },
  {
   "cell_type": "markdown",
   "metadata": {},
   "source": [
    "- now you can find values"
   ]
  },
  {
   "cell_type": "code",
   "execution_count": 17,
   "metadata": {},
   "outputs": [],
   "source": [
    "values =[]\n",
    "for name in abanca_names:\n",
    "    for sentence in abanca.values():\n",
    "        for string in sentence:\n",
    "            if name in string:\n",
    "                values.append(string)"
   ]
  },
  {
   "cell_type": "code",
   "execution_count": 18,
   "metadata": {},
   "outputs": [
    {
     "data": {
      "text/plain": [
       "[]"
      ]
     },
     "execution_count": 18,
     "metadata": {},
     "output_type": "execute_result"
    }
   ],
   "source": [
    "values"
   ]
  },
  {
   "cell_type": "markdown",
   "metadata": {},
   "source": [
    "# how to understand if pdf is working with or without splitting right"
   ]
  },
  {
   "cell_type": "code",
   "execution_count": 43,
   "metadata": {},
   "outputs": [],
   "source": [
    "def extract_clean(self):\n",
    "    file = pdfplumber.open(self.pdf)\n",
    "    page = file.pages[self.page]\n",
    "    text = page.extract_text()\n",
    "    if len(page) > 1 : \n",
    "        joined_text = []\n",
    "        for el in self:\n",
    "            page = file.pages[el]\n",
    "            text = page.extract_text()\n",
    "            joined_text.append(text)\n",
    "        text ='             NEXT          '.join(joined_text) \n",
    "        text = text.replace('Isento', '0,00')\n",
    "        text = text.replace('n/a', str(np.nan))\n",
    "        text = re.sub('--', str(np.nan), text)\n",
    "        if nltk.sent_tokenize(text):\n",
    "            if self.splitting_right == True:\n",
    "                text = text.replace('\\n','. ')\n",
    "                # text = len_sentences(text)\n",
    "                text = nltk.sent_tokenize(text)\n",
    "                return text\n",
    "            text = text.replace('\\n',' ')\n",
    "            # text = len_sentences(text)\n",
    "            text = nltk.sent_tokenize(text)\n",
    "        return text\n",
    "    else:\n",
    "        text = text.replace('Isento', '0,00')\n",
    "        text = text.replace('n/a', str(np.nan))\n",
    "        text = re.sub('--', str(np.nan), text)\n",
    "        if nltk.sent_tokenize(text):\n",
    "            if self.splitting_right == True:\n",
    "                text = text.replace('\\n','. ')\n",
    "                # text = len_sentences(text)\n",
    "                text = nltk.sent_tokenize(text)\n",
    "                return text\n",
    "            text = text.replace('\\n',' ')\n",
    "            # text = len_sentences(text)\n",
    "            text = nltk.sent_tokenize(text)\n",
    "        return text"
   ]
  },
  {
   "cell_type": "code",
   "execution_count": 44,
   "metadata": {},
   "outputs": [],
   "source": [
    "bic_34= Scraping('data/bic.pdf', [3,4], 'bic').extract_clean()"
   ]
  },
  {
   "cell_type": "code",
   "execution_count": 45,
   "metadata": {},
   "outputs": [
    {
     "data": {
      "text/plain": [
       "['Entrada em vigor: 08-jan-2019 INFORMAÇÃO GERAL ÍNDICE Reclamações Para a receção e resolução de reclamações, contacte: Reclamações Telefone: 808 22 44 44   eurobic.reclamacoes@eurobic.pt Qualquer reclamação pode ainda ser dirigida ao Departamento de Supervisão Bancária do Banco de  Banco de Portugal Banco de Portugal Apartado 2240 www.clientebancario.bportugal.pt Fundo de Garantia de Depósitos Os depósitos constituídos no Banco BIC Português, S.A. beneficiam da garantia de reembolso prestada pelo Fundo de Garantia de Depósitos sempre que ocorra a indisponibilidade dos depósitos por razões diretamente relacionadas com a sua situação financeira.',\n",
       " 'O Fundo de Garantia de Depósitos garante o reembolso até ao valor máximo de 100.000,00 € por cada depositante, sejam os depositantes residentes ou não em Portugal e os depósitos expressos em moeda nacional ou estrangeira.',\n",
       " 'No cálculo do valor dos depósitos de cada depositante, considera-se o valor do conjunto das contas de depósitonadataemqueseverificouaindisponibilidadedepagamentoporpartedainstituição,incluindoos juros; o saldo dos depósitos em moeda estrangeira é para o efeito convertido em euros, ao câmbio da referida data, fixing do Banco de Portugal.',\n",
       " 'Oreembolsodeveráterlugarnoprazomáximode7dias,paraumaparcelaaté10.000,00€e15diasúteis, para o montante remanescente até ao valor de 100.000,00 €, a contar da data em que os depósitos se tornam indisponíveis.',\n",
       " 'Em circunstâncias absolutamente excecionais e relativamente a casos individuais, podeoFundosolicitaraoBancodePortugalumaprorrogaçãodaqueleprazo,porperíodonãosuperiora10 dias úteis.',\n",
       " 'Para informações complementares consulte os endereços www.clientebancario.bportugal.pt/  e www.fgd.pt.',\n",
       " 'Banco BIC Português, SA             NEXT          Entrada em vigor: 24-jul-2017 INFORMAÇÃO COMPLEMENTAR ÍNDICE Datas - Valor Data de  Operações Bancárias Data-valor Observações Disponibilização Depósitos Nota 1 Numerário Agências D Imediata ATM c/ conferência automática - em dia útil D Imediata - em dia não util D + 1 Dia útil seguinte Cheques e  Agências outros valores - sobre a própria instituição D Imediata - sobre outra instituição (Visados) D Imediata - sobre outra instituição D + 1 2º dia útil ATM c/ conferência automática nan nan Entregas para depósito  Nota 1 Numerário Agências D + 1 Dia útil seguinte ATM s/ conferência automática D* + 1 Dia útil seguinte Nota 2 Cheques e  Agências outros valores - sobre a própria instituição nan nan - sobre outra instituição (Visados) nan nan - sobre outra instituição nan nan ATM s/ conferência automática D* + 1 2º dia útil Nota 3 Operações de pagamento (incluindo transferências, débitos diretos, instrumentos de pagamento) Internas (entre contas da mesma instituição) D Imediata Interbancárias nacionais Nota 4 - urgentes D Imediata - normais D + 1 Dia útil seguinte Transfronteiras - Euro D+1 Dia útil seguinte - Em moeda diferente de Euros D+2 Até 4º dia útil Movimentação de contas de depósito Depósitos a  Constituição / Reforço D Imediata Prazo Simples Mobilização antecipada D Imediata Reembolso no vencimento D Imediata Pagamento de juros remuneratórios D Imediata Operações de desconto Desconto Comercial (Letras) D** D** Operações de Desconto por financiamento (Livrança) D** D** Legenda: D: Dia de realização da operação / ATM: Terminais automáticos / D*: Data da conferência pela instituição de crédito  depositária ou seu representante / D**: Corresponde à data indicada na proposta de Desconto.',\n",
       " 'Nota 1 Não são considerados depósitos bancários as entregas de valores ao balcão, em terminais automáticos que não disponhamdepossibilidadedeconferênciaimediata,ouemcofresnoturnosoudiurnos,comrenúncia,porpartedequem entregaessesvalores,àconferênciaimediatapelodepositário,eaindaarecolhadevaloresjuntodosClienteseoutras entregasem quenãoseverifiqueasuaconferênciaimediatapelodepositário.Nestescasos,as entregasourecolhade valorespassamaserconsideradasdepósitosapósconferênciaecertificaçãopelaIC,devendoestaconferirecertificaras entregasouarecolhadevaloresnomaiscurtolapsodetempo,nãosuperioravinteequatrohoras,salvoemsituações excecionais.',\n",
       " 'Nota 2 A data de disponibilização refere-se ao dia útil seguinte ao dia da conferência pela Instituição de Crédito.',\n",
       " 'Nota 3 A data de disponibilização refere-se ao 2º dia útil ao dia da conferência pela Instituição de Crédito.',\n",
       " 'Nota 4 Solicitadas até às 12h00m.',\n",
       " 'Dever de Informação Ao abrigo do Decreto-Lei n.º 18/2007, do Decreto-Lei n.º 317/2009 e do Aviso 3/2007 do Banco de Portugal, informa-se: Data valor: a data a partir da qual a transferência ou depósito se tornam efetivos, passíveis de serem movimentados pelo beneficiário e se  inicia a eventual contagem de juros decorrente dos saldos credores ou devedores das contas de depósito.',\n",
       " 'Data de disponibilização: o momento a partir do qual o titular pode livremente proceder à movimentação dos fundos depositados na sua  conta de depósitos, sem estar sujeito ao pagamento de juros pela mobilização desses fundos.',\n",
       " 'Dia útil: o período do dia em que a instituição se encontra aberta ao público em horário normal de funcionamento (entre as 8h30 e as 15h).',\n",
       " 'Banco BIC Português, SA']"
      ]
     },
     "execution_count": 45,
     "metadata": {},
     "output_type": "execute_result"
    }
   ],
   "source": [
    "bic_34"
   ]
  },
  {
   "cell_type": "code",
   "execution_count": null,
   "metadata": {},
   "outputs": [],
   "source": []
  },
  {
   "cell_type": "code",
   "execution_count": 37,
   "metadata": {},
   "outputs": [],
   "source": [
    "self = [1,2]\n",
    "joined_text = []\n",
    "for el in self:\n",
    "    page = file.pages[el]\n",
    "    text = page.extract_text()\n",
    "    joined_text.append(text)\n",
    "new_text ='             NEXT          '.join(joined_text)   \n"
   ]
  },
  {
   "cell_type": "code",
   "execution_count": 38,
   "metadata": {},
   "outputs": [
    {
     "data": {
      "text/plain": [
       "'BANKINTER, S.A.- Sucursal em Portugal\\nEntrada em vigor: 23-fevereiro-2018\\nFOLHETO DE COMISSÕES E DESPESAS \\nINFORMAÇÃO GERAL Reclamações\\nFundo de Garantia de Depósitos\\nINFORMAÇÃO COMPLEMENTAR Datas-Valor\\nClientes Particulares Outros Clientes\\n1 CONTAS DE DEPÓSITO 9 CONTAS DE DEPÓSITO\\n1.1. Depósitos à ordem 9.1. Depósitos à ordem\\n1.2. Outras modalidades de depósito 9.2. Outras modalidades de depósito\\n2 OPERAÇÕES DE CRÉDITO 10 OPERAÇÕES DE CRÉDITO\\n2.1. Crédito à Habitação e outros Créditos Hipotecários 10.1. Linhas de crédito e contas correntes\\n2.2. Crédito pessoal 10.2. Descobertos bancários\\n2.3. Crédito automóvel 10.3. Outros créditos\\n2.4. Linhas de Crédito e contas Correntes\\n2.5. Descobertos bancários\\n2.6. Outros créditos a particulares\\n3 CARTÕES DE CRÉDITO E DE DÉBITO 11 CARTÕES DE CRÉDITO E DE DÉBITO\\n3.1. Cartões de crédito 11.1. Cartões de crédito\\n3.2. Cartões de débito 11.2. Cartões de débito\\n3.4. Operações com cartões 11.4. Operações com cartões\\n3.5. Outros serviços com cartões\\n4 CHEQUES 12 CHEQUES\\n4.1. Requisição e entrega de módulos de cheque 12.1. Requisição e entrega de módulos de cheque\\n4.2. Outros serviços com cheques 12.2. Outros serviços com cheques\\n5 TRANSFERÊNCIAS 13 TRANSFERÊNCIAS\\n5.1. Ordens de transferência em euros 13.1. Ordens de transferência em euros\\n5.2. Outros serviços com transferências 13.2. Outros serviços com transferências\\n6 COBRANÇAS 14 COBRANÇAS\\n6.1. Instruções de Cobrança (devedor) 14.1. Cobrança de efeitos comerciais\\n14.2. Emissão de instruções de cobrança (credor)\\n14.3. Outros serviços com cobranças\\n7 PRESTAÇÃO DE SERVIÇOS 15 PRESTAÇÃO DE SERVIÇOS \\n7.1. Compra e venda de notas estrangeiras 15.1. Compra e venda de notas estrangeiras\\n7.2. Garantias prestadas 15.2. Garantias prestadas\\n7.3. Outros serviços 15.3. Outros serviços\\n16  OPERAÇÕES COM O ESTRANGEIRO\\n16.1. Remessas documentárias\\n16.2 . Créditos documentários\\n16.4 . Outras operações sobre o estrangeiro\\nBankinter, S.A., Sucursal em Portugal Folheto de Comissões e Despesas - Página 1 / 1             NEXT          BANKINTER, S.A.- Sucursal em Portugal\\nEntrada em vigor: 05-fevereiro-2019\\nINFORMAÇÃO GERAL (ÍNDICE)\\nReclamações\\nPara a recepção e resolução de reclamações, contacte: Qualquer reclamação pode ainda ser dirigida ao Departamento de \\nProvedoria do Cliente Bankinter Supervisão Bancária do Banco de Portugal:\\n● Morada: Praça Marquês de Pombal, 13, 2º andar, 1250-162 Lisboa Banco de Portugal - Departamento de Supervisão Bancária\\n● Telefone: 800 261 820 / Fax; 211 158 022 ● Morada: Apartado 2240, 106-001 LISBOA \\n● Email: provedoria.cliente.pt@bankinter.com ● Internet: www.clientebancario.bportugal.pt\\nFundo de Garantia\\nOs depósitos constituídos no Bankinter, S.A. – Sucursal em Portugal beneficiam da garantia de reembolso prestada pelo Fondo de Garantía de Depósitos de \\nEntidades de Crédito sempre que ocorra a indisponibilidade dos depósitos por razões directamente relacionadas com a sua situação financeira. \\nO Fondo de Garantia de Depósitos de Entidades de Crédito garante o reembolso até ao valor máximo de 100.000 euros (cem mil euros) por cada depositante, \\nsejam os depositantes residentes ou não em Portugal e os depósitos expressos em moeda nacional ou estrangeira. \\nNo cálculo do valor dos depósitos de cada depositante, considera-se o valor do conjunto das contas de depósito na data em que se verificou a \\nindisponibilidade de pagamento por parte da instituição, incluindo os juros; o saldo dos depósitos em moeda estrangeira é para o efeito convertido em euros, \\nutilizando as taxas de câmbio do dia dos factos referidos no artigo 8.1 do Real Decreto 2606/1996 de 20 de dezembro, ou do dia útil anterior quando aquele \\nseja não útil.  \\nO reembolso deverá ter lugar no prazo máximo de:\\n- quinze (15) dias úteis, de 1 de janeiro de 2019 até 31 de dezembro de 2020;  \\n- dez (10) dias úteis, de 1 de janeiro de 2021 até 31 de dezembro de 2023;\\n- sete (7) dias úteis, a partir de 31 de dezembro de 2023.\\nSe o depositante não tiver sido reembolsado dentro do prazo indicado, deve entrar em contacto com o Sistema de Garantia de Depósitos, já que o período \\npara exigir o reembolso poderá estar limitado.   \\nPara informações complementares consulte os endereços www.clientebancario.bportugal.pt/ e www.fgd.es.\\n \\nBankinter, S.A., Sucursal em Portugal Informação Geral - Página 1 / 1'"
      ]
     },
     "execution_count": 38,
     "metadata": {},
     "output_type": "execute_result"
    }
   ],
   "source": [
    "if len(page) > 1 : \n",
    "    joined_text = []\n",
    "    for el in self:\n",
    "        page = file.pages[el]\n",
    "        text = page.extract_text()\n",
    "        joined_text.append(text)\n",
    "    text ='             NEXT          '.join(joined_text) \n",
    "    text = text.replace('Isento', '0,00')\n",
    "    text = text.replace('n/a', str(np.nan))\n",
    "    text = re.sub('--', str(np.nan), text)\n",
    "    if nltk.sent_tokenize(text)\n",
    "        if self.splitting_right == True:\n",
    "            text = text.replace('\\n','. ')\n",
    "            # text = len_sentences(text)\n",
    "            text = nltk.sent_tokenize(text)\n",
    "            return text\n",
    "        text = text.replace('\\n',' ')\n",
    "        # text = len_sentences(text)\n",
    "        text = nltk.sent_tokenize(text)\n",
    "    return text\n",
    "        "
   ]
  },
  {
   "cell_type": "code",
   "execution_count": null,
   "metadata": {},
   "outputs": [],
   "source": []
  }
 ],
 "metadata": {
  "kernelspec": {
   "display_name": "Python 3",
   "language": "python",
   "name": "python3"
  },
  "language_info": {
   "codemirror_mode": {
    "name": "ipython",
    "version": 3
   },
   "file_extension": ".py",
   "mimetype": "text/x-python",
   "name": "python",
   "nbconvert_exporter": "python",
   "pygments_lexer": "ipython3",
   "version": "3.8.6"
  },
  "toc": {
   "base_numbering": 1,
   "nav_menu": {},
   "number_sections": true,
   "sideBar": true,
   "skip_h1_title": false,
   "title_cell": "Table of Contents",
   "title_sidebar": "Contents",
   "toc_cell": false,
   "toc_position": {},
   "toc_section_display": true,
   "toc_window_display": false
  }
 },
 "nbformat": 4,
 "nbformat_minor": 4
}
