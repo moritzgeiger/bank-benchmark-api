{
 "cells": [
  {
   "cell_type": "code",
   "execution_count": 11,
   "metadata": {},
   "outputs": [],
   "source": [
    "%config IPCompleter.greedy=True\n",
    "%load_ext autoreload\n",
    "%autoreload 2\n",
    "import pandas as pd\n",
    "import numpy as np\n",
    "from scraping import Scraping"
   ]
  },
  {
   "cell_type": "code",
   "execution_count": 8,
   "metadata": {},
   "outputs": [],
   "source": [
    "abanca = Scraping('data/ABANCA2021com.pdf', 4, 'abanca')"
   ]
  },
  {
   "cell_type": "code",
   "execution_count": 10,
   "metadata": {},
   "outputs": [],
   "source": [
    "abanca_values = abanca.values()\n",
    "abanca_accounts = abanca.n_account()"
   ]
  },
  {
   "cell_type": "code",
   "execution_count": 15,
   "metadata": {},
   "outputs": [
    {
     "data": {
      "text/plain": [
       "[['ContaCONTAS DE DEPÓSITO (PARTICULARES)                                                                                   ÍNDICE   1.1 Depósitos à ordem  Comissões  Acresce  Outras    Euros (Mín/Máx)  Valor anual  Imposto  condições  Produtos: Fora de comercialização: ',\n",
       "  'Conta D.O.'],\n",
       " ['ContaParticulares; ',\n",
       "  'Conta Ordenado; ',\n",
       "  'Conta Standard; ',\n",
       "  'Conta Future; ',\n",
       "  'Conta  Kids; ',\n",
       "  'Conta Global  Em comercialização: ',\n",
       "  'Conta Base; ',\n",
       "  'Conta Private; ',\n",
       "  'Conta Value; ',\n",
       "  'Conta Smart; ',\n",
       "  'Conta Futuro; ',\n",
       "  'Conta Serviços Mínimos  Bancários, ',\n",
       "  'Conta Moeda Estrangeira e ',\n",
       "  'Conta ABANCA Internacional.']]"
      ]
     },
     "execution_count": 15,
     "metadata": {},
     "output_type": "execute_result"
    }
   ],
   "source": [
    "abanca_accounts[:2]"
   ]
  },
  {
   "cell_type": "code",
   "execution_count": 83,
   "metadata": {},
   "outputs": [
    {
     "name": "stdout",
     "output_type": "stream",
     "text": [
      "Conta D.O.\n",
      "Conta Ordenado;\n",
      "Conta Standard;\n",
      "Conta Future;\n",
      "Conta Kids;\n",
      "Conta Global Em comercialização:\n",
      "Conta Base;\n",
      "Conta Private;\n",
      "Conta Value;\n",
      "Conta Smart;\n",
      "Conta Futuro;\n",
      "Conta Serviços Mínimos Bancários,\n",
      "Conta Moeda Estrangeira e\n",
      "Conta ABANCA Internacional.\n",
      "Conta D.O.\n",
      "Conta Ordenado (Nota 1 e Nota 16) 0,00 nan 3.3\n",
      "Conta Standard (não admite novas contratações) 0,00 nan 3.4\n",
      "Conta Future (Nota 3) 0,00 nan 3.5\n",
      "Conta Kids (Nota 4) 0,00 nan IS – 4% 3.6\n",
      "Conta Global (Nota 5) 6,53 / 7,23 Mensal 85,14 3.7\n",
      "Conta Base (Nota 6) 10,00 Mensal 120,00 3.8\n",
      "Conta Private (Nota 7) 8,00 Mensal 96,00 3.9\n",
      "Conta Value (Nota 8) 5,00 Mensal 60,00 3.10\n",
      "Conta Smart (Nota 9) 5,00 Mensal 60,00 3.11\n",
      "Conta Futuro (Nota 10) 0,00 nan 3.12\n",
      "Conta Serviços Mínimos Bancários (Nota 11) 2,00 Semestral 4,00 3.13\n",
      "Conta Moeda Estrangeira (Nota 12) 5,00 Mensal 60,00 3.14\n",
      "Conta ABANCA Internacional (Nota 17) 0,00 nan 4.\n",
      "Conta para clientes dos 18 aos 28 anos.\n",
      "Conta para clientes dos 0 aos 17 anos.\n",
      "Conta que permite aceder aos seguintes produtos e serviços, mediante o pagamento de uma comissão mensal fixa: Constituição, manutenção, gestão e titularidade da conta de depósito à ordem; disponibilização de dois cartões de débito; 3 levantamentos em numerário ao balcão; transferências a crédito intrabancárias nacionais; transferências a crédito SEPA+ efetuadas por Homebanking e depósitos de moedas metálicas.\n"
     ]
    }
   ],
   "source": [
    "words = []\n",
    "for account in abanca_accounts:\n",
    "    for element in account:\n",
    "        words.append(element.split())\n",
    "names = []\n",
    "for word in words:\n",
    "    if word[0] == 'Conta' and len(word)>1 and word[1]!='nan' :\n",
    "        names.append(word)\n",
    "finals = []\n",
    "for name in names:\n",
    "    finals.append(' '.join(name))\n",
    "for final in finals:\n",
    "    print(final)"
   ]
  },
  {
   "cell_type": "code",
   "execution_count": 84,
   "metadata": {},
   "outputs": [],
   "source": [
    "def names(x):\n",
    "    words = []\n",
    "    for account in x:\n",
    "        for element in account:\n",
    "            words.append(element.split())\n",
    "    names = []\n",
    "    for word in words:\n",
    "        if word[0] == 'Conta' and len(word)>1:\n",
    "            names.append(word)\n",
    "    finals = []\n",
    "    for name in names:\n",
    "        finals.append(' '.join(name[:7]))\n",
    "    regular = []\n",
    "    for final in finals:\n",
    "        start = final[:3]\n",
    "        if start not in regular:\n",
    "            regular.append(final)\n",
    "        \n",
    "        \n",
    "    return regular"
   ]
  },
  {
   "cell_type": "code",
   "execution_count": 85,
   "metadata": {},
   "outputs": [
    {
     "data": {
      "text/plain": [
       "['Conta D.O.',\n",
       " 'Conta Ordenado;',\n",
       " 'Conta Standard;',\n",
       " 'Conta Future;',\n",
       " 'Conta Kids;',\n",
       " 'Conta Global Em comercialização:',\n",
       " 'Conta Base;',\n",
       " 'Conta Private;',\n",
       " 'Conta Value;',\n",
       " 'Conta Smart;',\n",
       " 'Conta Futuro;',\n",
       " 'Conta Serviços Mínimos Bancários,',\n",
       " 'Conta Moeda Estrangeira e',\n",
       " 'Conta ABANCA Internacional.',\n",
       " 'Conta D.O.',\n",
       " 'Conta Ordenado (Nota 1 e Nota 16)',\n",
       " 'Conta Standard (não admite novas contratações) 0,00',\n",
       " 'Conta Future (Nota 3) 0,00 nan 3.5',\n",
       " 'Conta Kids (Nota 4) 0,00 nan IS',\n",
       " 'Conta Global (Nota 5) 6,53 / 7,23',\n",
       " 'Conta Base (Nota 6) 10,00 Mensal 120,00',\n",
       " 'Conta Private (Nota 7) 8,00 Mensal 96,00',\n",
       " 'Conta Value (Nota 8) 5,00 Mensal 60,00',\n",
       " 'Conta Smart (Nota 9) 5,00 Mensal 60,00',\n",
       " 'Conta Futuro (Nota 10) 0,00 nan 3.12',\n",
       " 'Conta Serviços Mínimos Bancários (Nota 11) 2,00',\n",
       " 'Conta Moeda Estrangeira (Nota 12) 5,00 Mensal',\n",
       " 'Conta ABANCA Internacional (Nota 17) 0,00 nan',\n",
       " 'Conta para clientes dos 18 aos 28',\n",
       " 'Conta para clientes dos 0 aos 17',\n",
       " 'Conta que permite aceder aos seguintes produtos']"
      ]
     },
     "execution_count": 85,
     "metadata": {},
     "output_type": "execute_result"
    }
   ],
   "source": [
    "names(abanca_accounts)"
   ]
  },
  {
   "cell_type": "markdown",
   "metadata": {},
   "source": [
    "- trying names from py"
   ]
  },
  {
   "cell_type": "code",
   "execution_count": 86,
   "metadata": {},
   "outputs": [],
   "source": [
    "bankinter_names=Scraping('data/bankinter.pdf', 4, 'bankinter').names()\n",
    "bic_names = Scraping('data/bic.pdf', 5, 'bic').names()\n",
    "abanca_names = abanca.names()\n"
   ]
  },
  {
   "cell_type": "code",
   "execution_count": 89,
   "metadata": {},
   "outputs": [
    {
     "data": {
      "text/plain": [
       "['Conta Mais Ordenado 1.',\n",
       " 'Conta Bankinter (idade igual ou superior a 18 anos).',\n",
       " 'Conta Bankinter em Moeda Estrangeira.',\n",
       " 'Conta B Portugal em Moeda Estrangeira (Clientes Portugueses Não Residentes) -',\n",
       " 'Conta B Dynamic (idades entre 18 e 54 anos),',\n",
       " 'Conta B Relax (idade igual ou superior a 55 anos),',\n",
       " 'Conta Premier (Clientes Segmento Premier),',\n",
       " 'Conta B Portugal (Clientes Portugueses Não Residentes) -',\n",
       " 'Conta Internacional (Clientes Estrangeiros Não Residentes em Portugal) - encerrada à comercialização.',\n",
       " 'Conta BK Mini (Antiga',\n",
       " 'Conta B Teen),',\n",
       " 'Conta Mediador de Seguros e',\n",
       " 'Conta Private (Clientes Segmento Private);',\n",
       " 'Conta Pessoal (Clientes Crédito ao Consumo via internet- descontinuada);',\n",
       " 'Conta B Kid (idades entre 0 e 13 anos),',\n",
       " 'Conta B U (Estudantes Universitários).',\n",
       " 'Conta B Prime (',\n",
       " 'Conta Ordenado para Clientes Barclaycard - descontinuada);',\n",
       " 'Conta B Dynamic + (',\n",
       " 'Conta Ordenado para Clientes com idades entre 18 e 54 anos),',\n",
       " 'Conta B Relax + (',\n",
       " 'Conta Ordenado para Clientes com idade igual ou superior a 55 anos),',\n",
       " 'Conta Premier + (',\n",
       " 'Conta Ordenado para Clientes Segmento Premier),',\n",
       " 'Conta B Prime Plus (',\n",
       " 'Conta Ordenado para Clientes Barclaycard e para Clientes captados no âmbito da Parceria entre:',\n",
       " 'Conta Serviços Mínimos Bancários 1,03 1.']"
      ]
     },
     "execution_count": 89,
     "metadata": {},
     "output_type": "execute_result"
    }
   ],
   "source": [
    "bankinter_names"
   ]
  },
  {
   "cell_type": "code",
   "execution_count": null,
   "metadata": {},
   "outputs": [],
   "source": []
  }
 ],
 "metadata": {
  "kernelspec": {
   "display_name": "Python 3",
   "language": "python",
   "name": "python3"
  },
  "language_info": {
   "codemirror_mode": {
    "name": "ipython",
    "version": 3
   },
   "file_extension": ".py",
   "mimetype": "text/x-python",
   "name": "python",
   "nbconvert_exporter": "python",
   "pygments_lexer": "ipython3",
   "version": "3.8.6"
  },
  "toc": {
   "base_numbering": 1,
   "nav_menu": {},
   "number_sections": true,
   "sideBar": true,
   "skip_h1_title": false,
   "title_cell": "Table of Contents",
   "title_sidebar": "Contents",
   "toc_cell": false,
   "toc_position": {},
   "toc_section_display": true,
   "toc_window_display": false
  }
 },
 "nbformat": 4,
 "nbformat_minor": 4
}
