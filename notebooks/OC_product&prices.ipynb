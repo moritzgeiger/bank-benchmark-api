{
 "cells": [
  {
   "cell_type": "code",
   "execution_count": 23,
   "metadata": {},
   "outputs": [
    {
     "name": "stdout",
     "output_type": "stream",
     "text": [
      "The autoreload extension is already loaded. To reload it, use:\n",
      "  %reload_ext autoreload\n"
     ]
    }
   ],
   "source": [
    "%config IPCompleter.greedy=True\n",
    "%load_ext autoreload\n",
    "%autoreload 2\n",
    "import pandas as pd\n",
    "import numpy as np\n",
    "from scraping import Scraping\n",
    "import re"
   ]
  },
  {
   "cell_type": "code",
   "execution_count": 8,
   "metadata": {},
   "outputs": [],
   "source": [
    "abanca = Scraping('data/ABANCA2021com.pdf', 4, 'abanca')"
   ]
  },
  {
   "cell_type": "code",
   "execution_count": 10,
   "metadata": {},
   "outputs": [],
   "source": [
    "abanca_values = abanca.values()\n",
    "abanca_accounts = abanca.n_account()"
   ]
  },
  {
   "cell_type": "code",
   "execution_count": 48,
   "metadata": {},
   "outputs": [
    {
     "data": {
      "text/plain": [
       "{'Emissão de extrato': ['Emissão de extrato      1.1  Mensal (enviado ao domicílio)  0,00  nan  IVA – 23%  1.2  Outros, para além do indicado em 1.1  2,00 por extrato  1.3  2ª Via      7,50    2. Fotocópias de segundas vias de talões de depósito   5,00 por documento  nan  IVA – 23%    3.'],\n",
       " 'Fotocópias de segundas vias de talões de depósito': ['Fotocópias de segundas vias de talões de depósito   5,00 por documento  nan  IVA – 23%    3. Manutenção de conta      3.1 Conta D.O.'],\n",
       " 'Manutenção de conta': ['Manutenção de conta      3.1 Conta D.O. Particulares (Nota 2)      - Saldo médio até 1.000€  15,00 Trimestral  60,00  - Saldo médio entre 1.001€ e 2.500€  10,00 Trimestral  40,00  - Saldo médio superior a 2.500€  0,00  nan  3.2 Conta Ordenado (Nota 1 e Nota 16)  0,00  nan  3.3 Conta Standard (não admite novas contratações)  0,00  nan  3.4 Conta Future (Nota 3)  0,00  nan  3.5 Conta Kids (Nota 4)  0,00  nan  IS – 4%    3.6 Conta Global (Nota 5)  6,53 / 7,23 Mensal  85,14  3.7 Conta Base (Nota 6)  10,00 Mensal  120,00   3.8 Conta Private (Nota 7)   8,00 Mensal  96,00  3.9 Conta Value (Nota 8)  5,00 Mensal  60,00  3.10 Conta Smart (Nota 9)  5,00 Mensal  60,00  3.11 Conta Futuro (Nota 10)  0,00  nan  3.12 Conta Serviços Mínimos Bancários (Nota 11)  2,00 Semestral  4,00  3.13 Conta Moeda Estrangeira (Nota 12)  5,00 Mensal  60,00  3.14 Conta ABANCA Internacional (Nota 17)  0,00  nan  4.'],\n",
       " 'Levantamento de numerário': ['Levantamento de numerário          4.1 Ao balcão, com apresentação de cheque  0,00  nan  IS – 4%  Nota (13)   4.2 Ao balcão, sem apresentação de cheque  3,50   5. Adesão ao serviço de banca à distância  0,00  nan  nan    6.'],\n",
       " 'Adesão ao serviço de banca à distância': ['Adesão ao serviço de banca à distância  0,00  nan  nan    6. Depósito de moedas metálicas (igual ou superior a 100  Notas (13)  3,50  nan  IS – 4%  moedas por dia e por conta)  (14)  Notas (13)  7.'],\n",
       " 'Depósito de moedas metálicas': ['Depósito de moedas metálicas (igual ou superior a 100  Notas (13)  3,50  nan  IS – 4%  moedas por dia e por conta)  (14)  Notas (13)  7. Alteração de titulares  5,00  nan  IS – 4%  (15)  8.'],\n",
       " 'Alteração de titulares': ['Alteração de titulares  5,00  nan  IS – 4%  (15)  8. Comissão por descoberto bancário  Vide Secção 2.5 Descobertos bancários  Nota (1) Não admite novas contratações.']}"
      ]
     },
     "execution_count": 48,
     "metadata": {},
     "output_type": "execute_result"
    }
   ],
   "source": [
    "abanca_values"
   ]
  },
  {
   "cell_type": "code",
   "execution_count": 83,
   "metadata": {},
   "outputs": [
    {
     "name": "stdout",
     "output_type": "stream",
     "text": [
      "Conta D.O.\n",
      "Conta Ordenado;\n",
      "Conta Standard;\n",
      "Conta Future;\n",
      "Conta Kids;\n",
      "Conta Global Em comercialização:\n",
      "Conta Base;\n",
      "Conta Private;\n",
      "Conta Value;\n",
      "Conta Smart;\n",
      "Conta Futuro;\n",
      "Conta Serviços Mínimos Bancários,\n",
      "Conta Moeda Estrangeira e\n",
      "Conta ABANCA Internacional.\n",
      "Conta D.O.\n",
      "Conta Ordenado (Nota 1 e Nota 16) 0,00 nan 3.3\n",
      "Conta Standard (não admite novas contratações) 0,00 nan 3.4\n",
      "Conta Future (Nota 3) 0,00 nan 3.5\n",
      "Conta Kids (Nota 4) 0,00 nan IS – 4% 3.6\n",
      "Conta Global (Nota 5) 6,53 / 7,23 Mensal 85,14 3.7\n",
      "Conta Base (Nota 6) 10,00 Mensal 120,00 3.8\n",
      "Conta Private (Nota 7) 8,00 Mensal 96,00 3.9\n",
      "Conta Value (Nota 8) 5,00 Mensal 60,00 3.10\n",
      "Conta Smart (Nota 9) 5,00 Mensal 60,00 3.11\n",
      "Conta Futuro (Nota 10) 0,00 nan 3.12\n",
      "Conta Serviços Mínimos Bancários (Nota 11) 2,00 Semestral 4,00 3.13\n",
      "Conta Moeda Estrangeira (Nota 12) 5,00 Mensal 60,00 3.14\n",
      "Conta ABANCA Internacional (Nota 17) 0,00 nan 4.\n",
      "Conta para clientes dos 18 aos 28 anos.\n",
      "Conta para clientes dos 0 aos 17 anos.\n",
      "Conta que permite aceder aos seguintes produtos e serviços, mediante o pagamento de uma comissão mensal fixa: Constituição, manutenção, gestão e titularidade da conta de depósito à ordem; disponibilização de dois cartões de débito; 3 levantamentos em numerário ao balcão; transferências a crédito intrabancárias nacionais; transferências a crédito SEPA+ efetuadas por Homebanking e depósitos de moedas metálicas.\n"
     ]
    }
   ],
   "source": [
    "words = []\n",
    "for account in abanca_accounts:\n",
    "    for element in account:\n",
    "        words.append(element.split())\n",
    "names = []\n",
    "for word in words:\n",
    "    if word[0] == 'Conta' and len(word)>1 and word[1]!='nan' :\n",
    "        names.append(word)\n",
    "finals = []\n",
    "for name in names:\n",
    "    finals.append(' '.join(name))\n",
    "for final in finals:\n",
    "    print(final)"
   ]
  },
  {
   "cell_type": "code",
   "execution_count": 41,
   "metadata": {},
   "outputs": [],
   "source": [
    "def names(x):\n",
    "    words = []\n",
    "    for account in x:\n",
    "        for element in account:\n",
    "            words.append(element.split())\n",
    "    names = []\n",
    "    for word in words:\n",
    "        if word[0] == 'Conta' and len(word)>1:\n",
    "            names.append(word)\n",
    "    finals = []\n",
    "    for name in names:\n",
    "        finals.append(' '.join(name[:7].replace(';','')))\n",
    "    regular = []\n",
    "    for final in finals:\n",
    "        start = final[:3]\n",
    "        if start not in regular:\n",
    "            regular.append(final)\n",
    "        \n",
    "        \n",
    "    return regular"
   ]
  },
  {
   "cell_type": "code",
   "execution_count": 85,
   "metadata": {},
   "outputs": [
    {
     "data": {
      "text/plain": [
       "['Conta D.O.',\n",
       " 'Conta Ordenado;',\n",
       " 'Conta Standard;',\n",
       " 'Conta Future;',\n",
       " 'Conta Kids;',\n",
       " 'Conta Global Em comercialização:',\n",
       " 'Conta Base;',\n",
       " 'Conta Private;',\n",
       " 'Conta Value;',\n",
       " 'Conta Smart;',\n",
       " 'Conta Futuro;',\n",
       " 'Conta Serviços Mínimos Bancários,',\n",
       " 'Conta Moeda Estrangeira e',\n",
       " 'Conta ABANCA Internacional.',\n",
       " 'Conta D.O.',\n",
       " 'Conta Ordenado (Nota 1 e Nota 16)',\n",
       " 'Conta Standard (não admite novas contratações) 0,00',\n",
       " 'Conta Future (Nota 3) 0,00 nan 3.5',\n",
       " 'Conta Kids (Nota 4) 0,00 nan IS',\n",
       " 'Conta Global (Nota 5) 6,53 / 7,23',\n",
       " 'Conta Base (Nota 6) 10,00 Mensal 120,00',\n",
       " 'Conta Private (Nota 7) 8,00 Mensal 96,00',\n",
       " 'Conta Value (Nota 8) 5,00 Mensal 60,00',\n",
       " 'Conta Smart (Nota 9) 5,00 Mensal 60,00',\n",
       " 'Conta Futuro (Nota 10) 0,00 nan 3.12',\n",
       " 'Conta Serviços Mínimos Bancários (Nota 11) 2,00',\n",
       " 'Conta Moeda Estrangeira (Nota 12) 5,00 Mensal',\n",
       " 'Conta ABANCA Internacional (Nota 17) 0,00 nan',\n",
       " 'Conta para clientes dos 18 aos 28',\n",
       " 'Conta para clientes dos 0 aos 17',\n",
       " 'Conta que permite aceder aos seguintes produtos']"
      ]
     },
     "execution_count": 85,
     "metadata": {},
     "output_type": "execute_result"
    }
   ],
   "source": [
    "names(abanca_accounts)"
   ]
  },
  {
   "cell_type": "markdown",
   "metadata": {},
   "source": [
    "- trying names from py"
   ]
  },
  {
   "cell_type": "code",
   "execution_count": 43,
   "metadata": {},
   "outputs": [],
   "source": [
    "bankinter_names=Scraping('data/bankinter.pdf', 4, 'bankinter').names()\n",
    "bic_names = Scraping('data/bic.pdf', 5, 'bic').names()\n",
    "abanca_names = abanca.names()\n"
   ]
  },
  {
   "cell_type": "code",
   "execution_count": 44,
   "metadata": {},
   "outputs": [
    {
     "data": {
      "text/plain": [
       "['Conta D.O.',\n",
       " 'Conta Ordenado',\n",
       " 'Conta Standard',\n",
       " 'Conta Future',\n",
       " 'Conta Kids',\n",
       " 'Conta Global Em comercialização:',\n",
       " 'Conta Base',\n",
       " 'Conta Private',\n",
       " 'Conta Value',\n",
       " 'Conta Smart',\n",
       " 'Conta Futuro',\n",
       " 'Conta Serviços Mínimos Bancários,',\n",
       " 'Conta Moeda Estrangeira e',\n",
       " 'Conta ABANCA Internacional.',\n",
       " 'Conta D.O.',\n",
       " 'Conta Ordenado (Nota 1 e Nota 16) 0,00 nan 3.3',\n",
       " 'Conta Standard (não admite novas contratações) 0,00 nan 3.4',\n",
       " 'Conta Future (Nota 3) 0,00 nan 3.5',\n",
       " 'Conta Kids (Nota 4) 0,00 nan IS – 4% 3.6',\n",
       " 'Conta Global (Nota 5) 6,53 / 7,23 Mensal 85,14 3.7',\n",
       " 'Conta Base (Nota 6) 10,00 Mensal 120,00 3.8',\n",
       " 'Conta Private (Nota 7) 8,00 Mensal 96,00 3.9',\n",
       " 'Conta Value (Nota 8) 5,00 Mensal 60,00 3.10',\n",
       " 'Conta Smart (Nota 9) 5,00 Mensal 60,00 3.11',\n",
       " 'Conta Futuro (Nota 10) 0,00 nan 3.12',\n",
       " 'Conta Serviços Mínimos Bancários (Nota 11) 2,00 Semestral 4,00 3.13',\n",
       " 'Conta Moeda Estrangeira (Nota 12) 5,00 Mensal 60,00 3.14',\n",
       " 'Conta ABANCA Internacional (Nota 17) 0,00 nan 4.',\n",
       " 'Conta para clientes dos 18 aos 28 anos.',\n",
       " 'Conta para clientes dos 0 aos 17 anos.',\n",
       " 'Conta que permite aceder aos seguintes produtos e serviços, mediante o pagamento de uma']"
      ]
     },
     "execution_count": 44,
     "metadata": {},
     "output_type": "execute_result"
    }
   ],
   "source": [
    "abanca_names"
   ]
  },
  {
   "cell_type": "markdown",
   "metadata": {},
   "source": [
    "- now you can find values"
   ]
  },
  {
   "cell_type": "code",
   "execution_count": 46,
   "metadata": {},
   "outputs": [],
   "source": [
    "values =[]\n",
    "for name in abanca_names:\n",
    "    for sentence in abanca.extract_clean():\n",
    "        if name in sentence:\n",
    "            values.append(sentence)"
   ]
  },
  {
   "cell_type": "code",
   "execution_count": 47,
   "metadata": {},
   "outputs": [
    {
     "data": {
      "text/plain": [
       "['CONTAS DE DEPÓSITO (PARTICULARES)                                                                                   ÍNDICE   1.1 Depósitos à ordem  Comissões  Acresce  Outras    Euros (Mín/Máx)  Valor anual  Imposto  condições  Produtos: Fora de comercialização: Conta D.O.',\n",
       " 'Manutenção de conta      3.1 Conta D.O.',\n",
       " 'Particulares; Conta Ordenado; Conta Standard; Conta Future; Conta  Kids; Conta Global  Em comercialização: Conta Base; Conta Private; Conta Value; Conta Smart; Conta Futuro; Conta Serviços Mínimos  Bancários, Conta Moeda Estrangeira e Conta ABANCA Internacional.',\n",
       " 'Particulares (Nota 2)      - Saldo médio até 1.000€  15,00 Trimestral  60,00  - Saldo médio entre 1.001€ e 2.500€  10,00 Trimestral  40,00  - Saldo médio superior a 2.500€  0,00  nan  3.2 Conta Ordenado (Nota 1 e Nota 16)  0,00  nan  3.3 Conta Standard (não admite novas contratações)  0,00  nan  3.4 Conta Future (Nota 3)  0,00  nan  3.5 Conta Kids (Nota 4)  0,00  nan  IS – 4%    3.6 Conta Global (Nota 5)  6,53 / 7,23 Mensal  85,14  3.7 Conta Base (Nota 6)  10,00 Mensal  120,00   3.8 Conta Private (Nota 7)   8,00 Mensal  96,00  3.9 Conta Value (Nota 8)  5,00 Mensal  60,00  3.10 Conta Smart (Nota 9)  5,00 Mensal  60,00  3.11 Conta Futuro (Nota 10)  0,00  nan  3.12 Conta Serviços Mínimos Bancários (Nota 11)  2,00 Semestral  4,00  3.13 Conta Moeda Estrangeira (Nota 12)  5,00 Mensal  60,00  3.14 Conta ABANCA Internacional (Nota 17)  0,00  nan  4.',\n",
       " 'Particulares; Conta Ordenado; Conta Standard; Conta Future; Conta  Kids; Conta Global  Em comercialização: Conta Base; Conta Private; Conta Value; Conta Smart; Conta Futuro; Conta Serviços Mínimos  Bancários, Conta Moeda Estrangeira e Conta ABANCA Internacional.',\n",
       " 'Particulares (Nota 2)      - Saldo médio até 1.000€  15,00 Trimestral  60,00  - Saldo médio entre 1.001€ e 2.500€  10,00 Trimestral  40,00  - Saldo médio superior a 2.500€  0,00  nan  3.2 Conta Ordenado (Nota 1 e Nota 16)  0,00  nan  3.3 Conta Standard (não admite novas contratações)  0,00  nan  3.4 Conta Future (Nota 3)  0,00  nan  3.5 Conta Kids (Nota 4)  0,00  nan  IS – 4%    3.6 Conta Global (Nota 5)  6,53 / 7,23 Mensal  85,14  3.7 Conta Base (Nota 6)  10,00 Mensal  120,00   3.8 Conta Private (Nota 7)   8,00 Mensal  96,00  3.9 Conta Value (Nota 8)  5,00 Mensal  60,00  3.10 Conta Smart (Nota 9)  5,00 Mensal  60,00  3.11 Conta Futuro (Nota 10)  0,00  nan  3.12 Conta Serviços Mínimos Bancários (Nota 11)  2,00 Semestral  4,00  3.13 Conta Moeda Estrangeira (Nota 12)  5,00 Mensal  60,00  3.14 Conta ABANCA Internacional (Nota 17)  0,00  nan  4.',\n",
       " 'Particulares; Conta Ordenado; Conta Standard; Conta Future; Conta  Kids; Conta Global  Em comercialização: Conta Base; Conta Private; Conta Value; Conta Smart; Conta Futuro; Conta Serviços Mínimos  Bancários, Conta Moeda Estrangeira e Conta ABANCA Internacional.',\n",
       " 'Particulares (Nota 2)      - Saldo médio até 1.000€  15,00 Trimestral  60,00  - Saldo médio entre 1.001€ e 2.500€  10,00 Trimestral  40,00  - Saldo médio superior a 2.500€  0,00  nan  3.2 Conta Ordenado (Nota 1 e Nota 16)  0,00  nan  3.3 Conta Standard (não admite novas contratações)  0,00  nan  3.4 Conta Future (Nota 3)  0,00  nan  3.5 Conta Kids (Nota 4)  0,00  nan  IS – 4%    3.6 Conta Global (Nota 5)  6,53 / 7,23 Mensal  85,14  3.7 Conta Base (Nota 6)  10,00 Mensal  120,00   3.8 Conta Private (Nota 7)   8,00 Mensal  96,00  3.9 Conta Value (Nota 8)  5,00 Mensal  60,00  3.10 Conta Smart (Nota 9)  5,00 Mensal  60,00  3.11 Conta Futuro (Nota 10)  0,00  nan  3.12 Conta Serviços Mínimos Bancários (Nota 11)  2,00 Semestral  4,00  3.13 Conta Moeda Estrangeira (Nota 12)  5,00 Mensal  60,00  3.14 Conta ABANCA Internacional (Nota 17)  0,00  nan  4.',\n",
       " 'Particulares (Nota 2)      - Saldo médio até 1.000€  15,00 Trimestral  60,00  - Saldo médio entre 1.001€ e 2.500€  10,00 Trimestral  40,00  - Saldo médio superior a 2.500€  0,00  nan  3.2 Conta Ordenado (Nota 1 e Nota 16)  0,00  nan  3.3 Conta Standard (não admite novas contratações)  0,00  nan  3.4 Conta Future (Nota 3)  0,00  nan  3.5 Conta Kids (Nota 4)  0,00  nan  IS – 4%    3.6 Conta Global (Nota 5)  6,53 / 7,23 Mensal  85,14  3.7 Conta Base (Nota 6)  10,00 Mensal  120,00   3.8 Conta Private (Nota 7)   8,00 Mensal  96,00  3.9 Conta Value (Nota 8)  5,00 Mensal  60,00  3.10 Conta Smart (Nota 9)  5,00 Mensal  60,00  3.11 Conta Futuro (Nota 10)  0,00  nan  3.12 Conta Serviços Mínimos Bancários (Nota 11)  2,00 Semestral  4,00  3.13 Conta Moeda Estrangeira (Nota 12)  5,00 Mensal  60,00  3.14 Conta ABANCA Internacional (Nota 17)  0,00  nan  4.',\n",
       " 'Particulares; Conta Ordenado; Conta Standard; Conta Future; Conta  Kids; Conta Global  Em comercialização: Conta Base; Conta Private; Conta Value; Conta Smart; Conta Futuro; Conta Serviços Mínimos  Bancários, Conta Moeda Estrangeira e Conta ABANCA Internacional.',\n",
       " 'Particulares (Nota 2)      - Saldo médio até 1.000€  15,00 Trimestral  60,00  - Saldo médio entre 1.001€ e 2.500€  10,00 Trimestral  40,00  - Saldo médio superior a 2.500€  0,00  nan  3.2 Conta Ordenado (Nota 1 e Nota 16)  0,00  nan  3.3 Conta Standard (não admite novas contratações)  0,00  nan  3.4 Conta Future (Nota 3)  0,00  nan  3.5 Conta Kids (Nota 4)  0,00  nan  IS – 4%    3.6 Conta Global (Nota 5)  6,53 / 7,23 Mensal  85,14  3.7 Conta Base (Nota 6)  10,00 Mensal  120,00   3.8 Conta Private (Nota 7)   8,00 Mensal  96,00  3.9 Conta Value (Nota 8)  5,00 Mensal  60,00  3.10 Conta Smart (Nota 9)  5,00 Mensal  60,00  3.11 Conta Futuro (Nota 10)  0,00  nan  3.12 Conta Serviços Mínimos Bancários (Nota 11)  2,00 Semestral  4,00  3.13 Conta Moeda Estrangeira (Nota 12)  5,00 Mensal  60,00  3.14 Conta ABANCA Internacional (Nota 17)  0,00  nan  4.',\n",
       " 'Particulares; Conta Ordenado; Conta Standard; Conta Future; Conta  Kids; Conta Global  Em comercialização: Conta Base; Conta Private; Conta Value; Conta Smart; Conta Futuro; Conta Serviços Mínimos  Bancários, Conta Moeda Estrangeira e Conta ABANCA Internacional.',\n",
       " 'Particulares (Nota 2)      - Saldo médio até 1.000€  15,00 Trimestral  60,00  - Saldo médio entre 1.001€ e 2.500€  10,00 Trimestral  40,00  - Saldo médio superior a 2.500€  0,00  nan  3.2 Conta Ordenado (Nota 1 e Nota 16)  0,00  nan  3.3 Conta Standard (não admite novas contratações)  0,00  nan  3.4 Conta Future (Nota 3)  0,00  nan  3.5 Conta Kids (Nota 4)  0,00  nan  IS – 4%    3.6 Conta Global (Nota 5)  6,53 / 7,23 Mensal  85,14  3.7 Conta Base (Nota 6)  10,00 Mensal  120,00   3.8 Conta Private (Nota 7)   8,00 Mensal  96,00  3.9 Conta Value (Nota 8)  5,00 Mensal  60,00  3.10 Conta Smart (Nota 9)  5,00 Mensal  60,00  3.11 Conta Futuro (Nota 10)  0,00  nan  3.12 Conta Serviços Mínimos Bancários (Nota 11)  2,00 Semestral  4,00  3.13 Conta Moeda Estrangeira (Nota 12)  5,00 Mensal  60,00  3.14 Conta ABANCA Internacional (Nota 17)  0,00  nan  4.',\n",
       " 'Particulares; Conta Ordenado; Conta Standard; Conta Future; Conta  Kids; Conta Global  Em comercialização: Conta Base; Conta Private; Conta Value; Conta Smart; Conta Futuro; Conta Serviços Mínimos  Bancários, Conta Moeda Estrangeira e Conta ABANCA Internacional.',\n",
       " 'Particulares (Nota 2)      - Saldo médio até 1.000€  15,00 Trimestral  60,00  - Saldo médio entre 1.001€ e 2.500€  10,00 Trimestral  40,00  - Saldo médio superior a 2.500€  0,00  nan  3.2 Conta Ordenado (Nota 1 e Nota 16)  0,00  nan  3.3 Conta Standard (não admite novas contratações)  0,00  nan  3.4 Conta Future (Nota 3)  0,00  nan  3.5 Conta Kids (Nota 4)  0,00  nan  IS – 4%    3.6 Conta Global (Nota 5)  6,53 / 7,23 Mensal  85,14  3.7 Conta Base (Nota 6)  10,00 Mensal  120,00   3.8 Conta Private (Nota 7)   8,00 Mensal  96,00  3.9 Conta Value (Nota 8)  5,00 Mensal  60,00  3.10 Conta Smart (Nota 9)  5,00 Mensal  60,00  3.11 Conta Futuro (Nota 10)  0,00  nan  3.12 Conta Serviços Mínimos Bancários (Nota 11)  2,00 Semestral  4,00  3.13 Conta Moeda Estrangeira (Nota 12)  5,00 Mensal  60,00  3.14 Conta ABANCA Internacional (Nota 17)  0,00  nan  4.',\n",
       " 'Particulares; Conta Ordenado; Conta Standard; Conta Future; Conta  Kids; Conta Global  Em comercialização: Conta Base; Conta Private; Conta Value; Conta Smart; Conta Futuro; Conta Serviços Mínimos  Bancários, Conta Moeda Estrangeira e Conta ABANCA Internacional.',\n",
       " 'Particulares (Nota 2)      - Saldo médio até 1.000€  15,00 Trimestral  60,00  - Saldo médio entre 1.001€ e 2.500€  10,00 Trimestral  40,00  - Saldo médio superior a 2.500€  0,00  nan  3.2 Conta Ordenado (Nota 1 e Nota 16)  0,00  nan  3.3 Conta Standard (não admite novas contratações)  0,00  nan  3.4 Conta Future (Nota 3)  0,00  nan  3.5 Conta Kids (Nota 4)  0,00  nan  IS – 4%    3.6 Conta Global (Nota 5)  6,53 / 7,23 Mensal  85,14  3.7 Conta Base (Nota 6)  10,00 Mensal  120,00   3.8 Conta Private (Nota 7)   8,00 Mensal  96,00  3.9 Conta Value (Nota 8)  5,00 Mensal  60,00  3.10 Conta Smart (Nota 9)  5,00 Mensal  60,00  3.11 Conta Futuro (Nota 10)  0,00  nan  3.12 Conta Serviços Mínimos Bancários (Nota 11)  2,00 Semestral  4,00  3.13 Conta Moeda Estrangeira (Nota 12)  5,00 Mensal  60,00  3.14 Conta ABANCA Internacional (Nota 17)  0,00  nan  4.',\n",
       " 'Particulares; Conta Ordenado; Conta Standard; Conta Future; Conta  Kids; Conta Global  Em comercialização: Conta Base; Conta Private; Conta Value; Conta Smart; Conta Futuro; Conta Serviços Mínimos  Bancários, Conta Moeda Estrangeira e Conta ABANCA Internacional.',\n",
       " 'Particulares (Nota 2)      - Saldo médio até 1.000€  15,00 Trimestral  60,00  - Saldo médio entre 1.001€ e 2.500€  10,00 Trimestral  40,00  - Saldo médio superior a 2.500€  0,00  nan  3.2 Conta Ordenado (Nota 1 e Nota 16)  0,00  nan  3.3 Conta Standard (não admite novas contratações)  0,00  nan  3.4 Conta Future (Nota 3)  0,00  nan  3.5 Conta Kids (Nota 4)  0,00  nan  IS – 4%    3.6 Conta Global (Nota 5)  6,53 / 7,23 Mensal  85,14  3.7 Conta Base (Nota 6)  10,00 Mensal  120,00   3.8 Conta Private (Nota 7)   8,00 Mensal  96,00  3.9 Conta Value (Nota 8)  5,00 Mensal  60,00  3.10 Conta Smart (Nota 9)  5,00 Mensal  60,00  3.11 Conta Futuro (Nota 10)  0,00  nan  3.12 Conta Serviços Mínimos Bancários (Nota 11)  2,00 Semestral  4,00  3.13 Conta Moeda Estrangeira (Nota 12)  5,00 Mensal  60,00  3.14 Conta ABANCA Internacional (Nota 17)  0,00  nan  4.',\n",
       " 'Particulares; Conta Ordenado; Conta Standard; Conta Future; Conta  Kids; Conta Global  Em comercialização: Conta Base; Conta Private; Conta Value; Conta Smart; Conta Futuro; Conta Serviços Mínimos  Bancários, Conta Moeda Estrangeira e Conta ABANCA Internacional.',\n",
       " 'Particulares; Conta Ordenado; Conta Standard; Conta Future; Conta  Kids; Conta Global  Em comercialização: Conta Base; Conta Private; Conta Value; Conta Smart; Conta Futuro; Conta Serviços Mínimos  Bancários, Conta Moeda Estrangeira e Conta ABANCA Internacional.',\n",
       " 'CONTAS DE DEPÓSITO (PARTICULARES)                                                                                   ÍNDICE   1.1 Depósitos à ordem  Comissões  Acresce  Outras    Euros (Mín/Máx)  Valor anual  Imposto  condições  Produtos: Fora de comercialização: Conta D.O.',\n",
       " 'Manutenção de conta      3.1 Conta D.O.',\n",
       " 'Conta para clientes dos 18 aos 28 anos.',\n",
       " 'Conta para clientes dos 0 aos 17 anos.']"
      ]
     },
     "execution_count": 47,
     "metadata": {},
     "output_type": "execute_result"
    }
   ],
   "source": [
    "values"
   ]
  },
  {
   "cell_type": "markdown",
   "metadata": {},
   "source": [
    "# how to understand if pdf is working with or without splitting right"
   ]
  },
  {
   "cell_type": "code",
   "execution_count": null,
   "metadata": {},
   "outputs": [],
   "source": [
    "def extract_clean(self):\n",
    "    file = pdfplumber.open(self.pdf)\n",
    "    page = file.pages[self.page]\n",
    "    text = page.extract_text()\n",
    "    text = text.replace('Isento', '0,00')\n",
    "    text = text.replace('n/a', str(np.nan))\n",
    "    text = re.sub('--', str(np.nan), text)\n",
    "    if nltk.sent_tokenize(text)\n",
    "        if self.splitting_right == True:\n",
    "            text = text.replace('\\n','. ')\n",
    "            # text = len_sentences(text)\n",
    "            text = nltk.sent_tokenize(text)\n",
    "            return text\n",
    "        text = text.replace('\\n',' ')\n",
    "        # text = len_sentences(text)\n",
    "        text = nltk.sent_tokenize(text)\n",
    "    return text"
   ]
  }
 ],
 "metadata": {
  "kernelspec": {
   "display_name": "Python 3",
   "language": "python",
   "name": "python3"
  },
  "language_info": {
   "codemirror_mode": {
    "name": "ipython",
    "version": 3
   },
   "file_extension": ".py",
   "mimetype": "text/x-python",
   "name": "python",
   "nbconvert_exporter": "python",
   "pygments_lexer": "ipython3",
   "version": "3.8.6"
  },
  "toc": {
   "base_numbering": 1,
   "nav_menu": {},
   "number_sections": true,
   "sideBar": true,
   "skip_h1_title": false,
   "title_cell": "Table of Contents",
   "title_sidebar": "Contents",
   "toc_cell": false,
   "toc_position": {},
   "toc_section_display": true,
   "toc_window_display": false
  }
 },
 "nbformat": 4,
 "nbformat_minor": 4
}
