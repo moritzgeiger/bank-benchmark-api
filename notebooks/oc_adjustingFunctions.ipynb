{
 "cells": [
  {
   "cell_type": "code",
   "execution_count": 55,
   "metadata": {},
   "outputs": [
    {
     "name": "stdout",
     "output_type": "stream",
     "text": [
      "The autoreload extension is already loaded. To reload it, use:\n",
      "  %reload_ext autoreload\n"
     ]
    }
   ],
   "source": [
    "import pandas as pd\n",
    "import numpy as np\n",
    "import pdfplumber\n",
    "import re\n",
    "import nltk\n",
    "from scraping import Scraping\n",
    "%load_ext autoreload\n",
    "%autoreload 2\n",
    "from urllib.parse import urljoin, quote_plus, quote, urlencode\n",
    "from urllib.request import Request, urlopen\n",
    "from io import StringIO, BytesIO"
   ]
  },
  {
   "cell_type": "markdown",
   "metadata": {},
   "source": [
    "# cleaning the function"
   ]
  },
  {
   "cell_type": "code",
   "execution_count": 2,
   "metadata": {},
   "outputs": [],
   "source": [
    "def extract_clean(self):\n",
    "        file = pdfplumber.open(self.pdf)\n",
    "        if len(self.page) > 1 :\n",
    "            joined_text = []\n",
    "            for el in self.page:\n",
    "                page = file.pages[el]\n",
    "                text = page.extract_text()\n",
    "                joined_text.append(text)\n",
    "            text ='             NEXT          '.join(joined_text)\n",
    "            text = text.replace('Isento', '0,00')\n",
    "            text = text.replace('n/a', str(np.nan))\n",
    "            text = re.sub('--', str(np.nan), text)\n",
    "            if nltk.sent_tokenize(text) < 15:\n",
    "                text = text.replace('\\n','. ')\n",
    "                # text = len_sentences(text)\n",
    "                text = nltk.sent_tokenize(text)\n",
    "                return text\n",
    "            text = text.replace('\\n',' ')\n",
    "            # text = len_sentences(text)\n",
    "            text = nltk.sent_tokenize(text)\n",
    "            return text\n",
    "        else:\n",
    "            page = file.pages[self.page[0]]\n",
    "            text = page.extract_text()\n",
    "            text = text.replace('Isento', '0,00')\n",
    "            text = text.replace('n/a', str(np.nan))\n",
    "            text = re.sub('--', str(np.nan), text)\n",
    "            if nltk.sent_tokenize(text) < 15:\n",
    "                text = text.replace('\\n','. ')\n",
    "                # text = len_sentences(text)\n",
    "                text = nltk.sent_tokenize(text)\n",
    "                return text\n",
    "            text = text.replace('\\n',' ')\n",
    "            # text = len_sentences(text)\n",
    "            text = nltk.sent_tokenize(text)\n",
    "            return text"
   ]
  },
  {
   "cell_type": "code",
   "execution_count": 3,
   "metadata": {},
   "outputs": [
    {
     "ename": "FileNotFoundError",
     "evalue": "[Errno 2] No such file or directory: 'data/BancoCTT2021.pdf'",
     "output_type": "error",
     "traceback": [
      "\u001b[0;31m---------------------------------------------------------------------------\u001b[0m",
      "\u001b[0;31mFileNotFoundError\u001b[0m                         Traceback (most recent call last)",
      "\u001b[0;32m<ipython-input-3-7eb948c699a0>\u001b[0m in \u001b[0;36m<module>\u001b[0;34m\u001b[0m\n\u001b[0;32m----> 1\u001b[0;31m \u001b[0mctt\u001b[0m \u001b[0;34m=\u001b[0m \u001b[0mpdfplumber\u001b[0m\u001b[0;34m.\u001b[0m\u001b[0mopen\u001b[0m\u001b[0;34m(\u001b[0m\u001b[0;34m'data/BancoCTT2021.pdf'\u001b[0m\u001b[0;34m)\u001b[0m\u001b[0;34m\u001b[0m\u001b[0;34m\u001b[0m\u001b[0m\n\u001b[0m\u001b[1;32m      2\u001b[0m \u001b[0mpage\u001b[0m \u001b[0;34m=\u001b[0m \u001b[0mctt\u001b[0m\u001b[0;34m.\u001b[0m\u001b[0mpages\u001b[0m\u001b[0;34m[\u001b[0m\u001b[0;36m4\u001b[0m\u001b[0;34m]\u001b[0m\u001b[0;34m\u001b[0m\u001b[0;34m\u001b[0m\u001b[0m\n\u001b[1;32m      3\u001b[0m \u001b[0mtext\u001b[0m \u001b[0;34m=\u001b[0m \u001b[0mpage\u001b[0m\u001b[0;34m.\u001b[0m\u001b[0mextract_text\u001b[0m\u001b[0;34m(\u001b[0m\u001b[0;34m)\u001b[0m\u001b[0;34m\u001b[0m\u001b[0;34m\u001b[0m\u001b[0m\n\u001b[1;32m      4\u001b[0m \u001b[0mlen\u001b[0m\u001b[0;34m(\u001b[0m\u001b[0mnltk\u001b[0m\u001b[0;34m.\u001b[0m\u001b[0msent_tokenize\u001b[0m\u001b[0;34m(\u001b[0m\u001b[0mtext\u001b[0m\u001b[0;34m)\u001b[0m\u001b[0;34m)\u001b[0m\u001b[0;34m\u001b[0m\u001b[0;34m\u001b[0m\u001b[0m\n",
      "\u001b[0;32m~/.pyenv/versions/3.8.6/envs/lewagon/lib/python3.8/site-packages/pdfplumber/pdf.py\u001b[0m in \u001b[0;36mopen\u001b[0;34m(cls, path_or_fp, **kwargs)\u001b[0m\n\u001b[1;32m     53\u001b[0m     \u001b[0;32mdef\u001b[0m \u001b[0mopen\u001b[0m\u001b[0;34m(\u001b[0m\u001b[0mcls\u001b[0m\u001b[0;34m,\u001b[0m \u001b[0mpath_or_fp\u001b[0m\u001b[0;34m,\u001b[0m \u001b[0;34m**\u001b[0m\u001b[0mkwargs\u001b[0m\u001b[0;34m)\u001b[0m\u001b[0;34m:\u001b[0m\u001b[0;34m\u001b[0m\u001b[0;34m\u001b[0m\u001b[0m\n\u001b[1;32m     54\u001b[0m         \u001b[0;32mif\u001b[0m \u001b[0misinstance\u001b[0m\u001b[0;34m(\u001b[0m\u001b[0mpath_or_fp\u001b[0m\u001b[0;34m,\u001b[0m \u001b[0;34m(\u001b[0m\u001b[0mstr\u001b[0m\u001b[0;34m,\u001b[0m \u001b[0mpathlib\u001b[0m\u001b[0;34m.\u001b[0m\u001b[0mPath\u001b[0m\u001b[0;34m)\u001b[0m\u001b[0;34m)\u001b[0m\u001b[0;34m:\u001b[0m\u001b[0;34m\u001b[0m\u001b[0;34m\u001b[0m\u001b[0m\n\u001b[0;32m---> 55\u001b[0;31m             \u001b[0mfp\u001b[0m \u001b[0;34m=\u001b[0m \u001b[0mopen\u001b[0m\u001b[0;34m(\u001b[0m\u001b[0mpath_or_fp\u001b[0m\u001b[0;34m,\u001b[0m \u001b[0;34m\"rb\"\u001b[0m\u001b[0;34m)\u001b[0m\u001b[0;34m\u001b[0m\u001b[0;34m\u001b[0m\u001b[0m\n\u001b[0m\u001b[1;32m     56\u001b[0m             \u001b[0minst\u001b[0m \u001b[0;34m=\u001b[0m \u001b[0mcls\u001b[0m\u001b[0;34m(\u001b[0m\u001b[0mfp\u001b[0m\u001b[0;34m,\u001b[0m \u001b[0;34m**\u001b[0m\u001b[0mkwargs\u001b[0m\u001b[0;34m)\u001b[0m\u001b[0;34m\u001b[0m\u001b[0;34m\u001b[0m\u001b[0m\n\u001b[1;32m     57\u001b[0m             \u001b[0minst\u001b[0m\u001b[0;34m.\u001b[0m\u001b[0mclose_file\u001b[0m \u001b[0;34m=\u001b[0m \u001b[0mfp\u001b[0m\u001b[0;34m.\u001b[0m\u001b[0mclose\u001b[0m\u001b[0;34m\u001b[0m\u001b[0;34m\u001b[0m\u001b[0m\n",
      "\u001b[0;31mFileNotFoundError\u001b[0m: [Errno 2] No such file or directory: 'data/BancoCTT2021.pdf'"
     ]
    }
   ],
   "source": [
    "ctt = pdfplumber.open('data/BancoCTT2021.pdf')\n",
    "page = ctt.pages[4]\n",
    "text = page.extract_text()\n",
    "len(nltk.sent_tokenize(text))"
   ]
  },
  {
   "cell_type": "code",
   "execution_count": null,
   "metadata": {},
   "outputs": [],
   "source": [
    "bankinter = pdfplumber.open('data/bankinter.pdf')\n",
    "page = bankinter.pages[4]\n",
    "text = page.extract_text()\n",
    "len(nltk.sent_tokenize(text))"
   ]
  },
  {
   "cell_type": "code",
   "execution_count": null,
   "metadata": {},
   "outputs": [],
   "source": [
    "bai = pdfplumber.open('data/bancoBAIeurope2021com.pdf')\n",
    "page = bai.pages[4]\n",
    "text = page.extract_text()\n",
    "len(nltk.sent_tokenize(text))"
   ]
  },
  {
   "cell_type": "code",
   "execution_count": null,
   "metadata": {},
   "outputs": [],
   "source": [
    "Scraping('data/bancoBAIeurope2021com.pdf', 4, '4').extract_clean()"
   ]
  },
  {
   "cell_type": "markdown",
   "metadata": {},
   "source": [
    "# connecting name of product and name of commission"
   ]
  },
  {
   "cell_type": "code",
   "execution_count": null,
   "metadata": {},
   "outputs": [],
   "source": [
    "abanca = Scraping('data/abanca.pdf', 4, 'abanca')\n",
    "ctt = Scraping('data/ctt.pdf',4,'5')\n",
    "bai = Scraping('data/bai.pdf',4,'4')\n",
    "bic = Scraping('data/bic.pdf',5,'3')\n",
    "bankinter = Scraping('data/bankinter.pdf',4,'2')"
   ]
  },
  {
   "cell_type": "code",
   "execution_count": null,
   "metadata": {},
   "outputs": [],
   "source": [
    "ab_t = abanca.tokenize()\n",
    "ab_n = abanca.names()"
   ]
  },
  {
   "cell_type": "code",
   "execution_count": null,
   "metadata": {},
   "outputs": [],
   "source": [
    "ab_n"
   ]
  },
  {
   "cell_type": "code",
   "execution_count": null,
   "metadata": {},
   "outputs": [],
   "source": []
  },
  {
   "cell_type": "code",
   "execution_count": null,
   "metadata": {},
   "outputs": [],
   "source": [
    "com_dict.values()\n",
    "    "
   ]
  },
  {
   "cell_type": "code",
   "execution_count": null,
   "metadata": {},
   "outputs": [],
   "source": [
    "com_dict = {'Emissão de Extrato':['Emissão de extrato', 'Extrato Integrado', 'Extrato Mensal'],\n",
    "           'Fotocópias e 2ªvias':['Fotocópias de segundas vias de talões de depósito',\n",
    "                                  'Emissão 2ªs Vias de Avisos e Outros Documentos', 'Extracto avulso',\n",
    "                                 'Segundas vias (pedido na agência)'],\n",
    "           'Manutenção de Conta':['Manutenção de conta', 'Comissão de manutenção de conta'],\n",
    "           'Levantamento de Numerário':['Levantamento de numerário', 'Levantamento de numerário ao balcão'],\n",
    "           'Adesão ao Serviço Online':['Adesão ao serviço de banca à distância', 'Adesão ao serviço online'],\n",
    "            'Depósitos de Moedas':['Depósito de moedas metálicas', 'Depósito de moedas',\n",
    "                                   'Depósito de moedas ao balcão', 'Depósito de dinheiro ao balcão',\n",
    "                                  'Depósito de moeda metálica (≥ a 100 moedas)'],\n",
    "            'Ateração de Titulares':['Alteração de titulares', 'Alteração de titularidade',\n",
    "                                     'Alteração de titularidade / intervenientes'],\n",
    "            'Descoberto Bancário':['Comissões por descoberto bancário', 'Descoberto bancário'],\n",
    "            'Consulta de Movimentos':['Consulta de Movimentos de conta DO com', 'Consulta de movimentos ao balcão'],\n",
    "            'Consulta de Saldo':['Pedido de saldo ao balcão', 'Consulta de Saldo de conta DO com comprovativo']\n",
    "           }"
   ]
  },
  {
   "cell_type": "code",
   "execution_count": null,
   "metadata": {},
   "outputs": [],
   "source": [
    "ab_t[:5]"
   ]
  },
  {
   "cell_type": "code",
   "execution_count": null,
   "metadata": {},
   "outputs": [],
   "source": [
    "# keys = [x for x in com_dict.keys()]\n",
    "values = [x for x in com_dict.values()]\n",
    "lista ={}\n",
    "for commission in values:\n",
    "    for value in commission:\n",
    "        for ind,sentence in enumerate(ab_t):\n",
    "            if value in sentence:\n",
    "                if value in lista:\n",
    "                    if '[0-9]{1-2},[0-9]{2}' in sentence:\n",
    "                        lista[value]= lista[value].append(sentence)\n",
    "                    else:\n",
    "                        lista[value]= lista[value].append(' '.join([sentence,file[ind+1]]))\n",
    "                else:\n",
    "                    if '[0-9]{1-2},[0-9]{2}' in sentence:\n",
    "                        lista[value]= [sentence]\n",
    "                    else:\n",
    "                        lista[value]= [' '.join([sentence,ab_t[ind+1]])]\n",
    "# return lista\n",
    "                "
   ]
  },
  {
   "cell_type": "code",
   "execution_count": null,
   "metadata": {},
   "outputs": [],
   "source": [
    "len(lista)"
   ]
  },
  {
   "cell_type": "code",
   "execution_count": null,
   "metadata": {},
   "outputs": [],
   "source": [
    "abanca.values()"
   ]
  },
  {
   "cell_type": "markdown",
   "metadata": {},
   "source": [
    "# how to join and search for the name of commision and account together"
   ]
  },
  {
   "cell_type": "code",
   "execution_count": 4,
   "metadata": {},
   "outputs": [],
   "source": [
    "com_dict = {'Emissão de Extrato':['Emissão de extrato', 'Extrato Integrado', 'Extrato Mensal'],\n",
    "           'Fotocópias e 2ªvias':['Fotocópias de segundas vias de talões de depósito',\n",
    "                                  'Emissão 2ªs Vias de Avisos e Outros Documentos', 'Extracto avulso',\n",
    "                                 'Segundas vias (pedido na agência)'],\n",
    "           'Manutenção de Conta':['Manutenção de conta', 'Comissão de manutenção de conta'],\n",
    "           'Levantamento de Numerário':['Levantamento de numerário', 'Levantamento de numerário ao balcão'],\n",
    "           'Adesão ao Serviço Online':['Adesão ao serviço de banca à distância', 'Adesão ao serviço online'],\n",
    "            'Depósitos de Moedas':['Depósito de moedas metálicas', 'Depósito de moedas',\n",
    "                                   'Depósito de moedas ao balcão', 'Depósito de dinheiro ao balcão',\n",
    "                                  'Depósito de moeda metálica (≥ a 100 moedas)'],\n",
    "            'Ateração de Titulares':['Alteração de titulares', 'Alteração de titularidade',\n",
    "                                     'Alteração de titularidade / intervenientes'],\n",
    "            'Descoberto Bancário':['Comissões por descoberto bancário', 'Descoberto bancário'],\n",
    "            'Consulta de Movimentos':['Consulta de Movimentos de conta DO com', 'Consulta de movimentos ao balcão'],\n",
    "            'Consulta de Saldo':['Pedido de saldo ao balcão', 'Consulta de Saldo de conta DO com comprovativo']\n",
    "           }"
   ]
  },
  {
   "cell_type": "code",
   "execution_count": 5,
   "metadata": {},
   "outputs": [
    {
     "ename": "NameError",
     "evalue": "name 'abanca' is not defined",
     "output_type": "error",
     "traceback": [
      "\u001b[0;31m---------------------------------------------------------------------------\u001b[0m",
      "\u001b[0;31mNameError\u001b[0m                                 Traceback (most recent call last)",
      "\u001b[0;32m<ipython-input-5-3dda77aca110>\u001b[0m in \u001b[0;36m<module>\u001b[0;34m\u001b[0m\n\u001b[0;32m----> 1\u001b[0;31m \u001b[0mab_t\u001b[0m \u001b[0;34m=\u001b[0m \u001b[0mabanca\u001b[0m\u001b[0;34m.\u001b[0m\u001b[0mtokenize\u001b[0m\u001b[0;34m(\u001b[0m\u001b[0;34m)\u001b[0m\u001b[0;34m\u001b[0m\u001b[0;34m\u001b[0m\u001b[0m\n\u001b[0m\u001b[1;32m      2\u001b[0m \u001b[0mab_n\u001b[0m \u001b[0;34m=\u001b[0m \u001b[0mabanca\u001b[0m\u001b[0;34m.\u001b[0m\u001b[0mnames\u001b[0m\u001b[0;34m(\u001b[0m\u001b[0;34m)\u001b[0m\u001b[0;34m\u001b[0m\u001b[0;34m\u001b[0m\u001b[0m\n",
      "\u001b[0;31mNameError\u001b[0m: name 'abanca' is not defined"
     ]
    }
   ],
   "source": [
    "ab_t = abanca.tokenize()\n",
    "ab_n = abanca.names() "
   ]
  },
  {
   "cell_type": "code",
   "execution_count": 6,
   "metadata": {},
   "outputs": [
    {
     "ename": "NameError",
     "evalue": "name 'ab_n' is not defined",
     "output_type": "error",
     "traceback": [
      "\u001b[0;31m---------------------------------------------------------------------------\u001b[0m",
      "\u001b[0;31mNameError\u001b[0m                                 Traceback (most recent call last)",
      "\u001b[0;32m<ipython-input-6-779b9f980dd5>\u001b[0m in \u001b[0;36m<module>\u001b[0;34m\u001b[0m\n\u001b[1;32m      1\u001b[0m \u001b[0mresults\u001b[0m \u001b[0;34m=\u001b[0m \u001b[0;34m{\u001b[0m\u001b[0;34m}\u001b[0m\u001b[0;34m\u001b[0m\u001b[0;34m\u001b[0m\u001b[0m\n\u001b[1;32m      2\u001b[0m \u001b[0mtype_account\u001b[0m \u001b[0;34m=\u001b[0m \u001b[0;34m{\u001b[0m\u001b[0;34m}\u001b[0m\u001b[0;34m\u001b[0m\u001b[0;34m\u001b[0m\u001b[0m\n\u001b[0;32m----> 3\u001b[0;31m \u001b[0;32mfor\u001b[0m \u001b[0mname\u001b[0m \u001b[0;32min\u001b[0m \u001b[0mab_n\u001b[0m\u001b[0;34m:\u001b[0m\u001b[0;34m\u001b[0m\u001b[0;34m\u001b[0m\u001b[0m\n\u001b[0m\u001b[1;32m      4\u001b[0m     \u001b[0;32mfor\u001b[0m \u001b[0mkey\u001b[0m \u001b[0;32min\u001b[0m \u001b[0mcom_dict\u001b[0m\u001b[0;34m:\u001b[0m\u001b[0;34m\u001b[0m\u001b[0;34m\u001b[0m\u001b[0m\n\u001b[1;32m      5\u001b[0m         \u001b[0;32mfor\u001b[0m \u001b[0mvalues\u001b[0m \u001b[0;32min\u001b[0m \u001b[0mkey\u001b[0m\u001b[0;34m:\u001b[0m\u001b[0;34m\u001b[0m\u001b[0;34m\u001b[0m\u001b[0m\n",
      "\u001b[0;31mNameError\u001b[0m: name 'ab_n' is not defined"
     ]
    }
   ],
   "source": [
    "results = {}\n",
    "type_account = {}\n",
    "for name in ab_n: \n",
    "    for key in com_dict:\n",
    "        for values in key:\n",
    "            print('object')\n",
    "            for value in values:\n",
    "                for ind,sentence in enumerate(ab_t):\n",
    "                    if name in sentence and value in sentence[:ind+3]:\n",
    "                        if name in type_account:\n",
    "                            type_account[name].append(sentence)\n",
    "                        else:\n",
    "                            type_account[name]=[sentence]\n",
    "                            print(type_account)"
   ]
  },
  {
   "cell_type": "code",
   "execution_count": 7,
   "metadata": {},
   "outputs": [
    {
     "data": {
      "text/plain": [
       "{}"
      ]
     },
     "execution_count": 7,
     "metadata": {},
     "output_type": "execute_result"
    }
   ],
   "source": [
    "type_account"
   ]
  },
  {
   "cell_type": "code",
   "execution_count": 8,
   "metadata": {},
   "outputs": [
    {
     "ename": "NameError",
     "evalue": "name 'ab_t' is not defined",
     "output_type": "error",
     "traceback": [
      "\u001b[0;31m---------------------------------------------------------------------------\u001b[0m",
      "\u001b[0;31mNameError\u001b[0m                                 Traceback (most recent call last)",
      "\u001b[0;32m<ipython-input-8-0050680e8994>\u001b[0m in \u001b[0;36m<module>\u001b[0;34m\u001b[0m\n\u001b[0;32m----> 1\u001b[0;31m \u001b[0;32mfor\u001b[0m \u001b[0mind\u001b[0m\u001b[0;34m,\u001b[0m\u001b[0msentence\u001b[0m \u001b[0;32min\u001b[0m \u001b[0menumerate\u001b[0m\u001b[0;34m(\u001b[0m\u001b[0mab_t\u001b[0m\u001b[0;34m)\u001b[0m\u001b[0;34m:\u001b[0m\u001b[0;34m\u001b[0m\u001b[0;34m\u001b[0m\u001b[0m\n\u001b[0m\u001b[1;32m      2\u001b[0m     \u001b[0;32mfor\u001b[0m \u001b[0mname\u001b[0m \u001b[0;32min\u001b[0m \u001b[0mab_n\u001b[0m\u001b[0;34m:\u001b[0m\u001b[0;34m\u001b[0m\u001b[0;34m\u001b[0m\u001b[0m\n\u001b[1;32m      3\u001b[0m         \u001b[0;32mif\u001b[0m \u001b[0mname\u001b[0m \u001b[0;32min\u001b[0m \u001b[0msentence\u001b[0m\u001b[0;34m:\u001b[0m\u001b[0;34m\u001b[0m\u001b[0;34m\u001b[0m\u001b[0m\n\u001b[1;32m      4\u001b[0m             \u001b[0mresults\u001b[0m\u001b[0;34m[\u001b[0m\u001b[0mname\u001b[0m\u001b[0;34m]\u001b[0m\u001b[0;34m=\u001b[0m\u001b[0msentence\u001b[0m\u001b[0;34m\u001b[0m\u001b[0;34m\u001b[0m\u001b[0m\n",
      "\u001b[0;31mNameError\u001b[0m: name 'ab_t' is not defined"
     ]
    }
   ],
   "source": [
    "for ind,sentence in enumerate(ab_t):\n",
    "    for name in ab_n:\n",
    "        if name in sentence:\n",
    "            results[name]=sentence"
   ]
  },
  {
   "cell_type": "code",
   "execution_count": 9,
   "metadata": {},
   "outputs": [
    {
     "ename": "NameError",
     "evalue": "name 'ab_n' is not defined",
     "output_type": "error",
     "traceback": [
      "\u001b[0;31m---------------------------------------------------------------------------\u001b[0m",
      "\u001b[0;31mNameError\u001b[0m                                 Traceback (most recent call last)",
      "\u001b[0;32m<ipython-input-9-82375c0765bd>\u001b[0m in \u001b[0;36m<module>\u001b[0;34m\u001b[0m\n\u001b[0;32m----> 1\u001b[0;31m \u001b[0mab_n\u001b[0m\u001b[0;34m\u001b[0m\u001b[0;34m\u001b[0m\u001b[0m\n\u001b[0m",
      "\u001b[0;31mNameError\u001b[0m: name 'ab_n' is not defined"
     ]
    }
   ],
   "source": [
    "ab_n"
   ]
  },
  {
   "cell_type": "code",
   "execution_count": 10,
   "metadata": {},
   "outputs": [
    {
     "ename": "NameError",
     "evalue": "name 'ab_t' is not defined",
     "output_type": "error",
     "traceback": [
      "\u001b[0;31m---------------------------------------------------------------------------\u001b[0m",
      "\u001b[0;31mNameError\u001b[0m                                 Traceback (most recent call last)",
      "\u001b[0;32m<ipython-input-10-3d9538991ce7>\u001b[0m in \u001b[0;36m<module>\u001b[0;34m\u001b[0m\n\u001b[0;32m----> 1\u001b[0;31m \u001b[0mab_t\u001b[0m\u001b[0;34m\u001b[0m\u001b[0;34m\u001b[0m\u001b[0m\n\u001b[0m",
      "\u001b[0;31mNameError\u001b[0m: name 'ab_t' is not defined"
     ]
    }
   ],
   "source": [
    "ab_t"
   ]
  },
  {
   "cell_type": "code",
   "execution_count": 11,
   "metadata": {},
   "outputs": [
    {
     "ename": "TypeError",
     "evalue": "__init__() takes 3 positional arguments but 4 were given",
     "output_type": "error",
     "traceback": [
      "\u001b[0;31m---------------------------------------------------------------------------\u001b[0m",
      "\u001b[0;31mTypeError\u001b[0m                                 Traceback (most recent call last)",
      "\u001b[0;32m<ipython-input-11-6c2f366078f2>\u001b[0m in \u001b[0;36m<module>\u001b[0;34m\u001b[0m\n\u001b[0;32m----> 1\u001b[0;31m \u001b[0mScraping\u001b[0m\u001b[0;34m(\u001b[0m\u001b[0;34m'data/2_all_products.pdf'\u001b[0m\u001b[0;34m,\u001b[0m \u001b[0;36m4\u001b[0m\u001b[0;34m,\u001b[0m \u001b[0;34m'7'\u001b[0m\u001b[0;34m)\u001b[0m\u001b[0;34m.\u001b[0m\u001b[0mvalues\u001b[0m\u001b[0;34m(\u001b[0m\u001b[0;34m)\u001b[0m\u001b[0;34m\u001b[0m\u001b[0;34m\u001b[0m\u001b[0m\n\u001b[0m",
      "\u001b[0;31mTypeError\u001b[0m: __init__() takes 3 positional arguments but 4 were given"
     ]
    }
   ],
   "source": [
    "Scraping('data/2_all_products.pdf', 4, '7').values()"
   ]
  },
  {
   "cell_type": "code",
   "execution_count": 12,
   "metadata": {},
   "outputs": [
    {
     "data": {
      "text/plain": [
       "{'Emissão de extrato': ['Emissão de extrato      1.1  Mensal (enviado ao domicílio)  0,00  nan  IVA – 23%  1.2  Outros, para além do indicado em 1.1  2,00 por extrato  1.3  2ª Via      7,50    2. Fotocópias de segundas vias de talões de depósito   5,00 por documento  nan  IVA – 23%    3.'],\n",
       " 'Fotocópias de segundas vias de talões de depósito': ['Fotocópias de segundas vias de talões de depósito   5,00 por documento  nan  IVA – 23%    3. Manutenção de conta      3.1 Conta D.O.'],\n",
       " 'Manutenção de conta': ['Manutenção de conta      3.1 Conta D.O. Particulares (Nota 2)      - Saldo médio até 1.000€  15,00 Trimestral  60,00  - Saldo médio entre 1.001€ e 2.500€  10,00 Trimestral  40,00  - Saldo médio superior a 2.500€  0,00  nan  3.2 Conta Ordenado (Nota 1 e Nota 16)  0,00  nan  3.3 Conta Standard (não admite novas contratações)  0,00  nan  3.4 Conta Future (Nota 3)  0,00  nan  3.5 Conta Kids (Nota 4)  0,00  nan  IS – 4%    3.6 Conta Global (Nota 5)  6,53 / 7,23 Mensal  85,14  3.7 Conta Base (Nota 6)  10,00 Mensal  120,00   3.8 Conta Private (Nota 7)   8,00 Mensal  96,00  3.9 Conta Value (Nota 8)  5,00 Mensal  60,00  3.10 Conta Smart (Nota 9)  5,00 Mensal  60,00  3.11 Conta Futuro (Nota 10)  0,00  nan  3.12 Conta Serviços Mínimos Bancários (Nota 11)  2,00 Semestral  4,00  3.13 Conta Moeda Estrangeira (Nota 12)  5,00 Mensal  60,00  3.14 Conta ABANCA Internacional (Nota 17)  0,00  nan  4.'],\n",
       " 'Levantamento de numerário': ['Levantamento de numerário          4.1 Ao balcão, com apresentação de cheque  0,00  nan  IS – 4%  Nota (13)   4.2 Ao balcão, sem apresentação de cheque  3,50   5. Adesão ao serviço de banca à distância  0,00  nan  nan    6.'],\n",
       " 'Adesão ao serviço de banca à distância': ['Adesão ao serviço de banca à distância  0,00  nan  nan    6. Depósito de moedas metálicas (igual ou superior a 100  Notas (13)  3,50  nan  IS – 4%  moedas por dia e por conta)  (14)  Notas (13)  7.'],\n",
       " 'Depósito de moedas metálicas': ['Depósito de moedas metálicas (igual ou superior a 100  Notas (13)  3,50  nan  IS – 4%  moedas por dia e por conta)  (14)  Notas (13)  7. Alteração de titulares  5,00  nan  IS – 4%  (15)  8.'],\n",
       " 'Depósito de moedas': ['Depósito de moedas metálicas (igual ou superior a 100  Notas (13)  3,50  nan  IS – 4%  moedas por dia e por conta)  (14)  Notas (13)  7. Alteração de titulares  5,00  nan  IS – 4%  (15)  8.'],\n",
       " 'Alteração de titulares': ['Alteração de titulares  5,00  nan  IS – 4%  (15)  8. Comissão por descoberto bancário  Vide Secção 2.5 Descobertos bancários  Nota (1) Não admite novas contratações.']}"
      ]
     },
     "execution_count": 12,
     "metadata": {},
     "output_type": "execute_result"
    }
   ],
   "source": [
    "Scraping('data/abanca.pdf', 4).values()"
   ]
  },
  {
   "cell_type": "code",
   "execution_count": 13,
   "metadata": {},
   "outputs": [
    {
     "ename": "NameError",
     "evalue": "name 'ab_n' is not defined",
     "output_type": "error",
     "traceback": [
      "\u001b[0;31m---------------------------------------------------------------------------\u001b[0m",
      "\u001b[0;31mNameError\u001b[0m                                 Traceback (most recent call last)",
      "\u001b[0;32m<ipython-input-13-82375c0765bd>\u001b[0m in \u001b[0;36m<module>\u001b[0;34m\u001b[0m\n\u001b[0;32m----> 1\u001b[0;31m \u001b[0mab_n\u001b[0m\u001b[0;34m\u001b[0m\u001b[0;34m\u001b[0m\u001b[0m\n\u001b[0m",
      "\u001b[0;31mNameError\u001b[0m: name 'ab_n' is not defined"
     ]
    }
   ],
   "source": [
    "ab_n"
   ]
  },
  {
   "cell_type": "code",
   "execution_count": 14,
   "metadata": {},
   "outputs": [
    {
     "ename": "NameError",
     "evalue": "name 'ab_n' is not defined",
     "output_type": "error",
     "traceback": [
      "\u001b[0;31m---------------------------------------------------------------------------\u001b[0m",
      "\u001b[0;31mNameError\u001b[0m                                 Traceback (most recent call last)",
      "\u001b[0;32m<ipython-input-14-8c485b455f24>\u001b[0m in \u001b[0;36m<module>\u001b[0;34m\u001b[0m\n\u001b[1;32m      1\u001b[0m \u001b[0mlista\u001b[0m \u001b[0;34m=\u001b[0m\u001b[0;34m[\u001b[0m\u001b[0;34m]\u001b[0m\u001b[0;34m\u001b[0m\u001b[0;34m\u001b[0m\u001b[0m\n\u001b[0;32m----> 2\u001b[0;31m \u001b[0;32mfor\u001b[0m \u001b[0midx\u001b[0m\u001b[0;34m,\u001b[0m\u001b[0mname\u001b[0m \u001b[0;32min\u001b[0m \u001b[0menumerate\u001b[0m\u001b[0;34m(\u001b[0m\u001b[0mab_n\u001b[0m\u001b[0;34m)\u001b[0m\u001b[0;34m:\u001b[0m\u001b[0;34m\u001b[0m\u001b[0;34m\u001b[0m\u001b[0m\n\u001b[0m\u001b[1;32m      3\u001b[0m     \u001b[0msingle\u001b[0m \u001b[0;34m=\u001b[0m \u001b[0;34m' '\u001b[0m\u001b[0;34m.\u001b[0m\u001b[0mjoin\u001b[0m\u001b[0;34m(\u001b[0m\u001b[0mname\u001b[0m\u001b[0;34m.\u001b[0m\u001b[0msplit\u001b[0m\u001b[0;34m(\u001b[0m\u001b[0;34m\" \"\u001b[0m\u001b[0;34m)\u001b[0m\u001b[0;34m[\u001b[0m\u001b[0;34m:\u001b[0m\u001b[0;36m2\u001b[0m\u001b[0;34m]\u001b[0m\u001b[0;34m)\u001b[0m\u001b[0;34m\u001b[0m\u001b[0;34m\u001b[0m\u001b[0m\n\u001b[1;32m      4\u001b[0m \u001b[0;31m#     print(single)\u001b[0m\u001b[0;34m\u001b[0m\u001b[0;34m\u001b[0m\u001b[0;34m\u001b[0m\u001b[0m\n\u001b[1;32m      5\u001b[0m \u001b[0;31m#     print(name[:1])\u001b[0m\u001b[0;34m\u001b[0m\u001b[0;34m\u001b[0m\u001b[0;34m\u001b[0m\u001b[0m\n",
      "\u001b[0;31mNameError\u001b[0m: name 'ab_n' is not defined"
     ]
    }
   ],
   "source": [
    "lista =[]\n",
    "for idx,name in enumerate(ab_n):\n",
    "    single = ' '.join(name.split(\" \")[:2])\n",
    "#     print(single)\n",
    "#     print(name[:1])\n",
    "    if single not in lista:\n",
    "        lista.append(name)\n",
    "lista"
   ]
  },
  {
   "cell_type": "code",
   "execution_count": null,
   "metadata": {},
   "outputs": [],
   "source": [
    "Scraping('data/abanca.pdf',4).names()"
   ]
  },
  {
   "cell_type": "code",
   "execution_count": 43,
   "metadata": {},
   "outputs": [],
   "source": [
    "# def dictionary:\n",
    "output = {'bank_id':{'demand_depos':\n",
    "                             {'example_subproduct':\n",
    "                                          {'statement' : None,\n",
    "                                           'documents_copy' : None,\n",
    "                                           'acc_manteinance' : None,\n",
    "                                           'withdraw': None,\n",
    "                                           'online_service' : None,\n",
    "                                           'cash_deposit': None,\n",
    "                                           'change_holder' : None,\n",
    "                                           'bank_overdraft': None,\n",
    "                                           'movement_consultation': None,\n",
    "                                           'balance_inquiry': None}},\n",
    "                                     \n",
    "                    'house_credit':{'subproduct':\n",
    "                                            {'commissions': None}},\n",
    "                     \n",
    "                    'term_depos':{'subproduct' : \n",
    "                                              {'commission': None}}\n",
    "                    }\n",
    "         }\n"
   ]
  },
  {
   "cell_type": "code",
   "execution_count": 46,
   "metadata": {
    "collapsed": true
   },
   "outputs": [
    {
     "data": {
      "text/plain": [
       "{'demand_depos': {'Conta D.O.': {'statement': None,\n",
       "   'documents_copy': None,\n",
       "   'acc_manteinance': None,\n",
       "   'withdraw': None,\n",
       "   'online_service': None,\n",
       "   'cash_deposit': None,\n",
       "   'change_holder': None,\n",
       "   'bank_overdraft': None,\n",
       "   'movement_consultation': None,\n",
       "   'balance_inquiry': None},\n",
       "  'Conta Ordenado': {'statement': None,\n",
       "   'documents_copy': None,\n",
       "   'acc_manteinance': None,\n",
       "   'withdraw': None,\n",
       "   'online_service': None,\n",
       "   'cash_deposit': None,\n",
       "   'change_holder': None,\n",
       "   'bank_overdraft': None,\n",
       "   'movement_consultation': None,\n",
       "   'balance_inquiry': None},\n",
       "  'Conta Standard': {'statement': None,\n",
       "   'documents_copy': None,\n",
       "   'acc_manteinance': None,\n",
       "   'withdraw': None,\n",
       "   'online_service': None,\n",
       "   'cash_deposit': None,\n",
       "   'change_holder': None,\n",
       "   'bank_overdraft': None,\n",
       "   'movement_consultation': None,\n",
       "   'balance_inquiry': None},\n",
       "  'Conta Future': {'statement': None,\n",
       "   'documents_copy': None,\n",
       "   'acc_manteinance': None,\n",
       "   'withdraw': None,\n",
       "   'online_service': None,\n",
       "   'cash_deposit': None,\n",
       "   'change_holder': None,\n",
       "   'bank_overdraft': None,\n",
       "   'movement_consultation': None,\n",
       "   'balance_inquiry': None},\n",
       "  'Conta Kids': {'statement': None,\n",
       "   'documents_copy': None,\n",
       "   'acc_manteinance': None,\n",
       "   'withdraw': None,\n",
       "   'online_service': None,\n",
       "   'cash_deposit': None,\n",
       "   'change_holder': None,\n",
       "   'bank_overdraft': None,\n",
       "   'movement_consultation': None,\n",
       "   'balance_inquiry': None},\n",
       "  'Conta Global Em comercialização:': {'statement': None,\n",
       "   'documents_copy': None,\n",
       "   'acc_manteinance': None,\n",
       "   'withdraw': None,\n",
       "   'online_service': None,\n",
       "   'cash_deposit': None,\n",
       "   'change_holder': None,\n",
       "   'bank_overdraft': None,\n",
       "   'movement_consultation': None,\n",
       "   'balance_inquiry': None},\n",
       "  'Conta Base': {'statement': None,\n",
       "   'documents_copy': None,\n",
       "   'acc_manteinance': None,\n",
       "   'withdraw': None,\n",
       "   'online_service': None,\n",
       "   'cash_deposit': None,\n",
       "   'change_holder': None,\n",
       "   'bank_overdraft': None,\n",
       "   'movement_consultation': None,\n",
       "   'balance_inquiry': None},\n",
       "  'Conta Private': {'statement': None,\n",
       "   'documents_copy': None,\n",
       "   'acc_manteinance': None,\n",
       "   'withdraw': None,\n",
       "   'online_service': None,\n",
       "   'cash_deposit': None,\n",
       "   'change_holder': None,\n",
       "   'bank_overdraft': None,\n",
       "   'movement_consultation': None,\n",
       "   'balance_inquiry': None},\n",
       "  'Conta Value': {'statement': None,\n",
       "   'documents_copy': None,\n",
       "   'acc_manteinance': None,\n",
       "   'withdraw': None,\n",
       "   'online_service': None,\n",
       "   'cash_deposit': None,\n",
       "   'change_holder': None,\n",
       "   'bank_overdraft': None,\n",
       "   'movement_consultation': None,\n",
       "   'balance_inquiry': None},\n",
       "  'Conta Smart': {'statement': None,\n",
       "   'documents_copy': None,\n",
       "   'acc_manteinance': None,\n",
       "   'withdraw': None,\n",
       "   'online_service': None,\n",
       "   'cash_deposit': None,\n",
       "   'change_holder': None,\n",
       "   'bank_overdraft': None,\n",
       "   'movement_consultation': None,\n",
       "   'balance_inquiry': None},\n",
       "  'Conta Futuro': {'statement': None,\n",
       "   'documents_copy': None,\n",
       "   'acc_manteinance': None,\n",
       "   'withdraw': None,\n",
       "   'online_service': None,\n",
       "   'cash_deposit': None,\n",
       "   'change_holder': None,\n",
       "   'bank_overdraft': None,\n",
       "   'movement_consultation': None,\n",
       "   'balance_inquiry': None},\n",
       "  'Conta Serviços Mínimos Bancários,': {'statement': None,\n",
       "   'documents_copy': None,\n",
       "   'acc_manteinance': None,\n",
       "   'withdraw': None,\n",
       "   'online_service': None,\n",
       "   'cash_deposit': None,\n",
       "   'change_holder': None,\n",
       "   'bank_overdraft': None,\n",
       "   'movement_consultation': None,\n",
       "   'balance_inquiry': None},\n",
       "  'Conta Moeda Estrangeira e': {'statement': None,\n",
       "   'documents_copy': None,\n",
       "   'acc_manteinance': None,\n",
       "   'withdraw': None,\n",
       "   'online_service': None,\n",
       "   'cash_deposit': None,\n",
       "   'change_holder': None,\n",
       "   'bank_overdraft': None,\n",
       "   'movement_consultation': None,\n",
       "   'balance_inquiry': None},\n",
       "  'Conta ABANCA Internacional.': {'statement': None,\n",
       "   'documents_copy': None,\n",
       "   'acc_manteinance': None,\n",
       "   'withdraw': None,\n",
       "   'online_service': None,\n",
       "   'cash_deposit': None,\n",
       "   'change_holder': None,\n",
       "   'bank_overdraft': None,\n",
       "   'movement_consultation': None,\n",
       "   'balance_inquiry': None},\n",
       "  'Conta Global (Nota 5) 6,53 / 7,23 Mensal 85,14 3.7': {'statement': None,\n",
       "   'documents_copy': None,\n",
       "   'acc_manteinance': None,\n",
       "   'withdraw': None,\n",
       "   'online_service': None,\n",
       "   'cash_deposit': None,\n",
       "   'change_holder': None,\n",
       "   'bank_overdraft': None,\n",
       "   'movement_consultation': None,\n",
       "   'balance_inquiry': None},\n",
       "  'Conta Serviços Mínimos Bancários (Nota 11) 2,00 Semestral 4,00 3.13': {'statement': None,\n",
       "   'documents_copy': None,\n",
       "   'acc_manteinance': None,\n",
       "   'withdraw': None,\n",
       "   'online_service': None,\n",
       "   'cash_deposit': None,\n",
       "   'change_holder': None,\n",
       "   'bank_overdraft': None,\n",
       "   'movement_consultation': None,\n",
       "   'balance_inquiry': None},\n",
       "  'Conta Moeda Estrangeira (Nota 12) 5,00 Mensal 60,00 3.14': {'statement': None,\n",
       "   'documents_copy': None,\n",
       "   'acc_manteinance': None,\n",
       "   'withdraw': None,\n",
       "   'online_service': None,\n",
       "   'cash_deposit': None,\n",
       "   'change_holder': None,\n",
       "   'bank_overdraft': None,\n",
       "   'movement_consultation': None,\n",
       "   'balance_inquiry': None},\n",
       "  'Conta ABANCA Internacional (Nota 17) 0,00 nan 4.': {'statement': None,\n",
       "   'documents_copy': None,\n",
       "   'acc_manteinance': None,\n",
       "   'withdraw': None,\n",
       "   'online_service': None,\n",
       "   'cash_deposit': None,\n",
       "   'change_holder': None,\n",
       "   'bank_overdraft': None,\n",
       "   'movement_consultation': None,\n",
       "   'balance_inquiry': None},\n",
       "  'Conta para clientes dos 18 aos 28 anos.': {'statement': None,\n",
       "   'documents_copy': None,\n",
       "   'acc_manteinance': None,\n",
       "   'withdraw': None,\n",
       "   'online_service': None,\n",
       "   'cash_deposit': None,\n",
       "   'change_holder': None,\n",
       "   'bank_overdraft': None,\n",
       "   'movement_consultation': None,\n",
       "   'balance_inquiry': None},\n",
       "  'Conta para clientes dos 0 aos 17 anos.': {'statement': None,\n",
       "   'documents_copy': None,\n",
       "   'acc_manteinance': None,\n",
       "   'withdraw': None,\n",
       "   'online_service': None,\n",
       "   'cash_deposit': None,\n",
       "   'change_holder': None,\n",
       "   'bank_overdraft': None,\n",
       "   'movement_consultation': None,\n",
       "   'balance_inquiry': None},\n",
       "  'Conta que permite aceder aos seguintes produtos e serviços, mediante o pagamento de uma': {'statement': None,\n",
       "   'documents_copy': None,\n",
       "   'acc_manteinance': None,\n",
       "   'withdraw': None,\n",
       "   'online_service': None,\n",
       "   'cash_deposit': None,\n",
       "   'change_holder': None,\n",
       "   'bank_overdraft': None,\n",
       "   'movement_consultation': None,\n",
       "   'balance_inquiry': None}}}"
      ]
     },
     "execution_count": 46,
     "metadata": {},
     "output_type": "execute_result"
    }
   ],
   "source": [
    "ab_output = {}\n",
    "ab_output['demand_depos']=Scraping('data/abanca.pdf',4).demand_depos()\n",
    "ab_output"
   ]
  },
  {
   "cell_type": "code",
   "execution_count": 17,
   "metadata": {},
   "outputs": [],
   "source": [
    "subproduct_dict = {'statement' : None,\n",
    "                   'documents_copy' : None,\n",
    "                   'acc_manteinance' : None,\n",
    "                   'withdraw': None,\n",
    "                   'online_service' : None,\n",
    "                   'cash_deposit': None,\n",
    "                   'change_holder' : None,\n",
    "                   'bank_overdraft': None,\n",
    "                   'movement_consultation': None,\n",
    "                   'balance_inquiry': None}"
   ]
  },
  {
   "cell_type": "code",
   "execution_count": 24,
   "metadata": {
    "collapsed": true
   },
   "outputs": [
    {
     "data": {
      "text/plain": [
       "{'Conta D.O.': {'statement': None,\n",
       "  'documents_copy': None,\n",
       "  'acc_manteinance': None,\n",
       "  'withdraw': None,\n",
       "  'online_service': None,\n",
       "  'cash_deposit': None,\n",
       "  'change_holder': None,\n",
       "  'bank_overdraft': None,\n",
       "  'movement_consultation': None,\n",
       "  'balance_inquiry': None},\n",
       " 'Conta Ordenado': {'statement': None,\n",
       "  'documents_copy': None,\n",
       "  'acc_manteinance': None,\n",
       "  'withdraw': None,\n",
       "  'online_service': None,\n",
       "  'cash_deposit': None,\n",
       "  'change_holder': None,\n",
       "  'bank_overdraft': None,\n",
       "  'movement_consultation': None,\n",
       "  'balance_inquiry': None},\n",
       " 'Conta Standard': {'statement': None,\n",
       "  'documents_copy': None,\n",
       "  'acc_manteinance': None,\n",
       "  'withdraw': None,\n",
       "  'online_service': None,\n",
       "  'cash_deposit': None,\n",
       "  'change_holder': None,\n",
       "  'bank_overdraft': None,\n",
       "  'movement_consultation': None,\n",
       "  'balance_inquiry': None},\n",
       " 'Conta Future': {'statement': None,\n",
       "  'documents_copy': None,\n",
       "  'acc_manteinance': None,\n",
       "  'withdraw': None,\n",
       "  'online_service': None,\n",
       "  'cash_deposit': None,\n",
       "  'change_holder': None,\n",
       "  'bank_overdraft': None,\n",
       "  'movement_consultation': None,\n",
       "  'balance_inquiry': None},\n",
       " 'Conta Kids': {'statement': None,\n",
       "  'documents_copy': None,\n",
       "  'acc_manteinance': None,\n",
       "  'withdraw': None,\n",
       "  'online_service': None,\n",
       "  'cash_deposit': None,\n",
       "  'change_holder': None,\n",
       "  'bank_overdraft': None,\n",
       "  'movement_consultation': None,\n",
       "  'balance_inquiry': None},\n",
       " 'Conta Global Em comercialização:': {'statement': None,\n",
       "  'documents_copy': None,\n",
       "  'acc_manteinance': None,\n",
       "  'withdraw': None,\n",
       "  'online_service': None,\n",
       "  'cash_deposit': None,\n",
       "  'change_holder': None,\n",
       "  'bank_overdraft': None,\n",
       "  'movement_consultation': None,\n",
       "  'balance_inquiry': None},\n",
       " 'Conta Base': {'statement': None,\n",
       "  'documents_copy': None,\n",
       "  'acc_manteinance': None,\n",
       "  'withdraw': None,\n",
       "  'online_service': None,\n",
       "  'cash_deposit': None,\n",
       "  'change_holder': None,\n",
       "  'bank_overdraft': None,\n",
       "  'movement_consultation': None,\n",
       "  'balance_inquiry': None},\n",
       " 'Conta Private': {'statement': None,\n",
       "  'documents_copy': None,\n",
       "  'acc_manteinance': None,\n",
       "  'withdraw': None,\n",
       "  'online_service': None,\n",
       "  'cash_deposit': None,\n",
       "  'change_holder': None,\n",
       "  'bank_overdraft': None,\n",
       "  'movement_consultation': None,\n",
       "  'balance_inquiry': None},\n",
       " 'Conta Value': {'statement': None,\n",
       "  'documents_copy': None,\n",
       "  'acc_manteinance': None,\n",
       "  'withdraw': None,\n",
       "  'online_service': None,\n",
       "  'cash_deposit': None,\n",
       "  'change_holder': None,\n",
       "  'bank_overdraft': None,\n",
       "  'movement_consultation': None,\n",
       "  'balance_inquiry': None},\n",
       " 'Conta Smart': {'statement': None,\n",
       "  'documents_copy': None,\n",
       "  'acc_manteinance': None,\n",
       "  'withdraw': None,\n",
       "  'online_service': None,\n",
       "  'cash_deposit': None,\n",
       "  'change_holder': None,\n",
       "  'bank_overdraft': None,\n",
       "  'movement_consultation': None,\n",
       "  'balance_inquiry': None},\n",
       " 'Conta Futuro': {'statement': None,\n",
       "  'documents_copy': None,\n",
       "  'acc_manteinance': None,\n",
       "  'withdraw': None,\n",
       "  'online_service': None,\n",
       "  'cash_deposit': None,\n",
       "  'change_holder': None,\n",
       "  'bank_overdraft': None,\n",
       "  'movement_consultation': None,\n",
       "  'balance_inquiry': None},\n",
       " 'Conta Serviços Mínimos Bancários,': {'statement': None,\n",
       "  'documents_copy': None,\n",
       "  'acc_manteinance': None,\n",
       "  'withdraw': None,\n",
       "  'online_service': None,\n",
       "  'cash_deposit': None,\n",
       "  'change_holder': None,\n",
       "  'bank_overdraft': None,\n",
       "  'movement_consultation': None,\n",
       "  'balance_inquiry': None},\n",
       " 'Conta Moeda Estrangeira e': {'statement': None,\n",
       "  'documents_copy': None,\n",
       "  'acc_manteinance': None,\n",
       "  'withdraw': None,\n",
       "  'online_service': None,\n",
       "  'cash_deposit': None,\n",
       "  'change_holder': None,\n",
       "  'bank_overdraft': None,\n",
       "  'movement_consultation': None,\n",
       "  'balance_inquiry': None},\n",
       " 'Conta ABANCA Internacional.': {'statement': None,\n",
       "  'documents_copy': None,\n",
       "  'acc_manteinance': None,\n",
       "  'withdraw': None,\n",
       "  'online_service': None,\n",
       "  'cash_deposit': None,\n",
       "  'change_holder': None,\n",
       "  'bank_overdraft': None,\n",
       "  'movement_consultation': None,\n",
       "  'balance_inquiry': None},\n",
       " 'Conta Global (Nota 5) 6,53 / 7,23 Mensal 85,14 3.7': {'statement': None,\n",
       "  'documents_copy': None,\n",
       "  'acc_manteinance': None,\n",
       "  'withdraw': None,\n",
       "  'online_service': None,\n",
       "  'cash_deposit': None,\n",
       "  'change_holder': None,\n",
       "  'bank_overdraft': None,\n",
       "  'movement_consultation': None,\n",
       "  'balance_inquiry': None},\n",
       " 'Conta Serviços Mínimos Bancários (Nota 11) 2,00 Semestral 4,00 3.13': {'statement': None,\n",
       "  'documents_copy': None,\n",
       "  'acc_manteinance': None,\n",
       "  'withdraw': None,\n",
       "  'online_service': None,\n",
       "  'cash_deposit': None,\n",
       "  'change_holder': None,\n",
       "  'bank_overdraft': None,\n",
       "  'movement_consultation': None,\n",
       "  'balance_inquiry': None},\n",
       " 'Conta Moeda Estrangeira (Nota 12) 5,00 Mensal 60,00 3.14': {'statement': None,\n",
       "  'documents_copy': None,\n",
       "  'acc_manteinance': None,\n",
       "  'withdraw': None,\n",
       "  'online_service': None,\n",
       "  'cash_deposit': None,\n",
       "  'change_holder': None,\n",
       "  'bank_overdraft': None,\n",
       "  'movement_consultation': None,\n",
       "  'balance_inquiry': None},\n",
       " 'Conta ABANCA Internacional (Nota 17) 0,00 nan 4.': {'statement': None,\n",
       "  'documents_copy': None,\n",
       "  'acc_manteinance': None,\n",
       "  'withdraw': None,\n",
       "  'online_service': None,\n",
       "  'cash_deposit': None,\n",
       "  'change_holder': None,\n",
       "  'bank_overdraft': None,\n",
       "  'movement_consultation': None,\n",
       "  'balance_inquiry': None},\n",
       " 'Conta para clientes dos 18 aos 28 anos.': {'statement': None,\n",
       "  'documents_copy': None,\n",
       "  'acc_manteinance': None,\n",
       "  'withdraw': None,\n",
       "  'online_service': None,\n",
       "  'cash_deposit': None,\n",
       "  'change_holder': None,\n",
       "  'bank_overdraft': None,\n",
       "  'movement_consultation': None,\n",
       "  'balance_inquiry': None},\n",
       " 'Conta para clientes dos 0 aos 17 anos.': {'statement': None,\n",
       "  'documents_copy': None,\n",
       "  'acc_manteinance': None,\n",
       "  'withdraw': None,\n",
       "  'online_service': None,\n",
       "  'cash_deposit': None,\n",
       "  'change_holder': None,\n",
       "  'bank_overdraft': None,\n",
       "  'movement_consultation': None,\n",
       "  'balance_inquiry': None},\n",
       " 'Conta que permite aceder aos seguintes produtos e serviços, mediante o pagamento de uma': {'statement': None,\n",
       "  'documents_copy': None,\n",
       "  'acc_manteinance': None,\n",
       "  'withdraw': None,\n",
       "  'online_service': None,\n",
       "  'cash_deposit': None,\n",
       "  'change_holder': None,\n",
       "  'bank_overdraft': None,\n",
       "  'movement_consultation': None,\n",
       "  'balance_inquiry': None}}"
      ]
     },
     "execution_count": 24,
     "metadata": {},
     "output_type": "execute_result"
    }
   ],
   "source": [
    "demand_depos = {}\n",
    "abanca = Scraping('data/abanca.pdf',4)\n",
    "for each in abanca.names():\n",
    "    demand_depos[each] = subproduct_dict\n",
    "demand_depos   "
   ]
  },
  {
   "cell_type": "code",
   "execution_count": 32,
   "metadata": {},
   "outputs": [],
   "source": [
    "# loop =[]\n",
    "# lista = []\n",
    "# for n in demand_deposit:\n",
    "#     for k,commission in com_dict.items():\n",
    "#         sub_lista = []\n",
    "#         sub_lista.append(n)\n",
    "#         sub_lista.append(commission)\n",
    "#     lista.append(sub_lista)\n",
    "#     loop = filter(lista,abanca.tokenize())\n",
    "# #             for idx,sentence in enumerate(abanca.tokenize()):\n",
    "# #             if n in sentence:\n",
    "# #                 text = abanca.tokenize()[idx:]\n",
    "# #                 print('HEEEEEELP')\n",
    "# #                 print(text)"
   ]
  },
  {
   "cell_type": "code",
   "execution_count": null,
   "metadata": {},
   "outputs": [],
   "source": []
  },
  {
   "cell_type": "code",
   "execution_count": 70,
   "metadata": {},
   "outputs": [],
   "source": [
    "# abanca.tokenize()"
   ]
  },
  {
   "cell_type": "code",
   "execution_count": 69,
   "metadata": {},
   "outputs": [],
   "source": [
    "# Scraping('data/ctt.pdf',4).output()"
   ]
  },
  {
   "cell_type": "code",
   "execution_count": 68,
   "metadata": {},
   "outputs": [],
   "source": [
    "# Scraping('data/bai.pdf',4).output()"
   ]
  },
  {
   "cell_type": "code",
   "execution_count": 67,
   "metadata": {},
   "outputs": [],
   "source": [
    "# Scraping('data/bankinter.pdf',4).output()"
   ]
  },
  {
   "cell_type": "code",
   "execution_count": 66,
   "metadata": {},
   "outputs": [],
   "source": [
    "# Scraping('data/bic.pdf',5).output()"
   ]
  },
  {
   "cell_type": "code",
   "execution_count": 65,
   "metadata": {},
   "outputs": [
    {
     "data": {
      "text/plain": [
       "{'demand_depos': {'Conta D.O.': {'statement': None,\n",
       "   'documents_copy': None,\n",
       "   'acc_manteinance': None,\n",
       "   'withdraw': None,\n",
       "   'online_service': None,\n",
       "   'cash_deposit': None,\n",
       "   'change_holder': None,\n",
       "   'bank_overdraft': None,\n",
       "   'movement_consultation': None,\n",
       "   'balance_inquiry': None},\n",
       "  'Conta Ordenado': {'statement': None,\n",
       "   'documents_copy': None,\n",
       "   'acc_manteinance': None,\n",
       "   'withdraw': None,\n",
       "   'online_service': None,\n",
       "   'cash_deposit': None,\n",
       "   'change_holder': None,\n",
       "   'bank_overdraft': None,\n",
       "   'movement_consultation': None,\n",
       "   'balance_inquiry': None},\n",
       "  'Conta Standard': {'statement': None,\n",
       "   'documents_copy': None,\n",
       "   'acc_manteinance': None,\n",
       "   'withdraw': None,\n",
       "   'online_service': None,\n",
       "   'cash_deposit': None,\n",
       "   'change_holder': None,\n",
       "   'bank_overdraft': None,\n",
       "   'movement_consultation': None,\n",
       "   'balance_inquiry': None},\n",
       "  'Conta Future': {'statement': None,\n",
       "   'documents_copy': None,\n",
       "   'acc_manteinance': None,\n",
       "   'withdraw': None,\n",
       "   'online_service': None,\n",
       "   'cash_deposit': None,\n",
       "   'change_holder': None,\n",
       "   'bank_overdraft': None,\n",
       "   'movement_consultation': None,\n",
       "   'balance_inquiry': None},\n",
       "  'Conta Kids': {'statement': None,\n",
       "   'documents_copy': None,\n",
       "   'acc_manteinance': None,\n",
       "   'withdraw': None,\n",
       "   'online_service': None,\n",
       "   'cash_deposit': None,\n",
       "   'change_holder': None,\n",
       "   'bank_overdraft': None,\n",
       "   'movement_consultation': None,\n",
       "   'balance_inquiry': None},\n",
       "  'Conta Global Em comercialização:': {'statement': None,\n",
       "   'documents_copy': None,\n",
       "   'acc_manteinance': None,\n",
       "   'withdraw': None,\n",
       "   'online_service': None,\n",
       "   'cash_deposit': None,\n",
       "   'change_holder': None,\n",
       "   'bank_overdraft': None,\n",
       "   'movement_consultation': None,\n",
       "   'balance_inquiry': None},\n",
       "  'Conta Base': {'statement': None,\n",
       "   'documents_copy': None,\n",
       "   'acc_manteinance': None,\n",
       "   'withdraw': None,\n",
       "   'online_service': None,\n",
       "   'cash_deposit': None,\n",
       "   'change_holder': None,\n",
       "   'bank_overdraft': None,\n",
       "   'movement_consultation': None,\n",
       "   'balance_inquiry': None},\n",
       "  'Conta Private': {'statement': None,\n",
       "   'documents_copy': None,\n",
       "   'acc_manteinance': None,\n",
       "   'withdraw': None,\n",
       "   'online_service': None,\n",
       "   'cash_deposit': None,\n",
       "   'change_holder': None,\n",
       "   'bank_overdraft': None,\n",
       "   'movement_consultation': None,\n",
       "   'balance_inquiry': None},\n",
       "  'Conta Value': {'statement': None,\n",
       "   'documents_copy': None,\n",
       "   'acc_manteinance': None,\n",
       "   'withdraw': None,\n",
       "   'online_service': None,\n",
       "   'cash_deposit': None,\n",
       "   'change_holder': None,\n",
       "   'bank_overdraft': None,\n",
       "   'movement_consultation': None,\n",
       "   'balance_inquiry': None},\n",
       "  'Conta Smart': {'statement': None,\n",
       "   'documents_copy': None,\n",
       "   'acc_manteinance': None,\n",
       "   'withdraw': None,\n",
       "   'online_service': None,\n",
       "   'cash_deposit': None,\n",
       "   'change_holder': None,\n",
       "   'bank_overdraft': None,\n",
       "   'movement_consultation': None,\n",
       "   'balance_inquiry': None},\n",
       "  'Conta Futuro': {'statement': None,\n",
       "   'documents_copy': None,\n",
       "   'acc_manteinance': None,\n",
       "   'withdraw': None,\n",
       "   'online_service': None,\n",
       "   'cash_deposit': None,\n",
       "   'change_holder': None,\n",
       "   'bank_overdraft': None,\n",
       "   'movement_consultation': None,\n",
       "   'balance_inquiry': None},\n",
       "  'Conta Serviços Mínimos Bancários,': {'statement': None,\n",
       "   'documents_copy': None,\n",
       "   'acc_manteinance': None,\n",
       "   'withdraw': None,\n",
       "   'online_service': None,\n",
       "   'cash_deposit': None,\n",
       "   'change_holder': None,\n",
       "   'bank_overdraft': None,\n",
       "   'movement_consultation': None,\n",
       "   'balance_inquiry': None},\n",
       "  'Conta Moeda Estrangeira e': {'statement': None,\n",
       "   'documents_copy': None,\n",
       "   'acc_manteinance': None,\n",
       "   'withdraw': None,\n",
       "   'online_service': None,\n",
       "   'cash_deposit': None,\n",
       "   'change_holder': None,\n",
       "   'bank_overdraft': None,\n",
       "   'movement_consultation': None,\n",
       "   'balance_inquiry': None},\n",
       "  'Conta ABANCA Internacional.': {'statement': None,\n",
       "   'documents_copy': None,\n",
       "   'acc_manteinance': None,\n",
       "   'withdraw': None,\n",
       "   'online_service': None,\n",
       "   'cash_deposit': None,\n",
       "   'change_holder': None,\n",
       "   'bank_overdraft': None,\n",
       "   'movement_consultation': None,\n",
       "   'balance_inquiry': None},\n",
       "  'Conta Moeda Estrangeira (Nota 12) 5,00 Mensal 60,00 4.': {'statement': None,\n",
       "   'documents_copy': None,\n",
       "   'acc_manteinance': None,\n",
       "   'withdraw': None,\n",
       "   'online_service': None,\n",
       "   'cash_deposit': None,\n",
       "   'change_holder': None,\n",
       "   'bank_overdraft': None,\n",
       "   'movement_consultation': None,\n",
       "   'balance_inquiry': None},\n",
       "  'Conta Pacote 4.1.': {'statement': None,\n",
       "   'documents_copy': None,\n",
       "   'acc_manteinance': None,\n",
       "   'withdraw': None,\n",
       "   'online_service': None,\n",
       "   'cash_deposit': None,\n",
       "   'change_holder': None,\n",
       "   'bank_overdraft': None,\n",
       "   'movement_consultation': None,\n",
       "   'balance_inquiry': None},\n",
       "  'Conta Global (Nota 5) 6,53 / 7,23 Mensal 85,14 4.4.': {'statement': None,\n",
       "   'documents_copy': None,\n",
       "   'acc_manteinance': None,\n",
       "   'withdraw': None,\n",
       "   'online_service': None,\n",
       "   'cash_deposit': None,\n",
       "   'change_holder': None,\n",
       "   'bank_overdraft': None,\n",
       "   'movement_consultation': None,\n",
       "   'balance_inquiry': None},\n",
       "  'Conta ABANCA Internacional (Nota 17) 0,00 nan 5.': {'statement': None,\n",
       "   'documents_copy': None,\n",
       "   'acc_manteinance': None,\n",
       "   'withdraw': None,\n",
       "   'online_service': None,\n",
       "   'cash_deposit': None,\n",
       "   'change_holder': None,\n",
       "   'bank_overdraft': None,\n",
       "   'movement_consultation': None,\n",
       "   'balance_inquiry': None},\n",
       "  'Conta Serviços Mínimos Bancários 2,00 Semestral 4,00 IS – 4% (Nota 11) 7.': {'statement': None,\n",
       "   'documents_copy': None,\n",
       "   'acc_manteinance': None,\n",
       "   'withdraw': None,\n",
       "   'online_service': None,\n",
       "   'cash_deposit': None,\n",
       "   'change_holder': None,\n",
       "   'bank_overdraft': None,\n",
       "   'movement_consultation': None,\n",
       "   'balance_inquiry': None},\n",
       "  'Conta para clientes dos 18 aos 28 anos.': {'statement': None,\n",
       "   'documents_copy': None,\n",
       "   'acc_manteinance': None,\n",
       "   'withdraw': None,\n",
       "   'online_service': None,\n",
       "   'cash_deposit': None,\n",
       "   'change_holder': None,\n",
       "   'bank_overdraft': None,\n",
       "   'movement_consultation': None,\n",
       "   'balance_inquiry': None},\n",
       "  'Conta para clientes dos 0 aos 17 anos.': {'statement': None,\n",
       "   'documents_copy': None,\n",
       "   'acc_manteinance': None,\n",
       "   'withdraw': None,\n",
       "   'online_service': None,\n",
       "   'cash_deposit': None,\n",
       "   'change_holder': None,\n",
       "   'bank_overdraft': None,\n",
       "   'movement_consultation': None,\n",
       "   'balance_inquiry': None},\n",
       "  'Conta que permite aceder aos seguintes produtos e serviços, mediante o pagamento de uma': {'statement': None,\n",
       "   'documents_copy': None,\n",
       "   'acc_manteinance': None,\n",
       "   'withdraw': None,\n",
       "   'online_service': None,\n",
       "   'cash_deposit': None,\n",
       "   'change_holder': None,\n",
       "   'bank_overdraft': None,\n",
       "   'movement_consultation': None,\n",
       "   'balance_inquiry': None}},\n",
       " 'house_credit': {},\n",
       " 'term_depos': {}}"
      ]
     },
     "execution_count": 65,
     "metadata": {},
     "output_type": "execute_result"
    }
   ],
   "source": [
    "remote = urlopen(Request(\"https://storage.googleapis.com/bank_price_pdfs/4_all_products.pdf\")).read()\n",
    "memory = BytesIO(remote)\n",
    "De(\"https://www.abanca.pt/files/documents/precario-folheto-comissoes-823a7663.pdf\", [4]).output()"
   ]
  },
  {
   "cell_type": "code",
   "execution_count": 58,
   "metadata": {},
   "outputs": [
    {
     "data": {
      "text/plain": [
       "<_io.BytesIO at 0x109254f40>"
      ]
     },
     "execution_count": 58,
     "metadata": {},
     "output_type": "execute_result"
    }
   ],
   "source": [
    "memory"
   ]
  },
  {
   "cell_type": "code",
   "execution_count": null,
   "metadata": {},
   "outputs": [],
   "source": []
  }
 ],
 "metadata": {
  "kernelspec": {
   "display_name": "Python 3",
   "language": "python",
   "name": "python3"
  },
  "language_info": {
   "codemirror_mode": {
    "name": "ipython",
    "version": 3
   },
   "file_extension": ".py",
   "mimetype": "text/x-python",
   "name": "python",
   "nbconvert_exporter": "python",
   "pygments_lexer": "ipython3",
   "version": "3.8.6"
  },
  "toc": {
   "base_numbering": 1,
   "nav_menu": {},
   "number_sections": true,
   "sideBar": true,
   "skip_h1_title": false,
   "title_cell": "Table of Contents",
   "title_sidebar": "Contents",
   "toc_cell": false,
   "toc_position": {},
   "toc_section_display": true,
   "toc_window_display": false
  }
 },
 "nbformat": 4,
 "nbformat_minor": 4
}
