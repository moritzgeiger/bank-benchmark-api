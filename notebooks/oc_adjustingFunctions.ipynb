{
 "cells": [
  {
   "cell_type": "code",
   "execution_count": 44,
   "metadata": {},
   "outputs": [
    {
     "name": "stdout",
     "output_type": "stream",
     "text": [
      "The autoreload extension is already loaded. To reload it, use:\n",
      "  %reload_ext autoreload\n"
     ]
    }
   ],
   "source": [
    "import pandas as pd\n",
    "import numpy as np\n",
    "import pdfplumber\n",
    "import re\n",
    "import nltk\n",
    "from scraping import Scraping\n",
    "%load_ext autoreload\n",
    "%autoreload 2"
   ]
  },
  {
   "cell_type": "markdown",
   "metadata": {
    "heading_collapsed": true
   },
   "source": [
    "# cleaning the function"
   ]
  },
  {
   "cell_type": "code",
   "execution_count": 2,
   "metadata": {
    "hidden": true
   },
   "outputs": [],
   "source": [
    "def extract_clean(self):\n",
    "        file = pdfplumber.open(self.pdf)\n",
    "        if len(self.page) > 1 :\n",
    "            joined_text = []\n",
    "            for el in self.page:\n",
    "                page = file.pages[el]\n",
    "                text = page.extract_text()\n",
    "                joined_text.append(text)\n",
    "            text ='             NEXT          '.join(joined_text)\n",
    "            text = text.replace('Isento', '0,00')\n",
    "            text = text.replace('n/a', str(np.nan))\n",
    "            text = re.sub('--', str(np.nan), text)\n",
    "            if nltk.sent_tokenize(text) < 15:\n",
    "                text = text.replace('\\n','. ')\n",
    "                # text = len_sentences(text)\n",
    "                text = nltk.sent_tokenize(text)\n",
    "                return text\n",
    "            text = text.replace('\\n',' ')\n",
    "            # text = len_sentences(text)\n",
    "            text = nltk.sent_tokenize(text)\n",
    "            return text\n",
    "        else:\n",
    "            page = file.pages[self.page[0]]\n",
    "            text = page.extract_text()\n",
    "            text = text.replace('Isento', '0,00')\n",
    "            text = text.replace('n/a', str(np.nan))\n",
    "            text = re.sub('--', str(np.nan), text)\n",
    "            if nltk.sent_tokenize(text) < 15:\n",
    "                text = text.replace('\\n','. ')\n",
    "                # text = len_sentences(text)\n",
    "                text = nltk.sent_tokenize(text)\n",
    "                return text\n",
    "            text = text.replace('\\n',' ')\n",
    "            # text = len_sentences(text)\n",
    "            text = nltk.sent_tokenize(text)\n",
    "            return text"
   ]
  },
  {
   "cell_type": "code",
   "execution_count": 3,
   "metadata": {
    "hidden": true
   },
   "outputs": [
    {
     "data": {
      "text/plain": [
       "4"
      ]
     },
     "execution_count": 3,
     "metadata": {},
     "output_type": "execute_result"
    }
   ],
   "source": [
    "ctt = pdfplumber.open('data/BancoCTT2021.pdf')\n",
    "page = ctt.pages[4]\n",
    "text = page.extract_text()\n",
    "len(nltk.sent_tokenize(text))"
   ]
  },
  {
   "cell_type": "code",
   "execution_count": 4,
   "metadata": {
    "hidden": true
   },
   "outputs": [
    {
     "data": {
      "text/plain": [
       "40"
      ]
     },
     "execution_count": 4,
     "metadata": {},
     "output_type": "execute_result"
    }
   ],
   "source": [
    "bankinter = pdfplumber.open('data/bankinter.pdf')\n",
    "page = bankinter.pages[4]\n",
    "text = page.extract_text()\n",
    "len(nltk.sent_tokenize(text))"
   ]
  },
  {
   "cell_type": "code",
   "execution_count": 5,
   "metadata": {
    "hidden": true
   },
   "outputs": [
    {
     "data": {
      "text/plain": [
       "23"
      ]
     },
     "execution_count": 5,
     "metadata": {},
     "output_type": "execute_result"
    }
   ],
   "source": [
    "bai = pdfplumber.open('data/bancoBAIeurope2021com.pdf')\n",
    "page = bai.pages[4]\n",
    "text = page.extract_text()\n",
    "len(nltk.sent_tokenize(text))"
   ]
  },
  {
   "cell_type": "code",
   "execution_count": 13,
   "metadata": {
    "hidden": true
   },
   "outputs": [
    {
     "data": {
      "text/plain": [
       "['Entrada em vigor: 25-jan-2021 1.',\n",
       " 'CONTAS DE DEPÓSITO (PARTICULARES) (ÍNDICE) 1.1.',\n",
       " 'Depósitos à ordem Comissões Acresce  Outras condições  (Mín/Máx) Valor Anual Imposto Conta Depósito à Ordem (EUR/ Moeda Estrangeira) Comissões vigência contrato  5,00 €/ Moeda Estrangeira  60,00 €/ Moeda  1.',\n",
       " 'Manutenção de conta I.S.',\n",
       " '- 4% Nota (1) por Mês Estrangeira 2.',\n",
       " 'Levantamento de numerário 20,00 € 0,5% Incide sobre o montante do  3.',\n",
       " 'Levantamento USD em contas USD I.S.',\n",
       " '- 4% (25,00 €/ 275,00 €) levantamento.',\n",
       " '4.',\n",
       " 'Extracto integrado 0,00 Periodicidade: Mensal  5,00 €/ Moeda Estrangeira  5.',\n",
       " 'Extracto avulso I.S.',\n",
       " '- 4% A pedido do cliente.',\n",
       " 'por cada Comissões Descoberto Bancário  vide Secção 2.5 Descobertos bancários Conta de Serviços Mínimos Bancários Comissões vigência contrato 1.',\n",
       " 'Manutenção de conta 4,10 €/por Ano 4,10 € I.S.',\n",
       " '- 4% Nota (2) Comissões Descoberto Bancário  vide Secção 2.5 Descobertos bancários Outras despesas associadas nan.',\n",
       " 'Legenda: Nota (1) As condições de isenção da comissão de manutenção de conta depósito à ordem são: - Nos primeiros três (3) meses após abertura da conta à ordem, ou - Clientes com produtos financeiros associados à conta à ordem.',\n",
       " 'Nota (2) Conta de Serviços Minímos Bancários: Condições de acesso: Particulares residentes num Estado Membro da União Europeia que reúnam qualquer uma das seguintes condições: I. Não sejam titulares de qualquer conta de depósito à ordem junto do Banco BAI Europa, S.A. (BAIE) ou de qualquer outra Instituição de Crédito; ou  II.Sejamtitularesdeumaúnicacontadedepósitoàordemnosistemabancárioetenhamsidonotificadosdequeamesmaserá encerrada; ou III.',\n",
       " 'Sejam titulares de uma única conta de depósito à ordem e pretendam a sua conversão em conta de serviços mínimos bancários, ou IV.Umdoscontitularesdacontadeserviçosmínimosbancáriossejaumapessoasingularcommaisde65anosoudependente deterceiros(pessoaqueapresenteumgraudeinvalidezpermanente,devidamentecomprovadoporentidadecompetente,igual ou superior a 60%), V. Seja contitular de uma conta de serviços mínimos bancários com uma pessoa com mais de 65 anos, ou dependente de terceiros, que não seja titular de qualquer outra conta de depósito à ordem.',\n",
       " 'O acesso à Conta de Serviços Mínimos Bancários não depende da aquisição de outros produtos ou serviços.',\n",
       " 'VI.',\n",
       " 'Podem efetuar 5 transferências mensais através de aplicações de pagamento operadas por terceiros, com o limite de 30 euros por operação.',\n",
       " 'Banco BAI Europa, S.A. Contas de Depósito / Particulares - Pág.',\n",
       " '5 /32']"
      ]
     },
     "execution_count": 13,
     "metadata": {},
     "output_type": "execute_result"
    }
   ],
   "source": [
    "Scraping('data/bancoBAIeurope2021com.pdf', 4, '4').extract_clean()"
   ]
  },
  {
   "cell_type": "markdown",
   "metadata": {},
   "source": [
    "# connecting name of product and name of commission"
   ]
  },
  {
   "cell_type": "code",
   "execution_count": 39,
   "metadata": {},
   "outputs": [],
   "source": [
    "abanca = Scraping('data/abanca.pdf', 4, 'abanca')\n",
    "ctt = Scraping('data/ctt.pdf',4,'5')\n",
    "bai = Scraping('data/bai.pdf',4,'4')\n",
    "bic = Scraping('data/bic.pdf',5,'3')\n",
    "bankinter = Scraping('data/bankinter.pdf',4,'2')"
   ]
  },
  {
   "cell_type": "code",
   "execution_count": 55,
   "metadata": {},
   "outputs": [],
   "source": [
    "ab_t = abanca.tokenize()\n",
    "ab_n = abanca.names()"
   ]
  },
  {
   "cell_type": "code",
   "execution_count": 50,
   "metadata": {},
   "outputs": [
    {
     "data": {
      "text/plain": [
       "['Conta D.O.',\n",
       " 'Conta Ordenado',\n",
       " 'Conta Standard',\n",
       " 'Conta Future',\n",
       " 'Conta Kids',\n",
       " 'Conta Global Em comercialização:',\n",
       " 'Conta Base',\n",
       " 'Conta Private',\n",
       " 'Conta Value',\n",
       " 'Conta Smart',\n",
       " 'Conta Futuro',\n",
       " 'Conta Serviços Mínimos Bancários,',\n",
       " 'Conta Moeda Estrangeira e',\n",
       " 'Conta ABANCA Internacional.',\n",
       " 'Conta D.O.',\n",
       " 'Conta Ordenado (Nota 1 e Nota 16) 0,00 nan 3.3',\n",
       " 'Conta Standard (não admite novas contratações) 0,00 nan 3.4',\n",
       " 'Conta Future (Nota 3) 0,00 nan 3.5',\n",
       " 'Conta Kids (Nota 4) 0,00 nan IS – 4% 3.6',\n",
       " 'Conta Global (Nota 5) 6,53 / 7,23 Mensal 85,14 3.7',\n",
       " 'Conta Base (Nota 6) 10,00 Mensal 120,00 3.8',\n",
       " 'Conta Private (Nota 7) 8,00 Mensal 96,00 3.9',\n",
       " 'Conta Value (Nota 8) 5,00 Mensal 60,00 3.10',\n",
       " 'Conta Smart (Nota 9) 5,00 Mensal 60,00 3.11',\n",
       " 'Conta Futuro (Nota 10) 0,00 nan 3.12',\n",
       " 'Conta Serviços Mínimos Bancários (Nota 11) 2,00 Semestral 4,00 3.13',\n",
       " 'Conta Moeda Estrangeira (Nota 12) 5,00 Mensal 60,00 3.14',\n",
       " 'Conta ABANCA Internacional (Nota 17) 0,00 nan 4.',\n",
       " 'Conta para clientes dos 18 aos 28 anos.',\n",
       " 'Conta para clientes dos 0 aos 17 anos.',\n",
       " 'Conta que permite aceder aos seguintes produtos e serviços, mediante o pagamento de uma']"
      ]
     },
     "execution_count": 50,
     "metadata": {},
     "output_type": "execute_result"
    }
   ],
   "source": [
    "ab_n"
   ]
  },
  {
   "cell_type": "code",
   "execution_count": null,
   "metadata": {},
   "outputs": [],
   "source": []
  },
  {
   "cell_type": "code",
   "execution_count": 53,
   "metadata": {},
   "outputs": [
    {
     "data": {
      "text/plain": [
       "dict_values([['Emissão de Extrato', 'Extrato Integrado', 'Extrato Mensal'], ['Fotocópias de segundas vias de talões de depósito', 'Emissão 2ªs Vias de Avisos e Outros Documentos', 'Extracto avulso', 'Segundas vias (pedido na agência)'], ['Manutenção de conta', 'Comissão de manutenção de conta'], ['Levantamento de numerário', 'Levantamento de numerário ao balcão'], ['Adesão ao serviço de banca à distância', 'Adesão ao serviço online'], ['Depósito de moedas metálicas', 'Depósito de moedas', 'Depósito de moedas ao balcão', 'Depósito de dinheiro ao balcão', 'Depósito de moeda metálica (≥ a 100 moedas)'], ['Alteração de titulares', 'Alteração de titularidade', 'Alteração de titularidade / intervenientes'], ['Comissões por descoberto bancário', 'Descoberto bancário'], ['Consulta de Movimentos de conta DO com', 'Consulta de movimentos ao balcão'], ['Pedido de saldo ao balcão', 'Consulta de Saldo de conta DO com comprovativo']])"
      ]
     },
     "execution_count": 53,
     "metadata": {},
     "output_type": "execute_result"
    }
   ],
   "source": [
    "com_dict.values()\n",
    "    "
   ]
  },
  {
   "cell_type": "code",
   "execution_count": 52,
   "metadata": {},
   "outputs": [],
   "source": [
    "com_dict = {'Emissão de Extrato':['Emissão de extrato', 'Extrato Integrado', 'Extrato Mensal'],\n",
    "           'Fotocópias e 2ªvias':['Fotocópias de segundas vias de talões de depósito',\n",
    "                                  'Emissão 2ªs Vias de Avisos e Outros Documentos', 'Extracto avulso',\n",
    "                                 'Segundas vias (pedido na agência)'],\n",
    "           'Manutenção de Conta':['Manutenção de conta', 'Comissão de manutenção de conta'],\n",
    "           'Levantamento de Numerário':['Levantamento de numerário', 'Levantamento de numerário ao balcão'],\n",
    "           'Adesão ao Serviço Online':['Adesão ao serviço de banca à distância', 'Adesão ao serviço online'],\n",
    "            'Depósitos de Moedas':['Depósito de moedas metálicas', 'Depósito de moedas',\n",
    "                                   'Depósito de moedas ao balcão', 'Depósito de dinheiro ao balcão',\n",
    "                                  'Depósito de moeda metálica (≥ a 100 moedas)'],\n",
    "            'Ateração de Titulares':['Alteração de titulares', 'Alteração de titularidade',\n",
    "                                     'Alteração de titularidade / intervenientes'],\n",
    "            'Descoberto Bancário':['Comissões por descoberto bancário', 'Descoberto bancário'],\n",
    "            'Consulta de Movimentos':['Consulta de Movimentos de conta DO com', 'Consulta de movimentos ao balcão'],\n",
    "            'Consulta de Saldo':['Pedido de saldo ao balcão', 'Consulta de Saldo de conta DO com comprovativo']\n",
    "           }"
   ]
  },
  {
   "cell_type": "code",
   "execution_count": 56,
   "metadata": {},
   "outputs": [
    {
     "data": {
      "text/plain": [
       "['Entrada em vigor: 20-Nov-2020    1.',\n",
       " 'CONTAS DE DEPÓSITO (PARTICULARES)                                                                                   ÍNDICE   1.1 Depósitos à ordem  Comissões  Acresce  Outras    Euros (Mín/Máx)  Valor anual  Imposto  condições  Produtos: Fora de comercialização: Conta D.O.',\n",
       " 'Particulares; Conta Ordenado; Conta Standard; Conta Future; Conta  Kids; Conta Global  Em comercialização: Conta Base; Conta Private; Conta Value; Conta Smart; Conta Futuro; Conta Serviços Mínimos  Bancários, Conta Moeda Estrangeira e Conta ABANCA Internacional.',\n",
       " 'As comissões abaixo indicadas ocorrem no momento em que se verifica a operação e aplicam-se às contas acima identificadas, salvo  nos casos em que expressamente se exclui.',\n",
       " '1.']"
      ]
     },
     "execution_count": 56,
     "metadata": {},
     "output_type": "execute_result"
    }
   ],
   "source": [
    "ab_t[:5]"
   ]
  },
  {
   "cell_type": "code",
   "execution_count": 68,
   "metadata": {},
   "outputs": [],
   "source": [
    "# keys = [x for x in com_dict.keys()]\n",
    "values = [x for x in com_dict.values()]\n",
    "lista ={}\n",
    "for commission in values:\n",
    "    for value in commission:\n",
    "        for ind,sentence in enumerate(ab_t):\n",
    "            if value in sentence:\n",
    "                if value in lista:\n",
    "                    if '[0-9]{1-2},[0-9]{2}' in sentence:\n",
    "                        lista[value]= lista[value].append(sentence)\n",
    "                    else:\n",
    "                        lista[value]= lista[value].append(' '.join([sentence,file[ind+1]]))\n",
    "                else:\n",
    "                    if '[0-9]{1-2},[0-9]{2}' in sentence:\n",
    "                        lista[value]= [sentence]\n",
    "                    else:\n",
    "                        lista[value]= [' '.join([sentence,ab_t[ind+1]])]\n",
    "# return lista\n",
    "                "
   ]
  },
  {
   "cell_type": "code",
   "execution_count": 69,
   "metadata": {},
   "outputs": [
    {
     "data": {
      "text/plain": [
       "7"
      ]
     },
     "execution_count": 69,
     "metadata": {},
     "output_type": "execute_result"
    }
   ],
   "source": [
    "len(lista)"
   ]
  },
  {
   "cell_type": "code",
   "execution_count": 71,
   "metadata": {},
   "outputs": [
    {
     "data": {
      "text/plain": [
       "{'Emissão de extrato': ['Emissão de extrato      1.1  Mensal (enviado ao domicílio)  0,00  nan  IVA – 23%  1.2  Outros, para além do indicado em 1.1  2,00 por extrato  1.3  2ª Via      7,50    2. Fotocópias de segundas vias de talões de depósito   5,00 por documento  nan  IVA – 23%    3.'],\n",
       " 'Fotocópias de segundas vias de talões de depósito': ['Fotocópias de segundas vias de talões de depósito   5,00 por documento  nan  IVA – 23%    3. Manutenção de conta      3.1 Conta D.O.'],\n",
       " 'Manutenção de conta': ['Manutenção de conta      3.1 Conta D.O. Particulares (Nota 2)      - Saldo médio até 1.000€  15,00 Trimestral  60,00  - Saldo médio entre 1.001€ e 2.500€  10,00 Trimestral  40,00  - Saldo médio superior a 2.500€  0,00  nan  3.2 Conta Ordenado (Nota 1 e Nota 16)  0,00  nan  3.3 Conta Standard (não admite novas contratações)  0,00  nan  3.4 Conta Future (Nota 3)  0,00  nan  3.5 Conta Kids (Nota 4)  0,00  nan  IS – 4%    3.6 Conta Global (Nota 5)  6,53 / 7,23 Mensal  85,14  3.7 Conta Base (Nota 6)  10,00 Mensal  120,00   3.8 Conta Private (Nota 7)   8,00 Mensal  96,00  3.9 Conta Value (Nota 8)  5,00 Mensal  60,00  3.10 Conta Smart (Nota 9)  5,00 Mensal  60,00  3.11 Conta Futuro (Nota 10)  0,00  nan  3.12 Conta Serviços Mínimos Bancários (Nota 11)  2,00 Semestral  4,00  3.13 Conta Moeda Estrangeira (Nota 12)  5,00 Mensal  60,00  3.14 Conta ABANCA Internacional (Nota 17)  0,00  nan  4.'],\n",
       " 'Levantamento de numerário': ['Levantamento de numerário          4.1 Ao balcão, com apresentação de cheque  0,00  nan  IS – 4%  Nota (13)   4.2 Ao balcão, sem apresentação de cheque  3,50   5. Adesão ao serviço de banca à distância  0,00  nan  nan    6.'],\n",
       " 'Adesão ao serviço de banca à distância': ['Adesão ao serviço de banca à distância  0,00  nan  nan    6. Depósito de moedas metálicas (igual ou superior a 100  Notas (13)  3,50  nan  IS – 4%  moedas por dia e por conta)  (14)  Notas (13)  7.'],\n",
       " 'Depósito de moedas metálicas': ['Depósito de moedas metálicas (igual ou superior a 100  Notas (13)  3,50  nan  IS – 4%  moedas por dia e por conta)  (14)  Notas (13)  7. Alteração de titulares  5,00  nan  IS – 4%  (15)  8.'],\n",
       " 'Depósito de moedas': ['Depósito de moedas metálicas (igual ou superior a 100  Notas (13)  3,50  nan  IS – 4%  moedas por dia e por conta)  (14)  Notas (13)  7. Alteração de titulares  5,00  nan  IS – 4%  (15)  8.'],\n",
       " 'Alteração de titulares': ['Alteração de titulares  5,00  nan  IS – 4%  (15)  8. Comissão por descoberto bancário  Vide Secção 2.5 Descobertos bancários  Nota (1) Não admite novas contratações.']}"
      ]
     },
     "execution_count": 71,
     "metadata": {},
     "output_type": "execute_result"
    }
   ],
   "source": [
    "abanca.values()"
   ]
  },
  {
   "cell_type": "code",
   "execution_count": null,
   "metadata": {},
   "outputs": [],
   "source": []
  }
 ],
 "metadata": {
  "kernelspec": {
   "display_name": "Python 3",
   "language": "python",
   "name": "python3"
  },
  "language_info": {
   "codemirror_mode": {
    "name": "ipython",
    "version": 3
   },
   "file_extension": ".py",
   "mimetype": "text/x-python",
   "name": "python",
   "nbconvert_exporter": "python",
   "pygments_lexer": "ipython3",
   "version": "3.8.6"
  },
  "toc": {
   "base_numbering": 1,
   "nav_menu": {},
   "number_sections": true,
   "sideBar": true,
   "skip_h1_title": false,
   "title_cell": "Table of Contents",
   "title_sidebar": "Contents",
   "toc_cell": false,
   "toc_position": {},
   "toc_section_display": true,
   "toc_window_display": false
  }
 },
 "nbformat": 4,
 "nbformat_minor": 4
}
