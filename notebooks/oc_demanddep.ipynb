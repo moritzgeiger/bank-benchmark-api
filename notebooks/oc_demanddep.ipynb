{
 "cells": [
  {
   "cell_type": "code",
   "execution_count": 1,
   "metadata": {},
   "outputs": [
    {
     "name": "stderr",
     "output_type": "stream",
     "text": [
      "/Users/olgacravesana/.pyenv/versions/3.8.6/envs/lewagon/lib/python3.8/site-packages/pandas/compat/__init__.py:97: UserWarning: Could not import the lzma module. Your installed Python is incomplete. Attempting to use lzma compression will result in a RuntimeError.\n",
      "  warnings.warn(msg)\n"
     ]
    }
   ],
   "source": [
    "%load_ext autoreload\n",
    "%autoreload 2 \n",
    "import pandas as pd\n",
    "import numpy as np\n",
    "import pdfplumber\n",
    "import re\n",
    "import nltk\n",
    "from urllib.parse import urljoin, quote_plus, quote, urlencode\n",
    "from urllib.request import Request, urlopen\n",
    "from io import StringIO, BytesIO\n",
    "from housecredit import HouseCredit\n",
    "from scraping import DemandDeposit"
   ]
  },
  {
   "cell_type": "code",
   "execution_count": 9,
   "metadata": {},
   "outputs": [],
   "source": [
    "bic = DemandDeposit('https://clientebancario.bportugal.pt/sites/default/files/precario/0079_/0079_PRE_0.pdf', [4,6])"
   ]
  },
  {
   "cell_type": "code",
   "execution_count": 10,
   "metadata": {},
   "outputs": [],
   "source": [
    "bic_dict = bic.demand_depos()"
   ]
  },
  {
   "cell_type": "code",
   "execution_count": 6,
   "metadata": {},
   "outputs": [],
   "source": [
    "abanca_dictionary = DemandDeposit('https://storage.googleapis.com/bank_price_pdfs/1_all_products_210412080134.pdf', [4]).demand_depos()"
   ]
  },
  {
   "cell_type": "code",
   "execution_count": 8,
   "metadata": {},
   "outputs": [],
   "source": [
    "abanca = DemandDeposit('https://storage.googleapis.com/bank_price_pdfs/1_all_products_210412080134.pdf', [4])\n",
    "# ctt = DemanDeposit('')"
   ]
  },
  {
   "cell_type": "code",
   "execution_count": 15,
   "metadata": {},
   "outputs": [
    {
     "data": {
      "text/plain": [
       "'Entrada em vigor: 05-abr-2021\\n1. CONTAS DE DEPÓSITO (PARTICULARES) ÍNDICE\\n1.1. Depósitos à ordem\\nComissões Acresce  Outras \\nEuros (Mín/Máx) Valor Anual Imposto condições\\nContas de Depósitos à Ordem\\n1. Comissão de manutenção de conta\\nConta à Ordem (5), Conta à Ordem Emigrantes (5), Conta Ordenado XL (12), Conta Cool (contratações anteriores a 13 de novembro de 2014) \\n(4)(3). Contas fora de comercialização: Conta à Ordem Sucursal Financeira Exterior Madeira (5)(6), Conta Privilégio 55 (5)(7), Conta Ordenado \\nPrivilégio 55 (7)(12)(13)\\n≤ 2.500,00€ 12,00 / trimestre 48,00 IS 4,00%\\n> 2.500,00€ e ≤ 5.000,00€ 10,00 / trimestre 40,00 IS 4,00% Notas 1, 2\\nPatrimónio financeiro\\n> 5.000,00€ e ≤ 15.000,00€ 7,50 / trimestre 30,00 IS 4,00%\\n> 15.000,00€  0,00 nan nan\\nConta à Ordem com Futuro 0,00 nan Nota '"
      ]
     },
     "execution_count": 15,
     "metadata": {},
     "output_type": "execute_result"
    }
   ],
   "source": [
    "bic_text = bic.getting_text()\n",
    "bic_text[:800]"
   ]
  },
  {
   "cell_type": "code",
   "execution_count": 23,
   "metadata": {},
   "outputs": [
    {
     "ename": "AttributeError",
     "evalue": "'NoneType' object has no attribute 'append'",
     "output_type": "error",
     "traceback": [
      "\u001b[0;31m---------------------------------------------------------------------------\u001b[0m",
      "\u001b[0;31mAttributeError\u001b[0m                            Traceback (most recent call last)",
      "\u001b[0;32m<ipython-input-23-adab74d520bb>\u001b[0m in \u001b[0;36m<module>\u001b[0;34m\u001b[0m\n\u001b[0;32m----> 1\u001b[0;31m \u001b[0mbic_val\u001b[0m \u001b[0;34m=\u001b[0m \u001b[0mbic\u001b[0m\u001b[0;34m.\u001b[0m\u001b[0mvalues\u001b[0m\u001b[0;34m(\u001b[0m\u001b[0;34m)\u001b[0m\u001b[0;34m\u001b[0m\u001b[0;34m\u001b[0m\u001b[0m\n\u001b[0m\u001b[1;32m      2\u001b[0m \u001b[0mbic_val\u001b[0m\u001b[0;34m\u001b[0m\u001b[0;34m\u001b[0m\u001b[0m\n",
      "\u001b[0;32m~/code/moritzgeiger/bank-benchmark-api/notebooks/scraping.py\u001b[0m in \u001b[0;36mvalues\u001b[0;34m(self)\u001b[0m\n\u001b[1;32m    104\u001b[0m                                 \u001b[0mlista\u001b[0m\u001b[0;34m[\u001b[0m\u001b[0mvalue\u001b[0m\u001b[0;34m]\u001b[0m\u001b[0;34m=\u001b[0m \u001b[0mlista\u001b[0m\u001b[0;34m[\u001b[0m\u001b[0mvalue\u001b[0m\u001b[0;34m]\u001b[0m\u001b[0;34m.\u001b[0m\u001b[0mappend\u001b[0m\u001b[0;34m(\u001b[0m\u001b[0msentence\u001b[0m\u001b[0;34m)\u001b[0m\u001b[0;34m\u001b[0m\u001b[0;34m\u001b[0m\u001b[0m\n\u001b[1;32m    105\u001b[0m                             \u001b[0;32melse\u001b[0m\u001b[0;34m:\u001b[0m\u001b[0;34m\u001b[0m\u001b[0;34m\u001b[0m\u001b[0m\n\u001b[0;32m--> 106\u001b[0;31m                                 \u001b[0mlista\u001b[0m\u001b[0;34m[\u001b[0m\u001b[0mvalue\u001b[0m\u001b[0;34m]\u001b[0m\u001b[0;34m=\u001b[0m \u001b[0mlista\u001b[0m\u001b[0;34m[\u001b[0m\u001b[0mvalue\u001b[0m\u001b[0;34m]\u001b[0m\u001b[0;34m.\u001b[0m\u001b[0mappend\u001b[0m\u001b[0;34m(\u001b[0m\u001b[0;34m' '\u001b[0m\u001b[0;34m.\u001b[0m\u001b[0mjoin\u001b[0m\u001b[0;34m(\u001b[0m\u001b[0;34m[\u001b[0m\u001b[0msentence\u001b[0m\u001b[0;34m,\u001b[0m\u001b[0mfile\u001b[0m\u001b[0;34m[\u001b[0m\u001b[0mind\u001b[0m\u001b[0;34m+\u001b[0m\u001b[0;36m1\u001b[0m\u001b[0;34m]\u001b[0m\u001b[0;34m]\u001b[0m\u001b[0;34m)\u001b[0m\u001b[0;34m)\u001b[0m\u001b[0;34m\u001b[0m\u001b[0;34m\u001b[0m\u001b[0m\n\u001b[0m\u001b[1;32m    107\u001b[0m                         \u001b[0;32melse\u001b[0m\u001b[0;34m:\u001b[0m\u001b[0;34m\u001b[0m\u001b[0;34m\u001b[0m\u001b[0m\n\u001b[1;32m    108\u001b[0m                             \u001b[0;32mif\u001b[0m \u001b[0;34m'[0-9]{1-2},[0-9]{2}'\u001b[0m \u001b[0;32min\u001b[0m \u001b[0msentence\u001b[0m\u001b[0;34m:\u001b[0m\u001b[0;34m\u001b[0m\u001b[0;34m\u001b[0m\u001b[0m\n",
      "\u001b[0;31mAttributeError\u001b[0m: 'NoneType' object has no attribute 'append'"
     ]
    }
   ],
   "source": [
    "bic_val = bic.values()\n",
    "bic_val"
   ]
  },
  {
   "cell_type": "code",
   "execution_count": 21,
   "metadata": {},
   "outputs": [
    {
     "data": {
      "text/plain": [
       "['Entrada em vigor: 05-abr-2021 1.',\n",
       " 'CONTAS DE DEPÓSITO (PARTICULARES) ÍNDICE 1.1.',\n",
       " 'Depósitos à ordem Comissões Acresce  Outras  Euros (Mín/Máx) Valor Anual Imposto condições Contas de Depósitos à Ordem 1.',\n",
       " 'Comissão de manutenção de conta Conta à Ordem (5), Conta à Ordem Emigrantes (5), Conta Ordenado XL (12), Conta Cool (contratações anteriores a 13 de novembro de 2014)  (4)(3).',\n",
       " 'Contas fora de comercialização: Conta à Ordem Sucursal Financeira Exterior Madeira (5)(6), Conta Privilégio 55 (5)(7), Conta Ordenado  Privilégio 55 (7)(12)(13) ≤ 2.500,00€ 12,00 / trimestre 48,00 IS 4,00% > 2.500,00€ e ≤ 5.000,00€ 10,00 / trimestre 40,00 IS 4,00% Notas 1, 2 Património financeiro > 5.000,00€ e ≤ 15.000,00€ 7,50 / trimestre 30,00 IS 4,00% > 15.000,00€  0,00 nan nan Conta à Ordem com Futuro 0,00 nan Nota 4 Conta Cool (contratações a partir de 13 de novembro 2014) 0,00 nan Notas 4, 11 Conta à Ordem Massa Insolvente 0,00 nan Nota 14 Conta BIC Salário Internacional (Fora de comercialização) 5,00 / mês 60,00 IS 4,00% Notas 5, 20 2.',\n",
       " 'Comissão de manutenção da Conta Base 5,00 / mês 60,00 IS 4,00% Notas 5, 8 3.',\n",
       " 'Comissão de manutenção da Conta de Serviços Mínimos  1,03 / trimestre 4,12 IS 4,00% Notas 9, 10 Bancários (CSMB) 4.',\n",
       " 'Comissão de manutenção de conta pacote Conta EuroBic Prime com domiciliação de vencimento Nota 15 Sem condições de bonificação 5,50 / mês 66,00 IS 4,00% Com condições de bonificação 4,50 / mês 54,00 IS 4,00% Nota 25 Conta EuroBic Prime sem domiciliação de vencimento Nota 15 Sem condições de bonificação 7,50 / mês 90,00 IS 4,00% Com condições de bonificação 6,50 / mês 78,00 IS 4,00% Nota 25 Conta EuroBic 365 com domiciliação de vencimento Nota 16 Sem condições de bonificação 4,25 / mês 51,00 IS 4,00% Com condições de bonificação 3,25 / mês 39,00 IS 4,00% Nota 25 Conta EuroBic 365 sem domiciliação de vencimento Nota 16 Sem condições de bonificação 6,00 / mês 72,00 IS 4,00% Com condições de bonificação 5,00 / mês 60,00 IS 4,00% Nota 25 Conta EuroBic Sénior Sem crédito de vencimento e recursos ≤ 35.000 € 4,00 / mês 48,00 IS 4,00% Notas 17, 18 Com crédito de vencimento ou recursos  > 35.000 € 0,00 IS 4,00% Notas 17, 18 Conta EuroBic Mais (Fora de comercialização) Sem crédito de vencimento 7,00 / mês 84,00 IS 4,00% Notas 5, 19 Com crédito de vencimento 5,00 / mês 60,00 IS 4,00% Notas 12, 19 5.',\n",
       " 'Levantamento de numerário  5,00 nan IS 4,00% Nota 21 6.',\n",
       " 'Pedido de saldo ao balcão 1,00 nan IVA 23,00% 7.']"
      ]
     },
     "execution_count": 21,
     "metadata": {},
     "output_type": "execute_result"
    }
   ],
   "source": [
    "bic_sent = bic.tokenize()\n",
    "bic_sent[:10]"
   ]
  },
  {
   "cell_type": "code",
   "execution_count": 22,
   "metadata": {},
   "outputs": [
    {
     "data": {
      "text/plain": [
       "['Entrada em vigor: 30-Mar-2021    1.',\n",
       " 'CONTAS DE DEPÓSITO (PARTICULARES)                                                                                   ÍNDICE   1.1 Depósitos à ordem  Comissões  Acresce  Outras    Euros (Mín/Máx)  Valor anual  Imposto  condições  Produtos: Fora de comercialização: Conta D.O.',\n",
       " 'Particulares; Conta Ordenado; Conta Standard; Conta Future; Conta  Kids; Conta Global  Em comercialização: Conta Base; Conta Private; Conta Value; Conta Smart; Conta Futuro; Conta Serviços Mínimos  Bancários, Conta Moeda Estrangeira e Conta ABANCA Internacional.',\n",
       " 'As comissões abaixo indicadas ocorrem no momento em que se verifica a operação e aplicam-se às contas acima identificadas, salvo  nos casos em que expressamente se exclui.',\n",
       " '1.',\n",
       " 'Emissão de extrato      1.1  Mensal (enviado ao domicílio)  0,00  nan  IVA – 23%  1.2  Outros, para além do indicado em 1.1  2,00 por extrato  1.3  2ª Via      7,50    2.',\n",
       " 'Fotocópias de segundas vias de talões de depósito   5,00 por documento  nan  IVA – 23%    3.',\n",
       " 'Manutenção de conta      3.1 Conta D.O.',\n",
       " 'Particulares (Nota 2)      - Saldo médio até 1.000€  15,00 Trimestral  60,00  - Saldo médio entre 1.001€ e 2.500€  10,00 Trimestral  40,00  IS – 4%    - Saldo médio superior a 2.500€  0,00  nan  3.2 Conta Ordenado (Nota 1 e Nota 16)  0,00  nan  3.3 Conta Standard (não admite novas contratações)  0,00  nan  3.4 Conta Moeda Estrangeira (Nota 12)  5,00 Mensal  60,00  4.',\n",
       " 'Manutenção de Conta Pacote      4.1.']"
      ]
     },
     "execution_count": 22,
     "metadata": {},
     "output_type": "execute_result"
    }
   ],
   "source": [
    "abanca_sent = abanca.tokenize()\n",
    "abanca_sent[:10]"
   ]
  },
  {
   "cell_type": "code",
   "execution_count": 25,
   "metadata": {},
   "outputs": [
    {
     "data": {
      "text/plain": [
       "{'Emissão de extrato': ['Emissão de extrato      1.1  Mensal (enviado ao domicílio)  0,00  nan  IVA – 23%  1.2  Outros, para além do indicado em 1.1  2,00 por extrato  1.3  2ª Via      7,50    2. Fotocópias de segundas vias de talões de depósito   5,00 por documento  nan  IVA – 23%    3.'],\n",
       " 'Fotocópias de segundas vias de talões de depósito': ['Fotocópias de segundas vias de talões de depósito   5,00 por documento  nan  IVA – 23%    3. Manutenção de conta      3.1 Conta D.O.'],\n",
       " 'Manutenção de conta': ['Manutenção de conta      3.1 Conta D.O. Particulares (Nota 2)      - Saldo médio até 1.000€  15,00 Trimestral  60,00  - Saldo médio entre 1.001€ e 2.500€  10,00 Trimestral  40,00  IS – 4%    - Saldo médio superior a 2.500€  0,00  nan  3.2 Conta Ordenado (Nota 1 e Nota 16)  0,00  nan  3.3 Conta Standard (não admite novas contratações)  0,00  nan  3.4 Conta Moeda Estrangeira (Nota 12)  5,00 Mensal  60,00  4.'],\n",
       " 'Levantamento de numerário': ['Levantamento de numerário          7.1 Ao balcão, com apresentação de cheque  0,00  nan  IS – 4%  Nota (13)   7.2 Ao balcão, sem apresentação de cheque  3,50   8. Adesão ao serviço de banca à distância  0,00  nan  nan    9.'],\n",
       " 'Adesão ao serviço de banca à distância': ['Adesão ao serviço de banca à distância  0,00  nan  nan    9. Depósito de moedas metálicas (igual ou superior a 100  Notas (13)  3,50  nan  IS – 4%  moedas por dia e por conta)  (14)  Notas (13)  10.'],\n",
       " 'Depósito de moedas metálicas': ['Depósito de moedas metálicas (igual ou superior a 100  Notas (13)  3,50  nan  IS – 4%  moedas por dia e por conta)  (14)  Notas (13)  10. Alteração de titulares  5,00  nan  IS – 4%  (15)  11.'],\n",
       " 'Depósito de moedas': ['Depósito de moedas metálicas (igual ou superior a 100  Notas (13)  3,50  nan  IS – 4%  moedas por dia e por conta)  (14)  Notas (13)  10. Alteração de titulares  5,00  nan  IS – 4%  (15)  11.'],\n",
       " 'Alteração de titulares': ['Alteração de titulares  5,00  nan  IS – 4%  (15)  11. Comissão por descoberto bancário  Vide Secção 2.5 Descobertos bancários  Nota (1) Não admite novas contratações.']}"
      ]
     },
     "execution_count": 25,
     "metadata": {},
     "output_type": "execute_result"
    }
   ],
   "source": [
    "abanca.values()"
   ]
  },
  {
   "cell_type": "code",
   "execution_count": 64,
   "metadata": {},
   "outputs": [],
   "source": [
    "com_dict = {'statement':['Emissão de extrato', 'Extrato Integrado', 'Extrato Mensal'],\n",
    "           'documents_copy':['Fotocópias de segundas vias de talões de depósito',\n",
    "                                  'Emissão 2ªs Vias de Avisos e Outros Documentos', 'Extracto avulso',\n",
    "                                 'Segundas vias (pedido na agência)'],\n",
    "           'acc_manteinance':['Manutenção de conta', 'Comissão de manutenção de conta', 'Comissão de Manutenção de Conta'],\n",
    "           'withdraw':['Levantamento de numerário', 'Levantamento de numerário ao balcão', 'Comissão de Levantamento'],\n",
    "           'online_service':['Adesão ao serviço de banca à distância', 'Adesão ao serviço online'],\n",
    "            'cash_deposit':['Depósito de moedas metálicas', 'Depósito de moedas',\n",
    "                                   'Depósito de moedas ao balcão', 'Depósito de dinheiro ao balcão',\n",
    "                                  'Depósito de moeda metálica (≥ a 100 moedas)'],\n",
    "            'change_holder':['Alteração de titulares', 'Alteração de titularidade', 'Comissão de Alteração de Titularidade',\n",
    "                                     'Alteração de titularidade / intervenientes'],\n",
    "            'bank_overdraft':['Comissões por descoberto bancário', 'Descoberto bancário', \n",
    "                             'Comissões por Descoberto Bancário'],\n",
    "            'movement_consultation':['Consulta de Movimentos de conta DO com', 'Consulta de movimentos ao balcão'],\n",
    "            'balance_inquiry':['Pedido de saldo ao balcão', 'Consulta de Saldo de conta DO com comprovativo']\n",
    "           }"
   ]
  },
  {
   "cell_type": "code",
   "execution_count": 66,
   "metadata": {},
   "outputs": [
    {
     "data": {
      "text/plain": [
       "{'Comissão de Manutenção de Conta': ['Comissão de Manutenção de Conta nan 0,00 nan nan nan nan nan 0,00 Conta Bankinter (idade igual ou superior a 18 anos). 20,00  1.',\n",
       "  'Comissão de Manutenção de Conta nan 80,00 4% nan nan nan 20,80 (trimestral) Ver Nota (1). (trimestral) - Conta Bankinter em Moeda Estrangeira.',\n",
       "  'Comissão de Manutenção de Conta nan 80,00 4% nan nan nan 20,80 (trimestral) Ver Nota (2). (trimestral) - Conta B Dynamic (idades entre 18 e 54 anos), Conta B Relax (idade igual ou superior a 55 anos), Conta Premier (Clientes Segmento Premier), Conta B  Portugal (Clientes Portugueses Não Residentes) - Contas encerradas à comercialização a partir de 15 de Novembro de 2013 inclusivé.',\n",
       "  'Comissão de Manutenção de Conta nan 80,00 4% nan nan nan 20,80 (trimestral) Ver Nota (3). (trimestral) Conta Internacional (Clientes Estrangeiros Não Residentes em Portugal) - encerrada à comercialização.',\n",
       "  'Comissão de Manutenção de Conta nan 120,00 4% nan nan nan 31,20 (trimestral) Ver Nota (3). (trimestral) - Conta BK Mini (Antiga Conta B Teen), Conta Mediador de Seguros e Conta Private  (Clientes Segmento Private); Conta Pessoal (Clientes Crédito ao  Consumo via internet- descontinuada); Conta B Kid (idades entre 0 e 13 anos), Conta B U (Estudantes Universitários).',\n",
       "  'Comissão de Manutenção de Conta nan 0,00 nan nan nan nan nan 0,00 nan - Conta B Prime (Conta Ordenado para Clientes Barclaycard - descontinuada); Conta B Dynamic + (Conta Ordenado para Clientes com idades entre 18 e 54  anos), Conta B Relax + (Conta Ordenado para Clientes com idade igual ou superior a 55 anos), Conta Premier + (Conta Ordenado para Clientes Segmento  Premier), Conta B Prime Plus (Conta Ordenado para Clientes Barclaycard e para Clientes captados no âmbito da Parceria entre: Plurimarketing –  Telemarketing e Marketing Directo, SA., Connecta – Avanzia – Call Center, LDA., AXA Portugal, Companhia de Seguros, SA. e o Bankinter) - Contas  descontinuadas.',\n",
       "  'Comissão de Manutenção de Conta nan 80,00 4% nan nan nan 20,80 (trimestral) Ver Nota (4). (trimestral) - Conta Serviços Mínimos Bancários 1,03  1.',\n",
       "  'Comissão de Manutenção de Conta nan 4,12 4% nan nan nan 1,07 (trimestral) Ver Nota (5). (trimestral) Descoberto Bancário 1 Comissões por Descoberto Bancário Ver Secção 2.5.'],\n",
       " 'Comissão de Levantamento': ['Descobertos Bancários Levantamento de Numerário Ocorre no momento do  Comissão de Levantamento de  levantamento de numerário  1 nan 4,81 nan 4% nan nan nan 5,00 Numerário ao balcão. Ver Nota (6) Alteração de Titulares em Contas de Depósito à Ordem 1.'],\n",
       " 'Comissão de Alteração de Titularidade': ['Comissão de Alteração de Titularidade nan 7,00 nan nan 23% 22% 18% 8,61 8,54 8,26 nan Processo de Habilitação de Herdeiros Comissão de Processo de Habilitação de  Herdeiros 1. nan 75,00 nan nan 23% 22% 18% 92,25 91,50 88,50 nan (Sem Produtos de Investimento/Seguros  associados) Comissão de Processo de Habilitação de  2. Herdeiros com Produtos de  nan 150,00 nan nan 23% 22% 18% 184,50 183,00 177,00 nan Investimento/Seguros associados Qualquer reclamação relacionada com as informações que constem deste(s) quadro(s) pode ser dirigida à Provedoria do Cliente através do telefone  800 261 820, fax 211 158 022, endereço de e-mail provedoria.cliente.pt@bankinter.com ou através de carta para Praça Marquês de Pombal, nº13, 2º andar,  1250-162 Lisboa.'],\n",
       " 'Comissões por Descoberto Bancário': ['(trimestral) Descoberto Bancário 1 Comissões por Descoberto Bancário Ver Secção 2.5. Descobertos Bancários Levantamento de Numerário Ocorre no momento do  Comissão de Levantamento de  levantamento de numerário  1 nan 4,81 nan 4% nan nan nan 5,00 Numerário ao balcão.']}"
      ]
     },
     "execution_count": 66,
     "metadata": {},
     "output_type": "execute_result"
    }
   ],
   "source": [
    "file = bankinter.tokenize()\n",
    "values = [x for x in com_dict.values()]\n",
    "lista ={}\n",
    "for commission in values:\n",
    "    for value in commission:\n",
    "        for ind,sentence in enumerate(file):\n",
    "            if value in sentence:\n",
    "#                 print(sentence, 'NEXTONE')\n",
    "#             else:\n",
    "#                 print('no values')\n",
    "                if '[0-9]{1-2},[0-9]{2}' in sentence:\n",
    "                    if value in lista:\n",
    "                        lista[value].append(sentence)\n",
    "                    else:\n",
    "                        lista[value]= [sentence]\n",
    "                else:\n",
    "                    if value in lista:\n",
    "                        lista[value].append(' '.join([sentence,file[ind+1]]))\n",
    "                    else:\n",
    "                        lista[value]= [' '.join([sentence,file[ind+1]])]\n",
    "#                     if '[0-9]{1-2},[0-9]{2}' in sentence:\n",
    "#                         lista[value]= lista[value].append(sentence)\n",
    "#                     else:\n",
    "#                         lista[value]= lista[value].append(' '.join([sentence,file[ind+1]]))\n",
    "                \n",
    "#                     if '[0-9]{1-2},[0-9]{2}' in sentence:\n",
    "#                         lista[value]= [sentence]\n",
    "#                     else:\n",
    "#                         lista[value]= [' '.join([sentence,file[ind+1]])]\n",
    "lista"
   ]
  },
  {
   "cell_type": "code",
   "execution_count": 56,
   "metadata": {},
   "outputs": [
    {
     "data": {
      "text/plain": [
       "['BANKINTER, S.A.- Sucursal em Portugal Entrada em vigor: 01-abril-2021 1.',\n",
       " 'CONTAS DE DEPÓSITO (CLIENTES PARTICULARES) (ÍNDICE) 1.1.',\n",
       " 'Depósitos à Ordem Legenda: Cont.',\n",
       " '= Continente; Mad.= Madeira; Aç.',\n",
       " '= Açores.',\n",
       " 'Comissões Acresce Imposto Comissões Valores Sem Imposto IVA Valor Com Imposto Outras Condições Euros  Valor  IS Em % Cont.',\n",
       " 'Mad.',\n",
       " 'Aç.',\n",
       " 'Cont.',\n",
       " 'Mad.',\n",
       " 'Aç.',\n",
       " '(min/máx) Anual Contas à Ordem Conta Mais Ordenado  1.',\n",
       " 'Comissão de Manutenção de Conta nan 0,00 nan nan nan nan nan 0,00 Conta Bankinter (idade igual ou superior a 18 anos).',\n",
       " '20,00  1.',\n",
       " 'Comissão de Manutenção de Conta nan 80,00 4% nan nan nan 20,80 (trimestral) Ver Nota (1).',\n",
       " '(trimestral) - Conta Bankinter em Moeda Estrangeira.',\n",
       " '- Conta B Portugal em Moeda Estrangeira (Clientes Portugueses Não Residentes) - Contas encerradas à comercialização a partir de 15 de Novembro de  2013 inclusivé.',\n",
       " '20,00  1.',\n",
       " 'Comissão de Manutenção de Conta nan 80,00 4% nan nan nan 20,80 (trimestral) Ver Nota (2).',\n",
       " '(trimestral) - Conta B Dynamic (idades entre 18 e 54 anos), Conta B Relax (idade igual ou superior a 55 anos), Conta Premier (Clientes Segmento Premier), Conta B  Portugal (Clientes Portugueses Não Residentes) - Contas encerradas à comercialização a partir de 15 de Novembro de 2013 inclusivé.',\n",
       " '20,00  1.',\n",
       " 'Comissão de Manutenção de Conta nan 80,00 4% nan nan nan 20,80 (trimestral) Ver Nota (3).',\n",
       " '(trimestral) Conta Internacional (Clientes Estrangeiros Não Residentes em Portugal) - encerrada à comercialização.',\n",
       " '30,00  1.',\n",
       " 'Comissão de Manutenção de Conta nan 120,00 4% nan nan nan 31,20 (trimestral) Ver Nota (3).',\n",
       " '(trimestral) - Conta BK Mini (Antiga Conta B Teen), Conta Mediador de Seguros e Conta Private  (Clientes Segmento Private); Conta Pessoal (Clientes Crédito ao  Consumo via internet- descontinuada); Conta B Kid (idades entre 0 e 13 anos), Conta B U (Estudantes Universitários).',\n",
       " '1.',\n",
       " 'Comissão de Manutenção de Conta nan 0,00 nan nan nan nan nan 0,00 nan - Conta B Prime (Conta Ordenado para Clientes Barclaycard - descontinuada); Conta B Dynamic + (Conta Ordenado para Clientes com idades entre 18 e 54  anos), Conta B Relax + (Conta Ordenado para Clientes com idade igual ou superior a 55 anos), Conta Premier + (Conta Ordenado para Clientes Segmento  Premier), Conta B Prime Plus (Conta Ordenado para Clientes Barclaycard e para Clientes captados no âmbito da Parceria entre: Plurimarketing –  Telemarketing e Marketing Directo, SA., Connecta – Avanzia – Call Center, LDA., AXA Portugal, Companhia de Seguros, SA.',\n",
       " 'e o Bankinter) - Contas  descontinuadas.',\n",
       " '20,00  1.',\n",
       " 'Comissão de Manutenção de Conta nan 80,00 4% nan nan nan 20,80 (trimestral) Ver Nota (4).',\n",
       " '(trimestral) - Conta Serviços Mínimos Bancários 1,03  1.',\n",
       " 'Comissão de Manutenção de Conta nan 4,12 4% nan nan nan 1,07 (trimestral) Ver Nota (5).',\n",
       " '(trimestral) Descoberto Bancário 1 Comissões por Descoberto Bancário Ver Secção 2.5.',\n",
       " 'Descobertos Bancários Levantamento de Numerário Ocorre no momento do  Comissão de Levantamento de  levantamento de numerário  1 nan 4,81 nan 4% nan nan nan 5,00 Numerário ao balcão.',\n",
       " 'Ver Nota (6) Alteração de Titulares em Contas de Depósito à Ordem 1.',\n",
       " 'Comissão de Alteração de Titularidade nan 7,00 nan nan 23% 22% 18% 8,61 8,54 8,26 nan Processo de Habilitação de Herdeiros Comissão de Processo de Habilitação de  Herdeiros 1. nan 75,00 nan nan 23% 22% 18% 92,25 91,50 88,50 nan (Sem Produtos de Investimento/Seguros  associados) Comissão de Processo de Habilitação de  2.',\n",
       " 'Herdeiros com Produtos de  nan 150,00 nan nan 23% 22% 18% 184,50 183,00 177,00 nan Investimento/Seguros associados Qualquer reclamação relacionada com as informações que constem deste(s) quadro(s) pode ser dirigida à Provedoria do Cliente através do telefone  800 261 820, fax 211 158 022, endereço de e-mail provedoria.cliente.pt@bankinter.com ou através de carta para Praça Marquês de Pombal, nº13, 2º andar,  1250-162 Lisboa.',\n",
       " 'Bankinter, S.A., Sucursal em Portugal Contas de Depósito / Particulares - Página 1 / 4']"
      ]
     },
     "execution_count": 56,
     "metadata": {},
     "output_type": "execute_result"
    }
   ],
   "source": [
    "bankinter.tokenize()"
   ]
  },
  {
   "cell_type": "code",
   "execution_count": 52,
   "metadata": {},
   "outputs": [],
   "source": [
    "bankinter = DemandDeposit('https://clientebancario.bportugal.pt/sites/default/files/precario/0269_/0269_PRE.pdf', [4])"
   ]
  },
  {
   "cell_type": "code",
   "execution_count": 53,
   "metadata": {},
   "outputs": [
    {
     "data": {
      "text/plain": [
       "'BANKINTER, S.A.- Sucursal em Portugal\\nEntrada em vigor: 01-abril-2021\\n1. CONTAS DE DEPÓSITO (CLIENTES PARTICULARES) (ÍNDICE)\\n1.1. Depósitos à Ordem\\nLegenda: Cont. = Continente; Mad.= Madeira; Aç. = Açores.\\nComissões Acresce Imposto Comissões\\nValores Sem Imposto IVA Valor Com Imposto\\nOutras Condições\\nEuros  Valor  IS\\nEm % Cont. Mad. Aç. Cont. Mad. Aç.\\n(min/máx) Anual\\nContas à Ordem\\nConta Mais Ordenado \\n1. Comissão de Manutenção de Conta nan 0,00 nan nan nan nan nan 0,00\\nConta Bankinter (idade igual ou superior a 18 anos). \\n20,00 \\n1. Comissão de Manutenção de Conta nan 80,00 4% nan nan nan 20,80 (trimestral) Ver Nota (1).\\n(trimestral)\\n- Conta Bankinter em Moeda Estrangeira. \\n- Conta B Portugal em Moeda Estrangeira (Clientes Portugueses Não Residentes) - Contas encerradas à comercialização a partir de 15 de Novembro de \\n2013 inclusivé.\\n20,00 \\n1. Comissão de Manutenção de Conta nan 80,00 4% nan nan nan 20,80 (trimestral) Ver Nota (2).\\n(trimestral)\\n- Conta B Dynamic (idades entre 18 e 54 anos), Conta B Relax (idade igual ou superior a 55 anos), Conta Premier (Clientes Segmento Premier), Conta B \\nPortugal (Clientes Portugueses Não Residentes) - Contas encerradas à comercialização a partir de 15 de Novembro de 2013 inclusivé.\\n20,00 \\n1. Comissão de Manutenção de Conta nan 80,00 4% nan nan nan 20,80 (trimestral) Ver Nota (3).\\n(trimestral)\\nConta Internacional (Clientes Estrangeiros Não Residentes em Portugal) - encerrada à comercialização. \\n30,00 \\n1. Comissão de Manutenção de Conta nan 120,00 4% nan nan nan 31,20 (trimestral) Ver Nota (3).\\n(trimestral)\\n- Conta BK Mini (Antiga Conta B Teen), Conta Mediador de Seguros e Conta Private  (Clientes Segmento Private); Conta Pessoal (Clientes Crédito ao \\nConsumo via internet- descontinuada); Conta B Kid (idades entre 0 e 13 anos), Conta B U (Estudantes Universitários).\\n1. Comissão de Manutenção de Conta nan 0,00 nan nan nan nan nan 0,00 nan\\n- Conta B Prime (Conta Ordenado para Clientes Barclaycard - descontinuada); Conta B Dynamic + (Conta Ordenado para Clientes com idades entre 18 e 54 \\nanos), Conta B Relax + (Conta Ordenado para Clientes com idade igual ou superior a 55 anos), Conta Premier + (Conta Ordenado para Clientes Segmento \\nPremier), Conta B Prime Plus (Conta Ordenado para Clientes Barclaycard e para Clientes captados no âmbito da Parceria entre: Plurimarketing – \\nTelemarketing e Marketing Directo, SA., Connecta – Avanzia – Call Center, LDA., AXA Portugal, Companhia de Seguros, SA. e o Bankinter) - Contas \\ndescontinuadas.\\n20,00 \\n1. Comissão de Manutenção de Conta nan 80,00 4% nan nan nan 20,80 (trimestral) Ver Nota (4).\\n(trimestral)\\n- Conta Serviços Mínimos Bancários\\n1,03 \\n1. Comissão de Manutenção de Conta nan 4,12 4% nan nan nan 1,07 (trimestral) Ver Nota (5).\\n(trimestral)\\nDescoberto Bancário\\n1 Comissões por Descoberto Bancário Ver Secção 2.5. Descobertos Bancários\\nLevantamento de Numerário\\nOcorre no momento do \\nComissão de Levantamento de  levantamento de numerário \\n1 nan 4,81 nan 4% nan nan nan 5,00\\nNumerário ao balcão. \\nVer Nota (6)\\nAlteração de Titulares em Contas de Depósito à Ordem\\n1. Comissão de Alteração de Titularidade nan 7,00 nan nan 23% 22% 18% 8,61 8,54 8,26 nan\\nProcesso de Habilitação de Herdeiros\\nComissão de Processo de Habilitação de \\nHerdeiros\\n1. nan 75,00 nan nan 23% 22% 18% 92,25 91,50 88,50 nan\\n(Sem Produtos de Investimento/Seguros \\nassociados)\\nComissão de Processo de Habilitação de \\n2. Herdeiros com Produtos de  nan 150,00 nan nan 23% 22% 18% 184,50 183,00 177,00 nan\\nInvestimento/Seguros associados\\nQualquer reclamação relacionada com as informações que constem deste(s) quadro(s) pode ser dirigida à Provedoria do Cliente através do telefone \\n800 261 820, fax 211 158 022, endereço de e-mail provedoria.cliente.pt@bankinter.com ou através de carta para Praça Marquês de Pombal, nº13, 2º andar, \\n1250-162 Lisboa.\\nBankinter, S.A., Sucursal em Portugal Contas de Depósito / Particulares - Página 1 / 4'"
      ]
     },
     "execution_count": 53,
     "metadata": {},
     "output_type": "execute_result"
    }
   ],
   "source": [
    "bankinter.getting_text()"
   ]
  },
  {
   "cell_type": "code",
   "execution_count": 51,
   "metadata": {},
   "outputs": [
    {
     "ename": "TypeError",
     "evalue": "sequence item 0: expected str instance, NoneType found",
     "output_type": "error",
     "traceback": [
      "\u001b[0;31m---------------------------------------------------------------------------\u001b[0m",
      "\u001b[0;31mTypeError\u001b[0m                                 Traceback (most recent call last)",
      "\u001b[0;32m<ipython-input-51-22d078a5390d>\u001b[0m in \u001b[0;36m<module>\u001b[0;34m\u001b[0m\n\u001b[1;32m     10\u001b[0m         \u001b[0mtext\u001b[0m \u001b[0;34m=\u001b[0m \u001b[0mpage\u001b[0m\u001b[0;34m.\u001b[0m\u001b[0mextract_text\u001b[0m\u001b[0;34m(\u001b[0m\u001b[0;34m)\u001b[0m\u001b[0;34m\u001b[0m\u001b[0;34m\u001b[0m\u001b[0m\n\u001b[1;32m     11\u001b[0m         \u001b[0mjoined_text\u001b[0m\u001b[0;34m.\u001b[0m\u001b[0mappend\u001b[0m\u001b[0;34m(\u001b[0m\u001b[0mtext\u001b[0m\u001b[0;34m)\u001b[0m\u001b[0;34m\u001b[0m\u001b[0;34m\u001b[0m\u001b[0m\n\u001b[0;32m---> 12\u001b[0;31m     \u001b[0mtext\u001b[0m \u001b[0;34m=\u001b[0m\u001b[0;34m'             NEXT          '\u001b[0m\u001b[0;34m.\u001b[0m\u001b[0mjoin\u001b[0m\u001b[0;34m(\u001b[0m\u001b[0mjoined_text\u001b[0m\u001b[0;34m)\u001b[0m\u001b[0;34m\u001b[0m\u001b[0;34m\u001b[0m\u001b[0m\n\u001b[0m\u001b[1;32m     13\u001b[0m     \u001b[0mtext\u001b[0m \u001b[0;34m=\u001b[0m \u001b[0mtext\u001b[0m\u001b[0;34m.\u001b[0m\u001b[0mreplace\u001b[0m\u001b[0;34m(\u001b[0m\u001b[0;34m'Isento'\u001b[0m\u001b[0;34m,\u001b[0m \u001b[0;34m'0,00'\u001b[0m\u001b[0;34m)\u001b[0m\u001b[0;34m\u001b[0m\u001b[0;34m\u001b[0m\u001b[0m\n\u001b[1;32m     14\u001b[0m     \u001b[0mtext\u001b[0m \u001b[0;34m=\u001b[0m \u001b[0mtext\u001b[0m\u001b[0;34m.\u001b[0m\u001b[0mreplace\u001b[0m\u001b[0;34m(\u001b[0m\u001b[0;34m'n/a'\u001b[0m\u001b[0;34m,\u001b[0m \u001b[0mstr\u001b[0m\u001b[0;34m(\u001b[0m\u001b[0mnp\u001b[0m\u001b[0;34m.\u001b[0m\u001b[0mnan\u001b[0m\u001b[0;34m)\u001b[0m\u001b[0;34m)\u001b[0m\u001b[0;34m\u001b[0m\u001b[0;34m\u001b[0m\u001b[0m\n",
      "\u001b[0;31mTypeError\u001b[0m: sequence item 0: expected str instance, NoneType found"
     ]
    }
   ],
   "source": [
    "# link = 'https://banco.bankinter.pt/particulares/pdfs/precario/p_fcd_operacoes_credito.pdf'\n",
    "# remote = urlopen(Request(link)).read()\n",
    "# memory = BytesIO(remote)\n",
    "# file = pdfplumber.open(memory)\n",
    "# pages = [1,2,3,4,5,6,7,8,9]\n",
    "# if len(pages) > 1 :\n",
    "#     joined_text = []\n",
    "#     for el in pages:\n",
    "#         page = file.pages[el]\n",
    "#         text = page.extract_text()\n",
    "#         joined_text.append(text)\n",
    "#     text ='             NEXT          '.join(joined_text)\n",
    "#     text = text.replace('Isento', '0,00')\n",
    "#     text = text.replace('n/a', str(np.nan))\n",
    "#     text = re.sub('--', str(np.nan), text)\n",
    "# else:\n",
    "#     page = file.pages[pages[0]]\n",
    "#     text = page.extract_text()\n",
    "#     text = text.replace('Isento', '0,00')\n",
    "#     text = text.replace('n/a', str(np.nan))\n",
    "#     text = re.sub('--', str(np.nan), text)\n",
    "# text"
   ]
  },
  {
   "cell_type": "code",
   "execution_count": null,
   "metadata": {},
   "outputs": [],
   "source": []
  }
 ],
 "metadata": {
  "kernelspec": {
   "display_name": "Python 3",
   "language": "python",
   "name": "python3"
  },
  "language_info": {
   "codemirror_mode": {
    "name": "ipython",
    "version": 3
   },
   "file_extension": ".py",
   "mimetype": "text/x-python",
   "name": "python",
   "nbconvert_exporter": "python",
   "pygments_lexer": "ipython3",
   "version": "3.8.6"
  },
  "toc": {
   "base_numbering": 1,
   "nav_menu": {},
   "number_sections": true,
   "sideBar": true,
   "skip_h1_title": false,
   "title_cell": "Table of Contents",
   "title_sidebar": "Contents",
   "toc_cell": false,
   "toc_position": {},
   "toc_section_display": true,
   "toc_window_display": false
  }
 },
 "nbformat": 4,
 "nbformat_minor": 4
}
