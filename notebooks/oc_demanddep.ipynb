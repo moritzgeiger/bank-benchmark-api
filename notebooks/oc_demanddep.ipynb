{
 "cells": [
  {
   "cell_type": "code",
   "execution_count": 1,
   "metadata": {},
   "outputs": [
    {
     "name": "stderr",
     "output_type": "stream",
     "text": [
      "/Users/olgacravesana/.pyenv/versions/3.8.6/envs/lewagon/lib/python3.8/site-packages/pandas/compat/__init__.py:97: UserWarning: Could not import the lzma module. Your installed Python is incomplete. Attempting to use lzma compression will result in a RuntimeError.\n",
      "  warnings.warn(msg)\n"
     ]
    }
   ],
   "source": [
    "%load_ext autoreload\n",
    "%autoreload 2 \n",
    "import pandas as pd\n",
    "import numpy as np\n",
    "import pdfplumber\n",
    "import re\n",
    "import nltk\n",
    "from urllib.parse import urljoin, quote_plus, quote, urlencode\n",
    "from urllib.request import Request, urlopen\n",
    "from io import StringIO, BytesIO\n",
    "from housecredit import HouseCredit\n",
    "from scraping import DemandDeposit"
   ]
  },
  {
   "cell_type": "code",
   "execution_count": 9,
   "metadata": {},
   "outputs": [],
   "source": [
    "bic = DemandDeposit('https://clientebancario.bportugal.pt/sites/default/files/precario/0079_/0079_PRE_0.pdf', [4,6])"
   ]
  },
  {
   "cell_type": "code",
   "execution_count": 10,
   "metadata": {},
   "outputs": [],
   "source": [
    "bic_dict = bic.demand_depos()"
   ]
  },
  {
   "cell_type": "code",
   "execution_count": 6,
   "metadata": {},
   "outputs": [],
   "source": [
    "abanca_dictionary = DemandDeposit('https://storage.googleapis.com/bank_price_pdfs/1_all_products_210412080134.pdf', [4]).demand_depos()"
   ]
  },
  {
   "cell_type": "code",
   "execution_count": 8,
   "metadata": {},
   "outputs": [],
   "source": [
    "abanca = DemandDeposit('https://storage.googleapis.com/bank_price_pdfs/1_all_products_210412080134.pdf', [4])\n",
    "# ctt = DemanDeposit('')"
   ]
  },
  {
   "cell_type": "code",
   "execution_count": 15,
   "metadata": {},
   "outputs": [
    {
     "data": {
      "text/plain": [
       "'Entrada em vigor: 05-abr-2021\\n1. CONTAS DE DEPÓSITO (PARTICULARES) ÍNDICE\\n1.1. Depósitos à ordem\\nComissões Acresce  Outras \\nEuros (Mín/Máx) Valor Anual Imposto condições\\nContas de Depósitos à Ordem\\n1. Comissão de manutenção de conta\\nConta à Ordem (5), Conta à Ordem Emigrantes (5), Conta Ordenado XL (12), Conta Cool (contratações anteriores a 13 de novembro de 2014) \\n(4)(3). Contas fora de comercialização: Conta à Ordem Sucursal Financeira Exterior Madeira (5)(6), Conta Privilégio 55 (5)(7), Conta Ordenado \\nPrivilégio 55 (7)(12)(13)\\n≤ 2.500,00€ 12,00 / trimestre 48,00 IS 4,00%\\n> 2.500,00€ e ≤ 5.000,00€ 10,00 / trimestre 40,00 IS 4,00% Notas 1, 2\\nPatrimónio financeiro\\n> 5.000,00€ e ≤ 15.000,00€ 7,50 / trimestre 30,00 IS 4,00%\\n> 15.000,00€  0,00 nan nan\\nConta à Ordem com Futuro 0,00 nan Nota '"
      ]
     },
     "execution_count": 15,
     "metadata": {},
     "output_type": "execute_result"
    }
   ],
   "source": [
    "bic_text = bic.getting_text()\n",
    "bic_text[:800]"
   ]
  },
  {
   "cell_type": "code",
   "execution_count": 23,
   "metadata": {},
   "outputs": [
    {
     "ename": "AttributeError",
     "evalue": "'NoneType' object has no attribute 'append'",
     "output_type": "error",
     "traceback": [
      "\u001b[0;31m---------------------------------------------------------------------------\u001b[0m",
      "\u001b[0;31mAttributeError\u001b[0m                            Traceback (most recent call last)",
      "\u001b[0;32m<ipython-input-23-adab74d520bb>\u001b[0m in \u001b[0;36m<module>\u001b[0;34m\u001b[0m\n\u001b[0;32m----> 1\u001b[0;31m \u001b[0mbic_val\u001b[0m \u001b[0;34m=\u001b[0m \u001b[0mbic\u001b[0m\u001b[0;34m.\u001b[0m\u001b[0mvalues\u001b[0m\u001b[0;34m(\u001b[0m\u001b[0;34m)\u001b[0m\u001b[0;34m\u001b[0m\u001b[0;34m\u001b[0m\u001b[0m\n\u001b[0m\u001b[1;32m      2\u001b[0m \u001b[0mbic_val\u001b[0m\u001b[0;34m\u001b[0m\u001b[0;34m\u001b[0m\u001b[0m\n",
      "\u001b[0;32m~/code/moritzgeiger/bank-benchmark-api/notebooks/scraping.py\u001b[0m in \u001b[0;36mvalues\u001b[0;34m(self)\u001b[0m\n\u001b[1;32m    104\u001b[0m                                 \u001b[0mlista\u001b[0m\u001b[0;34m[\u001b[0m\u001b[0mvalue\u001b[0m\u001b[0;34m]\u001b[0m\u001b[0;34m=\u001b[0m \u001b[0mlista\u001b[0m\u001b[0;34m[\u001b[0m\u001b[0mvalue\u001b[0m\u001b[0;34m]\u001b[0m\u001b[0;34m.\u001b[0m\u001b[0mappend\u001b[0m\u001b[0;34m(\u001b[0m\u001b[0msentence\u001b[0m\u001b[0;34m)\u001b[0m\u001b[0;34m\u001b[0m\u001b[0;34m\u001b[0m\u001b[0m\n\u001b[1;32m    105\u001b[0m                             \u001b[0;32melse\u001b[0m\u001b[0;34m:\u001b[0m\u001b[0;34m\u001b[0m\u001b[0;34m\u001b[0m\u001b[0m\n\u001b[0;32m--> 106\u001b[0;31m                                 \u001b[0mlista\u001b[0m\u001b[0;34m[\u001b[0m\u001b[0mvalue\u001b[0m\u001b[0;34m]\u001b[0m\u001b[0;34m=\u001b[0m \u001b[0mlista\u001b[0m\u001b[0;34m[\u001b[0m\u001b[0mvalue\u001b[0m\u001b[0;34m]\u001b[0m\u001b[0;34m.\u001b[0m\u001b[0mappend\u001b[0m\u001b[0;34m(\u001b[0m\u001b[0;34m' '\u001b[0m\u001b[0;34m.\u001b[0m\u001b[0mjoin\u001b[0m\u001b[0;34m(\u001b[0m\u001b[0;34m[\u001b[0m\u001b[0msentence\u001b[0m\u001b[0;34m,\u001b[0m\u001b[0mfile\u001b[0m\u001b[0;34m[\u001b[0m\u001b[0mind\u001b[0m\u001b[0;34m+\u001b[0m\u001b[0;36m1\u001b[0m\u001b[0;34m]\u001b[0m\u001b[0;34m]\u001b[0m\u001b[0;34m)\u001b[0m\u001b[0;34m)\u001b[0m\u001b[0;34m\u001b[0m\u001b[0;34m\u001b[0m\u001b[0m\n\u001b[0m\u001b[1;32m    107\u001b[0m                         \u001b[0;32melse\u001b[0m\u001b[0;34m:\u001b[0m\u001b[0;34m\u001b[0m\u001b[0;34m\u001b[0m\u001b[0m\n\u001b[1;32m    108\u001b[0m                             \u001b[0;32mif\u001b[0m \u001b[0;34m'[0-9]{1-2},[0-9]{2}'\u001b[0m \u001b[0;32min\u001b[0m \u001b[0msentence\u001b[0m\u001b[0;34m:\u001b[0m\u001b[0;34m\u001b[0m\u001b[0;34m\u001b[0m\u001b[0m\n",
      "\u001b[0;31mAttributeError\u001b[0m: 'NoneType' object has no attribute 'append'"
     ]
    }
   ],
   "source": [
    "bic_val = bic.values()\n",
    "bic_val"
   ]
  },
  {
   "cell_type": "code",
   "execution_count": 21,
   "metadata": {},
   "outputs": [
    {
     "data": {
      "text/plain": [
       "['Entrada em vigor: 05-abr-2021 1.',\n",
       " 'CONTAS DE DEPÓSITO (PARTICULARES) ÍNDICE 1.1.',\n",
       " 'Depósitos à ordem Comissões Acresce  Outras  Euros (Mín/Máx) Valor Anual Imposto condições Contas de Depósitos à Ordem 1.',\n",
       " 'Comissão de manutenção de conta Conta à Ordem (5), Conta à Ordem Emigrantes (5), Conta Ordenado XL (12), Conta Cool (contratações anteriores a 13 de novembro de 2014)  (4)(3).',\n",
       " 'Contas fora de comercialização: Conta à Ordem Sucursal Financeira Exterior Madeira (5)(6), Conta Privilégio 55 (5)(7), Conta Ordenado  Privilégio 55 (7)(12)(13) ≤ 2.500,00€ 12,00 / trimestre 48,00 IS 4,00% > 2.500,00€ e ≤ 5.000,00€ 10,00 / trimestre 40,00 IS 4,00% Notas 1, 2 Património financeiro > 5.000,00€ e ≤ 15.000,00€ 7,50 / trimestre 30,00 IS 4,00% > 15.000,00€  0,00 nan nan Conta à Ordem com Futuro 0,00 nan Nota 4 Conta Cool (contratações a partir de 13 de novembro 2014) 0,00 nan Notas 4, 11 Conta à Ordem Massa Insolvente 0,00 nan Nota 14 Conta BIC Salário Internacional (Fora de comercialização) 5,00 / mês 60,00 IS 4,00% Notas 5, 20 2.',\n",
       " 'Comissão de manutenção da Conta Base 5,00 / mês 60,00 IS 4,00% Notas 5, 8 3.',\n",
       " 'Comissão de manutenção da Conta de Serviços Mínimos  1,03 / trimestre 4,12 IS 4,00% Notas 9, 10 Bancários (CSMB) 4.',\n",
       " 'Comissão de manutenção de conta pacote Conta EuroBic Prime com domiciliação de vencimento Nota 15 Sem condições de bonificação 5,50 / mês 66,00 IS 4,00% Com condições de bonificação 4,50 / mês 54,00 IS 4,00% Nota 25 Conta EuroBic Prime sem domiciliação de vencimento Nota 15 Sem condições de bonificação 7,50 / mês 90,00 IS 4,00% Com condições de bonificação 6,50 / mês 78,00 IS 4,00% Nota 25 Conta EuroBic 365 com domiciliação de vencimento Nota 16 Sem condições de bonificação 4,25 / mês 51,00 IS 4,00% Com condições de bonificação 3,25 / mês 39,00 IS 4,00% Nota 25 Conta EuroBic 365 sem domiciliação de vencimento Nota 16 Sem condições de bonificação 6,00 / mês 72,00 IS 4,00% Com condições de bonificação 5,00 / mês 60,00 IS 4,00% Nota 25 Conta EuroBic Sénior Sem crédito de vencimento e recursos ≤ 35.000 € 4,00 / mês 48,00 IS 4,00% Notas 17, 18 Com crédito de vencimento ou recursos  > 35.000 € 0,00 IS 4,00% Notas 17, 18 Conta EuroBic Mais (Fora de comercialização) Sem crédito de vencimento 7,00 / mês 84,00 IS 4,00% Notas 5, 19 Com crédito de vencimento 5,00 / mês 60,00 IS 4,00% Notas 12, 19 5.',\n",
       " 'Levantamento de numerário  5,00 nan IS 4,00% Nota 21 6.',\n",
       " 'Pedido de saldo ao balcão 1,00 nan IVA 23,00% 7.']"
      ]
     },
     "execution_count": 21,
     "metadata": {},
     "output_type": "execute_result"
    }
   ],
   "source": [
    "bic_sent = bic.tokenize()\n",
    "bic_sent[:10]"
   ]
  },
  {
   "cell_type": "code",
   "execution_count": 22,
   "metadata": {},
   "outputs": [
    {
     "data": {
      "text/plain": [
       "['Entrada em vigor: 30-Mar-2021    1.',\n",
       " 'CONTAS DE DEPÓSITO (PARTICULARES)                                                                                   ÍNDICE   1.1 Depósitos à ordem  Comissões  Acresce  Outras    Euros (Mín/Máx)  Valor anual  Imposto  condições  Produtos: Fora de comercialização: Conta D.O.',\n",
       " 'Particulares; Conta Ordenado; Conta Standard; Conta Future; Conta  Kids; Conta Global  Em comercialização: Conta Base; Conta Private; Conta Value; Conta Smart; Conta Futuro; Conta Serviços Mínimos  Bancários, Conta Moeda Estrangeira e Conta ABANCA Internacional.',\n",
       " 'As comissões abaixo indicadas ocorrem no momento em que se verifica a operação e aplicam-se às contas acima identificadas, salvo  nos casos em que expressamente se exclui.',\n",
       " '1.',\n",
       " 'Emissão de extrato      1.1  Mensal (enviado ao domicílio)  0,00  nan  IVA – 23%  1.2  Outros, para além do indicado em 1.1  2,00 por extrato  1.3  2ª Via      7,50    2.',\n",
       " 'Fotocópias de segundas vias de talões de depósito   5,00 por documento  nan  IVA – 23%    3.',\n",
       " 'Manutenção de conta      3.1 Conta D.O.',\n",
       " 'Particulares (Nota 2)      - Saldo médio até 1.000€  15,00 Trimestral  60,00  - Saldo médio entre 1.001€ e 2.500€  10,00 Trimestral  40,00  IS – 4%    - Saldo médio superior a 2.500€  0,00  nan  3.2 Conta Ordenado (Nota 1 e Nota 16)  0,00  nan  3.3 Conta Standard (não admite novas contratações)  0,00  nan  3.4 Conta Moeda Estrangeira (Nota 12)  5,00 Mensal  60,00  4.',\n",
       " 'Manutenção de Conta Pacote      4.1.']"
      ]
     },
     "execution_count": 22,
     "metadata": {},
     "output_type": "execute_result"
    }
   ],
   "source": [
    "abanca_sent = abanca.tokenize()\n",
    "abanca_sent[:10]"
   ]
  },
  {
   "cell_type": "code",
   "execution_count": 25,
   "metadata": {},
   "outputs": [
    {
     "data": {
      "text/plain": [
       "{'Emissão de extrato': ['Emissão de extrato      1.1  Mensal (enviado ao domicílio)  0,00  nan  IVA – 23%  1.2  Outros, para além do indicado em 1.1  2,00 por extrato  1.3  2ª Via      7,50    2. Fotocópias de segundas vias de talões de depósito   5,00 por documento  nan  IVA – 23%    3.'],\n",
       " 'Fotocópias de segundas vias de talões de depósito': ['Fotocópias de segundas vias de talões de depósito   5,00 por documento  nan  IVA – 23%    3. Manutenção de conta      3.1 Conta D.O.'],\n",
       " 'Manutenção de conta': ['Manutenção de conta      3.1 Conta D.O. Particulares (Nota 2)      - Saldo médio até 1.000€  15,00 Trimestral  60,00  - Saldo médio entre 1.001€ e 2.500€  10,00 Trimestral  40,00  IS – 4%    - Saldo médio superior a 2.500€  0,00  nan  3.2 Conta Ordenado (Nota 1 e Nota 16)  0,00  nan  3.3 Conta Standard (não admite novas contratações)  0,00  nan  3.4 Conta Moeda Estrangeira (Nota 12)  5,00 Mensal  60,00  4.'],\n",
       " 'Levantamento de numerário': ['Levantamento de numerário          7.1 Ao balcão, com apresentação de cheque  0,00  nan  IS – 4%  Nota (13)   7.2 Ao balcão, sem apresentação de cheque  3,50   8. Adesão ao serviço de banca à distância  0,00  nan  nan    9.'],\n",
       " 'Adesão ao serviço de banca à distância': ['Adesão ao serviço de banca à distância  0,00  nan  nan    9. Depósito de moedas metálicas (igual ou superior a 100  Notas (13)  3,50  nan  IS – 4%  moedas por dia e por conta)  (14)  Notas (13)  10.'],\n",
       " 'Depósito de moedas metálicas': ['Depósito de moedas metálicas (igual ou superior a 100  Notas (13)  3,50  nan  IS – 4%  moedas por dia e por conta)  (14)  Notas (13)  10. Alteração de titulares  5,00  nan  IS – 4%  (15)  11.'],\n",
       " 'Depósito de moedas': ['Depósito de moedas metálicas (igual ou superior a 100  Notas (13)  3,50  nan  IS – 4%  moedas por dia e por conta)  (14)  Notas (13)  10. Alteração de titulares  5,00  nan  IS – 4%  (15)  11.'],\n",
       " 'Alteração de titulares': ['Alteração de titulares  5,00  nan  IS – 4%  (15)  11. Comissão por descoberto bancário  Vide Secção 2.5 Descobertos bancários  Nota (1) Não admite novas contratações.']}"
      ]
     },
     "execution_count": 25,
     "metadata": {},
     "output_type": "execute_result"
    }
   ],
   "source": [
    "abanca.values()"
   ]
  },
  {
   "cell_type": "code",
   "execution_count": 75,
   "metadata": {},
   "outputs": [],
   "source": [
    "com_dict = {'statement':['Emissão de extrato', 'Extrato Integrado', 'Extrato Mensal'],\n",
    "           'documents_copy':['Fotocópias de segundas vias de talões de depósito',\n",
    "                                  'Emissão 2ªs Vias de Avisos e Outros Documentos', 'Extracto avulso',\n",
    "                                 'Segundas vias (pedido na agência)'],\n",
    "           'acc_manteinance':['Manutenção de conta', 'Comissão de manutenção de conta', 'Comissão de Manutenção de Conta'],\n",
    "           'withdraw':['Levantamento de numerário', 'Levantamento de numerário ao balcão', 'Comissão de Levantamento',\n",
    "                      'Levantamento de Numerário ao Balcão'],\n",
    "           'online_service':['Adesão ao serviço de banca à distância', 'Adesão ao serviço online'],\n",
    "            'cash_deposit':['Depósito de moedas metálicas', 'Depósito de moedas',\n",
    "                                   'Depósito de moedas ao balcão', 'Depósito de dinheiro ao balcão',\n",
    "                                  'Depósito em moeda metálica (>= 100 moedas)' ],\n",
    "            'change_holder':['Alteração de titulares', 'Alteração de titularidade', 'Comissão de Alteração de Titularidade',\n",
    "                                     'Alteração de titularidade / intervenientes'],\n",
    "            'bank_overdraft':['Comissões por descoberto bancário', 'Descoberto bancário', \n",
    "                             'Comissões por Descoberto Bancário'],\n",
    "            'movement_consultation':['Consulta de Movimentos de conta DO com', 'Consulta de movimentos ao balcão'],\n",
    "            'balance_inquiry':['Pedido de saldo ao balcão', 'Consulta de Saldo de conta DO com comprovativo']\n",
    "           }"
   ]
  },
  {
   "cell_type": "code",
   "execution_count": 76,
   "metadata": {},
   "outputs": [
    {
     "data": {
      "text/plain": [
       "{'Extrato Integrado': ['1.Extrato Integrado mensal 0,00 0,00 nan nan. 2.Consulta de Saldo de conta DO com comprovativo 0,50 nan IS - 4% Comissão por emissão ao balcão (1).',\n",
       "  '5.Emissão 2ª Via - Extrato Integrado 10,00 nan IVA - 23% Comissão por emissão ao balcão. Conta Banco CTT .'],\n",
       " 'Emissão 2ªs Vias de Avisos e Outros Documentos': ['4.Emissão 2ªs Vias de Avisos e Outros Documentos 5,00 nan IVA - 23% Comissão por emissão ao balcão. 5.Emissão 2ª Via - Extrato Integrado 10,00 nan IVA - 23% Comissão por emissão ao balcão.'],\n",
       " 'Comissão de manutenção de conta': ['4.Comissão de manutenção de conta 0,00 0,00 IS - 4%. 5.Alteração de titularidade (titular/ representante) 7,00 nan IS - 4% Comissão por conta, Nota (3).',\n",
       "  '3.Comissão de manutenção de conta 0,00 0,00 nan. 4.Alteração de titularidade (titular/ representante) 7,00 nan IS - 4% Comissão por conta, Nota (3).',\n",
       "  '3.Comissão de manutenção de conta 4,50 54,00 IS - 4% Nota (5). 4.Alteração de titularidade (titular/ representante) 7,00 nan IS - 4% Comissão por conta, Nota (3).',\n",
       "  '3.Comissão de manutenção de conta 0,00 0,00 nan Nota (6). 4.Transferências através de aplicações de pagamento.'],\n",
       " 'Levantamento de Numerário ao Balcão': ['2.Levantamento de Numerário ao Balcão 5,00 nan IS - 4% Comissão por levantamento ao balcão. Comissão por transação ao .',\n",
       "  '1.Levantamento de Numerário ao Balcão 5,00 nan IS - 4% Comissão por levantamento ao balcão. Comissão por transação .',\n",
       "  '1.Levantamento de Numerário ao Balcão Comissão por levantamento . 5,00 nan IS - 4%.',\n",
       "  '1.Levantamento de Numerário ao Balcão 0,00 nan nan Nota (6). 2.Depósito em moeda metálica (>= 100 moedas) 0,00.'],\n",
       " 'Depósito em moeda metálica (>= 100 moedas)': ['3.Depósito em moeda metálica (>= 100 moedas) 5,00 nan IS - 4%. depositante, Nota (2).',\n",
       "  '2.Depósito em moeda metálica (>= 100 moedas) 5,00 nan IS - 4%. ao depositante, Nota (2).',\n",
       "  '2.Depósito em moeda metálica (>= 100 moedas) 5,00 nan IS - 4%. ao depositante, Nota (2).',\n",
       "  '2.Depósito em moeda metálica (>= 100 moedas) 0,00. 3.Comissão de manutenção de conta 0,00 0,00 nan Nota (6).'],\n",
       " 'Alteração de titularidade': ['5.Alteração de titularidade (titular/ representante) 7,00 nan IS - 4% Comissão por conta, Nota (3). Conta Júnior (Montante Mínimo de Abertura 25,00€).',\n",
       "  '4.Alteração de titularidade (titular/ representante) 7,00 nan IS - 4% Comissão por conta, Nota (3). Conta Base (Montante Mínimo de Abertura 100,00€).',\n",
       "  '4.Alteração de titularidade (titular/ representante) 7,00 nan IS - 4% Comissão por conta, Nota (3). Conta de Serviços Mínimos Bancários .'],\n",
       " 'Comissões por descoberto bancário': ['1.Comissões por descoberto bancário vide Secção 2.5. Descobertos bancários.'],\n",
       " 'Consulta de Movimentos de conta DO com': ['3.Consulta de Movimentos de conta DO com. 2,00 nan IS - 4% Comissão por emissão ao balcão.'],\n",
       " 'Consulta de Saldo de conta DO com comprovativo': ['2.Consulta de Saldo de conta DO com comprovativo 0,50 nan IS - 4% Comissão por emissão ao balcão (1). 3.Consulta de Movimentos de conta DO com.']}"
      ]
     },
     "execution_count": 76,
     "metadata": {},
     "output_type": "execute_result"
    }
   ],
   "source": [
    "file = ctt.tokenize()\n",
    "values = [x for x in com_dict.values()]\n",
    "lista ={}\n",
    "for commission in values:\n",
    "    for value in commission:\n",
    "        for ind,sentence in enumerate(file):\n",
    "            if value in sentence:\n",
    "#                 print(sentence, 'NEXTONE')\n",
    "#             else:\n",
    "#                 print('no values')\n",
    "                if '[0-9]{1-2},[0-9]{2}' in sentence:\n",
    "                    if value in lista:\n",
    "                        lista[value].append(sentence)\n",
    "                    else:\n",
    "                        lista[value]= [sentence]\n",
    "                else:\n",
    "                    if value in lista:\n",
    "                        lista[value].append(' '.join([sentence,file[ind+1]]))\n",
    "                    else:\n",
    "                        lista[value]= [' '.join([sentence,file[ind+1]])]\n",
    "#                     if '[0-9]{1-2},[0-9]{2}' in sentence:\n",
    "#                         lista[value]= lista[value].append(sentence)\n",
    "#                     else:\n",
    "#                         lista[value]= lista[value].append(' '.join([sentence,file[ind+1]]))\n",
    "                \n",
    "#                     if '[0-9]{1-2},[0-9]{2}' in sentence:\n",
    "#                         lista[value]= [sentence]\n",
    "#                     else:\n",
    "#                         lista[value]= [' '.join([sentence,file[ind+1]])]\n",
    "lista"
   ]
  },
  {
   "cell_type": "code",
   "execution_count": 52,
   "metadata": {},
   "outputs": [],
   "source": [
    "bankinter = DemandDeposit('https://clientebancario.bportugal.pt/sites/default/files/precario/0269_/0269_PRE.pdf', [4])"
   ]
  },
  {
   "cell_type": "code",
   "execution_count": 68,
   "metadata": {},
   "outputs": [],
   "source": [
    "# bankinter.values()"
   ]
  },
  {
   "cell_type": "code",
   "execution_count": 69,
   "metadata": {},
   "outputs": [],
   "source": [
    "bai = DemandDeposit('https://clientebancario.bportugal.pt/sites/default/files/precario/0008_/0008_PRE.pdf',[4])"
   ]
  },
  {
   "cell_type": "code",
   "execution_count": 71,
   "metadata": {},
   "outputs": [],
   "source": [
    "bic = DemandDeposit('https://clientebancario.bportugal.pt/sites/default/files/precario/0079_/0079_PRE_0.pdf',[4,6])"
   ]
  },
  {
   "cell_type": "code",
   "execution_count": 73,
   "metadata": {},
   "outputs": [],
   "source": [
    "ctt = DemandDeposit('https://clientebancario.bportugal.pt/sites/default/files/precario/0193_/0193_PRE.pdf', [4])"
   ]
  },
  {
   "cell_type": "code",
   "execution_count": null,
   "metadata": {},
   "outputs": [],
   "source": []
  }
 ],
 "metadata": {
  "kernelspec": {
   "display_name": "Python 3",
   "language": "python",
   "name": "python3"
  },
  "language_info": {
   "codemirror_mode": {
    "name": "ipython",
    "version": 3
   },
   "file_extension": ".py",
   "mimetype": "text/x-python",
   "name": "python",
   "nbconvert_exporter": "python",
   "pygments_lexer": "ipython3",
   "version": "3.8.6"
  },
  "toc": {
   "base_numbering": 1,
   "nav_menu": {},
   "number_sections": true,
   "sideBar": true,
   "skip_h1_title": false,
   "title_cell": "Table of Contents",
   "title_sidebar": "Contents",
   "toc_cell": false,
   "toc_position": {},
   "toc_section_display": true,
   "toc_window_display": false
  }
 },
 "nbformat": 4,
 "nbformat_minor": 4
}
