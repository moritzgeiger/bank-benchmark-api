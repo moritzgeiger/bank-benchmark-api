{
 "cells": [
  {
   "cell_type": "code",
   "execution_count": 37,
   "metadata": {},
   "outputs": [
    {
     "name": "stdout",
     "output_type": "stream",
     "text": [
      "The autoreload extension is already loaded. To reload it, use:\n",
      "  %reload_ext autoreload\n"
     ]
    }
   ],
   "source": [
    "%load_ext autoreload\n",
    "%autoreload 2 \n",
    "import pandas as pd\n",
    "import numpy as np\n",
    "import pdfplumber\n",
    "import re\n",
    "import nltk\n",
    "from urllib.parse import urljoin, quote_plus, quote, urlencode\n",
    "from urllib.request import Request, urlopen\n",
    "from io import StringIO, BytesIO\n",
    "from housecredit import HouseCredit\n",
    "from try_scrape_demand import DemandDeposit"
   ]
  },
  {
   "cell_type": "markdown",
   "metadata": {
    "heading_collapsed": true
   },
   "source": [
    "# finding first problem"
   ]
  },
  {
   "cell_type": "code",
   "execution_count": 38,
   "metadata": {
    "hidden": true
   },
   "outputs": [
    {
     "ename": "TypeError",
     "evalue": "__init__() missing 1 required positional argument: 'id_bank'",
     "output_type": "error",
     "traceback": [
      "\u001b[0;31m---------------------------------------------------------------------------\u001b[0m",
      "\u001b[0;31mTypeError\u001b[0m                                 Traceback (most recent call last)",
      "\u001b[0;32m<ipython-input-38-f2cab2425b8b>\u001b[0m in \u001b[0;36m<module>\u001b[0;34m\u001b[0m\n\u001b[0;32m----> 1\u001b[0;31m \u001b[0mbic\u001b[0m \u001b[0;34m=\u001b[0m \u001b[0mDemandDeposit\u001b[0m\u001b[0;34m(\u001b[0m\u001b[0;34m'https://clientebancario.bportugal.pt/sites/default/files/precario/0079_/0079_PRE_0.pdf'\u001b[0m\u001b[0;34m,\u001b[0m \u001b[0;34m[\u001b[0m\u001b[0;36m4\u001b[0m\u001b[0;34m,\u001b[0m\u001b[0;36m6\u001b[0m\u001b[0;34m]\u001b[0m\u001b[0;34m)\u001b[0m\u001b[0;34m\u001b[0m\u001b[0;34m\u001b[0m\u001b[0m\n\u001b[0m",
      "\u001b[0;31mTypeError\u001b[0m: __init__() missing 1 required positional argument: 'id_bank'"
     ]
    }
   ],
   "source": [
    "bic = DemandDeposit('https://clientebancario.bportugal.pt/sites/default/files/precario/0079_/0079_PRE_0.pdf', [4,6])"
   ]
  },
  {
   "cell_type": "code",
   "execution_count": null,
   "metadata": {
    "hidden": true
   },
   "outputs": [],
   "source": [
    "bic_dict = bic.demand_depos()"
   ]
  },
  {
   "cell_type": "code",
   "execution_count": null,
   "metadata": {
    "hidden": true
   },
   "outputs": [],
   "source": [
    "abanca_dictionary = DemandDeposit('https://storage.googleapis.com/bank_price_pdfs/1_all_products_210412080134.pdf', [4]).demand_depos()"
   ]
  },
  {
   "cell_type": "code",
   "execution_count": null,
   "metadata": {
    "hidden": true
   },
   "outputs": [],
   "source": [
    "abanca = DemandDeposit('https://storage.googleapis.com/bank_price_pdfs/1_all_products_210412080134.pdf', [4])\n",
    "# ctt = DemanDeposit('')"
   ]
  },
  {
   "cell_type": "code",
   "execution_count": null,
   "metadata": {
    "hidden": true
   },
   "outputs": [],
   "source": [
    "bic_text = bic.getting_text()\n",
    "bic_text[:800]"
   ]
  },
  {
   "cell_type": "code",
   "execution_count": null,
   "metadata": {
    "hidden": true
   },
   "outputs": [],
   "source": [
    "bic_val = bic.values()\n",
    "bic_val"
   ]
  },
  {
   "cell_type": "code",
   "execution_count": null,
   "metadata": {
    "hidden": true
   },
   "outputs": [],
   "source": [
    "bic_sent = bic.tokenize()\n",
    "bic_sent[:10]"
   ]
  },
  {
   "cell_type": "code",
   "execution_count": null,
   "metadata": {
    "hidden": true
   },
   "outputs": [],
   "source": [
    "abanca_sent = abanca.tokenize()\n",
    "abanca_sent[:10]"
   ]
  },
  {
   "cell_type": "code",
   "execution_count": null,
   "metadata": {
    "hidden": true
   },
   "outputs": [],
   "source": [
    "abanca.values()"
   ]
  },
  {
   "cell_type": "code",
   "execution_count": null,
   "metadata": {
    "hidden": true
   },
   "outputs": [],
   "source": [
    "com_dict = {'statement':['Emissão de extrato', 'Extrato Integrado', 'Extrato Mensal'],\n",
    "           'documents_copy':['Fotocópias de segundas vias de talões de depósito',\n",
    "                                  'Emissão 2ªs Vias de Avisos e Outros Documentos', 'Extracto avulso',\n",
    "                                 'Segundas vias (pedido na agência)'],\n",
    "           'acc_manteinance':['Manutenção de conta', 'Comissão de manutenção de conta', 'Comissão de Manutenção de Conta'],\n",
    "           'withdraw':['Levantamento de numerário', 'Levantamento de numerário ao balcão', 'Comissão de Levantamento',\n",
    "                      'Levantamento de Numerário ao Balcão'],\n",
    "           'online_service':['Adesão ao serviço de banca à distância', 'Adesão ao serviço online'],\n",
    "            'cash_deposit':['Depósito de moedas metálicas', 'Depósito de moedas',\n",
    "                                   'Depósito de moedas ao balcão', 'Depósito de dinheiro ao balcão',\n",
    "                                  'Depósito em moeda metálica (>= 100 moedas)' ],\n",
    "            'change_holder':['Alteração de titulares', 'Alteração de titularidade', 'Comissão de Alteração de Titularidade',\n",
    "                                     'Alteração de titularidade / intervenientes'],\n",
    "            'bank_overdraft':['Comissões por descoberto bancário', 'Descoberto bancário', \n",
    "                             'Comissões por Descoberto Bancário'],\n",
    "            'movement_consultation':['Consulta de Movimentos de conta DO com', 'Consulta de movimentos ao balcão'],\n",
    "            'balance_inquiry':['Pedido de saldo ao balcão', 'Consulta de Saldo de conta DO com comprovativo']\n",
    "           }"
   ]
  },
  {
   "cell_type": "code",
   "execution_count": null,
   "metadata": {
    "hidden": true
   },
   "outputs": [],
   "source": [
    "file = ctt.tokenize()\n",
    "values = [x for x in com_dict.values()]\n",
    "lista ={}\n",
    "for commission in values:\n",
    "    for value in commission:\n",
    "        for ind,sentence in enumerate(file):\n",
    "            if value in sentence:\n",
    "#                 print(sentence, 'NEXTONE')\n",
    "#             else:\n",
    "#                 print('no values')\n",
    "                if '[0-9]{1-2},[0-9]{2}' in sentence:\n",
    "                    if value in lista:\n",
    "                        lista[value].append(sentence)\n",
    "                    else:\n",
    "                        lista[value]= [sentence]\n",
    "                else:\n",
    "                    if value in lista:\n",
    "                        lista[value].append(' '.join([sentence,file[ind+1]]))\n",
    "                    else:\n",
    "                        lista[value]= [' '.join([sentence,file[ind+1]])]\n",
    "#                     if '[0-9]{1-2},[0-9]{2}' in sentence:\n",
    "#                         lista[value]= lista[value].append(sentence)\n",
    "#                     else:\n",
    "#                         lista[value]= lista[value].append(' '.join([sentence,file[ind+1]]))\n",
    "                \n",
    "#                     if '[0-9]{1-2},[0-9]{2}' in sentence:\n",
    "#                         lista[value]= [sentence]\n",
    "#                     else:\n",
    "#                         lista[value]= [' '.join([sentence,file[ind+1]])]\n",
    "lista"
   ]
  },
  {
   "cell_type": "markdown",
   "metadata": {},
   "source": [
    "# importing file from banks"
   ]
  },
  {
   "cell_type": "markdown",
   "metadata": {},
   "source": [
    "demand deposit \n",
    "- bankinter = 4\n",
    "- abanca = 4\n",
    "- bai = 4\n",
    "- bic = 4,6\n",
    "- ctt = 4\n",
    "housing credit \n",
    "-\n"
   ]
  },
  {
   "cell_type": "code",
   "execution_count": 39,
   "metadata": {},
   "outputs": [],
   "source": [
    "bankinter = DemandDeposit('https://clientebancario.bportugal.pt/sites/default/files/precario/0269_/0269_PRE.pdf', [4],'0269')"
   ]
  },
  {
   "cell_type": "code",
   "execution_count": 40,
   "metadata": {},
   "outputs": [],
   "source": [
    "abanca = DemandDeposit('https://clientebancario.bportugal.pt/sites/default/files/precario/0170_/0170_PRE.pdf', [4], '0170')"
   ]
  },
  {
   "cell_type": "code",
   "execution_count": 41,
   "metadata": {},
   "outputs": [],
   "source": [
    "bai = DemandDeposit('https://clientebancario.bportugal.pt/sites/default/files/precario/0008_/0008_PRE.pdf',[4], '0008')"
   ]
  },
  {
   "cell_type": "code",
   "execution_count": 42,
   "metadata": {},
   "outputs": [],
   "source": [
    "bic = DemandDeposit('https://clientebancario.bportugal.pt/sites/default/files/precario/0079_/0079_PRE_0.pdf',[4,6], '0079')"
   ]
  },
  {
   "cell_type": "code",
   "execution_count": 43,
   "metadata": {},
   "outputs": [],
   "source": [
    "ctt = DemandDeposit('https://clientebancario.bportugal.pt/sites/default/files/precario/0193_/0193_PRE.pdf', [4], '0193')"
   ]
  },
  {
   "cell_type": "markdown",
   "metadata": {},
   "source": [
    "# finding solution "
   ]
  },
  {
   "cell_type": "code",
   "execution_count": 7,
   "metadata": {},
   "outputs": [],
   "source": [
    "ab_v = abanca.values()\n",
    "ctt_v = ctt.values()\n",
    "bic_v = bic.values()\n",
    "bai_v = bai.values()\n",
    "bank_v = bankinter.values()"
   ]
  },
  {
   "cell_type": "code",
   "execution_count": null,
   "metadata": {},
   "outputs": [],
   "source": [
    "ab_v"
   ]
  },
  {
   "cell_type": "code",
   "execution_count": 8,
   "metadata": {},
   "outputs": [],
   "source": [
    "ab_n = abanca.names()\n",
    "ctt_n = ctt.names()\n",
    "bic_n = bic.names()\n",
    "bai_n = bai.names()\n",
    "bank_n = bankinter.names()"
   ]
  },
  {
   "cell_type": "markdown",
   "metadata": {},
   "source": [
    "#### quanto cazzo odio abanca"
   ]
  },
  {
   "cell_type": "code",
   "execution_count": null,
   "metadata": {},
   "outputs": [],
   "source": [
    "complete_text_ab = abanca.tokenize()"
   ]
  },
  {
   "cell_type": "code",
   "execution_count": null,
   "metadata": {},
   "outputs": [],
   "source": [
    "# values = ab_v.values()\n",
    "# for value in values:\n",
    "#     for v in value:\n",
    "#         v = v.lower()\n",
    "#         print(v)\n",
    "#         for name in ab_n:\n",
    "#             name = name.lower()\n",
    "#             print(name)\n",
    "# #             if name in value:\n",
    "# #                 print(value)\n",
    "        "
   ]
  },
  {
   "cell_type": "markdown",
   "metadata": {},
   "source": [
    "### trying with ctt"
   ]
  },
  {
   "cell_type": "code",
   "execution_count": null,
   "metadata": {},
   "outputs": [],
   "source": [
    "complete_text_ctt = ctt.tokenize()\n",
    "indexes_name = {}\n",
    "indexes_value = {}\n",
    "for name in ctt_n:\n",
    "    for inx,sentence in enumerate(complete_text_ctt):\n",
    "        if name in sentence:\n",
    "            if name in indexes_name:\n",
    "                indexes_name[name].append(inx)\n",
    "            else:\n",
    "                indexes_name[name] = [inx]\n",
    "for lista in com_dict.values():\n",
    "    for value in lista:\n",
    "#         print(value)\n",
    "        for inx,sentence in enumerate(complete_text_ctt):\n",
    "            if value in sentence:\n",
    "                if value in indexes_value:\n",
    "                    indexes_value[value].append(inx)\n",
    "                else:\n",
    "                    indexes_value[value] = [inx]\n",
    "indexes_name"
   ]
  },
  {
   "cell_type": "code",
   "execution_count": null,
   "metadata": {},
   "outputs": [],
   "source": [
    "ctt.indexes()"
   ]
  },
  {
   "cell_type": "code",
   "execution_count": 9,
   "metadata": {},
   "outputs": [],
   "source": [
    "indexes_bank = bankinter.indexes()[0]\n",
    "values_bank =  bankinter.indexes()[1]"
   ]
  },
  {
   "cell_type": "code",
   "execution_count": 10,
   "metadata": {},
   "outputs": [],
   "source": [
    "for conta in indexes_bank:\n",
    "#     print(indexes[0][conta])\n",
    "    if len(indexes_bank[conta]) == 1:\n",
    "        indexes_bank[conta] = indexes_bank[conta][0]\n",
    "        \n",
    "    \n",
    "    "
   ]
  },
  {
   "cell_type": "code",
   "execution_count": 11,
   "metadata": {},
   "outputs": [
    {
     "data": {
      "text/plain": [
       "{'Conta Bankinter (idade igual ou superior a 18 anos).': 12,\n",
       " 'Conta Bankinter em Moeda Estrangeira.': 15,\n",
       " 'Conta B Portugal em Moeda Estrangeira (Clientes Portugueses Não Residentes) -': 16,\n",
       " 'Conta B Dynamic (idades entre 18 e 54 anos),': 19,\n",
       " 'Conta B Relax (idade igual ou superior a 55 anos),': 19,\n",
       " 'Conta Premier (Clientes Segmento Premier),': 19,\n",
       " 'Conta Internacional (Clientes Estrangeiros Não Residentes em Portugal) - encerrada à comercialização.': 22,\n",
       " 'Conta BK Mini (Antiga': 25,\n",
       " 'Conta B Teen),': 25,\n",
       " 'Conta Mediador de Seguros e': 25,\n",
       " 'Conta B Kid (idades entre 0 e 13 anos),': 25,\n",
       " 'Conta B U (Estudantes Universitários).': 25,\n",
       " 'Conta B Prime (': 27,\n",
       " 'Conta Ordenado para Clientes Barclaycard - descontinuada)': 27,\n",
       " 'Conta B Dynamic + (': 27,\n",
       " 'Conta B Relax + (': 27,\n",
       " 'Conta Ordenado para Clientes com idade igual ou superior a 55 anos),': 27,\n",
       " 'Conta Premier + (': 27,\n",
       " 'Conta B Prime Plus (': 27,\n",
       " 'Conta Ordenado para Clientes Barclaycard e para Clientes captados no âmbito da Parceria entre:': 27}"
      ]
     },
     "execution_count": 11,
     "metadata": {},
     "output_type": "execute_result"
    }
   ],
   "source": [
    "indexes_bank"
   ]
  },
  {
   "cell_type": "code",
   "execution_count": 12,
   "metadata": {},
   "outputs": [],
   "source": [
    "indexes_ctt = ctt.indexes()[0]\n",
    "values_ctt =  ctt.indexes()[1]"
   ]
  },
  {
   "cell_type": "code",
   "execution_count": 13,
   "metadata": {},
   "outputs": [
    {
     "data": {
      "text/plain": [
       "{'Extrato Integrado': [12, 18],\n",
       " 'Emissão 2ªs Vias de Avisos e Outros Documentos': [17],\n",
       " 'Comissão de manutenção de conta': [27, 35, 45, 51],\n",
       " 'Levantamento de Numerário ao Balcão': [23, 31, 39, 49],\n",
       " 'Depósito em moeda metálica (>= 100 moedas)': [25, 33, 43, 50],\n",
       " 'Alteração de titularidade': [28, 36, 46],\n",
       " 'Comissões por descoberto bancário': [21],\n",
       " 'Consulta de Movimentos de conta DO com': [14],\n",
       " 'Consulta de Saldo de conta DO com comprovativo': [13]}"
      ]
     },
     "execution_count": 13,
     "metadata": {},
     "output_type": "execute_result"
    }
   ],
   "source": [
    "values_ctt"
   ]
  },
  {
   "cell_type": "code",
   "execution_count": 18,
   "metadata": {},
   "outputs": [
    {
     "ename": "NameError",
     "evalue": "name 'type_comm' is not defined",
     "output_type": "error",
     "traceback": [
      "\u001b[0;31m---------------------------------------------------------------------------\u001b[0m",
      "\u001b[0;31mNameError\u001b[0m                                 Traceback (most recent call last)",
      "\u001b[0;32m<ipython-input-18-84620695bf4b>\u001b[0m in \u001b[0;36m<module>\u001b[0;34m\u001b[0m\n\u001b[1;32m      4\u001b[0m     \u001b[0mcloser\u001b[0m \u001b[0;34m=\u001b[0m \u001b[0;36m0\u001b[0m\u001b[0;34m\u001b[0m\u001b[0;34m\u001b[0m\u001b[0m\n\u001b[1;32m      5\u001b[0m     \u001b[0;32mfor\u001b[0m \u001b[0mcommission\u001b[0m\u001b[0;34m,\u001b[0m\u001b[0mnumber_comm\u001b[0m \u001b[0;32min\u001b[0m \u001b[0mvalues_ctt\u001b[0m\u001b[0;34m.\u001b[0m\u001b[0mitems\u001b[0m\u001b[0;34m(\u001b[0m\u001b[0;34m)\u001b[0m\u001b[0;34m:\u001b[0m\u001b[0;34m\u001b[0m\u001b[0;34m\u001b[0m\u001b[0m\n\u001b[0;32m----> 6\u001b[0;31m         \u001b[0;32mfor\u001b[0m \u001b[0melement\u001b[0m \u001b[0;32min\u001b[0m \u001b[0mtype_comm\u001b[0m\u001b[0;34m:\u001b[0m\u001b[0;34m\u001b[0m\u001b[0;34m\u001b[0m\u001b[0m\n\u001b[0m\u001b[1;32m      7\u001b[0m             \u001b[0mprint\u001b[0m\u001b[0;34m(\u001b[0m\u001b[0melement\u001b[0m\u001b[0;34m)\u001b[0m\u001b[0;34m\u001b[0m\u001b[0;34m\u001b[0m\u001b[0m\n\u001b[1;32m      8\u001b[0m \u001b[0;31m#             if element > idx and (element<closer or closer == 0):\u001b[0m\u001b[0;34m\u001b[0m\u001b[0;34m\u001b[0m\u001b[0;34m\u001b[0m\u001b[0m\n",
      "\u001b[0;31mNameError\u001b[0m: name 'type_comm' is not defined"
     ]
    }
   ],
   "source": [
    "for element in number_comm:   ''' ex. [12,18,27]'''\n",
    "    for conta,idx in names.items():  '''ex Conta CTT', [12]'''\n",
    "        idx = idx[0] '''12'''\n",
    "        closer = 0\n",
    "        if element > idx and (element<closer or closer == 0):\n",
    "            closer = element\n",
    "            if '(\\d+,\\d{2})' not in self.tokenize()[element]:\n",
    "                sentence = self.tokenize()[element]\n",
    "                sentence = ' '.join([sentence,self.tokenize()[element+1]])\n",
    "                types[commission]=sentence\n",
    "            else:\n",
    "                types[commission]=self.tokenize()[element]\n",
    "        sentence_account[conta] = types"
   ]
  },
  {
   "cell_type": "code",
   "execution_count": null,
   "metadata": {},
   "outputs": [],
   "source": [
    "sentence_account = {}\n",
    "for commission,number_comm in values_ctt.items():\n",
    "        for element in type_comm:\n",
    "            for conta,idx in indexes_ctt.items():\n",
    "                idx = idx[0]\n",
    "                closer = 0\n",
    "                if element > idx and (element<closer or closer == 0):\n",
    "                    closer = element\n",
    "                types[commission]=ctt.tokenize()[closer]\n",
    "            sentence_account[conta]=types\n",
    "                \n",
    "sentence_account"
   ]
  },
  {
   "cell_type": "code",
   "execution_count": null,
   "metadata": {},
   "outputs": [],
   "source": [
    "# prices = ctt.values_sentence()"
   ]
  },
  {
   "cell_type": "code",
   "execution_count": null,
   "metadata": {},
   "outputs": [],
   "source": [
    "prices['Conta Banco CTT .']"
   ]
  },
  {
   "cell_type": "code",
   "execution_count": null,
   "metadata": {},
   "outputs": [],
   "source": [
    "prices['Conta Júnior (Montante Mínimo de Abertura 25,00€).']"
   ]
  },
  {
   "cell_type": "code",
   "execution_count": null,
   "metadata": {},
   "outputs": [],
   "source": [
    "type_account={}\n",
    "num_prices= {}\n",
    "for key, value in prices.items():\n",
    "    for commission, sentence in value.items():\n",
    "\n",
    "        price = re.search('(\\d+,\\d{2})', sentence)\n",
    "        if price:\n",
    "            found = price.group(1)\n",
    "\n",
    "            num_prices[commission]=found\n",
    "        type_account[key]= num_prices\n",
    "    \n",
    "    "
   ]
  },
  {
   "cell_type": "code",
   "execution_count": null,
   "metadata": {},
   "outputs": [],
   "source": [
    "type_account"
   ]
  },
  {
   "cell_type": "code",
   "execution_count": 21,
   "metadata": {},
   "outputs": [],
   "source": [
    "  prices = ctt.values_sentence()"
   ]
  },
  {
   "cell_type": "code",
   "execution_count": 22,
   "metadata": {},
   "outputs": [
    {
     "data": {
      "text/plain": [
       "{'Contas de Depósito à Ordem (Comissões aplicáveis a todas as Contas).': {},\n",
       " 'Conta Banco CTT .': {},\n",
       " 'Conta Júnior (Montante Mínimo de Abertura 25,00€).': {},\n",
       " 'Conta Base (Montante Mínimo de Abertura 100,00€).': {},\n",
       " 'Conta de Serviços Mínimos Bancários .': {},\n",
       " 'Banco CTT, S.A. Contas de Depósito-Particulares - Pág.1/2': {}}"
      ]
     },
     "execution_count": 22,
     "metadata": {},
     "output_type": "execute_result"
    }
   ],
   "source": [
    "prices"
   ]
  },
  {
   "cell_type": "code",
   "execution_count": 16,
   "metadata": {},
   "outputs": [
    {
     "data": {
      "text/plain": [
       "{'Conta à Ordem (5),': {'Comissão de manutenção de conta': '000,00',\n",
       "  'Levantamento de numerário': '5,00',\n",
       "  'Alteração de titularidade': '7,00',\n",
       "  'Alteração de titularidade / intervenientes': '7,00',\n",
       "  'Pedido de saldo ao balcão': '1,00'},\n",
       " 'Conta à Ordem Emigrantes (5),': {'Comissão de manutenção de conta': '000,00',\n",
       "  'Levantamento de numerário': '5,00',\n",
       "  'Alteração de titularidade': '7,00',\n",
       "  'Alteração de titularidade / intervenientes': '7,00',\n",
       "  'Pedido de saldo ao balcão': '1,00'},\n",
       " 'Conta Ordenado XL (12),': {'Comissão de manutenção de conta': '000,00',\n",
       "  'Levantamento de numerário': '5,00',\n",
       "  'Alteração de titularidade': '7,00',\n",
       "  'Alteração de titularidade / intervenientes': '7,00',\n",
       "  'Pedido de saldo ao balcão': '1,00'},\n",
       " 'Conta à Ordem Sucursal Financeira Exterior Madeira (5)(6),': {'Comissão de manutenção de conta': '000,00',\n",
       "  'Levantamento de numerário': '5,00',\n",
       "  'Alteração de titularidade': '7,00',\n",
       "  'Alteração de titularidade / intervenientes': '7,00',\n",
       "  'Pedido de saldo ao balcão': '1,00'},\n",
       " 'Conta Privilégio 55 (5)(7),': {'Comissão de manutenção de conta': '000,00',\n",
       "  'Levantamento de numerário': '5,00',\n",
       "  'Alteração de titularidade': '7,00',\n",
       "  'Alteração de titularidade / intervenientes': '7,00',\n",
       "  'Pedido de saldo ao balcão': '1,00'},\n",
       " 'Conta à Ordem com Futuro 0,00 nan Nota 4': {'Comissão de manutenção de conta': '000,00',\n",
       "  'Levantamento de numerário': '5,00',\n",
       "  'Alteração de titularidade': '7,00',\n",
       "  'Alteração de titularidade / intervenientes': '7,00',\n",
       "  'Pedido de saldo ao balcão': '1,00'},\n",
       " 'Conta Cool (contratações a partir de 13 de novembro 2014) 0,00 nan Notas 4,': {'Comissão de manutenção de conta': '000,00',\n",
       "  'Levantamento de numerário': '5,00',\n",
       "  'Alteração de titularidade': '7,00',\n",
       "  'Alteração de titularidade / intervenientes': '7,00',\n",
       "  'Pedido de saldo ao balcão': '1,00'},\n",
       " 'Conta à Ordem Massa Insolvente 0,00 nan Nota 14': {'Comissão de manutenção de conta': '000,00',\n",
       "  'Levantamento de numerário': '5,00',\n",
       "  'Alteração de titularidade': '7,00',\n",
       "  'Alteração de titularidade / intervenientes': '7,00',\n",
       "  'Pedido de saldo ao balcão': '1,00'},\n",
       " 'Conta BIC Salário Internacional (Fora de comercialização) 5,00 / mês 60,00 IS 4,00% Notas': {'Comissão de manutenção de conta': '000,00',\n",
       "  'Levantamento de numerário': '5,00',\n",
       "  'Alteração de titularidade': '7,00',\n",
       "  'Alteração de titularidade / intervenientes': '7,00',\n",
       "  'Pedido de saldo ao balcão': '1,00'},\n",
       " 'Conta Base 5,00 / mês 60,00 IS 4,00% Notas 5, 8 3.': {'Comissão de manutenção de conta': '000,00',\n",
       "  'Levantamento de numerário': '5,00',\n",
       "  'Alteração de titularidade': '7,00',\n",
       "  'Alteração de titularidade / intervenientes': '7,00',\n",
       "  'Pedido de saldo ao balcão': '1,00'},\n",
       " 'Conta EuroBic Prime com domiciliação de vencimento Nota 15 Sem condições de bonificação 5,50': {'Comissão de manutenção de conta': '000,00',\n",
       "  'Levantamento de numerário': '5,00',\n",
       "  'Alteração de titularidade': '7,00',\n",
       "  'Alteração de titularidade / intervenientes': '7,00',\n",
       "  'Pedido de saldo ao balcão': '1,00'},\n",
       " 'Conta EuroBic Prime sem domiciliação de vencimento Nota 15 Sem condições de bonificação 7,50': {'Comissão de manutenção de conta': '000,00',\n",
       "  'Levantamento de numerário': '5,00',\n",
       "  'Alteração de titularidade': '7,00',\n",
       "  'Alteração de titularidade / intervenientes': '7,00',\n",
       "  'Pedido de saldo ao balcão': '1,00'},\n",
       " 'Conta EuroBic 365 com domiciliação de vencimento Nota 16 Sem condições de bonificação 4,25': {'Comissão de manutenção de conta': '000,00',\n",
       "  'Levantamento de numerário': '5,00',\n",
       "  'Alteração de titularidade': '7,00',\n",
       "  'Alteração de titularidade / intervenientes': '7,00',\n",
       "  'Pedido de saldo ao balcão': '1,00'},\n",
       " 'Conta EuroBic 365 sem domiciliação de vencimento Nota 16 Sem condições de bonificação 6,00': {'Comissão de manutenção de conta': '000,00',\n",
       "  'Levantamento de numerário': '5,00',\n",
       "  'Alteração de titularidade': '7,00',\n",
       "  'Alteração de titularidade / intervenientes': '7,00',\n",
       "  'Pedido de saldo ao balcão': '1,00'},\n",
       " 'Conta EuroBic Sénior Sem crédito de vencimento e recursos ≤ 35.000 € 4,00 /': {'Comissão de manutenção de conta': '000,00',\n",
       "  'Levantamento de numerário': '5,00',\n",
       "  'Alteração de titularidade': '7,00',\n",
       "  'Alteração de titularidade / intervenientes': '7,00',\n",
       "  'Pedido de saldo ao balcão': '1,00'},\n",
       " 'Conta EuroBic Mais (Fora de comercialização) Sem crédito de vencimento 7,00 / mês 84,00': {'Comissão de manutenção de conta': '000,00',\n",
       "  'Levantamento de numerário': '5,00',\n",
       "  'Alteração de titularidade': '7,00',\n",
       "  'Alteração de titularidade / intervenientes': '7,00',\n",
       "  'Pedido de saldo ao balcão': '1,00'}}"
      ]
     },
     "execution_count": 16,
     "metadata": {},
     "output_type": "execute_result"
    }
   ],
   "source": [
    "bic.values_sentence()"
   ]
  },
  {
   "cell_type": "code",
   "execution_count": null,
   "metadata": {},
   "outputs": [],
   "source": [
    "demand_depos = {}\n",
    "finals = {}\n",
    "for account, dictionary in type_account.items():\n",
    "    for k in dictionary:\n",
    "        for eng, value in com_dict.items():\n",
    "            if k in value:\n",
    "                demand_depos[eng] = dictionary[k]\n",
    "    finals[account]=demand_depos\n",
    "       "
   ]
  },
  {
   "cell_type": "code",
   "execution_count": 24,
   "metadata": {},
   "outputs": [
    {
     "data": {
      "text/plain": [
       "{'Contas de Depósito à Ordem (Comissões aplicáveis a todas as Contas).': {'balance_inquiry': '0,50'},\n",
       " 'Conta Banco CTT .': {'balance_inquiry': '0,50'},\n",
       " 'Conta Júnior (Montante Mínimo de Abertura 25,00€).': {'balance_inquiry': '0,50'},\n",
       " 'Conta Base (Montante Mínimo de Abertura 100,00€).': {'balance_inquiry': '0,50'},\n",
       " 'Conta de Serviços Mínimos Bancários .': {'balance_inquiry': '0,50'},\n",
       " 'Banco CTT, S.A. Contas de Depósito-Particulares - Pág.1/2': {'balance_inquiry': '0,50'}}"
      ]
     },
     "execution_count": 24,
     "metadata": {},
     "output_type": "execute_result"
    }
   ],
   "source": [
    "ctt.demand_depos()"
   ]
  },
  {
   "cell_type": "code",
   "execution_count": 25,
   "metadata": {},
   "outputs": [
    {
     "data": {
      "text/plain": [
       "{'Conta à Ordem (5),': {'balance_inquiry': '1,00'},\n",
       " 'Conta à Ordem Emigrantes (5),': {'balance_inquiry': '1,00'},\n",
       " 'Conta Ordenado XL (12),': {'balance_inquiry': '1,00'},\n",
       " 'Conta à Ordem Sucursal Financeira Exterior Madeira (5)(6),': {'balance_inquiry': '1,00'},\n",
       " 'Conta Privilégio 55 (5)(7),': {'balance_inquiry': '1,00'},\n",
       " 'Conta à Ordem com Futuro 0,00 nan Nota 4': {'balance_inquiry': '1,00'},\n",
       " 'Conta Cool (contratações a partir de 13 de novembro 2014) 0,00 nan Notas 4,': {'balance_inquiry': '1,00'},\n",
       " 'Conta à Ordem Massa Insolvente 0,00 nan Nota 14': {'balance_inquiry': '1,00'},\n",
       " 'Conta BIC Salário Internacional (Fora de comercialização) 5,00 / mês 60,00 IS 4,00% Notas': {'balance_inquiry': '1,00'},\n",
       " 'Conta Base 5,00 / mês 60,00 IS 4,00% Notas 5, 8 3.': {'balance_inquiry': '1,00'},\n",
       " 'Conta EuroBic Prime com domiciliação de vencimento Nota 15 Sem condições de bonificação 5,50': {'balance_inquiry': '1,00'},\n",
       " 'Conta EuroBic Prime sem domiciliação de vencimento Nota 15 Sem condições de bonificação 7,50': {'balance_inquiry': '1,00'},\n",
       " 'Conta EuroBic 365 com domiciliação de vencimento Nota 16 Sem condições de bonificação 4,25': {'balance_inquiry': '1,00'},\n",
       " 'Conta EuroBic 365 sem domiciliação de vencimento Nota 16 Sem condições de bonificação 6,00': {'balance_inquiry': '1,00'},\n",
       " 'Conta EuroBic Sénior Sem crédito de vencimento e recursos ≤ 35.000 € 4,00 /': {'balance_inquiry': '1,00'},\n",
       " 'Conta EuroBic Mais (Fora de comercialização) Sem crédito de vencimento 7,00 / mês 84,00': {'balance_inquiry': '1,00'}}"
      ]
     },
     "execution_count": 25,
     "metadata": {},
     "output_type": "execute_result"
    }
   ],
   "source": [
    "bic.demand_depos()"
   ]
  },
  {
   "cell_type": "code",
   "execution_count": null,
   "metadata": {},
   "outputs": [],
   "source": [
    "values = ctt.indexes()[1]\n",
    "names = ctt.indexes()[0]\n",
    "values"
   ]
  },
  {
   "cell_type": "code",
   "execution_count": null,
   "metadata": {},
   "outputs": [],
   "source": [
    "names"
   ]
  },
  {
   "cell_type": "code",
   "execution_count": null,
   "metadata": {},
   "outputs": [],
   "source": [
    "sentence_account = {}\n",
    "types ={}\n",
    "complete_text = ctt.tokenize()\n",
    "\n",
    "for conta,idx in names.items():\n",
    "    idx = idx[0]\n",
    "    closer = 0\n",
    "    for commission,number_comm in values.items():  \n",
    "        for element in number_comm:\n",
    "            if element >= idx and element<closer or closer == 0:\n",
    "                closer = element\n",
    "                sentence = complete_text[closer]\n",
    "            types[commission]= sentence\n",
    "                \n",
    "#             if r'(\\d+,\\d{2})' not in complete_text[closer]:\n",
    "#                 sentence = complete_text[element]\n",
    "#                 sentence = ' '.join([sentence,complete_text[closer+1]])\n",
    "#                 types[commission]=sentence\n",
    "#             else:\n",
    "#                 types[commission]=complete_text[closer]\n",
    "    sentence_account[conta] = types"
   ]
  },
  {
   "cell_type": "code",
   "execution_count": null,
   "metadata": {
    "scrolled": false
   },
   "outputs": [],
   "source": [
    "print(sentence_account)"
   ]
  },
  {
   "cell_type": "code",
   "execution_count": null,
   "metadata": {},
   "outputs": [],
   "source": [
    "complete_text[12]"
   ]
  },
  {
   "cell_type": "code",
   "execution_count": 81,
   "metadata": {},
   "outputs": [
    {
     "name": "stdout",
     "output_type": "stream",
     "text": [
      "output was called\n",
      "opening url: https://clientebancario.bportugal.pt/sites/default/files/precario/0170_/0170_PRE.pdf...\n",
      "extract pdf content to text...\n",
      "\n",
      "tokenize text...\n",
      "assign account names to sentences...\n",
      "assign account names to sentences...\n",
      "building sentence-value pairs\n",
      "find and compile all sentences with money values in them...\n",
      "dealing with bank specifics for this content: {'Conta D.O.': {}, 'Conta Ordenado': {}, 'Conta Standard': {}, 'Conta Future': {}, 'Conta Kids': {}, 'Conta Base': {}, 'Conta Private': {}, 'Conta Value': {}, 'Conta Smart': {}, 'Conta Futuro': {}, 'Conta Moeda Estrangeira e': {}, 'Conta ABANCA Internacional.': {}, 'Conta para clientes dos 18 aos 28 anos.': {}, 'Conta para clientes dos 0 aos 17 anos.': {}, 'General': {'Emissão de extrato': '0,00', 'Fotocópias de segundas vias de talões de depósito': '5,00', 'Manutenção de conta': '15,00', 'Manutenção de Conta Pacote': '0,00', 'Manutenção de Conta Base': '10,00', 'Levantamento de numerário': '0,00', 'Adesão ao serviço de banca à distância': '0,00', 'Depósito de moedas metálicas': '3,50', 'Depósito de moedas': '3,50', 'Alteração de titulares': '5,00'}}\n",
      "parse product: Conta D.O., fee Manutenção de conta\n",
      "parse product: Conta Ordenado, fee Manutenção de conta\n",
      "parse product: Conta Standard, fee Manutenção de conta\n",
      "parse product: Conta Future, fee Manutenção de conta\n",
      "parse product: Conta Kids, fee Manutenção de conta\n",
      "parse product: Conta Base, fee Manutenção de conta\n",
      "parse product: Conta Private, fee Manutenção de conta\n",
      "parse product: Conta Value, fee Manutenção de conta\n",
      "parse product: Conta Smart, fee Manutenção de conta\n",
      "parse product: Conta Futuro, fee Manutenção de conta\n",
      "parse product: Conta Moeda Estrangeira e, fee Manutenção de conta\n",
      "parse product: Conta ABANCA Internacional., fee Manutenção de conta\n",
      "parse product: Conta para clientes dos 18 aos 28 anos., fee Manutenção de conta\n",
      "parse product: Conta para clientes dos 0 aos 17 anos., fee Manutenção de conta\n",
      "parse product: General, fee Emissão de extrato\n",
      "parse product: General, fee Fotocópias de segundas vias de talões de depósito\n",
      "parse product: General, fee Manutenção de conta\n",
      "parse product: General, fee Manutenção de Conta Pacote\n",
      "parse product: General, fee Manutenção de Conta Base\n",
      "parse product: General, fee Levantamento de numerário\n",
      "parse product: General, fee Adesão ao serviço de banca à distância\n",
      "parse product: General, fee Depósito de moedas metálicas\n",
      "parse product: General, fee Depósito de moedas\n",
      "parse product: General, fee Alteração de titulares\n",
      "assign account names to sentences...\n",
      "assign account names to sentences...\n",
      "building sentence-value pairs\n",
      "find and compile all sentences with money values in them...\n",
      "dealing with bank specifics for this content: {'Conta D.O.': {}, 'Conta Ordenado': {}, 'Conta Standard': {}, 'Conta Future': {}, 'Conta Kids': {}, 'Conta Base': {}, 'Conta Private': {}, 'Conta Value': {}, 'Conta Smart': {}, 'Conta Futuro': {}, 'Conta Moeda Estrangeira e': {}, 'Conta ABANCA Internacional.': {}, 'Conta para clientes dos 18 aos 28 anos.': {}, 'Conta para clientes dos 0 aos 17 anos.': {}, 'General': {'Emissão de extrato': '0,00', 'Fotocópias de segundas vias de talões de depósito': '5,00', 'Manutenção de conta': '15,00', 'Manutenção de Conta Pacote': '0,00', 'Manutenção de Conta Base': '10,00', 'Levantamento de numerário': '0,00', 'Adesão ao serviço de banca à distância': '0,00', 'Depósito de moedas metálicas': '3,50', 'Depósito de moedas': '3,50', 'Alteração de titulares': '5,00'}}\n"
     ]
    }
   ],
   "source": [
    "abanca_out = abanca.output()"
   ]
  },
  {
   "cell_type": "code",
   "execution_count": 82,
   "metadata": {},
   "outputs": [
    {
     "data": {
      "text/plain": [
       "{'subproducts': {'Conta D.O.': {'Account maintenance': '10,00',\n",
       "   'Monthly statement': '0,00',\n",
       "   'Document copy': '5,00',\n",
       "   'Cash withdrawal': '0,00',\n",
       "   'Online banking': '0,00',\n",
       "   'Cash deposit': '3,50',\n",
       "   'Account owner change': '5,00'},\n",
       "  'Conta Ordenado': {'Account maintenance': '10,00',\n",
       "   'Monthly statement': '0,00',\n",
       "   'Document copy': '5,00',\n",
       "   'Cash withdrawal': '0,00',\n",
       "   'Online banking': '0,00',\n",
       "   'Cash deposit': '3,50',\n",
       "   'Account owner change': '5,00'},\n",
       "  'Conta Standard': {'Account maintenance': '10,00',\n",
       "   'Monthly statement': '0,00',\n",
       "   'Document copy': '5,00',\n",
       "   'Cash withdrawal': '0,00',\n",
       "   'Online banking': '0,00',\n",
       "   'Cash deposit': '3,50',\n",
       "   'Account owner change': '5,00'},\n",
       "  'Conta Future': {'Account maintenance': '10,00',\n",
       "   'Monthly statement': '0,00',\n",
       "   'Document copy': '5,00',\n",
       "   'Cash withdrawal': '0,00',\n",
       "   'Online banking': '0,00',\n",
       "   'Cash deposit': '3,50',\n",
       "   'Account owner change': '5,00'},\n",
       "  'Conta Kids': {'Account maintenance': '10,00',\n",
       "   'Monthly statement': '0,00',\n",
       "   'Document copy': '5,00',\n",
       "   'Cash withdrawal': '0,00',\n",
       "   'Online banking': '0,00',\n",
       "   'Cash deposit': '3,50',\n",
       "   'Account owner change': '5,00'},\n",
       "  'Conta Base': {'Account maintenance': '10,00',\n",
       "   'Monthly statement': '0,00',\n",
       "   'Document copy': '5,00',\n",
       "   'Cash withdrawal': '0,00',\n",
       "   'Online banking': '0,00',\n",
       "   'Cash deposit': '3,50',\n",
       "   'Account owner change': '5,00'},\n",
       "  'Conta Private': {'Account maintenance': '10,00',\n",
       "   'Monthly statement': '0,00',\n",
       "   'Document copy': '5,00',\n",
       "   'Cash withdrawal': '0,00',\n",
       "   'Online banking': '0,00',\n",
       "   'Cash deposit': '3,50',\n",
       "   'Account owner change': '5,00'},\n",
       "  'Conta Value': {'Account maintenance': '10,00',\n",
       "   'Monthly statement': '0,00',\n",
       "   'Document copy': '5,00',\n",
       "   'Cash withdrawal': '0,00',\n",
       "   'Online banking': '0,00',\n",
       "   'Cash deposit': '3,50',\n",
       "   'Account owner change': '5,00'},\n",
       "  'Conta Smart': {'Account maintenance': '10,00',\n",
       "   'Monthly statement': '0,00',\n",
       "   'Document copy': '5,00',\n",
       "   'Cash withdrawal': '0,00',\n",
       "   'Online banking': '0,00',\n",
       "   'Cash deposit': '3,50',\n",
       "   'Account owner change': '5,00'},\n",
       "  'Conta Futuro': {'Account maintenance': '10,00',\n",
       "   'Monthly statement': '0,00',\n",
       "   'Document copy': '5,00',\n",
       "   'Cash withdrawal': '0,00',\n",
       "   'Online banking': '0,00',\n",
       "   'Cash deposit': '3,50',\n",
       "   'Account owner change': '5,00'},\n",
       "  'Conta Moeda Estrangeira e': {'Account maintenance': '10,00',\n",
       "   'Monthly statement': '0,00',\n",
       "   'Document copy': '5,00',\n",
       "   'Cash withdrawal': '0,00',\n",
       "   'Online banking': '0,00',\n",
       "   'Cash deposit': '3,50',\n",
       "   'Account owner change': '5,00'},\n",
       "  'Conta ABANCA Internacional.': {'Account maintenance': '10,00',\n",
       "   'Monthly statement': '0,00',\n",
       "   'Document copy': '5,00',\n",
       "   'Cash withdrawal': '0,00',\n",
       "   'Online banking': '0,00',\n",
       "   'Cash deposit': '3,50',\n",
       "   'Account owner change': '5,00'},\n",
       "  'Conta para clientes dos 18 aos 28 anos.': {'Account maintenance': '10,00',\n",
       "   'Monthly statement': '0,00',\n",
       "   'Document copy': '5,00',\n",
       "   'Cash withdrawal': '0,00',\n",
       "   'Online banking': '0,00',\n",
       "   'Cash deposit': '3,50',\n",
       "   'Account owner change': '5,00'},\n",
       "  'Conta para clientes dos 0 aos 17 anos.': {'Account maintenance': '10,00',\n",
       "   'Monthly statement': '0,00',\n",
       "   'Document copy': '5,00',\n",
       "   'Cash withdrawal': '0,00',\n",
       "   'Online banking': '0,00',\n",
       "   'Cash deposit': '3,50',\n",
       "   'Account owner change': '5,00'},\n",
       "  'General': {'Account maintenance': '10,00',\n",
       "   'Monthly statement': '0,00',\n",
       "   'Document copy': '5,00',\n",
       "   'Cash withdrawal': '0,00',\n",
       "   'Online banking': '0,00',\n",
       "   'Cash deposit': '3,50',\n",
       "   'Account owner change': '5,00'}},\n",
       " 'n_subproducts': 14}"
      ]
     },
     "execution_count": 82,
     "metadata": {},
     "output_type": "execute_result"
    }
   ],
   "source": [
    "abanca_out"
   ]
  },
  {
   "cell_type": "code",
   "execution_count": 72,
   "metadata": {},
   "outputs": [],
   "source": [
    "change_name = {'statement':'Monthly statement',\n",
    "                'documents_copy':'Document copy',\n",
    "               'acc_manteinance':'Account maintenance',\n",
    "               'withdraw':'Cash withdrawal',\n",
    "               'online_service':'Online banking',\n",
    "               'cash_deposit':'Cash deposit',\n",
    "               'change_holder':'Account owner change',\n",
    "                'movement_consultation':'Consultation',\n",
    "              'balance_inquiry':'Balance inquiry'}"
   ]
  },
  {
   "cell_type": "code",
   "execution_count": 80,
   "metadata": {},
   "outputs": [
    {
     "data": {
      "text/plain": [
       "{'Conta D.O.': {'Account maintenance': '10,00',\n",
       "  'Monthly statement': '0,00',\n",
       "  'Document copy': '5,00',\n",
       "  'Cash withdrawal': '0,00',\n",
       "  'Online banking': '0,00',\n",
       "  'Cash deposit': '3,50',\n",
       "  'Account owner change': '5,00'},\n",
       " 'Conta Ordenado': {'Account maintenance': '10,00',\n",
       "  'Monthly statement': '0,00',\n",
       "  'Document copy': '5,00',\n",
       "  'Cash withdrawal': '0,00',\n",
       "  'Online banking': '0,00',\n",
       "  'Cash deposit': '3,50',\n",
       "  'Account owner change': '5,00'},\n",
       " 'Conta Standard': {'Account maintenance': '10,00',\n",
       "  'Monthly statement': '0,00',\n",
       "  'Document copy': '5,00',\n",
       "  'Cash withdrawal': '0,00',\n",
       "  'Online banking': '0,00',\n",
       "  'Cash deposit': '3,50',\n",
       "  'Account owner change': '5,00'},\n",
       " 'Conta Future': {'Account maintenance': '10,00',\n",
       "  'Monthly statement': '0,00',\n",
       "  'Document copy': '5,00',\n",
       "  'Cash withdrawal': '0,00',\n",
       "  'Online banking': '0,00',\n",
       "  'Cash deposit': '3,50',\n",
       "  'Account owner change': '5,00'},\n",
       " 'Conta Kids': {'Account maintenance': '10,00',\n",
       "  'Monthly statement': '0,00',\n",
       "  'Document copy': '5,00',\n",
       "  'Cash withdrawal': '0,00',\n",
       "  'Online banking': '0,00',\n",
       "  'Cash deposit': '3,50',\n",
       "  'Account owner change': '5,00'},\n",
       " 'Conta Base': {'Account maintenance': '10,00',\n",
       "  'Monthly statement': '0,00',\n",
       "  'Document copy': '5,00',\n",
       "  'Cash withdrawal': '0,00',\n",
       "  'Online banking': '0,00',\n",
       "  'Cash deposit': '3,50',\n",
       "  'Account owner change': '5,00'},\n",
       " 'Conta Private': {'Account maintenance': '10,00',\n",
       "  'Monthly statement': '0,00',\n",
       "  'Document copy': '5,00',\n",
       "  'Cash withdrawal': '0,00',\n",
       "  'Online banking': '0,00',\n",
       "  'Cash deposit': '3,50',\n",
       "  'Account owner change': '5,00'},\n",
       " 'Conta Value': {'Account maintenance': '10,00',\n",
       "  'Monthly statement': '0,00',\n",
       "  'Document copy': '5,00',\n",
       "  'Cash withdrawal': '0,00',\n",
       "  'Online banking': '0,00',\n",
       "  'Cash deposit': '3,50',\n",
       "  'Account owner change': '5,00'},\n",
       " 'Conta Smart': {'Account maintenance': '10,00',\n",
       "  'Monthly statement': '0,00',\n",
       "  'Document copy': '5,00',\n",
       "  'Cash withdrawal': '0,00',\n",
       "  'Online banking': '0,00',\n",
       "  'Cash deposit': '3,50',\n",
       "  'Account owner change': '5,00'},\n",
       " 'Conta Futuro': {'Account maintenance': '10,00',\n",
       "  'Monthly statement': '0,00',\n",
       "  'Document copy': '5,00',\n",
       "  'Cash withdrawal': '0,00',\n",
       "  'Online banking': '0,00',\n",
       "  'Cash deposit': '3,50',\n",
       "  'Account owner change': '5,00'},\n",
       " 'Conta Moeda Estrangeira e': {'Account maintenance': '10,00',\n",
       "  'Monthly statement': '0,00',\n",
       "  'Document copy': '5,00',\n",
       "  'Cash withdrawal': '0,00',\n",
       "  'Online banking': '0,00',\n",
       "  'Cash deposit': '3,50',\n",
       "  'Account owner change': '5,00'},\n",
       " 'Conta ABANCA Internacional.': {'Account maintenance': '10,00',\n",
       "  'Monthly statement': '0,00',\n",
       "  'Document copy': '5,00',\n",
       "  'Cash withdrawal': '0,00',\n",
       "  'Online banking': '0,00',\n",
       "  'Cash deposit': '3,50',\n",
       "  'Account owner change': '5,00'},\n",
       " 'Conta para clientes dos 18 aos 28 anos.': {'Account maintenance': '10,00',\n",
       "  'Monthly statement': '0,00',\n",
       "  'Document copy': '5,00',\n",
       "  'Cash withdrawal': '0,00',\n",
       "  'Online banking': '0,00',\n",
       "  'Cash deposit': '3,50',\n",
       "  'Account owner change': '5,00'},\n",
       " 'Conta para clientes dos 0 aos 17 anos.': {'Account maintenance': '10,00',\n",
       "  'Monthly statement': '0,00',\n",
       "  'Document copy': '5,00',\n",
       "  'Cash withdrawal': '0,00',\n",
       "  'Online banking': '0,00',\n",
       "  'Cash deposit': '3,50',\n",
       "  'Account owner change': '5,00'},\n",
       " 'General': {'Account maintenance': '10,00',\n",
       "  'Monthly statement': '0,00',\n",
       "  'Document copy': '5,00',\n",
       "  'Cash withdrawal': '0,00',\n",
       "  'Online banking': '0,00',\n",
       "  'Cash deposit': '3,50',\n",
       "  'Account owner change': '5,00'}}"
      ]
     },
     "execution_count": 80,
     "metadata": {},
     "output_type": "execute_result"
    }
   ],
   "source": [
    "newone = {}\n",
    "beautiful = {}\n",
    "for account in abanca_out['subproducts']:\n",
    "#     print(account)\n",
    "    for commission,value in abanca_out['subproducts'][account].items():\n",
    "        for k,b in change_name.items():\n",
    "            if commission == k:\n",
    "#                 print(b)\n",
    "                beautiful[b]=value\n",
    "        newone[account]=beautiful\n",
    "newone"
   ]
  },
  {
   "cell_type": "code",
   "execution_count": null,
   "metadata": {},
   "outputs": [],
   "source": []
  }
 ],
 "metadata": {
  "kernelspec": {
   "display_name": "Python 3",
   "language": "python",
   "name": "python3"
  },
  "language_info": {
   "codemirror_mode": {
    "name": "ipython",
    "version": 3
   },
   "file_extension": ".py",
   "mimetype": "text/x-python",
   "name": "python",
   "nbconvert_exporter": "python",
   "pygments_lexer": "ipython3",
   "version": "3.8.6"
  },
  "toc": {
   "base_numbering": 1,
   "nav_menu": {},
   "number_sections": true,
   "sideBar": true,
   "skip_h1_title": false,
   "title_cell": "Table of Contents",
   "title_sidebar": "Contents",
   "toc_cell": false,
   "toc_position": {},
   "toc_section_display": true,
   "toc_window_display": false
  }
 },
 "nbformat": 4,
 "nbformat_minor": 4
}
