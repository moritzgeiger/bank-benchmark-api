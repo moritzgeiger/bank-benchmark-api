{
 "cells": [
  {
   "cell_type": "code",
   "execution_count": 6,
   "metadata": {},
   "outputs": [],
   "source": [
    "import pandas as pd \n",
    "import numpy as np \n",
    "import pdfplumber"
   ]
  },
  {
   "cell_type": "code",
   "execution_count": 7,
   "metadata": {},
   "outputs": [],
   "source": [
    "ctt_file = pdfplumber.open('ctt.pdf')\n",
    "ctt_page5 = ctt_file.pages[4]\n",
    "chars = ctt_page5.chars[4]"
   ]
  },
  {
   "cell_type": "code",
   "execution_count": 8,
   "metadata": {},
   "outputs": [
    {
     "data": {
      "text/plain": [
       "{'fontname': 'VPACID+Arial,Bold',\n",
       " 'adv': Decimal('5.534'),\n",
       " 'upright': True,\n",
       " 'x0': Decimal('441.389'),\n",
       " 'y0': Decimal('790.495'),\n",
       " 'x1': Decimal('446.923'),\n",
       " 'y1': Decimal('800.455'),\n",
       " 'width': Decimal('5.534'),\n",
       " 'height': Decimal('9.960'),\n",
       " 'size': Decimal('9.960'),\n",
       " 'object_type': 'char',\n",
       " 'page_number': 5,\n",
       " 'stroking_color': None,\n",
       " 'non_stroking_color': [0.8, 0.2, 0],\n",
       " 'text': 'a',\n",
       " 'top': Decimal('41.545'),\n",
       " 'bottom': Decimal('51.505'),\n",
       " 'doctop': Decimal('3409.545')}"
      ]
     },
     "execution_count": 8,
     "metadata": {},
     "output_type": "execute_result"
    }
   ],
   "source": [
    "chars"
   ]
  },
  {
   "cell_type": "code",
   "execution_count": 157,
   "metadata": {},
   "outputs": [],
   "source": [
    "# pd.DataFrame(pages[4].extract_tables()[0])"
   ]
  },
  {
   "cell_type": "code",
   "execution_count": 80,
   "metadata": {},
   "outputs": [],
   "source": [
    "pages = ctt_file.pages\n",
    "table = pages[4].extract_table(table_settings= {\"horizontal_strategy\": \"lines\", \"keep_blank_chars\": True,\"text_y_tolerance\": 10, 'text_x_tolerance':20})"
   ]
  },
  {
   "cell_type": "code",
   "execution_count": 151,
   "metadata": {},
   "outputs": [],
   "source": [
    "df = pd.DataFrame(table)\n",
    "df=df.drop(columns= [0,2,7,8,9])\n",
    "df = df.drop([0,1,2])"
   ]
  },
  {
   "cell_type": "code",
   "execution_count": 152,
   "metadata": {},
   "outputs": [],
   "source": [
    "def new_df(x):\n",
    "    return x.replace(np.nan, '*')     "
   ]
  },
  {
   "cell_type": "code",
   "execution_count": 154,
   "metadata": {},
   "outputs": [],
   "source": [
    "df= df.apply(new_df, axis = 1)\n",
    "df = df.set_index(keys= 1)"
   ]
  },
  {
   "cell_type": "code",
   "execution_count": 158,
   "metadata": {},
   "outputs": [
    {
     "data": {
      "text/plain": [
       "Index(['', '*',\n",
       "       'Contas de Depósito à Ordem (Comissões aplicáveis a todas as Contas)',\n",
       "       'Comissões durante a vigência do contrato',\n",
       "       '1.Extrato Integrado mensal',\n",
       "       '2.Consulta de Saldo de conta DO com comprovativo',\n",
       "       '3.Consulta de Movimentos de conta DO com\\ncomprovativo',\n",
       "       '4.Emissão 2ªs Vias de Avisos e Outros Documentos',\n",
       "       '5.Emissão 2ª Via - Extrato Integrado', 'Conta Banco CTT',\n",
       "       'Comissões durante a vigência do contrato',\n",
       "       '1.Comissões por descoberto bancário',\n",
       "       '2.Levantamento de Numerário ao Balcão\\nA partir de 2 levantamentos ao Balcão, inclusivé',\n",
       "       '3.Depósito em moeda metálica (>= 100 moedas)',\n",
       "       '4.Comissão de manutenção de conta',\n",
       "       '5.Alteração de titularidade (titular/ representante)', '*',\n",
       "       'Conta Júnior (Montante Mínimo de Abertura 25,00€)',\n",
       "       'Comissões durante a vigência do contrato',\n",
       "       '1.Levantamento de Numerário ao Balcão', '*',\n",
       "       '2.Depósito em moeda metálica (>= 100 moedas)',\n",
       "       '3.Comissão de manutenção de conta', '*',\n",
       "       '4.Alteração de titularidade (titular/ representante)', '*',\n",
       "       'Conta Base (Montante Mínimo de Abertura 100,00€)', '*', '',\n",
       "       'Comissões durante a vigência do contrato', '',\n",
       "       '1.Levantamento de Numerário ao Balcão\\nA partir de 4 levantamentos ao Balcão, inclusivé',\n",
       "       '*', '2.Depósito em moeda metálica (>= 100 moedas)', '*', '*',\n",
       "       '3.Comissão de manutenção de conta',\n",
       "       '4.Alteração de titularidade (titular/ representante)',\n",
       "       'Conta de Serviços Mínimos Bancários',\n",
       "       'Comissões durante a vigência do contrato',\n",
       "       '1.Levantamento de Numerário ao Balcão',\n",
       "       '2.Depósito em moeda metálica (>= 100 moedas)', '',\n",
       "       '3.Comissão de manutenção de conta',\n",
       "       '4.Transferências através de aplicações de pagamento\\noperadas por terceiros'],\n",
       "      dtype='object', name=1)"
      ]
     },
     "execution_count": 158,
     "metadata": {},
     "output_type": "execute_result"
    }
   ],
   "source": [
    "df.index"
   ]
  },
  {
   "cell_type": "code",
   "execution_count": 141,
   "metadata": {},
   "outputs": [],
   "source": [
    "def drop_descriptions(df):\n",
    "    for x in list(df.columns):\n",
    "        if df.iloc[:,x].isnull().sum() == df.shape[0]:\n",
    "            df.drop(x, inplace = True)\n",
    "    return df"
   ]
  },
  {
   "cell_type": "code",
   "execution_count": 142,
   "metadata": {},
   "outputs": [
    {
     "data": {
      "text/plain": [
       "*    47\n",
       "      1\n",
       "Name: 7, dtype: int64"
      ]
     },
     "execution_count": 142,
     "metadata": {},
     "output_type": "execute_result"
    }
   ],
   "source": [
    "# df.iloc[:,9].isnull().sum()\n",
    "df.iloc[:,6].value_counts()"
   ]
  },
  {
   "cell_type": "code",
   "execution_count": 162,
   "metadata": {},
   "outputs": [],
   "source": [
    "table = pages[16].extract_tables(table_settings= {\"horizontal_strategy\": \"lines\", \"keep_blank_chars\": True,\"text_y_tolerance\": 10, 'text_x_tolerance':20})"
   ]
  },
  {
   "cell_type": "code",
   "execution_count": 163,
   "metadata": {},
   "outputs": [],
   "source": [
    "df = pd.DataFrame(table[0])"
   ]
  },
  {
   "cell_type": "code",
   "execution_count": 164,
   "metadata": {},
   "outputs": [
    {
     "data": {
      "text/html": [
       "<div>\n",
       "<style scoped>\n",
       "    .dataframe tbody tr th:only-of-type {\n",
       "        vertical-align: middle;\n",
       "    }\n",
       "\n",
       "    .dataframe tbody tr th {\n",
       "        vertical-align: top;\n",
       "    }\n",
       "\n",
       "    .dataframe thead th {\n",
       "        text-align: right;\n",
       "    }\n",
       "</style>\n",
       "<table border=\"1\" class=\"dataframe\">\n",
       "  <thead>\n",
       "    <tr style=\"text-align: right;\">\n",
       "      <th></th>\n",
       "      <th>0</th>\n",
       "      <th>1</th>\n",
       "      <th>2</th>\n",
       "      <th>3</th>\n",
       "      <th>4</th>\n",
       "      <th>5</th>\n",
       "      <th>6</th>\n",
       "      <th>7</th>\n",
       "    </tr>\n",
       "  </thead>\n",
       "  <tbody>\n",
       "    <tr>\n",
       "      <th>0</th>\n",
       "      <td>Entrada em Vigor: 15-Mar-2021 \\n17.CONTAS DE D...</td>\n",
       "      <td>None</td>\n",
       "      <td>None</td>\n",
       "      <td>None</td>\n",
       "      <td>None</td>\n",
       "      <td>None</td>\n",
       "      <td>None</td>\n",
       "      <td>None</td>\n",
       "    </tr>\n",
       "    <tr>\n",
       "      <th>1</th>\n",
       "      <td></td>\n",
       "      <td>None</td>\n",
       "      <td>None</td>\n",
       "      <td>None</td>\n",
       "      <td>None</td>\n",
       "      <td>None</td>\n",
       "      <td>None</td>\n",
       "      <td>None</td>\n",
       "    </tr>\n",
       "    <tr>\n",
       "      <th>2</th>\n",
       "      <td>17.1. D</td>\n",
       "      <td>None</td>\n",
       "      <td>epósit</td>\n",
       "      <td>os à ordem</td>\n",
       "      <td>None</td>\n",
       "      <td>None</td>\n",
       "      <td>None</td>\n",
       "      <td>None</td>\n",
       "    </tr>\n",
       "    <tr>\n",
       "      <th>3</th>\n",
       "      <td></td>\n",
       "      <td></td>\n",
       "      <td></td>\n",
       "      <td>None</td>\n",
       "      <td>Taxa Anual</td>\n",
       "      <td></td>\n",
       "      <td></td>\n",
       "      <td></td>\n",
       "    </tr>\n",
       "    <tr>\n",
       "      <th>4</th>\n",
       "      <td></td>\n",
       "      <td>None</td>\n",
       "      <td>None</td>\n",
       "      <td>None</td>\n",
       "      <td>Nominal Bruta \\n(TANB)</td>\n",
       "      <td>Regime Fiscal</td>\n",
       "      <td>Outras condições</td>\n",
       "      <td></td>\n",
       "    </tr>\n",
       "    <tr>\n",
       "      <th>5</th>\n",
       "      <td></td>\n",
       "      <td>Renumeração de saldo</td>\n",
       "      <td>None</td>\n",
       "      <td>None</td>\n",
       "      <td>None</td>\n",
       "      <td>None</td>\n",
       "      <td>None</td>\n",
       "      <td></td>\n",
       "    </tr>\n",
       "    <tr>\n",
       "      <th>6</th>\n",
       "      <td></td>\n",
       "      <td>Conta Base</td>\n",
       "      <td>None</td>\n",
       "      <td>None</td>\n",
       "      <td>0,00%</td>\n",
       "      <td>--</td>\n",
       "      <td>Mínimo de abertura de conta: 100,00€\\n--\\n--\\n...</td>\n",
       "      <td></td>\n",
       "    </tr>\n",
       "    <tr>\n",
       "      <th>7</th>\n",
       "      <td>None</td>\n",
       "      <td>Conta de Serviços Mínimos Bancários</td>\n",
       "      <td>None</td>\n",
       "      <td>None</td>\n",
       "      <td>0,00%</td>\n",
       "      <td>None</td>\n",
       "      <td>None</td>\n",
       "      <td>None</td>\n",
       "    </tr>\n",
       "    <tr>\n",
       "      <th>8</th>\n",
       "      <td>None</td>\n",
       "      <td>Conta Banco CTT</td>\n",
       "      <td>None</td>\n",
       "      <td>None</td>\n",
       "      <td>0,00%</td>\n",
       "      <td>None</td>\n",
       "      <td>None</td>\n",
       "      <td>None</td>\n",
       "    </tr>\n",
       "    <tr>\n",
       "      <th>9</th>\n",
       "      <td></td>\n",
       "      <td>Conta Junior</td>\n",
       "      <td>None</td>\n",
       "      <td>None</td>\n",
       "      <td>0,00%</td>\n",
       "      <td></td>\n",
       "      <td>None</td>\n",
       "      <td>None</td>\n",
       "    </tr>\n",
       "    <tr>\n",
       "      <th>10</th>\n",
       "      <td></td>\n",
       "      <td>None</td>\n",
       "      <td>None</td>\n",
       "      <td>None</td>\n",
       "      <td>None</td>\n",
       "      <td>None</td>\n",
       "      <td>None</td>\n",
       "      <td>None</td>\n",
       "    </tr>\n",
       "  </tbody>\n",
       "</table>\n",
       "</div>"
      ],
      "text/plain": [
       "                                                    0  \\\n",
       "0   Entrada em Vigor: 15-Mar-2021 \\n17.CONTAS DE D...   \n",
       "1                                                       \n",
       "2                                             17.1. D   \n",
       "3                                                       \n",
       "4                                                       \n",
       "5                                                       \n",
       "6                                                       \n",
       "7                                                None   \n",
       "8                                                None   \n",
       "9                                                       \n",
       "10                                                      \n",
       "\n",
       "                                      1       2           3  \\\n",
       "0                                  None    None        None   \n",
       "1                                  None    None        None   \n",
       "2                                  None  epósit  os à ordem   \n",
       "3                                                      None   \n",
       "4                                  None    None        None   \n",
       "5                  Renumeração de saldo    None        None   \n",
       "6                            Conta Base    None        None   \n",
       "7   Conta de Serviços Mínimos Bancários    None        None   \n",
       "8                       Conta Banco CTT    None        None   \n",
       "9                          Conta Junior    None        None   \n",
       "10                                 None    None        None   \n",
       "\n",
       "                         4              5  \\\n",
       "0                     None           None   \n",
       "1                     None           None   \n",
       "2                     None           None   \n",
       "3               Taxa Anual                  \n",
       "4   Nominal Bruta \\n(TANB)  Regime Fiscal   \n",
       "5                     None           None   \n",
       "6                    0,00%             --   \n",
       "7                    0,00%           None   \n",
       "8                    0,00%           None   \n",
       "9                    0,00%                  \n",
       "10                    None           None   \n",
       "\n",
       "                                                    6     7  \n",
       "0                                                None  None  \n",
       "1                                                None  None  \n",
       "2                                                None  None  \n",
       "3                                                            \n",
       "4                                    Outras condições        \n",
       "5                                                None        \n",
       "6   Mínimo de abertura de conta: 100,00€\\n--\\n--\\n...        \n",
       "7                                                None  None  \n",
       "8                                                None  None  \n",
       "9                                                None  None  \n",
       "10                                               None  None  "
      ]
     },
     "execution_count": 164,
     "metadata": {},
     "output_type": "execute_result"
    }
   ],
   "source": [
    "df"
   ]
  },
  {
   "cell_type": "code",
   "execution_count": null,
   "metadata": {},
   "outputs": [],
   "source": []
  }
 ],
 "metadata": {
  "kernelspec": {
   "display_name": "Python 3",
   "language": "python",
   "name": "python3"
  },
  "language_info": {
   "codemirror_mode": {
    "name": "ipython",
    "version": 3
   },
   "file_extension": ".py",
   "mimetype": "text/x-python",
   "name": "python",
   "nbconvert_exporter": "python",
   "pygments_lexer": "ipython3",
   "version": "3.8.6"
  },
  "toc": {
   "base_numbering": 1,
   "nav_menu": {},
   "number_sections": true,
   "sideBar": true,
   "skip_h1_title": false,
   "title_cell": "Table of Contents",
   "title_sidebar": "Contents",
   "toc_cell": false,
   "toc_position": {},
   "toc_section_display": true,
   "toc_window_display": false
  }
 },
 "nbformat": 4,
 "nbformat_minor": 4
}
